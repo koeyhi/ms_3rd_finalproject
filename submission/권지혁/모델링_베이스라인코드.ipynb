{
 "cells": [
  {
   "cell_type": "code",
   "execution_count": 1,
   "metadata": {},
   "outputs": [
    {
     "name": "stderr",
     "output_type": "stream",
     "text": [
      "'sudo'��(��) ���� �Ǵ� �ܺ� ����, ������ �� �ִ� ���α׷�, �Ǵ�\n",
      "��ġ ������ �ƴմϴ�.\n",
      "'sudo'��(��) ���� �Ǵ� �ܺ� ����, ������ �� �ִ� ���α׷�, �Ǵ�\n",
      "��ġ ������ �ƴմϴ�.\n"
     ]
    }
   ],
   "source": [
    "import matplotlib\n",
    "from matplotlib import font_manager\n",
    "\n",
    "!sudo apt-get install -y fonts-nanum\n",
    "!sudo fc-cache -fv\n",
    "\n",
    "fontpaths = [\"C:/Users/kwon3/AppData/Local/Microsoft/Windows/Fonts/NanumGothicBold.ttf\"]\n",
    "font_files = font_manager.findSystemFonts(fontpaths=fontpaths)\n",
    "\n",
    "for ff in font_files:\n",
    "    font_manager.fontManager.addfont(ff)\n",
    "\n",
    "matplotlib.rc('font', family=\"Malgun Gothic\")\n",
    "matplotlib.rcParams['axes.unicode_minus'] = False"
   ]
  },
  {
   "cell_type": "code",
   "execution_count": 2,
   "metadata": {
    "colab": {
     "base_uri": "https://localhost:8080/"
    },
    "executionInfo": {
     "elapsed": 2373,
     "status": "ok",
     "timestamp": 1730269751697,
     "user": {
      "displayName": "koeyhi",
      "userId": "08049178071858703986"
     },
     "user_tz": -540
    },
    "id": "N44QYORV8wFy",
    "outputId": "c67d746e-c038-46c3-c4a6-12e2bfb4c4c2"
   },
   "outputs": [],
   "source": [
    "# from google.colab import drive\n",
    "# drive.mount('/content/drive')"
   ]
  },
  {
   "cell_type": "markdown",
   "metadata": {
    "id": "ZhUuXRB5BCFE"
   },
   "source": [
    "- 데이터 경로 변수"
   ]
  },
  {
   "cell_type": "code",
   "execution_count": 3,
   "metadata": {
    "colab": {
     "base_uri": "https://localhost:8080/",
     "height": 35
    },
    "executionInfo": {
     "elapsed": 4,
     "status": "ok",
     "timestamp": 1730269751697,
     "user": {
      "displayName": "koeyhi",
      "userId": "08049178071858703986"
     },
     "user_tz": -540
    },
    "id": "NfX2HPof87FT",
    "outputId": "c78f61ea-4061-4239-8d9a-69596aaea196"
   },
   "outputs": [],
   "source": [
    "# DATA_PATH = \"/content/drive/MyDrive/파이널프로젝트/data/\"\n",
    "# DATA_PATH"
   ]
  },
  {
   "cell_type": "code",
   "execution_count": 4,
   "metadata": {},
   "outputs": [
    {
     "data": {
      "text/plain": [
       "'data/'"
      ]
     },
     "execution_count": 4,
     "metadata": {},
     "output_type": "execute_result"
    }
   ],
   "source": [
    "DATA_PATH = \"data/\"\n",
    "DATA_PATH"
   ]
  },
  {
   "cell_type": "markdown",
   "metadata": {
    "id": "q1qAeLjZVWZz"
   },
   "source": [
    "- 시드값"
   ]
  },
  {
   "cell_type": "code",
   "execution_count": 5,
   "metadata": {
    "executionInfo": {
     "elapsed": 3,
     "status": "ok",
     "timestamp": 1730269751697,
     "user": {
      "displayName": "koeyhi",
      "userId": "08049178071858703986"
     },
     "user_tz": -540
    },
    "id": "nVyhJ6uOVVNE"
   },
   "outputs": [],
   "source": [
    "SEED = 42"
   ]
  },
  {
   "cell_type": "markdown",
   "metadata": {
    "id": "sQd7JpzNBHa1"
   },
   "source": [
    "- 데이터 불러오기"
   ]
  },
  {
   "cell_type": "code",
   "execution_count": 6,
   "metadata": {
    "colab": {
     "base_uri": "https://localhost:8080/"
    },
    "executionInfo": {
     "elapsed": 3363,
     "status": "ok",
     "timestamp": 1730269755057,
     "user": {
      "displayName": "koeyhi",
      "userId": "08049178071858703986"
     },
     "user_tz": -540
    },
    "id": "KFGKUIWt89fZ",
    "outputId": "71de9db2-3cde-484d-bf38-d478119d222f"
   },
   "outputs": [
    {
     "data": {
      "text/plain": [
       "((523105, 7), (14940, 2), (441196, 7), (12225, 2))"
      ]
     },
     "execution_count": 6,
     "metadata": {},
     "output_type": "execute_result"
    }
   ],
   "source": [
    "import pandas as pd\n",
    "import numpy as np\n",
    "\n",
    "train_tr = pd.read_csv(f\"{DATA_PATH}store_train_transactions.csv\") # 학습용 구매기록 데이터\n",
    "train_target = pd.read_csv(f\"{DATA_PATH}store_train.csv\") # 학습용 정답 데이터\n",
    "test_tr = pd.read_csv(f\"{DATA_PATH}store_test_transactions.csv\") # 테스트용 구매기록 데이터\n",
    "submit = pd.read_csv(f\"{DATA_PATH}store_submission.csv\") # 제출 양식 데이터\n",
    "\n",
    "train_tr.shape , train_target.shape , test_tr.shape , submit.shape"
   ]
  },
  {
   "cell_type": "markdown",
   "metadata": {
    "id": "XZq4x4CuP2gr"
   },
   "source": [
    "- 공통 피처 파일 불러오기"
   ]
  },
  {
   "cell_type": "code",
   "execution_count": 7,
   "metadata": {
    "colab": {
     "base_uri": "https://localhost:8080/"
    },
    "executionInfo": {
     "elapsed": 1741,
     "status": "ok",
     "timestamp": 1730269756796,
     "user": {
      "displayName": "koeyhi",
      "userId": "08049178071858703986"
     },
     "user_tz": -540
    },
    "id": "T3tcFrkLPv1g",
    "outputId": "31ea41a2-0d8b-4e97-c431-e584aab30619"
   },
   "outputs": [
    {
     "data": {
      "text/plain": [
       "((14940, 798), (12225, 798))"
      ]
     },
     "execution_count": 7,
     "metadata": {},
     "output_type": "execute_result"
    }
   ],
   "source": [
    "train_ft = pd.read_csv(f\"{DATA_PATH}train_common.csv\") # 학습 데이터(피처)\n",
    "test_ft = pd.read_csv(f\"{DATA_PATH}test_common.csv\") # 테스트 데이터(피처)\n",
    "\n",
    "train_ft.shape , test_ft.shape"
   ]
  },
  {
   "cell_type": "code",
   "execution_count": 8,
   "metadata": {},
   "outputs": [],
   "source": [
    "# cols = []\n",
    "\n",
    "# train_ft.drop(columns=cols, inplace=True)\n",
    "# test_ft.drop(columns=cols, inplace=True)\n",
    "# train_ft.shape, test_ft.shape"
   ]
  },
  {
   "cell_type": "code",
   "execution_count": 9,
   "metadata": {},
   "outputs": [],
   "source": [
    "# cols = train_ft.columns[train_ft.columns.str.startswith(\"지점코드_구매합계_\")]\n",
    "# train_ft.drop(columns=cols, inplace=True)\n",
    "# test_ft.drop(columns=cols, inplace=True)\n",
    "\n",
    "# train_ft.shape, test_ft.shape"
   ]
  },
  {
   "cell_type": "code",
   "execution_count": 10,
   "metadata": {},
   "outputs": [],
   "source": [
    "# train_ft.to_csv(f\"{DATA_PATH}train_common.csv\", index=False)\n",
    "# test_ft.to_csv(f\"{DATA_PATH}test_common.csv\", index=False)"
   ]
  },
  {
   "cell_type": "markdown",
   "metadata": {},
   "source": [
    "- 정답 데이터"
   ]
  },
  {
   "cell_type": "code",
   "execution_count": 11,
   "metadata": {},
   "outputs": [
    {
     "data": {
      "text/plain": [
       "0        1.0\n",
       "1        1.0\n",
       "2        0.0\n",
       "3        0.0\n",
       "4        0.0\n",
       "        ... \n",
       "14935    0.0\n",
       "14936    0.0\n",
       "14937    0.0\n",
       "14938    1.0\n",
       "14939    1.0\n",
       "Name: target, Length: 14940, dtype: float64"
      ]
     },
     "execution_count": 11,
     "metadata": {},
     "output_type": "execute_result"
    }
   ],
   "source": [
    "target = train_target[\"target\"]\n",
    "target"
   ]
  },
  {
   "cell_type": "markdown",
   "metadata": {
    "id": "r43SCHUujW-f"
   },
   "source": [
    "# 결측치 처리"
   ]
  },
  {
   "cell_type": "code",
   "execution_count": 12,
   "metadata": {
    "colab": {
     "base_uri": "https://localhost:8080/",
     "height": 115
    },
    "executionInfo": {
     "elapsed": 18,
     "status": "ok",
     "timestamp": 1730269756796,
     "user": {
      "displayName": "koeyhi",
      "userId": "08049178071858703986"
     },
     "user_tz": -540
    },
    "id": "0qVrhIG3Q6T3",
    "outputId": "14080301-7bdb-4e7f-ced1-4b5b8dc2bd03"
   },
   "outputs": [
    {
     "data": {
      "text/plain": [
       "구매금액표준편차          405\n",
       "구매금액_skew         880\n",
       "구매금액_kurtosis    1340\n",
       "구매금액_변동성          405\n",
       "환불건수             6221\n",
       "총환불금액            6221\n",
       "평균환불금액           6221\n",
       "최소환불금액           6221\n",
       "최대환불금액           6221\n",
       "환불금액표준편차         9222\n",
       "고가제품환불비율         6221\n",
       "중가제품환불비율         6221\n",
       "저가제품환불비율         6221\n",
       "구매금액_대비_환불금액     6221\n",
       "환불건수_대비_구매건수     6221\n",
       "dtype: int64"
      ]
     },
     "execution_count": 12,
     "metadata": {},
     "output_type": "execute_result"
    }
   ],
   "source": [
    "mask = train_ft.isnull().sum() > 0\n",
    "train_ft.isnull().sum()[mask]"
   ]
  },
  {
   "cell_type": "code",
   "execution_count": 13,
   "metadata": {
    "colab": {
     "base_uri": "https://localhost:8080/",
     "height": 115
    },
    "executionInfo": {
     "elapsed": 17,
     "status": "ok",
     "timestamp": 1730269756796,
     "user": {
      "displayName": "koeyhi",
      "userId": "08049178071858703986"
     },
     "user_tz": -540
    },
    "id": "51Fu8zq9Q6Q8",
    "outputId": "c3f9b1c2-3af9-4c3f-b7c7-40f1549f3cfa"
   },
   "outputs": [
    {
     "data": {
      "text/plain": [
       "구매금액표준편차          262\n",
       "구매금액_skew         631\n",
       "구매금액_kurtosis    1006\n",
       "구매금액_변동성          262\n",
       "환불건수             4972\n",
       "총환불금액            4972\n",
       "평균환불금액           4972\n",
       "최소환불금액           4972\n",
       "최대환불금액           4972\n",
       "환불금액표준편차         7347\n",
       "고가제품환불비율         4972\n",
       "중가제품환불비율         4972\n",
       "저가제품환불비율         4972\n",
       "구매금액_대비_환불금액     4972\n",
       "환불건수_대비_구매건수     4972\n",
       "dtype: int64"
      ]
     },
     "execution_count": 13,
     "metadata": {},
     "output_type": "execute_result"
    }
   ],
   "source": [
    "mask = test_ft.isnull().sum() > 0\n",
    "test_ft.isnull().sum()[mask]"
   ]
  },
  {
   "cell_type": "markdown",
   "metadata": {
    "id": "fgPa4QG0RF2d"
   },
   "source": [
    "# 특성 공학(Feature Engineering)"
   ]
  },
  {
   "cell_type": "markdown",
   "metadata": {
    "id": "OXuo6unbRLGm"
   },
   "source": [
    "- ID 변수 제외"
   ]
  },
  {
   "cell_type": "code",
   "execution_count": 14,
   "metadata": {
    "colab": {
     "base_uri": "https://localhost:8080/"
    },
    "executionInfo": {
     "elapsed": 17,
     "status": "ok",
     "timestamp": 1730269756797,
     "user": {
      "displayName": "koeyhi",
      "userId": "08049178071858703986"
     },
     "user_tz": -540
    },
    "id": "xfksFVguRFuZ",
    "outputId": "39f354f5-84bc-4b11-db93-0973c2627455"
   },
   "outputs": [
    {
     "data": {
      "text/plain": [
       "((14940, 797), (12225, 797))"
      ]
     },
     "execution_count": 14,
     "metadata": {},
     "output_type": "execute_result"
    }
   ],
   "source": [
    "train_ft = train_ft.iloc[:,1:]\n",
    "test_ft = test_ft.iloc[:,1:]\n",
    "train_ft.shape, test_ft.shape"
   ]
  },
  {
   "cell_type": "markdown",
   "metadata": {
    "id": "jjuSj8URRa_q"
   },
   "source": [
    "- 추가 피처 만들어 보기"
   ]
  },
  {
   "cell_type": "code",
   "execution_count": 15,
   "metadata": {},
   "outputs": [
    {
     "data": {
      "text/plain": [
       "((14940, 800), (12225, 800))"
      ]
     },
     "execution_count": 15,
     "metadata": {},
     "output_type": "execute_result"
    }
   ],
   "source": [
    "cols = [ col for col in train_ft.columns if col.startswith(\"지점코드_구매횟수_\") ]\n",
    "\n",
    "train_ft[\"지점코드별_구매횟수_std\"] = train_ft[cols].std(axis=1)\n",
    "train_ft[\"지점코드별_구매횟수_skew\"] = train_ft[cols].skew(axis=1)\n",
    "train_ft[\"지점코드별_구매횟수_kurt\"] = train_ft[cols].kurt(axis=1)\n",
    "\n",
    "test_ft[\"지점코드별_구매횟수_std\"] = test_ft[cols].std(axis=1)\n",
    "test_ft[\"지점코드별_구매횟수_skew\"] = test_ft[cols].skew(axis=1)\n",
    "test_ft[\"지점코드별_구매횟수_kurt\"] = test_ft[cols].kurt(axis=1)\n",
    "\n",
    "train_ft.shape, test_ft.shape"
   ]
  },
  {
   "cell_type": "code",
   "execution_count": 16,
   "metadata": {},
   "outputs": [
    {
     "data": {
      "text/plain": [
       "((14940, 803), (12225, 803))"
      ]
     },
     "execution_count": 16,
     "metadata": {},
     "output_type": "execute_result"
    }
   ],
   "source": [
    "cols = [ col for col in train_ft.columns if col.startswith(\"지점코드_구매합계_\") ]\n",
    "\n",
    "train_ft[\"지점코드별_구매합계_std\"] = train_ft[cols].std(axis=1)\n",
    "train_ft[\"지점코드별_구매합계_skew\"] = train_ft[cols].skew(axis=1)\n",
    "train_ft[\"지점코드별_구매합계_kurt\"] = train_ft[cols].kurt(axis=1)\n",
    "\n",
    "test_ft[\"지점코드별_구매합계_std\"] = test_ft[cols].std(axis=1)\n",
    "test_ft[\"지점코드별_구매합계_skew\"] = test_ft[cols].skew(axis=1)\n",
    "test_ft[\"지점코드별_구매합계_kurt\"] = test_ft[cols].kurt(axis=1)\n",
    "\n",
    "train_ft.shape, test_ft.shape"
   ]
  },
  {
   "cell_type": "code",
   "execution_count": 17,
   "metadata": {
    "colab": {
     "base_uri": "https://localhost:8080/"
    },
    "executionInfo": {
     "elapsed": 713,
     "status": "ok",
     "timestamp": 1730269757495,
     "user": {
      "displayName": "koeyhi",
      "userId": "08049178071858703986"
     },
     "user_tz": -540
    },
    "id": "EQaqdQSARFr4",
    "outputId": "3ed4d721-1bb8-4e8c-bfab-60c4c0a204d6"
   },
   "outputs": [
    {
     "data": {
      "text/plain": [
       "((14940, 806), (12225, 806))"
      ]
     },
     "execution_count": 17,
     "metadata": {},
     "output_type": "execute_result"
    }
   ],
   "source": [
    "cols = [ col for col in train_ft.columns if col.startswith(\"중분류_구매횟수_\") ]\n",
    "\n",
    "train_ft[\"중분류별_구매횟수_std\"] = train_ft[cols].std(axis=1)\n",
    "train_ft[\"중분류별_구매횟수_skew\"] = train_ft[cols].skew(axis=1)\n",
    "train_ft[\"중분류별_구매횟수_kurt\"] = train_ft[cols].kurt(axis=1)\n",
    "\n",
    "test_ft[\"중분류별_구매횟수_std\"] = test_ft[cols].std(axis=1)\n",
    "test_ft[\"중분류별_구매횟수_skew\"] = test_ft[cols].skew(axis=1)\n",
    "test_ft[\"중분류별_구매횟수_kurt\"] = test_ft[cols].kurt(axis=1)\n",
    "\n",
    "train_ft.shape, test_ft.shape"
   ]
  },
  {
   "cell_type": "code",
   "execution_count": 18,
   "metadata": {},
   "outputs": [
    {
     "data": {
      "text/plain": [
       "((14940, 809), (12225, 809))"
      ]
     },
     "execution_count": 18,
     "metadata": {},
     "output_type": "execute_result"
    }
   ],
   "source": [
    "cols = [ col for col in train_ft.columns if col.startswith(\"중분류_구매합계_\") ]\n",
    "\n",
    "train_ft[\"중분류별_구매합계_std\"] = train_ft[cols].std(axis=1)\n",
    "train_ft[\"중분류별_구매합계_skew\"] = train_ft[cols].skew(axis=1)\n",
    "train_ft[\"중분류별_구매합계_kurt\"] = train_ft[cols].kurt(axis=1)\n",
    "\n",
    "test_ft[\"중분류별_구매합계_std\"] = test_ft[cols].std(axis=1)\n",
    "test_ft[\"중분류별_구매합계_skew\"] = test_ft[cols].skew(axis=1)\n",
    "test_ft[\"중분류별_구매합계_kurt\"] = test_ft[cols].kurt(axis=1)\n",
    "\n",
    "train_ft.shape, test_ft.shape"
   ]
  },
  {
   "cell_type": "code",
   "execution_count": 19,
   "metadata": {},
   "outputs": [
    {
     "data": {
      "text/plain": [
       "((14940, 812), (12225, 812))"
      ]
     },
     "execution_count": 19,
     "metadata": {},
     "output_type": "execute_result"
    }
   ],
   "source": [
    "cols = [ col for col in train_ft.columns if col.startswith(\"대분류_구매횟수_\") ]\n",
    "\n",
    "train_ft[\"대분류별_구매횟수_std\"] = train_ft[cols].std(axis=1)\n",
    "train_ft[\"대분류별_구매횟수_skew\"] = train_ft[cols].skew(axis=1)\n",
    "train_ft[\"대분류별_구매횟수_kurt\"] = train_ft[cols].kurt(axis=1)\n",
    "\n",
    "test_ft[\"대분류별_구매횟수_std\"] = test_ft[cols].std(axis=1)\n",
    "test_ft[\"대분류별_구매횟수_skew\"] = test_ft[cols].skew(axis=1)\n",
    "test_ft[\"대분류별_구매횟수_kurt\"] = test_ft[cols].kurt(axis=1)\n",
    "\n",
    "train_ft.shape, test_ft.shape"
   ]
  },
  {
   "cell_type": "code",
   "execution_count": 20,
   "metadata": {},
   "outputs": [
    {
     "data": {
      "text/plain": [
       "((14940, 815), (12225, 815))"
      ]
     },
     "execution_count": 20,
     "metadata": {},
     "output_type": "execute_result"
    }
   ],
   "source": [
    "cols = [ col for col in train_ft.columns if col.startswith(\"대분류_구매합계_\") ]\n",
    "\n",
    "train_ft[\"대분류별_구매합계_std\"] = train_ft[cols].std(axis=1)\n",
    "train_ft[\"대분류별_구매합계_skew\"] = train_ft[cols].skew(axis=1)\n",
    "train_ft[\"대분류별_구매합계_kurt\"] = train_ft[cols].kurt(axis=1)\n",
    "\n",
    "test_ft[\"대분류별_구매합계_std\"] = test_ft[cols].std(axis=1)\n",
    "test_ft[\"대분류별_구매합계_skew\"] = test_ft[cols].skew(axis=1)\n",
    "test_ft[\"대분류별_구매합계_kurt\"] = test_ft[cols].kurt(axis=1)\n",
    "\n",
    "train_ft.shape, test_ft.shape"
   ]
  },
  {
   "cell_type": "code",
   "execution_count": 21,
   "metadata": {},
   "outputs": [
    {
     "data": {
      "text/plain": [
       "((14940, 818), (12225, 818))"
      ]
     },
     "execution_count": 21,
     "metadata": {},
     "output_type": "execute_result"
    }
   ],
   "source": [
    "cols = [ col for col in train_ft.columns if col.endswith(\"요일_구매비율\") ]\n",
    "\n",
    "train_ft[\"요일별_구매비율_std\"] = train_ft[cols].std(axis=1)\n",
    "train_ft[\"요일별_구매비율_skew\"] = train_ft[cols].skew(axis=1)\n",
    "train_ft[\"요일별_구매비율_kurt\"] = train_ft[cols].kurt(axis=1)\n",
    "\n",
    "test_ft[\"요일별_구매비율_std\"] = test_ft[cols].std(axis=1)\n",
    "test_ft[\"요일별_구매비율_skew\"] = test_ft[cols].skew(axis=1)\n",
    "test_ft[\"요일별_구매비율_kurt\"] = test_ft[cols].kurt(axis=1)\n",
    "\n",
    "train_ft.shape, test_ft.shape"
   ]
  },
  {
   "cell_type": "code",
   "execution_count": 22,
   "metadata": {},
   "outputs": [
    {
     "data": {
      "text/plain": [
       "((14940, 821), (12225, 821))"
      ]
     },
     "execution_count": 22,
     "metadata": {},
     "output_type": "execute_result"
    }
   ],
   "source": [
    "cols = [ col for col in train_ft.columns if col.endswith(\"월_구매비율\") ]\n",
    "\n",
    "train_ft[\"월별_구매비율_std\"] = train_ft[cols].std(axis=1)\n",
    "train_ft[\"월별_구매비율_skew\"] = train_ft[cols].skew(axis=1)\n",
    "train_ft[\"월별_구매비율_kurt\"] = train_ft[cols].kurt(axis=1)\n",
    "\n",
    "test_ft[\"월별_구매비율_std\"] = test_ft[cols].std(axis=1)\n",
    "test_ft[\"월별_구매비율_skew\"] = test_ft[cols].skew(axis=1)\n",
    "test_ft[\"월별_구매비율_kurt\"] = test_ft[cols].kurt(axis=1)\n",
    "\n",
    "train_ft.shape, test_ft.shape"
   ]
  },
  {
   "cell_type": "code",
   "execution_count": 23,
   "metadata": {},
   "outputs": [
    {
     "data": {
      "text/plain": [
       "((14940, 824), (12225, 824))"
      ]
     },
     "execution_count": 23,
     "metadata": {},
     "output_type": "execute_result"
    }
   ],
   "source": [
    "cols = [\"봄_구매비율\",\"여름_구매비율\",\"가을_구매비율\",\"겨울_구매비율\"]\n",
    "\n",
    "train_ft[\"계절별_구매비율_std\"] = train_ft[cols].std(axis=1)\n",
    "train_ft[\"계절별_구매비율_skew\"] = train_ft[cols].skew(axis=1)\n",
    "train_ft[\"계절별_구매비율_kurt\"] = train_ft[cols].kurt(axis=1)\n",
    "\n",
    "test_ft[\"계절별_구매비율_std\"] = test_ft[cols].std(axis=1)\n",
    "test_ft[\"계절별_구매비율_skew\"] = test_ft[cols].skew(axis=1)\n",
    "test_ft[\"계절별_구매비율_kurt\"] = test_ft[cols].kurt(axis=1)\n",
    "\n",
    "train_ft.shape, test_ft.shape"
   ]
  },
  {
   "cell_type": "code",
   "execution_count": 24,
   "metadata": {},
   "outputs": [
    {
     "data": {
      "text/plain": [
       "((14940, 827), (12225, 827))"
      ]
     },
     "execution_count": 24,
     "metadata": {},
     "output_type": "execute_result"
    }
   ],
   "source": [
    "cols = [ col for col in train_ft.columns if col.endswith(\"분기_구매비율\") ]\n",
    "\n",
    "train_ft[\"분기별_구매비율_std\"] = train_ft[cols].std(axis=1)\n",
    "train_ft[\"분기별_구매비율_skew\"] = train_ft[cols].skew(axis=1)\n",
    "train_ft[\"분기별_구매비율_kurt\"] = train_ft[cols].kurt(axis=1)\n",
    "\n",
    "test_ft[\"분기별_구매비율_std\"] = test_ft[cols].std(axis=1)\n",
    "test_ft[\"분기별_구매비율_skew\"] = test_ft[cols].skew(axis=1)\n",
    "test_ft[\"분기별_구매비율_kurt\"] = test_ft[cols].kurt(axis=1)\n",
    "\n",
    "train_ft.shape, test_ft.shape"
   ]
  },
  {
   "cell_type": "code",
   "execution_count": 25,
   "metadata": {},
   "outputs": [
    {
     "data": {
      "text/plain": [
       "((14940, 828), (12225, 828))"
      ]
     },
     "execution_count": 25,
     "metadata": {},
     "output_type": "execute_result"
    }
   ],
   "source": [
    "cols = [ col for col in train_ft.columns if col.endswith(\"년_구매비율\") ]\n",
    "\n",
    "train_ft[\"년도별_구매비율_std\"] = train_ft[cols].std(axis=1)\n",
    "test_ft[\"년도별_구매비율_std\"] = test_ft[cols].std(axis=1)\n",
    "\n",
    "train_ft.shape, test_ft.shape"
   ]
  },
  {
   "cell_type": "code",
   "execution_count": 26,
   "metadata": {},
   "outputs": [
    {
     "data": {
      "text/plain": [
       "((14940, 831), (12225, 831))"
      ]
     },
     "execution_count": 26,
     "metadata": {},
     "output_type": "execute_result"
    }
   ],
   "source": [
    "cols_지점 = [col for col in train_ft.columns if col.startswith(\"지점코드_구매횟수_\")]\n",
    "cols_중분류 = [col for col in train_ft.columns if col.startswith(\"중분류_구매횟수_\")]\n",
    "cols_대분류 = [col for col in train_ft.columns if col.startswith(\"대분류_구매횟수_\")]\n",
    "\n",
    "train_ft[\"구매집중도_지점\"] = train_ft[cols_지점].max(axis=1) / train_ft[cols_지점].sum(axis=1)\n",
    "train_ft[\"구매집중도_중분류\"] = train_ft[cols_중분류].max(axis=1) / train_ft[cols_중분류].sum(axis=1)\n",
    "train_ft[\"구매집중도_대분류\"] = train_ft[cols_대분류].max(axis=1) / train_ft[cols_대분류].sum(axis=1)\n",
    "\n",
    "test_ft[\"구매집중도_지점\"] = test_ft[cols_지점].max(axis=1) / test_ft[cols_지점].sum(axis=1)\n",
    "test_ft[\"구매집중도_중분류\"] = test_ft[cols_중분류].max(axis=1) / test_ft[cols_중분류].sum(axis=1)\n",
    "test_ft[\"구매집중도_대분류\"] = test_ft[cols_대분류].max(axis=1) / test_ft[cols_대분류].sum(axis=1)\n",
    "\n",
    "train_ft.shape, test_ft.shape"
   ]
  },
  {
   "cell_type": "markdown",
   "metadata": {
    "id": "gXvdNLMtSVlW"
   },
   "source": [
    "## Feature Encoding"
   ]
  },
  {
   "cell_type": "markdown",
   "metadata": {},
   "source": [
    "- 범주형 피처\n",
    "    - 주구매_중분류, 주구매_대분류, 선호브랜드코드, 고객등급"
   ]
  },
  {
   "cell_type": "code",
   "execution_count": 27,
   "metadata": {
    "colab": {
     "base_uri": "https://localhost:8080/"
    },
    "executionInfo": {
     "elapsed": 5372,
     "status": "ok",
     "timestamp": 1730269762864,
     "user": {
      "displayName": "koeyhi",
      "userId": "08049178071858703986"
     },
     "user_tz": -540
    },
    "id": "RICJpfu2SRWd",
    "outputId": "771c1229-c8cd-4c73-c977-c1ca65987549"
   },
   "outputs": [],
   "source": [
    "# %pip install category_encoders"
   ]
  },
  {
   "cell_type": "code",
   "execution_count": 28,
   "metadata": {
    "colab": {
     "base_uri": "https://localhost:8080/"
    },
    "executionInfo": {
     "elapsed": 298,
     "status": "ok",
     "timestamp": 1730269770905,
     "user": {
      "displayName": "koeyhi",
      "userId": "08049178071858703986"
     },
     "user_tz": -540
    },
    "id": "3d6B3II8T25p",
    "outputId": "f5d9eb08-ac39-4dd0-cd4e-8eb35ecf752f"
   },
   "outputs": [
    {
     "data": {
      "text/plain": [
       "((14940, 836), (12225, 836))"
      ]
     },
     "execution_count": 28,
     "metadata": {},
     "output_type": "execute_result"
    }
   ],
   "source": [
    "import category_encoders as ce\n",
    "from sklearn.preprocessing import OneHotEncoder, OrdinalEncoder\n",
    "\n",
    "oh_enc = OneHotEncoder(handle_unknown=\"ignore\")\n",
    "oh_enc_cols = [\"고객등급\"]\n",
    "oh_enc_data = pd.concat([train_ft[oh_enc_cols], test_ft[oh_enc_cols]])\n",
    "oh_enc.fit(oh_enc_data)\n",
    "\n",
    "train_ft[oh_enc.get_feature_names_out()] = oh_enc.transform(train_ft[oh_enc_cols]).toarray()\n",
    "test_ft[oh_enc.get_feature_names_out()] = oh_enc.transform(test_ft[oh_enc_cols]).toarray()\n",
    "\n",
    "train_ft.shape, test_ft.shape"
   ]
  },
  {
   "cell_type": "code",
   "execution_count": 29,
   "metadata": {},
   "outputs": [
    {
     "data": {
      "text/plain": [
       "((14940, 836), (12225, 836))"
      ]
     },
     "execution_count": 29,
     "metadata": {},
     "output_type": "execute_result"
    }
   ],
   "source": [
    "train_ft['선호브랜드코드'] = train_ft['선호브랜드코드'].astype('category')\n",
    "test_ft['선호브랜드코드'] = test_ft['선호브랜드코드'].astype('category')\n",
    "\n",
    "combined_brands = pd.concat([train_ft['선호브랜드코드'], test_ft['선호브랜드코드']])\n",
    "\n",
    "enc = ce.CountEncoder()\n",
    "train_ft[\"선호브랜드코드_cnt\"] = enc.fit_transform(train_ft[['선호브랜드코드']])\n",
    "test_ft[\"선호브랜드코드_cnt\"] = enc.transform(test_ft[['선호브랜드코드']])\n",
    "\n",
    "train_ft.drop(columns=[\"선호브랜드코드\"], inplace=True)\n",
    "test_ft.drop(columns=[\"선호브랜드코드\"], inplace=True)\n",
    "\n",
    "train_ft.shape, test_ft.shape"
   ]
  },
  {
   "cell_type": "markdown",
   "metadata": {
    "id": "lPURwRnPUj-B"
   },
   "source": [
    "- 문자열 피처 삭제"
   ]
  },
  {
   "cell_type": "code",
   "execution_count": 30,
   "metadata": {},
   "outputs": [
    {
     "data": {
      "text/plain": [
       "['고객등급']"
      ]
     },
     "execution_count": 30,
     "metadata": {},
     "output_type": "execute_result"
    }
   ],
   "source": [
    "cols = train_ft.select_dtypes([\"object\", \"datetime\"]).columns.tolist()\n",
    "cols"
   ]
  },
  {
   "cell_type": "code",
   "execution_count": 31,
   "metadata": {
    "colab": {
     "base_uri": "https://localhost:8080/"
    },
    "executionInfo": {
     "elapsed": 338,
     "status": "ok",
     "timestamp": 1730269771556,
     "user": {
      "displayName": "koeyhi",
      "userId": "08049178071858703986"
     },
     "user_tz": -540
    },
    "id": "zZlZoAMZUbGp",
    "outputId": "2dc6b54d-eacb-450d-8fc1-b2b19198435c"
   },
   "outputs": [
    {
     "data": {
      "text/plain": [
       "((14940, 835), (12225, 835))"
      ]
     },
     "execution_count": 31,
     "metadata": {},
     "output_type": "execute_result"
    }
   ],
   "source": [
    "train_ft = train_ft.drop(columns=cols)\n",
    "test_ft = test_ft.drop(columns=cols)\n",
    "train_ft.shape, test_ft.shape"
   ]
  },
  {
   "cell_type": "code",
   "execution_count": 32,
   "metadata": {
    "colab": {
     "base_uri": "https://localhost:8080/"
    },
    "executionInfo": {
     "elapsed": 3,
     "status": "ok",
     "timestamp": 1730269771557,
     "user": {
      "displayName": "koeyhi",
      "userId": "08049178071858703986"
     },
     "user_tz": -540
    },
    "id": "1-y4-kmTUmso",
    "outputId": "7e3d9700-ac05-48e8-81e1-d6b1eb972cea"
   },
   "outputs": [
    {
     "data": {
      "text/plain": [
       "(Index([], dtype='object'), Index([], dtype='object'))"
      ]
     },
     "execution_count": 32,
     "metadata": {},
     "output_type": "execute_result"
    }
   ],
   "source": [
    "train_ft.select_dtypes(\"object\").columns , test_ft.select_dtypes(\"object\").columns"
   ]
  },
  {
   "cell_type": "code",
   "execution_count": 33,
   "metadata": {},
   "outputs": [
    {
     "data": {
      "text/plain": [
       "(Index([], dtype='object'), Index([], dtype='object'))"
      ]
     },
     "execution_count": 33,
     "metadata": {},
     "output_type": "execute_result"
    }
   ],
   "source": [
    "train_ft.select_dtypes(\"datetime\").columns, test_ft.select_dtypes(\"datetime\").columns"
   ]
  },
  {
   "cell_type": "markdown",
   "metadata": {
    "id": "KAQ-3TU5U0Pk"
   },
   "source": [
    "## Feature Scaling"
   ]
  },
  {
   "cell_type": "code",
   "execution_count": 34,
   "metadata": {},
   "outputs": [
    {
     "data": {
      "text/plain": [
       "(0, 0)"
      ]
     },
     "execution_count": 34,
     "metadata": {},
     "output_type": "execute_result"
    }
   ],
   "source": [
    "train_ft.isin([np.inf, -np.inf]).any().sum(), test_ft.isin([np.inf, -np.inf]).any().sum()"
   ]
  },
  {
   "cell_type": "code",
   "execution_count": 35,
   "metadata": {},
   "outputs": [],
   "source": [
    "train_ft = train_ft.fillna(0)\n",
    "test_ft = test_ft.fillna(0)"
   ]
  },
  {
   "cell_type": "code",
   "execution_count": 36,
   "metadata": {},
   "outputs": [
    {
     "data": {
      "text/plain": [
       "(0, 0)"
      ]
     },
     "execution_count": 36,
     "metadata": {},
     "output_type": "execute_result"
    }
   ],
   "source": [
    "train_ft.isna().sum().sum(), test_ft.isna().sum().sum()"
   ]
  },
  {
   "cell_type": "code",
   "execution_count": 37,
   "metadata": {},
   "outputs": [
    {
     "data": {
      "text/html": [
       "<div>\n",
       "<style scoped>\n",
       "    .dataframe tbody tr th:only-of-type {\n",
       "        vertical-align: middle;\n",
       "    }\n",
       "\n",
       "    .dataframe tbody tr th {\n",
       "        vertical-align: top;\n",
       "    }\n",
       "\n",
       "    .dataframe thead th {\n",
       "        text-align: right;\n",
       "    }\n",
       "</style>\n",
       "<table border=\"1\" class=\"dataframe\">\n",
       "  <thead>\n",
       "    <tr style=\"text-align: right;\">\n",
       "      <th></th>\n",
       "      <th>총방문일수</th>\n",
       "      <th>백화점이용기간</th>\n",
       "      <th>구매주기</th>\n",
       "      <th>주말방문일수</th>\n",
       "      <th>일별평균구매건수</th>\n",
       "      <th>구매간격_표준편차</th>\n",
       "      <th>평균구매요일</th>\n",
       "      <th>주구매요일</th>\n",
       "      <th>월요일_구매비율</th>\n",
       "      <th>화요일_구매비율</th>\n",
       "      <th>...</th>\n",
       "      <th>년도별_구매비율_std</th>\n",
       "      <th>구매집중도_지점</th>\n",
       "      <th>구매집중도_중분류</th>\n",
       "      <th>구매집중도_대분류</th>\n",
       "      <th>고객등급_Black</th>\n",
       "      <th>고객등급_Diamond</th>\n",
       "      <th>고객등급_Gold</th>\n",
       "      <th>고객등급_Normal</th>\n",
       "      <th>고객등급_Platinum</th>\n",
       "      <th>선호브랜드코드_cnt</th>\n",
       "    </tr>\n",
       "  </thead>\n",
       "  <tbody>\n",
       "    <tr>\n",
       "      <th>0</th>\n",
       "      <td>-0.441985</td>\n",
       "      <td>-0.031924</td>\n",
       "      <td>0.191603</td>\n",
       "      <td>-0.363618</td>\n",
       "      <td>-0.292817</td>\n",
       "      <td>0.019124</td>\n",
       "      <td>0.040957</td>\n",
       "      <td>-0.469891</td>\n",
       "      <td>-0.340771</td>\n",
       "      <td>-0.866857</td>\n",
       "      <td>...</td>\n",
       "      <td>1.098697</td>\n",
       "      <td>-1.950590</td>\n",
       "      <td>-0.386937</td>\n",
       "      <td>-1.041686</td>\n",
       "      <td>-0.303357</td>\n",
       "      <td>-0.133863</td>\n",
       "      <td>-0.204728</td>\n",
       "      <td>0.433781</td>\n",
       "      <td>-0.128585</td>\n",
       "      <td>-1.002992</td>\n",
       "    </tr>\n",
       "    <tr>\n",
       "      <th>1</th>\n",
       "      <td>0.202927</td>\n",
       "      <td>0.861742</td>\n",
       "      <td>-0.406568</td>\n",
       "      <td>-0.569238</td>\n",
       "      <td>0.470397</td>\n",
       "      <td>-0.545535</td>\n",
       "      <td>-0.799074</td>\n",
       "      <td>0.116688</td>\n",
       "      <td>-0.502484</td>\n",
       "      <td>0.896581</td>\n",
       "      <td>...</td>\n",
       "      <td>0.049208</td>\n",
       "      <td>-0.908632</td>\n",
       "      <td>-0.763771</td>\n",
       "      <td>-0.788616</td>\n",
       "      <td>-0.303357</td>\n",
       "      <td>-0.133863</td>\n",
       "      <td>-0.204728</td>\n",
       "      <td>0.433781</td>\n",
       "      <td>-0.128585</td>\n",
       "      <td>1.056804</td>\n",
       "    </tr>\n",
       "    <tr>\n",
       "      <th>2</th>\n",
       "      <td>2.030180</td>\n",
       "      <td>0.898594</td>\n",
       "      <td>-0.905045</td>\n",
       "      <td>1.486955</td>\n",
       "      <td>0.220618</td>\n",
       "      <td>-0.890269</td>\n",
       "      <td>-0.770108</td>\n",
       "      <td>-1.643049</td>\n",
       "      <td>0.905371</td>\n",
       "      <td>0.387353</td>\n",
       "      <td>...</td>\n",
       "      <td>-1.538254</td>\n",
       "      <td>0.115815</td>\n",
       "      <td>-0.793326</td>\n",
       "      <td>-0.825832</td>\n",
       "      <td>-0.303357</td>\n",
       "      <td>7.470347</td>\n",
       "      <td>-0.204728</td>\n",
       "      <td>-2.305310</td>\n",
       "      <td>-0.128585</td>\n",
       "      <td>-1.000947</td>\n",
       "    </tr>\n",
       "    <tr>\n",
       "      <th>3</th>\n",
       "      <td>3.911175</td>\n",
       "      <td>0.797251</td>\n",
       "      <td>-1.054588</td>\n",
       "      <td>3.131908</td>\n",
       "      <td>0.565798</td>\n",
       "      <td>-0.986871</td>\n",
       "      <td>0.139600</td>\n",
       "      <td>0.703267</td>\n",
       "      <td>-0.311925</td>\n",
       "      <td>-0.102556</td>\n",
       "      <td>...</td>\n",
       "      <td>-1.242595</td>\n",
       "      <td>-0.454032</td>\n",
       "      <td>-0.405270</td>\n",
       "      <td>-0.657977</td>\n",
       "      <td>-0.303357</td>\n",
       "      <td>7.470347</td>\n",
       "      <td>-0.204728</td>\n",
       "      <td>-2.305310</td>\n",
       "      <td>-0.128585</td>\n",
       "      <td>-0.940468</td>\n",
       "    </tr>\n",
       "    <tr>\n",
       "      <th>4</th>\n",
       "      <td>0.364155</td>\n",
       "      <td>0.502433</td>\n",
       "      <td>-0.556111</td>\n",
       "      <td>0.458858</td>\n",
       "      <td>-0.388218</td>\n",
       "      <td>-0.534063</td>\n",
       "      <td>1.088582</td>\n",
       "      <td>0.703267</td>\n",
       "      <td>-0.259915</td>\n",
       "      <td>-0.492795</td>\n",
       "      <td>...</td>\n",
       "      <td>0.498989</td>\n",
       "      <td>0.034092</td>\n",
       "      <td>-0.491613</td>\n",
       "      <td>-0.851883</td>\n",
       "      <td>-0.303357</td>\n",
       "      <td>-0.133863</td>\n",
       "      <td>-0.204728</td>\n",
       "      <td>0.433781</td>\n",
       "      <td>-0.128585</td>\n",
       "      <td>1.056804</td>\n",
       "    </tr>\n",
       "  </tbody>\n",
       "</table>\n",
       "<p>5 rows × 835 columns</p>\n",
       "</div>"
      ],
      "text/plain": [
       "      총방문일수   백화점이용기간      구매주기    주말방문일수  일별평균구매건수  구매간격_표준편차    평균구매요일  \\\n",
       "0 -0.441985 -0.031924  0.191603 -0.363618 -0.292817   0.019124  0.040957   \n",
       "1  0.202927  0.861742 -0.406568 -0.569238  0.470397  -0.545535 -0.799074   \n",
       "2  2.030180  0.898594 -0.905045  1.486955  0.220618  -0.890269 -0.770108   \n",
       "3  3.911175  0.797251 -1.054588  3.131908  0.565798  -0.986871  0.139600   \n",
       "4  0.364155  0.502433 -0.556111  0.458858 -0.388218  -0.534063  1.088582   \n",
       "\n",
       "      주구매요일  월요일_구매비율  화요일_구매비율  ...  년도별_구매비율_std  구매집중도_지점  구매집중도_중분류  \\\n",
       "0 -0.469891 -0.340771 -0.866857  ...      1.098697 -1.950590  -0.386937   \n",
       "1  0.116688 -0.502484  0.896581  ...      0.049208 -0.908632  -0.763771   \n",
       "2 -1.643049  0.905371  0.387353  ...     -1.538254  0.115815  -0.793326   \n",
       "3  0.703267 -0.311925 -0.102556  ...     -1.242595 -0.454032  -0.405270   \n",
       "4  0.703267 -0.259915 -0.492795  ...      0.498989  0.034092  -0.491613   \n",
       "\n",
       "   구매집중도_대분류  고객등급_Black  고객등급_Diamond  고객등급_Gold  고객등급_Normal  고객등급_Platinum  \\\n",
       "0  -1.041686   -0.303357     -0.133863  -0.204728     0.433781      -0.128585   \n",
       "1  -0.788616   -0.303357     -0.133863  -0.204728     0.433781      -0.128585   \n",
       "2  -0.825832   -0.303357      7.470347  -0.204728    -2.305310      -0.128585   \n",
       "3  -0.657977   -0.303357      7.470347  -0.204728    -2.305310      -0.128585   \n",
       "4  -0.851883   -0.303357     -0.133863  -0.204728     0.433781      -0.128585   \n",
       "\n",
       "   선호브랜드코드_cnt  \n",
       "0    -1.002992  \n",
       "1     1.056804  \n",
       "2    -1.000947  \n",
       "3    -0.940468  \n",
       "4     1.056804  \n",
       "\n",
       "[5 rows x 835 columns]"
      ]
     },
     "execution_count": 37,
     "metadata": {},
     "output_type": "execute_result"
    }
   ],
   "source": [
    "from sklearn.preprocessing import StandardScaler, MinMaxScaler, RobustScaler, PowerTransformer, Normalizer\n",
    "scaler = StandardScaler()\n",
    "\n",
    "train_ft[train_ft.columns] = scaler.fit_transform(train_ft)\n",
    "test_ft[test_ft.columns] = scaler.transform(test_ft)\n",
    "train_ft.head()"
   ]
  },
  {
   "cell_type": "markdown",
   "metadata": {},
   "source": [
    "# 차원축소"
   ]
  },
  {
   "cell_type": "markdown",
   "metadata": {},
   "source": [
    "- 학습데이터에서 분산 임계값이 0인 경우 제외"
   ]
  },
  {
   "cell_type": "code",
   "execution_count": 38,
   "metadata": {},
   "outputs": [
    {
     "data": {
      "text/plain": [
       "((14940, 835), (12225, 835))"
      ]
     },
     "execution_count": 38,
     "metadata": {},
     "output_type": "execute_result"
    }
   ],
   "source": [
    "from sklearn.feature_selection import VarianceThreshold\n",
    "\n",
    "vt = VarianceThreshold(threshold=0)\n",
    "vt.fit(train_ft)\n",
    "\n",
    "train_vt = pd.DataFrame(vt.transform(train_ft), columns=train_ft.columns[vt.get_support()])\n",
    "test_vt = test_ft[train_vt.columns]\n",
    "\n",
    "train_vt.shape, test_vt.shape"
   ]
  },
  {
   "cell_type": "markdown",
   "metadata": {},
   "source": [
    "- 특성 간 상관관계 90% 이상인 경우 제거"
   ]
  },
  {
   "cell_type": "code",
   "execution_count": 39,
   "metadata": {},
   "outputs": [],
   "source": [
    "# corr = train_vt.corr().abs()\n",
    "# upper = corr.where(np.triu(np.ones(corr.shape), k=1).astype(bool))\n",
    "# to_drop = [col for col in upper.columns if any(upper[col] >= 0.90)]\n",
    "\n",
    "# train_vt.drop(columns=to_drop, inplace=True)\n",
    "# test_vt.drop(columns=to_drop, inplace=True)\n",
    "# train_vt.shape, test_vt.shape"
   ]
  },
  {
   "cell_type": "code",
   "execution_count": 40,
   "metadata": {},
   "outputs": [],
   "source": [
    "# train_vt.to_csv(f\"{DATA_PATH}train_corr.csv\",index=False)\n",
    "# test_vt.to_csv(f\"{DATA_PATH}test_corr.csv\",index=False)"
   ]
  },
  {
   "cell_type": "markdown",
   "metadata": {},
   "source": [
    "- cv 점수 확인"
   ]
  },
  {
   "cell_type": "code",
   "execution_count": 41,
   "metadata": {},
   "outputs": [],
   "source": [
    "from sklearn.ensemble import RandomForestClassifier\n",
    "from sklearn.model_selection import StratifiedKFold, cross_val_score\n",
    "from lightgbm import LGBMClassifier\n",
    "from sklearn.linear_model import LogisticRegression\n",
    "\n",
    "cv = StratifiedKFold(n_splits=5, shuffle=True, random_state=SEED)"
   ]
  },
  {
   "cell_type": "code",
   "execution_count": 42,
   "metadata": {},
   "outputs": [],
   "source": [
    "lgbm = LGBMClassifier(random_state=SEED, verbose=0, n_jobs=-1)\n",
    "# lgbm.fit(train_vt, target)\n",
    "\n",
    "# scores = cross_val_score(lgbm, train_vt, target, cv=cv, scoring=\"f1_macro\", n_jobs=-1)\n",
    "# np.mean(scores)"
   ]
  },
  {
   "cell_type": "markdown",
   "metadata": {},
   "source": [
    "- XAI 활용"
   ]
  },
  {
   "cell_type": "code",
   "execution_count": 43,
   "metadata": {},
   "outputs": [],
   "source": [
    "# import shap\n",
    "\n",
    "# explainer = shap.Explainer(lgbm)\n",
    "# shap_values = explainer(train_vt)\n",
    "# shap.summary_plot(shap_values, train_vt)"
   ]
  },
  {
   "cell_type": "markdown",
   "metadata": {},
   "source": [
    "- SelectFromModel"
   ]
  },
  {
   "cell_type": "code",
   "execution_count": 44,
   "metadata": {},
   "outputs": [],
   "source": [
    "# from sklearn.feature_selection import SelectFromModel"
   ]
  },
  {
   "cell_type": "code",
   "execution_count": 45,
   "metadata": {},
   "outputs": [],
   "source": [
    "# # thresholds = [\n",
    "# #     'mean', 'median',\n",
    "# #     '0.5*mean', '1.5*mean', '2*mean',\n",
    "# #     '0.5*median', '1.5*median', '2*median'\n",
    "# # ]\n",
    "\n",
    "# thresholds = [f\"{i}*mean\" for i in np.arange(0.6, 1.5, 0.1)]\n",
    "\n",
    "# for threshold in thresholds:\n",
    "#     sfm = SelectFromModel(lgbm, threshold=threshold)\n",
    "#     sfm.fit(train_vt, target)\n",
    "#     train_sfm = sfm.transform(train_vt)\n",
    "\n",
    "#     scores = cross_val_score(lgbm, train_sfm, target, cv=cv, scoring=\"f1_macro\", n_jobs=-1)\n",
    "#     print(threshold, np.mean(scores), train_sfm.shape[1])"
   ]
  },
  {
   "cell_type": "code",
   "execution_count": 46,
   "metadata": {},
   "outputs": [],
   "source": [
    "# sfm = SelectFromModel(lgbm, threshold='1.2*mean')\n",
    "\n",
    "# train_sfm = sfm.fit_transform(train_vt, target)\n",
    "# test_sfm = sfm.transform(test_vt)\n",
    "\n",
    "# scores = cross_val_score(lgbm, train_sfm, target, cv=cv, scoring=\"f1_macro\", n_jobs=-1)\n",
    "# np.mean(scores), train_sfm.shape"
   ]
  },
  {
   "cell_type": "code",
   "execution_count": 47,
   "metadata": {},
   "outputs": [],
   "source": [
    "# train_sfm = pd.DataFrame(np.array(train_sfm), columns=train_vt.columns[sfm.get_support()])\n",
    "# test_sfm = pd.DataFrame(np.array(test_sfm), columns=test_vt.columns[sfm.get_support()])\n",
    "\n",
    "# feature_importance = pd.DataFrame({\n",
    "#     'feature': train_sfm.columns,\n",
    "#     'score': sfm.estimator_.feature_importances_[sfm.get_support()]\n",
    "# }).reset_index(drop=True)\n",
    "\n",
    "# feature_importance.sort_values('score', ascending=False).head(10)"
   ]
  },
  {
   "cell_type": "markdown",
   "metadata": {},
   "source": [
    "- SelectKBest"
   ]
  },
  {
   "cell_type": "code",
   "execution_count": 48,
   "metadata": {},
   "outputs": [],
   "source": [
    "# from sklearn.feature_selection import SelectKBest"
   ]
  },
  {
   "cell_type": "code",
   "execution_count": 49,
   "metadata": {},
   "outputs": [],
   "source": [
    "# for k in range(100, 201, 50):\n",
    "#     skb = SelectKBest(k=k)\n",
    "#     skb.fit(train_vt, target)\n",
    "#     # skb.fit(train_sfm, target)\n",
    "#     train_skb = skb.transform(train_vt)\n",
    "#     # train_skb = skb.transform(train_sfm)\n",
    "\n",
    "#     scores = cross_val_score(lgbm, train_skb, target, cv=cv, scoring=\"f1_macro\", n_jobs=-1)\n",
    "#     print(f\"특성수={k}, 정확도={np.mean(scores)}\")"
   ]
  },
  {
   "cell_type": "code",
   "execution_count": 50,
   "metadata": {},
   "outputs": [],
   "source": [
    "# skb = SelectKBest(k=600)\n",
    "\n",
    "# train_skb = skb.fit_transform(train_vt, target)\n",
    "# test_skb = skb.transform(test_vt)\n",
    "\n",
    "# scores = cross_val_score(lgbm, train_skb, target, cv=cv, scoring=\"f1_macro\", n_jobs=-1)\n",
    "# np.mean(scores), train_skb.shape"
   ]
  },
  {
   "cell_type": "code",
   "execution_count": 51,
   "metadata": {},
   "outputs": [],
   "source": [
    "# train_skb = pd.DataFrame(np.array(train_skb), columns=train_vt.columns[skb.get_support()])\n",
    "# test_skb = pd.DataFrame(np.array(test_skb), columns=test_vt.columns[skb.get_support()])\n",
    "\n",
    "# feature_scores = pd.DataFrame(\n",
    "#     {'feature': train_vt.columns,\n",
    "#      'score': skb.scores_}\n",
    "# ).sort_values('score', ascending=False)\n",
    "\n",
    "# feature_scores.head(10)"
   ]
  },
  {
   "cell_type": "markdown",
   "metadata": {},
   "source": [
    "- SelectPercentile"
   ]
  },
  {
   "cell_type": "code",
   "execution_count": 52,
   "metadata": {},
   "outputs": [],
   "source": [
    "# from sklearn.feature_selection import SelectPercentile"
   ]
  },
  {
   "cell_type": "code",
   "execution_count": 53,
   "metadata": {},
   "outputs": [],
   "source": [
    "# percentiles = [i for i in range(5, 101, 5)]\n",
    "\n",
    "# for percentile in percentiles:\n",
    "#     sp = SelectPercentile(percentile=percentile)\n",
    "#     sp.fit(train_vt, target)\n",
    "#     # sp.fit(train_sfm, target)\n",
    "#     train_sp = sp.transform(train_vt)\n",
    "#     # train_sp = sp.transform(train_sfm)\n",
    "\n",
    "#     scores = cross_val_score(lgbm, train_sp, target, cv=cv, scoring=\"f1_macro\", n_jobs=-1)\n",
    "#     print(f\"percentile={percentile}, 성능={np.mean(scores)}, 특성 수={train_sp.shape[1]}\")"
   ]
  },
  {
   "cell_type": "code",
   "execution_count": 54,
   "metadata": {},
   "outputs": [],
   "source": [
    "# sp = SelectPercentile(percentile=100)\n",
    "\n",
    "# train_sp = sp.fit_transform(train_vt, target)\n",
    "# test_sp = sp.transform(test_vt)\n",
    "\n",
    "# scores = cross_val_score(lgbm, train_sp, target, cv=cv, scoring=\"f1_macro\", n_jobs=-1)\n",
    "# np.mean(scores), train_sp.shape"
   ]
  },
  {
   "cell_type": "markdown",
   "metadata": {},
   "source": [
    "- PCA"
   ]
  },
  {
   "cell_type": "code",
   "execution_count": 55,
   "metadata": {},
   "outputs": [],
   "source": [
    "# from sklearn.decomposition import PCA"
   ]
  },
  {
   "cell_type": "code",
   "execution_count": 56,
   "metadata": {},
   "outputs": [],
   "source": [
    "# def do_pca(n_components, train, test, target, cv):\n",
    "#     pca = PCA(n_components=n_components)\n",
    "\n",
    "#     train_pca = pca.fit_transform(train)\n",
    "#     test_pca = pca.transform(test)\n",
    "\n",
    "#     scores = cross_val_score(lgbm, train_pca, target, cv=cv, scoring=\"f1_macro\", n_jobs=-1)\n",
    "#     print(np.mean(scores))\n",
    "#     return pca, train_pca, test_pca"
   ]
  },
  {
   "cell_type": "code",
   "execution_count": 57,
   "metadata": {},
   "outputs": [],
   "source": [
    "# pca, train_pca, test_pca = do_pca(0.9, train_vt, test_vt, target, cv)\n",
    "# train_pca.shape, test_pca.shape"
   ]
  },
  {
   "cell_type": "code",
   "execution_count": 58,
   "metadata": {},
   "outputs": [],
   "source": [
    "# pca2, train_pca2, test_pca2 = do_pca(0.9, train_sfm, test_sfm, target, cv)\n",
    "# train_pca2.shape, test_pca2.shape"
   ]
  },
  {
   "cell_type": "markdown",
   "metadata": {},
   "source": [
    "- TruncatedSVD"
   ]
  },
  {
   "cell_type": "code",
   "execution_count": 59,
   "metadata": {},
   "outputs": [],
   "source": [
    "# from sklearn.decomposition import TruncatedSVD"
   ]
  },
  {
   "cell_type": "code",
   "execution_count": 60,
   "metadata": {},
   "outputs": [],
   "source": [
    "# def do_svd(n_components, train, test, target, cv):\n",
    "#     svd = TruncatedSVD(n_components=n_components)\n",
    "\n",
    "#     train_svd = svd.fit_transform(train)\n",
    "#     test_svd = svd.transform(test)\n",
    "\n",
    "#     scores = cross_val_score(lgbm, train_svd, target, cv=cv, scoring=\"f1_macro\", n_jobs=-1)\n",
    "#     print(np.mean(scores))\n",
    "#     return svd, train_svd, test_svd"
   ]
  },
  {
   "cell_type": "code",
   "execution_count": 61,
   "metadata": {},
   "outputs": [],
   "source": [
    "# svd, train_svd, test_svd = do_svd(600, train_vt, test_vt, target, cv)"
   ]
  },
  {
   "cell_type": "code",
   "execution_count": 62,
   "metadata": {},
   "outputs": [],
   "source": [
    "# svd2, train_svd2, test_svd2 = do_svd(200, train_sfm, test_sfm, target, cv)"
   ]
  },
  {
   "cell_type": "markdown",
   "metadata": {},
   "source": [
    "- RandomProjection"
   ]
  },
  {
   "cell_type": "code",
   "execution_count": 63,
   "metadata": {},
   "outputs": [],
   "source": [
    "# from sklearn.random_projection import GaussianRandomProjection\n",
    "# from sklearn.random_projection import SparseRandomProjection"
   ]
  },
  {
   "cell_type": "code",
   "execution_count": 64,
   "metadata": {},
   "outputs": [],
   "source": [
    "# grp = GaussianRandomProjection(600, random_state=SEED)\n",
    "\n",
    "# grp_train = grp.fit_transform(train_vt, target)\n",
    "# grp_test = grp.transform(test_vt)\n",
    "\n",
    "# scores = cross_val_score(lgbm, grp_train, target, cv=cv, scoring=\"f1_macro\", n_jobs=-1)\n",
    "# np.mean(scores), grp_train.shape"
   ]
  },
  {
   "cell_type": "code",
   "execution_count": 65,
   "metadata": {},
   "outputs": [],
   "source": [
    "# srp = SparseRandomProjection(400, random_state=SEED)\n",
    "\n",
    "# srp_train = srp.fit_transform(train_vt, target)\n",
    "# srp_test = srp.transform(test_vt)\n",
    "\n",
    "# scores = cross_val_score(lgbm, srp_train, target, cv=cv, scoring=\"f1_macro\", n_jobs=-1)\n",
    "# np.mean(scores), srp_train.shape"
   ]
  },
  {
   "cell_type": "markdown",
   "metadata": {},
   "source": [
    "- LDA"
   ]
  },
  {
   "cell_type": "code",
   "execution_count": 66,
   "metadata": {},
   "outputs": [],
   "source": [
    "# from sklearn.discriminant_analysis import LinearDiscriminantAnalysis as LDA\n",
    "# from sklearn.model_selection import train_test_split\n",
    "# from sklearn.metrics import classification_report"
   ]
  },
  {
   "cell_type": "code",
   "execution_count": 67,
   "metadata": {},
   "outputs": [],
   "source": [
    "# def do_lda(n_components, train, target):\n",
    "#     X_train, X_val, y_train, y_val = train_test_split(train, target, test_size=0.2, random_state=SEED)\n",
    "#     lda = LDA(n_components=n_components)\n",
    "#     lda = lda.fit(X_train, y_train)\n",
    "#     print(classification_report(y_val, lda.predict(X_val)))\n",
    "#     return lda"
   ]
  },
  {
   "cell_type": "code",
   "execution_count": 68,
   "metadata": {},
   "outputs": [],
   "source": [
    "# lda_vt = do_lda(1, train_vt, target)\n",
    "# train_lda = lda_vt.fit_transform(train_vt, target)\n",
    "# test_lda = lda_vt.transform(test_vt)"
   ]
  },
  {
   "cell_type": "code",
   "execution_count": 69,
   "metadata": {},
   "outputs": [],
   "source": [
    "# lda_sfm = do_lda(1, train_sfm, target)\n",
    "# train_sfm_lda = lda_sfm.fit_transform(train_sfm, target)\n",
    "# test_sfm_lda = lda_sfm.transform(test_sfm)"
   ]
  },
  {
   "cell_type": "markdown",
   "metadata": {},
   "source": [
    "- RFECV"
   ]
  },
  {
   "cell_type": "code",
   "execution_count": 70,
   "metadata": {},
   "outputs": [],
   "source": [
    "from sklearn.feature_selection import RFECV"
   ]
  },
  {
   "cell_type": "code",
   "execution_count": 71,
   "metadata": {},
   "outputs": [
    {
     "data": {
      "text/plain": [
       "0.7191571194150841"
      ]
     },
     "execution_count": 71,
     "metadata": {},
     "output_type": "execute_result"
    }
   ],
   "source": [
    "estimator = LogisticRegression(max_iter=1000, random_state=SEED)\n",
    "rfecv = RFECV(estimator, step=10, cv=cv, scoring=\"f1_macro\", n_jobs=-1)\n",
    "\n",
    "train_rfecv = rfecv.fit_transform(train_vt, target)\n",
    "test_rfecv = rfecv.transform(test_vt)\n",
    "\n",
    "scores = cross_val_score(lgbm, train_rfecv, target, cv=cv, scoring=\"f1_macro\", n_jobs=-1)\n",
    "np.mean(scores)"
   ]
  },
  {
   "cell_type": "code",
   "execution_count": 72,
   "metadata": {},
   "outputs": [],
   "source": [
    "# df = pd.DataFrame({\n",
    "#     \"Feature\": train_vt.columns[rfecv.support_],\n",
    "#     \"Importance\": np.abs(rfecv.estimator_.coef_).flatten()\n",
    "# }).sort_values(by=\"Importance\", ascending=False)\n",
    "\n",
    "# df.head(10)"
   ]
  },
  {
   "cell_type": "markdown",
   "metadata": {},
   "source": [
    "# 모델 선택"
   ]
  },
  {
   "cell_type": "markdown",
   "metadata": {},
   "source": [
    "- 하이퍼파라미터 튜닝 클래스화"
   ]
  },
  {
   "cell_type": "code",
   "execution_count": 73,
   "metadata": {},
   "outputs": [
    {
     "name": "stderr",
     "output_type": "stream",
     "text": [
      "c:\\Users\\kwon3\\AppData\\Local\\Programs\\Python\\Python310\\lib\\site-packages\\tqdm\\auto.py:21: TqdmWarning: IProgress not found. Please update jupyter and ipywidgets. See https://ipywidgets.readthedocs.io/en/stable/user_install.html\n",
      "  from .autonotebook import tqdm as notebook_tqdm\n"
     ]
    }
   ],
   "source": [
    "import optuna\n",
    "\n",
    "class HyperarameterTuner:\n",
    "    def __init__(self, model, params, train, target):\n",
    "        self.model = model\n",
    "        self.params = params\n",
    "        self.train = train\n",
    "        self.target = target\n",
    "        self.cv = StratifiedKFold(n_splits=5, shuffle=True, random_state=42)\n",
    "        self.study = optuna.create_study(direction=\"maximize\")\n",
    "\n",
    "    def objective(self, trial):\n",
    "        params = {}\n",
    "        \n",
    "        for param_name, param_range in self.params.items():\n",
    "            if param_range[\"type\"] == \"int\":\n",
    "                params[param_name] = trial.suggest_int(\n",
    "                    param_name, param_range[\"min\"], param_range[\"max\"]\n",
    "                )\n",
    "            elif param_range[\"type\"] == \"float\":\n",
    "                params[param_name] = trial.suggest_float(\n",
    "                    param_name, param_range[\"min\"], param_range[\"max\"]\n",
    "                )\n",
    "            elif param_range[\"type\"] == \"categorical\":\n",
    "                params[param_name] = trial.suggest_categorical(\n",
    "                    param_name, param_range[\"values\"]\n",
    "                )\n",
    "\n",
    "        model = self.model(**params)\n",
    "        scores = cross_val_score(\n",
    "            model, self.train, self.target, cv=self.cv, scoring=\"f1_macro\", n_jobs=-1\n",
    "        ).mean()\n",
    "        return scores\n",
    "\n",
    "    def optimize(self, n_trials):\n",
    "        self.study.optimize(self.objective, n_trials=n_trials)\n",
    "\n",
    "    def best_params(self):\n",
    "        return self.study.best_params\n",
    "\n",
    "    def best_score(self):\n",
    "        return self.study.best_value"
   ]
  },
  {
   "cell_type": "markdown",
   "metadata": {},
   "source": [
    "## 원본 데이터에 대한 모델생성"
   ]
  },
  {
   "cell_type": "code",
   "execution_count": 74,
   "metadata": {},
   "outputs": [],
   "source": [
    "from sklearn.metrics import classification_report\n",
    "from sklearn.model_selection import train_test_split"
   ]
  },
  {
   "cell_type": "code",
   "execution_count": 75,
   "metadata": {},
   "outputs": [],
   "source": [
    "# X_train, X_valid, y_train, y_valid = train_test_split(train_vt, target, test_size=0.2, random_state=SEED)"
   ]
  },
  {
   "cell_type": "markdown",
   "metadata": {},
   "source": [
    "### 부스팅방식 위주로"
   ]
  },
  {
   "cell_type": "code",
   "execution_count": 76,
   "metadata": {},
   "outputs": [],
   "source": [
    "from sklearn.ensemble import VotingClassifier, StackingClassifier, HistGradientBoostingClassifier, AdaBoostClassifier, RandomForestClassifier\n",
    "from sklearn.svm import SVC\n",
    "from sklearn.neural_network import MLPClassifier\n",
    "from xgboost import XGBClassifier\n",
    "from catboost import CatBoostClassifier"
   ]
  },
  {
   "cell_type": "markdown",
   "metadata": {},
   "source": [
    "- 기본모델에 대한 성능 확인"
   ]
  },
  {
   "cell_type": "code",
   "execution_count": 77,
   "metadata": {},
   "outputs": [],
   "source": [
    "# models = [\n",
    "#     LGBMClassifier(random_state=SEED, n_jobs=-1),\n",
    "#     RandomForestClassifier(random_state=SEED, n_jobs=-1),\n",
    "#     HistGradientBoostingClassifier(random_state=SEED),\n",
    "#     AdaBoostClassifier(random_state=SEED),\n",
    "#     SVC(random_state=SEED),\n",
    "#     MLPClassifier(random_state=SEED),\n",
    "#     XGBClassifier(random_state=SEED, n_jobs=-1),\n",
    "#     CatBoostClassifier(random_state=SEED, verbose=0),\n",
    "# ]\n",
    "\n",
    "# for model in models:\n",
    "#     scores = cross_val_score(model, train_vt, target, cv=cv, scoring=\"f1_macro\", n_jobs=-1)\n",
    "#     print(f\"{model.__class__.__name__} : {np.mean(scores)}, {np.std(scores)}\")"
   ]
  },
  {
   "cell_type": "markdown",
   "metadata": {},
   "source": [
    "- LGBMClassifier"
   ]
  },
  {
   "cell_type": "code",
   "execution_count": 78,
   "metadata": {},
   "outputs": [],
   "source": [
    "# params = {\n",
    "#     'objective': {'type': 'categorical', 'values': ['binary']},\n",
    "#     'num_iterations': {'type': 'int', 'min': 100, 'max': 1000},\n",
    "#     'num_leaves': {'type': 'int', 'min': 31, 'max': 128},\n",
    "#     'force_col_wise': {'type': 'categorical', 'values': [True]},\n",
    "#     'max_depth': {'type': 'int', 'min': 3, 'max': 20},\n",
    "#     'learning_rate': {'type': 'float', 'min': 0.01, 'max': 0.1},\n",
    "#     'min_data_in_leaf': {'type': 'int', 'min': 10, 'max': 100},\n",
    "#     'scale_pos_weight': {'type': 'float', 'min': 1.5, 'max': 1.5},\n",
    "#     'random_state': {'type': 'int', 'min': 42, 'max': 42},\n",
    "#     'n_jobs': {'type': 'int', 'min': -1, 'max': -1},\n",
    "# }\n",
    "\n",
    "# lgbm_vt_tuner = HyperarameterTuner(LGBMClassifier, params, train_vt, target)\n",
    "# lgbm_vt_tuner.optimize(50)\n",
    "# lgbm_vt_tuner.best_params(), lgbm_vt_tuner.best_score()"
   ]
  },
  {
   "cell_type": "code",
   "execution_count": 79,
   "metadata": {},
   "outputs": [],
   "source": [
    "# params = {\n",
    "#     \"objective\": \"binary\",\n",
    "#     \"n_estimators\": 587,\n",
    "#     \"num_leaves\": 58,\n",
    "#     \"force_col_wise\": True,\n",
    "#     \"max_depth\": 17,\n",
    "#     \"learning_rate\": 0.01815685572436884,\n",
    "#     \"min_child_samples\": 64,\n",
    "#     \"scale_pos_weight\": 1.5,\n",
    "#     \"random_state\": 42,\n",
    "#     \"n_jobs\": -1,\n",
    "# }\n",
    "\n",
    "# lgbm_vt_final = LGBMClassifier(**params)"
   ]
  },
  {
   "cell_type": "code",
   "execution_count": 80,
   "metadata": {},
   "outputs": [],
   "source": [
    "# lgbm_vt_final.fit(X_train, y_train)\n",
    "# print(classification_report(y_valid, lgbm_vt_final.predict(X_valid)))"
   ]
  },
  {
   "cell_type": "markdown",
   "metadata": {},
   "source": [
    "- XGBoost"
   ]
  },
  {
   "cell_type": "code",
   "execution_count": 81,
   "metadata": {},
   "outputs": [],
   "source": [
    "# params = {\n",
    "#     'n_estimators': {'type': 'int', 'min': 100, 'max': 1000},\n",
    "#     'learning_rate': {'type': 'float', 'min': 0.05, 'max': 0.3},\n",
    "#     'max_depth': {'type': 'int', 'min': 3, 'max': 7},\n",
    "#     'min_child_weight': {'type': 'int', 'min': 1, 'max': 5},\n",
    "#     'subsample': {'type': 'float', 'min': 0.7, 'max': 1.0},\n",
    "#     'colsample_bytree': {'type': 'float', 'min': 0.7, 'max': 1.0},\n",
    "#     'gamma': {'type': 'float', 'min': 0, 'max': 2},\n",
    "#     'lambda': {'type': 'float', 'min': 0.1, 'max': 1.0},\n",
    "#     'alpha': {'type': 'float', 'min': 0.0, 'max': 1.0},\n",
    "#     'scale_pos_weight': {'type': 'float', 'min': 1.5, 'max': 1.5},\n",
    "#     'random_state': {'type': 'int', 'min': 42, 'max': 42},\n",
    "#     'n_jobs': {'type': 'int', 'min': -1, 'max': -1},\n",
    "# }\n",
    "\n",
    "# xgb_vt_tuner = HyperarameterTuner(XGBClassifier, params, train_vt, target)\n",
    "# xgb_vt_tuner.optimize(30)\n",
    "# xgb_vt_tuner.best_params(), xgb_vt_tuner.best_score()"
   ]
  },
  {
   "cell_type": "code",
   "execution_count": 82,
   "metadata": {},
   "outputs": [],
   "source": [
    "# params = {\n",
    "#     \"n_estimators\": 660,\n",
    "#     \"learning_rate\": 0.05575830628884475,\n",
    "#     \"max_depth\": 7,\n",
    "#     \"min_child_weight\": 4,\n",
    "#     \"subsample\": 0.9968583722252105,\n",
    "#     \"colsample_bytree\": 0.8024123816323979,\n",
    "#     \"gamma\": 1.0434655973021112,\n",
    "#     \"lambda\": 0.12381729989430783,\n",
    "#     \"alpha\": 0.2666789943507792,\n",
    "#     \"scale_pos_weight\": 1.5,\n",
    "#     \"random_state\": 42,\n",
    "#     \"n_jobs\": -1,\n",
    "# }\n",
    "\n",
    "# xgb_vt_final = XGBClassifier(**params,)"
   ]
  },
  {
   "cell_type": "code",
   "execution_count": 83,
   "metadata": {},
   "outputs": [],
   "source": [
    "# xgb_vt_final.fit(X_train, y_train)\n",
    "# print(classification_report(y_valid, xgb_vt_final.predict(X_valid)))"
   ]
  },
  {
   "cell_type": "markdown",
   "metadata": {},
   "source": [
    "- CatBoost"
   ]
  },
  {
   "cell_type": "code",
   "execution_count": 84,
   "metadata": {},
   "outputs": [],
   "source": [
    "# params = {\n",
    "#     'eval_metric': {'type': 'categorical', 'values': ['F1']},\n",
    "#     'iterations': {'type': 'int', 'min': 200, 'max': 800},\n",
    "#     'learning_rate': {'type': 'float', 'min': 0.01, 'max': 0.3},\n",
    "#     'depth': {'type': 'int', 'min': 4, 'max': 10},\n",
    "#     'l2_leaf_reg': {'type': 'float', 'min': 1, 'max': 10},\n",
    "#     'bagging_temperature': {'type': 'float', 'min': 0, 'max': 1},\n",
    "#     'border_count': {'type': 'int', 'min': 32, 'max': 255},\n",
    "#     'grow_policy': {'type': 'categorical', 'values': ['Depthwise', 'Lossguide']},\n",
    "#     'min_data_in_leaf': {'type': 'int', 'min': 1, 'max': 100},\n",
    "#     'scale_pos_weight': {'type': 'float', 'min': 1.5, 'max': 1.5},\n",
    "#     'random_state': {'type': 'int', 'min': 42, 'max': 42},\n",
    "# }\n",
    "\n",
    "# cat_vt_tuner = HyperarameterTuner(CatBoostClassifier, params, train_vt, target)\n",
    "# cat_vt_tuner.optimize(50)\n",
    "# cat_vt_tuner.best_params(), cat_vt_tuner.best_score()"
   ]
  },
  {
   "cell_type": "code",
   "execution_count": 85,
   "metadata": {},
   "outputs": [],
   "source": [
    "params = {\n",
    "    \"eval_metric\": \"F1\",\n",
    "    \"iterations\": 728,\n",
    "    \"learning_rate\": 0.03552144451608845,\n",
    "    \"depth\": 7,\n",
    "    \"l2_leaf_reg\": 7.248667776169776,\n",
    "    \"bagging_temperature\": 0.5466127888413056,\n",
    "    \"border_count\": 94,\n",
    "    \"grow_policy\": \"Lossguide\",\n",
    "    \"min_data_in_leaf\": 13,\n",
    "    \"scale_pos_weight\": 1.5,\n",
    "    \"random_state\": 42,\n",
    "}\n",
    "\n",
    "cat_vt_final = CatBoostClassifier(**params, verbose=0)"
   ]
  },
  {
   "cell_type": "code",
   "execution_count": 86,
   "metadata": {},
   "outputs": [],
   "source": [
    "# cat_vt_final.fit(X_train, y_train)\n",
    "# print(classification_report(y_valid, cat_vt_final.predict(X_valid)))"
   ]
  },
  {
   "cell_type": "markdown",
   "metadata": {},
   "source": [
    "- StackingClassifier"
   ]
  },
  {
   "cell_type": "code",
   "execution_count": 87,
   "metadata": {},
   "outputs": [],
   "source": [
    "# estimators = [\n",
    "#     ('lgbm_vt_final', lgbm_vt_final),\n",
    "#     ('cat_vt_final', cat_vt_final),\n",
    "#     ('xgb_vt_final', xgb_vt_final),\n",
    "# ]\n",
    "\n",
    "# final_estimator = LogisticRegression(random_state=SEED, n_jobs=-1)\n",
    "# stacking_vt = StackingClassifier(estimators=estimators, final_estimator=final_estimator, cv=cv, n_jobs=-1)"
   ]
  },
  {
   "cell_type": "code",
   "execution_count": 88,
   "metadata": {},
   "outputs": [],
   "source": [
    "# cross_val_score(stacking_vt, train_vt, target, cv=cv, scoring=\"f1_macro\", n_jobs=-1).mean()"
   ]
  },
  {
   "cell_type": "code",
   "execution_count": 89,
   "metadata": {},
   "outputs": [],
   "source": [
    "# stacking_vt.fit(X_train, y_train)\n",
    "# print(classification_report(y_valid, stacking_vt.predict(X_valid)))"
   ]
  },
  {
   "cell_type": "markdown",
   "metadata": {},
   "source": [
    "## 차원축소된 데이터에 대한 모델생성"
   ]
  },
  {
   "cell_type": "markdown",
   "metadata": {},
   "source": [
    "### rfecv 차원축소 데이터"
   ]
  },
  {
   "cell_type": "code",
   "execution_count": 90,
   "metadata": {},
   "outputs": [],
   "source": [
    "from sklearn.linear_model import SGDClassifier, LogisticRegression, RidgeClassifier\n",
    "from sklearn.svm import LinearSVC"
   ]
  },
  {
   "cell_type": "code",
   "execution_count": 91,
   "metadata": {},
   "outputs": [],
   "source": [
    "# X_train, X_valid, y_train, y_valid = train_test_split(train_rfecv, target, test_size=0.2, random_state=SEED)"
   ]
  },
  {
   "cell_type": "markdown",
   "metadata": {},
   "source": [
    "- 기본모델에 대한 성능 확인"
   ]
  },
  {
   "cell_type": "code",
   "execution_count": 92,
   "metadata": {},
   "outputs": [],
   "source": [
    "# models = [\n",
    "#     SGDClassifier(random_state=SEED, n_jobs=-1),\n",
    "#     LogisticRegression(random_state=SEED, n_jobs=-1),\n",
    "#     RidgeClassifier(random_state=SEED),\n",
    "#     LinearSVC(random_state=SEED),\n",
    "#     LGBMClassifier(random_state=SEED, n_jobs=-1),\n",
    "#     XGBClassifier(random_state=SEED, n_jobs=-1),\n",
    "#     CatBoostClassifier(random_state=SEED, verbose=0),\n",
    "#     RandomForestClassifier(random_state=SEED, n_jobs=-1),\n",
    "#     HistGradientBoostingClassifier(random_state=SEED),\n",
    "#     AdaBoostClassifier(random_state=SEED),\n",
    "# ]\n",
    "\n",
    "# for model in models:\n",
    "#     scores = cross_val_score(model, train_rfecv, target, cv=cv, scoring=\"f1_macro\", n_jobs=-1)\n",
    "#     print(f\"{model.__class__.__name__} : {np.mean(scores)}, {np.std(scores)}\")"
   ]
  },
  {
   "cell_type": "markdown",
   "metadata": {},
   "source": [
    "- LogisticRegression"
   ]
  },
  {
   "cell_type": "code",
   "execution_count": 93,
   "metadata": {},
   "outputs": [],
   "source": [
    "# params = {\n",
    "#     'penalty': {'type': 'categorical', 'values': ['l1', 'l2']},\n",
    "#     'C': {'type': 'float', 'min': 0.01, 'max': 10.0},\n",
    "#     'solver': {'type': 'categorical', 'values': ['liblinear', 'saga']},\n",
    "#     'max_iter': {'type': 'int', 'min': 100, 'max': 1000},\n",
    "#     'tol': {'type': 'float', 'min': 1e-5, 'max': 1e-3},\n",
    "#     'class_weight': {'type': 'categorical', 'values': ['balanced']},\n",
    "#     'random_state': {'type': 'int', 'min': 42, 'max': 42},\n",
    "# }\n",
    "\n",
    "# lr_rfecv_tuner = HyperarameterTuner(LogisticRegression, params, train_rfecv, target)\n",
    "# lr_rfecv_tuner.optimize(50)\n",
    "# lr_rfecv_tuner.best_params(), lr_rfecv_tuner.best_score()"
   ]
  },
  {
   "cell_type": "code",
   "execution_count": 94,
   "metadata": {},
   "outputs": [],
   "source": [
    "params = {\n",
    "    \"penalty\": \"l1\",\n",
    "    \"C\": 0.9009814576647523,\n",
    "    \"solver\": \"liblinear\",\n",
    "    \"max_iter\": 777,\n",
    "    \"tol\": 0.000180003730892121,\n",
    "    \"class_weight\": \"balanced\",\n",
    "    \"random_state\": 42,\n",
    "}\n",
    "\n",
    "lr_rfecv_final = LogisticRegression(**params)"
   ]
  },
  {
   "cell_type": "code",
   "execution_count": 95,
   "metadata": {},
   "outputs": [],
   "source": [
    "# lr_rfecv_final.fit(X_train, y_train)\n",
    "# print(classification_report(y_valid, lr_rfecv_final.predict(X_valid)))"
   ]
  },
  {
   "cell_type": "markdown",
   "metadata": {},
   "source": [
    "- LinearSVC"
   ]
  },
  {
   "cell_type": "code",
   "execution_count": 96,
   "metadata": {},
   "outputs": [],
   "source": [
    "# params = {\n",
    "#     'C': {'type': 'float', 'min': 0.01, 'max': 10.0},\n",
    "#     'penalty': {'type': 'categorical', 'values': ['l1', 'l2']},\n",
    "#     'loss': {'type': 'categorical', 'values': ['squared_hinge']},\n",
    "#     'dual': {'type': 'categorical', 'values': [False]},\n",
    "#     'tol': {'type': 'float', 'min': 1e-5, 'max': 1e-3},\n",
    "#     'max_iter': {'type': 'int', 'min': 1000, 'max': 5000},\n",
    "#     'class_weight': {'type': 'categorical', 'values': ['balanced']},\n",
    "#     'random_state': {'type': 'int', 'min': 42, 'max': 42},\n",
    "# }\n",
    "\n",
    "# lsvc_rfecv_tuner = HyperarameterTuner(LinearSVC, params, train_rfecv, target)\n",
    "# lsvc_rfecv_tuner.optimize(50)\n",
    "# lsvc_rfecv_tuner.best_params(), lsvc_rfecv_tuner.best_score()"
   ]
  },
  {
   "cell_type": "code",
   "execution_count": 97,
   "metadata": {},
   "outputs": [],
   "source": [
    "params = {\n",
    "    \"C\": 6.2430613151701415,\n",
    "    \"penalty\": \"l1\",\n",
    "    \"loss\": \"squared_hinge\",\n",
    "    \"dual\": False,\n",
    "    \"tol\": 0.0004462711899132743,\n",
    "    \"max_iter\": 2095,\n",
    "    \"class_weight\": \"balanced\",\n",
    "    \"random_state\": 42,\n",
    "}\n",
    "\n",
    "lsvc_rfecv_final = LinearSVC(**params)"
   ]
  },
  {
   "cell_type": "code",
   "execution_count": 98,
   "metadata": {},
   "outputs": [],
   "source": [
    "# lsvc_rfecv_final.fit(X_train, y_train)\n",
    "# print(classification_report(y_valid, lsvc_rfecv_final.predict(X_valid)))"
   ]
  },
  {
   "cell_type": "markdown",
   "metadata": {},
   "source": [
    "- SGDClassifier"
   ]
  },
  {
   "cell_type": "code",
   "execution_count": 99,
   "metadata": {},
   "outputs": [],
   "source": [
    "# params = {\n",
    "#     'loss': {'type': 'categorical', 'values': ['hinge', 'log_loss', 'modified_huber', 'squared_hinge', 'perceptron']},\n",
    "#     'penalty': {'type': 'categorical', 'values': ['l1', 'l2']},\n",
    "#     'alpha': {'type': 'float', 'min': 1e-6, 'max': 1e-2},\n",
    "#     'l1_ratio': {'type': 'float', 'min': 0.1, 'max': 0.9},\n",
    "#     'learning_rate': {'type': 'categorical', 'values': ['constant', 'optimal', 'invscaling', 'adaptive']},\n",
    "#     'eta0': {'type': 'float', 'min': 1e-4, 'max': 1e-1},\n",
    "#     'max_iter': {'type': 'int', 'min': 100, 'max': 5000},\n",
    "#     'tol': {'type': 'float', 'min': 1e-5, 'max': 1e-3},\n",
    "#     'class_weight': {'type': 'categorical', 'values': ['balanced']},\n",
    "#     'random_state': {'type': 'int', 'min': 42, 'max': 42},\n",
    "# }\n",
    "\n",
    "# sgd_rfecv_tuner = HyperarameterTuner(SGDClassifier, params, train_rfecv, target)\n",
    "# sgd_rfecv_tuner.optimize(50)\n",
    "# sgd_rfecv_tuner.best_params(), sgd_rfecv_tuner.best_score()"
   ]
  },
  {
   "cell_type": "code",
   "execution_count": 100,
   "metadata": {},
   "outputs": [],
   "source": [
    "params = {\n",
    "    \"loss\": \"modified_huber\",\n",
    "    \"penalty\": \"l2\",\n",
    "    \"alpha\": 0.003027216973071361,\n",
    "    \"l1_ratio\": 0.6482941900747266,\n",
    "    \"learning_rate\": \"adaptive\",\n",
    "    \"eta0\": 0.01883232969699258,\n",
    "    \"max_iter\": 4438,\n",
    "    \"tol\": 0.0004324328190978092,\n",
    "    \"class_weight\": \"balanced\",\n",
    "    \"random_state\": 42,\n",
    "}\n",
    "\n",
    "sgd_rfecv_final = SGDClassifier(**params, n_jobs=-1)"
   ]
  },
  {
   "cell_type": "code",
   "execution_count": 101,
   "metadata": {},
   "outputs": [],
   "source": [
    "# sgd_rfecv_final.fit(X_train, y_train)\n",
    "# print(classification_report(y_valid, sgd_rfecv_final.predict(X_valid)))"
   ]
  },
  {
   "cell_type": "markdown",
   "metadata": {},
   "source": [
    "- LGBMClassifier"
   ]
  },
  {
   "cell_type": "code",
   "execution_count": 102,
   "metadata": {},
   "outputs": [],
   "source": [
    "# params = {\n",
    "#     \"objective\": {\"type\": \"categorical\", \"values\": [\"binary\"]},\n",
    "#     \"num_iterations\": {\"type\": \"int\", \"min\": 100, \"max\": 1000},\n",
    "#     \"num_leaves\": {\"type\": \"int\", \"min\": 31, \"max\": 128},\n",
    "#     \"force_col_wise\": {\"type\": \"categorical\", \"values\": [True]},\n",
    "#     \"max_depth\": {\"type\": \"int\", \"min\": 3, \"max\": 20},\n",
    "#     \"learning_rate\": {\"type\": \"float\", \"min\": 0.01, \"max\": 0.1},\n",
    "#     \"min_data_in_leaf\": {\"type\": \"int\", \"min\": 10, \"max\": 100},\n",
    "#     'scale_pos_weight': {'type': 'float', 'min': 1.5, 'max': 1.5},\n",
    "#     \"random_state\": {\"type\": \"int\", \"min\": 42, \"max\": 42},\n",
    "#     \"n_jobs\": {\"type\": \"int\", \"min\": -1, \"max\": -1},\n",
    "# }\n",
    "\n",
    "# lgbm_rfecv_tuner = HyperarameterTuner(LGBMClassifier, params, train_rfecv, target)\n",
    "# lgbm_rfecv_tuner.optimize(50)\n",
    "# lgbm_rfecv_tuner.best_params(), lgbm_rfecv_tuner.best_score()"
   ]
  },
  {
   "cell_type": "code",
   "execution_count": 103,
   "metadata": {},
   "outputs": [],
   "source": [
    "params = {\n",
    "    \"objective\": \"binary\",\n",
    "    \"n_estimators\": 435,\n",
    "    \"num_leaves\": 64,\n",
    "    \"force_col_wise\": True,\n",
    "    \"max_depth\": 14,\n",
    "    \"learning_rate\": 0.02106599014877994,\n",
    "    \"min_child_samples\": 90,\n",
    "    \"scale_pos_weight\": 1.5,\n",
    "    \"random_state\": 42,\n",
    "    \"n_jobs\": -1,\n",
    "}\n",
    "\n",
    "lgbm_rfecv_final = LGBMClassifier(**params)"
   ]
  },
  {
   "cell_type": "code",
   "execution_count": 104,
   "metadata": {},
   "outputs": [],
   "source": [
    "# lgbm_rfecv_final.fit(X_train, y_train)\n",
    "# print(classification_report(y_valid, lgbm_rfecv_final.predict(X_valid)))"
   ]
  },
  {
   "cell_type": "markdown",
   "metadata": {},
   "source": [
    "- CatBoost"
   ]
  },
  {
   "cell_type": "code",
   "execution_count": 105,
   "metadata": {},
   "outputs": [],
   "source": [
    "# params = {\n",
    "#     'eval_metric': {'type': 'categorical', 'values': ['F1']},\n",
    "#     'iterations': {'type': 'int', 'min': 200, 'max': 800},\n",
    "#     'learning_rate': {'type': 'float', 'min': 0.01, 'max': 0.3},\n",
    "#     'depth': {'type': 'int', 'min': 4, 'max': 10},\n",
    "#     'l2_leaf_reg': {'type': 'float', 'min': 1, 'max': 10},\n",
    "#     'bagging_temperature': {'type': 'float', 'min': 0, 'max': 1},\n",
    "#     'border_count': {'type': 'int', 'min': 32, 'max': 255},\n",
    "#     'grow_policy': {'type': 'categorical', 'values': ['Depthwise', 'Lossguide']},\n",
    "#     'min_data_in_leaf': {'type': 'int', 'min': 1, 'max': 100},\n",
    "#     'scale_pos_weight': {'type': 'float', 'min': 1.5, 'max': 1.5},\n",
    "#     'random_state': {'type': 'int', 'min': 42, 'max': 42},\n",
    "# }\n",
    "\n",
    "# cat_rfecv_tuner = HyperarameterTuner(CatBoostClassifier, params, train_rfecv, target)\n",
    "# cat_rfecv_tuner.optimize(50)\n",
    "# cat_rfecv_tuner.best_params(), cat_rfecv_tuner.best_score()"
   ]
  },
  {
   "cell_type": "code",
   "execution_count": 106,
   "metadata": {},
   "outputs": [],
   "source": [
    "params = {\n",
    "    \"eval_metric\": \"F1\",\n",
    "    \"iterations\": 467,\n",
    "    \"learning_rate\": 0.0315528252523364,\n",
    "    \"depth\": 7,\n",
    "    \"l2_leaf_reg\": 4.379125470613464,\n",
    "    \"bagging_temperature\": 0.797143623444388,\n",
    "    \"border_count\": 98,\n",
    "    \"grow_policy\": \"Lossguide\",\n",
    "    \"min_data_in_leaf\": 38,\n",
    "    \"scale_pos_weight\": 1.5,\n",
    "    \"random_state\": 42,\n",
    "}\n",
    "\n",
    "cat_rfecv_final = CatBoostClassifier(**params, verbose=0)"
   ]
  },
  {
   "cell_type": "code",
   "execution_count": 107,
   "metadata": {},
   "outputs": [],
   "source": [
    "# cat_rfecv_final.fit(X_train, y_train)\n",
    "# print(classification_report(y_valid, cat_rfecv_final.predict(X_valid)))"
   ]
  },
  {
   "cell_type": "markdown",
   "metadata": {},
   "source": [
    "- StackingClassifier"
   ]
  },
  {
   "cell_type": "code",
   "execution_count": 108,
   "metadata": {},
   "outputs": [],
   "source": [
    "estimators = [\n",
    "    ('lr_rfecv_final', lr_rfecv_final),\n",
    "    ('lsvc_rfecv_final', lsvc_rfecv_final),\n",
    "    ('sgd_rfecv_final', sgd_rfecv_final),\n",
    "    ('lgbm_rfecv_final', lgbm_rfecv_final),\n",
    "    ('cat_rfecv_final', cat_rfecv_final),\n",
    "]\n",
    "\n",
    "final_estimator = LogisticRegression(random_state=SEED, n_jobs=-1)\n",
    "stacking_rfecv = StackingClassifier(estimators=estimators, final_estimator=final_estimator, cv=cv, n_jobs=-1)"
   ]
  },
  {
   "cell_type": "code",
   "execution_count": 109,
   "metadata": {},
   "outputs": [],
   "source": [
    "# cross_val_score(stacking_rfecv, train_rfecv, target, cv=cv, scoring=\"f1_macro\", n_jobs=-1).mean()"
   ]
  },
  {
   "cell_type": "code",
   "execution_count": 110,
   "metadata": {},
   "outputs": [],
   "source": [
    "# stacking_rfecv.fit(X_train, y_train)\n",
    "# print(classification_report(y_valid, stacking_rfecv.predict(X_valid)))"
   ]
  },
  {
   "cell_type": "markdown",
   "metadata": {},
   "source": [
    "# 앙상블"
   ]
  },
  {
   "cell_type": "markdown",
   "metadata": {},
   "source": [
    "- 각 데이터별 최종 모델로 예측 후 예측값의 평균으로 최종 예측"
   ]
  },
  {
   "cell_type": "code",
   "execution_count": 111,
   "metadata": {},
   "outputs": [
    {
     "data": {
      "text/html": [
       "<style>#sk-container-id-1 {\n",
       "  /* Definition of color scheme common for light and dark mode */\n",
       "  --sklearn-color-text: black;\n",
       "  --sklearn-color-line: gray;\n",
       "  /* Definition of color scheme for unfitted estimators */\n",
       "  --sklearn-color-unfitted-level-0: #fff5e6;\n",
       "  --sklearn-color-unfitted-level-1: #f6e4d2;\n",
       "  --sklearn-color-unfitted-level-2: #ffe0b3;\n",
       "  --sklearn-color-unfitted-level-3: chocolate;\n",
       "  /* Definition of color scheme for fitted estimators */\n",
       "  --sklearn-color-fitted-level-0: #f0f8ff;\n",
       "  --sklearn-color-fitted-level-1: #d4ebff;\n",
       "  --sklearn-color-fitted-level-2: #b3dbfd;\n",
       "  --sklearn-color-fitted-level-3: cornflowerblue;\n",
       "\n",
       "  /* Specific color for light theme */\n",
       "  --sklearn-color-text-on-default-background: var(--sg-text-color, var(--theme-code-foreground, var(--jp-content-font-color1, black)));\n",
       "  --sklearn-color-background: var(--sg-background-color, var(--theme-background, var(--jp-layout-color0, white)));\n",
       "  --sklearn-color-border-box: var(--sg-text-color, var(--theme-code-foreground, var(--jp-content-font-color1, black)));\n",
       "  --sklearn-color-icon: #696969;\n",
       "\n",
       "  @media (prefers-color-scheme: dark) {\n",
       "    /* Redefinition of color scheme for dark theme */\n",
       "    --sklearn-color-text-on-default-background: var(--sg-text-color, var(--theme-code-foreground, var(--jp-content-font-color1, white)));\n",
       "    --sklearn-color-background: var(--sg-background-color, var(--theme-background, var(--jp-layout-color0, #111)));\n",
       "    --sklearn-color-border-box: var(--sg-text-color, var(--theme-code-foreground, var(--jp-content-font-color1, white)));\n",
       "    --sklearn-color-icon: #878787;\n",
       "  }\n",
       "}\n",
       "\n",
       "#sk-container-id-1 {\n",
       "  color: var(--sklearn-color-text);\n",
       "}\n",
       "\n",
       "#sk-container-id-1 pre {\n",
       "  padding: 0;\n",
       "}\n",
       "\n",
       "#sk-container-id-1 input.sk-hidden--visually {\n",
       "  border: 0;\n",
       "  clip: rect(1px 1px 1px 1px);\n",
       "  clip: rect(1px, 1px, 1px, 1px);\n",
       "  height: 1px;\n",
       "  margin: -1px;\n",
       "  overflow: hidden;\n",
       "  padding: 0;\n",
       "  position: absolute;\n",
       "  width: 1px;\n",
       "}\n",
       "\n",
       "#sk-container-id-1 div.sk-dashed-wrapped {\n",
       "  border: 1px dashed var(--sklearn-color-line);\n",
       "  margin: 0 0.4em 0.5em 0.4em;\n",
       "  box-sizing: border-box;\n",
       "  padding-bottom: 0.4em;\n",
       "  background-color: var(--sklearn-color-background);\n",
       "}\n",
       "\n",
       "#sk-container-id-1 div.sk-container {\n",
       "  /* jupyter's `normalize.less` sets `[hidden] { display: none; }`\n",
       "     but bootstrap.min.css set `[hidden] { display: none !important; }`\n",
       "     so we also need the `!important` here to be able to override the\n",
       "     default hidden behavior on the sphinx rendered scikit-learn.org.\n",
       "     See: https://github.com/scikit-learn/scikit-learn/issues/21755 */\n",
       "  display: inline-block !important;\n",
       "  position: relative;\n",
       "}\n",
       "\n",
       "#sk-container-id-1 div.sk-text-repr-fallback {\n",
       "  display: none;\n",
       "}\n",
       "\n",
       "div.sk-parallel-item,\n",
       "div.sk-serial,\n",
       "div.sk-item {\n",
       "  /* draw centered vertical line to link estimators */\n",
       "  background-image: linear-gradient(var(--sklearn-color-text-on-default-background), var(--sklearn-color-text-on-default-background));\n",
       "  background-size: 2px 100%;\n",
       "  background-repeat: no-repeat;\n",
       "  background-position: center center;\n",
       "}\n",
       "\n",
       "/* Parallel-specific style estimator block */\n",
       "\n",
       "#sk-container-id-1 div.sk-parallel-item::after {\n",
       "  content: \"\";\n",
       "  width: 100%;\n",
       "  border-bottom: 2px solid var(--sklearn-color-text-on-default-background);\n",
       "  flex-grow: 1;\n",
       "}\n",
       "\n",
       "#sk-container-id-1 div.sk-parallel {\n",
       "  display: flex;\n",
       "  align-items: stretch;\n",
       "  justify-content: center;\n",
       "  background-color: var(--sklearn-color-background);\n",
       "  position: relative;\n",
       "}\n",
       "\n",
       "#sk-container-id-1 div.sk-parallel-item {\n",
       "  display: flex;\n",
       "  flex-direction: column;\n",
       "}\n",
       "\n",
       "#sk-container-id-1 div.sk-parallel-item:first-child::after {\n",
       "  align-self: flex-end;\n",
       "  width: 50%;\n",
       "}\n",
       "\n",
       "#sk-container-id-1 div.sk-parallel-item:last-child::after {\n",
       "  align-self: flex-start;\n",
       "  width: 50%;\n",
       "}\n",
       "\n",
       "#sk-container-id-1 div.sk-parallel-item:only-child::after {\n",
       "  width: 0;\n",
       "}\n",
       "\n",
       "/* Serial-specific style estimator block */\n",
       "\n",
       "#sk-container-id-1 div.sk-serial {\n",
       "  display: flex;\n",
       "  flex-direction: column;\n",
       "  align-items: center;\n",
       "  background-color: var(--sklearn-color-background);\n",
       "  padding-right: 1em;\n",
       "  padding-left: 1em;\n",
       "}\n",
       "\n",
       "\n",
       "/* Toggleable style: style used for estimator/Pipeline/ColumnTransformer box that is\n",
       "clickable and can be expanded/collapsed.\n",
       "- Pipeline and ColumnTransformer use this feature and define the default style\n",
       "- Estimators will overwrite some part of the style using the `sk-estimator` class\n",
       "*/\n",
       "\n",
       "/* Pipeline and ColumnTransformer style (default) */\n",
       "\n",
       "#sk-container-id-1 div.sk-toggleable {\n",
       "  /* Default theme specific background. It is overwritten whether we have a\n",
       "  specific estimator or a Pipeline/ColumnTransformer */\n",
       "  background-color: var(--sklearn-color-background);\n",
       "}\n",
       "\n",
       "/* Toggleable label */\n",
       "#sk-container-id-1 label.sk-toggleable__label {\n",
       "  cursor: pointer;\n",
       "  display: block;\n",
       "  width: 100%;\n",
       "  margin-bottom: 0;\n",
       "  padding: 0.5em;\n",
       "  box-sizing: border-box;\n",
       "  text-align: center;\n",
       "}\n",
       "\n",
       "#sk-container-id-1 label.sk-toggleable__label-arrow:before {\n",
       "  /* Arrow on the left of the label */\n",
       "  content: \"▸\";\n",
       "  float: left;\n",
       "  margin-right: 0.25em;\n",
       "  color: var(--sklearn-color-icon);\n",
       "}\n",
       "\n",
       "#sk-container-id-1 label.sk-toggleable__label-arrow:hover:before {\n",
       "  color: var(--sklearn-color-text);\n",
       "}\n",
       "\n",
       "/* Toggleable content - dropdown */\n",
       "\n",
       "#sk-container-id-1 div.sk-toggleable__content {\n",
       "  max-height: 0;\n",
       "  max-width: 0;\n",
       "  overflow: hidden;\n",
       "  text-align: left;\n",
       "  /* unfitted */\n",
       "  background-color: var(--sklearn-color-unfitted-level-0);\n",
       "}\n",
       "\n",
       "#sk-container-id-1 div.sk-toggleable__content.fitted {\n",
       "  /* fitted */\n",
       "  background-color: var(--sklearn-color-fitted-level-0);\n",
       "}\n",
       "\n",
       "#sk-container-id-1 div.sk-toggleable__content pre {\n",
       "  margin: 0.2em;\n",
       "  border-radius: 0.25em;\n",
       "  color: var(--sklearn-color-text);\n",
       "  /* unfitted */\n",
       "  background-color: var(--sklearn-color-unfitted-level-0);\n",
       "}\n",
       "\n",
       "#sk-container-id-1 div.sk-toggleable__content.fitted pre {\n",
       "  /* unfitted */\n",
       "  background-color: var(--sklearn-color-fitted-level-0);\n",
       "}\n",
       "\n",
       "#sk-container-id-1 input.sk-toggleable__control:checked~div.sk-toggleable__content {\n",
       "  /* Expand drop-down */\n",
       "  max-height: 200px;\n",
       "  max-width: 100%;\n",
       "  overflow: auto;\n",
       "}\n",
       "\n",
       "#sk-container-id-1 input.sk-toggleable__control:checked~label.sk-toggleable__label-arrow:before {\n",
       "  content: \"▾\";\n",
       "}\n",
       "\n",
       "/* Pipeline/ColumnTransformer-specific style */\n",
       "\n",
       "#sk-container-id-1 div.sk-label input.sk-toggleable__control:checked~label.sk-toggleable__label {\n",
       "  color: var(--sklearn-color-text);\n",
       "  background-color: var(--sklearn-color-unfitted-level-2);\n",
       "}\n",
       "\n",
       "#sk-container-id-1 div.sk-label.fitted input.sk-toggleable__control:checked~label.sk-toggleable__label {\n",
       "  background-color: var(--sklearn-color-fitted-level-2);\n",
       "}\n",
       "\n",
       "/* Estimator-specific style */\n",
       "\n",
       "/* Colorize estimator box */\n",
       "#sk-container-id-1 div.sk-estimator input.sk-toggleable__control:checked~label.sk-toggleable__label {\n",
       "  /* unfitted */\n",
       "  background-color: var(--sklearn-color-unfitted-level-2);\n",
       "}\n",
       "\n",
       "#sk-container-id-1 div.sk-estimator.fitted input.sk-toggleable__control:checked~label.sk-toggleable__label {\n",
       "  /* fitted */\n",
       "  background-color: var(--sklearn-color-fitted-level-2);\n",
       "}\n",
       "\n",
       "#sk-container-id-1 div.sk-label label.sk-toggleable__label,\n",
       "#sk-container-id-1 div.sk-label label {\n",
       "  /* The background is the default theme color */\n",
       "  color: var(--sklearn-color-text-on-default-background);\n",
       "}\n",
       "\n",
       "/* On hover, darken the color of the background */\n",
       "#sk-container-id-1 div.sk-label:hover label.sk-toggleable__label {\n",
       "  color: var(--sklearn-color-text);\n",
       "  background-color: var(--sklearn-color-unfitted-level-2);\n",
       "}\n",
       "\n",
       "/* Label box, darken color on hover, fitted */\n",
       "#sk-container-id-1 div.sk-label.fitted:hover label.sk-toggleable__label.fitted {\n",
       "  color: var(--sklearn-color-text);\n",
       "  background-color: var(--sklearn-color-fitted-level-2);\n",
       "}\n",
       "\n",
       "/* Estimator label */\n",
       "\n",
       "#sk-container-id-1 div.sk-label label {\n",
       "  font-family: monospace;\n",
       "  font-weight: bold;\n",
       "  display: inline-block;\n",
       "  line-height: 1.2em;\n",
       "}\n",
       "\n",
       "#sk-container-id-1 div.sk-label-container {\n",
       "  text-align: center;\n",
       "}\n",
       "\n",
       "/* Estimator-specific */\n",
       "#sk-container-id-1 div.sk-estimator {\n",
       "  font-family: monospace;\n",
       "  border: 1px dotted var(--sklearn-color-border-box);\n",
       "  border-radius: 0.25em;\n",
       "  box-sizing: border-box;\n",
       "  margin-bottom: 0.5em;\n",
       "  /* unfitted */\n",
       "  background-color: var(--sklearn-color-unfitted-level-0);\n",
       "}\n",
       "\n",
       "#sk-container-id-1 div.sk-estimator.fitted {\n",
       "  /* fitted */\n",
       "  background-color: var(--sklearn-color-fitted-level-0);\n",
       "}\n",
       "\n",
       "/* on hover */\n",
       "#sk-container-id-1 div.sk-estimator:hover {\n",
       "  /* unfitted */\n",
       "  background-color: var(--sklearn-color-unfitted-level-2);\n",
       "}\n",
       "\n",
       "#sk-container-id-1 div.sk-estimator.fitted:hover {\n",
       "  /* fitted */\n",
       "  background-color: var(--sklearn-color-fitted-level-2);\n",
       "}\n",
       "\n",
       "/* Specification for estimator info (e.g. \"i\" and \"?\") */\n",
       "\n",
       "/* Common style for \"i\" and \"?\" */\n",
       "\n",
       ".sk-estimator-doc-link,\n",
       "a:link.sk-estimator-doc-link,\n",
       "a:visited.sk-estimator-doc-link {\n",
       "  float: right;\n",
       "  font-size: smaller;\n",
       "  line-height: 1em;\n",
       "  font-family: monospace;\n",
       "  background-color: var(--sklearn-color-background);\n",
       "  border-radius: 1em;\n",
       "  height: 1em;\n",
       "  width: 1em;\n",
       "  text-decoration: none !important;\n",
       "  margin-left: 1ex;\n",
       "  /* unfitted */\n",
       "  border: var(--sklearn-color-unfitted-level-1) 1pt solid;\n",
       "  color: var(--sklearn-color-unfitted-level-1);\n",
       "}\n",
       "\n",
       ".sk-estimator-doc-link.fitted,\n",
       "a:link.sk-estimator-doc-link.fitted,\n",
       "a:visited.sk-estimator-doc-link.fitted {\n",
       "  /* fitted */\n",
       "  border: var(--sklearn-color-fitted-level-1) 1pt solid;\n",
       "  color: var(--sklearn-color-fitted-level-1);\n",
       "}\n",
       "\n",
       "/* On hover */\n",
       "div.sk-estimator:hover .sk-estimator-doc-link:hover,\n",
       ".sk-estimator-doc-link:hover,\n",
       "div.sk-label-container:hover .sk-estimator-doc-link:hover,\n",
       ".sk-estimator-doc-link:hover {\n",
       "  /* unfitted */\n",
       "  background-color: var(--sklearn-color-unfitted-level-3);\n",
       "  color: var(--sklearn-color-background);\n",
       "  text-decoration: none;\n",
       "}\n",
       "\n",
       "div.sk-estimator.fitted:hover .sk-estimator-doc-link.fitted:hover,\n",
       ".sk-estimator-doc-link.fitted:hover,\n",
       "div.sk-label-container:hover .sk-estimator-doc-link.fitted:hover,\n",
       ".sk-estimator-doc-link.fitted:hover {\n",
       "  /* fitted */\n",
       "  background-color: var(--sklearn-color-fitted-level-3);\n",
       "  color: var(--sklearn-color-background);\n",
       "  text-decoration: none;\n",
       "}\n",
       "\n",
       "/* Span, style for the box shown on hovering the info icon */\n",
       ".sk-estimator-doc-link span {\n",
       "  display: none;\n",
       "  z-index: 9999;\n",
       "  position: relative;\n",
       "  font-weight: normal;\n",
       "  right: .2ex;\n",
       "  padding: .5ex;\n",
       "  margin: .5ex;\n",
       "  width: min-content;\n",
       "  min-width: 20ex;\n",
       "  max-width: 50ex;\n",
       "  color: var(--sklearn-color-text);\n",
       "  box-shadow: 2pt 2pt 4pt #999;\n",
       "  /* unfitted */\n",
       "  background: var(--sklearn-color-unfitted-level-0);\n",
       "  border: .5pt solid var(--sklearn-color-unfitted-level-3);\n",
       "}\n",
       "\n",
       ".sk-estimator-doc-link.fitted span {\n",
       "  /* fitted */\n",
       "  background: var(--sklearn-color-fitted-level-0);\n",
       "  border: var(--sklearn-color-fitted-level-3);\n",
       "}\n",
       "\n",
       ".sk-estimator-doc-link:hover span {\n",
       "  display: block;\n",
       "}\n",
       "\n",
       "/* \"?\"-specific style due to the `<a>` HTML tag */\n",
       "\n",
       "#sk-container-id-1 a.estimator_doc_link {\n",
       "  float: right;\n",
       "  font-size: 1rem;\n",
       "  line-height: 1em;\n",
       "  font-family: monospace;\n",
       "  background-color: var(--sklearn-color-background);\n",
       "  border-radius: 1rem;\n",
       "  height: 1rem;\n",
       "  width: 1rem;\n",
       "  text-decoration: none;\n",
       "  /* unfitted */\n",
       "  color: var(--sklearn-color-unfitted-level-1);\n",
       "  border: var(--sklearn-color-unfitted-level-1) 1pt solid;\n",
       "}\n",
       "\n",
       "#sk-container-id-1 a.estimator_doc_link.fitted {\n",
       "  /* fitted */\n",
       "  border: var(--sklearn-color-fitted-level-1) 1pt solid;\n",
       "  color: var(--sklearn-color-fitted-level-1);\n",
       "}\n",
       "\n",
       "/* On hover */\n",
       "#sk-container-id-1 a.estimator_doc_link:hover {\n",
       "  /* unfitted */\n",
       "  background-color: var(--sklearn-color-unfitted-level-3);\n",
       "  color: var(--sklearn-color-background);\n",
       "  text-decoration: none;\n",
       "}\n",
       "\n",
       "#sk-container-id-1 a.estimator_doc_link.fitted:hover {\n",
       "  /* fitted */\n",
       "  background-color: var(--sklearn-color-fitted-level-3);\n",
       "}\n",
       "</style><div id=\"sk-container-id-1\" class=\"sk-top-container\"><div class=\"sk-text-repr-fallback\"><pre>StackingClassifier(cv=StratifiedKFold(n_splits=5, random_state=42, shuffle=True),\n",
       "                   estimators=[(&#x27;lr_rfecv_final&#x27;,\n",
       "                                LogisticRegression(C=0.9009814576647523,\n",
       "                                                   class_weight=&#x27;balanced&#x27;,\n",
       "                                                   max_iter=777, penalty=&#x27;l1&#x27;,\n",
       "                                                   random_state=42,\n",
       "                                                   solver=&#x27;liblinear&#x27;,\n",
       "                                                   tol=0.000180003730892121)),\n",
       "                               (&#x27;lsvc_rfecv_final&#x27;,\n",
       "                                LinearSVC(C=6.2430613151701415,\n",
       "                                          class_weight=&#x27;balanced&#x27;, dual=False,\n",
       "                                          max...\n",
       "                                LGBMClassifier(force_col_wise=True,\n",
       "                                               learning_rate=0.02106599014877994,\n",
       "                                               max_depth=14,\n",
       "                                               min_child_samples=90,\n",
       "                                               n_estimators=435, n_jobs=-1,\n",
       "                                               num_leaves=64,\n",
       "                                               objective=&#x27;binary&#x27;,\n",
       "                                               random_state=42,\n",
       "                                               scale_pos_weight=1.5)),\n",
       "                               (&#x27;cat_rfecv_final&#x27;,\n",
       "                                &lt;catboost.core.CatBoostClassifier object at 0x000001C7041376D0&gt;)],\n",
       "                   final_estimator=LogisticRegression(n_jobs=-1,\n",
       "                                                      random_state=42),\n",
       "                   n_jobs=-1)</pre><b>In a Jupyter environment, please rerun this cell to show the HTML representation or trust the notebook. <br />On GitHub, the HTML representation is unable to render, please try loading this page with nbviewer.org.</b></div><div class=\"sk-container\" hidden><div class=\"sk-item sk-dashed-wrapped\"><div class=\"sk-label-container\"><div class=\"sk-label fitted sk-toggleable\"><input class=\"sk-toggleable__control sk-hidden--visually\" id=\"sk-estimator-id-1\" type=\"checkbox\" ><label for=\"sk-estimator-id-1\" class=\"sk-toggleable__label fitted sk-toggleable__label-arrow fitted\">&nbsp;&nbsp;StackingClassifier<a class=\"sk-estimator-doc-link fitted\" rel=\"noreferrer\" target=\"_blank\" href=\"https://scikit-learn.org/1.5/modules/generated/sklearn.ensemble.StackingClassifier.html\">?<span>Documentation for StackingClassifier</span></a><span class=\"sk-estimator-doc-link fitted\">i<span>Fitted</span></span></label><div class=\"sk-toggleable__content fitted\"><pre>StackingClassifier(cv=StratifiedKFold(n_splits=5, random_state=42, shuffle=True),\n",
       "                   estimators=[(&#x27;lr_rfecv_final&#x27;,\n",
       "                                LogisticRegression(C=0.9009814576647523,\n",
       "                                                   class_weight=&#x27;balanced&#x27;,\n",
       "                                                   max_iter=777, penalty=&#x27;l1&#x27;,\n",
       "                                                   random_state=42,\n",
       "                                                   solver=&#x27;liblinear&#x27;,\n",
       "                                                   tol=0.000180003730892121)),\n",
       "                               (&#x27;lsvc_rfecv_final&#x27;,\n",
       "                                LinearSVC(C=6.2430613151701415,\n",
       "                                          class_weight=&#x27;balanced&#x27;, dual=False,\n",
       "                                          max...\n",
       "                                LGBMClassifier(force_col_wise=True,\n",
       "                                               learning_rate=0.02106599014877994,\n",
       "                                               max_depth=14,\n",
       "                                               min_child_samples=90,\n",
       "                                               n_estimators=435, n_jobs=-1,\n",
       "                                               num_leaves=64,\n",
       "                                               objective=&#x27;binary&#x27;,\n",
       "                                               random_state=42,\n",
       "                                               scale_pos_weight=1.5)),\n",
       "                               (&#x27;cat_rfecv_final&#x27;,\n",
       "                                &lt;catboost.core.CatBoostClassifier object at 0x000001C7041376D0&gt;)],\n",
       "                   final_estimator=LogisticRegression(n_jobs=-1,\n",
       "                                                      random_state=42),\n",
       "                   n_jobs=-1)</pre></div> </div></div><div class=\"sk-serial\"><div class=\"sk-item\"><div class=\"sk-parallel\"><div class=\"sk-parallel-item\"><div class=\"sk-item\"><div class=\"sk-label-container\"><div class=\"sk-label fitted sk-toggleable\"><label>lr_rfecv_final</label></div></div><div class=\"sk-serial\"><div class=\"sk-item\"><div class=\"sk-estimator fitted sk-toggleable\"><input class=\"sk-toggleable__control sk-hidden--visually\" id=\"sk-estimator-id-2\" type=\"checkbox\" ><label for=\"sk-estimator-id-2\" class=\"sk-toggleable__label fitted sk-toggleable__label-arrow fitted\">&nbsp;LogisticRegression<a class=\"sk-estimator-doc-link fitted\" rel=\"noreferrer\" target=\"_blank\" href=\"https://scikit-learn.org/1.5/modules/generated/sklearn.linear_model.LogisticRegression.html\">?<span>Documentation for LogisticRegression</span></a></label><div class=\"sk-toggleable__content fitted\"><pre>LogisticRegression(C=0.9009814576647523, class_weight=&#x27;balanced&#x27;, max_iter=777,\n",
       "                   penalty=&#x27;l1&#x27;, random_state=42, solver=&#x27;liblinear&#x27;,\n",
       "                   tol=0.000180003730892121)</pre></div> </div></div></div></div></div><div class=\"sk-parallel-item\"><div class=\"sk-item\"><div class=\"sk-label-container\"><div class=\"sk-label fitted sk-toggleable\"><label>lsvc_rfecv_final</label></div></div><div class=\"sk-serial\"><div class=\"sk-item\"><div class=\"sk-estimator fitted sk-toggleable\"><input class=\"sk-toggleable__control sk-hidden--visually\" id=\"sk-estimator-id-3\" type=\"checkbox\" ><label for=\"sk-estimator-id-3\" class=\"sk-toggleable__label fitted sk-toggleable__label-arrow fitted\">&nbsp;LinearSVC<a class=\"sk-estimator-doc-link fitted\" rel=\"noreferrer\" target=\"_blank\" href=\"https://scikit-learn.org/1.5/modules/generated/sklearn.svm.LinearSVC.html\">?<span>Documentation for LinearSVC</span></a></label><div class=\"sk-toggleable__content fitted\"><pre>LinearSVC(C=6.2430613151701415, class_weight=&#x27;balanced&#x27;, dual=False,\n",
       "          max_iter=2095, penalty=&#x27;l1&#x27;, random_state=42,\n",
       "          tol=0.0004462711899132743)</pre></div> </div></div></div></div></div><div class=\"sk-parallel-item\"><div class=\"sk-item\"><div class=\"sk-label-container\"><div class=\"sk-label fitted sk-toggleable\"><label>sgd_rfecv_final</label></div></div><div class=\"sk-serial\"><div class=\"sk-item\"><div class=\"sk-estimator fitted sk-toggleable\"><input class=\"sk-toggleable__control sk-hidden--visually\" id=\"sk-estimator-id-4\" type=\"checkbox\" ><label for=\"sk-estimator-id-4\" class=\"sk-toggleable__label fitted sk-toggleable__label-arrow fitted\">&nbsp;SGDClassifier<a class=\"sk-estimator-doc-link fitted\" rel=\"noreferrer\" target=\"_blank\" href=\"https://scikit-learn.org/1.5/modules/generated/sklearn.linear_model.SGDClassifier.html\">?<span>Documentation for SGDClassifier</span></a></label><div class=\"sk-toggleable__content fitted\"><pre>SGDClassifier(alpha=0.003027216973071361, class_weight=&#x27;balanced&#x27;,\n",
       "              eta0=0.01883232969699258, l1_ratio=0.6482941900747266,\n",
       "              learning_rate=&#x27;adaptive&#x27;, loss=&#x27;modified_huber&#x27;, max_iter=4438,\n",
       "              n_jobs=-1, random_state=42, tol=0.0004324328190978092)</pre></div> </div></div></div></div></div><div class=\"sk-parallel-item\"><div class=\"sk-item\"><div class=\"sk-label-container\"><div class=\"sk-label fitted sk-toggleable\"><label>lgbm_rfecv_final</label></div></div><div class=\"sk-serial\"><div class=\"sk-item\"><div class=\"sk-estimator fitted sk-toggleable\"><input class=\"sk-toggleable__control sk-hidden--visually\" id=\"sk-estimator-id-5\" type=\"checkbox\" ><label for=\"sk-estimator-id-5\" class=\"sk-toggleable__label fitted sk-toggleable__label-arrow fitted\">LGBMClassifier</label><div class=\"sk-toggleable__content fitted\"><pre>LGBMClassifier(force_col_wise=True, learning_rate=0.02106599014877994,\n",
       "               max_depth=14, min_child_samples=90, n_estimators=435, n_jobs=-1,\n",
       "               num_leaves=64, objective=&#x27;binary&#x27;, random_state=42,\n",
       "               scale_pos_weight=1.5)</pre></div> </div></div></div></div></div><div class=\"sk-parallel-item\"><div class=\"sk-item\"><div class=\"sk-label-container\"><div class=\"sk-label fitted sk-toggleable\"><label>cat_rfecv_final</label></div></div><div class=\"sk-serial\"><div class=\"sk-item\"><div class=\"sk-estimator fitted sk-toggleable\"><input class=\"sk-toggleable__control sk-hidden--visually\" id=\"sk-estimator-id-6\" type=\"checkbox\" ><label for=\"sk-estimator-id-6\" class=\"sk-toggleable__label fitted sk-toggleable__label-arrow fitted\">CatBoostClassifier</label><div class=\"sk-toggleable__content fitted\"><pre>&lt;catboost.core.CatBoostClassifier object at 0x000001C7041376D0&gt;</pre></div> </div></div></div></div></div></div></div><div class=\"sk-item\"><div class=\"sk-parallel\"><div class=\"sk-parallel-item\"><div class=\"sk-item\"><div class=\"sk-label-container\"><div class=\"sk-label fitted sk-toggleable\"><label>final_estimator</label></div></div><div class=\"sk-serial\"><div class=\"sk-item\"><div class=\"sk-estimator fitted sk-toggleable\"><input class=\"sk-toggleable__control sk-hidden--visually\" id=\"sk-estimator-id-7\" type=\"checkbox\" ><label for=\"sk-estimator-id-7\" class=\"sk-toggleable__label fitted sk-toggleable__label-arrow fitted\">&nbsp;LogisticRegression<a class=\"sk-estimator-doc-link fitted\" rel=\"noreferrer\" target=\"_blank\" href=\"https://scikit-learn.org/1.5/modules/generated/sklearn.linear_model.LogisticRegression.html\">?<span>Documentation for LogisticRegression</span></a></label><div class=\"sk-toggleable__content fitted\"><pre>LogisticRegression(n_jobs=-1, random_state=42)</pre></div> </div></div></div></div></div></div></div></div></div></div></div>"
      ],
      "text/plain": [
       "StackingClassifier(cv=StratifiedKFold(n_splits=5, random_state=42, shuffle=True),\n",
       "                   estimators=[('lr_rfecv_final',\n",
       "                                LogisticRegression(C=0.9009814576647523,\n",
       "                                                   class_weight='balanced',\n",
       "                                                   max_iter=777, penalty='l1',\n",
       "                                                   random_state=42,\n",
       "                                                   solver='liblinear',\n",
       "                                                   tol=0.000180003730892121)),\n",
       "                               ('lsvc_rfecv_final',\n",
       "                                LinearSVC(C=6.2430613151701415,\n",
       "                                          class_weight='balanced', dual=False,\n",
       "                                          max...\n",
       "                                LGBMClassifier(force_col_wise=True,\n",
       "                                               learning_rate=0.02106599014877994,\n",
       "                                               max_depth=14,\n",
       "                                               min_child_samples=90,\n",
       "                                               n_estimators=435, n_jobs=-1,\n",
       "                                               num_leaves=64,\n",
       "                                               objective='binary',\n",
       "                                               random_state=42,\n",
       "                                               scale_pos_weight=1.5)),\n",
       "                               ('cat_rfecv_final',\n",
       "                                <catboost.core.CatBoostClassifier object at 0x000001C7041376D0>)],\n",
       "                   final_estimator=LogisticRegression(n_jobs=-1,\n",
       "                                                      random_state=42),\n",
       "                   n_jobs=-1)"
      ]
     },
     "execution_count": 111,
     "metadata": {},
     "output_type": "execute_result"
    }
   ],
   "source": [
    "cat_vt_final.fit(train_vt, target)\n",
    "stacking_rfecv.fit(train_rfecv, target)"
   ]
  },
  {
   "cell_type": "code",
   "execution_count": 112,
   "metadata": {},
   "outputs": [
    {
     "data": {
      "text/plain": [
       "((12225,), (12225,))"
      ]
     },
     "execution_count": 112,
     "metadata": {},
     "output_type": "execute_result"
    }
   ],
   "source": [
    "pred_vt = cat_vt_final.predict_proba(test_vt)[:, 1]\n",
    "pred_rfecv = stacking_rfecv.predict_proba(test_rfecv)[:, 1]\n",
    "\n",
    "pred_vt.shape, pred_rfecv.shape"
   ]
  },
  {
   "cell_type": "code",
   "execution_count": 113,
   "metadata": {},
   "outputs": [],
   "source": [
    "pred = np.mean([pred_vt, pred_rfecv], axis=0)\n",
    "# pred = (pred >= 0.5).astype(int)"
   ]
  },
  {
   "cell_type": "markdown",
   "metadata": {
    "id": "CcnCtcWPVrKn"
   },
   "source": [
    "# 평가를 위한 제출 파일 생성\n",
    "- 예측 결과를 target 컬럼에 넣어 csv 파일로 저장후에 제출한다."
   ]
  },
  {
   "cell_type": "code",
   "execution_count": 114,
   "metadata": {
    "colab": {
     "base_uri": "https://localhost:8080/",
     "height": 423
    },
    "executionInfo": {
     "elapsed": 349,
     "status": "ok",
     "timestamp": 1730270088012,
     "user": {
      "displayName": "koeyhi",
      "userId": "08049178071858703986"
     },
     "user_tz": -540
    },
    "id": "LLHqOugmVq_v",
    "outputId": "8f33a188-902f-4bce-c940-1ca59acb8f10"
   },
   "outputs": [
    {
     "data": {
      "text/html": [
       "<div>\n",
       "<style scoped>\n",
       "    .dataframe tbody tr th:only-of-type {\n",
       "        vertical-align: middle;\n",
       "    }\n",
       "\n",
       "    .dataframe tbody tr th {\n",
       "        vertical-align: top;\n",
       "    }\n",
       "\n",
       "    .dataframe thead th {\n",
       "        text-align: right;\n",
       "    }\n",
       "</style>\n",
       "<table border=\"1\" class=\"dataframe\">\n",
       "  <thead>\n",
       "    <tr style=\"text-align: right;\">\n",
       "      <th></th>\n",
       "      <th>ID</th>\n",
       "      <th>target</th>\n",
       "    </tr>\n",
       "  </thead>\n",
       "  <tbody>\n",
       "    <tr>\n",
       "      <th>0</th>\n",
       "      <td>test_0</td>\n",
       "      <td>0.063681</td>\n",
       "    </tr>\n",
       "    <tr>\n",
       "      <th>1</th>\n",
       "      <td>test_1</td>\n",
       "      <td>0.429963</td>\n",
       "    </tr>\n",
       "    <tr>\n",
       "      <th>2</th>\n",
       "      <td>test_2</td>\n",
       "      <td>0.388115</td>\n",
       "    </tr>\n",
       "    <tr>\n",
       "      <th>3</th>\n",
       "      <td>test_3</td>\n",
       "      <td>0.840786</td>\n",
       "    </tr>\n",
       "    <tr>\n",
       "      <th>4</th>\n",
       "      <td>test_4</td>\n",
       "      <td>0.601071</td>\n",
       "    </tr>\n",
       "    <tr>\n",
       "      <th>...</th>\n",
       "      <td>...</td>\n",
       "      <td>...</td>\n",
       "    </tr>\n",
       "    <tr>\n",
       "      <th>12220</th>\n",
       "      <td>test_12220</td>\n",
       "      <td>0.815280</td>\n",
       "    </tr>\n",
       "    <tr>\n",
       "      <th>12221</th>\n",
       "      <td>test_12221</td>\n",
       "      <td>0.242182</td>\n",
       "    </tr>\n",
       "    <tr>\n",
       "      <th>12222</th>\n",
       "      <td>test_12222</td>\n",
       "      <td>0.035403</td>\n",
       "    </tr>\n",
       "    <tr>\n",
       "      <th>12223</th>\n",
       "      <td>test_12223</td>\n",
       "      <td>0.308134</td>\n",
       "    </tr>\n",
       "    <tr>\n",
       "      <th>12224</th>\n",
       "      <td>test_12224</td>\n",
       "      <td>0.038248</td>\n",
       "    </tr>\n",
       "  </tbody>\n",
       "</table>\n",
       "<p>12225 rows × 2 columns</p>\n",
       "</div>"
      ],
      "text/plain": [
       "               ID    target\n",
       "0          test_0  0.063681\n",
       "1          test_1  0.429963\n",
       "2          test_2  0.388115\n",
       "3          test_3  0.840786\n",
       "4          test_4  0.601071\n",
       "...           ...       ...\n",
       "12220  test_12220  0.815280\n",
       "12221  test_12221  0.242182\n",
       "12222  test_12222  0.035403\n",
       "12223  test_12223  0.308134\n",
       "12224  test_12224  0.038248\n",
       "\n",
       "[12225 rows x 2 columns]"
      ]
     },
     "execution_count": 114,
     "metadata": {},
     "output_type": "execute_result"
    }
   ],
   "source": [
    "submit[\"target\"] = pred\n",
    "submit"
   ]
  },
  {
   "cell_type": "markdown",
   "metadata": {
    "id": "bjw87GeIV-BP"
   },
   "source": [
    "- 예측 결과를 csv 파일로 저장하여 제출"
   ]
  },
  {
   "cell_type": "code",
   "execution_count": 115,
   "metadata": {
    "executionInfo": {
     "elapsed": 16,
     "status": "ok",
     "timestamp": 1730269803783,
     "user": {
      "displayName": "koeyhi",
      "userId": "08049178071858703986"
     },
     "user_tz": -540
    },
    "id": "SsLTeJeoWBc_"
   },
   "outputs": [],
   "source": [
    "submit.to_csv(\"../submit/data/submit_권지혁.csv\",index=False)"
   ]
  }
 ],
 "metadata": {
  "colab": {
   "provenance": []
  },
  "kernelspec": {
   "display_name": "Python 3",
   "name": "python3"
  },
  "language_info": {
   "codemirror_mode": {
    "name": "ipython",
    "version": 3
   },
   "file_extension": ".py",
   "mimetype": "text/x-python",
   "name": "python",
   "nbconvert_exporter": "python",
   "pygments_lexer": "ipython3",
   "version": "3.10.8"
  }
 },
 "nbformat": 4,
 "nbformat_minor": 0
}
