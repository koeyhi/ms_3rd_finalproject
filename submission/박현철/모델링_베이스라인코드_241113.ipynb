{
 "cells": [
  {
   "cell_type": "code",
   "execution_count": 270,
   "metadata": {
    "colab": {
     "base_uri": "https://localhost:8080/"
    },
    "executionInfo": {
     "elapsed": 19015,
     "status": "ok",
     "timestamp": 1731567637833,
     "user": {
      "displayName": "beeeiiig123",
      "userId": "14260634740903801666"
     },
     "user_tz": -540
    },
    "id": "zQfeN1QgNRif",
    "outputId": "8aa2a232-3f4b-403d-a17f-dc9bbb8d8a3d"
   },
   "outputs": [
    {
     "name": "stderr",
     "output_type": "stream",
     "text": [
      "'sudo'��(��) ���� �Ǵ� �ܺ� ����, ������ �� �ִ� ���α׷�, �Ǵ�\n",
      "��ġ ������ �ƴմϴ�.\n",
      "'sudo'��(��) ���� �Ǵ� �ܺ� ����, ������ �� �ִ� ���α׷�, �Ǵ�\n",
      "��ġ ������ �ƴմϴ�.\n"
     ]
    }
   ],
   "source": [
    "import matplotlib\n",
    "from matplotlib import font_manager\n",
    "\n",
    "!sudo apt-get install -y fonts-nanum\n",
    "!sudo fc-cache -fv\n",
    "\n",
    "fontpaths = [\"/usr/share/fonts/truetype/nanum/\"]\n",
    "font_files = font_manager.findSystemFonts(fontpaths=fontpaths)\n",
    "\n",
    "for ff in font_files:\n",
    "    font_manager.fontManager.addfont(ff)\n",
    "\n",
    "matplotlib.rc('font', family=\"NanumGothic\")\n",
    "matplotlib.rcParams['axes.unicode_minus'] = False"
   ]
  },
  {
   "cell_type": "code",
   "execution_count": 271,
   "metadata": {
    "colab": {
     "base_uri": "https://localhost:8080/",
     "height": 54
    },
    "executionInfo": {
     "elapsed": 17231,
     "status": "ok",
     "timestamp": 1731567655062,
     "user": {
      "displayName": "beeeiiig123",
      "userId": "14260634740903801666"
     },
     "user_tz": -540
    },
    "id": "N44QYORV8wFy",
    "outputId": "1d1c7289-babf-4094-f66f-ddb97194803f"
   },
   "outputs": [
    {
     "data": {
      "text/plain": [
       "'data/'"
      ]
     },
     "execution_count": 271,
     "metadata": {},
     "output_type": "execute_result"
    }
   ],
   "source": [
    "# from google.colab import drive\n",
    "# drive.mount('/content/drive')\n",
    "\n",
    "DATA_PATH = \"data/\"\n",
    "DATA_PATH"
   ]
  },
  {
   "cell_type": "markdown",
   "metadata": {
    "id": "q1qAeLjZVWZz"
   },
   "source": [
    "- 시드값"
   ]
  },
  {
   "cell_type": "code",
   "execution_count": 272,
   "metadata": {
    "executionInfo": {
     "elapsed": 4,
     "status": "ok",
     "timestamp": 1731567655063,
     "user": {
      "displayName": "beeeiiig123",
      "userId": "14260634740903801666"
     },
     "user_tz": -540
    },
    "id": "nVyhJ6uOVVNE"
   },
   "outputs": [],
   "source": [
    "SEED = 42"
   ]
  },
  {
   "cell_type": "markdown",
   "metadata": {
    "id": "sQd7JpzNBHa1"
   },
   "source": [
    "- 데이터 불러오기"
   ]
  },
  {
   "cell_type": "code",
   "execution_count": 273,
   "metadata": {
    "colab": {
     "base_uri": "https://localhost:8080/"
    },
    "executionInfo": {
     "elapsed": 9021,
     "status": "ok",
     "timestamp": 1731567664080,
     "user": {
      "displayName": "beeeiiig123",
      "userId": "14260634740903801666"
     },
     "user_tz": -540
    },
    "id": "KFGKUIWt89fZ",
    "outputId": "8ae1e97d-46ea-4b26-d5db-49e7742c700d"
   },
   "outputs": [
    {
     "data": {
      "text/plain": [
       "((523105, 7), (14940, 2), (441196, 7), (12225, 2))"
      ]
     },
     "execution_count": 273,
     "metadata": {},
     "output_type": "execute_result"
    }
   ],
   "source": [
    "import pandas as pd\n",
    "import numpy as np\n",
    "\n",
    "train_tr = pd.read_csv(f\"{DATA_PATH}store_train_transactions.csv\") # 학습용 구매기록 데이터\n",
    "train_target = pd.read_csv(f\"{DATA_PATH}store_train.csv\") # 학습용 정답 데이터\n",
    "test_tr = pd.read_csv(f\"{DATA_PATH}store_test_transactions.csv\") # 테스트용 구매기록 데이터\n",
    "submit = pd.read_csv(f\"{DATA_PATH}store_submission.csv\") # 제출 양식 데이터\n",
    "\n",
    "train_tr.shape , train_target.shape , test_tr.shape , submit.shape"
   ]
  },
  {
   "cell_type": "markdown",
   "metadata": {
    "id": "XZq4x4CuP2gr"
   },
   "source": [
    "- 공통 피처 파일 불러오기"
   ]
  },
  {
   "cell_type": "code",
   "execution_count": 274,
   "metadata": {
    "colab": {
     "base_uri": "https://localhost:8080/"
    },
    "executionInfo": {
     "elapsed": 5115,
     "status": "ok",
     "timestamp": 1731567669193,
     "user": {
      "displayName": "beeeiiig123",
      "userId": "14260634740903801666"
     },
     "user_tz": -540
    },
    "id": "KVhWTbRTQVMC",
    "outputId": "e56e89db-6fc2-46a7-dae9-9f310546b8a1"
   },
   "outputs": [
    {
     "data": {
      "text/plain": [
       "((14940, 759), (12225, 759))"
      ]
     },
     "execution_count": 274,
     "metadata": {},
     "output_type": "execute_result"
    }
   ],
   "source": [
    "train_ft = pd.read_csv(f\"{DATA_PATH}train_pvt1.csv\") # 학습 데이터(피처)\n",
    "test_ft = pd.read_csv(f\"{DATA_PATH}test_pvt1.csv\") # 테스트 데이터(피처)\n",
    "\n",
    "train_ft.shape , test_ft.shape"
   ]
  },
  {
   "cell_type": "code",
   "execution_count": 275,
   "metadata": {
    "colab": {
     "base_uri": "https://localhost:8080/"
    },
    "executionInfo": {
     "elapsed": 1741,
     "status": "ok",
     "timestamp": 1730269756796,
     "user": {
      "displayName": "koeyhi",
      "userId": "08049178071858703986"
     },
     "user_tz": -540
    },
    "id": "T3tcFrkLPv1g",
    "outputId": "31ea41a2-0d8b-4e97-c431-e584aab30619"
   },
   "outputs": [],
   "source": [
    "# train_ft = pd.read_csv(f\"{DATA_PATH}train_common.csv\") # 학습 데이터(피처)\n",
    "# test_ft = pd.read_csv(f\"{DATA_PATH}test_common.csv\") # 테스트 데이터(피처)\n",
    "\n",
    "# train_ft.shape , test_ft.shape"
   ]
  },
  {
   "cell_type": "markdown",
   "metadata": {
    "id": "0RGA2obDNRio"
   },
   "source": [
    "- 정답 데이터"
   ]
  },
  {
   "cell_type": "code",
   "execution_count": 276,
   "metadata": {
    "colab": {
     "base_uri": "https://localhost:8080/",
     "height": 458
    },
    "executionInfo": {
     "elapsed": 8,
     "status": "ok",
     "timestamp": 1731567669193,
     "user": {
      "displayName": "beeeiiig123",
      "userId": "14260634740903801666"
     },
     "user_tz": -540
    },
    "id": "nzasGzbdNRip",
    "outputId": "c965b339-408b-4579-d835-322947239289"
   },
   "outputs": [
    {
     "data": {
      "text/plain": [
       "0        1.0\n",
       "1        1.0\n",
       "2        0.0\n",
       "3        0.0\n",
       "4        0.0\n",
       "        ... \n",
       "14935    0.0\n",
       "14936    0.0\n",
       "14937    0.0\n",
       "14938    1.0\n",
       "14939    1.0\n",
       "Name: target, Length: 14940, dtype: float64"
      ]
     },
     "execution_count": 276,
     "metadata": {},
     "output_type": "execute_result"
    }
   ],
   "source": [
    "target = train_target[\"target\"]\n",
    "target"
   ]
  },
  {
   "cell_type": "markdown",
   "metadata": {
    "id": "r43SCHUujW-f"
   },
   "source": [
    "# 결측치 처리"
   ]
  },
  {
   "cell_type": "code",
   "execution_count": 277,
   "metadata": {
    "colab": {
     "base_uri": "https://localhost:8080/",
     "height": 84
    },
    "executionInfo": {
     "elapsed": 7,
     "status": "ok",
     "timestamp": 1731567669193,
     "user": {
      "displayName": "beeeiiig123",
      "userId": "14260634740903801666"
     },
     "user_tz": -540
    },
    "id": "0qVrhIG3Q6T3",
    "outputId": "bd3c04c9-413b-4153-f62c-6c0e4939cb3f"
   },
   "outputs": [
    {
     "data": {
      "text/plain": [
       "Series([], dtype: int64)"
      ]
     },
     "execution_count": 277,
     "metadata": {},
     "output_type": "execute_result"
    }
   ],
   "source": [
    "mask = train_ft.isnull().sum() > 0\n",
    "train_ft.isnull().sum()[mask]"
   ]
  },
  {
   "cell_type": "code",
   "execution_count": 278,
   "metadata": {
    "colab": {
     "base_uri": "https://localhost:8080/",
     "height": 84
    },
    "executionInfo": {
     "elapsed": 6,
     "status": "ok",
     "timestamp": 1731567669193,
     "user": {
      "displayName": "beeeiiig123",
      "userId": "14260634740903801666"
     },
     "user_tz": -540
    },
    "id": "51Fu8zq9Q6Q8",
    "outputId": "c725ea4a-7f69-4d53-fdd2-4afd03d806e6"
   },
   "outputs": [
    {
     "data": {
      "text/plain": [
       "Series([], dtype: int64)"
      ]
     },
     "execution_count": 278,
     "metadata": {},
     "output_type": "execute_result"
    }
   ],
   "source": [
    "mask = test_ft.isnull().sum() > 0\n",
    "test_ft.isnull().sum()[mask]"
   ]
  },
  {
   "cell_type": "markdown",
   "metadata": {
    "id": "fgPa4QG0RF2d"
   },
   "source": [
    "# 특성 공학(Feature Engineering)"
   ]
  },
  {
   "cell_type": "markdown",
   "metadata": {
    "id": "OXuo6unbRLGm"
   },
   "source": [
    "- ID 변수 제외"
   ]
  },
  {
   "cell_type": "code",
   "execution_count": 279,
   "metadata": {
    "colab": {
     "base_uri": "https://localhost:8080/"
    },
    "executionInfo": {
     "elapsed": 281,
     "status": "ok",
     "timestamp": 1731567669469,
     "user": {
      "displayName": "beeeiiig123",
      "userId": "14260634740903801666"
     },
     "user_tz": -540
    },
    "id": "xfksFVguRFuZ",
    "outputId": "557395d1-5e52-4b93-fd83-cb1d6cdf2887"
   },
   "outputs": [
    {
     "data": {
      "text/plain": [
       "((14940, 758), (12225, 758))"
      ]
     },
     "execution_count": 279,
     "metadata": {},
     "output_type": "execute_result"
    }
   ],
   "source": [
    "train_ft = train_ft.iloc[:,1:]\n",
    "test_ft = test_ft.iloc[:,1:]\n",
    "train_ft.shape, test_ft.shape"
   ]
  },
  {
   "cell_type": "markdown",
   "metadata": {
    "id": "jjuSj8URRa_q"
   },
   "source": [
    "## 피처 추가"
   ]
  },
  {
   "cell_type": "code",
   "execution_count": 280,
   "metadata": {
    "colab": {
     "base_uri": "https://localhost:8080/"
    },
    "executionInfo": {
     "elapsed": 286,
     "status": "ok",
     "timestamp": 1731398724969,
     "user": {
      "displayName": "beeeiiig123",
      "userId": "14260634740903801666"
     },
     "user_tz": -540
    },
    "id": "-DHsdicWNRiq",
    "outputId": "1e07e738-0e00-4e8f-9a71-92837c8d9a72"
   },
   "outputs": [],
   "source": [
    "# cols = [ col for col in train_ft.columns if col.startswith(\"pivot_지점코드_\") ]\n",
    "\n",
    "# train_ft[\"지점코드별_구매횟수_std\"] = train_ft[cols].std(axis=1)\n",
    "# train_ft[\"지점코드별_구매횟수_skew\"] = train_ft[cols].skew(axis=1)\n",
    "# train_ft[\"지점코드별_구매횟수_kurt\"] = train_ft[cols].kurt(axis=1)\n",
    "\n",
    "# test_ft[\"지점코드별_구매횟수_std\"] = test_ft[cols].std(axis=1)\n",
    "# test_ft[\"지점코드별_구매횟수_skew\"] = test_ft[cols].skew(axis=1)\n",
    "# test_ft[\"지점코드별_구매횟수_kurt\"] = test_ft[cols].kurt(axis=1)\n",
    "\n",
    "# train_ft.shape, test_ft.shape"
   ]
  },
  {
   "cell_type": "code",
   "execution_count": 281,
   "metadata": {
    "colab": {
     "base_uri": "https://localhost:8080/"
    },
    "executionInfo": {
     "elapsed": 622,
     "status": "ok",
     "timestamp": 1731398726497,
     "user": {
      "displayName": "beeeiiig123",
      "userId": "14260634740903801666"
     },
     "user_tz": -540
    },
    "id": "EQaqdQSARFr4",
    "outputId": "c9405de5-ef34-4fc9-e120-10fe2ca6c386"
   },
   "outputs": [],
   "source": [
    "# cols = [ col for col in train_ft.columns if col.startswith(\"pivot_중분류_\") ]\n",
    "\n",
    "# train_ft[\"중분류별_구매횟수_std\"] = train_ft[cols].std(axis=1)\n",
    "# train_ft[\"중분류별_구매횟수_skew\"] = train_ft[cols].skew(axis=1)\n",
    "# train_ft[\"중분류별_구매횟수_kurt\"] = train_ft[cols].kurt(axis=1)\n",
    "\n",
    "# test_ft[\"중분류별_구매횟수_std\"] = test_ft[cols].std(axis=1)\n",
    "# test_ft[\"중분류별_구매횟수_skew\"] = test_ft[cols].skew(axis=1)\n",
    "# test_ft[\"중분류별_구매횟수_kurt\"] = test_ft[cols].kurt(axis=1)\n",
    "\n",
    "# train_ft.shape, test_ft.shape"
   ]
  },
  {
   "cell_type": "code",
   "execution_count": 282,
   "metadata": {
    "colab": {
     "base_uri": "https://localhost:8080/"
    },
    "executionInfo": {
     "elapsed": 303,
     "status": "ok",
     "timestamp": 1731398728239,
     "user": {
      "displayName": "beeeiiig123",
      "userId": "14260634740903801666"
     },
     "user_tz": -540
    },
    "id": "-nmbTsrXNRir",
    "outputId": "eb5125d0-0f3b-4f32-9ca1-9e3c60a1c9d9"
   },
   "outputs": [],
   "source": [
    "# cols = [ col for col in train_ft.columns if col.startswith(\"pivot_대분류_\") ]\n",
    "\n",
    "# train_ft[\"대분류별_구매횟수_std\"] = train_ft[cols].std(axis=1)\n",
    "# train_ft[\"대분류별_구매횟수_skew\"] = train_ft[cols].skew(axis=1)\n",
    "# train_ft[\"대분류별_구매횟수_kurt\"] = train_ft[cols].kurt(axis=1)\n",
    "\n",
    "# test_ft[\"대분류별_구매횟수_std\"] = test_ft[cols].std(axis=1)\n",
    "# test_ft[\"대분류별_구매횟수_skew\"] = test_ft[cols].skew(axis=1)\n",
    "# test_ft[\"대분류별_구매횟수_kurt\"] = test_ft[cols].kurt(axis=1)\n",
    "\n",
    "# train_ft.shape, test_ft.shape"
   ]
  },
  {
   "cell_type": "code",
   "execution_count": 283,
   "metadata": {
    "colab": {
     "base_uri": "https://localhost:8080/"
    },
    "executionInfo": {
     "elapsed": 291,
     "status": "ok",
     "timestamp": 1731398729633,
     "user": {
      "displayName": "beeeiiig123",
      "userId": "14260634740903801666"
     },
     "user_tz": -540
    },
    "id": "YdWmJtvQNRir",
    "outputId": "804a29ef-6810-4f94-a6d7-659a1ab61f8d"
   },
   "outputs": [],
   "source": [
    "# cols = [ col for col in train_ft.columns if col.startswith(\"pivot_브랜드코드_\") ]\n",
    "\n",
    "# train_ft[\"브랜드코드별_구매횟수_std\"] = train_ft[cols].std(axis=1)\n",
    "# train_ft[\"브랜드코드별_구매횟수_skew\"] = train_ft[cols].skew(axis=1)\n",
    "# train_ft[\"브랜드코드별_구매횟수_kurt\"] = train_ft[cols].kurt(axis=1)\n",
    "\n",
    "# test_ft[\"브랜드코드별_구매횟수_std\"] = test_ft[cols].std(axis=1)\n",
    "# test_ft[\"브랜드코드별_구매횟수_skew\"] = test_ft[cols].skew(axis=1)\n",
    "# test_ft[\"브랜드코드별_구매횟수_kurt\"] = test_ft[cols].kurt(axis=1)\n",
    "\n",
    "# train_ft.shape, test_ft.shape"
   ]
  },
  {
   "cell_type": "code",
   "execution_count": 284,
   "metadata": {
    "colab": {
     "base_uri": "https://localhost:8080/"
    },
    "executionInfo": {
     "elapsed": 306,
     "status": "ok",
     "timestamp": 1731398730948,
     "user": {
      "displayName": "beeeiiig123",
      "userId": "14260634740903801666"
     },
     "user_tz": -540
    },
    "id": "IVyT2wBxNRir",
    "outputId": "67b75945-aba1-441f-cb30-1a9b409f27d8"
   },
   "outputs": [],
   "source": [
    "# cols = [ col for col in train_ft.columns if col.endswith(\"요일_구매비율\") ]\n",
    "\n",
    "# train_ft[\"요일별_구매비율_std\"] = train_ft[cols].std(axis=1)\n",
    "# train_ft[\"요일별_구매비율_skew\"] = train_ft[cols].skew(axis=1)\n",
    "# train_ft[\"요일별_구매비율_kurt\"] = train_ft[cols].kurt(axis=1)\n",
    "\n",
    "# test_ft[\"요일별_구매비율_std\"] = test_ft[cols].std(axis=1)\n",
    "# test_ft[\"요일별_구매비율_skew\"] = test_ft[cols].skew(axis=1)\n",
    "# test_ft[\"요일별_구매비율_kurt\"] = test_ft[cols].kurt(axis=1)\n",
    "\n",
    "# train_ft.shape, test_ft.shape"
   ]
  },
  {
   "cell_type": "code",
   "execution_count": 285,
   "metadata": {
    "colab": {
     "base_uri": "https://localhost:8080/"
    },
    "executionInfo": {
     "elapsed": 320,
     "status": "ok",
     "timestamp": 1731398732659,
     "user": {
      "displayName": "beeeiiig123",
      "userId": "14260634740903801666"
     },
     "user_tz": -540
    },
    "id": "XvjGME86NRir",
    "outputId": "c2f5c0eb-c8ed-4959-cb5b-4aee9414990b"
   },
   "outputs": [],
   "source": [
    "# cols = [ col for col in train_ft.columns if col.endswith(\"월_구매비율\") ]\n",
    "\n",
    "# train_ft[\"월별_구매비율_std\"] = train_ft[cols].std(axis=1)\n",
    "# train_ft[\"월별_구매비율_skew\"] = train_ft[cols].skew(axis=1)\n",
    "# train_ft[\"월별_구매비율_kurt\"] = train_ft[cols].kurt(axis=1)\n",
    "\n",
    "# test_ft[\"월별_구매비율_std\"] = test_ft[cols].std(axis=1)\n",
    "# test_ft[\"월별_구매비율_skew\"] = test_ft[cols].skew(axis=1)\n",
    "# test_ft[\"월별_구매비율_kurt\"] = test_ft[cols].kurt(axis=1)\n",
    "\n",
    "# train_ft.shape, test_ft.shape"
   ]
  },
  {
   "cell_type": "code",
   "execution_count": 286,
   "metadata": {
    "colab": {
     "base_uri": "https://localhost:8080/"
    },
    "executionInfo": {
     "elapsed": 401,
     "status": "ok",
     "timestamp": 1731398734541,
     "user": {
      "displayName": "beeeiiig123",
      "userId": "14260634740903801666"
     },
     "user_tz": -540
    },
    "id": "GcFoiZB4RF1V",
    "outputId": "9dc2f791-0ac8-4775-9fb0-59ba77d46be6"
   },
   "outputs": [],
   "source": [
    "# cols = [\"봄_구매비율\",\"여름_구매비율\",\"가을_구매비율\",\"겨울_구매비율\"]\n",
    "\n",
    "# train_ft[\"계절별_구매비율_std\"] = train_ft[cols].std(axis=1)\n",
    "# train_ft[\"계절별_구매비율_skew\"] = train_ft[cols].skew(axis=1)\n",
    "# train_ft[\"계절별_구매비율_kurt\"] = train_ft[cols].kurt(axis=1)\n",
    "\n",
    "# test_ft[\"계절별_구매비율_std\"] = test_ft[cols].std(axis=1)\n",
    "# test_ft[\"계절별_구매비율_skew\"] = test_ft[cols].skew(axis=1)\n",
    "# test_ft[\"계절별_구매비율_kurt\"] = test_ft[cols].kurt(axis=1)\n",
    "\n",
    "# train_ft.shape, test_ft.shape"
   ]
  },
  {
   "cell_type": "code",
   "execution_count": 287,
   "metadata": {
    "colab": {
     "base_uri": "https://localhost:8080/"
    },
    "executionInfo": {
     "elapsed": 314,
     "status": "ok",
     "timestamp": 1731398735844,
     "user": {
      "displayName": "beeeiiig123",
      "userId": "14260634740903801666"
     },
     "user_tz": -540
    },
    "id": "Db6f4llyNRis",
    "outputId": "ecce0b39-b391-49ac-bc1f-be8997a7466c"
   },
   "outputs": [],
   "source": [
    "# cols = [ col for col in train_ft.columns if col.endswith(\"분기_구매비율\") ]\n",
    "\n",
    "# train_ft[\"분기별_구매비율_std\"] = train_ft[cols].std(axis=1)\n",
    "# train_ft[\"분기별_구매비율_skew\"] = train_ft[cols].skew(axis=1)\n",
    "# train_ft[\"분기별_구매비율_kurt\"] = train_ft[cols].kurt(axis=1)\n",
    "\n",
    "# test_ft[\"분기별_구매비율_std\"] = test_ft[cols].std(axis=1)\n",
    "# test_ft[\"분기별_구매비율_skew\"] = test_ft[cols].skew(axis=1)\n",
    "# test_ft[\"분기별_구매비율_kurt\"] = test_ft[cols].kurt(axis=1)\n",
    "\n",
    "# train_ft.shape, test_ft.shape"
   ]
  },
  {
   "cell_type": "code",
   "execution_count": 288,
   "metadata": {
    "colab": {
     "base_uri": "https://localhost:8080/"
    },
    "executionInfo": {
     "elapsed": 306,
     "status": "ok",
     "timestamp": 1731398738063,
     "user": {
      "displayName": "beeeiiig123",
      "userId": "14260634740903801666"
     },
     "user_tz": -540
    },
    "id": "DnojCr3UQ1ps",
    "outputId": "3f6a8e7c-37dc-4bd1-d282-e23804edcedf"
   },
   "outputs": [],
   "source": [
    "# cols = [ col for col in train_ft.columns if col.endswith(\"반기_구매비율\") ]\n",
    "\n",
    "# train_ft[\"반기별_구매비율_std\"] = train_ft[cols].std(axis=1)\n",
    "# test_ft[\"반기별_구매비율_std\"] = test_ft[cols].std(axis=1)\n",
    "\n",
    "# train_ft.shape, test_ft.shape"
   ]
  },
  {
   "cell_type": "code",
   "execution_count": 289,
   "metadata": {
    "colab": {
     "base_uri": "https://localhost:8080/"
    },
    "executionInfo": {
     "elapsed": 298,
     "status": "ok",
     "timestamp": 1731398739576,
     "user": {
      "displayName": "beeeiiig123",
      "userId": "14260634740903801666"
     },
     "user_tz": -540
    },
    "id": "IrOWwrmBNRis",
    "outputId": "8c9a0b35-1c70-46b6-fd3e-29d5544faa5f"
   },
   "outputs": [],
   "source": [
    "# cols = [ col for col in train_ft.columns if col.endswith(\"년_구매비율\") ]\n",
    "\n",
    "# train_ft[\"년도별_구매비율_std\"] = train_ft[cols].std(axis=1)\n",
    "# test_ft[\"년도별_구매비율_std\"] = test_ft[cols].std(axis=1)\n",
    "\n",
    "# train_ft.shape, test_ft.shape"
   ]
  },
  {
   "cell_type": "markdown",
   "metadata": {
    "id": "gXvdNLMtSVlW"
   },
   "source": [
    "## Feature Encoding"
   ]
  },
  {
   "cell_type": "markdown",
   "metadata": {
    "id": "qTDlQDGPNRit"
   },
   "source": [
    "- 범주형 피처\n",
    "    - 주구매지점, 주구매_중분류, 주구매_대분류, 주구매시간대, 선호브랜드코드"
   ]
  },
  {
   "cell_type": "code",
   "execution_count": 290,
   "metadata": {
    "colab": {
     "base_uri": "https://localhost:8080/"
    },
    "executionInfo": {
     "elapsed": 4255,
     "status": "ok",
     "timestamp": 1731567683641,
     "user": {
      "displayName": "beeeiiig123",
      "userId": "14260634740903801666"
     },
     "user_tz": -540
    },
    "id": "RICJpfu2SRWd",
    "outputId": "d58a0331-1ca7-4ec7-ab69-13e7029896d5"
   },
   "outputs": [
    {
     "name": "stdout",
     "output_type": "stream",
     "text": [
      "Requirement already satisfied: category_encoders in c:\\users\\kwon3\\appdata\\local\\programs\\python\\python310\\lib\\site-packages (2.6.4)\n",
      "Requirement already satisfied: numpy>=1.14.0 in c:\\users\\kwon3\\appdata\\local\\programs\\python\\python310\\lib\\site-packages (from category_encoders) (1.26.4)\n",
      "Requirement already satisfied: scikit-learn>=0.20.0 in c:\\users\\kwon3\\appdata\\local\\programs\\python\\python310\\lib\\site-packages (from category_encoders) (1.5.2)\n",
      "Requirement already satisfied: scipy>=1.0.0 in c:\\users\\kwon3\\appdata\\local\\programs\\python\\python310\\lib\\site-packages (from category_encoders) (1.14.1)\n",
      "Requirement already satisfied: statsmodels>=0.9.0 in c:\\users\\kwon3\\appdata\\local\\programs\\python\\python310\\lib\\site-packages (from category_encoders) (0.14.4)\n",
      "Requirement already satisfied: pandas>=1.0.5 in c:\\users\\kwon3\\appdata\\local\\programs\\python\\python310\\lib\\site-packages (from category_encoders) (2.2.2)\n",
      "Requirement already satisfied: patsy>=0.5.1 in c:\\users\\kwon3\\appdata\\local\\programs\\python\\python310\\lib\\site-packages (from category_encoders) (0.5.6)\n",
      "Requirement already satisfied: python-dateutil>=2.8.2 in c:\\users\\kwon3\\appdata\\roaming\\python\\python310\\site-packages (from pandas>=1.0.5->category_encoders) (2.9.0.post0)\n",
      "Requirement already satisfied: pytz>=2020.1 in c:\\users\\kwon3\\appdata\\local\\programs\\python\\python310\\lib\\site-packages (from pandas>=1.0.5->category_encoders) (2024.1)\n",
      "Requirement already satisfied: tzdata>=2022.7 in c:\\users\\kwon3\\appdata\\local\\programs\\python\\python310\\lib\\site-packages (from pandas>=1.0.5->category_encoders) (2024.1)\n",
      "Requirement already satisfied: six in c:\\users\\kwon3\\appdata\\local\\programs\\python\\python310\\lib\\site-packages (from patsy>=0.5.1->category_encoders) (1.16.0)\n",
      "Requirement already satisfied: joblib>=1.2.0 in c:\\users\\kwon3\\appdata\\local\\programs\\python\\python310\\lib\\site-packages (from scikit-learn>=0.20.0->category_encoders) (1.4.2)\n",
      "Requirement already satisfied: threadpoolctl>=3.1.0 in c:\\users\\kwon3\\appdata\\local\\programs\\python\\python310\\lib\\site-packages (from scikit-learn>=0.20.0->category_encoders) (3.5.0)\n",
      "Requirement already satisfied: packaging>=21.3 in c:\\users\\kwon3\\appdata\\local\\programs\\python\\python310\\lib\\site-packages (from statsmodels>=0.9.0->category_encoders) (24.1)\n",
      "Note: you may need to restart the kernel to use updated packages.\n"
     ]
    }
   ],
   "source": [
    "%pip install category_encoders"
   ]
  },
  {
   "cell_type": "code",
   "execution_count": 291,
   "metadata": {
    "colab": {
     "base_uri": "https://localhost:8080/"
    },
    "executionInfo": {
     "elapsed": 8680,
     "status": "ok",
     "timestamp": 1731567692319,
     "user": {
      "displayName": "beeeiiig123",
      "userId": "14260634740903801666"
     },
     "user_tz": -540
    },
    "id": "3d6B3II8T25p",
    "outputId": "31a133e4-db56-4357-eb6f-87fd18e62b2e"
   },
   "outputs": [
    {
     "data": {
      "text/plain": [
       "((14940, 799), (12225, 799))"
      ]
     },
     "execution_count": 291,
     "metadata": {},
     "output_type": "execute_result"
    }
   ],
   "source": [
    "import category_encoders as ce\n",
    "from sklearn.preprocessing import OneHotEncoder\n",
    "\n",
    "oh_enc = OneHotEncoder(handle_unknown=\"ignore\")\n",
    "oh_enc_cols = [\"주구매지점\", \"주구매시간대\", \"주구매_대분류\"]\n",
    "\n",
    "oh_enc.fit(train_ft[oh_enc_cols])\n",
    "\n",
    "train_ft[oh_enc.get_feature_names_out()] = oh_enc.transform(train_ft[oh_enc_cols]).toarray()\n",
    "test_ft[oh_enc.get_feature_names_out()] = oh_enc.transform(test_ft[oh_enc_cols]).toarray()\n",
    "\n",
    "train_ft.shape, test_ft.shape"
   ]
  },
  {
   "cell_type": "code",
   "execution_count": 292,
   "metadata": {
    "colab": {
     "base_uri": "https://localhost:8080/"
    },
    "executionInfo": {
     "elapsed": 282,
     "status": "ok",
     "timestamp": 1731567692599,
     "user": {
      "displayName": "beeeiiig123",
      "userId": "14260634740903801666"
     },
     "user_tz": -540
    },
    "id": "L-_0FbRyNRit",
    "outputId": "effe055a-1496-4bc3-f038-60bad3298b2e"
   },
   "outputs": [
    {
     "data": {
      "text/plain": [
       "((14940, 799), (12225, 799))"
      ]
     },
     "execution_count": 292,
     "metadata": {},
     "output_type": "execute_result"
    }
   ],
   "source": [
    "train_ft['선호브랜드코드'] = train_ft['선호브랜드코드'].astype('category')\n",
    "test_ft['선호브랜드코드'] = test_ft['선호브랜드코드'].astype('category')\n",
    "\n",
    "combined_brands = pd.concat([train_ft['선호브랜드코드'], test_ft['선호브랜드코드']])\n",
    "\n",
    "enc = ce.CountEncoder()\n",
    "train_ft[\"선호브랜드코드_cnt\"] = enc.fit_transform(train_ft[['선호브랜드코드']])\n",
    "test_ft[\"선호브랜드코드_cnt\"] = enc.transform(test_ft[['선호브랜드코드']])\n",
    "\n",
    "train_ft.drop(columns=[\"선호브랜드코드\"], inplace=True)\n",
    "test_ft.drop(columns=[\"선호브랜드코드\"], inplace=True)\n",
    "\n",
    "train_ft.shape, test_ft.shape"
   ]
  },
  {
   "cell_type": "code",
   "execution_count": 293,
   "metadata": {
    "colab": {
     "base_uri": "https://localhost:8080/"
    },
    "executionInfo": {
     "elapsed": 310,
     "status": "ok",
     "timestamp": 1731398772901,
     "user": {
      "displayName": "beeeiiig123",
      "userId": "14260634740903801666"
     },
     "user_tz": -540
    },
    "id": "q0ztgmEMRFpN",
    "outputId": "8194c543-228b-4604-89db-66ac119b81f8"
   },
   "outputs": [],
   "source": [
    "# combined_categories = pd.concat([train_ft['주구매_중분류'], test_ft['주구매_중분류']])\n",
    "\n",
    "# enc = ce.count.CountEncoder()\n",
    "# train_ft[\"주구매_중분류_cnt\"] = enc.fit_transform(train_ft[[\"주구매_중분류\"]])\n",
    "# test_ft[\"주구매_중분류_cnt\"] = enc.transform(test_ft[[\"주구매_중분류\"]])\n",
    "\n",
    "# train_ft.shape, test_ft.shape"
   ]
  },
  {
   "cell_type": "markdown",
   "metadata": {
    "id": "lPURwRnPUj-B"
   },
   "source": [
    "- 문자열 피처 삭제"
   ]
  },
  {
   "cell_type": "code",
   "execution_count": 294,
   "metadata": {
    "colab": {
     "base_uri": "https://localhost:8080/"
    },
    "executionInfo": {
     "elapsed": 4,
     "status": "ok",
     "timestamp": 1731567692600,
     "user": {
      "displayName": "beeeiiig123",
      "userId": "14260634740903801666"
     },
     "user_tz": -540
    },
    "id": "-kcdyrmUNRiu",
    "outputId": "a7386f4d-e8c3-48f9-fb16-1c2422917923"
   },
   "outputs": [
    {
     "data": {
      "text/plain": [
       "['주구매지점', '주구매_중분류', '주구매_대분류']"
      ]
     },
     "execution_count": 294,
     "metadata": {},
     "output_type": "execute_result"
    }
   ],
   "source": [
    "cols = train_ft.select_dtypes([\"object\", \"datetime\"]).columns.tolist()\n",
    "cols"
   ]
  },
  {
   "cell_type": "code",
   "execution_count": 295,
   "metadata": {
    "colab": {
     "base_uri": "https://localhost:8080/"
    },
    "executionInfo": {
     "elapsed": 300,
     "status": "ok",
     "timestamp": 1731567693759,
     "user": {
      "displayName": "beeeiiig123",
      "userId": "14260634740903801666"
     },
     "user_tz": -540
    },
    "id": "zZlZoAMZUbGp",
    "outputId": "9bf7d31e-37c8-4077-9f87-a6df3d1e21ec"
   },
   "outputs": [
    {
     "data": {
      "text/plain": [
       "((14940, 796), (12225, 796))"
      ]
     },
     "execution_count": 295,
     "metadata": {},
     "output_type": "execute_result"
    }
   ],
   "source": [
    "train_ft = train_ft.drop(columns=cols)\n",
    "test_ft = test_ft.drop(columns=cols)\n",
    "train_ft.shape, test_ft.shape"
   ]
  },
  {
   "cell_type": "code",
   "execution_count": 296,
   "metadata": {
    "colab": {
     "base_uri": "https://localhost:8080/"
    },
    "executionInfo": {
     "elapsed": 456,
     "status": "ok",
     "timestamp": 1731567696038,
     "user": {
      "displayName": "beeeiiig123",
      "userId": "14260634740903801666"
     },
     "user_tz": -540
    },
    "id": "1-y4-kmTUmso",
    "outputId": "fec66c50-98a3-4f49-d809-91d17b9256bc"
   },
   "outputs": [
    {
     "data": {
      "text/plain": [
       "(Index([], dtype='object'), Index([], dtype='object'))"
      ]
     },
     "execution_count": 296,
     "metadata": {},
     "output_type": "execute_result"
    }
   ],
   "source": [
    "train_ft.select_dtypes(\"object\").columns , test_ft.select_dtypes(\"object\").columns"
   ]
  },
  {
   "cell_type": "code",
   "execution_count": 297,
   "metadata": {
    "colab": {
     "base_uri": "https://localhost:8080/"
    },
    "executionInfo": {
     "elapsed": 2,
     "status": "ok",
     "timestamp": 1731567696473,
     "user": {
      "displayName": "beeeiiig123",
      "userId": "14260634740903801666"
     },
     "user_tz": -540
    },
    "id": "zQ4aHiTgNRiz",
    "outputId": "c1b97f6a-ec79-435e-c848-c88d20c69ffa"
   },
   "outputs": [
    {
     "data": {
      "text/plain": [
       "(Index([], dtype='object'), Index([], dtype='object'))"
      ]
     },
     "execution_count": 297,
     "metadata": {},
     "output_type": "execute_result"
    }
   ],
   "source": [
    "train_ft.select_dtypes(\"datetime\").columns, test_ft.select_dtypes(\"datetime\").columns"
   ]
  },
  {
   "cell_type": "markdown",
   "metadata": {
    "id": "KAQ-3TU5U0Pk"
   },
   "source": [
    "## Feature Scaling"
   ]
  },
  {
   "cell_type": "code",
   "execution_count": 298,
   "metadata": {
    "colab": {
     "base_uri": "https://localhost:8080/"
    },
    "executionInfo": {
     "elapsed": 1197,
     "status": "ok",
     "timestamp": 1731456183915,
     "user": {
      "displayName": "beeeiiig123",
      "userId": "14260634740903801666"
     },
     "user_tz": -540
    },
    "id": "4VEFOGmKNRiz",
    "outputId": "64fa4af3-8634-430c-b348-328b94e4969e"
   },
   "outputs": [
    {
     "data": {
      "text/plain": [
       "(0, 0)"
      ]
     },
     "execution_count": 298,
     "metadata": {},
     "output_type": "execute_result"
    }
   ],
   "source": [
    "train_ft.isin([np.inf, -np.inf]).any().sum(), test_ft.isin([np.inf, -np.inf]).any().sum()"
   ]
  },
  {
   "cell_type": "code",
   "execution_count": 299,
   "metadata": {
    "colab": {
     "base_uri": "https://localhost:8080/"
    },
    "executionInfo": {
     "elapsed": 269,
     "status": "ok",
     "timestamp": 1731456196919,
     "user": {
      "displayName": "beeeiiig123",
      "userId": "14260634740903801666"
     },
     "user_tz": -540
    },
    "id": "VqBgJMYyNRi0",
    "outputId": "413e8b47-5218-4bf3-e8ef-430a87e207d4"
   },
   "outputs": [
    {
     "data": {
      "text/plain": [
       "(0, 0, 0, 0)"
      ]
     },
     "execution_count": 299,
     "metadata": {},
     "output_type": "execute_result"
    }
   ],
   "source": [
    "train_ft.isna().sum().sum(), test_ft.isna().sum().sum(), train_ft.isnull().sum().sum(), test_ft.isnull().sum().sum()"
   ]
  },
  {
   "cell_type": "code",
   "execution_count": 300,
   "metadata": {
    "colab": {
     "base_uri": "https://localhost:8080/"
    },
    "executionInfo": {
     "elapsed": 254,
     "status": "ok",
     "timestamp": 1731567698953,
     "user": {
      "displayName": "beeeiiig123",
      "userId": "14260634740903801666"
     },
     "user_tz": -540
    },
    "id": "7iNCh0WQVOo5",
    "outputId": "e32eef87-93a9-4174-ed0a-68a2ad872245"
   },
   "outputs": [
    {
     "name": "stdout",
     "output_type": "stream",
     "text": [
      "결측치가 있는 열: Index([], dtype='object')\n"
     ]
    }
   ],
   "source": [
    "missing_columns = train_ft.columns[train_ft.isnull().any()]\n",
    "print(\"결측치가 있는 열:\", missing_columns)"
   ]
  },
  {
   "cell_type": "code",
   "execution_count": 301,
   "metadata": {
    "id": "j-EwXmRyVgcY"
   },
   "outputs": [],
   "source": [
    "train_ft = train_ft.fillna(0)\n",
    "test_ft = test_ft.fillna(0)"
   ]
  },
  {
   "cell_type": "code",
   "execution_count": 302,
   "metadata": {
    "colab": {
     "base_uri": "https://localhost:8080/"
    },
    "executionInfo": {
     "elapsed": 300,
     "status": "ok",
     "timestamp": 1731398815977,
     "user": {
      "displayName": "beeeiiig123",
      "userId": "14260634740903801666"
     },
     "user_tz": -540
    },
    "id": "Ikf9_3kcaUaA",
    "outputId": "5e999c8c-8ae6-474d-e9cb-d7276c9f21fc"
   },
   "outputs": [
    {
     "data": {
      "text/plain": [
       "(0, 0)"
      ]
     },
     "execution_count": 302,
     "metadata": {},
     "output_type": "execute_result"
    }
   ],
   "source": [
    "train_ft.isnull().sum().sum(), test_ft.isnull().sum().sum()"
   ]
  },
  {
   "cell_type": "code",
   "execution_count": 303,
   "metadata": {
    "colab": {
     "base_uri": "https://localhost:8080/"
    },
    "executionInfo": {
     "elapsed": 7328,
     "status": "ok",
     "timestamp": 1731567712353,
     "user": {
      "displayName": "beeeiiig123",
      "userId": "14260634740903801666"
     },
     "user_tz": -540
    },
    "id": "5vcBYj2iNRi0",
    "outputId": "e84ace75-3d8f-45cf-b2c0-3e243033a46e"
   },
   "outputs": [],
   "source": [
    "from sklearn.preprocessing import StandardScaler, MinMaxScaler, RobustScaler, PowerTransformer, Normalizer, Binarizer, QuantileTransformer\n",
    "from sklearn.linear_model import LogisticRegression\n",
    "from lightgbm import LGBMClassifier\n",
    "from sklearn.model_selection import StratifiedKFold, cross_val_score\n",
    "cv = StratifiedKFold(n_splits=5, shuffle=True, random_state=SEED)\n",
    "# model = LogisticRegression(random_state=SEED)\n",
    "model = LGBMClassifier(random_state=SEED)\n",
    "\n",
    "scaler_cls_list = [StandardScaler, MinMaxScaler, RobustScaler, PowerTransformer, Normalizer, Binarizer, QuantileTransformer]\n",
    "\n",
    "# 스케일링 클래스별 점수 확인\n",
    "def check_scaling_score(scaler_cls_list, x, y, model, scoring, cv):\n",
    "  for scaler_cls in scaler_cls_list:\n",
    "    scaler = scaler_cls()\n",
    "    x_train = scaler.fit_transform(x)\n",
    "    scores = cross_val_score(model, x_train, y, scoring=scoring, cv=cv, n_jobs=-1)\n",
    "    print(scaler_cls.__name__ ,scores.mean())"
   ]
  },
  {
   "cell_type": "code",
   "execution_count": 304,
   "metadata": {
    "colab": {
     "base_uri": "https://localhost:8080/",
     "height": 325
    },
    "executionInfo": {
     "elapsed": 30137,
     "status": "ok",
     "timestamp": 1731567742489,
     "user": {
      "displayName": "beeeiiig123",
      "userId": "14260634740903801666"
     },
     "user_tz": -540
    },
    "id": "8njYkW3Jbogr",
    "outputId": "c9b6a8d5-5b2c-4a07-a31d-b488458ac5b2"
   },
   "outputs": [
    {
     "data": {
      "text/html": [
       "<div>\n",
       "<style scoped>\n",
       "    .dataframe tbody tr th:only-of-type {\n",
       "        vertical-align: middle;\n",
       "    }\n",
       "\n",
       "    .dataframe tbody tr th {\n",
       "        vertical-align: top;\n",
       "    }\n",
       "\n",
       "    .dataframe thead th {\n",
       "        text-align: right;\n",
       "    }\n",
       "</style>\n",
       "<table border=\"1\" class=\"dataframe\">\n",
       "  <thead>\n",
       "    <tr style=\"text-align: right;\">\n",
       "      <th></th>\n",
       "      <th>총방문일수</th>\n",
       "      <th>백화점이용기간</th>\n",
       "      <th>구매주기</th>\n",
       "      <th>주말방문일수</th>\n",
       "      <th>일별평균구매건수</th>\n",
       "      <th>구매간격_표준편차</th>\n",
       "      <th>주구매요일</th>\n",
       "      <th>월요일_구매비율</th>\n",
       "      <th>화요일_구매비율</th>\n",
       "      <th>수요일_구매비율</th>\n",
       "      <th>...</th>\n",
       "      <th>주구매_대분류_여성캐주얼</th>\n",
       "      <th>주구매_대분류_여성캐쥬얼</th>\n",
       "      <th>주구매_대분류_영라이브</th>\n",
       "      <th>주구매_대분류_영어덜트캐쥬얼</th>\n",
       "      <th>주구매_대분류_영캐릭터</th>\n",
       "      <th>주구매_대분류_영플라자</th>\n",
       "      <th>주구매_대분류_잡화파트</th>\n",
       "      <th>주구매_대분류_케주얼_구두_아동</th>\n",
       "      <th>주구매_대분류_패션잡화</th>\n",
       "      <th>선호브랜드코드_cnt</th>\n",
       "    </tr>\n",
       "  </thead>\n",
       "  <tbody>\n",
       "    <tr>\n",
       "      <th>0</th>\n",
       "      <td>-0.222994</td>\n",
       "      <td>-0.115142</td>\n",
       "      <td>0.474870</td>\n",
       "      <td>-0.056044</td>\n",
       "      <td>-0.123173</td>\n",
       "      <td>0.289796</td>\n",
       "      <td>-0.425902</td>\n",
       "      <td>-0.158987</td>\n",
       "      <td>-1.232087</td>\n",
       "      <td>1.404129</td>\n",
       "      <td>...</td>\n",
       "      <td>-0.140695</td>\n",
       "      <td>-0.073373</td>\n",
       "      <td>-0.125594</td>\n",
       "      <td>-0.072445</td>\n",
       "      <td>-0.083726</td>\n",
       "      <td>-0.230867</td>\n",
       "      <td>-0.349949</td>\n",
       "      <td>-0.271122</td>\n",
       "      <td>3.076066</td>\n",
       "      <td>-1.715817</td>\n",
       "    </tr>\n",
       "    <tr>\n",
       "      <th>1</th>\n",
       "      <td>0.650322</td>\n",
       "      <td>0.918164</td>\n",
       "      <td>-0.205176</td>\n",
       "      <td>-0.563591</td>\n",
       "      <td>0.714114</td>\n",
       "      <td>-0.403157</td>\n",
       "      <td>0.158431</td>\n",
       "      <td>-0.458156</td>\n",
       "      <td>1.191836</td>\n",
       "      <td>0.755436</td>\n",
       "      <td>...</td>\n",
       "      <td>-0.140695</td>\n",
       "      <td>-0.073373</td>\n",
       "      <td>-0.125594</td>\n",
       "      <td>-0.072445</td>\n",
       "      <td>-0.083726</td>\n",
       "      <td>4.331501</td>\n",
       "      <td>-0.349949</td>\n",
       "      <td>-0.271122</td>\n",
       "      <td>-0.325091</td>\n",
       "      <td>0.991690</td>\n",
       "    </tr>\n",
       "    <tr>\n",
       "      <th>2</th>\n",
       "      <td>1.683434</td>\n",
       "      <td>0.962652</td>\n",
       "      <td>-1.154764</td>\n",
       "      <td>1.474168</td>\n",
       "      <td>0.473778</td>\n",
       "      <td>-1.066007</td>\n",
       "      <td>-1.730682</td>\n",
       "      <td>1.227744</td>\n",
       "      <td>0.770597</td>\n",
       "      <td>0.146146</td>\n",
       "      <td>...</td>\n",
       "      <td>-0.140695</td>\n",
       "      <td>-0.073373</td>\n",
       "      <td>-0.125594</td>\n",
       "      <td>-0.072445</td>\n",
       "      <td>-0.083726</td>\n",
       "      <td>-0.230867</td>\n",
       "      <td>-0.349949</td>\n",
       "      <td>-0.271122</td>\n",
       "      <td>-0.325091</td>\n",
       "      <td>-1.455956</td>\n",
       "    </tr>\n",
       "    <tr>\n",
       "      <th>3</th>\n",
       "      <td>2.219534</td>\n",
       "      <td>0.840643</td>\n",
       "      <td>-1.655317</td>\n",
       "      <td>1.966257</td>\n",
       "      <td>0.798830</td>\n",
       "      <td>-1.339992</td>\n",
       "      <td>0.716650</td>\n",
       "      <td>-0.109640</td>\n",
       "      <td>0.199488</td>\n",
       "      <td>0.492094</td>\n",
       "      <td>...</td>\n",
       "      <td>-0.140695</td>\n",
       "      <td>-0.073373</td>\n",
       "      <td>-0.125594</td>\n",
       "      <td>-0.072445</td>\n",
       "      <td>-0.083726</td>\n",
       "      <td>-0.230867</td>\n",
       "      <td>-0.349949</td>\n",
       "      <td>3.688374</td>\n",
       "      <td>-0.325091</td>\n",
       "      <td>-0.626518</td>\n",
       "    </tr>\n",
       "    <tr>\n",
       "      <th>4</th>\n",
       "      <td>0.791786</td>\n",
       "      <td>0.491853</td>\n",
       "      <td>-0.431048</td>\n",
       "      <td>0.914732</td>\n",
       "      <td>-0.252798</td>\n",
       "      <td>-0.385700</td>\n",
       "      <td>0.716650</td>\n",
       "      <td>-0.023510</td>\n",
       "      <td>-0.426431</td>\n",
       "      <td>-0.258546</td>\n",
       "      <td>...</td>\n",
       "      <td>-0.140695</td>\n",
       "      <td>-0.073373</td>\n",
       "      <td>-0.125594</td>\n",
       "      <td>-0.072445</td>\n",
       "      <td>-0.083726</td>\n",
       "      <td>-0.230867</td>\n",
       "      <td>-0.349949</td>\n",
       "      <td>-0.271122</td>\n",
       "      <td>-0.325091</td>\n",
       "      <td>0.991690</td>\n",
       "    </tr>\n",
       "  </tbody>\n",
       "</table>\n",
       "<p>5 rows × 796 columns</p>\n",
       "</div>"
      ],
      "text/plain": [
       "      총방문일수   백화점이용기간      구매주기    주말방문일수  일별평균구매건수  구매간격_표준편차     주구매요일  \\\n",
       "0 -0.222994 -0.115142  0.474870 -0.056044 -0.123173   0.289796 -0.425902   \n",
       "1  0.650322  0.918164 -0.205176 -0.563591  0.714114  -0.403157  0.158431   \n",
       "2  1.683434  0.962652 -1.154764  1.474168  0.473778  -1.066007 -1.730682   \n",
       "3  2.219534  0.840643 -1.655317  1.966257  0.798830  -1.339992  0.716650   \n",
       "4  0.791786  0.491853 -0.431048  0.914732 -0.252798  -0.385700  0.716650   \n",
       "\n",
       "   월요일_구매비율  화요일_구매비율  수요일_구매비율  ...  주구매_대분류_여성캐주얼  주구매_대분류_여성캐쥬얼  \\\n",
       "0 -0.158987 -1.232087  1.404129  ...      -0.140695      -0.073373   \n",
       "1 -0.458156  1.191836  0.755436  ...      -0.140695      -0.073373   \n",
       "2  1.227744  0.770597  0.146146  ...      -0.140695      -0.073373   \n",
       "3 -0.109640  0.199488  0.492094  ...      -0.140695      -0.073373   \n",
       "4 -0.023510 -0.426431 -0.258546  ...      -0.140695      -0.073373   \n",
       "\n",
       "   주구매_대분류_영라이브  주구매_대분류_영어덜트캐쥬얼  주구매_대분류_영캐릭터  주구매_대분류_영플라자  주구매_대분류_잡화파트  \\\n",
       "0     -0.125594        -0.072445     -0.083726     -0.230867     -0.349949   \n",
       "1     -0.125594        -0.072445     -0.083726      4.331501     -0.349949   \n",
       "2     -0.125594        -0.072445     -0.083726     -0.230867     -0.349949   \n",
       "3     -0.125594        -0.072445     -0.083726     -0.230867     -0.349949   \n",
       "4     -0.125594        -0.072445     -0.083726     -0.230867     -0.349949   \n",
       "\n",
       "   주구매_대분류_케주얼_구두_아동  주구매_대분류_패션잡화  선호브랜드코드_cnt  \n",
       "0          -0.271122      3.076066    -1.715817  \n",
       "1          -0.271122     -0.325091     0.991690  \n",
       "2          -0.271122     -0.325091    -1.455956  \n",
       "3           3.688374     -0.325091    -0.626518  \n",
       "4          -0.271122     -0.325091     0.991690  \n",
       "\n",
       "[5 rows x 796 columns]"
      ]
     },
     "execution_count": 304,
     "metadata": {},
     "output_type": "execute_result"
    }
   ],
   "source": [
    "scaler = PowerTransformer()\n",
    "\n",
    "train_ft[train_ft.columns] = scaler.fit_transform(train_ft)\n",
    "test_ft[test_ft.columns] = scaler.transform(test_ft)\n",
    "\n",
    "train_ft.head()"
   ]
  },
  {
   "cell_type": "code",
   "execution_count": 305,
   "metadata": {
    "colab": {
     "base_uri": "https://localhost:8080/"
    },
    "executionInfo": {
     "elapsed": 5,
     "status": "ok",
     "timestamp": 1731567742489,
     "user": {
      "displayName": "beeeiiig123",
      "userId": "14260634740903801666"
     },
     "user_tz": -540
    },
    "id": "LZFQZ5lE3-LR",
    "outputId": "1a5ccbae-73a3-4de3-bd1b-b5fb94facca2"
   },
   "outputs": [
    {
     "data": {
      "text/plain": [
       "((14940, 796), (12225, 796))"
      ]
     },
     "execution_count": 305,
     "metadata": {},
     "output_type": "execute_result"
    }
   ],
   "source": [
    "train_ft.shape, test_ft.shape"
   ]
  },
  {
   "cell_type": "markdown",
   "metadata": {
    "id": "vfqUFEDRNRi0"
   },
   "source": [
    "# 차원축소"
   ]
  },
  {
   "cell_type": "code",
   "execution_count": 306,
   "metadata": {
    "colab": {
     "base_uri": "https://localhost:8080/"
    },
    "executionInfo": {
     "elapsed": 402,
     "status": "ok",
     "timestamp": 1731567742887,
     "user": {
      "displayName": "beeeiiig123",
      "userId": "14260634740903801666"
     },
     "user_tz": -540
    },
    "id": "Usj8vpGJu8AA",
    "outputId": "2d2561fd-850a-4573-9c9d-8cc5667e7c88"
   },
   "outputs": [
    {
     "data": {
      "text/plain": [
       "((14940, 795), (12225, 795))"
      ]
     },
     "execution_count": 306,
     "metadata": {},
     "output_type": "execute_result"
    }
   ],
   "source": [
    "from sklearn.feature_selection import VarianceThreshold\n",
    "\n",
    "vt = VarianceThreshold(threshold=0)\n",
    "vt.fit(train_ft)\n",
    "\n",
    "train_vt = pd.DataFrame(vt.transform(train_ft), columns=train_ft.columns[vt.get_support()])\n",
    "test_vt = test_ft[train_vt.columns]\n",
    "\n",
    "train_vt.shape, test_vt.shape"
   ]
  },
  {
   "cell_type": "code",
   "execution_count": 307,
   "metadata": {
    "colab": {
     "base_uri": "https://localhost:8080/"
    },
    "executionInfo": {
     "elapsed": 43577,
     "status": "ok",
     "timestamp": 1731567786463,
     "user": {
      "displayName": "beeeiiig123",
      "userId": "14260634740903801666"
     },
     "user_tz": -540
    },
    "id": "WDQv8beXNRi1",
    "outputId": "03c64df7-c9a9-4b77-87d6-3be8bbe5f03d"
   },
   "outputs": [
    {
     "name": "stdout",
     "output_type": "stream",
     "text": [
      "[LightGBM] [Info] Number of positive: 5874, number of negative: 9066\n",
      "[LightGBM] [Info] Auto-choosing col-wise multi-threading, the overhead of testing was 0.020020 seconds.\n",
      "You can set `force_col_wise=true` to remove the overhead.\n",
      "[LightGBM] [Info] Total Bins 52670\n",
      "[LightGBM] [Info] Number of data points in the train set: 14940, number of used features: 754\n",
      "[LightGBM] [Info] [binary:BoostFromScore]: pavg=0.393173 -> initscore=-0.433995\n",
      "[LightGBM] [Info] Start training from score -0.433995\n"
     ]
    },
    {
     "data": {
      "text/html": [
       "<style>#sk-container-id-2 {\n",
       "  /* Definition of color scheme common for light and dark mode */\n",
       "  --sklearn-color-text: black;\n",
       "  --sklearn-color-line: gray;\n",
       "  /* Definition of color scheme for unfitted estimators */\n",
       "  --sklearn-color-unfitted-level-0: #fff5e6;\n",
       "  --sklearn-color-unfitted-level-1: #f6e4d2;\n",
       "  --sklearn-color-unfitted-level-2: #ffe0b3;\n",
       "  --sklearn-color-unfitted-level-3: chocolate;\n",
       "  /* Definition of color scheme for fitted estimators */\n",
       "  --sklearn-color-fitted-level-0: #f0f8ff;\n",
       "  --sklearn-color-fitted-level-1: #d4ebff;\n",
       "  --sklearn-color-fitted-level-2: #b3dbfd;\n",
       "  --sklearn-color-fitted-level-3: cornflowerblue;\n",
       "\n",
       "  /* Specific color for light theme */\n",
       "  --sklearn-color-text-on-default-background: var(--sg-text-color, var(--theme-code-foreground, var(--jp-content-font-color1, black)));\n",
       "  --sklearn-color-background: var(--sg-background-color, var(--theme-background, var(--jp-layout-color0, white)));\n",
       "  --sklearn-color-border-box: var(--sg-text-color, var(--theme-code-foreground, var(--jp-content-font-color1, black)));\n",
       "  --sklearn-color-icon: #696969;\n",
       "\n",
       "  @media (prefers-color-scheme: dark) {\n",
       "    /* Redefinition of color scheme for dark theme */\n",
       "    --sklearn-color-text-on-default-background: var(--sg-text-color, var(--theme-code-foreground, var(--jp-content-font-color1, white)));\n",
       "    --sklearn-color-background: var(--sg-background-color, var(--theme-background, var(--jp-layout-color0, #111)));\n",
       "    --sklearn-color-border-box: var(--sg-text-color, var(--theme-code-foreground, var(--jp-content-font-color1, white)));\n",
       "    --sklearn-color-icon: #878787;\n",
       "  }\n",
       "}\n",
       "\n",
       "#sk-container-id-2 {\n",
       "  color: var(--sklearn-color-text);\n",
       "}\n",
       "\n",
       "#sk-container-id-2 pre {\n",
       "  padding: 0;\n",
       "}\n",
       "\n",
       "#sk-container-id-2 input.sk-hidden--visually {\n",
       "  border: 0;\n",
       "  clip: rect(1px 1px 1px 1px);\n",
       "  clip: rect(1px, 1px, 1px, 1px);\n",
       "  height: 1px;\n",
       "  margin: -1px;\n",
       "  overflow: hidden;\n",
       "  padding: 0;\n",
       "  position: absolute;\n",
       "  width: 1px;\n",
       "}\n",
       "\n",
       "#sk-container-id-2 div.sk-dashed-wrapped {\n",
       "  border: 1px dashed var(--sklearn-color-line);\n",
       "  margin: 0 0.4em 0.5em 0.4em;\n",
       "  box-sizing: border-box;\n",
       "  padding-bottom: 0.4em;\n",
       "  background-color: var(--sklearn-color-background);\n",
       "}\n",
       "\n",
       "#sk-container-id-2 div.sk-container {\n",
       "  /* jupyter's `normalize.less` sets `[hidden] { display: none; }`\n",
       "     but bootstrap.min.css set `[hidden] { display: none !important; }`\n",
       "     so we also need the `!important` here to be able to override the\n",
       "     default hidden behavior on the sphinx rendered scikit-learn.org.\n",
       "     See: https://github.com/scikit-learn/scikit-learn/issues/21755 */\n",
       "  display: inline-block !important;\n",
       "  position: relative;\n",
       "}\n",
       "\n",
       "#sk-container-id-2 div.sk-text-repr-fallback {\n",
       "  display: none;\n",
       "}\n",
       "\n",
       "div.sk-parallel-item,\n",
       "div.sk-serial,\n",
       "div.sk-item {\n",
       "  /* draw centered vertical line to link estimators */\n",
       "  background-image: linear-gradient(var(--sklearn-color-text-on-default-background), var(--sklearn-color-text-on-default-background));\n",
       "  background-size: 2px 100%;\n",
       "  background-repeat: no-repeat;\n",
       "  background-position: center center;\n",
       "}\n",
       "\n",
       "/* Parallel-specific style estimator block */\n",
       "\n",
       "#sk-container-id-2 div.sk-parallel-item::after {\n",
       "  content: \"\";\n",
       "  width: 100%;\n",
       "  border-bottom: 2px solid var(--sklearn-color-text-on-default-background);\n",
       "  flex-grow: 1;\n",
       "}\n",
       "\n",
       "#sk-container-id-2 div.sk-parallel {\n",
       "  display: flex;\n",
       "  align-items: stretch;\n",
       "  justify-content: center;\n",
       "  background-color: var(--sklearn-color-background);\n",
       "  position: relative;\n",
       "}\n",
       "\n",
       "#sk-container-id-2 div.sk-parallel-item {\n",
       "  display: flex;\n",
       "  flex-direction: column;\n",
       "}\n",
       "\n",
       "#sk-container-id-2 div.sk-parallel-item:first-child::after {\n",
       "  align-self: flex-end;\n",
       "  width: 50%;\n",
       "}\n",
       "\n",
       "#sk-container-id-2 div.sk-parallel-item:last-child::after {\n",
       "  align-self: flex-start;\n",
       "  width: 50%;\n",
       "}\n",
       "\n",
       "#sk-container-id-2 div.sk-parallel-item:only-child::after {\n",
       "  width: 0;\n",
       "}\n",
       "\n",
       "/* Serial-specific style estimator block */\n",
       "\n",
       "#sk-container-id-2 div.sk-serial {\n",
       "  display: flex;\n",
       "  flex-direction: column;\n",
       "  align-items: center;\n",
       "  background-color: var(--sklearn-color-background);\n",
       "  padding-right: 1em;\n",
       "  padding-left: 1em;\n",
       "}\n",
       "\n",
       "\n",
       "/* Toggleable style: style used for estimator/Pipeline/ColumnTransformer box that is\n",
       "clickable and can be expanded/collapsed.\n",
       "- Pipeline and ColumnTransformer use this feature and define the default style\n",
       "- Estimators will overwrite some part of the style using the `sk-estimator` class\n",
       "*/\n",
       "\n",
       "/* Pipeline and ColumnTransformer style (default) */\n",
       "\n",
       "#sk-container-id-2 div.sk-toggleable {\n",
       "  /* Default theme specific background. It is overwritten whether we have a\n",
       "  specific estimator or a Pipeline/ColumnTransformer */\n",
       "  background-color: var(--sklearn-color-background);\n",
       "}\n",
       "\n",
       "/* Toggleable label */\n",
       "#sk-container-id-2 label.sk-toggleable__label {\n",
       "  cursor: pointer;\n",
       "  display: block;\n",
       "  width: 100%;\n",
       "  margin-bottom: 0;\n",
       "  padding: 0.5em;\n",
       "  box-sizing: border-box;\n",
       "  text-align: center;\n",
       "}\n",
       "\n",
       "#sk-container-id-2 label.sk-toggleable__label-arrow:before {\n",
       "  /* Arrow on the left of the label */\n",
       "  content: \"▸\";\n",
       "  float: left;\n",
       "  margin-right: 0.25em;\n",
       "  color: var(--sklearn-color-icon);\n",
       "}\n",
       "\n",
       "#sk-container-id-2 label.sk-toggleable__label-arrow:hover:before {\n",
       "  color: var(--sklearn-color-text);\n",
       "}\n",
       "\n",
       "/* Toggleable content - dropdown */\n",
       "\n",
       "#sk-container-id-2 div.sk-toggleable__content {\n",
       "  max-height: 0;\n",
       "  max-width: 0;\n",
       "  overflow: hidden;\n",
       "  text-align: left;\n",
       "  /* unfitted */\n",
       "  background-color: var(--sklearn-color-unfitted-level-0);\n",
       "}\n",
       "\n",
       "#sk-container-id-2 div.sk-toggleable__content.fitted {\n",
       "  /* fitted */\n",
       "  background-color: var(--sklearn-color-fitted-level-0);\n",
       "}\n",
       "\n",
       "#sk-container-id-2 div.sk-toggleable__content pre {\n",
       "  margin: 0.2em;\n",
       "  border-radius: 0.25em;\n",
       "  color: var(--sklearn-color-text);\n",
       "  /* unfitted */\n",
       "  background-color: var(--sklearn-color-unfitted-level-0);\n",
       "}\n",
       "\n",
       "#sk-container-id-2 div.sk-toggleable__content.fitted pre {\n",
       "  /* unfitted */\n",
       "  background-color: var(--sklearn-color-fitted-level-0);\n",
       "}\n",
       "\n",
       "#sk-container-id-2 input.sk-toggleable__control:checked~div.sk-toggleable__content {\n",
       "  /* Expand drop-down */\n",
       "  max-height: 200px;\n",
       "  max-width: 100%;\n",
       "  overflow: auto;\n",
       "}\n",
       "\n",
       "#sk-container-id-2 input.sk-toggleable__control:checked~label.sk-toggleable__label-arrow:before {\n",
       "  content: \"▾\";\n",
       "}\n",
       "\n",
       "/* Pipeline/ColumnTransformer-specific style */\n",
       "\n",
       "#sk-container-id-2 div.sk-label input.sk-toggleable__control:checked~label.sk-toggleable__label {\n",
       "  color: var(--sklearn-color-text);\n",
       "  background-color: var(--sklearn-color-unfitted-level-2);\n",
       "}\n",
       "\n",
       "#sk-container-id-2 div.sk-label.fitted input.sk-toggleable__control:checked~label.sk-toggleable__label {\n",
       "  background-color: var(--sklearn-color-fitted-level-2);\n",
       "}\n",
       "\n",
       "/* Estimator-specific style */\n",
       "\n",
       "/* Colorize estimator box */\n",
       "#sk-container-id-2 div.sk-estimator input.sk-toggleable__control:checked~label.sk-toggleable__label {\n",
       "  /* unfitted */\n",
       "  background-color: var(--sklearn-color-unfitted-level-2);\n",
       "}\n",
       "\n",
       "#sk-container-id-2 div.sk-estimator.fitted input.sk-toggleable__control:checked~label.sk-toggleable__label {\n",
       "  /* fitted */\n",
       "  background-color: var(--sklearn-color-fitted-level-2);\n",
       "}\n",
       "\n",
       "#sk-container-id-2 div.sk-label label.sk-toggleable__label,\n",
       "#sk-container-id-2 div.sk-label label {\n",
       "  /* The background is the default theme color */\n",
       "  color: var(--sklearn-color-text-on-default-background);\n",
       "}\n",
       "\n",
       "/* On hover, darken the color of the background */\n",
       "#sk-container-id-2 div.sk-label:hover label.sk-toggleable__label {\n",
       "  color: var(--sklearn-color-text);\n",
       "  background-color: var(--sklearn-color-unfitted-level-2);\n",
       "}\n",
       "\n",
       "/* Label box, darken color on hover, fitted */\n",
       "#sk-container-id-2 div.sk-label.fitted:hover label.sk-toggleable__label.fitted {\n",
       "  color: var(--sklearn-color-text);\n",
       "  background-color: var(--sklearn-color-fitted-level-2);\n",
       "}\n",
       "\n",
       "/* Estimator label */\n",
       "\n",
       "#sk-container-id-2 div.sk-label label {\n",
       "  font-family: monospace;\n",
       "  font-weight: bold;\n",
       "  display: inline-block;\n",
       "  line-height: 1.2em;\n",
       "}\n",
       "\n",
       "#sk-container-id-2 div.sk-label-container {\n",
       "  text-align: center;\n",
       "}\n",
       "\n",
       "/* Estimator-specific */\n",
       "#sk-container-id-2 div.sk-estimator {\n",
       "  font-family: monospace;\n",
       "  border: 1px dotted var(--sklearn-color-border-box);\n",
       "  border-radius: 0.25em;\n",
       "  box-sizing: border-box;\n",
       "  margin-bottom: 0.5em;\n",
       "  /* unfitted */\n",
       "  background-color: var(--sklearn-color-unfitted-level-0);\n",
       "}\n",
       "\n",
       "#sk-container-id-2 div.sk-estimator.fitted {\n",
       "  /* fitted */\n",
       "  background-color: var(--sklearn-color-fitted-level-0);\n",
       "}\n",
       "\n",
       "/* on hover */\n",
       "#sk-container-id-2 div.sk-estimator:hover {\n",
       "  /* unfitted */\n",
       "  background-color: var(--sklearn-color-unfitted-level-2);\n",
       "}\n",
       "\n",
       "#sk-container-id-2 div.sk-estimator.fitted:hover {\n",
       "  /* fitted */\n",
       "  background-color: var(--sklearn-color-fitted-level-2);\n",
       "}\n",
       "\n",
       "/* Specification for estimator info (e.g. \"i\" and \"?\") */\n",
       "\n",
       "/* Common style for \"i\" and \"?\" */\n",
       "\n",
       ".sk-estimator-doc-link,\n",
       "a:link.sk-estimator-doc-link,\n",
       "a:visited.sk-estimator-doc-link {\n",
       "  float: right;\n",
       "  font-size: smaller;\n",
       "  line-height: 1em;\n",
       "  font-family: monospace;\n",
       "  background-color: var(--sklearn-color-background);\n",
       "  border-radius: 1em;\n",
       "  height: 1em;\n",
       "  width: 1em;\n",
       "  text-decoration: none !important;\n",
       "  margin-left: 1ex;\n",
       "  /* unfitted */\n",
       "  border: var(--sklearn-color-unfitted-level-1) 1pt solid;\n",
       "  color: var(--sklearn-color-unfitted-level-1);\n",
       "}\n",
       "\n",
       ".sk-estimator-doc-link.fitted,\n",
       "a:link.sk-estimator-doc-link.fitted,\n",
       "a:visited.sk-estimator-doc-link.fitted {\n",
       "  /* fitted */\n",
       "  border: var(--sklearn-color-fitted-level-1) 1pt solid;\n",
       "  color: var(--sklearn-color-fitted-level-1);\n",
       "}\n",
       "\n",
       "/* On hover */\n",
       "div.sk-estimator:hover .sk-estimator-doc-link:hover,\n",
       ".sk-estimator-doc-link:hover,\n",
       "div.sk-label-container:hover .sk-estimator-doc-link:hover,\n",
       ".sk-estimator-doc-link:hover {\n",
       "  /* unfitted */\n",
       "  background-color: var(--sklearn-color-unfitted-level-3);\n",
       "  color: var(--sklearn-color-background);\n",
       "  text-decoration: none;\n",
       "}\n",
       "\n",
       "div.sk-estimator.fitted:hover .sk-estimator-doc-link.fitted:hover,\n",
       ".sk-estimator-doc-link.fitted:hover,\n",
       "div.sk-label-container:hover .sk-estimator-doc-link.fitted:hover,\n",
       ".sk-estimator-doc-link.fitted:hover {\n",
       "  /* fitted */\n",
       "  background-color: var(--sklearn-color-fitted-level-3);\n",
       "  color: var(--sklearn-color-background);\n",
       "  text-decoration: none;\n",
       "}\n",
       "\n",
       "/* Span, style for the box shown on hovering the info icon */\n",
       ".sk-estimator-doc-link span {\n",
       "  display: none;\n",
       "  z-index: 9999;\n",
       "  position: relative;\n",
       "  font-weight: normal;\n",
       "  right: .2ex;\n",
       "  padding: .5ex;\n",
       "  margin: .5ex;\n",
       "  width: min-content;\n",
       "  min-width: 20ex;\n",
       "  max-width: 50ex;\n",
       "  color: var(--sklearn-color-text);\n",
       "  box-shadow: 2pt 2pt 4pt #999;\n",
       "  /* unfitted */\n",
       "  background: var(--sklearn-color-unfitted-level-0);\n",
       "  border: .5pt solid var(--sklearn-color-unfitted-level-3);\n",
       "}\n",
       "\n",
       ".sk-estimator-doc-link.fitted span {\n",
       "  /* fitted */\n",
       "  background: var(--sklearn-color-fitted-level-0);\n",
       "  border: var(--sklearn-color-fitted-level-3);\n",
       "}\n",
       "\n",
       ".sk-estimator-doc-link:hover span {\n",
       "  display: block;\n",
       "}\n",
       "\n",
       "/* \"?\"-specific style due to the `<a>` HTML tag */\n",
       "\n",
       "#sk-container-id-2 a.estimator_doc_link {\n",
       "  float: right;\n",
       "  font-size: 1rem;\n",
       "  line-height: 1em;\n",
       "  font-family: monospace;\n",
       "  background-color: var(--sklearn-color-background);\n",
       "  border-radius: 1rem;\n",
       "  height: 1rem;\n",
       "  width: 1rem;\n",
       "  text-decoration: none;\n",
       "  /* unfitted */\n",
       "  color: var(--sklearn-color-unfitted-level-1);\n",
       "  border: var(--sklearn-color-unfitted-level-1) 1pt solid;\n",
       "}\n",
       "\n",
       "#sk-container-id-2 a.estimator_doc_link.fitted {\n",
       "  /* fitted */\n",
       "  border: var(--sklearn-color-fitted-level-1) 1pt solid;\n",
       "  color: var(--sklearn-color-fitted-level-1);\n",
       "}\n",
       "\n",
       "/* On hover */\n",
       "#sk-container-id-2 a.estimator_doc_link:hover {\n",
       "  /* unfitted */\n",
       "  background-color: var(--sklearn-color-unfitted-level-3);\n",
       "  color: var(--sklearn-color-background);\n",
       "  text-decoration: none;\n",
       "}\n",
       "\n",
       "#sk-container-id-2 a.estimator_doc_link.fitted:hover {\n",
       "  /* fitted */\n",
       "  background-color: var(--sklearn-color-fitted-level-3);\n",
       "}\n",
       "</style><div id=\"sk-container-id-2\" class=\"sk-top-container\"><div class=\"sk-text-repr-fallback\"><pre>LGBMClassifier(random_state=42)</pre><b>In a Jupyter environment, please rerun this cell to show the HTML representation or trust the notebook. <br />On GitHub, the HTML representation is unable to render, please try loading this page with nbviewer.org.</b></div><div class=\"sk-container\" hidden><div class=\"sk-item\"><div class=\"sk-estimator fitted sk-toggleable\"><input class=\"sk-toggleable__control sk-hidden--visually\" id=\"sk-estimator-id-2\" type=\"checkbox\" checked><label for=\"sk-estimator-id-2\" class=\"sk-toggleable__label fitted sk-toggleable__label-arrow fitted\">&nbsp;LGBMClassifier<span class=\"sk-estimator-doc-link fitted\">i<span>Fitted</span></span></label><div class=\"sk-toggleable__content fitted\"><pre>LGBMClassifier(random_state=42)</pre></div> </div></div></div></div>"
      ],
      "text/plain": [
       "LGBMClassifier(random_state=42)"
      ]
     },
     "execution_count": 307,
     "metadata": {},
     "output_type": "execute_result"
    }
   ],
   "source": [
    "model = LGBMClassifier(random_state=SEED)\n",
    "model.fit(train_vt, target)\n",
    "\n",
    "# scores = cross_val_score(model, train_vt, target, cv=cv, scoring=\"f1_macro\", n_jobs=-1)\n",
    "# np.mean(scores)"
   ]
  },
  {
   "cell_type": "markdown",
   "metadata": {
    "id": "gsEPk8YNNRi1"
   },
   "source": [
    "- XAI"
   ]
  },
  {
   "cell_type": "code",
   "execution_count": 308,
   "metadata": {
    "colab": {
     "base_uri": "https://localhost:8080/",
     "height": 956
    },
    "executionInfo": {
     "elapsed": 32677,
     "status": "ok",
     "timestamp": 1731456980365,
     "user": {
      "displayName": "beeeiiig123",
      "userId": "14260634740903801666"
     },
     "user_tz": -540
    },
    "id": "qmeIYKsxNRi1",
    "outputId": "f6590c8f-33dd-49b8-bd54-dfc4f8087319"
   },
   "outputs": [],
   "source": [
    "# import shap\n",
    "\n",
    "# explainer = shap.Explainer(model)\n",
    "# shap_values = explainer(train_vt)\n",
    "# shap.summary_plot(shap_values, train_vt)"
   ]
  },
  {
   "cell_type": "markdown",
   "metadata": {
    "id": "pOztzxldNRi1"
   },
   "source": [
    "- SelectFromModel"
   ]
  },
  {
   "cell_type": "code",
   "execution_count": 309,
   "metadata": {
    "colab": {
     "base_uri": "https://localhost:8080/"
    },
    "executionInfo": {
     "elapsed": 391706,
     "status": "ok",
     "timestamp": 1731457481321,
     "user": {
      "displayName": "beeeiiig123",
      "userId": "14260634740903801666"
     },
     "user_tz": -540
    },
    "id": "xfks8WhSNRi1",
    "outputId": "b4eb04a4-c8a4-4bb1-d814-ff09f6362f8b"
   },
   "outputs": [],
   "source": [
    "# from sklearn.feature_selection import SelectFromModel\n",
    "# from sklearn.ensemble import RandomForestClassifier\n",
    "\n",
    "# rf = RandomForestClassifier(random_state=SEED)\n",
    "\n",
    "# # thresholds = [\n",
    "# #     'mean', 'median',\n",
    "# #     '0.5*mean', '0.8*mean', '1.2*mean', '1.5*mean', '1.8*mean', '2*mean',\n",
    "# #     '0.5*median', '0.8*median', '1.2*median', '1.5*median', '1.8*median', '2*median'\n",
    "# # ]\n",
    "\n",
    "# thresholds = [f\"{i}*median\" for i in np.arange(0.1, 1.1, 0.1)]\n",
    "\n",
    "# for threshold in thresholds:\n",
    "#     sfm = SelectFromModel(threshold=threshold, estimator=rf)\n",
    "#     sfm.fit(train_vt, target)\n",
    "#     train_sfm = sfm.transform(train_vt)\n",
    "\n",
    "#     scores = cross_val_score(model, train_sfm, target, cv=cv, scoring=\"f1_macro\", n_jobs=-1)\n",
    "#     print(threshold, np.mean(scores), train_sfm.shape[1])"
   ]
  },
  {
   "cell_type": "code",
   "execution_count": 310,
   "metadata": {
    "colab": {
     "base_uri": "https://localhost:8080/"
    },
    "executionInfo": {
     "elapsed": 38500,
     "status": "ok",
     "timestamp": 1731457548880,
     "user": {
      "displayName": "beeeiiig123",
      "userId": "14260634740903801666"
     },
     "user_tz": -540
    },
    "id": "3JyN5pF6NRi2",
    "outputId": "c34557c9-a2af-41c1-cf83-78a9412c6891"
   },
   "outputs": [],
   "source": [
    "# sfm = SelectFromModel(rf, threshold='0.2*median')\n",
    "# train_sfm = sfm.fit_transform(train_vt, target)\n",
    "# test_sfm = sfm.transform(test_vt)\n",
    "\n",
    "# scores = cross_val_score(model, train_sfm, target, cv=cv, scoring=\"f1_macro\", n_jobs=-1)\n",
    "# np.mean(scores), train_sfm.shape, test_sfm.shape"
   ]
  },
  {
   "cell_type": "code",
   "execution_count": 311,
   "metadata": {
    "colab": {
     "base_uri": "https://localhost:8080/",
     "height": 990
    },
    "executionInfo": {
     "elapsed": 680,
     "status": "ok",
     "timestamp": 1731457670069,
     "user": {
      "displayName": "beeeiiig123",
      "userId": "14260634740903801666"
     },
     "user_tz": -540
    },
    "id": "xosY84od61M_",
    "outputId": "b1624d22-2868-4877-eb43-0b10ff1f7543"
   },
   "outputs": [],
   "source": [
    "# train_sfm = pd.DataFrame(train_sfm, columns=train_vt.columns[sfm.get_support()])\n",
    "# test_sfm = pd.DataFrame(test_sfm, columns=test_vt.columns[sfm.get_support()])\n",
    "\n",
    "# feature_importance = pd.DataFrame({\n",
    "#     'feature': train_sfm.columns,\n",
    "#     'score': sfm.estimator_.feature_importances_[sfm.get_support()]\n",
    "# }).reset_index(drop=True)\n",
    "\n",
    "# feature_importance.sort_values('score', ascending=False).head(30)"
   ]
  },
  {
   "cell_type": "markdown",
   "metadata": {
    "id": "aKDUB3yJNRi2"
   },
   "source": [
    "- SelectKBest"
   ]
  },
  {
   "cell_type": "code",
   "execution_count": 312,
   "metadata": {
    "executionInfo": {
     "elapsed": 2,
     "status": "ok",
     "timestamp": 1731567786463,
     "user": {
      "displayName": "beeeiiig123",
      "userId": "14260634740903801666"
     },
     "user_tz": -540
    },
    "id": "P2TMZZjANRi2"
   },
   "outputs": [],
   "source": [
    "from sklearn.feature_selection import SelectKBest"
   ]
  },
  {
   "cell_type": "code",
   "execution_count": 313,
   "metadata": {
    "colab": {
     "base_uri": "https://localhost:8080/"
    },
    "executionInfo": {
     "elapsed": 268376,
     "status": "ok",
     "timestamp": 1731458110406,
     "user": {
      "displayName": "beeeiiig123",
      "userId": "14260634740903801666"
     },
     "user_tz": -540
    },
    "id": "yJuvEDiMNRi4",
    "outputId": "e23cff45-b35d-4c18-9663-5b951a826709"
   },
   "outputs": [],
   "source": [
    "# for k in range(100, 751, 50):\n",
    "#     skb = SelectKBest(k=k)\n",
    "#     train_skb = skb.fit_transform(train_vt, target)\n",
    "\n",
    "#     scores = cross_val_score(model, train_skb, target, cv=cv, scoring=\"f1_macro\", n_jobs=-1)\n",
    "#     print(f\"특성수={k}, 정확도={np.mean(scores)}\")"
   ]
  },
  {
   "cell_type": "code",
   "execution_count": 314,
   "metadata": {
    "colab": {
     "base_uri": "https://localhost:8080/"
    },
    "executionInfo": {
     "elapsed": 283233,
     "status": "ok",
     "timestamp": 1731458424155,
     "user": {
      "displayName": "beeeiiig123",
      "userId": "14260634740903801666"
     },
     "user_tz": -540
    },
    "id": "3z-LDKERNRi4",
    "outputId": "ffef915e-b5e6-42bd-b0b1-3e5e789afba0"
   },
   "outputs": [],
   "source": [
    "# for k in range(650, 701, 5):\n",
    "#     skb = SelectKBest(k=k)\n",
    "#     train_skb = skb.fit_transform(train_vt, target)\n",
    "\n",
    "#     scores = cross_val_score(model, train_skb, target, cv=cv, scoring=\"f1_macro\", n_jobs=-1)\n",
    "#     print(f\"특성수={k}, 정확도={np.mean(scores)}\")"
   ]
  },
  {
   "cell_type": "code",
   "execution_count": 315,
   "metadata": {
    "colab": {
     "base_uri": "https://localhost:8080/"
    },
    "executionInfo": {
     "elapsed": 22854,
     "status": "ok",
     "timestamp": 1731567835288,
     "user": {
      "displayName": "beeeiiig123",
      "userId": "14260634740903801666"
     },
     "user_tz": -540
    },
    "id": "3Vfj28v_NRi5",
    "outputId": "bdc8dd97-a88b-4d27-e7cf-1becb0d8aacd"
   },
   "outputs": [],
   "source": [
    "skb = SelectKBest(k=685)\n",
    "train_skb = skb.fit_transform(train_vt, target)\n",
    "test_skb = skb.transform(test_vt)\n",
    "\n",
    "# scores = cross_val_score(model, train_skb, target, cv=cv, scoring=\"f1_macro\", n_jobs=-1)\n",
    "# np.mean(scores), train_skb.shape"
   ]
  },
  {
   "cell_type": "code",
   "execution_count": 316,
   "metadata": {
    "colab": {
     "base_uri": "https://localhost:8080/",
     "height": 990
    },
    "executionInfo": {
     "elapsed": 287,
     "status": "ok",
     "timestamp": 1731458571430,
     "user": {
      "displayName": "beeeiiig123",
      "userId": "14260634740903801666"
     },
     "user_tz": -540
    },
    "id": "Gd8mTVUX-LQx",
    "outputId": "7aa2800e-7caa-4060-ae98-89e53bbeb44e"
   },
   "outputs": [],
   "source": [
    "# feature_scores = pd.DataFrame(\n",
    "#     {'feature': train_vt.columns,\n",
    "#      'score': skb.scores_}\n",
    "# ).sort_values('score', ascending=False)\n",
    "\n",
    "# feature_scores.head(30)"
   ]
  },
  {
   "cell_type": "markdown",
   "metadata": {
    "id": "63WfidrUNRi5"
   },
   "source": [
    "- SelectPercentile"
   ]
  },
  {
   "cell_type": "code",
   "execution_count": 317,
   "metadata": {
    "colab": {
     "base_uri": "https://localhost:8080/"
    },
    "executionInfo": {
     "elapsed": 375979,
     "status": "ok",
     "timestamp": 1731459060071,
     "user": {
      "displayName": "beeeiiig123",
      "userId": "14260634740903801666"
     },
     "user_tz": -540
    },
    "id": "UNlmMC-oNRi6",
    "outputId": "f1200c13-2dc4-400b-b195-2ce86f300dbe"
   },
   "outputs": [],
   "source": [
    "# from sklearn.feature_selection import SelectPercentile\n",
    "\n",
    "# percentiles = [i for i in range(5, 101, 5)]\n",
    "\n",
    "# for percentile in percentiles:\n",
    "#     sp = SelectPercentile(percentile=percentile)\n",
    "#     train_sp = sp.fit_transform(train_vt, target)\n",
    "\n",
    "#     scores = cross_val_score(model, train_sp, target, cv=cv, scoring=\"f1_macro\", n_jobs=-1)\n",
    "#     print(f\"percentile={percentile}, 성능={np.mean(scores)}, 특성 수={train_sp.shape[1]}\")"
   ]
  },
  {
   "cell_type": "markdown",
   "metadata": {
    "id": "4YxDkYsBNRi7"
   },
   "source": [
    "- PCA"
   ]
  },
  {
   "cell_type": "code",
   "execution_count": 318,
   "metadata": {
    "colab": {
     "base_uri": "https://localhost:8080/"
    },
    "executionInfo": {
     "elapsed": 83671,
     "status": "ok",
     "timestamp": 1731459414070,
     "user": {
      "displayName": "beeeiiig123",
      "userId": "14260634740903801666"
     },
     "user_tz": -540
    },
    "id": "T2yAcR9PNRi7",
    "outputId": "85408614-7876-437d-ee92-a24a4e4c9905"
   },
   "outputs": [],
   "source": [
    "# from sklearn.decomposition import PCA\n",
    "\n",
    "# pca = PCA(0.95, random_state=SEED)\n",
    "# pca_train = pca.fit_transform(train_vt)\n",
    "# pca_test = pca.transform(test_vt)\n",
    "\n",
    "# scores = cross_val_score(model, pca_train, target, cv=cv, scoring=\"f1_macro\", n_jobs=-1)\n",
    "# np.mean(scores), pca_train.shape"
   ]
  },
  {
   "cell_type": "code",
   "execution_count": 319,
   "metadata": {
    "colab": {
     "base_uri": "https://localhost:8080/"
    },
    "executionInfo": {
     "elapsed": 56080,
     "status": "ok",
     "timestamp": 1731459554753,
     "user": {
      "displayName": "beeeiiig123",
      "userId": "14260634740903801666"
     },
     "user_tz": -540
    },
    "id": "pjFOaqM3NRi7",
    "outputId": "761b6802-dcac-4822-cf9c-2b4842e7ca13"
   },
   "outputs": [],
   "source": [
    "# pca = PCA(0.95, random_state=SEED)\n",
    "# pca_train_skb = pca.fit_transform(train_skb)\n",
    "# pca_test_skb = pca.transform(test_skb)\n",
    "\n",
    "# scores = cross_val_score(model, pca_train_skb, target, cv=cv, scoring=\"f1_macro\", n_jobs=-1)\n",
    "# np.mean(scores), pca_train_skb.shape"
   ]
  },
  {
   "cell_type": "markdown",
   "metadata": {
    "id": "DQQe7VFJNRi8"
   },
   "source": [
    "- LDA"
   ]
  },
  {
   "cell_type": "code",
   "execution_count": 320,
   "metadata": {
    "colab": {
     "base_uri": "https://localhost:8080/"
    },
    "executionInfo": {
     "elapsed": 12027,
     "status": "ok",
     "timestamp": 1731567860421,
     "user": {
      "displayName": "beeeiiig123",
      "userId": "14260634740903801666"
     },
     "user_tz": -540
    },
    "id": "OxwmOsHYNRi8",
    "outputId": "6eefd66a-83b2-4c10-fe8c-c77c8c7e04b5"
   },
   "outputs": [],
   "source": [
    "from sklearn.discriminant_analysis import LinearDiscriminantAnalysis as LDA\n",
    "\n",
    "lda = LDA(n_components=1)\n",
    "lda_train_skb = lda.fit_transform(train_skb, target)\n",
    "lda_test_skb = lda.transform(test_skb)\n",
    "\n",
    "# scores = cross_val_score(model, lda_train_skb, target, cv=cv, scoring=\"f1_macro\", n_jobs=-1)\n",
    "# np.mean(scores), lda_train_skb.shape"
   ]
  },
  {
   "cell_type": "markdown",
   "metadata": {
    "id": "t-uQzX7MNRi9"
   },
   "source": [
    "- 학습 시켜볼 데이터"
   ]
  },
  {
   "cell_type": "code",
   "execution_count": 321,
   "metadata": {
    "colab": {
     "base_uri": "https://localhost:8080/"
    },
    "executionInfo": {
     "elapsed": 258,
     "status": "ok",
     "timestamp": 1731460194690,
     "user": {
      "displayName": "beeeiiig123",
      "userId": "14260634740903801666"
     },
     "user_tz": -540
    },
    "id": "d90tiNUTNRi9",
    "outputId": "3fc72b08-a463-41fc-c4f8-fe5bd109d4cd"
   },
   "outputs": [
    {
     "data": {
      "text/plain": [
       "((14940, 795),\n",
       " (12225, 795),\n",
       " (14940, 685),\n",
       " (12225, 685),\n",
       " (14940, 1),\n",
       " (12225, 1))"
      ]
     },
     "execution_count": 321,
     "metadata": {},
     "output_type": "execute_result"
    }
   ],
   "source": [
    "train_vt.shape, test_vt.shape, train_skb.shape, test_skb.shape, lda_train_skb.shape, lda_test_skb.shape"
   ]
  },
  {
   "cell_type": "code",
   "execution_count": 322,
   "metadata": {
    "executionInfo": {
     "elapsed": 923,
     "status": "ok",
     "timestamp": 1731567870063,
     "user": {
      "displayName": "beeeiiig123",
      "userId": "14260634740903801666"
     },
     "user_tz": -540
    },
    "id": "8P4_-zkbU5Dp"
   },
   "outputs": [],
   "source": [
    "from lightgbm import LGBMClassifier\n",
    "from xgboost import XGBClassifier\n",
    "from sklearn.linear_model import LogisticRegression\n",
    "from sklearn.ensemble import RandomForestClassifier"
   ]
  },
  {
   "cell_type": "markdown",
   "metadata": {
    "id": "cDZz6IIONRi-"
   },
   "source": [
    "# 모델 선택"
   ]
  },
  {
   "cell_type": "code",
   "execution_count": 323,
   "metadata": {
    "executionInfo": {
     "elapsed": 317,
     "status": "ok",
     "timestamp": 1731567886098,
     "user": {
      "displayName": "beeeiiig123",
      "userId": "14260634740903801666"
     },
     "user_tz": -540
    },
    "id": "wAL59I3xEqlo"
   },
   "outputs": [],
   "source": [
    "# from sklearn.model_selection import train_test_split\n",
    "# from sklearn.metrics import f1_score\n",
    "\n",
    "# x_train, x_valid, y_train, y_valid = train_test_split(\n",
    "#     lda_train_skb, target, test_size=0.2, random_state=SEED, stratify=target, shuffle=True\n",
    "# )"
   ]
  },
  {
   "cell_type": "code",
   "execution_count": 324,
   "metadata": {
    "colab": {
     "base_uri": "https://localhost:8080/"
    },
    "executionInfo": {
     "elapsed": 1323,
     "status": "ok",
     "timestamp": 1731567888490,
     "user": {
      "displayName": "beeeiiig123",
      "userId": "14260634740903801666"
     },
     "user_tz": -540
    },
    "id": "ipWOkSqrNRi-",
    "outputId": "4948b028-381d-4430-9f3f-a8bbd0ca5f44"
   },
   "outputs": [],
   "source": [
    "# model = LGBMClassifier(random_state=SEED)\n",
    "# model.fit(x_train, y_train)\n",
    "\n",
    "# train_pred = model.predict(x_train)\n",
    "# valid_pred = model.predict(x_valid)\n",
    "\n",
    "# f1_score(y_train, train_pred, average='macro'), f1_score(y_valid, valid_pred, average='macro')"
   ]
  },
  {
   "cell_type": "code",
   "execution_count": 325,
   "metadata": {
    "colab": {
     "base_uri": "https://localhost:8080/"
    },
    "executionInfo": {
     "elapsed": 2001,
     "status": "ok",
     "timestamp": 1731567891941,
     "user": {
      "displayName": "beeeiiig123",
      "userId": "14260634740903801666"
     },
     "user_tz": -540
    },
    "id": "5M4gvHLVUd0N",
    "outputId": "63e6802b-5ecc-4001-fcc0-064daf8fdee4"
   },
   "outputs": [],
   "source": [
    "# model = XGBClassifier(random_state=SEED)\n",
    "# model.fit(x_train, y_train)\n",
    "\n",
    "# train_pred = model.predict(x_train)\n",
    "# valid_pred = model.predict(x_valid)\n",
    "\n",
    "# f1_score(y_train, train_pred, average='macro'), f1_score(y_valid, valid_pred, average='macro')"
   ]
  },
  {
   "cell_type": "markdown",
   "metadata": {
    "id": "rXinfWehVH4-"
   },
   "source": [
    "# cv 점수 확인해보기"
   ]
  },
  {
   "cell_type": "code",
   "execution_count": 326,
   "metadata": {
    "id": "9zdzXYwOVSgV"
   },
   "outputs": [],
   "source": [
    "from sklearn.model_selection import cross_val_score\n",
    "from sklearn.model_selection import StratifiedKFold\n",
    "\n",
    "cv = StratifiedKFold(n_splits=5, shuffle=True, random_state=SEED)"
   ]
  },
  {
   "cell_type": "code",
   "execution_count": 327,
   "metadata": {
    "colab": {
     "base_uri": "https://localhost:8080/"
    },
    "executionInfo": {
     "elapsed": 26039,
     "status": "ok",
     "timestamp": 1730269798701,
     "user": {
      "displayName": "koeyhi",
      "userId": "08049178071858703986"
     },
     "user_tz": -540
    },
    "id": "rY6xQ68PVGwP",
    "outputId": "e9425557-4602-4f8c-d99a-88cede732259"
   },
   "outputs": [],
   "source": [
    "# from lightgbm import LGBMClassifier\n",
    "\n",
    "# model = LGBMClassifier(random_state=SEED)\n",
    "# scores = cross_val_score(model, train_ft, target, cv=cv, scoring=\"f1_macro\", n_jobs=-1)\n",
    "# np.mean(scores)"
   ]
  },
  {
   "cell_type": "markdown",
   "metadata": {
    "id": "tUfajgtxVdte"
   },
   "source": [
    "# 모델 학습"
   ]
  },
  {
   "cell_type": "code",
   "execution_count": 328,
   "metadata": {
    "colab": {
     "base_uri": "https://localhost:8080/"
    },
    "executionInfo": {
     "elapsed": 784,
     "status": "ok",
     "timestamp": 1731567895941,
     "user": {
      "displayName": "beeeiiig123",
      "userId": "14260634740903801666"
     },
     "user_tz": -540
    },
    "id": "16GsDHp0VGtd",
    "outputId": "1b88652e-b92d-4ef8-dc10-527ab5207005"
   },
   "outputs": [],
   "source": [
    "params = {\n",
    "    'num_leaves': 36,\n",
    "    'max_depth': 21,\n",
    "    'min_child_samples': 39,\n",
    "    'learning_rate': 0.019283098658142428,\n",
    "}\n",
    "\n",
    "lgbm = LGBMClassifier(**params, random_state=SEED)\n",
    "# lgbm.fit(x_train, y_train)\n",
    "\n",
    "# f1_score(y_train, lgbm.predict(x_train), average='macro'), f1_score(y_valid, lgbm.predict(x_valid), average='macro')"
   ]
  },
  {
   "cell_type": "code",
   "execution_count": 329,
   "metadata": {
    "colab": {
     "base_uri": "https://localhost:8080/"
    },
    "executionInfo": {
     "elapsed": 3265,
     "status": "ok",
     "timestamp": 1731567900120,
     "user": {
      "displayName": "beeeiiig123",
      "userId": "14260634740903801666"
     },
     "user_tz": -540
    },
    "id": "cJMgbHGSdCg9",
    "outputId": "20597538-b623-45af-d3bc-3584442d2413"
   },
   "outputs": [],
   "source": [
    "params = {\n",
    "    'n_estimators': 245,\n",
    "    'learning_rate': 0.41200326684575306,\n",
    "    'max_depth': 5,\n",
    "    'subsample': 0.982955738671843,\n",
    "    'min_child_samples': 29,\n",
    "    'gamma': 0.9143366157020726,\n",
    "    'alpha': 0.8788261967385123,\n",
    "    'lambda': 1.866590371228826,\n",
    "    'objective': 'binary:logistic',\n",
    "    'eval_metric': None\n",
    "}\n",
    "\n",
    "xgb = XGBClassifier(**params, random_state=SEED)\n",
    "# xgb.fit(x_train, y_train)\n",
    "\n",
    "# f1_score(y_train, xgb.predict(x_train), average='macro'), f1_score(y_valid, xgb.predict(x_valid), average='macro')"
   ]
  },
  {
   "cell_type": "code",
   "execution_count": 330,
   "metadata": {
    "colab": {
     "base_uri": "https://localhost:8080/"
    },
    "executionInfo": {
     "elapsed": 7769,
     "status": "ok",
     "timestamp": 1731567908869,
     "user": {
      "displayName": "beeeiiig123",
      "userId": "14260634740903801666"
     },
     "user_tz": -540
    },
    "id": "h6Yrfl7yg6ln",
    "outputId": "cb1723cc-bb58-4fb6-9ab0-66a943d0fab6"
   },
   "outputs": [],
   "source": [
    "params = {\n",
    "    'n_estimators': 208,\n",
    "    'max_depth': 5,\n",
    "    'min_samples_split': 3,\n",
    "    'min_samples_leaf': 4,\n",
    "    'max_samples': 0.837846643969017,\n",
    "    'criterion': 'entropy',\n",
    "    'n_jobs': -1,\n",
    "}\n",
    "\n",
    "rf = RandomForestClassifier(**params, random_state=SEED)\n",
    "# rf.fit(x_train, y_train)\n",
    "\n",
    "# f1_score(y_train, rf.predict(x_train), average='macro'), f1_score(y_valid, rf.predict(x_valid), average='macro')"
   ]
  },
  {
   "cell_type": "code",
   "execution_count": 331,
   "metadata": {
    "colab": {
     "base_uri": "https://localhost:8080/"
    },
    "executionInfo": {
     "elapsed": 3,
     "status": "ok",
     "timestamp": 1731567908869,
     "user": {
      "displayName": "beeeiiig123",
      "userId": "14260634740903801666"
     },
     "user_tz": -540
    },
    "id": "0seuWGH_g2WP",
    "outputId": "add7ab7e-67d6-4f2f-b456-9dc3264c2f59"
   },
   "outputs": [],
   "source": [
    "params = {\n",
    "    'penalty': 'l2',\n",
    "    'C': 0.5044004114395136,\n",
    "    'solver': 'liblinear',\n",
    "    'max_iter': 445,\n",
    "    'class_weight': 'balanced',\n",
    "}\n",
    "\n",
    "lr = LogisticRegression(**params, random_state=SEED)\n",
    "# lr.fit(x_train, y_train)\n",
    "\n",
    "# f1_score(y_train, lr.predict(x_train), average='macro'), f1_score(y_valid, lr.predict(x_valid), average='macro')"
   ]
  },
  {
   "cell_type": "markdown",
   "metadata": {
    "id": "c5H1ofAxoBVR"
   },
   "source": [
    "# 앙상블"
   ]
  },
  {
   "cell_type": "markdown",
   "metadata": {
    "id": "d6FiTtLjoMLW"
   },
   "source": [
    "- 스태킹"
   ]
  },
  {
   "cell_type": "code",
   "execution_count": 332,
   "metadata": {
    "executionInfo": {
     "elapsed": 2,
     "status": "ok",
     "timestamp": 1731567925366,
     "user": {
      "displayName": "beeeiiig123",
      "userId": "14260634740903801666"
     },
     "user_tz": -540
    },
    "id": "HxkFEzxHGqXX"
   },
   "outputs": [],
   "source": [
    "from sklearn.ensemble import StackingClassifier\n",
    "from sklearn.model_selection import GridSearchCV"
   ]
  },
  {
   "cell_type": "code",
   "execution_count": 333,
   "metadata": {
    "executionInfo": {
     "elapsed": 2,
     "status": "ok",
     "timestamp": 1731567925366,
     "user": {
      "displayName": "beeeiiig123",
      "userId": "14260634740903801666"
     },
     "user_tz": -540
    },
    "id": "B83wZtHDFpPE"
   },
   "outputs": [],
   "source": [
    "# 기본 모델들을 list로 묶어서 스태킹앙상블\n",
    "base_learners = [\n",
    "    ('lr', lr),\n",
    "    ('lgbm', lgbm),\n",
    "    ('xgb', xgb),\n",
    "    ('rf', rf)\n",
    "]\n",
    "\n",
    "# 메타모델로 설정\n",
    "params = {\n",
    "    \"C\": 50,\n",
    "    \"max_iter\": 100,\n",
    "    \"penalty\": \"l2\",\n",
    "    \"solver\": \"liblinear\",\n",
    "}\n",
    "\n",
    "meta_model = LogisticRegression(**params, random_state=SEED)\n",
    "\n",
    "# StackingClassifier 설정\n",
    "stacking = StackingClassifier(\n",
    "    estimators=base_learners,\n",
    "    final_estimator=meta_model\n",
    ")"
   ]
  },
  {
   "cell_type": "code",
   "execution_count": 334,
   "metadata": {
    "colab": {
     "base_uri": "https://localhost:8080/",
     "height": 1000
    },
    "executionInfo": {
     "elapsed": 2148015,
     "status": "ok",
     "timestamp": 1731570104457,
     "user": {
      "displayName": "beeeiiig123",
      "userId": "14260634740903801666"
     },
     "user_tz": -540
    },
    "id": "B_lHD-_WoCeS",
    "outputId": "a9255d49-fc6b-48b7-baa8-781b285cc4c1"
   },
   "outputs": [],
   "source": [
    "# # LogisticRegression 파라미터 그리드 설정\n",
    "# params = {\n",
    "#     'final_estimator__C': [100,301,50],\n",
    "#     'final_estimator__penalty': ['l2', 'l1'],\n",
    "#     'final_estimator__solver': ['lbfgs', 'liblinear'],\n",
    "#     'final_estimator__max_iter': [100,1001,100]\n",
    "# }\n",
    "\n",
    "# # 그리드 서치를 StackingClassifier에 적용\n",
    "# grid_search = GridSearchCV(estimator=stacking, param_grid=params, cv=cv, scoring='f1_macro')\n",
    "\n",
    "# # 그리드 서치 실행\n",
    "# grid_search.fit(x_train, y_train)"
   ]
  },
  {
   "cell_type": "code",
   "execution_count": 335,
   "metadata": {
    "colab": {
     "base_uri": "https://localhost:8080/"
    },
    "executionInfo": {
     "elapsed": 2,
     "status": "ok",
     "timestamp": 1731570105396,
     "user": {
      "displayName": "beeeiiig123",
      "userId": "14260634740903801666"
     },
     "user_tz": -540
    },
    "id": "pdjQU5kdQFzN",
    "outputId": "15c7545e-409d-4640-b4ab-fe1e054b5794"
   },
   "outputs": [],
   "source": [
    "# print(f\"Best params: {grid_search.best_params_}\")"
   ]
  },
  {
   "cell_type": "code",
   "execution_count": 336,
   "metadata": {
    "colab": {
     "base_uri": "https://localhost:8080/"
    },
    "executionInfo": {
     "elapsed": 565,
     "status": "ok",
     "timestamp": 1731570106271,
     "user": {
      "displayName": "beeeiiig123",
      "userId": "14260634740903801666"
     },
     "user_tz": -540
    },
    "id": "f7xuxZALPtsq",
    "outputId": "2c018343-31a0-4d62-e6c4-75b08aa502d9"
   },
   "outputs": [],
   "source": [
    "# f1_score(y_train, grid_search.best_estimator_.predict(x_train), average='macro'), f1_score(y_valid, grid_search.best_estimator_.predict(x_valid), average='macro')"
   ]
  },
  {
   "cell_type": "code",
   "execution_count": 337,
   "metadata": {
    "id": "CruU2tMclrPh"
   },
   "outputs": [],
   "source": [
    "# (0.7466810383335329, 0.7506432075682758)"
   ]
  },
  {
   "cell_type": "markdown",
   "metadata": {
    "id": "q-we55wPVkWP"
   },
   "source": [
    "# 테스트 데이터 예측"
   ]
  },
  {
   "cell_type": "code",
   "execution_count": 338,
   "metadata": {
    "colab": {
     "base_uri": "https://localhost:8080/"
    },
    "executionInfo": {
     "elapsed": 4,
     "status": "ok",
     "timestamp": 1731570106272,
     "user": {
      "displayName": "beeeiiig123",
      "userId": "14260634740903801666"
     },
     "user_tz": -540
    },
    "id": "cGKD_ONhIfL_",
    "outputId": "cd3feec1-e663-4874-c785-f1c66e1586d2"
   },
   "outputs": [
    {
     "name": "stdout",
     "output_type": "stream",
     "text": [
      "[LightGBM] [Info] Number of positive: 5874, number of negative: 9066\n",
      "[LightGBM] [Info] Auto-choosing row-wise multi-threading, the overhead of testing was 0.000028 seconds.\n",
      "You can set `force_row_wise=true` to remove the overhead.\n",
      "And if memory is not enough, you can set `force_col_wise=true`.\n",
      "[LightGBM] [Info] Total Bins 255\n",
      "[LightGBM] [Info] Number of data points in the train set: 14940, number of used features: 1\n",
      "[LightGBM] [Info] [binary:BoostFromScore]: pavg=0.393173 -> initscore=-0.433995\n",
      "[LightGBM] [Info] Start training from score -0.433995\n"
     ]
    },
    {
     "name": "stderr",
     "output_type": "stream",
     "text": [
      "c:\\Users\\kwon3\\AppData\\Local\\Programs\\Python\\Python310\\lib\\site-packages\\xgboost\\core.py:158: UserWarning: [18:31:26] WARNING: C:\\buildkite-agent\\builds\\buildkite-windows-cpu-autoscaling-group-i-0ed59c031377d09b8-1\\xgboost\\xgboost-ci-windows\\src\\learner.cc:740: \n",
      "Parameters: { \"min_child_samples\" } are not used.\n",
      "\n",
      "  warnings.warn(smsg, UserWarning)\n"
     ]
    },
    {
     "name": "stdout",
     "output_type": "stream",
     "text": [
      "[LightGBM] [Info] Number of positive: 4699, number of negative: 7253\n",
      "[LightGBM] [Info] Auto-choosing col-wise multi-threading, the overhead of testing was 0.000045 seconds.\n",
      "You can set `force_col_wise=true` to remove the overhead.\n",
      "[LightGBM] [Info] Total Bins 255\n",
      "[LightGBM] [Info] Number of data points in the train set: 11952, number of used features: 1\n",
      "[LightGBM] [Info] [binary:BoostFromScore]: pavg=0.393156 -> initscore=-0.434065\n",
      "[LightGBM] [Info] Start training from score -0.434065\n",
      "[LightGBM] [Info] Number of positive: 4699, number of negative: 7253\n",
      "[LightGBM] [Info] Auto-choosing row-wise multi-threading, the overhead of testing was 0.000025 seconds.\n",
      "You can set `force_row_wise=true` to remove the overhead.\n",
      "And if memory is not enough, you can set `force_col_wise=true`.\n",
      "[LightGBM] [Info] Total Bins 255\n",
      "[LightGBM] [Info] Number of data points in the train set: 11952, number of used features: 1\n",
      "[LightGBM] [Info] [binary:BoostFromScore]: pavg=0.393156 -> initscore=-0.434065\n",
      "[LightGBM] [Info] Start training from score -0.434065\n",
      "[LightGBM] [Info] Number of positive: 4699, number of negative: 7253\n",
      "[LightGBM] [Info] Auto-choosing row-wise multi-threading, the overhead of testing was 0.000024 seconds.\n",
      "You can set `force_row_wise=true` to remove the overhead.\n",
      "And if memory is not enough, you can set `force_col_wise=true`.\n",
      "[LightGBM] [Info] Total Bins 255\n",
      "[LightGBM] [Info] Number of data points in the train set: 11952, number of used features: 1\n",
      "[LightGBM] [Info] [binary:BoostFromScore]: pavg=0.393156 -> initscore=-0.434065\n",
      "[LightGBM] [Info] Start training from score -0.434065\n",
      "[LightGBM] [Info] Number of positive: 4699, number of negative: 7253\n",
      "[LightGBM] [Info] Auto-choosing row-wise multi-threading, the overhead of testing was 0.000042 seconds.\n",
      "You can set `force_row_wise=true` to remove the overhead.\n",
      "And if memory is not enough, you can set `force_col_wise=true`.\n",
      "[LightGBM] [Info] Total Bins 255\n",
      "[LightGBM] [Info] Number of data points in the train set: 11952, number of used features: 1\n",
      "[LightGBM] [Info] [binary:BoostFromScore]: pavg=0.393156 -> initscore=-0.434065\n",
      "[LightGBM] [Info] Start training from score -0.434065\n",
      "[LightGBM] [Info] Number of positive: 4700, number of negative: 7252\n",
      "[LightGBM] [Info] Auto-choosing row-wise multi-threading, the overhead of testing was 0.000026 seconds.\n",
      "You can set `force_row_wise=true` to remove the overhead.\n",
      "And if memory is not enough, you can set `force_col_wise=true`.\n",
      "[LightGBM] [Info] Total Bins 255\n",
      "[LightGBM] [Info] Number of data points in the train set: 11952, number of used features: 1\n",
      "[LightGBM] [Info] [binary:BoostFromScore]: pavg=0.393240 -> initscore=-0.433715\n",
      "[LightGBM] [Info] Start training from score -0.433715\n"
     ]
    },
    {
     "name": "stderr",
     "output_type": "stream",
     "text": [
      "c:\\Users\\kwon3\\AppData\\Local\\Programs\\Python\\Python310\\lib\\site-packages\\xgboost\\core.py:158: UserWarning: [18:31:27] WARNING: C:\\buildkite-agent\\builds\\buildkite-windows-cpu-autoscaling-group-i-0ed59c031377d09b8-1\\xgboost\\xgboost-ci-windows\\src\\learner.cc:740: \n",
      "Parameters: { \"min_child_samples\" } are not used.\n",
      "\n",
      "  warnings.warn(smsg, UserWarning)\n"
     ]
    },
    {
     "data": {
      "text/plain": [
       "array([0.06028436, 0.28223148, 0.30937412, ..., 0.04761267, 0.1505774 ,\n",
       "       0.08176672])"
      ]
     },
     "execution_count": 338,
     "metadata": {},
     "output_type": "execute_result"
    }
   ],
   "source": [
    "stacking.fit(lda_train_skb, target)\n",
    "pred = stacking.predict_proba(lda_test_skb)[:,1]\n",
    "pred"
   ]
  },
  {
   "cell_type": "markdown",
   "metadata": {
    "id": "CcnCtcWPVrKn"
   },
   "source": [
    "# 평가를 위한 제출 파일 생성\n",
    "- 예측 결과를 target 컬럼에 넣어 csv 파일로 저장후에 제출한다."
   ]
  },
  {
   "cell_type": "code",
   "execution_count": 339,
   "metadata": {
    "colab": {
     "base_uri": "https://localhost:8080/",
     "height": 424
    },
    "executionInfo": {
     "elapsed": 3,
     "status": "ok",
     "timestamp": 1731570106272,
     "user": {
      "displayName": "beeeiiig123",
      "userId": "14260634740903801666"
     },
     "user_tz": -540
    },
    "id": "LLHqOugmVq_v",
    "outputId": "529fe68d-1b2d-4ea1-a7cd-9f3aed277ecc"
   },
   "outputs": [
    {
     "data": {
      "text/html": [
       "<div>\n",
       "<style scoped>\n",
       "    .dataframe tbody tr th:only-of-type {\n",
       "        vertical-align: middle;\n",
       "    }\n",
       "\n",
       "    .dataframe tbody tr th {\n",
       "        vertical-align: top;\n",
       "    }\n",
       "\n",
       "    .dataframe thead th {\n",
       "        text-align: right;\n",
       "    }\n",
       "</style>\n",
       "<table border=\"1\" class=\"dataframe\">\n",
       "  <thead>\n",
       "    <tr style=\"text-align: right;\">\n",
       "      <th></th>\n",
       "      <th>ID</th>\n",
       "      <th>target</th>\n",
       "    </tr>\n",
       "  </thead>\n",
       "  <tbody>\n",
       "    <tr>\n",
       "      <th>0</th>\n",
       "      <td>test_0</td>\n",
       "      <td>0.060284</td>\n",
       "    </tr>\n",
       "    <tr>\n",
       "      <th>1</th>\n",
       "      <td>test_1</td>\n",
       "      <td>0.282231</td>\n",
       "    </tr>\n",
       "    <tr>\n",
       "      <th>2</th>\n",
       "      <td>test_2</td>\n",
       "      <td>0.309374</td>\n",
       "    </tr>\n",
       "    <tr>\n",
       "      <th>3</th>\n",
       "      <td>test_3</td>\n",
       "      <td>0.677826</td>\n",
       "    </tr>\n",
       "    <tr>\n",
       "      <th>4</th>\n",
       "      <td>test_4</td>\n",
       "      <td>0.410938</td>\n",
       "    </tr>\n",
       "    <tr>\n",
       "      <th>...</th>\n",
       "      <td>...</td>\n",
       "      <td>...</td>\n",
       "    </tr>\n",
       "    <tr>\n",
       "      <th>12220</th>\n",
       "      <td>test_12220</td>\n",
       "      <td>0.692232</td>\n",
       "    </tr>\n",
       "    <tr>\n",
       "      <th>12221</th>\n",
       "      <td>test_12221</td>\n",
       "      <td>0.242606</td>\n",
       "    </tr>\n",
       "    <tr>\n",
       "      <th>12222</th>\n",
       "      <td>test_12222</td>\n",
       "      <td>0.047613</td>\n",
       "    </tr>\n",
       "    <tr>\n",
       "      <th>12223</th>\n",
       "      <td>test_12223</td>\n",
       "      <td>0.150577</td>\n",
       "    </tr>\n",
       "    <tr>\n",
       "      <th>12224</th>\n",
       "      <td>test_12224</td>\n",
       "      <td>0.081767</td>\n",
       "    </tr>\n",
       "  </tbody>\n",
       "</table>\n",
       "<p>12225 rows × 2 columns</p>\n",
       "</div>"
      ],
      "text/plain": [
       "               ID    target\n",
       "0          test_0  0.060284\n",
       "1          test_1  0.282231\n",
       "2          test_2  0.309374\n",
       "3          test_3  0.677826\n",
       "4          test_4  0.410938\n",
       "...           ...       ...\n",
       "12220  test_12220  0.692232\n",
       "12221  test_12221  0.242606\n",
       "12222  test_12222  0.047613\n",
       "12223  test_12223  0.150577\n",
       "12224  test_12224  0.081767\n",
       "\n",
       "[12225 rows x 2 columns]"
      ]
     },
     "execution_count": 339,
     "metadata": {},
     "output_type": "execute_result"
    }
   ],
   "source": [
    "submit[\"target\"] = pred\n",
    "submit"
   ]
  },
  {
   "cell_type": "markdown",
   "metadata": {
    "id": "bjw87GeIV-BP"
   },
   "source": [
    "- 예측 결과를 csv 파일로 저장하여 제출"
   ]
  },
  {
   "cell_type": "code",
   "execution_count": 340,
   "metadata": {
    "executionInfo": {
     "elapsed": 245,
     "status": "ok",
     "timestamp": 1731570118909,
     "user": {
      "displayName": "beeeiiig123",
      "userId": "14260634740903801666"
     },
     "user_tz": -540
    },
    "id": "SsLTeJeoWBc_"
   },
   "outputs": [],
   "source": [
    "submit.to_csv(\"../submit/data/submit_박현철.csv\",index=False)"
   ]
  }
 ],
 "metadata": {
  "colab": {
   "provenance": [],
   "toc_visible": true
  },
  "kernelspec": {
   "display_name": "Python 3",
   "name": "python3"
  },
  "language_info": {
   "codemirror_mode": {
    "name": "ipython",
    "version": 3
   },
   "file_extension": ".py",
   "mimetype": "text/x-python",
   "name": "python",
   "nbconvert_exporter": "python",
   "pygments_lexer": "ipython3",
   "version": "3.10.8"
  }
 },
 "nbformat": 4,
 "nbformat_minor": 0
}
