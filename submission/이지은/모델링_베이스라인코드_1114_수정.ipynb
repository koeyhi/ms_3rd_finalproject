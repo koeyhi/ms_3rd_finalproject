{
 "cells": [
  {
   "cell_type": "code",
   "execution_count": 103,
   "metadata": {},
   "outputs": [
    {
     "name": "stderr",
     "output_type": "stream",
     "text": [
      "'sudo'��(��) ���� �Ǵ� �ܺ� ����, ������ �� �ִ� ���α׷�, �Ǵ�\n",
      "��ġ ������ �ƴմϴ�.\n",
      "'sudo'��(��) ���� �Ǵ� �ܺ� ����, ������ �� �ִ� ���α׷�, �Ǵ�\n",
      "��ġ ������ �ƴմϴ�.\n"
     ]
    }
   ],
   "source": [
    "import matplotlib\n",
    "from matplotlib import font_manager\n",
    "\n",
    "!sudo apt-get install -y fonts-nanum\n",
    "!sudo fc-cache -fv\n",
    "\n",
    "fontpaths = [\"C:/Users/kwon3/AppData/Local/Microsoft/Windows/Fonts/NanumGothicBold.ttf\"]\n",
    "font_files = font_manager.findSystemFonts(fontpaths=fontpaths)\n",
    "\n",
    "for ff in font_files:\n",
    "    font_manager.fontManager.addfont(ff)\n",
    "\n",
    "matplotlib.rc('font', family=\"Malgun Gothic\")\n",
    "matplotlib.rcParams['axes.unicode_minus'] = False"
   ]
  },
  {
   "cell_type": "code",
   "execution_count": 104,
   "metadata": {
    "colab": {
     "base_uri": "https://localhost:8080/"
    },
    "executionInfo": {
     "elapsed": 2373,
     "status": "ok",
     "timestamp": 1730269751697,
     "user": {
      "displayName": "koeyhi",
      "userId": "08049178071858703986"
     },
     "user_tz": -540
    },
    "id": "N44QYORV8wFy",
    "outputId": "c67d746e-c038-46c3-c4a6-12e2bfb4c4c2"
   },
   "outputs": [],
   "source": [
    "# from google.colab import drive\n",
    "# drive.mount('/content/drive')"
   ]
  },
  {
   "cell_type": "markdown",
   "metadata": {
    "id": "ZhUuXRB5BCFE"
   },
   "source": [
    "- 데이터 경로 변수"
   ]
  },
  {
   "cell_type": "code",
   "execution_count": 105,
   "metadata": {
    "colab": {
     "base_uri": "https://localhost:8080/",
     "height": 35
    },
    "executionInfo": {
     "elapsed": 4,
     "status": "ok",
     "timestamp": 1730269751697,
     "user": {
      "displayName": "koeyhi",
      "userId": "08049178071858703986"
     },
     "user_tz": -540
    },
    "id": "NfX2HPof87FT",
    "outputId": "c78f61ea-4061-4239-8d9a-69596aaea196"
   },
   "outputs": [],
   "source": [
    "# DATA_PATH = \"/content/drive/MyDrive/파이널프로젝트/data/\"\n",
    "# DATA_PATH"
   ]
  },
  {
   "cell_type": "code",
   "execution_count": 106,
   "metadata": {},
   "outputs": [
    {
     "data": {
      "text/plain": [
       "'data/'"
      ]
     },
     "execution_count": 106,
     "metadata": {},
     "output_type": "execute_result"
    }
   ],
   "source": [
    "DATA_PATH = \"data/\"\n",
    "DATA_PATH"
   ]
  },
  {
   "cell_type": "markdown",
   "metadata": {
    "id": "q1qAeLjZVWZz"
   },
   "source": [
    "- 시드값"
   ]
  },
  {
   "cell_type": "code",
   "execution_count": 107,
   "metadata": {
    "executionInfo": {
     "elapsed": 3,
     "status": "ok",
     "timestamp": 1730269751697,
     "user": {
      "displayName": "koeyhi",
      "userId": "08049178071858703986"
     },
     "user_tz": -540
    },
    "id": "nVyhJ6uOVVNE"
   },
   "outputs": [],
   "source": [
    "SEED = 42"
   ]
  },
  {
   "cell_type": "markdown",
   "metadata": {
    "id": "sQd7JpzNBHa1"
   },
   "source": [
    "- 데이터 불러오기"
   ]
  },
  {
   "cell_type": "code",
   "execution_count": 108,
   "metadata": {
    "colab": {
     "base_uri": "https://localhost:8080/"
    },
    "executionInfo": {
     "elapsed": 3363,
     "status": "ok",
     "timestamp": 1730269755057,
     "user": {
      "displayName": "koeyhi",
      "userId": "08049178071858703986"
     },
     "user_tz": -540
    },
    "id": "KFGKUIWt89fZ",
    "outputId": "71de9db2-3cde-484d-bf38-d478119d222f"
   },
   "outputs": [
    {
     "data": {
      "text/plain": [
       "((523105, 7), (14940, 2), (441196, 7), (12225, 2))"
      ]
     },
     "execution_count": 108,
     "metadata": {},
     "output_type": "execute_result"
    }
   ],
   "source": [
    "import pandas as pd\n",
    "import numpy as np\n",
    "\n",
    "train_tr = pd.read_csv(f\"{DATA_PATH}store_train_transactions.csv\") # 학습용 구매기록 데이터\n",
    "train_target = pd.read_csv(f\"{DATA_PATH}store_train.csv\") # 학습용 정답 데이터\n",
    "test_tr = pd.read_csv(f\"{DATA_PATH}store_test_transactions.csv\") # 테스트용 구매기록 데이터\n",
    "submit = pd.read_csv(f\"{DATA_PATH}store_submission.csv\") # 제출 양식 데이터\n",
    "\n",
    "train_tr.shape , train_target.shape , test_tr.shape , submit.shape"
   ]
  },
  {
   "cell_type": "markdown",
   "metadata": {
    "id": "XZq4x4CuP2gr"
   },
   "source": [
    "- 공통 피처 파일 불러오기"
   ]
  },
  {
   "cell_type": "code",
   "execution_count": 109,
   "metadata": {},
   "outputs": [],
   "source": [
    "submit = pd.read_csv(f\"{DATA_PATH}store_submission.csv\") # 제출 양식 데이터"
   ]
  },
  {
   "cell_type": "code",
   "execution_count": 110,
   "metadata": {
    "colab": {
     "base_uri": "https://localhost:8080/"
    },
    "executionInfo": {
     "elapsed": 1741,
     "status": "ok",
     "timestamp": 1730269756796,
     "user": {
      "displayName": "koeyhi",
      "userId": "08049178071858703986"
     },
     "user_tz": -540
    },
    "id": "T3tcFrkLPv1g",
    "outputId": "31ea41a2-0d8b-4e97-c431-e584aab30619"
   },
   "outputs": [],
   "source": [
    "#train_ft = pd.read_csv(f\"{DATA_PATH}train_common_2.csv\") # 학습 데이터(피처)\n",
    "#test_ft = pd.read_csv(f\"{DATA_PATH}test_common_2.csv\") # 테스트 데이터(피처)\n",
    "\n",
    "#train_ft.shape , test_ft.shape"
   ]
  },
  {
   "cell_type": "code",
   "execution_count": 111,
   "metadata": {},
   "outputs": [
    {
     "data": {
      "text/plain": [
       "((14940, 2331), (12225, 2331))"
      ]
     },
     "execution_count": 111,
     "metadata": {},
     "output_type": "execute_result"
    }
   ],
   "source": [
    "train_ft = pd.read_csv(f\"{DATA_PATH}train_common_1114.csv\") # 학습 데이터(피처)\n",
    "test_ft = pd.read_csv(f\"{DATA_PATH}test_common_1114.csv\") # 테스트 데이터(피처)\n",
    "\n",
    "train_ft.shape , test_ft.shape"
   ]
  },
  {
   "cell_type": "markdown",
   "metadata": {
    "id": "r43SCHUujW-f"
   },
   "source": [
    "# 결측치 처리"
   ]
  },
  {
   "cell_type": "code",
   "execution_count": 112,
   "metadata": {
    "colab": {
     "base_uri": "https://localhost:8080/",
     "height": 115
    },
    "executionInfo": {
     "elapsed": 18,
     "status": "ok",
     "timestamp": 1730269756796,
     "user": {
      "displayName": "koeyhi",
      "userId": "08049178071858703986"
     },
     "user_tz": -540
    },
    "id": "0qVrhIG3Q6T3",
    "outputId": "14080301-7bdb-4e7f-ced1-4b5b8dc2bd03"
   },
   "outputs": [
    {
     "data": {
      "text/plain": [
       "Series([], dtype: int64)"
      ]
     },
     "execution_count": 112,
     "metadata": {},
     "output_type": "execute_result"
    }
   ],
   "source": [
    "mask = train_ft.isnull().sum() > 0\n",
    "train_ft.isnull().sum()[mask]"
   ]
  },
  {
   "cell_type": "code",
   "execution_count": 113,
   "metadata": {
    "colab": {
     "base_uri": "https://localhost:8080/",
     "height": 115
    },
    "executionInfo": {
     "elapsed": 17,
     "status": "ok",
     "timestamp": 1730269756796,
     "user": {
      "displayName": "koeyhi",
      "userId": "08049178071858703986"
     },
     "user_tz": -540
    },
    "id": "51Fu8zq9Q6Q8",
    "outputId": "c3f9b1c2-3af9-4c3f-b7c7-40f1549f3cfa"
   },
   "outputs": [
    {
     "data": {
      "text/plain": [
       "Series([], dtype: int64)"
      ]
     },
     "execution_count": 113,
     "metadata": {},
     "output_type": "execute_result"
    }
   ],
   "source": [
    "mask = test_ft.isnull().sum() > 0\n",
    "test_ft.isnull().sum()[mask]"
   ]
  },
  {
   "cell_type": "markdown",
   "metadata": {
    "id": "fgPa4QG0RF2d"
   },
   "source": [
    "# 특성 공학(Feature Engineering)"
   ]
  },
  {
   "cell_type": "markdown",
   "metadata": {
    "id": "OXuo6unbRLGm"
   },
   "source": [
    "- ID 변수 제외"
   ]
  },
  {
   "cell_type": "code",
   "execution_count": 114,
   "metadata": {
    "colab": {
     "base_uri": "https://localhost:8080/"
    },
    "executionInfo": {
     "elapsed": 17,
     "status": "ok",
     "timestamp": 1730269756797,
     "user": {
      "displayName": "koeyhi",
      "userId": "08049178071858703986"
     },
     "user_tz": -540
    },
    "id": "xfksFVguRFuZ",
    "outputId": "39f354f5-84bc-4b11-db93-0973c2627455"
   },
   "outputs": [
    {
     "data": {
      "text/plain": [
       "((14940, 2330), (12225, 2330))"
      ]
     },
     "execution_count": 114,
     "metadata": {},
     "output_type": "execute_result"
    }
   ],
   "source": [
    "train_ft = train_ft.iloc[:,1:]\n",
    "test_ft = test_ft.iloc[:,1:]\n",
    "train_ft.shape, test_ft.shape"
   ]
  },
  {
   "cell_type": "markdown",
   "metadata": {
    "id": "jjuSj8URRa_q"
   },
   "source": [
    "- 추가 피처 만들어 보기"
   ]
  },
  {
   "cell_type": "code",
   "execution_count": 115,
   "metadata": {},
   "outputs": [
    {
     "data": {
      "text/plain": [
       "((14940, 2333), (12225, 2333))"
      ]
     },
     "execution_count": 115,
     "metadata": {},
     "output_type": "execute_result"
    }
   ],
   "source": [
    "cols = [ col for col in train_ft.columns if col.startswith(\"pivot_지점코드_\") ]\n",
    "\n",
    "train_ft[\"지점코드별_구매횟수_std\"] = train_ft[cols].std(axis=1)\n",
    "train_ft[\"지점코드별_구매횟수_skew\"] = train_ft[cols].skew(axis=1)\n",
    "train_ft[\"지점코드별_구매횟수_kurt\"] = train_ft[cols].kurt(axis=1)\n",
    "\n",
    "test_ft[\"지점코드별_구매횟수_std\"] = test_ft[cols].std(axis=1)\n",
    "test_ft[\"지점코드별_구매횟수_skew\"] = test_ft[cols].skew(axis=1)\n",
    "test_ft[\"지점코드별_구매횟수_kurt\"] = test_ft[cols].kurt(axis=1)\n",
    "\n",
    "train_ft.shape, test_ft.shape"
   ]
  },
  {
   "cell_type": "code",
   "execution_count": 116,
   "metadata": {
    "colab": {
     "base_uri": "https://localhost:8080/"
    },
    "executionInfo": {
     "elapsed": 713,
     "status": "ok",
     "timestamp": 1730269757495,
     "user": {
      "displayName": "koeyhi",
      "userId": "08049178071858703986"
     },
     "user_tz": -540
    },
    "id": "EQaqdQSARFr4",
    "outputId": "3ed4d721-1bb8-4e8c-bfab-60c4c0a204d6"
   },
   "outputs": [
    {
     "data": {
      "text/plain": [
       "((14940, 2336), (12225, 2336))"
      ]
     },
     "execution_count": 116,
     "metadata": {},
     "output_type": "execute_result"
    }
   ],
   "source": [
    "cols = [ col for col in train_ft.columns if col.startswith(\"pivot_중분류_\") ]  #중분류는 그대로쓰고, 다른건 차원축소하지많고,,, \n",
    "\n",
    "train_ft[\"중분류별_구매횟수_std\"] = train_ft[cols].std(axis=1)\n",
    "train_ft[\"중분류별_구매횟수_skew\"] = train_ft[cols].skew(axis=1)\n",
    "train_ft[\"중분류별_구매횟수_kurt\"] = train_ft[cols].kurt(axis=1)\n",
    "\n",
    "test_ft[\"중분류별_구매횟수_std\"] = test_ft[cols].std(axis=1)\n",
    "test_ft[\"중분류별_구매횟수_skew\"] = test_ft[cols].skew(axis=1)\n",
    "test_ft[\"중분류별_구매횟수_kurt\"] = test_ft[cols].kurt(axis=1)\n",
    "\n",
    "train_ft.shape, test_ft.shape"
   ]
  },
  {
   "cell_type": "code",
   "execution_count": 117,
   "metadata": {},
   "outputs": [
    {
     "data": {
      "text/plain": [
       "((14940, 2339), (12225, 2339))"
      ]
     },
     "execution_count": 117,
     "metadata": {},
     "output_type": "execute_result"
    }
   ],
   "source": [
    "cols = [ col for col in train_ft.columns if col.startswith(\"pivot_대분류_\") ]\n",
    "\n",
    "train_ft[\"대분류별_구매횟수_std\"] = train_ft[cols].std(axis=1)\n",
    "train_ft[\"대분류별_구매횟수_skew\"] = train_ft[cols].skew(axis=1)\n",
    "train_ft[\"대분류별_구매횟수_kurt\"] = train_ft[cols].kurt(axis=1)\n",
    "\n",
    "test_ft[\"대분류별_구매횟수_std\"] = test_ft[cols].std(axis=1)\n",
    "test_ft[\"대분류별_구매횟수_skew\"] = test_ft[cols].skew(axis=1)\n",
    "test_ft[\"대분류별_구매횟수_kurt\"] = test_ft[cols].kurt(axis=1)\n",
    "\n",
    "train_ft.shape, test_ft.shape"
   ]
  },
  {
   "cell_type": "code",
   "execution_count": 118,
   "metadata": {},
   "outputs": [
    {
     "data": {
      "text/plain": [
       "((14940, 2342), (12225, 2342))"
      ]
     },
     "execution_count": 118,
     "metadata": {},
     "output_type": "execute_result"
    }
   ],
   "source": [
    "cols = [ col for col in train_ft.columns if col.startswith(\"pivot_브랜드코드_\") ] #써야하면 차원축소를 할것(버리던가,, 차원축소해서 옆으로붙이기) \n",
    "\n",
    "train_ft[\"브랜드코드별_구매횟수_std\"] = train_ft[cols].std(axis=1)\n",
    "train_ft[\"브랜드코드별_구매횟수_skew\"] = train_ft[cols].skew(axis=1)\n",
    "train_ft[\"브랜드코드별_구매횟수_kurt\"] = train_ft[cols].kurt(axis=1)\n",
    "\n",
    "test_ft[\"브랜드코드별_구매횟수_std\"] = test_ft[cols].std(axis=1)\n",
    "test_ft[\"브랜드코드별_구매횟수_skew\"] = test_ft[cols].skew(axis=1)\n",
    "test_ft[\"브랜드코드별_구매횟수_kurt\"] = test_ft[cols].kurt(axis=1)\n",
    "\n",
    "train_ft.shape, test_ft.shape"
   ]
  },
  {
   "cell_type": "code",
   "execution_count": 119,
   "metadata": {},
   "outputs": [
    {
     "data": {
      "text/plain": [
       "((14940, 2345), (12225, 2345))"
      ]
     },
     "execution_count": 119,
     "metadata": {},
     "output_type": "execute_result"
    }
   ],
   "source": [
    "cols = [ col for col in train_ft.columns if col.endswith(\"요일_구매비율\") ]\n",
    "\n",
    "train_ft[\"요일별_구매비율_std\"] = train_ft[cols].std(axis=1)\n",
    "train_ft[\"요일별_구매비율_skew\"] = train_ft[cols].skew(axis=1)\n",
    "train_ft[\"요일별_구매비율_kurt\"] = train_ft[cols].kurt(axis=1)\n",
    "\n",
    "test_ft[\"요일별_구매비율_std\"] = test_ft[cols].std(axis=1)\n",
    "test_ft[\"요일별_구매비율_skew\"] = test_ft[cols].skew(axis=1)\n",
    "test_ft[\"요일별_구매비율_kurt\"] = test_ft[cols].kurt(axis=1)\n",
    "\n",
    "train_ft.shape, test_ft.shape"
   ]
  },
  {
   "cell_type": "code",
   "execution_count": 120,
   "metadata": {},
   "outputs": [
    {
     "data": {
      "text/plain": [
       "((14940, 2348), (12225, 2348))"
      ]
     },
     "execution_count": 120,
     "metadata": {},
     "output_type": "execute_result"
    }
   ],
   "source": [
    "cols = [ col for col in train_ft.columns if col.endswith(\"월_구매비율\") ]\n",
    "\n",
    "train_ft[\"월별_구매비율_std\"] = train_ft[cols].std(axis=1)\n",
    "train_ft[\"월별_구매비율_skew\"] = train_ft[cols].skew(axis=1)\n",
    "train_ft[\"월별_구매비율_kurt\"] = train_ft[cols].kurt(axis=1)\n",
    "\n",
    "test_ft[\"월별_구매비율_std\"] = test_ft[cols].std(axis=1)\n",
    "test_ft[\"월별_구매비율_skew\"] = test_ft[cols].skew(axis=1)\n",
    "test_ft[\"월별_구매비율_kurt\"] = test_ft[cols].kurt(axis=1)\n",
    "\n",
    "train_ft.shape, test_ft.shape"
   ]
  },
  {
   "cell_type": "code",
   "execution_count": 121,
   "metadata": {},
   "outputs": [
    {
     "data": {
      "text/plain": [
       "((14940, 2351), (12225, 2351))"
      ]
     },
     "execution_count": 121,
     "metadata": {},
     "output_type": "execute_result"
    }
   ],
   "source": [
    "cols = [\"봄_구매비율\",\"여름_구매비율\",\"가을_구매비율\",\"겨울_구매비율\"]\n",
    "\n",
    "train_ft[\"계절별_구매비율_std\"] = train_ft[cols].std(axis=1)\n",
    "train_ft[\"계절별_구매비율_skew\"] = train_ft[cols].skew(axis=1)\n",
    "train_ft[\"계절별_구매비율_kurt\"] = train_ft[cols].kurt(axis=1)\n",
    "\n",
    "test_ft[\"계절별_구매비율_std\"] = test_ft[cols].std(axis=1)\n",
    "test_ft[\"계절별_구매비율_skew\"] = test_ft[cols].skew(axis=1)\n",
    "test_ft[\"계절별_구매비율_kurt\"] = test_ft[cols].kurt(axis=1)\n",
    "\n",
    "train_ft.shape, test_ft.shape"
   ]
  },
  {
   "cell_type": "code",
   "execution_count": 122,
   "metadata": {},
   "outputs": [
    {
     "data": {
      "text/plain": [
       "((14940, 2354), (12225, 2354))"
      ]
     },
     "execution_count": 122,
     "metadata": {},
     "output_type": "execute_result"
    }
   ],
   "source": [
    "cols = [ col for col in train_ft.columns if col.endswith(\"분기_구매비율\") ]\n",
    "\n",
    "train_ft[\"분기별_구매비율_std\"] = train_ft[cols].std(axis=1)\n",
    "train_ft[\"분기별_구매비율_skew\"] = train_ft[cols].skew(axis=1)\n",
    "train_ft[\"분기별_구매비율_kurt\"] = train_ft[cols].kurt(axis=1)\n",
    "\n",
    "test_ft[\"분기별_구매비율_std\"] = test_ft[cols].std(axis=1)\n",
    "test_ft[\"분기별_구매비율_skew\"] = test_ft[cols].skew(axis=1)\n",
    "test_ft[\"분기별_구매비율_kurt\"] = test_ft[cols].kurt(axis=1)\n",
    "\n",
    "train_ft.shape, test_ft.shape"
   ]
  },
  {
   "cell_type": "code",
   "execution_count": 123,
   "metadata": {},
   "outputs": [
    {
     "data": {
      "text/plain": [
       "((14940, 2355), (12225, 2355))"
      ]
     },
     "execution_count": 123,
     "metadata": {},
     "output_type": "execute_result"
    }
   ],
   "source": [
    "cols = [ col for col in train_ft.columns if col.endswith(\"년_구매비율\") ]\n",
    "\n",
    "train_ft[\"년도별_구매비율_std\"] = train_ft[cols].std(axis=1)\n",
    "test_ft[\"년도별_구매비율_std\"] = test_ft[cols].std(axis=1)\n",
    "\n",
    "train_ft.shape, test_ft.shape"
   ]
  },
  {
   "cell_type": "code",
   "execution_count": 124,
   "metadata": {},
   "outputs": [
    {
     "data": {
      "text/plain": [
       "((14940, 2355), (12225, 2355))"
      ]
     },
     "execution_count": 124,
     "metadata": {},
     "output_type": "execute_result"
    }
   ],
   "source": [
    "cols = [\"봄_구매비율\",\"여름_구매비율\",\"가을_구매비율\",\"겨울_구매비율\"]\n",
    "\n",
    "train_ft[\"계절별_구매비율_std\"] = train_ft[cols].std(axis=1)\n",
    "train_ft[\"계절별_구매비율_skew\"] = train_ft[cols].skew(axis=1)\n",
    "train_ft[\"계절별_구매비율_kurt\"] = train_ft[cols].kurt(axis=1)\n",
    "\n",
    "test_ft[\"계절별_구매비율_std\"] = test_ft[cols].std(axis=1)\n",
    "test_ft[\"계절별_구매비율_skew\"] = test_ft[cols].skew(axis=1)\n",
    "test_ft[\"계절별_구매비율_kurt\"] = test_ft[cols].kurt(axis=1)\n",
    "\n",
    "train_ft.shape, test_ft.shape"
   ]
  },
  {
   "cell_type": "code",
   "execution_count": 125,
   "metadata": {},
   "outputs": [
    {
     "data": {
      "text/plain": [
       "((14940, 2356), (12225, 2356))"
      ]
     },
     "execution_count": 125,
     "metadata": {},
     "output_type": "execute_result"
    }
   ],
   "source": [
    "cols = [ col for col in train_ft.columns if col.startswith(\"18시\") ]\n",
    "\n",
    "train_ft[\"18시기준_구매비율_std\"] = train_ft[cols].std(axis=1)\n",
    "\n",
    "test_ft[\"18시기준_구매비율_std\"] = test_ft[cols].std(axis=1)\n",
    "\n",
    "train_ft.shape, test_ft.shape"
   ]
  },
  {
   "cell_type": "code",
   "execution_count": 126,
   "metadata": {},
   "outputs": [
    {
     "data": {
      "text/plain": [
       "((14940, 2357), (12225, 2357))"
      ]
     },
     "execution_count": 126,
     "metadata": {},
     "output_type": "execute_result"
    }
   ],
   "source": [
    "# 주말에 중분류_아동용품_구매하는 비율(가족단위의 아이들용품 구매가 많지 않으까?)\n",
    "\n",
    "train_ft[\"주말_중_아동용품_구매비율\"] = train_ft[\"주말_구매비율\"] * train_ft[\"주구매_중분류_아동용품\"]\n",
    "\n",
    "test_ft[\"주말_중_아동용품_구매비율\"] = test_ft[\"주말_구매비율\"] * test_ft[\"주구매_중분류_아동용품\"]\n",
    "\n",
    "train_ft.shape, test_ft.shape"
   ]
  },
  {
   "cell_type": "code",
   "execution_count": 127,
   "metadata": {},
   "outputs": [
    {
     "data": {
      "text/plain": [
       "((14940, 2358), (12225, 2358))"
      ]
     },
     "execution_count": 127,
     "metadata": {},
     "output_type": "execute_result"
    }
   ],
   "source": [
    "# 주말에 중분류_아동용품_구매하는 비율(가족단위의 아이들용품 구매가 많지 않으까?)\n",
    "\n",
    "train_ft[\"주말_대_아동용품_구매비율\"] = train_ft[\"주말_구매비율\"] * train_ft[\"주구매_대분류_아동용품\"]\n",
    "\n",
    "test_ft[\"주말_대_아동용품_구매비율\"] = test_ft[\"주말_구매비율\"] * test_ft[\"주구매_대분류_아동용품\"]\n",
    "\n",
    "train_ft.shape, test_ft.shape"
   ]
  },
  {
   "cell_type": "code",
   "execution_count": 128,
   "metadata": {},
   "outputs": [
    {
     "data": {
      "text/plain": [
       "((14940, 2359), (12225, 2359))"
      ]
     },
     "execution_count": 128,
     "metadata": {},
     "output_type": "execute_result"
    }
   ],
   "source": [
    "# 18시이전이면서 주말에_중분류_아동용품_구매하는 비율\n",
    "train_ft[\"18시이후_주말_중_아동용품_구매비율\"] = train_ft[\"18시이후_구매비율\"] * train_ft[\"주말_중_아동용품_구매비율\"]\n",
    "test_ft[\"18시이후_주말_중_아동용품_구매비율\"] = test_ft[\"18시이후_구매비율\"] * test_ft[\"주말_중_아동용품_구매비율\"]\n",
    "\n",
    "train_ft.shape, test_ft.shape"
   ]
  },
  {
   "cell_type": "code",
   "execution_count": 129,
   "metadata": {},
   "outputs": [
    {
     "data": {
      "text/html": [
       "<div>\n",
       "<style scoped>\n",
       "    .dataframe tbody tr th:only-of-type {\n",
       "        vertical-align: middle;\n",
       "    }\n",
       "\n",
       "    .dataframe tbody tr th {\n",
       "        vertical-align: top;\n",
       "    }\n",
       "\n",
       "    .dataframe thead th {\n",
       "        text-align: right;\n",
       "    }\n",
       "</style>\n",
       "<table border=\"1\" class=\"dataframe\">\n",
       "  <thead>\n",
       "    <tr style=\"text-align: right;\">\n",
       "      <th></th>\n",
       "      <th>총방문일수</th>\n",
       "      <th>첫구매날짜</th>\n",
       "      <th>마지막구매날짜</th>\n",
       "      <th>백화점이용기간</th>\n",
       "      <th>구매주기</th>\n",
       "      <th>주말방문일수</th>\n",
       "      <th>일별평균구매건수</th>\n",
       "      <th>구매간격_표준편차</th>\n",
       "      <th>평균구매요일</th>\n",
       "      <th>주구매요일</th>\n",
       "      <th>...</th>\n",
       "      <th>계절별_구매비율_skew</th>\n",
       "      <th>계절별_구매비율_kurt</th>\n",
       "      <th>분기별_구매비율_std</th>\n",
       "      <th>분기별_구매비율_skew</th>\n",
       "      <th>분기별_구매비율_kurt</th>\n",
       "      <th>년도별_구매비율_std</th>\n",
       "      <th>18시기준_구매비율_std</th>\n",
       "      <th>주말_중_아동용품_구매비율</th>\n",
       "      <th>주말_대_아동용품_구매비율</th>\n",
       "      <th>18시이후_주말_중_아동용품_구매비율</th>\n",
       "    </tr>\n",
       "  </thead>\n",
       "  <tbody>\n",
       "    <tr>\n",
       "      <th>0</th>\n",
       "      <td>9</td>\n",
       "      <td>2004-05-07</td>\n",
       "      <td>2005-01-16</td>\n",
       "      <td>255</td>\n",
       "      <td>28</td>\n",
       "      <td>2</td>\n",
       "      <td>1.555556</td>\n",
       "      <td>22.744789</td>\n",
       "      <td>3.000000</td>\n",
       "      <td>2</td>\n",
       "      <td>...</td>\n",
       "      <td>-1.539601</td>\n",
       "      <td>2.888889</td>\n",
       "      <td>0.148690</td>\n",
       "      <td>0.000000</td>\n",
       "      <td>0.390533</td>\n",
       "      <td>0.606092</td>\n",
       "      <td>0.202031</td>\n",
       "      <td>0.030612</td>\n",
       "      <td>0.030612</td>\n",
       "      <td>0.010933</td>\n",
       "    </tr>\n",
       "    <tr>\n",
       "      <th>1</th>\n",
       "      <td>21</td>\n",
       "      <td>2004-05-11</td>\n",
       "      <td>2005-04-27</td>\n",
       "      <td>352</td>\n",
       "      <td>16</td>\n",
       "      <td>1</td>\n",
       "      <td>2.000000</td>\n",
       "      <td>11.739134</td>\n",
       "      <td>2.309524</td>\n",
       "      <td>3</td>\n",
       "      <td>...</td>\n",
       "      <td>-0.123691</td>\n",
       "      <td>-5.290173</td>\n",
       "      <td>0.090141</td>\n",
       "      <td>1.658524</td>\n",
       "      <td>2.615468</td>\n",
       "      <td>0.370389</td>\n",
       "      <td>0.269374</td>\n",
       "      <td>0.000000</td>\n",
       "      <td>0.000567</td>\n",
       "      <td>0.000000</td>\n",
       "    </tr>\n",
       "    <tr>\n",
       "      <th>2</th>\n",
       "      <td>55</td>\n",
       "      <td>2004-05-06</td>\n",
       "      <td>2005-04-26</td>\n",
       "      <td>356</td>\n",
       "      <td>6</td>\n",
       "      <td>11</td>\n",
       "      <td>1.854545</td>\n",
       "      <td>5.019987</td>\n",
       "      <td>2.333333</td>\n",
       "      <td>0</td>\n",
       "      <td>...</td>\n",
       "      <td>1.295669</td>\n",
       "      <td>2.179478</td>\n",
       "      <td>0.127702</td>\n",
       "      <td>0.238913</td>\n",
       "      <td>-4.582219</td>\n",
       "      <td>0.013865</td>\n",
       "      <td>0.499134</td>\n",
       "      <td>0.000000</td>\n",
       "      <td>0.032295</td>\n",
       "      <td>0.000000</td>\n",
       "    </tr>\n",
       "    <tr>\n",
       "      <th>3</th>\n",
       "      <td>90</td>\n",
       "      <td>2004-05-11</td>\n",
       "      <td>2005-04-20</td>\n",
       "      <td>345</td>\n",
       "      <td>3</td>\n",
       "      <td>19</td>\n",
       "      <td>2.055556</td>\n",
       "      <td>3.137146</td>\n",
       "      <td>3.081081</td>\n",
       "      <td>4</td>\n",
       "      <td>...</td>\n",
       "      <td>1.902132</td>\n",
       "      <td>3.642104</td>\n",
       "      <td>0.073505</td>\n",
       "      <td>0.281261</td>\n",
       "      <td>-0.460929</td>\n",
       "      <td>0.080266</td>\n",
       "      <td>0.393686</td>\n",
       "      <td>0.002893</td>\n",
       "      <td>0.051103</td>\n",
       "      <td>0.000641</td>\n",
       "    </tr>\n",
       "    <tr>\n",
       "      <th>4</th>\n",
       "      <td>24</td>\n",
       "      <td>2004-05-09</td>\n",
       "      <td>2005-03-17</td>\n",
       "      <td>313</td>\n",
       "      <td>13</td>\n",
       "      <td>6</td>\n",
       "      <td>1.500000</td>\n",
       "      <td>11.962731</td>\n",
       "      <td>3.861111</td>\n",
       "      <td>4</td>\n",
       "      <td>...</td>\n",
       "      <td>0.729678</td>\n",
       "      <td>-1.947285</td>\n",
       "      <td>0.188398</td>\n",
       "      <td>1.794946</td>\n",
       "      <td>3.390359</td>\n",
       "      <td>0.471405</td>\n",
       "      <td>0.353553</td>\n",
       "      <td>0.010031</td>\n",
       "      <td>0.040123</td>\n",
       "      <td>0.002508</td>\n",
       "    </tr>\n",
       "  </tbody>\n",
       "</table>\n",
       "<p>5 rows × 2359 columns</p>\n",
       "</div>"
      ],
      "text/plain": [
       "   총방문일수       첫구매날짜     마지막구매날짜  백화점이용기간  구매주기  주말방문일수  일별평균구매건수  구매간격_표준편차  \\\n",
       "0      9  2004-05-07  2005-01-16      255    28       2  1.555556  22.744789   \n",
       "1     21  2004-05-11  2005-04-27      352    16       1  2.000000  11.739134   \n",
       "2     55  2004-05-06  2005-04-26      356     6      11  1.854545   5.019987   \n",
       "3     90  2004-05-11  2005-04-20      345     3      19  2.055556   3.137146   \n",
       "4     24  2004-05-09  2005-03-17      313    13       6  1.500000  11.962731   \n",
       "\n",
       "     평균구매요일  주구매요일  ...  계절별_구매비율_skew  계절별_구매비율_kurt  분기별_구매비율_std  \\\n",
       "0  3.000000      2  ...      -1.539601       2.888889      0.148690   \n",
       "1  2.309524      3  ...      -0.123691      -5.290173      0.090141   \n",
       "2  2.333333      0  ...       1.295669       2.179478      0.127702   \n",
       "3  3.081081      4  ...       1.902132       3.642104      0.073505   \n",
       "4  3.861111      4  ...       0.729678      -1.947285      0.188398   \n",
       "\n",
       "   분기별_구매비율_skew  분기별_구매비율_kurt  년도별_구매비율_std  18시기준_구매비율_std  주말_중_아동용품_구매비율  \\\n",
       "0       0.000000       0.390533      0.606092        0.202031        0.030612   \n",
       "1       1.658524       2.615468      0.370389        0.269374        0.000000   \n",
       "2       0.238913      -4.582219      0.013865        0.499134        0.000000   \n",
       "3       0.281261      -0.460929      0.080266        0.393686        0.002893   \n",
       "4       1.794946       3.390359      0.471405        0.353553        0.010031   \n",
       "\n",
       "   주말_대_아동용품_구매비율  18시이후_주말_중_아동용품_구매비율  \n",
       "0        0.030612              0.010933  \n",
       "1        0.000567              0.000000  \n",
       "2        0.032295              0.000000  \n",
       "3        0.051103              0.000641  \n",
       "4        0.040123              0.002508  \n",
       "\n",
       "[5 rows x 2359 columns]"
      ]
     },
     "execution_count": 129,
     "metadata": {},
     "output_type": "execute_result"
    }
   ],
   "source": [
    "train_ft.head()"
   ]
  },
  {
   "cell_type": "code",
   "execution_count": null,
   "metadata": {},
   "outputs": [],
   "source": []
  },
  {
   "cell_type": "code",
   "execution_count": 130,
   "metadata": {},
   "outputs": [
    {
     "data": {
      "text/plain": [
       "Series([], dtype: int64)"
      ]
     },
     "execution_count": 130,
     "metadata": {},
     "output_type": "execute_result"
    }
   ],
   "source": [
    "mask = train_ft.isnull().sum() > 0\n",
    "train_ft.isnull().sum()[mask]"
   ]
  },
  {
   "cell_type": "code",
   "execution_count": 131,
   "metadata": {},
   "outputs": [],
   "source": [
    "#다이아몬드 혹은 플래티넘 등급의 아동용품 구매비율? ->의미가 없을것같긴한데,,, \n",
    "\n",
    "\n"
   ]
  },
  {
   "cell_type": "markdown",
   "metadata": {
    "id": "gXvdNLMtSVlW"
   },
   "source": [
    "## Feature Encoding"
   ]
  },
  {
   "cell_type": "code",
   "execution_count": 132,
   "metadata": {},
   "outputs": [
    {
     "data": {
      "text/plain": [
       "((14940, 2363), (12225, 2363))"
      ]
     },
     "execution_count": 132,
     "metadata": {},
     "output_type": "execute_result"
    }
   ],
   "source": [
    "train_ft[\"첫구매날짜\"] = pd.to_datetime(train_ft[\"첫구매날짜\"])\n",
    "train_ft[\"마지막구매날짜\"] = pd.to_datetime(train_ft[\"마지막구매날짜\"])\n",
    "test_ft[\"첫구매날짜\"] = pd.to_datetime(test_ft[\"첫구매날짜\"])\n",
    "test_ft[\"마지막구매날짜\"] = pd.to_datetime(test_ft[\"마지막구매날짜\"])\n",
    "\n",
    "train_ft[\"첫구매년도\"] = train_ft[\"첫구매날짜\"].dt.year\n",
    "train_ft[\"첫구매월\"] = train_ft[\"첫구매날짜\"].dt.month\n",
    "train_ft[\"마지막구매년도\"] = train_ft[\"마지막구매날짜\"].dt.year\n",
    "train_ft[\"마지막구매월\"] = train_ft[\"마지막구매날짜\"].dt.month\n",
    "\n",
    "test_ft[\"첫구매년도\"] = test_ft[\"첫구매날짜\"].dt.year\n",
    "test_ft[\"첫구매월\"] = test_ft[\"첫구매날짜\"].dt.month\n",
    "test_ft[\"마지막구매년도\"] = test_ft[\"마지막구매날짜\"].dt.year\n",
    "test_ft[\"마지막구매월\"] = test_ft[\"마지막구매날짜\"].dt.month\n",
    "\n",
    "train_ft.shape, test_ft.shape"
   ]
  },
  {
   "cell_type": "markdown",
   "metadata": {},
   "source": [
    "- 범주형 피처\n",
    "    - 주구매지점, 주구매_중분류, 주구매_대분류, 주구매시간대, 선호브랜드코드, 고객등급"
   ]
  },
  {
   "cell_type": "code",
   "execution_count": 133,
   "metadata": {
    "colab": {
     "base_uri": "https://localhost:8080/"
    },
    "executionInfo": {
     "elapsed": 5372,
     "status": "ok",
     "timestamp": 1730269762864,
     "user": {
      "displayName": "koeyhi",
      "userId": "08049178071858703986"
     },
     "user_tz": -540
    },
    "id": "RICJpfu2SRWd",
    "outputId": "771c1229-c8cd-4c73-c977-c1ca65987549"
   },
   "outputs": [],
   "source": [
    "# %pip install category_encoders"
   ]
  },
  {
   "cell_type": "code",
   "execution_count": 134,
   "metadata": {
    "colab": {
     "base_uri": "https://localhost:8080/"
    },
    "executionInfo": {
     "elapsed": 298,
     "status": "ok",
     "timestamp": 1730269770905,
     "user": {
      "displayName": "koeyhi",
      "userId": "08049178071858703986"
     },
     "user_tz": -540
    },
    "id": "3d6B3II8T25p",
    "outputId": "f5d9eb08-ac39-4dd0-cd4e-8eb35ecf752f"
   },
   "outputs": [
    {
     "data": {
      "text/plain": [
       "((14940, 2404), (12225, 2404))"
      ]
     },
     "execution_count": 134,
     "metadata": {},
     "output_type": "execute_result"
    }
   ],
   "source": [
    "import category_encoders as ce\n",
    "from sklearn.preprocessing import OneHotEncoder, OrdinalEncoder\n",
    "\n",
    "oh_enc = OneHotEncoder(handle_unknown=\"ignore\")\n",
    "oh_enc_cols = [\"주구매지점\",\"주구매_대분류\", \"주구매시간대\"]\n",
    "oh_enc_data = pd.concat([train_ft[oh_enc_cols], test_ft[oh_enc_cols]])\n",
    "oh_enc.fit(oh_enc_data)\n",
    "\n",
    "train_ft[oh_enc.get_feature_names_out()] = oh_enc.transform(train_ft[oh_enc_cols]).toarray()\n",
    "test_ft[oh_enc.get_feature_names_out()] = oh_enc.transform(test_ft[oh_enc_cols]).toarray()\n",
    "\n",
    "train_ft.shape, test_ft.shape"
   ]
  },
  {
   "cell_type": "code",
   "execution_count": 135,
   "metadata": {},
   "outputs": [
    {
     "data": {
      "text/plain": [
       "((14940, 2404), (12225, 2404))"
      ]
     },
     "execution_count": 135,
     "metadata": {},
     "output_type": "execute_result"
    }
   ],
   "source": [
    "import category_encoders as ce\n",
    "from sklearn.preprocessing import OneHotEncoder, OrdinalEncoder\n",
    "\n",
    "oh_enc = OneHotEncoder(handle_unknown=\"ignore\")\n",
    "oh_enc_cols = [\"주구매지점\", \"주구매시간대\"]\n",
    "oh_enc_data = pd.concat([train_ft[oh_enc_cols], test_ft[oh_enc_cols]])\n",
    "oh_enc.fit(oh_enc_data)\n",
    "\n",
    "train_ft[oh_enc.get_feature_names_out()] = oh_enc.transform(train_ft[oh_enc_cols]).toarray()\n",
    "test_ft[oh_enc.get_feature_names_out()] = oh_enc.transform(test_ft[oh_enc_cols]).toarray()\n",
    "\n",
    "train_ft.shape, test_ft.shape"
   ]
  },
  {
   "cell_type": "code",
   "execution_count": 136,
   "metadata": {},
   "outputs": [
    {
     "data": {
      "text/plain": [
       "((14940, 2405), (12225, 2405))"
      ]
     },
     "execution_count": 136,
     "metadata": {},
     "output_type": "execute_result"
    }
   ],
   "source": [
    "train_ft['선호브랜드코드'] = train_ft['선호브랜드코드'].astype('category')\n",
    "test_ft['선호브랜드코드'] = test_ft['선호브랜드코드'].astype('category')\n",
    "\n",
    "combined_brands = pd.concat([train_ft['선호브랜드코드'], test_ft['선호브랜드코드']])\n",
    "\n",
    "enc = ce.CountEncoder()\n",
    "train_ft[\"선호브랜드코드_cnt\"] = enc.fit_transform(train_ft[['선호브랜드코드']])\n",
    "test_ft[\"선호브랜드코드_cnt\"] = enc.transform(test_ft[['선호브랜드코드']])\n",
    "\n",
    "train_ft.shape, test_ft.shape"
   ]
  },
  {
   "cell_type": "code",
   "execution_count": 137,
   "metadata": {
    "colab": {
     "base_uri": "https://localhost:8080/"
    },
    "executionInfo": {
     "elapsed": 316,
     "status": "ok",
     "timestamp": 1730269771219,
     "user": {
      "displayName": "koeyhi",
      "userId": "08049178071858703986"
     },
     "user_tz": -540
    },
    "id": "q0ztgmEMRFpN",
    "outputId": "c5eab720-275c-475d-f092-c26f41b71cc5"
   },
   "outputs": [
    {
     "data": {
      "text/plain": [
       "((14940, 2406), (12225, 2406))"
      ]
     },
     "execution_count": 137,
     "metadata": {},
     "output_type": "execute_result"
    }
   ],
   "source": [
    "combined_categories = pd.concat([train_ft['주구매_중분류'], test_ft['주구매_중분류']])\n",
    "\n",
    "enc = ce.count.CountEncoder()\n",
    "train_ft[\"주구매_중분류_cnt\"] = enc.fit_transform(train_ft[[\"주구매_중분류\"]])\n",
    "test_ft[\"주구매_중분류_cnt\"] = enc.transform(test_ft[[\"주구매_중분류\"]])\n",
    "\n",
    "train_ft.shape, test_ft.shape"
   ]
  },
  {
   "cell_type": "code",
   "execution_count": null,
   "metadata": {},
   "outputs": [],
   "source": []
  },
  {
   "cell_type": "code",
   "execution_count": 138,
   "metadata": {},
   "outputs": [
    {
     "name": "stdout",
     "output_type": "stream",
     "text": [
      "공통 변수: {'pivot_브랜드코드_6412', 'pivot_브랜드코드_6538', 'pivot_브랜드코드_5688', '18시이후_주말_중_아동용품_구매비율', 'pivot_브랜드코드_6250', 'pivot_브랜드코드_5676', '주구매시간대_15', 'pivot_브랜드코드_6873', 'pivot_브랜드코드_5997', 'pivot_브랜드코드_6078', 'pivot_브랜드코드_6032', 'pivot_브랜드코드_5547', 'pivot_브랜드코드_6667', 'pivot_브랜드코드_5335', 'pivot_브랜드코드_6533', 'pivot_브랜드코드_5441', 'pivot_브랜드코드_6861', 'pivot_브랜드코드_5534', '주구매_대분류_아동용품', 'pivot_브랜드코드_5289', 'pivot_브랜드코드_6691', 'pivot_브랜드코드_6042', 'pivot_브랜드코드_6162', 'pivot_브랜드코드_6478', 'pivot_중분류_오디오', 'pivot_브랜드코드_5320', 'pivot_브랜드코드_5992', 'pivot_중분류_국내화장품', 'pivot_브랜드코드_5517', 'pivot_브랜드코드_6920', '주구매_대분류_생식품파트', 'pivot_브랜드코드_6148', 'pivot_브랜드코드_6006', 'pivot_브랜드코드_6907', 'pivot_브랜드코드_5868', 'pivot_브랜드코드_6652', 'pivot_대분류_아동_스포츠', 'pivot_브랜드코드_6585', 'pivot_중분류_하이캐쥬얼', 'pivot_브랜드코드_6723', 'pivot_브랜드코드_6850', 'pivot_브랜드코드_5871', 'pivot_브랜드코드_5431', 'pivot_브랜드코드_5833', 'pivot_브랜드코드_6329', 'pivot_중분류_TV.VTR', 'pivot_브랜드코드_6488', 'pivot_브랜드코드_6388', 'pivot_브랜드코드_5244', 'pivot_브랜드코드_5848', 'pivot_브랜드코드_5791', '3월_sum', 'pivot_브랜드코드_6485', 'pivot_브랜드코드_6010', '주구매_중분류_사치품', 'pivot_브랜드코드_6291', 'pivot_브랜드코드_5640', 'pivot_브랜드코드_5879', 'pivot_브랜드코드_6420', '주구매_대분류_로얄부띠끄', 'pivot_브랜드코드_6707', 'pivot_브랜드코드_6339', 'pivot_브랜드코드_6974', 'pivot_브랜드코드_6315', 'pivot_브랜드코드_6489', 'pivot_중분류_수예침장', 'pivot_브랜드코드_6622', 'pivot_브랜드코드_6455', 'pivot_브랜드코드_6555', 'pivot_브랜드코드_5773', 'pivot_브랜드코드_6765', 'pivot_브랜드코드_5268', 'pivot_브랜드코드_5176', '방문일수_대비_구매건수', 'pivot_브랜드코드_6821', 'pivot_중분류_L_B침구', 'pivot_브랜드코드_5145', 'pivot_중분류_썬그라스', 'pivot_브랜드코드_6366', 'pivot_브랜드코드_5496', 'pivot_브랜드코드_6528', 'pivot_브랜드코드_6529', 'pivot_중분류_준보석', 'pivot_브랜드코드_6234', '주구매지점_이용비율', 'pivot_브랜드코드_6112', 'pivot_브랜드코드_5422', 'pivot_중분류_완구', 'pivot_브랜드코드_5668', 'pivot_브랜드코드_6045', 'pivot_대분류_아동', 'pivot_브랜드코드_5882', 'pivot_중분류_잡화', 'pivot_브랜드코드_6684', 'pivot_브랜드코드_6016', 'pivot_브랜드코드_6762', 'pivot_중분류_차류', 'pivot_브랜드코드_5446', 'pivot_브랜드코드_5164', 'pivot_브랜드코드_6264', 'pivot_브랜드코드_5853', 'pivot_브랜드코드_6263', 'pivot_브랜드코드_5559', 'pivot_브랜드코드_5829', '주구매_중분류_cnt', 'pivot_브랜드코드_5985', 'pivot_중분류_아동', 'pivot_브랜드코드_6775', 'pivot_브랜드코드_5866', 'pivot_브랜드코드_6426', 'pivot_브랜드코드_6231', 'pivot_브랜드코드_5618', 'pivot_브랜드코드_5594', 'pivot_브랜드코드_6818', 'pivot_브랜드코드_6940', 'pivot_브랜드코드_5232', 'pivot_중분류_슈즈', 'pivot_중분류_핸드백임대', 'pivot_브랜드코드_5360', 'pivot_브랜드코드_6842', 'pivot_브랜드코드_6747', 'pivot_브랜드코드_5374', 'pivot_브랜드코드_5999', 'pivot_브랜드코드_5492', 'pivot_브랜드코드_5736', 'pivot_브랜드코드_5732', 'pivot_브랜드코드_5435', 'pivot_브랜드코드_6193', 'pivot_브랜드코드_5331', 'pivot_중분류_단품_행사(캐릭터)', 'pivot_브랜드코드_6398', 'pivot_브랜드코드_5737', 'pivot_중분류_곡물', 'pivot_브랜드코드_6511', 'pivot_브랜드코드_6500', 'pivot_브랜드코드_6262', 'pivot_중분류_진캐주얼', 'pivot_브랜드코드_6700', 'pivot_브랜드코드_6079', 'pivot_브랜드코드_5726', '계절별_구매비율_kurt', 'pivot_브랜드코드_6190', 'pivot_브랜드코드_6546', 'pivot_브랜드코드_5890', '수요일_구매비율', 'pivot_중분류_국내종합화장품', 'pivot_브랜드코드_6744', 'pivot_브랜드코드_6020', 'pivot_브랜드코드_6301', 'pivot_브랜드코드_5901', 'pivot_브랜드코드_6686', 'pivot_중분류_레코드(문화)', 'pivot_브랜드코드_6802', 'pivot_중분류_트래디셔널', 'pivot_중분류_임대구두', 'pivot_브랜드코드_6267', 'pivot_브랜드코드_6008', 'pivot_중분류_원목(주니어)', 'pivot_브랜드코드_6238', 'pivot_브랜드코드_5126', 'pivot_브랜드코드_6169', 'pivot_브랜드코드_6261', 'pivot_브랜드코드_6733', '최대환불금액', 'pivot_브랜드코드_6634', 'pivot_브랜드코드_6606', 'pivot_브랜드코드_6701', 'pivot_브랜드코드_5748', 'pivot_브랜드코드_5253', 'pivot_브랜드코드_5893', 'pivot_브랜드코드_6791', 'pivot_브랜드코드_5506', 'pivot_브랜드코드_6981', 'pivot_브랜드코드_5526', 'pivot_브랜드코드_6481', 'pivot_브랜드코드_6559', 'pivot_브랜드코드_6470', '구매주기', '2월_구매비율', 'pivot_중분류_수입향수', 'pivot_브랜드코드_6299', 'pivot_브랜드코드_6083', 'pivot_중분류_선글라스', 'pivot_브랜드코드_5810', 'pivot_브랜드코드_6296', 'pivot_브랜드코드_6253', 'pivot_중분류_캐쥬얼단품', 'pivot_브랜드코드_6277', 'pivot_중분류_임대화장품', 'pivot_브랜드코드_5233', 'pivot_브랜드코드_6630', 'pivot_중분류_핸드백행사', 'pivot_중분류_인텔리젼스', 'pivot_브랜드코드_5725', '선호브랜드코드_구매비율', 'pivot_브랜드코드_5104', 'pivot_브랜드코드_6432', 'pivot_중분류_캐릭터캐주얼', 'pivot_브랜드코드_5790', 'pivot_브랜드코드_6059', 'pivot_브랜드코드_5959', 'pivot_브랜드코드_5615', 'pivot_브랜드코드_6279', 'pivot_브랜드코드_6932', 'pivot_브랜드코드_6322', 'pivot_브랜드코드_6340', 'pivot_브랜드코드_5694', 'pivot_브랜드코드_6157', 'pivot_브랜드코드_5849', 'pivot_브랜드코드_5326', 'pivot_브랜드코드_5419', 'pivot_브랜드코드_6431', 'pivot_브랜드코드_5281', 'pivot_브랜드코드_5132', '마지막구매년도', '월별_구매비율_kurt', 'pivot_브랜드코드_6697', 'pivot_대분류_여성정장', 'pivot_브랜드코드_5150', 'pivot_브랜드코드_5118', 'pivot_브랜드코드_5973', '선호브랜드코드', 'pivot_브랜드코드_6839', 'pivot_브랜드코드_6017', 'pivot_브랜드코드_6323', 'pivot_브랜드코드_6334', 'pivot_브랜드코드_5170', 'Saturday_sum', 'pivot_브랜드코드_6080', '주구매_대분류_잡화파트', 'pivot_브랜드코드_6768', 'pivot_브랜드코드_6897', 'pivot_브랜드코드_6281', 'pivot_브랜드코드_5718', '방문지점수', 'pivot_중분류_양말', 'pivot_브랜드코드_5113', 'pivot_브랜드코드_5485', 'pivot_브랜드코드_5919', 'pivot_브랜드코드_5842', 'pivot_브랜드코드_5196', 'pivot_브랜드코드_6510', 'pivot_브랜드코드_5867', 'pivot_브랜드코드_5504', 'pivot_브랜드코드_6568', 'pivot_중분류_수입', 'pivot_브랜드코드_6985', 'pivot_브랜드코드_5158', 'pivot_브랜드코드_6590', '분기별_구매비율_std', 'pivot_브랜드코드_6570', '주구매_대분류_여성캐쥬얼', 'pivot_브랜드코드_6925', 'pivot_브랜드코드_6004', 'pivot_브랜드코드_6125', 'pivot_브랜드코드_6318', 'pivot_브랜드코드_6087', 'pivot_브랜드코드_6736', 'pivot_브랜드코드_6242', 'pivot_브랜드코드_6785', 'pivot_브랜드코드_5646', 'pivot_브랜드코드_5362', 'pivot_브랜드코드_6393', 'pivot_브랜드코드_5604', 'pivot_중분류_수예_인테리어소품', 'pivot_브랜드코드_6142', 'pivot_중분류_훼미닌부틱', 'pivot_대분류_영캐릭터', 'pivot_브랜드코드_6473', 'pivot_중분류_유니섹스캐주얼', 'pivot_브랜드코드_6070', 'pivot_중분류_아웃도어', '10월_구매비율', 'pivot_브랜드코드_5788', 'pivot_브랜드코드_6508', 'pivot_브랜드코드_5508', 'pivot_브랜드코드_6007', 'pivot_중분류_엘레강스', 'pivot_브랜드코드_6922', 'pivot_브랜드코드_5575', 'pivot_브랜드코드_5112', 'pivot_브랜드코드_6274', '고가제품환불비율', 'pivot_브랜드코드_6778', 'pivot_브랜드코드_5377', 'pivot_브랜드코드_5462', 'pivot_브랜드코드_6247', 'pivot_브랜드코드_6246', 'pivot_브랜드코드_5343', '구매금액_kurtosis', 'pivot_중분류_장식액자', 'pivot_브랜드코드_5595', 'pivot_브랜드코드_5756', 'pivot_브랜드코드_6845', 'pivot_중분류_정장', 'pivot_브랜드코드_5225', 'pivot_브랜드코드_6688', 'pivot_브랜드코드_5165', 'pivot_브랜드코드_5497', 'pivot_브랜드코드_5921', 'pivot_중분류_캐릭터', '구매금액_skew', 'pivot_브랜드코드_5699', 'pivot_브랜드코드_5478', 'pivot_브랜드코드_6544', 'pivot_브랜드코드_6958', 'pivot_브랜드코드_5749', 'pivot_브랜드코드_6409', 'pivot_브랜드코드_5570', 'pivot_브랜드코드_6439', '구매횟수_상반기', 'pivot_브랜드코드_6649', 'pivot_중분류_스키', 'pivot_브랜드코드_6640', 'pivot_브랜드코드_5798', '중분류별_구매횟수_skew', 'pivot_브랜드코드_5195', '주구매_대분류_공산품파트', 'pivot_브랜드코드_6919', 'pivot_중분류_수입캐주얼', 'pivot_브랜드코드_5555', 'pivot_브랜드코드_5809', 'pivot_브랜드코드_5652', 'pivot_브랜드코드_6224', 'pivot_브랜드코드_5565', 'pivot_브랜드코드_5633', 'pivot_브랜드코드_5797', 'pivot_브랜드코드_6414', 'pivot_브랜드코드_6554', 'pivot_브랜드코드_6447', 'pivot_브랜드코드_5784', 'pivot_브랜드코드_6198', 'pivot_브랜드코드_6228', 'pivot_브랜드코드_6411', 'pivot_브랜드코드_6040', '전체_중간기_구매비율', 'pivot_중분류_냉장고.세탁기', '환불금액_skew', 'pivot_브랜드코드_6164', 'pivot_브랜드코드_5573', 'pivot_브랜드코드_5762', 'pivot_브랜드코드_5897', 'pivot_브랜드코드_6212', 'pivot_브랜드코드_6300', 'pivot_브랜드코드_5375', 'pivot_브랜드코드_5562', 'pivot_브랜드코드_6419', 'pivot_중분류_단품_행사2', 'pivot_브랜드코드_5542', 'pivot_브랜드코드_5417', 'pivot_브랜드코드_5569', 'pivot_브랜드코드_6437', 'pivot_브랜드코드_6754', 'pivot_브랜드코드_5826', 'pivot_브랜드코드_6204', 'pivot_브랜드코드_5602', 'pivot_브랜드코드_6888', 'pivot_브랜드코드_5479', 'pivot_브랜드코드_5348', '구매간격_최소값_y', 'pivot_브랜드코드_6988', 'pivot_브랜드코드_6143', 'pivot_중분류_영캐주얼', 'pivot_브랜드코드_6563', 'pivot_중분류_용품', 'pivot_브랜드코드_6548', 'pivot_브랜드코드_5105', 'pivot_브랜드코드_6356', 'pivot_브랜드코드_5290', 'pivot_브랜드코드_6361', 'pivot_대분류_여성캐주얼', 'pivot_브랜드코드_6109', 'pivot_브랜드코드_5583', 'pivot_중분류_행사구두(5F)', 'pivot_브랜드코드_5590', 'pivot_브랜드코드_5208', 'pivot_브랜드코드_6583', 'pivot_브랜드코드_6776', 'pivot_브랜드코드_6389', 'pivot_브랜드코드_6969', 'pivot_브랜드코드_5824', 'pivot_브랜드코드_6390', 'pivot_브랜드코드_5858', 'pivot_브랜드코드_5740', 'pivot_브랜드코드_5430', 'pivot_중분류_종합_수입', '분기별_구매비율_skew', 'pivot_중분류_인스턴트식품', 'pivot_브랜드코드_5914', 'pivot_브랜드코드_6749', 'pivot_브랜드코드_5293', 'pivot_브랜드코드_6039', 'pivot_중분류_피혁소품행사', 'pivot_중분류_냉장고_세탁기', 'pivot_중분류_토탈부틱', 'pivot_브랜드코드_6494', 'pivot_브랜드코드_6735', 'pivot_중분류_유아복', 'pivot_브랜드코드_5423', '지점코드별_구매횟수_kurt', '주구매_중분류', 'pivot_브랜드코드_5122', '월말구매비율', 'pivot_중분류_인텔리젼스캐주얼', 'pivot_브랜드코드_6101', 'pivot_브랜드코드_6572', 'pivot_브랜드코드_6303', '대분류별_구매횟수_skew', 'pivot_브랜드코드_5518', 'pivot_브랜드코드_6252', 'pivot_브랜드코드_6173', 'pivot_브랜드코드_5177', 'pivot_중분류_미시케쥬얼', 'pivot_브랜드코드_5269', 'pivot_브랜드코드_6696', 'pivot_중분류_골프웨어', 'pivot_브랜드코드_6368', 'pivot_브랜드코드_5964', 'pivot_브랜드코드_5752', 'pivot_브랜드코드_6953', 'pivot_브랜드코드_6929', 'pivot_브랜드코드_5179', 'pivot_브랜드코드_6144', 'pivot_브랜드코드_6214', 'pivot_브랜드코드_6107', 'pivot_브랜드코드_5928', 'pivot_브랜드코드_6206', 'pivot_브랜드코드_6182', 'pivot_브랜드코드_6525', 'pivot_중분류_드레스구두', 'pivot_브랜드코드_5386', 'pivot_브랜드코드_6665', '저가제품_구매비율', 'pivot_브랜드코드_5425', 'pivot_중분류_스카프', 'pivot_중분류_수입종합화장품', '9월_구매비율', '구매간격_최소값_x', 'pivot_브랜드코드_5257', '7월_구매비율', 'pivot_브랜드코드_6346', 'pivot_브랜드코드_6863', '주말_중_아동용품_구매비율', 'pivot_중분류_상품군미지정', '여름끝추석전_구매비율', 'pivot_브랜드코드_5155', 'pivot_브랜드코드_5247', 'pivot_브랜드코드_5682', 'pivot_브랜드코드_6865', 'pivot_브랜드코드_5872', 'pivot_브랜드코드_6603', 'pivot_브랜드코드_5210', 'pivot_브랜드코드_6883', 'pivot_대분류_영라이브', 'pivot_브랜드코드_5286', 'pivot_중분류_가전특정', 'pivot_브랜드코드_6378', 'pivot_브랜드코드_5119', 'pivot_브랜드코드_5237', 'pivot_브랜드코드_5254', 'pivot_브랜드코드_6124', 'pivot_브랜드코드_6637', 'pivot_브랜드코드_6556', 'pivot_브랜드코드_6240', 'pivot_브랜드코드_6902', 'pivot_브랜드코드_5832', 'pivot_브랜드코드_5806', 'pivot_브랜드코드_6304', 'pivot_브랜드코드_6086', 'pivot_브랜드코드_5700', 'pivot_브랜드코드_6292', 'pivot_중분류_수예행사', 'pivot_브랜드코드_6260', 'pivot_브랜드코드_5160', 'pivot_브랜드코드_5750', 'pivot_브랜드코드_5217', 'pivot_중분류_단품행사', 'pivot_브랜드코드_5649', 'pivot_브랜드코드_6715', 'pivot_브랜드코드_5323', 'pivot_중분류_팬시코너(문화)', '주말_18시이후_구매비율', '주구매_중분류_중장년타겟제품', 'pivot_대분류_로얄부틱', 'pivot_브랜드코드_5481', 'pivot_브랜드코드_5956', 'pivot_브랜드코드_5795', 'pivot_브랜드코드_5319', 'pivot_브랜드코드_5854', 'pivot_브랜드코드_6146', 'pivot_브랜드코드_5597', '2월_sum', 'pivot_브랜드코드_5109', 'pivot_브랜드코드_5250', 'pivot_브랜드코드_6789', '마지막구매후_경과일_y', 'pivot_브랜드코드_6857', 'pivot_브랜드코드_5270', '주구매_대분류_영캐릭터', 'pivot_브랜드코드_6199', 'pivot_브랜드코드_5857', 'pivot_브랜드코드_5653', 'pivot_브랜드코드_5274', 'pivot_브랜드코드_5663', 'pivot_브랜드코드_6587', 'pivot_중분류_소형가구(가구)', 'pivot_중분류_수입구두', 'pivot_브랜드코드_6033', 'pivot_브랜드코드_5203', '여름_구매비율', 'pivot_브랜드코드_6945', 'pivot_브랜드코드_5224', 'pivot_브랜드코드_6625', 'pivot_브랜드코드_5465', 'pivot_브랜드코드_6310', 'pivot_브랜드코드_5131', 'pivot_브랜드코드_5214', 'pivot_브랜드코드_5302', 'pivot_브랜드코드_5957', 'pivot_브랜드코드_5220', 'pivot_브랜드코드_6506', 'pivot_브랜드코드_5701', 'pivot_브랜드코드_6527', 'pivot_브랜드코드_5332', 'pivot_브랜드코드_6365', 'pivot_브랜드코드_6120', '요일별_구매비율_std', 'pivot_브랜드코드_5186', 'pivot_브랜드코드_6203', 'pivot_브랜드코드_6044', 'pivot_브랜드코드_6223', 'pivot_브랜드코드_5546', 'pivot_대분류_생식품', 'pivot_브랜드코드_6000', 'pivot_브랜드코드_6058', 'pivot_중분류_가방', 'pivot_중분류_트렌드캐주얼', 'pivot_브랜드코드_5213', 'pivot_브랜드코드_5368', 'pivot_브랜드코드_6381', 'pivot_브랜드코드_6158', 'pivot_브랜드코드_5599', '중분류_nunique', '브랜드코드별_구매횟수_std', 'pivot_브랜드코드_5759', 'pivot_브랜드코드_5724', 'pivot_브랜드코드_5467', '구매금액_대비_환불금액', 'pivot_브랜드코드_6892', 'pivot_중분류_카세트_전화기', 'pivot_브랜드코드_6275', '구매금액표준편차', 'pivot_브랜드코드_5125', 'pivot_브랜드코드_5410', 'pivot_브랜드코드_5665', 'pivot_브랜드코드_6641', 'pivot_브랜드코드_6243', 'pivot_브랜드코드_6890', 'pivot_중분류_면류', 'pivot_브랜드코드_6610', 'pivot_브랜드코드_6567', 'pivot_브랜드코드_6717', 'pivot_브랜드코드_5960', '5월_sum', 'pivot_브랜드코드_6773', 'pivot_브랜드코드_6347', 'pivot_브랜드코드_5672', 'pivot_브랜드코드_6632', 'pivot_브랜드코드_5741', 'pivot_브랜드코드_6987', 'pivot_브랜드코드_5267', 'pivot_브랜드코드_5770', 'pivot_브랜드코드_6254', 'pivot_브랜드코드_5690', 'pivot_브랜드코드_6595', 'pivot_브랜드코드_5744', '주구매지점_A373000', 'pivot_중분류_특정', 'pivot_브랜드코드_6205', 'pivot_브랜드코드_6453', 'pivot_브랜드코드_6258', 'pivot_브랜드코드_6651', 'pivot_브랜드코드_6620', 'pivot_브랜드코드_6963', '18시이전_구매비율', 'pivot_브랜드코드_5115', 'pivot_브랜드코드_6273', 'pivot_브랜드코드_6100', 'pivot_브랜드코드_6290', 'pivot_중분류_건강식품', 'pivot_브랜드코드_6646', 'pivot_브랜드코드_6382', 'pivot_브랜드코드_6706', 'pivot_브랜드코드_5487', 'pivot_브랜드코드_6118', 'pivot_브랜드코드_5509', 'pivot_브랜드코드_5235', 'pivot_중분류_침구', 'pivot_브랜드코드_6062', '주구매_대분류_아동', 'pivot_브랜드코드_5271', 'pivot_브랜드코드_5643', 'pivot_브랜드코드_5944', 'pivot_브랜드코드_5571', 'pivot_브랜드코드_5981', 'pivot_브랜드코드_6057', 'pivot_브랜드코드_6122', 'pivot_중분류_로얄부틱2F', 'pivot_브랜드코드_5656', 'pivot_브랜드코드_6493', 'pivot_브랜드코드_6387', 'pivot_브랜드코드_6308', 'pivot_브랜드코드_6348', 'pivot_브랜드코드_6497', 'pivot_브랜드코드_6475', 'pivot_브랜드코드_6833', 'pivot_중분류_레포츠단품', 'pivot_브랜드코드_6353', 'pivot_브랜드코드_6001', 'pivot_중분류_남성구두', 'pivot_브랜드코드_5143', 'pivot_브랜드코드_5720', 'pivot_브랜드코드_5146', 'pivot_브랜드코드_5947', 'pivot_브랜드코드_5454', '금요일_구매비율', 'pivot_중분류_초도자기', 'pivot_브랜드코드_6596', 'pivot_브랜드코드_6550', 'pivot_브랜드코드_5837', 'pivot_브랜드코드_6452', 'pivot_브랜드코드_5877', 'pivot_브랜드코드_6077', 'pivot_중분류_팬시', 'pivot_중분류_건어물', 'pivot_브랜드코드_5629', 'pivot_브랜드코드_6201', '2004년_구매비율', 'pivot_브랜드코드_6075', 'pivot_브랜드코드_5936', 'pivot_브랜드코드_6677', 'pivot_브랜드코드_6766', 'pivot_브랜드코드_6089', 'pivot_브랜드코드_6180', 'pivot_브랜드코드_5180', 'pivot_브랜드코드_6418', 'pivot_중분류_골프(NB)', 'pivot_중분류_행사', 'pivot_브랜드코드_5447', 'pivot_브랜드코드_5679', 'pivot_브랜드코드_6123', 'pivot_브랜드코드_6540', 'pivot_브랜드코드_5935', 'pivot_브랜드코드_6858', 'pivot_브랜드코드_6499', 'pivot_브랜드코드_5628', 'pivot_브랜드코드_6770', 'pivot_브랜드코드_6803', 'pivot_브랜드코드_6565', 'pivot_브랜드코드_5978', 'pivot_중분류_디자이너숍', 'pivot_브랜드코드_5696', '계절별_구매비율_std', 'pivot_브랜드코드_5466', 'pivot_브랜드코드_6822', 'pivot_브랜드코드_6536', '주구매_대분류_여성정장', 'pivot_브랜드코드_5687', 'pivot_브랜드코드_6498', '주구매시간대_20', 'pivot_브랜드코드_5922', 'pivot_중분류_남성잡화', 'pivot_브랜드코드_5489', 'pivot_브랜드코드_6795', 'pivot_브랜드코드_6171', 'pivot_브랜드코드_5777', 'pivot_브랜드코드_6244', '토요일_구매비율', '환불건수_대비_구매건수', '총방문일수', 'pivot_브랜드코드_5405', '거래개월수', 'pivot_브랜드코드_5733', '주구매_대분류_아동_스포츠', 'pivot_중분류_여성구두', 'pivot_브랜드코드_5404', '구매건수', 'pivot_브랜드코드_6935', 'pivot_브랜드코드_6995', 'pivot_중분류_장신구', 'pivot_브랜드코드_6841', '최소구매금액', 'Sunday_sum', 'pivot_브랜드코드_5202', '주구매요일', 'pivot_브랜드코드_6185', 'pivot_브랜드코드_5138', 'pivot_브랜드코드_5545', 'pivot_중분류_피혁토탈(B2)', 'pivot_중분류_타운웨어', 'pivot_브랜드코드_6330', 'pivot_브랜드코드_6809', 'pivot_브랜드코드_6108', 'pivot_브랜드코드_5661', 'pivot_브랜드코드_6623', 'pivot_브랜드코드_6837', 'pivot_브랜드코드_6417', 'pivot_브랜드코드_5200', 'pivot_브랜드코드_6740', 'pivot_브랜드코드_6820', 'pivot_중분류_문화', 'pivot_브랜드코드_5398', 'pivot_중분류_패스트푸드', 'pivot_중분류_일반ACC', 'pivot_브랜드코드_6914', 'pivot_브랜드코드_5707', '9월_sum', 'pivot_브랜드코드_5337', 'pivot_브랜드코드_5382', 'pivot_브랜드코드_6320', 'pivot_브랜드코드_5915', 'pivot_브랜드코드_5357', 'pivot_브랜드코드_6722', 'pivot_브랜드코드_5461', 'pivot_브랜드코드_5920', 'pivot_브랜드코드_5686', 'pivot_브랜드코드_6505', 'pivot_브랜드코드_5437', '구매간격_표준편차', 'pivot_브랜드코드_5308', 'pivot_브랜드코드_6294', 'pivot_브랜드코드_6607', '새벽구매비율', 'pivot_브랜드코드_6438', 'pivot_브랜드코드_5463', 'pivot_브랜드코드_5948', 'pivot_브랜드코드_6759', 'pivot_중분류_캐릭터슈즈', 'pivot_브랜드코드_6117', 'pivot_브랜드코드_5173', '브랜드코드별_구매횟수_kurt', 'pivot_브랜드코드_5532', 'pivot_브랜드코드_5306', 'pivot_브랜드코드_5114', 'pivot_브랜드코드_5238', 'pivot_브랜드코드_6916', 'pivot_중분류_부띠끄', 'pivot_브랜드코드_6428', 'pivot_브랜드코드_5363', 'pivot_중분류_화장잡화', '브랜드코드_nunique', 'pivot_브랜드코드_5226', 'pivot_브랜드코드_5986', 'pivot_중분류_명품', 'pivot_브랜드코드_5334', 'pivot_브랜드코드_5130', 'pivot_브랜드코드_5310', 'Thursday_sum', 'pivot_브랜드코드_6731', 'pivot_브랜드코드_5880', 'pivot_브랜드코드_5351', 'pivot_브랜드코드_6480', 'pivot_브랜드코드_5721', 'pivot_브랜드코드_5474', 'pivot_브랜드코드_6896', 'pivot_브랜드코드_6400', 'pivot_브랜드코드_6479', 'pivot_브랜드코드_6650', 'pivot_대분류_가정용품', 'pivot_브랜드코드_5511', 'pivot_브랜드코드_6617', 'pivot_브랜드코드_6933', 'pivot_중분류_전화기', 'pivot_브랜드코드_5207', 'pivot_브랜드코드_5728', 'pivot_브랜드코드_6128', 'pivot_브랜드코드_6941', 'pivot_브랜드코드_5785', 'pivot_브랜드코드_6444', 'pivot_브랜드코드_6053', 'pivot_중분류_문구', 'pivot_브랜드코드_6012', 'pivot_브랜드코드_6177', 'pivot_브랜드코드_5757', 'pivot_브랜드코드_6354', 'pivot_브랜드코드_6968', 'pivot_브랜드코드_5129', 'pivot_중분류_생선', 'pivot_브랜드코드_5958', 'pivot_브랜드코드_6233', 'pivot_브랜드코드_6321', 'pivot_브랜드코드_6777', '주말_방문_선호도', 'pivot_브랜드코드_5710', 'pivot_브랜드코드_6867', '평일_18시이후_구매비율', 'pivot_브랜드코드_6835', 'pivot_브랜드코드_5543', '점심_구매비율', 'pivot_브랜드코드_5667', 'pivot_브랜드코드_5789', 'pivot_브랜드코드_6187', 'pivot_브랜드코드_6441', 'pivot_브랜드코드_5420', '주구매_대분류', 'pivot_브랜드코드_5982', 'pivot_브랜드코드_6983', 'pivot_브랜드코드_6517', 'pivot_브랜드코드_6757', 'pivot_브랜드코드_5876', 'pivot_브랜드코드_5344', 'pivot_브랜드코드_5763', '고객등급', 'pivot_브랜드코드_5144', 'pivot_브랜드코드_6147', 'pivot_브랜드코드_5218', 'pivot_중분류_트레디셔널캐주얼', 'pivot_브랜드코드_5787', 'pivot_브랜드코드_5603', 'pivot_브랜드코드_6797', 'pivot_브랜드코드_5275', 'pivot_브랜드코드_5349', 'pivot_브랜드코드_5520', 'pivot_중분류_과자류', 'pivot_중분류_취사소형', 'pivot_브랜드코드_6741', 'pivot_브랜드코드_5505', 'pivot_브랜드코드_5495', 'pivot_브랜드코드_6874', 'pivot_브랜드코드_5414', 'pivot_브랜드코드_5907', 'pivot_브랜드코드_6970', '주구매시간대_9', 'pivot_브랜드코드_6136', 'pivot_중분류_캐리어캐쥬얼', '계절별_구매비율_skew', 'pivot_브랜드코드_5239', 'pivot_브랜드코드_5560', 'pivot_중분류_청과', 'pivot_브랜드코드_5480', 'pivot_브랜드코드_5764', 'pivot_브랜드코드_6604', 'pivot_중분류_피혁B행사', 'pivot_브랜드코드_5333', 'pivot_브랜드코드_5684', 'pivot_브랜드코드_6096', '주구매지점_A112000', 'pivot_브랜드코드_6763', '구매주기_대비_구매금액', 'pivot_중분류_침대', 'pivot_브랜드코드_6676', 'pivot_브랜드코드_5366', 'pivot_브랜드코드_5746', 'pivot_브랜드코드_5408', 'pivot_브랜드코드_6487', 'pivot_브랜드코드_6710', '주구매_대분류_남성의류', 'pivot_브랜드코드_6288', 'pivot_브랜드코드_6750', 'pivot_브랜드코드_5453', 'pivot_중분류_패션악세사리', 'pivot_중분류_영트랜드', 'pivot_중분류_조명', 'pivot_브랜드코드_6341', 'pivot_브랜드코드_6799', 'pivot_중분류_단품(트래디셔널)', 'pivot_브랜드코드_5589', 'pivot_브랜드코드_6416', 'pivot_브랜드코드_5991', 'pivot_브랜드코드_6295', 'pivot_브랜드코드_6823', 'pivot_브랜드코드_5669', 'pivot_브랜드코드_5266', 'pivot_브랜드코드_5775', 'pivot_브랜드코드_6491', 'pivot_브랜드코드_6054', 'pivot_브랜드코드_6027', 'pivot_브랜드코드_5154', 'pivot_중분류_영트랜디', 'pivot_브랜드코드_5137', 'pivot_브랜드코드_6150', '브랜드코드별_구매횟수_skew', 'pivot_중분류_정육', 'pivot_브랜드코드_6502', 'pivot_브랜드코드_5304', 'pivot_브랜드코드_6852', 'pivot_브랜드코드_6948', 'pivot_브랜드코드_5638', 'pivot_브랜드코드_6755', '선호브랜드코드_cnt', 'pivot_브랜드코드_6313', 'pivot_브랜드코드_5537', 'pivot_브랜드코드_6924', 'pivot_브랜드코드_5926', 'pivot_브랜드코드_5429', 'pivot_브랜드코드_5577', 'pivot_중분류_단품', 'pivot_브랜드코드_5147', 'pivot_브랜드코드_5612', 'pivot_브랜드코드_6026', 'pivot_브랜드코드_5295', 'pivot_브랜드코드_6509', 'pivot_브랜드코드_5370', 'pivot_브랜드코드_6468', 'pivot_브랜드코드_5448', 'pivot_브랜드코드_5262', 'pivot_중분류_컴퓨터', 'Tuesday_sum', 'pivot_중분류_골프(단품)', 'pivot_브랜드코드_6421', 'pivot_브랜드코드_5605', 'pivot_브랜드코드_5475', 'pivot_브랜드코드_6286', '환불후재구매브랜드_count', 'pivot_브랜드코드_6879', 'pivot_브랜드코드_5567', 'pivot_브랜드코드_5451', 'pivot_브랜드코드_5523', 'pivot_브랜드코드_5157', 'pivot_중분류_구두행사', 'pivot_대분류_공산품파트', 'pivot_브랜드코드_6689', 'pivot_브랜드코드_6592', 'pivot_브랜드코드_5634', 'pivot_브랜드코드_5802', 'pivot_브랜드코드_6786', 'pivot_브랜드코드_6551', 'pivot_중분류_마담SIZE', 'pivot_브랜드코드_6429', '주구매_대분류_스포츠', 'pivot_브랜드코드_6095', 'pivot_브랜드코드_6209', 'pivot_브랜드코드_6564', 'pivot_브랜드코드_5814', 'pivot_브랜드코드_5909', 'pivot_브랜드코드_6836', 'pivot_브랜드코드_6237', 'pivot_중분류_일반식품명품', 'pivot_브랜드코드_6133', 'pivot_브랜드코드_6496', '추석성수기_구매비율', 'pivot_브랜드코드_5168', 'pivot_브랜드코드_5328', 'pivot_중분류_욕실용품', 'pivot_브랜드코드_6951', 'pivot_중분류_디자이너', 'pivot_브랜드코드_6152', 'pivot_브랜드코드_6130', 'pivot_브랜드코드_5942', 'pivot_브랜드코드_5172', 'pivot_브랜드코드_5925', 'pivot_브랜드코드_6971', 'pivot_브랜드코드_5367', 'pivot_중분류_수입악세사리', 'pivot_브랜드코드_6028', '평일_구매비율', 'pivot_브랜드코드_5541', 'pivot_브랜드코드_5578', 'pivot_브랜드코드_6711', 'pivot_브랜드코드_6566', '중분류별_구매횟수_std', 'pivot_브랜드코드_5610', 'pivot_브랜드코드_5651', 'pivot_브랜드코드_6249', 'pivot_브랜드코드_5101', 'pivot_브랜드코드_6093', 'pivot_브랜드코드_5536', 'pivot_브랜드코드_6213', 'pivot_브랜드코드_6507', 'pivot_브랜드코드_6245', 'pivot_브랜드코드_5892', 'pivot_브랜드코드_5965', 'pivot_중분류_디자이너캐릭터', '환불금액표준편차', 'pivot_브랜드코드_6106', 'pivot_브랜드코드_5124', 'pivot_브랜드코드_6512', 'pivot_중분류_구두수선', 'pivot_브랜드코드_6829', 'pivot_브랜드코드_6324', 'pivot_중분류_패션시계', 'pivot_브랜드코드_5444', 'pivot_브랜드코드_5990', 'pivot_브랜드코드_5859', 'pivot_중분류_란제리', 'pivot_브랜드코드_6472', 'pivot_브랜드코드_6967', 'pivot_브랜드코드_5873', 'pivot_브랜드코드_6293', 'pivot_브랜드코드_6384', 'pivot_브랜드코드_6653', 'pivot_브랜드코드_5648', '마지막구매월', 'pivot_브랜드코드_5373', 'pivot_브랜드코드_5133', '초여름_구매비율', 'pivot_브랜드코드_6976', 'pivot_브랜드코드_6954', 'pivot_중분류_트.단품', 'pivot_브랜드코드_6716', 'pivot_중분류_장신구행사업체', 'pivot_브랜드코드_6333', '주구매지점_A202000', 'pivot_브랜드코드_5702', 'pivot_브랜드코드_5803', 'pivot_브랜드코드_6934', 'pivot_브랜드코드_5898', 'pivot_브랜드코드_5865', '구매횟수_하반기', 'pivot_브랜드코드_5967', 'pivot_브랜드코드_6812', 'pivot_브랜드코드_6215', 'pivot_브랜드코드_6702', 'pivot_브랜드코드_6051', 'pivot_브랜드코드_6371', 'pivot_브랜드코드_5738', 'pivot_브랜드코드_6980', 'pivot_브랜드코드_5624', 'pivot_브랜드코드_5292', 'pivot_브랜드코드_5342', 'pivot_브랜드코드_6022', 'pivot_중분류_부띠끄행사', '주구매_중분류_악세서리', 'pivot_브랜드코드_6648', 'pivot_브랜드코드_6815', 'pivot_중분류_우산장갑', 'pivot_브랜드코드_6849', 'pivot_브랜드코드_6402', 'pivot_브랜드코드_5198', 'pivot_브랜드코드_5531', '주구매_대분류_로얄부틱', 'pivot_브랜드코드_6113', 'pivot_브랜드코드_5409', 'pivot_브랜드코드_5407', '추석후연말전_구매비율', 'pivot_브랜드코드_6131', 'pivot_브랜드코드_6172', '일별평균구매건수', 'pivot_브랜드코드_6015', 'pivot_브랜드코드_6023', 'pivot_중분류_행사슈즈', 'pivot_지점코드_A202000', 'pivot_브랜드코드_6280', 'pivot_브랜드코드_6403', 'pivot_브랜드코드_5753', 'pivot_브랜드코드_5535', 'pivot_브랜드코드_5305', 'pivot_브랜드코드_5106', 'pivot_브랜드코드_5309', 'pivot_브랜드코드_5384', 'pivot_중분류_영창(문화)', 'pivot_브랜드코드_5614', 'pivot_브랜드코드_5783', 'pivot_브랜드코드_6297', 'pivot_브랜드코드_6090', 'pivot_브랜드코드_6391', '주구매시간대_19', 'pivot_브랜드코드_6588', 'pivot_중분류_인스탄트식품', 'pivot_브랜드코드_5477', 'pivot_브랜드코드_5152', 'pivot_브랜드코드_5433', 'pivot_브랜드코드_6724', '고가제품_구매비율', 'pivot_브랜드코드_5673', 'pivot_중분류_골프(수입)', 'pivot_브랜드코드_5514', 'pivot_중분류_야채', 'pivot_브랜드코드_5934', 'pivot_브랜드코드_5539', 'pivot_브랜드코드_5980', '평균구매시간', 'pivot_브랜드코드_5697', 'pivot_브랜드코드_5291', 'pivot_브랜드코드_6476', '대분류별_구매횟수_kurt', 'pivot_중분류_GBR지원', 'pivot_브랜드코드_5617', 'pivot_브랜드코드_5303', 'pivot_브랜드코드_6628', 'pivot_브랜드코드_5808', 'pivot_중분류_내셔널', 'pivot_브랜드코드_6465', 'pivot_브랜드코드_5284', 'pivot_중분류_피혁A행사', 'pivot_브랜드코드_5515', 'pivot_브랜드코드_5703', 'pivot_브랜드코드_6229', '백화점이용기간', '구매간격_중앙값_y', 'pivot_중분류_모자', 'pivot_브랜드코드_6011', 'pivot_브랜드코드_5977', 'pivot_브랜드코드_5819', 'pivot_브랜드코드_6137', 'pivot_브랜드코드_5662', 'pivot_브랜드코드_5406', 'pivot_브랜드코드_6081', 'pivot_브랜드코드_6913', 'pivot_브랜드코드_6165', 'pivot_브랜드코드_6847', 'pivot_브랜드코드_5327', 'pivot_중분류_보석', 'pivot_중분류_토탈', 'pivot_브랜드코드_5549', 'pivot_브랜드코드_6886', 'pivot_브랜드코드_6788', 'pivot_브랜드코드_5671', 'pivot_브랜드코드_5863', 'pivot_브랜드코드_6342', 'pivot_브랜드코드_6737', 'pivot_브랜드코드_6119', 'pivot_중분류_라이센스', 'pivot_브랜드코드_6373', 'pivot_브랜드코드_6317', 'pivot_브랜드코드_6660', '첫구매년도', 'pivot_브랜드코드_5844', 'pivot_브랜드코드_6338', 'pivot_브랜드코드_6469', 'Wednesday_sum', 'pivot_브랜드코드_6661', 'pivot_브랜드코드_6490', '1분기_구매비율', 'pivot_브랜드코드_6175', 'pivot_브랜드코드_6856', 'pivot_브랜드코드_6427', 'pivot_브랜드코드_6718', 'pivot_브랜드코드_6461', 'pivot_브랜드코드_6680', '주구매시간대_12', 'pivot_브랜드코드_5390', 'pivot_브랜드코드_5450', 'pivot_브랜드코드_5501', 'pivot_중분류_수입액세서리', 'pivot_브랜드코드_5230', 'pivot_브랜드코드_5698', 'pivot_브랜드코드_5355', 'pivot_브랜드코드_5596', 'pivot_중분류_가정잡화', 'pivot_브랜드코드_5413', 'pivot_브랜드코드_6073', 'pivot_브랜드코드_5356', 'pivot_브랜드코드_6639', 'pivot_브랜드코드_5851', 'pivot_브랜드코드_5256', 'pivot_브랜드코드_5528', 'pivot_브랜드코드_5709', 'pivot_브랜드코드_5338', 'pivot_브랜드코드_6364', 'pivot_브랜드코드_5979', 'pivot_브랜드코드_5711', 'pivot_브랜드코드_6041', 'pivot_브랜드코드_6683', 'pivot_브랜드코드_5246', 'pivot_브랜드코드_5579', '주구매_대분류_여성캐주얼', 'pivot_브랜드코드_6547', 'pivot_브랜드코드_6825', 'pivot_브랜드코드_6938', 'pivot_브랜드코드_5822', 'pivot_브랜드코드_6908', 'pivot_브랜드코드_5507', 'pivot_브랜드코드_6767', 'pivot_브랜드코드_6687', 'pivot_브랜드코드_5828', 'pivot_중분류_유아용품', '1월_sum', '구매간격_최대값_y', 'pivot_브랜드코드_5188', 'pivot_브랜드코드_6369', 'pivot_브랜드코드_5294', 'pivot_중분류_주류', 'pivot_브랜드코드_5494', 'pivot_브랜드코드_5894', 'pivot_브랜드코드_6866', 'pivot_브랜드코드_5277', 'pivot_브랜드코드_5731', 'pivot_브랜드코드_5415', 'pivot_브랜드코드_5636', 'pivot_브랜드코드_5491', 'pivot_브랜드코드_6792', 'pivot_브랜드코드_6401', 'pivot_브랜드코드_6975', 'pivot_브랜드코드_6532', 'pivot_브랜드코드_5714', 'pivot_브랜드코드_5488', '주구매시간대_11', 'pivot_브랜드코드_5613', 'pivot_브랜드코드_6624', 'pivot_중분류_머플러', 'pivot_브랜드코드_5767', 'pivot_브랜드코드_5923', '12월_sum', 'pivot_브랜드코드_5187', 'pivot_브랜드코드_5553', 'pivot_브랜드코드_5916', 'pivot_중분류_수영복', 'pivot_브랜드코드_5184', 'pivot_브랜드코드_5582', '마지막구매후_경과일_x', 'pivot_브랜드코드_6752', 'pivot_브랜드코드_5705', 'pivot_중분류_소형전기', 'pivot_브랜드코드_6102', 'pivot_브랜드코드_5823', 'pivot_브랜드코드_5896', 'pivot_대분류_아동문화', 'pivot_브랜드코드_6430', 'pivot_브랜드코드_5609', 'pivot_브랜드코드_6450', 'pivot_중분류_헤어악세사리', 'pivot_브랜드코드_6222', '1월_구매비율', 'pivot_중분류_상품개발지원', 'pivot_브랜드코드_5869', 'pivot_브랜드코드_6571', 'pivot_중분류_통병조림', 'pivot_브랜드코드_5885', '주구매_대분류_영어덜트캐쥬얼', 'pivot_중분류_모피.피혁', 'pivot_브랜드코드_6459', 'pivot_브랜드코드_6014', 'pivot_브랜드코드_5524', 'pivot_중분류_로얄', 'pivot_브랜드코드_5169', 'pivot_브랜드코드_5945', 'pivot_브랜드코드_5838', 'pivot_브랜드코드_5456', 'pivot_브랜드코드_6454', 'pivot_브랜드코드_5719', 'pivot_브랜드코드_6423', 'pivot_브랜드코드_5563', 'pivot_브랜드코드_5458', 'pivot_중분류_TOP디자이너', 'pivot_중분류_스타킹', 'pivot_브랜드코드_5551', 'pivot_브랜드코드_5862', 'pivot_브랜드코드_6415', 'pivot_브랜드코드_5469', 'pivot_브랜드코드_5264', 'pivot_브랜드코드_5989', 'pivot_대분류_영어덜트캐쥬얼', 'pivot_브랜드코드_6097', 'pivot_브랜드코드_5525', 'pivot_브랜드코드_5905', 'pivot_브랜드코드_6990', 'pivot_브랜드코드_5445', 'pivot_브랜드코드_6578', 'pivot_브랜드코드_5321', 'pivot_중분류_NB핸드백', 'pivot_브랜드코드_6813', '18시이후_구매비율', 'pivot_브랜드코드_5834', '야간구매비율', 'pivot_브랜드코드_5182', 'pivot_중분류_가스기기', 'pivot_브랜드코드_6227', 'pivot_브랜드코드_6088', 'pivot_중분류_피혁', 'pivot_대분류_명품잡화', 'pivot_브랜드코드_6168', '월초구매비율', 'pivot_브랜드코드_6853', '18시기준_구매비율_std', 'pivot_브랜드코드_6363', 'pivot_중분류_DC캐주얼', 'pivot_브랜드코드_6443', 'Monday_sum', 'pivot_중분류_정장행사', 'pivot_중분류_수입의류행사', 'pivot_브랜드코드_5166', 'pivot_브랜드코드_5206', 'pivot_브랜드코드_5825', 'pivot_브랜드코드_5282', 'pivot_중분류_어덜트', 'pivot_브랜드코드_6456', 'pivot_브랜드코드_6901', 'pivot_브랜드코드_5623', 'pivot_브랜드코드_5221', 'pivot_브랜드코드_5161', 'pivot_브랜드코드_5464', 'pivot_브랜드코드_6239', 'pivot_브랜드코드_6881', 'pivot_중분류_브랜드침구', '주구매_중분류_영패션', 'pivot_브랜드코드_5116', '주구매_대분류_영라이브', 'pivot_브랜드코드_5259', 'pivot_중분류_식탁_소품', 'pivot_브랜드코드_6501', 'pivot_브랜드코드_6449', 'pivot_브랜드코드_6727', 'pivot_브랜드코드_6956', 'pivot_브랜드코드_5659', 'pivot_브랜드코드_5568', 'pivot_브랜드코드_5831', '화요일_구매비율', 'pivot_중분류_셔츠', 'pivot_중분류_영커리어캐주얼', 'pivot_브랜드코드_6435', '2분기_구매비율', '신학기_구매비율', 'pivot_브랜드코드_6602', 'pivot_중분류_패션란제리', '방문당_평균구매금액', 'pivot_브랜드코드_6399', 'pivot_브랜드코드_5482', 'pivot_브랜드코드_5630', 'pivot_브랜드코드_6350', '목요일_구매비율', 'pivot_브랜드코드_5796', 'pivot_브랜드코드_5483', 'pivot_브랜드코드_5381', '주구매_중분류_화장품', 'pivot_브랜드코드_5804', 'pivot_브랜드코드_6635', '최소환불금액', 'pivot_중분류_골프단품', 'pivot_브랜드코드_5436', 'pivot_브랜드코드_6076', 'pivot_브랜드코드_6917', 'pivot_브랜드코드_5961', 'pivot_브랜드코드_6814', '4분기_구매비율', 'pivot_브랜드코드_6210', 'pivot_브랜드코드_5758', 'pivot_브랜드코드_5135', 'pivot_브랜드코드_5175', '봄철비수기_구매비율', 'pivot_브랜드코드_5836', 'pivot_브랜드코드_5394', 'pivot_브랜드코드_6195', 'pivot_중분류_냉난방', 'pivot_브랜드코드_6394', 'pivot_중분류_의류기타', 'pivot_브랜드코드_6807', '겨울_구매비율', 'pivot_브랜드코드_5341', 'pivot_대분류_잡화', 'pivot_브랜드코드_6013', 'pivot_브랜드코드_6609', 'pivot_중분류_신생아', 'pivot_중분류_골프(용품)', 'pivot_브랜드코드_6241', 'pivot_브랜드코드_6257', 'pivot_브랜드코드_6989', 'pivot_중분류_원목_주니어', 'pivot_브랜드코드_5228', 'pivot_브랜드코드_5913', 'pivot_브랜드코드_5141', 'pivot_브랜드코드_5903', 'pivot_브랜드코드_6074', 'pivot_중분류_마춤', 'pivot_브랜드코드_6964', 'pivot_브랜드코드_6134', 'pivot_중분류_임대골프', 'pivot_브랜드코드_6005', 'pivot_브랜드코드_5878', 'pivot_브랜드코드_5727', 'pivot_브랜드코드_5272', 'pivot_브랜드코드_6636', 'pivot_브랜드코드_6091', 'pivot_브랜드코드_5402', 'pivot_브랜드코드_6576', 'pivot_브랜드코드_5432', 'pivot_중분류_핸드백', 'pivot_브랜드코드_5950', 'pivot_중분류_냉장식품', '중가제품환불비율', 'pivot_브랜드코드_5378', 'pivot_브랜드코드_6936', 'pivot_브랜드코드_5811', 'pivot_브랜드코드_5365', 'pivot_브랜드코드_6055', 'pivot_브랜드코드_6726', 'pivot_브랜드코드_5148', 'pivot_브랜드코드_6756', 'pivot_브랜드코드_6050', 'pivot_브랜드코드_5552', 'pivot_브랜드코드_5771', 'pivot_브랜드코드_5566', 'pivot_중분류_디자이너부띠끄', 'pivot_브랜드코드_5860', '대분류_nunique', 'pivot_중분류_타운', 'pivot_브랜드코드_6878', '설날성수기_구매비율', 'pivot_브랜드코드_5339', 'pivot_브랜드코드_6397', 'pivot_브랜드코드_5209', 'pivot_브랜드코드_5906', 'pivot_중분류_특판', 'pivot_브랜드코드_6029', 'pivot_브랜드코드_6591', 'pivot_대분류_가정용품파트', 'pivot_브랜드코드_5512', 'pivot_브랜드코드_5136', 'pivot_브랜드코드_6265', 'pivot_중분류_전화기_카세트', 'pivot_브랜드코드_5167', 'pivot_브랜드코드_5680', 'pivot_브랜드코드_5540', 'pivot_브랜드코드_6959', 'pivot_중분류_취미소품', '월요일_구매비율', 'pivot_브랜드코드_6377', '주구매_중분류_취미용품', 'pivot_브랜드코드_6372', '주구매시간대_13', 'pivot_브랜드코드_6287', 'pivot_브랜드코드_6810', 'pivot_브랜드코드_6309', 'pivot_브랜드코드_5856', 'pivot_브랜드코드_5939', 'pivot_브랜드코드_6804', 'pivot_중분류_문구_팬시', 'pivot_브랜드코드_6160', 'pivot_중분류_싸롱화', 'pivot_중분류_스포츠용퓸', 'pivot_중분류_라디오.카세트', 'pivot_브랜드코드_5468', 'pivot_브랜드코드_5472', 'pivot_브랜드코드_5766', 'pivot_브랜드코드_5251', 'pivot_브랜드코드_5426', 'pivot_브랜드코드_5586', 'pivot_브랜드코드_5516', '주구매_대분류_골프_유니캐쥬얼', 'pivot_브랜드코드_5359', 'pivot_브랜드코드_6769', '주말_구매비율', '저녁_구매비율', 'pivot_브랜드코드_6422', 'pivot_브랜드코드_6331', '최대구매금액', 'pivot_브랜드코드_5681', 'pivot_브랜드코드_5772', 'pivot_브랜드코드_6328', 'pivot_브랜드코드_5372', 'pivot_브랜드코드_5585', 'pivot_브랜드코드_5387', '주구매_대분류_공산품', 'pivot_중분류_수예', 'pivot_중분류_디자이너니트', 'pivot_브랜드코드_5580', '6월_구매비율', 'pivot_브랜드코드_6947', 'pivot_중분류_미씨캐릭터', 'pivot_브랜드코드_5805', 'pivot_브랜드코드_5576', 'pivot_브랜드코드_6771', '주구매_중분류_가전제품', 'pivot_브랜드코드_6824', 'pivot_브랜드코드_6593', 'pivot_브랜드코드_5886', 'pivot_브랜드코드_5108', 'pivot_중분류_니트', 'pivot_브랜드코드_5622', 'pivot_브랜드코드_6063', 'pivot_브랜드코드_6921', 'pivot_브랜드코드_6289', 'pivot_브랜드코드_6923', 'pivot_브랜드코드_6569', 'pivot_브랜드코드_5820', '주구매시간대_16', 'pivot_브랜드코드_5521', 'pivot_중분류_엘레강스캐주얼', 'pivot_브랜드코드_5121', 'pivot_중분류_내의', 'pivot_브랜드코드_5219', 'pivot_브랜드코드_6644', 'pivot_브랜드코드_6937', 'pivot_브랜드코드_5361', 'pivot_브랜드코드_5647', 'pivot_브랜드코드_6337', 'pivot_브랜드코드_6458', 'pivot_브랜드코드_6196', 'pivot_브랜드코드_5654', 'pivot_브랜드코드_6221', 'pivot_브랜드코드_5799', 'pivot_브랜드코드_5336', 'pivot_브랜드코드_6056', 'pivot_중분류_모피니트', 'pivot_브랜드코드_5664', 'pivot_브랜드코드_5201', '구매간격_평균_y', 'pivot_중분류_TV_VCR', 'pivot_브랜드코드_6413', 'pivot_브랜드코드_5273', 'pivot_브랜드코드_5522', '첫구매월', 'pivot_브랜드코드_6574', 'pivot_브랜드코드_6153', 'pivot_브랜드코드_5236', 'pivot_브랜드코드_5745', 'pivot_중분류_완구(문화)', 'pivot_브랜드코드_5815', 'pivot_브랜드코드_5984', 'pivot_중분류_사무용품', 'pivot_브랜드코드_5931', 'pivot_브랜드코드_5780', 'pivot_브랜드코드_6539', 'pivot_브랜드코드_5476', 'pivot_브랜드코드_5937', 'pivot_중분류_아동복', 'pivot_브랜드코드_5260', 'pivot_브랜드코드_5439', 'pivot_브랜드코드_5658', 'pivot_브랜드코드_6900', '연도별평균구매건수', 'pivot_브랜드코드_5800', 'pivot_브랜드코드_6038', 'pivot_브랜드코드_6069', 'pivot_브랜드코드_6276', 'pivot_브랜드코드_5353', 'pivot_브랜드코드_5812', 'pivot_브랜드코드_6549', 'pivot_중분류_스포츠캐주얼', 'pivot_브랜드코드_5513', '4월_sum', 'pivot_브랜드코드_5650', 'pivot_브랜드코드_6663', 'pivot_브랜드코드_6305', 'pivot_브랜드코드_5388', 'pivot_브랜드코드_6319', 'pivot_브랜드코드_6312', '7월_sum', 'pivot_브랜드코드_5564', 'pivot_브랜드코드_6840', 'pivot_브랜드코드_6675', 'pivot_브랜드코드_5241', 'pivot_브랜드코드_6021', 'pivot_브랜드코드_5358', 'pivot_중분류_아동특선', 'pivot_브랜드코드_6982', 'pivot_브랜드코드_6344', 'pivot_브랜드코드_6167', 'pivot_중분류_행사핸드백', 'pivot_브랜드코드_6325', 'pivot_브랜드코드_6734', 'pivot_브랜드코드_5369', 'Friday_sum', 'pivot_브랜드코드_6085', 'pivot_중분류_유아발육기', 'pivot_브랜드코드_5587', 'pivot_브랜드코드_6484', 'pivot_브랜드코드_5345', 'pivot_브랜드코드_5307', 'pivot_대분류_남성의류', 'pivot_브랜드코드_5723', 'pivot_브랜드코드_6758', 'pivot_중분류_소파', 'pivot_브랜드코드_5875', 'pivot_브랜드코드_5438', '구매간격_최대값_x', 'pivot_브랜드코드_6898', 'pivot_중분류_TV_VTR', 'pivot_브랜드코드_5704', 'pivot_브랜드코드_5243', 'pivot_브랜드코드_5689', 'pivot_브랜드코드_6748', 'pivot_중분류_국내부띠끄', 'pivot_브랜드코드_6965', 'pivot_브랜드코드_6462', '주구매_중분류_아동용품', 'pivot_브랜드코드_6284', 'pivot_브랜드코드_6730', 'pivot_브랜드코드_5675', 'pivot_브랜드코드_6516', 'pivot_브랜드코드_6876', 'pivot_브랜드코드_6197', 'pivot_브랜드코드_6931', 'pivot_브랜드코드_5192', 'pivot_브랜드코드_5389', 'pivot_브랜드코드_5449', 'pivot_브랜드코드_6869', '12월_구매비율', 'pivot_중분류_국산화장품', 'pivot_브랜드코드_5971', 'pivot_브랜드코드_5794', 'pivot_브랜드코드_5110', '10월_sum', 'pivot_브랜드코드_6685', 'pivot_브랜드코드_5280', 'pivot_브랜드코드_5588', 'pivot_중분류_잡화토탈', 'pivot_브랜드코드_6105', 'pivot_중분류_골프용품', 'pivot_브랜드코드_6670', 'pivot_브랜드코드_5739', 'pivot_브랜드코드_6698', 'pivot_브랜드코드_6236', 'pivot_브랜드코드_6669', 'pivot_중분류_칼라드래디셔널', 'pivot_브랜드코드_6584', 'pivot_중분류_수입슈즈', 'pivot_브랜드코드_5174', 'pivot_브랜드코드_5229', 'pivot_브랜드코드_6251', 'pivot_브랜드코드_5761', 'pivot_중분류_화장품', 'pivot_브랜드코드_6562', 'pivot_브랜드코드_6761', 'pivot_브랜드코드_6219', 'pivot_브랜드코드_5249', 'pivot_브랜드코드_6466', 'pivot_브랜드코드_6831', 'pivot_브랜드코드_5216', 'pivot_브랜드코드_6208', 'pivot_중분류_교복행사', 'pivot_브랜드코드_5424', 'pivot_브랜드코드_6386', 'pivot_브랜드코드_5434', 'pivot_브랜드코드_5544', 'pivot_중분류_캐주얼단품', 'pivot_브랜드코드_5778', 'pivot_중분류_NB제화', 'pivot_브랜드코드_6440', 'pivot_브랜드코드_5983', 'pivot_브랜드코드_6843', 'pivot_브랜드코드_5538', 'pivot_브랜드코드_6114', 'pivot_브랜드코드_6513', 'pivot_중분류_카페트', 'pivot_브랜드코드_6893', 'pivot_브랜드코드_5941', 'pivot_브랜드코드_5751', '평균구매요일', 'pivot_브랜드코드_5813', 'pivot_브랜드코드_6380', 'pivot_브랜드코드_5946', 'pivot_브랜드코드_5943', 'pivot_브랜드코드_6127', 'pivot_브랜드코드_5730', 'pivot_브랜드코드_5442', '6월_sum', 'pivot_브랜드코드_5554', 'pivot_브랜드코드_6672', 'pivot_중분류_로얄수입행사', 'pivot_브랜드코드_6407', 'pivot_브랜드코드_6575', 'pivot_브랜드코드_6537', 'pivot_브랜드코드_6099', 'pivot_브랜드코드_6764', 'pivot_중분류_수입명품', 'pivot_브랜드코드_5660', 'pivot_브랜드코드_6151', 'pivot_중분류_문구(문화)', 'pivot_브랜드코드_5639', 'pivot_브랜드코드_6002', 'pivot_브랜드코드_6946', 'pivot_브랜드코드_5142', 'pivot_브랜드코드_6191', 'pivot_중분류_잡화(문화)', 'pivot_브랜드코드_5792', 'pivot_지점코드_A112000', 'pivot_브랜드코드_5821', 'pivot_중분류_쇼파', '평균구매금액', 'pivot_브랜드코드_6326', 'pivot_브랜드코드_5998', 'pivot_브랜드코드_6535', 'pivot_브랜드코드_5619', 'pivot_중분류_주방용품', 'pivot_브랜드코드_6774', 'pivot_브랜드코드_5678', 'pivot_브랜드코드_5818', '주구매지점', '4월_구매비율', 'pivot_브랜드코드_5127', 'pivot_브랜드코드_6003', 'pivot_브랜드코드_5930', 'pivot_브랜드코드_6827', 'pivot_브랜드코드_5364', 'pivot_브랜드코드_6046', 'pivot_중분류_니트웨어', 'pivot_브랜드코드_5533', 'pivot_브랜드코드_5911', 'pivot_브랜드코드_5616', 'pivot_중분류_일반악세사리', 'pivot_브랜드코드_5760', '총구매금액', 'pivot_중분류_카메라', 'pivot_브랜드코드_6522', 'pivot_브랜드코드_6530', 'pivot_브랜드코드_6862', 'pivot_브랜드코드_5918', 'pivot_브랜드코드_5298', 'pivot_브랜드코드_6864', 'pivot_대분류_골프_유니캐쥬얼', 'pivot_중분류_구두임대', 'pivot_브랜드코드_5840', 'pivot_브랜드코드_6467', 'pivot_중분류_세탁기_냉장고', 'pivot_브랜드코드_5530', 'pivot_브랜드코드_6098', 'pivot_브랜드코드_6973', 'pivot_브랜드코드_5318', 'pivot_브랜드코드_6352', 'pivot_브랜드코드_5288', 'pivot_브랜드코드_5601', 'pivot_브랜드코드_6272', 'pivot_브랜드코드_6103', 'pivot_브랜드코드_5296', 'pivot_브랜드코드_6961', 'pivot_대분류_패션잡화', 'pivot_중분류_엘레강스부틱', 'pivot_브랜드코드_6434', 'pivot_중분류_행사_단품', 'pivot_브랜드코드_6282', '주구매시간대_14', 'pivot_브랜드코드_6052', 'pivot_브랜드코드_6163', '주구매_대분류_가정용품파트', 'pivot_브랜드코드_6909', '주구매시간대_18', 'pivot_브랜드코드_5240', 'pivot_브랜드코드_6266', 'pivot_브랜드코드_5683', 'pivot_브랜드코드_5171', '여름시즌_구매비율', 'pivot_브랜드코드_6068', 'pivot_브랜드코드_5519', 'pivot_브랜드코드_6911', 'pivot_브랜드코드_6445', 'pivot_브랜드코드_5376', 'pivot_브랜드코드_5245', 'pivot_브랜드코드_6060', 'pivot_중분류_캐릭터캐쥬얼', 'pivot_브랜드코드_6235', 'pivot_브랜드코드_6211', 'pivot_브랜드코드_6183', 'pivot_브랜드코드_5781', 'pivot_브랜드코드_5189', 'pivot_브랜드코드_6887', 'pivot_브랜드코드_6503', 'pivot_브랜드코드_6524', 'pivot_브랜드코드_5632', 'pivot_중분류_수입ACC', '일요일_구매비율', 'pivot_브랜드코드_6721', 'pivot_중분류_행사소품', 'pivot_브랜드코드_6671', 'pivot_브랜드코드_6442', 'pivot_브랜드코드_5706', 'pivot_브랜드코드_5742', 'pivot_브랜드코드_5900', 'pivot_브랜드코드_6705', 'pivot_브랜드코드_6174', 'pivot_중분류_시계', 'pivot_브랜드코드_6156', 'pivot_브랜드코드_6966', 'pivot_브랜드코드_5416', 'pivot_브랜드코드_5263', 'pivot_브랜드코드_5793', 'pivot_브랜드코드_5692', 'pivot_대분류_여성의류파트', '주구매_대분류_스포츠캐쥬얼', 'pivot_브랜드코드_6357', '11월_구매비율', 'pivot_브랜드코드_6531', 'pivot_브랜드코드_6860', '주구매_대분류_남성정장스포츠', 'pivot_브랜드코드_6135', 'pivot_브랜드코드_5347', 'pivot_브랜드코드_6178', 'pivot_브랜드코드_6025', 'pivot_브랜드코드_6189', 'pivot_브랜드코드_6092', 'pivot_브랜드코드_5962', 'pivot_브랜드코드_6220', 'pivot_중분류_모피', 'pivot_중분류_전문가구(가구)', 'pivot_브랜드코드_5493', 'pivot_브랜드코드_5779', 'pivot_브랜드코드_5996', 'pivot_브랜드코드_5889', 'pivot_브랜드코드_6217', 'pivot_중분류_영잡화', 'pivot_브랜드코드_6808', 'pivot_브랜드코드_6939', 'pivot_브랜드코드_5627', 'pivot_브랜드코드_5843', 'pivot_브랜드코드_5642', '월별_구매비율_skew', 'pivot_브랜드코드_5227', 'pivot_브랜드코드_5443', 'pivot_브랜드코드_6111', 'pivot_중분류_수입_종합가구', 'pivot_브랜드코드_5995', 'pivot_브랜드코드_5891', 'pivot_브랜드코드_5591', 'pivot_브랜드코드_5500', 'pivot_브랜드코드_6048', 'pivot_브랜드코드_6745', 'pivot_브랜드코드_5625', 'pivot_브랜드코드_6255', 'pivot_중분류_색조화장품', 'pivot_브랜드코드_6285', 'pivot_브랜드코드_6311', '월별평균구매건수', 'pivot_브랜드코드_5870', 'pivot_브랜드코드_5548', 'pivot_브랜드코드_6714', 'pivot_브랜드코드_6067', 'pivot_대분류_공산품', 'pivot_브랜드코드_6116', 'pivot_브랜드코드_6782', 'pivot_브랜드코드_5396', 'pivot_브랜드코드_6996', '전체_비수기_구매비율', 'pivot_중분류_가스렌지', '구매간격_평균_x', 'pivot_브랜드코드_5561', 'pivot_중분류_일반조리', 'pivot_브랜드코드_5954', 'pivot_브랜드코드_5212', 'pivot_브랜드코드_6783', 'pivot_브랜드코드_6034', 'pivot_브랜드코드_6742', 'pivot_브랜드코드_5899', 'pivot_브랜드코드_5743', 'pivot_브랜드코드_5380', 'pivot_브랜드코드_5185', 'pivot_브랜드코드_6599', 'pivot_브랜드코드_5881', 'pivot_중분류_수입부띠끄', 'pivot_브랜드코드_6643', 'pivot_브랜드코드_5317', 'pivot_브랜드코드_5427', 'pivot_브랜드코드_5383', 'pivot_브랜드코드_6230', 'pivot_브랜드코드_6695', 'pivot_브랜드코드_5470', 'pivot_대분류_잡화파트', 'pivot_중분류_패션잡화', 'pivot_브랜드코드_6746', 'pivot_브랜드코드_6065', 'pivot_브랜드코드_5473', 'pivot_브랜드코드_6654', '주구매_대분류_아동문화', 'pivot_중분류_테이프', 'pivot_브랜드코드_6674', 'pivot_브랜드코드_6690', 'pivot_브랜드코드_5908', 'pivot_브랜드코드_6367', 'pivot_브랜드코드_6794', 'pivot_브랜드코드_6894', 'pivot_브랜드코드_6226', 'pivot_브랜드코드_5951', 'pivot_브랜드코드_5490', 'pivot_브랜드코드_6200', 'pivot_브랜드코드_6955', 'pivot_브랜드코드_6306', '평일_18시이전_구매비율', 'pivot_브랜드코드_5503', 'pivot_중분류_진캐쥬얼', '주구매_중분류_선물용품', 'pivot_브랜드코드_6834', '구매간격_중앙값_x', 'pivot_브랜드코드_5972', 'pivot_브랜드코드_6483', 'pivot_브랜드코드_6621', 'pivot_브랜드코드_6492', 'pivot_브랜드코드_5395', '주구매시간대_10', 'pivot_브랜드코드_6743', 'pivot_브랜드코드_5234', 'pivot_브랜드코드_6082', 'pivot_브랜드코드_6542', 'pivot_브랜드코드_5644', 'pivot_중분류_영캐쥬얼', 'pivot_브랜드코드_5248', 'pivot_브랜드코드_6848', 'pivot_중분류_헤어ACC', 'pivot_중분류_진케주얼', '분기별_구매비율_kurt', 'pivot_브랜드코드_6176', 'pivot_브랜드코드_6638', 'pivot_브랜드코드_6928', 'pivot_브랜드코드_5279', 'pivot_브랜드코드_6699', 'pivot_브랜드코드_5346', '연말연시끝설날전_구매비율', 'pivot_브랜드코드_6712', 'pivot_브랜드코드_5400', '총환불금액', 'pivot_브랜드코드_5156', 'pivot_브랜드코드_6385', '월중순구매비율', 'pivot_브랜드코드_6977', 'pivot_브랜드코드_6582', 'pivot_브랜드코드_5313', 'pivot_브랜드코드_6278', 'pivot_브랜드코드_5670', 'pivot_브랜드코드_5457', 'pivot_브랜드코드_6463', 'pivot_브랜드코드_6141', 'pivot_브랜드코드_5324', 'pivot_중분류_향수', 'pivot_브랜드코드_6930', 'pivot_브랜드코드_6129', 'pivot_브랜드코드_5888', 'pivot_중분류_골프(LC)', 'pivot_브랜드코드_5297', 'pivot_브랜드코드_5807', 'pivot_브랜드코드_6790', 'pivot_대분류_생식품파트', 'pivot_브랜드코드_6138', 'pivot_브랜드코드_6072', 'pivot_브랜드코드_6110', 'pivot_브랜드코드_5735', 'pivot_브랜드코드_6694', 'pivot_브랜드코드_6166', 'pivot_브랜드코드_5635', 'pivot_브랜드코드_5315', 'pivot_중분류_음료', 'pivot_브랜드코드_6451', 'pivot_중분류_아동단품', 'pivot_브랜드코드_5572', 'pivot_브랜드코드_5933', 'pivot_브랜드코드_6589', 'pivot_브랜드코드_5600', 'pivot_브랜드코드_5252', 'pivot_브랜드코드_5713', 'pivot_브랜드코드_6406', 'pivot_브랜드코드_5693', 'pivot_중분류_레포츠', 'pivot_브랜드코드_6464', 'pivot_브랜드코드_5902', 'pivot_브랜드코드_6408', 'pivot_브랜드코드_5927', 'pivot_브랜드코드_6942', 'pivot_브랜드코드_6806', 'pivot_브랜드코드_5397', 'pivot_브랜드코드_5611', 'pivot_브랜드코드_6679', 'pivot_중분류_수입도자기', 'pivot_브랜드코드_6709', 'pivot_브랜드코드_6678', 'pivot_대분류_여성캐쥬얼', 'pivot_브랜드코드_6664', 'pivot_브랜드코드_5666', 'pivot_브랜드코드_6362', 'pivot_중분류_임대핸드백', 'pivot_브랜드코드_6149', 'pivot_브랜드코드_6739', 'pivot_브랜드코드_5620', 'pivot_중분류_과자', 'pivot_브랜드코드_6270', 'pivot_브랜드코드_5655', 'pivot_중분류_넥타이', 'pivot_중분류_기타식품', 'pivot_브랜드코드_5994', 'pivot_브랜드코드_6043', '연말연시_구매비율', 'pivot_브랜드코드_5887', 'pivot_중분류_단품_행사1', 'pivot_중분류_손수건', '첫구매날짜', 'pivot_브랜드코드_6064', '주구매_대분류_영플라자', 'pivot_중분류_내셔날', 'pivot_중분류_임대슈즈', 'pivot_브랜드코드_6957', '주구매시간대', 'pivot_브랜드코드_5301', 'pivot_브랜드코드_5352', 'pivot_브랜드코드_5181', 'pivot_브랜드코드_6155', '성수기_구매집중도', 'pivot_브랜드코드_6597', 'pivot_중분류_카페트_대자리', 'pivot_중분류_모피_피혁', 'pivot_브랜드코드_6751', 'pivot_브랜드코드_6846', 'pivot_브랜드코드_5976', 'pivot_브랜드코드_6115', '가을_구매비율', 'pivot_브랜드코드_6154', '주구매_중분류_명품', 'pivot_브랜드코드_6882', 'pivot_브랜드코드_6335', 'pivot_브랜드코드_6903', 'pivot_브랜드코드_5558', 'pivot_중분류_통판', '평균환불금액', 'pivot_브랜드코드_6179', 'pivot_브랜드코드_5385', 'pivot_브랜드코드_6927', 'pivot_브랜드코드_5311', 'pivot_브랜드코드_5128', 'pivot_브랜드코드_5966', 'pivot_브랜드코드_6656', 'pivot_브랜드코드_5827', 'pivot_브랜드코드_6523', 'pivot_브랜드코드_6515', 'pivot_브랜드코드_6066', 'pivot_브랜드코드_5598', 'pivot_브랜드코드_5782', 'pivot_브랜드코드_5949', 'pivot_중분류_베이직캐주얼', 'pivot_브랜드코드_6192', 'pivot_브랜드코드_5276', 'pivot_브랜드코드_5841', 'pivot_브랜드코드_6905', 'pivot_브랜드코드_6728', 'pivot_브랜드코드_6543', '월별_구매비율_std', 'pivot_브랜드코드_6307', 'pivot_브랜드코드_6984', 'pivot_중분류_디자이너캐주얼', 'pivot_브랜드코드_5712', 'pivot_브랜드코드_6019', 'pivot_브랜드코드_5963', 'pivot_대분류_남성정장스포츠', 'pivot_브랜드코드_6358', 'pivot_브랜드코드_6359', 'pivot_중분류_피혁소품', 'pivot_브랜드코드_5883', 'pivot_브랜드코드_6838', 'pivot_중분류_N_B침구', 'pivot_브랜드코드_6962', 'pivot_브랜드코드_5715', 'pivot_중분류_스포츠단품', 'pivot_중분류_헤어액세사리', 'pivot_중분류_아동잡화', 'pivot_브랜드코드_6753', 'pivot_브랜드코드_6269', 'pivot_브랜드코드_5608', 'pivot_브랜드코드_5100', 'pivot_브랜드코드_6868', 'pivot_중분류_스포츠슈즈', 'pivot_브랜드코드_6560', 'pivot_중분류_스포츠용품', 'pivot_중분류_식기', 'pivot_브랜드코드_5845', 'pivot_중분류_크리스탈', 'pivot_브랜드코드_5103', 'pivot_중분류_용기보증', 'pivot_브랜드코드_6351', 'pivot_브랜드코드_5134', 'pivot_브랜드코드_6616', '대분류별_구매횟수_std', 'pivot_브랜드코드_6037', 'pivot_브랜드코드_6360', 'pivot_브랜드코드_5329', 'pivot_브랜드코드_6355', 'pivot_브랜드코드_5938', 'pivot_브랜드코드_6992', 'pivot_브랜드코드_6871', 'pivot_브랜드코드_5421', 'pivot_브랜드코드_5287', 'pivot_브랜드코드_6906', 'pivot_브랜드코드_6613', 'pivot_브랜드코드_5178', 'pivot_브랜드코드_5312', 'pivot_브랜드코드_6049', 'pivot_브랜드코드_5993', 'pivot_브랜드코드_5283', 'pivot_브랜드코드_5486', 'pivot_브랜드코드_6816', 'pivot_브랜드코드_6884', 'pivot_브랜드코드_6666', 'pivot_브랜드코드_5190', 'pivot_브랜드코드_5816', 'pivot_브랜드코드_5850', 'pivot_중분류_우산_장갑', 'pivot_브랜드코드_6232', 'pivot_브랜드코드_6580', 'pivot_브랜드코드_5197', 'pivot_브랜드코드_5314', 'pivot_브랜드코드_5255', '오전_구매비율', 'pivot_브랜드코드_5755', 'pivot_브랜드코드_5988', 'pivot_중분류_직수입침구', '주구매_중분류_가구', 'pivot_중분류_페레지원', 'pivot_브랜드코드_5932', 'pivot_브랜드코드_5120', 'pivot_중분류_골프(국내)', 'pivot_브랜드코드_6218', 'pivot_브랜드코드_5884', '8월_구매비율', 'pivot_브랜드코드_6681', 'pivot_브랜드코드_6828', 'pivot_브랜드코드_5765', 'pivot_브랜드코드_5621', '주말_대_아동용품_구매비율', 'pivot_중분류_특선행사', 'pivot_중분류_일용잡화', 'pivot_브랜드코드_5502', 'pivot_브랜드코드_6682', 'pivot_브랜드코드_6926', '3월_구매비율', 'pivot_지점코드_A373000', 'pivot_브랜드코드_6375', 'pivot_대분류_영플라자', 'pivot_브랜드코드_6642', 'pivot_브랜드코드_5183', 'pivot_중분류_선글래스', 'pivot_브랜드코드_6188', 'pivot_브랜드코드_6891', 'pivot_브랜드코드_6349', '중분류별_구매횟수_kurt', 'pivot_브랜드코드_5215', 'pivot_브랜드코드_5151', 'pivot_브랜드코드_6448', 'pivot_브랜드코드_5340', '주구매_대분류_가정용품', 'pivot_브랜드코드_5607', 'pivot_브랜드코드_6139', 'pivot_브랜드코드_5149', 'pivot_브랜드코드_6577', 'pivot_브랜드코드_5242', 'pivot_브랜드코드_5325', 'pivot_브랜드코드_5953', 'pivot_브랜드코드_6495', 'pivot_브랜드코드_6627', '봄_구매비율', 'pivot_브랜드코드_5695', 'pivot_브랜드코드_6345', 'pivot_브랜드코드_6379', 'pivot_브랜드코드_6645', 'pivot_브랜드코드_6885', 'pivot_브랜드코드_6693', 'pivot_브랜드코드_5674', 'pivot_브랜드코드_5403', 'pivot_브랜드코드_5300', 'pivot_브랜드코드_5285', '11월_sum', '8월_sum', 'pivot_브랜드코드_5592', 'pivot_브랜드코드_5322', 'pivot_브랜드코드_6327', 'pivot_브랜드코드_5498', 'pivot_브랜드코드_6433', '주구매_대분류_명품잡화', 'pivot_브랜드코드_6611', 'pivot_브랜드코드_5968', '저가제품환불비율', 'pivot_브랜드코드_5193', 'pivot_브랜드코드_6870', 'pivot_브랜드코드_6259', 'pivot_브랜드코드_6801', 'pivot_중분류_식탁', 'pivot_브랜드코드_6225', 'pivot_중분류_비디오', 'pivot_브랜드코드_6425', 'pivot_브랜드코드_6826', 'pivot_브랜드코드_6061', 'pivot_중분류_조미료', '3분기_구매비율', '주구매시간대_17', 'pivot_브랜드코드_6370', 'pivot_브랜드코드_5330', 'pivot_브랜드코드_5527', 'pivot_브랜드코드_6994', 'pivot_브랜드코드_5645', 'pivot_브랜드코드_6186', 'pivot_브랜드코드_6729', 'pivot_브랜드코드_6256', 'pivot_브랜드코드_5354', 'pivot_브랜드코드_5418', '주말방문일수', '전체_성수기_구매비율', 'pivot_브랜드코드_6121', 'pivot_중분류_지갑_벨트', 'pivot_브랜드코드_5817', 'pivot_브랜드코드_5223', 'pivot_브랜드코드_5929', 'pivot_브랜드코드_5392', 'pivot_브랜드코드_6404', 'pivot_브랜드코드_6614', '오후_구매비율', 'pivot_브랜드코드_5768', 'pivot_대분류_로얄부띠끄', '구매금액_median', 'pivot_중분류_뉴베이직캐주얼', 'pivot_브랜드코드_5205', 'pivot_브랜드코드_5455', 'pivot_중분류_타운단품', 'pivot_브랜드코드_6471', 'pivot_브랜드코드_5107', 'pivot_브랜드코드_6594', 'pivot_브랜드코드_6405', 'pivot_브랜드코드_5975', 'pivot_중분류_캐쥬얼구두', 'pivot_브랜드코드_6796', 'pivot_브랜드코드_5162', 'pivot_브랜드코드_6336', 'pivot_브랜드코드_5204', 'pivot_브랜드코드_6504', 'pivot_브랜드코드_6035', 'pivot_브랜드코드_5895', 'pivot_브랜드코드_5111', 'pivot_중분류_홈데코', 'pivot_중분류_스포츠웨어', 'pivot_브랜드코드_5716', 'pivot_브랜드코드_6552', 'pivot_브랜드코드_5231', 'pivot_브랜드코드_5222', '환불건수', 'pivot_중분류_해외SHOP', 'pivot_대분류_케주얼_구두_아동', 'pivot_브랜드코드_5278', 'pivot_브랜드코드_6140', 'pivot_브랜드코드_6392', 'pivot_중분류_수입의류', 'pivot_브랜드코드_6713', 'pivot_브랜드코드_6376', '아침_구매비율', 'pivot_브랜드코드_6779', 'pivot_브랜드코드_5350', 'pivot_브랜드코드_6655', '주구매_대분류_패션잡화', 'pivot_브랜드코드_5399', 'pivot_브랜드코드_6047', '주구매_대분류_잡화', 'pivot_브랜드코드_5691', 'pivot_브랜드코드_5917', 'pivot_브랜드코드_6598', 'pivot_브랜드코드_5904', 'pivot_대분류_스포츠캐쥬얼', 'pivot_중분류_단품_행사(트래디셔널)', '주구매_대분류_생식품', 'pivot_브랜드코드_5729', 'pivot_브랜드코드_6248', 'pivot_중분류_단품_행사', 'pivot_브랜드코드_5835', 'pivot_브랜드코드_6760', 'pivot_브랜드코드_6541', 'pivot_브랜드코드_5199', 'pivot_브랜드코드_6830', 'pivot_브랜드코드_5557', 'pivot_브랜드코드_5163', 'pivot_브랜드코드_5626', 'pivot_중분류_패션ACC', 'pivot_브랜드코드_6343', 'pivot_브랜드코드_5194', 'pivot_브랜드코드_6732', 'pivot_브랜드코드_5637', '중가제품_구매비율', 'pivot_브랜드코드_5299', 'pivot_브랜드코드_5641', 'pivot_브랜드코드_5265', 'pivot_브랜드코드_6918', 'pivot_브랜드코드_6631', '주말_18시이전_구매비율', 'pivot_브랜드코드_5754', '요일별_구매비율_kurt', 'pivot_브랜드코드_5952', 'pivot_브랜드코드_5631', 'pivot_브랜드코드_6526', 'pivot_브랜드코드_6805', 'pivot_브랜드코드_5722', 'pivot_중분류_즉석조리', 'pivot_브랜드코드_6875', 'pivot_브랜드코드_5102', 'pivot_브랜드코드_5117', 'pivot_중분류_냉동식품', 'pivot_브랜드코드_6271', 'pivot_브랜드코드_6910', 'pivot_지점코드_A144000', 'pivot_브랜드코드_5391', 'pivot_브랜드코드_5140', 'pivot_브랜드코드_5769', 'pivot_브랜드코드_6184', '지점코드별_구매횟수_std', '환불후재구매비율', 'pivot_브랜드코드_5747', 'pivot_브랜드코드_6316', 'pivot_중분류_소형취사가전', '주구매_대분류_명품', 'pivot_브랜드코드_5852', 'pivot_브랜드코드_5261', 'pivot_브랜드코드_6132', 'pivot_브랜드코드_6216', '구매금액_변동성', 'pivot_브랜드코드_5459', 'pivot_브랜드코드_6784', 'pivot_브랜드코드_5510', 'pivot_브랜드코드_6793', 'pivot_중분류_유아', 'pivot_브랜드코드_5191', 'pivot_브랜드코드_5393', 'pivot_브랜드코드_5550', '주구매_대분류_여성의류파트', 'pivot_브랜드코드_6460', 'pivot_브랜드코드_6018', 'pivot_브랜드코드_6629', 'pivot_브랜드코드_6738', 'pivot_브랜드코드_5411', 'pivot_브랜드코드_6600', 'pivot_브랜드코드_5258', 'pivot_브랜드코드_6899', 'pivot_브랜드코드_5556', 'pivot_브랜드코드_5677', 'pivot_브랜드코드_5940', 'pivot_브랜드코드_6581', 'pivot_브랜드코드_6374', 'pivot_브랜드코드_5606', 'pivot_브랜드코드_6298', 'pivot_브랜드코드_6126', '전체_준성수기_구매비율', 'pivot_브랜드코드_5499', 'pivot_브랜드코드_6612', 'pivot_브랜드코드_6626', 'pivot_브랜드코드_6561', '2005년_구매비율', 'pivot_브랜드코드_5452', 'pivot_브랜드코드_6383', 'pivot_브랜드코드_5717', 'pivot_브랜드코드_5874', 'pivot_브랜드코드_6071', 'pivot_브랜드코드_5153', 'pivot_브랜드코드_6031', 'pivot_브랜드코드_6912', 'pivot_브랜드코드_6787', '년도별_구매비율_std', 'pivot_브랜드코드_6084', 'pivot_브랜드코드_6662', '지점코드별_구매횟수_skew', 'pivot_브랜드코드_6608', 'pivot_브랜드코드_5839', '주구매_대분류_케주얼_구두_아동', 'pivot_브랜드코드_6944', 'pivot_브랜드코드_5969', 'pivot_브랜드코드_6633', 'pivot_브랜드코드_6482', 'pivot_브랜드코드_5734', 'pivot_브랜드코드_6605', 'pivot_브랜드코드_6673', 'pivot_브랜드코드_5864', 'pivot_브랜드코드_5657', 'pivot_브랜드코드_5123', 'pivot_브랜드코드_5379', 'pivot_브랜드코드_5529', 'pivot_브랜드코드_6194', 'pivot_브랜드코드_5774', 'pivot_브랜드코드_6395', 'pivot_브랜드코드_5159', 'pivot_브랜드코드_5855', 'pivot_브랜드코드_5428', 'pivot_브랜드코드_5460', 'pivot_브랜드코드_6647', 'pivot_브랜드코드_5139', 'pivot_중분류_건식품', 'pivot_중분류_레이디숍A', 'pivot_브랜드코드_5211', 'pivot_브랜드코드_5593', '계절_구매변동성', 'pivot_브랜드코드_6972', 'pivot_브랜드코드_5401', '마지막구매날짜', 'pivot_브랜드코드_5955', 'pivot_브랜드코드_6145', '5월_구매비율', 'pivot_중분류_수입피혁', 'pivot_브랜드코드_6446', '요일별_구매비율_skew', 'pivot_브랜드코드_5574', 'pivot_브랜드코드_5316', 'pivot_브랜드코드_5484', '신학기후_구매비율', 'pivot_브랜드코드_5371', 'pivot_브랜드코드_5801', 'pivot_브랜드코드_5847', '주구매지점_A144000', 'pivot_브랜드코드_6534', 'pivot_브랜드코드_6579', 'pivot_브랜드코드_6844', 'pivot_브랜드코드_6170', 'pivot_브랜드코드_5708', 'pivot_브랜드코드_5861', 'pivot_브랜드코드_5584', '환불금액_kurtosis', 'pivot_중분류_그라스', 'pivot_브랜드코드_5910', 'pivot_브랜드코드_6030', 'pivot_중분류_트래디셔널캐쥬얼', 'pivot_브랜드코드_6855', 'pivot_브랜드코드_6586', 'pivot_브랜드코드_5912', 'pivot_브랜드코드_5776', 'pivot_브랜드코드_5786', 'pivot_브랜드코드_6036', 'pivot_중분류_수입행사', 'pivot_브랜드코드_5440', 'pivot_브랜드코드_6024', 'pivot_브랜드코드_6719', 'pivot_브랜드코드_5987', 'pivot_브랜드코드_5685', 'pivot_브랜드코드_6161', 'pivot_브랜드코드_6207', 'pivot_브랜드코드_6817', 'pivot_브랜드코드_6708', 'pivot_브랜드코드_5581', 'pivot_브랜드코드_6283', 'pivot_브랜드코드_6872', 'pivot_중분류_건강용품', 'pivot_브랜드코드_5412', 'pivot_브랜드코드_5974', 'pivot_브랜드코드_6704'}\n",
      "train_ft에만 있는 변수: set()\n",
      "test_ft에만 있는 변수: set()\n"
     ]
    }
   ],
   "source": [
    "# train_ft와 test_ft의 열 이름을 각각 집합으로 변환\n",
    "train_columns = set(train_ft.columns)\n",
    "test_columns = set(test_ft.columns)\n",
    "\n",
    "# 공통으로 있는 열\n",
    "common_columns = train_columns.intersection(test_columns)\n",
    "print(\"공통 변수:\", common_columns)\n",
    "\n",
    "# train_ft에만 있는 열\n",
    "only_in_train = train_columns - test_columns\n",
    "print(\"train_ft에만 있는 변수:\", only_in_train)\n",
    "\n",
    "# test_ft에만 있는 열\n",
    "only_in_test = test_columns - train_columns\n",
    "print(\"test_ft에만 있는 변수:\", only_in_test)"
   ]
  },
  {
   "cell_type": "code",
   "execution_count": 139,
   "metadata": {},
   "outputs": [],
   "source": [
    "## 고객등급 라벨 인코딩\n",
    "#from sklearn.preprocessing import LabelEncoder\n",
    "\n",
    "#le = LabelEncoder()\n",
    "#train_ft[\"고객등급_인코딩\"] = le.fit_transform(train_ft[\"고객등급\"])"
   ]
  },
  {
   "cell_type": "code",
   "execution_count": 140,
   "metadata": {},
   "outputs": [],
   "source": [
    "#grade_mapping = {'Diamond': 4, 'Platinum': 3, 'Gold': 2, 'Black': 1, 'Noraml': 0}\n",
    "#train_ft[\"고객등급_인코딩\"] = train_ft[\"고객등급\"].map(grade_mapping)"
   ]
  },
  {
   "cell_type": "code",
   "execution_count": 141,
   "metadata": {},
   "outputs": [],
   "source": [
    "#train_ft[\"고객등급\"]"
   ]
  },
  {
   "cell_type": "code",
   "execution_count": 142,
   "metadata": {},
   "outputs": [],
   "source": [
    "#train_ft[\"고객등급\"] = train_ft[\"고객등급\"].str.strip() #공백제거\n",
    "#grade_mapping = {'Diamond': 4, 'Platinum': 3, 'Gold': 2, 'Black': 1, 'Noraml': 0}\n",
    "#train_ft[\"고객등급_인코딩\"] = train_ft[\"고객등급\"].replace(grade_mapping)"
   ]
  },
  {
   "cell_type": "code",
   "execution_count": 143,
   "metadata": {},
   "outputs": [],
   "source": [
    "#print(train_ft[\"고객등급\"].unique())"
   ]
  },
  {
   "cell_type": "code",
   "execution_count": 144,
   "metadata": {},
   "outputs": [],
   "source": [
    "## 대소문자 차이를 없애기 위해 모두 소문자로 변환\n",
    "#train_ft[\"고객등급\"] = train_ft[\"고객등급\"].str.lower()\n",
    "\n",
    "# 인코딩할 딕셔너리 정의 (소문자에 맞추어 변경)\n",
    "#grade_mapping = {'diamond': 4, 'platinum': 3, 'gold': 2, 'black': 1, 'normal': 0}\n",
    "\n",
    "# \"고객등급\"을 딕셔너리를 통해 인코딩\n",
    "#train_ft[\"고객등급_인코딩\"] = train_ft[\"고객등급\"].map(grade_mapping)"
   ]
  },
  {
   "cell_type": "code",
   "execution_count": 145,
   "metadata": {},
   "outputs": [],
   "source": [
    "#train_ft[\"고객등급_인코딩\"]"
   ]
  },
  {
   "cell_type": "code",
   "execution_count": 146,
   "metadata": {},
   "outputs": [],
   "source": [
    "#print(train_ft[\"고객등급_인코딩\"].unique())"
   ]
  },
  {
   "cell_type": "code",
   "execution_count": 147,
   "metadata": {},
   "outputs": [],
   "source": [
    "#diamond_count = (train_ft[\"고객등급\"] == \"Diamond\").sum()\n",
    "#print(diamond_count)"
   ]
  },
  {
   "cell_type": "code",
   "execution_count": 148,
   "metadata": {},
   "outputs": [],
   "source": [
    "#diamond_count = (train_ft[\"고객등급_인코딩\"] == 4).sum()\n",
    "#print(diamond_count)"
   ]
  },
  {
   "cell_type": "code",
   "execution_count": 149,
   "metadata": {},
   "outputs": [],
   "source": [
    "#diamond_count = (train_ft[\"고객등급\"] == \"Platinum\").sum()\n",
    "#print(diamond_count)"
   ]
  },
  {
   "cell_type": "code",
   "execution_count": 150,
   "metadata": {},
   "outputs": [],
   "source": [
    "#diamond_count = (train_ft[\"고객등급\"] == \"Gold\").sum()\n",
    "#print(diamond_count)"
   ]
  },
  {
   "cell_type": "code",
   "execution_count": 151,
   "metadata": {},
   "outputs": [],
   "source": [
    "#diamond_count = (train_ft[\"고객등급\"] == \"Black\").sum()\n",
    "#print(diamond_count)"
   ]
  },
  {
   "cell_type": "code",
   "execution_count": 152,
   "metadata": {},
   "outputs": [],
   "source": [
    "#diamond_count = (train_ft[\"고객등급\"] == \"Normal\").sum()\n",
    "#print(diamond_count)"
   ]
  },
  {
   "cell_type": "code",
   "execution_count": 153,
   "metadata": {},
   "outputs": [],
   "source": [
    "## NaN 값의 갯수 확인\n",
    "#nan_count = train_ft[\"고객등급\"].isna().sum()\n",
    "#print(nan_count)"
   ]
  },
  {
   "cell_type": "code",
   "execution_count": 154,
   "metadata": {},
   "outputs": [],
   "source": [
    "#test_ft[\"고객등급\"]"
   ]
  },
  {
   "cell_type": "markdown",
   "metadata": {
    "id": "lPURwRnPUj-B"
   },
   "source": []
  },
  {
   "cell_type": "code",
   "execution_count": 155,
   "metadata": {},
   "outputs": [],
   "source": [
    "# 대소문자 차이를 없애기 위해 모두 소문자로 변환\n",
    "#test_ft[\"고객등급\"] = test_ft[\"고객등급\"].str.lower()\n",
    "\n",
    "# 인코딩할 딕셔너리 정의 (소문자에 맞추어 변경)\n",
    "#grade_mapping = {'diamond': 4, 'platinum': 3, 'gold': 2, 'black': 1, 'normal': 0}\n",
    "\n",
    "# \"고객등급\"을 딕셔너리를 통해 인코딩\n",
    "#test_ft[\"고객등급_인코딩\"] = test_ft[\"고객등급\"].map(grade_mapping)"
   ]
  },
  {
   "cell_type": "code",
   "execution_count": 156,
   "metadata": {},
   "outputs": [],
   "source": [
    "#test_ft[\"고객등급_인코딩\"]"
   ]
  },
  {
   "cell_type": "markdown",
   "metadata": {},
   "source": [
    "## 원핫인코딩"
   ]
  },
  {
   "cell_type": "code",
   "execution_count": 157,
   "metadata": {},
   "outputs": [],
   "source": [
    "#import pandas as pd\n",
    "#from sklearn.preprocessing import OneHotEncoder\n",
    "\n",
    "# 예시 데이터프레임\n",
    "# test_ft = pd.DataFrame({'고객등급': ['diamond', 'normal', 'gold', 'platinum', 'black']})\n",
    "\n",
    "# OneHotEncoder 객체 생성 (drop='first'를 설정하면 첫 번째 범주를 제외한 나머지를 인코딩하여 다중 공선성 문제를 줄일 수 있음)\n",
    "#encoder = OneHotEncoder(sparse=False)\n",
    "\n",
    "# 고객등급 컬럼을 2차원 배열로 변환하여 인코딩 수행\n",
    "#encoded_data = encoder.fit_transform(train_ft[[\"고객등급\"]])\n",
    "\n",
    "# 인코딩된 데이터를 데이터프레임으로 변환하여 기존 컬럼명에 맞춰 열 이름 지정\n",
    "#encoded_df = pd.DataFrame(encoded_data, columns=encoder.get_feature_names_out([\"고객등급\"]))\n",
    "\n",
    "# 원본 데이터프레임과 인코딩된 데이터프레임 병합\n",
    "#train_ft = pd.concat([train_ft, encoded_df], axis=1).drop(columns=[\"고객등급\"])\n",
    "\n",
    "# 결과 출력\n",
    "#print(train_ft)"
   ]
  },
  {
   "cell_type": "code",
   "execution_count": 158,
   "metadata": {},
   "outputs": [],
   "source": [
    "#train_ft[\"고객등급\"]"
   ]
  },
  {
   "cell_type": "code",
   "execution_count": 159,
   "metadata": {},
   "outputs": [
    {
     "data": {
      "text/html": [
       "<div>\n",
       "<style scoped>\n",
       "    .dataframe tbody tr th:only-of-type {\n",
       "        vertical-align: middle;\n",
       "    }\n",
       "\n",
       "    .dataframe tbody tr th {\n",
       "        vertical-align: top;\n",
       "    }\n",
       "\n",
       "    .dataframe thead th {\n",
       "        text-align: right;\n",
       "    }\n",
       "</style>\n",
       "<table border=\"1\" class=\"dataframe\">\n",
       "  <thead>\n",
       "    <tr style=\"text-align: right;\">\n",
       "      <th></th>\n",
       "      <th>총방문일수</th>\n",
       "      <th>첫구매날짜</th>\n",
       "      <th>마지막구매날짜</th>\n",
       "      <th>백화점이용기간</th>\n",
       "      <th>구매주기</th>\n",
       "      <th>주말방문일수</th>\n",
       "      <th>일별평균구매건수</th>\n",
       "      <th>구매간격_표준편차</th>\n",
       "      <th>평균구매요일</th>\n",
       "      <th>주구매요일</th>\n",
       "      <th>...</th>\n",
       "      <th>주구매시간대_18</th>\n",
       "      <th>주구매시간대_19</th>\n",
       "      <th>주구매시간대_20</th>\n",
       "      <th>선호브랜드코드_cnt</th>\n",
       "      <th>주구매_중분류_cnt</th>\n",
       "      <th>고객등급_Black</th>\n",
       "      <th>고객등급_Diamond</th>\n",
       "      <th>고객등급_Gold</th>\n",
       "      <th>고객등급_Normal</th>\n",
       "      <th>고객등급_Platinum</th>\n",
       "    </tr>\n",
       "  </thead>\n",
       "  <tbody>\n",
       "    <tr>\n",
       "      <th>0</th>\n",
       "      <td>9</td>\n",
       "      <td>2004-05-07</td>\n",
       "      <td>2005-01-16</td>\n",
       "      <td>255</td>\n",
       "      <td>28</td>\n",
       "      <td>2</td>\n",
       "      <td>1.555556</td>\n",
       "      <td>22.744789</td>\n",
       "      <td>3.000000</td>\n",
       "      <td>2</td>\n",
       "      <td>...</td>\n",
       "      <td>0.0</td>\n",
       "      <td>0.0</td>\n",
       "      <td>0.0</td>\n",
       "      <td>1</td>\n",
       "      <td>236</td>\n",
       "      <td>0</td>\n",
       "      <td>0</td>\n",
       "      <td>0</td>\n",
       "      <td>1</td>\n",
       "      <td>0</td>\n",
       "    </tr>\n",
       "    <tr>\n",
       "      <th>1</th>\n",
       "      <td>21</td>\n",
       "      <td>2004-05-11</td>\n",
       "      <td>2005-04-27</td>\n",
       "      <td>352</td>\n",
       "      <td>16</td>\n",
       "      <td>1</td>\n",
       "      <td>2.000000</td>\n",
       "      <td>11.739134</td>\n",
       "      <td>2.309524</td>\n",
       "      <td>3</td>\n",
       "      <td>...</td>\n",
       "      <td>1.0</td>\n",
       "      <td>0.0</td>\n",
       "      <td>0.0</td>\n",
       "      <td>7051</td>\n",
       "      <td>521</td>\n",
       "      <td>0</td>\n",
       "      <td>0</td>\n",
       "      <td>0</td>\n",
       "      <td>1</td>\n",
       "      <td>0</td>\n",
       "    </tr>\n",
       "    <tr>\n",
       "      <th>2</th>\n",
       "      <td>55</td>\n",
       "      <td>2004-05-06</td>\n",
       "      <td>2005-04-26</td>\n",
       "      <td>356</td>\n",
       "      <td>6</td>\n",
       "      <td>11</td>\n",
       "      <td>1.854545</td>\n",
       "      <td>5.019987</td>\n",
       "      <td>2.333333</td>\n",
       "      <td>0</td>\n",
       "      <td>...</td>\n",
       "      <td>0.0</td>\n",
       "      <td>0.0</td>\n",
       "      <td>0.0</td>\n",
       "      <td>8</td>\n",
       "      <td>14</td>\n",
       "      <td>0</td>\n",
       "      <td>1</td>\n",
       "      <td>0</td>\n",
       "      <td>0</td>\n",
       "      <td>0</td>\n",
       "    </tr>\n",
       "    <tr>\n",
       "      <th>3</th>\n",
       "      <td>90</td>\n",
       "      <td>2004-05-11</td>\n",
       "      <td>2005-04-20</td>\n",
       "      <td>345</td>\n",
       "      <td>3</td>\n",
       "      <td>19</td>\n",
       "      <td>2.055556</td>\n",
       "      <td>3.137146</td>\n",
       "      <td>3.081081</td>\n",
       "      <td>4</td>\n",
       "      <td>...</td>\n",
       "      <td>0.0</td>\n",
       "      <td>0.0</td>\n",
       "      <td>0.0</td>\n",
       "      <td>215</td>\n",
       "      <td>4669</td>\n",
       "      <td>0</td>\n",
       "      <td>1</td>\n",
       "      <td>0</td>\n",
       "      <td>0</td>\n",
       "      <td>0</td>\n",
       "    </tr>\n",
       "    <tr>\n",
       "      <th>4</th>\n",
       "      <td>24</td>\n",
       "      <td>2004-05-09</td>\n",
       "      <td>2005-03-17</td>\n",
       "      <td>313</td>\n",
       "      <td>13</td>\n",
       "      <td>6</td>\n",
       "      <td>1.500000</td>\n",
       "      <td>11.962731</td>\n",
       "      <td>3.861111</td>\n",
       "      <td>4</td>\n",
       "      <td>...</td>\n",
       "      <td>0.0</td>\n",
       "      <td>0.0</td>\n",
       "      <td>0.0</td>\n",
       "      <td>7051</td>\n",
       "      <td>2049</td>\n",
       "      <td>0</td>\n",
       "      <td>0</td>\n",
       "      <td>0</td>\n",
       "      <td>1</td>\n",
       "      <td>0</td>\n",
       "    </tr>\n",
       "  </tbody>\n",
       "</table>\n",
       "<p>5 rows × 2410 columns</p>\n",
       "</div>"
      ],
      "text/plain": [
       "   총방문일수      첫구매날짜    마지막구매날짜  백화점이용기간  구매주기  주말방문일수  일별평균구매건수  구매간격_표준편차  \\\n",
       "0      9 2004-05-07 2005-01-16      255    28       2  1.555556  22.744789   \n",
       "1     21 2004-05-11 2005-04-27      352    16       1  2.000000  11.739134   \n",
       "2     55 2004-05-06 2005-04-26      356     6      11  1.854545   5.019987   \n",
       "3     90 2004-05-11 2005-04-20      345     3      19  2.055556   3.137146   \n",
       "4     24 2004-05-09 2005-03-17      313    13       6  1.500000  11.962731   \n",
       "\n",
       "     평균구매요일  주구매요일  ...  주구매시간대_18  주구매시간대_19  주구매시간대_20  선호브랜드코드_cnt  \\\n",
       "0  3.000000      2  ...        0.0        0.0        0.0            1   \n",
       "1  2.309524      3  ...        1.0        0.0        0.0         7051   \n",
       "2  2.333333      0  ...        0.0        0.0        0.0            8   \n",
       "3  3.081081      4  ...        0.0        0.0        0.0          215   \n",
       "4  3.861111      4  ...        0.0        0.0        0.0         7051   \n",
       "\n",
       "   주구매_중분류_cnt  고객등급_Black  고객등급_Diamond  고객등급_Gold  고객등급_Normal  \\\n",
       "0          236           0             0          0            1   \n",
       "1          521           0             0          0            1   \n",
       "2           14           0             1          0            0   \n",
       "3         4669           0             1          0            0   \n",
       "4         2049           0             0          0            1   \n",
       "\n",
       "   고객등급_Platinum  \n",
       "0              0  \n",
       "1              0  \n",
       "2              0  \n",
       "3              0  \n",
       "4              0  \n",
       "\n",
       "[5 rows x 2410 columns]"
      ]
     },
     "execution_count": 159,
     "metadata": {},
     "output_type": "execute_result"
    }
   ],
   "source": [
    "import pandas as pd\n",
    "\n",
    "# 원핫인코딩 수행\n",
    "train_ft = pd.get_dummies(train_ft, columns=['고객등급'], prefix='고객등급')\n",
    "\n",
    "# 원핫인코딩된 열만 선택하여 True/False를 1/0으로 변환\n",
    "for col in train_ft.filter(like='고객등급_').columns:\n",
    "    train_ft[col] = train_ft[col].astype(int)\n",
    "\n",
    "# 결과 확인\n",
    "train_ft.head()"
   ]
  },
  {
   "cell_type": "code",
   "execution_count": 160,
   "metadata": {},
   "outputs": [
    {
     "data": {
      "text/html": [
       "<div>\n",
       "<style scoped>\n",
       "    .dataframe tbody tr th:only-of-type {\n",
       "        vertical-align: middle;\n",
       "    }\n",
       "\n",
       "    .dataframe tbody tr th {\n",
       "        vertical-align: top;\n",
       "    }\n",
       "\n",
       "    .dataframe thead th {\n",
       "        text-align: right;\n",
       "    }\n",
       "</style>\n",
       "<table border=\"1\" class=\"dataframe\">\n",
       "  <thead>\n",
       "    <tr style=\"text-align: right;\">\n",
       "      <th></th>\n",
       "      <th>총방문일수</th>\n",
       "      <th>첫구매날짜</th>\n",
       "      <th>마지막구매날짜</th>\n",
       "      <th>백화점이용기간</th>\n",
       "      <th>구매주기</th>\n",
       "      <th>주말방문일수</th>\n",
       "      <th>일별평균구매건수</th>\n",
       "      <th>구매간격_표준편차</th>\n",
       "      <th>평균구매요일</th>\n",
       "      <th>주구매요일</th>\n",
       "      <th>...</th>\n",
       "      <th>주구매시간대_18</th>\n",
       "      <th>주구매시간대_19</th>\n",
       "      <th>주구매시간대_20</th>\n",
       "      <th>선호브랜드코드_cnt</th>\n",
       "      <th>주구매_중분류_cnt</th>\n",
       "      <th>고객등급_Black</th>\n",
       "      <th>고객등급_Diamond</th>\n",
       "      <th>고객등급_Gold</th>\n",
       "      <th>고객등급_Normal</th>\n",
       "      <th>고객등급_Platinum</th>\n",
       "    </tr>\n",
       "  </thead>\n",
       "  <tbody>\n",
       "    <tr>\n",
       "      <th>0</th>\n",
       "      <td>5</td>\n",
       "      <td>2004-05-16</td>\n",
       "      <td>2004-10-26</td>\n",
       "      <td>164</td>\n",
       "      <td>32</td>\n",
       "      <td>3</td>\n",
       "      <td>1.400000</td>\n",
       "      <td>30.416096</td>\n",
       "      <td>3.428571</td>\n",
       "      <td>1</td>\n",
       "      <td>...</td>\n",
       "      <td>0.0</td>\n",
       "      <td>0.0</td>\n",
       "      <td>0.0</td>\n",
       "      <td>7051.0</td>\n",
       "      <td>2049.0</td>\n",
       "      <td>0</td>\n",
       "      <td>0</td>\n",
       "      <td>0</td>\n",
       "      <td>1</td>\n",
       "      <td>0</td>\n",
       "    </tr>\n",
       "    <tr>\n",
       "      <th>1</th>\n",
       "      <td>3</td>\n",
       "      <td>2004-09-11</td>\n",
       "      <td>2005-02-23</td>\n",
       "      <td>166</td>\n",
       "      <td>55</td>\n",
       "      <td>1</td>\n",
       "      <td>1.333333</td>\n",
       "      <td>57.879185</td>\n",
       "      <td>1.750000</td>\n",
       "      <td>0</td>\n",
       "      <td>...</td>\n",
       "      <td>0.0</td>\n",
       "      <td>0.0</td>\n",
       "      <td>0.0</td>\n",
       "      <td>284.0</td>\n",
       "      <td>25.0</td>\n",
       "      <td>0</td>\n",
       "      <td>0</td>\n",
       "      <td>0</td>\n",
       "      <td>1</td>\n",
       "      <td>0</td>\n",
       "    </tr>\n",
       "    <tr>\n",
       "      <th>2</th>\n",
       "      <td>2</td>\n",
       "      <td>2004-08-16</td>\n",
       "      <td>2004-09-02</td>\n",
       "      <td>18</td>\n",
       "      <td>9</td>\n",
       "      <td>0</td>\n",
       "      <td>2.500000</td>\n",
       "      <td>7.361216</td>\n",
       "      <td>1.200000</td>\n",
       "      <td>0</td>\n",
       "      <td>...</td>\n",
       "      <td>0.0</td>\n",
       "      <td>0.0</td>\n",
       "      <td>0.0</td>\n",
       "      <td>577.0</td>\n",
       "      <td>4669.0</td>\n",
       "      <td>0</td>\n",
       "      <td>0</td>\n",
       "      <td>0</td>\n",
       "      <td>1</td>\n",
       "      <td>0</td>\n",
       "    </tr>\n",
       "    <tr>\n",
       "      <th>3</th>\n",
       "      <td>14</td>\n",
       "      <td>2004-07-22</td>\n",
       "      <td>2005-04-19</td>\n",
       "      <td>272</td>\n",
       "      <td>19</td>\n",
       "      <td>1</td>\n",
       "      <td>1.714286</td>\n",
       "      <td>17.715031</td>\n",
       "      <td>3.000000</td>\n",
       "      <td>3</td>\n",
       "      <td>...</td>\n",
       "      <td>1.0</td>\n",
       "      <td>0.0</td>\n",
       "      <td>0.0</td>\n",
       "      <td>2.0</td>\n",
       "      <td>521.0</td>\n",
       "      <td>0</td>\n",
       "      <td>0</td>\n",
       "      <td>0</td>\n",
       "      <td>1</td>\n",
       "      <td>0</td>\n",
       "    </tr>\n",
       "    <tr>\n",
       "      <th>4</th>\n",
       "      <td>7</td>\n",
       "      <td>2004-05-25</td>\n",
       "      <td>2005-02-13</td>\n",
       "      <td>265</td>\n",
       "      <td>37</td>\n",
       "      <td>3</td>\n",
       "      <td>2.142857</td>\n",
       "      <td>36.517818</td>\n",
       "      <td>4.000000</td>\n",
       "      <td>6</td>\n",
       "      <td>...</td>\n",
       "      <td>0.0</td>\n",
       "      <td>1.0</td>\n",
       "      <td>0.0</td>\n",
       "      <td>7051.0</td>\n",
       "      <td>13.0</td>\n",
       "      <td>0</td>\n",
       "      <td>0</td>\n",
       "      <td>0</td>\n",
       "      <td>1</td>\n",
       "      <td>0</td>\n",
       "    </tr>\n",
       "  </tbody>\n",
       "</table>\n",
       "<p>5 rows × 2410 columns</p>\n",
       "</div>"
      ],
      "text/plain": [
       "   총방문일수      첫구매날짜    마지막구매날짜  백화점이용기간  구매주기  주말방문일수  일별평균구매건수  구매간격_표준편차  \\\n",
       "0      5 2004-05-16 2004-10-26      164    32       3  1.400000  30.416096   \n",
       "1      3 2004-09-11 2005-02-23      166    55       1  1.333333  57.879185   \n",
       "2      2 2004-08-16 2004-09-02       18     9       0  2.500000   7.361216   \n",
       "3     14 2004-07-22 2005-04-19      272    19       1  1.714286  17.715031   \n",
       "4      7 2004-05-25 2005-02-13      265    37       3  2.142857  36.517818   \n",
       "\n",
       "     평균구매요일  주구매요일  ...  주구매시간대_18  주구매시간대_19  주구매시간대_20  선호브랜드코드_cnt  \\\n",
       "0  3.428571      1  ...        0.0        0.0        0.0       7051.0   \n",
       "1  1.750000      0  ...        0.0        0.0        0.0        284.0   \n",
       "2  1.200000      0  ...        0.0        0.0        0.0        577.0   \n",
       "3  3.000000      3  ...        1.0        0.0        0.0          2.0   \n",
       "4  4.000000      6  ...        0.0        1.0        0.0       7051.0   \n",
       "\n",
       "   주구매_중분류_cnt  고객등급_Black  고객등급_Diamond  고객등급_Gold  고객등급_Normal  \\\n",
       "0       2049.0           0             0          0            1   \n",
       "1         25.0           0             0          0            1   \n",
       "2       4669.0           0             0          0            1   \n",
       "3        521.0           0             0          0            1   \n",
       "4         13.0           0             0          0            1   \n",
       "\n",
       "   고객등급_Platinum  \n",
       "0              0  \n",
       "1              0  \n",
       "2              0  \n",
       "3              0  \n",
       "4              0  \n",
       "\n",
       "[5 rows x 2410 columns]"
      ]
     },
     "execution_count": 160,
     "metadata": {},
     "output_type": "execute_result"
    }
   ],
   "source": [
    "# 원핫인코딩 수행\n",
    "test_ft = pd.get_dummies(test_ft, columns=['고객등급'], prefix='고객등급')\n",
    "\n",
    "# 원핫인코딩된 열만 선택하여 True/False를 1/0으로 변환\n",
    "for col in test_ft.filter(like='고객등급_').columns:\n",
    "    test_ft[col] = test_ft[col].astype(int)\n",
    "\n",
    "# 결과 확인\n",
    "test_ft.head()"
   ]
  },
  {
   "cell_type": "code",
   "execution_count": null,
   "metadata": {},
   "outputs": [],
   "source": []
  },
  {
   "cell_type": "code",
   "execution_count": null,
   "metadata": {},
   "outputs": [],
   "source": []
  },
  {
   "cell_type": "code",
   "execution_count": null,
   "metadata": {},
   "outputs": [],
   "source": []
  },
  {
   "cell_type": "code",
   "execution_count": null,
   "metadata": {},
   "outputs": [],
   "source": []
  },
  {
   "cell_type": "markdown",
   "metadata": {},
   "source": [
    "- 문자열 피처 삭제"
   ]
  },
  {
   "cell_type": "code",
   "execution_count": 161,
   "metadata": {},
   "outputs": [
    {
     "data": {
      "text/plain": [
       "['첫구매날짜', '마지막구매날짜', '주구매지점', '주구매_중분류', '주구매_대분류']"
      ]
     },
     "execution_count": 161,
     "metadata": {},
     "output_type": "execute_result"
    }
   ],
   "source": [
    "cols = train_ft.select_dtypes([\"object\", \"datetime\"]).columns.tolist()\n",
    "cols"
   ]
  },
  {
   "cell_type": "code",
   "execution_count": 162,
   "metadata": {
    "colab": {
     "base_uri": "https://localhost:8080/"
    },
    "executionInfo": {
     "elapsed": 338,
     "status": "ok",
     "timestamp": 1730269771556,
     "user": {
      "displayName": "koeyhi",
      "userId": "08049178071858703986"
     },
     "user_tz": -540
    },
    "id": "zZlZoAMZUbGp",
    "outputId": "2dc6b54d-eacb-450d-8fc1-b2b19198435c"
   },
   "outputs": [
    {
     "data": {
      "text/plain": [
       "((14940, 2405), (12225, 2405))"
      ]
     },
     "execution_count": 162,
     "metadata": {},
     "output_type": "execute_result"
    }
   ],
   "source": [
    "train_ft = train_ft.drop(columns=cols)\n",
    "test_ft = test_ft.drop(columns=cols)\n",
    "train_ft.shape, test_ft.shape"
   ]
  },
  {
   "cell_type": "code",
   "execution_count": 163,
   "metadata": {
    "colab": {
     "base_uri": "https://localhost:8080/"
    },
    "executionInfo": {
     "elapsed": 3,
     "status": "ok",
     "timestamp": 1730269771557,
     "user": {
      "displayName": "koeyhi",
      "userId": "08049178071858703986"
     },
     "user_tz": -540
    },
    "id": "1-y4-kmTUmso",
    "outputId": "7e3d9700-ac05-48e8-81e1-d6b1eb972cea"
   },
   "outputs": [
    {
     "data": {
      "text/plain": [
       "(Index([], dtype='object'), Index([], dtype='object'))"
      ]
     },
     "execution_count": 163,
     "metadata": {},
     "output_type": "execute_result"
    }
   ],
   "source": [
    "train_ft.select_dtypes(\"object\").columns , test_ft.select_dtypes(\"object\").columns"
   ]
  },
  {
   "cell_type": "code",
   "execution_count": 164,
   "metadata": {},
   "outputs": [
    {
     "data": {
      "text/plain": [
       "(Index([], dtype='object'), Index([], dtype='object'))"
      ]
     },
     "execution_count": 164,
     "metadata": {},
     "output_type": "execute_result"
    }
   ],
   "source": [
    "train_ft.select_dtypes(\"datetime\").columns, test_ft.select_dtypes(\"datetime\").columns"
   ]
  },
  {
   "cell_type": "markdown",
   "metadata": {
    "id": "KAQ-3TU5U0Pk"
   },
   "source": [
    "## Feature Scaling"
   ]
  },
  {
   "cell_type": "code",
   "execution_count": 165,
   "metadata": {},
   "outputs": [
    {
     "data": {
      "text/plain": [
       "(0, 0)"
      ]
     },
     "execution_count": 165,
     "metadata": {},
     "output_type": "execute_result"
    }
   ],
   "source": [
    "train_ft.isin([np.inf, -np.inf]).any().sum(), test_ft.isin([np.inf, -np.inf]).any().sum()"
   ]
  },
  {
   "cell_type": "code",
   "execution_count": 166,
   "metadata": {},
   "outputs": [
    {
     "data": {
      "text/plain": [
       "(0, 0)"
      ]
     },
     "execution_count": 166,
     "metadata": {},
     "output_type": "execute_result"
    }
   ],
   "source": [
    "train_ft.isna().sum().sum(), test_ft.isna().sum().sum()"
   ]
  },
  {
   "cell_type": "code",
   "execution_count": 167,
   "metadata": {},
   "outputs": [
    {
     "name": "stdout",
     "output_type": "stream",
     "text": [
      "NaN이 포함된 컬럼: []\n"
     ]
    }
   ],
   "source": [
    "import pandas as pd\n",
    "\n",
    "# NaN이 포함된 컬럼 찾기\n",
    "nan_columns = [col for col in train_ft.columns if train_ft[col].isnull().any()]\n",
    "\n",
    "print(\"NaN이 포함된 컬럼:\", nan_columns)"
   ]
  },
  {
   "cell_type": "code",
   "execution_count": 168,
   "metadata": {},
   "outputs": [],
   "source": [
    "#train_ft=train_ft.drop([\"브랜드코드별_구매횟수_std\", \"브랜드코드별_구매횟수_skew\", \"브랜드코드별_구매횟수_kurt\"], axis=1)\n",
    "#test_ft=test_ft.drop([\"브랜드코드별_구매횟수_std\", \"브랜드코드별_구매횟수_skew\", \"브랜드코드별_구매횟수_kurt\"], axis=1)"
   ]
  },
  {
   "cell_type": "code",
   "execution_count": 169,
   "metadata": {},
   "outputs": [
    {
     "data": {
      "text/html": [
       "<div>\n",
       "<style scoped>\n",
       "    .dataframe tbody tr th:only-of-type {\n",
       "        vertical-align: middle;\n",
       "    }\n",
       "\n",
       "    .dataframe tbody tr th {\n",
       "        vertical-align: top;\n",
       "    }\n",
       "\n",
       "    .dataframe thead th {\n",
       "        text-align: right;\n",
       "    }\n",
       "</style>\n",
       "<table border=\"1\" class=\"dataframe\">\n",
       "  <thead>\n",
       "    <tr style=\"text-align: right;\">\n",
       "      <th></th>\n",
       "      <th>총방문일수</th>\n",
       "      <th>백화점이용기간</th>\n",
       "      <th>구매주기</th>\n",
       "      <th>주말방문일수</th>\n",
       "      <th>일별평균구매건수</th>\n",
       "      <th>구매간격_표준편차</th>\n",
       "      <th>평균구매요일</th>\n",
       "      <th>주구매요일</th>\n",
       "      <th>월요일_구매비율</th>\n",
       "      <th>화요일_구매비율</th>\n",
       "      <th>...</th>\n",
       "      <th>주구매시간대_18</th>\n",
       "      <th>주구매시간대_19</th>\n",
       "      <th>주구매시간대_20</th>\n",
       "      <th>선호브랜드코드_cnt</th>\n",
       "      <th>주구매_중분류_cnt</th>\n",
       "      <th>고객등급_Black</th>\n",
       "      <th>고객등급_Diamond</th>\n",
       "      <th>고객등급_Gold</th>\n",
       "      <th>고객등급_Normal</th>\n",
       "      <th>고객등급_Platinum</th>\n",
       "    </tr>\n",
       "  </thead>\n",
       "  <tbody>\n",
       "    <tr>\n",
       "      <th>0</th>\n",
       "      <td>0.000001</td>\n",
       "      <td>0.000041</td>\n",
       "      <td>4.547622e-06</td>\n",
       "      <td>3.248301e-07</td>\n",
       "      <td>2.526457e-07</td>\n",
       "      <td>3.694097e-06</td>\n",
       "      <td>4.872452e-07</td>\n",
       "      <td>3.248301e-07</td>\n",
       "      <td>1.160108e-08</td>\n",
       "      <td>0.000000e+00</td>\n",
       "      <td>...</td>\n",
       "      <td>0.000000e+00</td>\n",
       "      <td>0.0</td>\n",
       "      <td>0.0</td>\n",
       "      <td>1.624151e-07</td>\n",
       "      <td>3.832996e-05</td>\n",
       "      <td>0.0</td>\n",
       "      <td>0.000000e+00</td>\n",
       "      <td>0.0</td>\n",
       "      <td>1.624151e-07</td>\n",
       "      <td>0.0</td>\n",
       "    </tr>\n",
       "    <tr>\n",
       "      <th>1</th>\n",
       "      <td>0.000003</td>\n",
       "      <td>0.000059</td>\n",
       "      <td>2.663584e-06</td>\n",
       "      <td>1.664740e-07</td>\n",
       "      <td>3.329480e-07</td>\n",
       "      <td>1.954261e-06</td>\n",
       "      <td>3.844757e-07</td>\n",
       "      <td>4.994221e-07</td>\n",
       "      <td>7.927334e-09</td>\n",
       "      <td>4.360034e-08</td>\n",
       "      <td>...</td>\n",
       "      <td>1.664740e-07</td>\n",
       "      <td>0.0</td>\n",
       "      <td>0.0</td>\n",
       "      <td>1.173808e-03</td>\n",
       "      <td>8.673296e-05</td>\n",
       "      <td>0.0</td>\n",
       "      <td>0.000000e+00</td>\n",
       "      <td>0.0</td>\n",
       "      <td>1.664740e-07</td>\n",
       "      <td>0.0</td>\n",
       "    </tr>\n",
       "    <tr>\n",
       "      <th>2</th>\n",
       "      <td>0.000002</td>\n",
       "      <td>0.000014</td>\n",
       "      <td>2.279968e-07</td>\n",
       "      <td>4.179942e-07</td>\n",
       "      <td>7.047175e-08</td>\n",
       "      <td>1.907569e-07</td>\n",
       "      <td>8.866543e-08</td>\n",
       "      <td>0.000000e+00</td>\n",
       "      <td>9.686140e-09</td>\n",
       "      <td>7.078333e-09</td>\n",
       "      <td>...</td>\n",
       "      <td>0.000000e+00</td>\n",
       "      <td>0.0</td>\n",
       "      <td>0.0</td>\n",
       "      <td>3.039958e-07</td>\n",
       "      <td>5.319926e-07</td>\n",
       "      <td>0.0</td>\n",
       "      <td>3.799947e-08</td>\n",
       "      <td>0.0</td>\n",
       "      <td>0.000000e+00</td>\n",
       "      <td>0.0</td>\n",
       "    </tr>\n",
       "    <tr>\n",
       "      <th>3</th>\n",
       "      <td>0.000002</td>\n",
       "      <td>0.000008</td>\n",
       "      <td>6.835463e-08</td>\n",
       "      <td>4.329127e-07</td>\n",
       "      <td>4.683558e-08</td>\n",
       "      <td>7.147948e-08</td>\n",
       "      <td>7.020206e-08</td>\n",
       "      <td>9.113951e-08</td>\n",
       "      <td>1.724261e-09</td>\n",
       "      <td>2.586392e-09</td>\n",
       "      <td>...</td>\n",
       "      <td>0.000000e+00</td>\n",
       "      <td>0.0</td>\n",
       "      <td>0.0</td>\n",
       "      <td>4.898749e-06</td>\n",
       "      <td>1.063826e-04</td>\n",
       "      <td>0.0</td>\n",
       "      <td>2.278488e-08</td>\n",
       "      <td>0.0</td>\n",
       "      <td>0.000000e+00</td>\n",
       "      <td>0.0</td>\n",
       "    </tr>\n",
       "    <tr>\n",
       "      <th>4</th>\n",
       "      <td>0.000003</td>\n",
       "      <td>0.000036</td>\n",
       "      <td>1.493358e-06</td>\n",
       "      <td>6.892421e-07</td>\n",
       "      <td>1.723105e-07</td>\n",
       "      <td>1.374203e-06</td>\n",
       "      <td>4.435400e-07</td>\n",
       "      <td>4.594947e-07</td>\n",
       "      <td>9.572807e-09</td>\n",
       "      <td>6.381871e-09</td>\n",
       "      <td>...</td>\n",
       "      <td>0.000000e+00</td>\n",
       "      <td>0.0</td>\n",
       "      <td>0.0</td>\n",
       "      <td>8.099743e-04</td>\n",
       "      <td>2.353762e-04</td>\n",
       "      <td>0.0</td>\n",
       "      <td>0.000000e+00</td>\n",
       "      <td>0.0</td>\n",
       "      <td>1.148737e-07</td>\n",
       "      <td>0.0</td>\n",
       "    </tr>\n",
       "  </tbody>\n",
       "</table>\n",
       "<p>5 rows × 2405 columns</p>\n",
       "</div>"
      ],
      "text/plain": [
       "      총방문일수   백화점이용기간          구매주기        주말방문일수      일별평균구매건수     구매간격_표준편차  \\\n",
       "0  0.000001  0.000041  4.547622e-06  3.248301e-07  2.526457e-07  3.694097e-06   \n",
       "1  0.000003  0.000059  2.663584e-06  1.664740e-07  3.329480e-07  1.954261e-06   \n",
       "2  0.000002  0.000014  2.279968e-07  4.179942e-07  7.047175e-08  1.907569e-07   \n",
       "3  0.000002  0.000008  6.835463e-08  4.329127e-07  4.683558e-08  7.147948e-08   \n",
       "4  0.000003  0.000036  1.493358e-06  6.892421e-07  1.723105e-07  1.374203e-06   \n",
       "\n",
       "         평균구매요일         주구매요일      월요일_구매비율      화요일_구매비율  ...     주구매시간대_18  \\\n",
       "0  4.872452e-07  3.248301e-07  1.160108e-08  0.000000e+00  ...  0.000000e+00   \n",
       "1  3.844757e-07  4.994221e-07  7.927334e-09  4.360034e-08  ...  1.664740e-07   \n",
       "2  8.866543e-08  0.000000e+00  9.686140e-09  7.078333e-09  ...  0.000000e+00   \n",
       "3  7.020206e-08  9.113951e-08  1.724261e-09  2.586392e-09  ...  0.000000e+00   \n",
       "4  4.435400e-07  4.594947e-07  9.572807e-09  6.381871e-09  ...  0.000000e+00   \n",
       "\n",
       "   주구매시간대_19  주구매시간대_20   선호브랜드코드_cnt   주구매_중분류_cnt  고객등급_Black  고객등급_Diamond  \\\n",
       "0        0.0        0.0  1.624151e-07  3.832996e-05         0.0  0.000000e+00   \n",
       "1        0.0        0.0  1.173808e-03  8.673296e-05         0.0  0.000000e+00   \n",
       "2        0.0        0.0  3.039958e-07  5.319926e-07         0.0  3.799947e-08   \n",
       "3        0.0        0.0  4.898749e-06  1.063826e-04         0.0  2.278488e-08   \n",
       "4        0.0        0.0  8.099743e-04  2.353762e-04         0.0  0.000000e+00   \n",
       "\n",
       "   고객등급_Gold   고객등급_Normal  고객등급_Platinum  \n",
       "0        0.0  1.624151e-07            0.0  \n",
       "1        0.0  1.664740e-07            0.0  \n",
       "2        0.0  0.000000e+00            0.0  \n",
       "3        0.0  0.000000e+00            0.0  \n",
       "4        0.0  1.148737e-07            0.0  \n",
       "\n",
       "[5 rows x 2405 columns]"
      ]
     },
     "execution_count": 169,
     "metadata": {},
     "output_type": "execute_result"
    }
   ],
   "source": [
    "from sklearn.preprocessing import StandardScaler, MinMaxScaler, RobustScaler, PowerTransformer, Normalizer\n",
    "scaler = Normalizer()\n",
    "\n",
    "train_ft[train_ft.columns] = scaler.fit_transform(train_ft)\n",
    "test_ft[test_ft.columns] = scaler.transform(test_ft)\n",
    "train_ft.head()"
   ]
  },
  {
   "cell_type": "code",
   "execution_count": 170,
   "metadata": {},
   "outputs": [
    {
     "data": {
      "text/html": [
       "<div>\n",
       "<style scoped>\n",
       "    .dataframe tbody tr th:only-of-type {\n",
       "        vertical-align: middle;\n",
       "    }\n",
       "\n",
       "    .dataframe tbody tr th {\n",
       "        vertical-align: top;\n",
       "    }\n",
       "\n",
       "    .dataframe thead th {\n",
       "        text-align: right;\n",
       "    }\n",
       "</style>\n",
       "<table border=\"1\" class=\"dataframe\">\n",
       "  <thead>\n",
       "    <tr style=\"text-align: right;\">\n",
       "      <th></th>\n",
       "      <th>총방문일수</th>\n",
       "      <th>백화점이용기간</th>\n",
       "      <th>구매주기</th>\n",
       "      <th>주말방문일수</th>\n",
       "      <th>일별평균구매건수</th>\n",
       "      <th>구매간격_표준편차</th>\n",
       "      <th>평균구매요일</th>\n",
       "      <th>주구매요일</th>\n",
       "      <th>월요일_구매비율</th>\n",
       "      <th>화요일_구매비율</th>\n",
       "      <th>...</th>\n",
       "      <th>주구매시간대_18</th>\n",
       "      <th>주구매시간대_19</th>\n",
       "      <th>주구매시간대_20</th>\n",
       "      <th>선호브랜드코드_cnt</th>\n",
       "      <th>주구매_중분류_cnt</th>\n",
       "      <th>고객등급_Black</th>\n",
       "      <th>고객등급_Diamond</th>\n",
       "      <th>고객등급_Gold</th>\n",
       "      <th>고객등급_Normal</th>\n",
       "      <th>고객등급_Platinum</th>\n",
       "    </tr>\n",
       "  </thead>\n",
       "  <tbody>\n",
       "    <tr>\n",
       "      <th>0</th>\n",
       "      <td>1.461736e-06</td>\n",
       "      <td>0.000041</td>\n",
       "      <td>4.547622e-06</td>\n",
       "      <td>3.248301e-07</td>\n",
       "      <td>2.526457e-07</td>\n",
       "      <td>3.694097e-06</td>\n",
       "      <td>4.872452e-07</td>\n",
       "      <td>3.248301e-07</td>\n",
       "      <td>1.160108e-08</td>\n",
       "      <td>0.000000e+00</td>\n",
       "      <td>...</td>\n",
       "      <td>0.000000e+00</td>\n",
       "      <td>0.000000e+00</td>\n",
       "      <td>0.0</td>\n",
       "      <td>1.624151e-07</td>\n",
       "      <td>3.832996e-05</td>\n",
       "      <td>0.0</td>\n",
       "      <td>0.000000e+00</td>\n",
       "      <td>0.0</td>\n",
       "      <td>1.624151e-07</td>\n",
       "      <td>0.0</td>\n",
       "    </tr>\n",
       "    <tr>\n",
       "      <th>1</th>\n",
       "      <td>3.495954e-06</td>\n",
       "      <td>0.000059</td>\n",
       "      <td>2.663584e-06</td>\n",
       "      <td>1.664740e-07</td>\n",
       "      <td>3.329480e-07</td>\n",
       "      <td>1.954261e-06</td>\n",
       "      <td>3.844757e-07</td>\n",
       "      <td>4.994221e-07</td>\n",
       "      <td>7.927334e-09</td>\n",
       "      <td>4.360034e-08</td>\n",
       "      <td>...</td>\n",
       "      <td>1.664740e-07</td>\n",
       "      <td>0.000000e+00</td>\n",
       "      <td>0.0</td>\n",
       "      <td>1.173808e-03</td>\n",
       "      <td>8.673296e-05</td>\n",
       "      <td>0.0</td>\n",
       "      <td>0.000000e+00</td>\n",
       "      <td>0.0</td>\n",
       "      <td>1.664740e-07</td>\n",
       "      <td>0.0</td>\n",
       "    </tr>\n",
       "    <tr>\n",
       "      <th>2</th>\n",
       "      <td>2.089971e-06</td>\n",
       "      <td>0.000014</td>\n",
       "      <td>2.279968e-07</td>\n",
       "      <td>4.179942e-07</td>\n",
       "      <td>7.047175e-08</td>\n",
       "      <td>1.907569e-07</td>\n",
       "      <td>8.866543e-08</td>\n",
       "      <td>0.000000e+00</td>\n",
       "      <td>9.686140e-09</td>\n",
       "      <td>7.078333e-09</td>\n",
       "      <td>...</td>\n",
       "      <td>0.000000e+00</td>\n",
       "      <td>0.000000e+00</td>\n",
       "      <td>0.0</td>\n",
       "      <td>3.039958e-07</td>\n",
       "      <td>5.319926e-07</td>\n",
       "      <td>0.0</td>\n",
       "      <td>3.799947e-08</td>\n",
       "      <td>0.0</td>\n",
       "      <td>0.000000e+00</td>\n",
       "      <td>0.0</td>\n",
       "    </tr>\n",
       "    <tr>\n",
       "      <th>3</th>\n",
       "      <td>2.050639e-06</td>\n",
       "      <td>0.000008</td>\n",
       "      <td>6.835463e-08</td>\n",
       "      <td>4.329127e-07</td>\n",
       "      <td>4.683558e-08</td>\n",
       "      <td>7.147948e-08</td>\n",
       "      <td>7.020206e-08</td>\n",
       "      <td>9.113951e-08</td>\n",
       "      <td>1.724261e-09</td>\n",
       "      <td>2.586392e-09</td>\n",
       "      <td>...</td>\n",
       "      <td>0.000000e+00</td>\n",
       "      <td>0.000000e+00</td>\n",
       "      <td>0.0</td>\n",
       "      <td>4.898749e-06</td>\n",
       "      <td>1.063826e-04</td>\n",
       "      <td>0.0</td>\n",
       "      <td>2.278488e-08</td>\n",
       "      <td>0.0</td>\n",
       "      <td>0.000000e+00</td>\n",
       "      <td>0.0</td>\n",
       "    </tr>\n",
       "    <tr>\n",
       "      <th>4</th>\n",
       "      <td>2.756968e-06</td>\n",
       "      <td>0.000036</td>\n",
       "      <td>1.493358e-06</td>\n",
       "      <td>6.892421e-07</td>\n",
       "      <td>1.723105e-07</td>\n",
       "      <td>1.374203e-06</td>\n",
       "      <td>4.435400e-07</td>\n",
       "      <td>4.594947e-07</td>\n",
       "      <td>9.572807e-09</td>\n",
       "      <td>6.381871e-09</td>\n",
       "      <td>...</td>\n",
       "      <td>0.000000e+00</td>\n",
       "      <td>0.000000e+00</td>\n",
       "      <td>0.0</td>\n",
       "      <td>8.099743e-04</td>\n",
       "      <td>2.353762e-04</td>\n",
       "      <td>0.0</td>\n",
       "      <td>0.000000e+00</td>\n",
       "      <td>0.0</td>\n",
       "      <td>1.148737e-07</td>\n",
       "      <td>0.0</td>\n",
       "    </tr>\n",
       "    <tr>\n",
       "      <th>...</th>\n",
       "      <td>...</td>\n",
       "      <td>...</td>\n",
       "      <td>...</td>\n",
       "      <td>...</td>\n",
       "      <td>...</td>\n",
       "      <td>...</td>\n",
       "      <td>...</td>\n",
       "      <td>...</td>\n",
       "      <td>...</td>\n",
       "      <td>...</td>\n",
       "      <td>...</td>\n",
       "      <td>...</td>\n",
       "      <td>...</td>\n",
       "      <td>...</td>\n",
       "      <td>...</td>\n",
       "      <td>...</td>\n",
       "      <td>...</td>\n",
       "      <td>...</td>\n",
       "      <td>...</td>\n",
       "      <td>...</td>\n",
       "      <td>...</td>\n",
       "    </tr>\n",
       "    <tr>\n",
       "      <th>14935</th>\n",
       "      <td>5.591171e-06</td>\n",
       "      <td>0.000152</td>\n",
       "      <td>1.677351e-05</td>\n",
       "      <td>1.242482e-06</td>\n",
       "      <td>1.173456e-06</td>\n",
       "      <td>1.249494e-05</td>\n",
       "      <td>1.936811e-06</td>\n",
       "      <td>1.242482e-06</td>\n",
       "      <td>3.654360e-08</td>\n",
       "      <td>0.000000e+00</td>\n",
       "      <td>...</td>\n",
       "      <td>0.000000e+00</td>\n",
       "      <td>0.000000e+00</td>\n",
       "      <td>0.0</td>\n",
       "      <td>1.950697e-04</td>\n",
       "      <td>7.020025e-05</td>\n",
       "      <td>0.0</td>\n",
       "      <td>0.000000e+00</td>\n",
       "      <td>0.0</td>\n",
       "      <td>6.212412e-07</td>\n",
       "      <td>0.0</td>\n",
       "    </tr>\n",
       "    <tr>\n",
       "      <th>14936</th>\n",
       "      <td>9.588027e-07</td>\n",
       "      <td>0.000056</td>\n",
       "      <td>1.390264e-05</td>\n",
       "      <td>2.397007e-07</td>\n",
       "      <td>2.397007e-07</td>\n",
       "      <td>5.108618e-06</td>\n",
       "      <td>9.588027e-07</td>\n",
       "      <td>9.588027e-07</td>\n",
       "      <td>0.000000e+00</td>\n",
       "      <td>0.000000e+00</td>\n",
       "      <td>...</td>\n",
       "      <td>0.000000e+00</td>\n",
       "      <td>2.397007e-07</td>\n",
       "      <td>0.0</td>\n",
       "      <td>1.869665e-05</td>\n",
       "      <td>2.397007e-07</td>\n",
       "      <td>0.0</td>\n",
       "      <td>0.000000e+00</td>\n",
       "      <td>0.0</td>\n",
       "      <td>2.397007e-07</td>\n",
       "      <td>0.0</td>\n",
       "    </tr>\n",
       "    <tr>\n",
       "      <th>14937</th>\n",
       "      <td>1.087925e-05</td>\n",
       "      <td>0.000292</td>\n",
       "      <td>2.357170e-05</td>\n",
       "      <td>1.813208e-06</td>\n",
       "      <td>1.813208e-06</td>\n",
       "      <td>1.978243e-05</td>\n",
       "      <td>1.586557e-06</td>\n",
       "      <td>9.066040e-07</td>\n",
       "      <td>3.777517e-08</td>\n",
       "      <td>4.155268e-07</td>\n",
       "      <td>...</td>\n",
       "      <td>0.000000e+00</td>\n",
       "      <td>0.000000e+00</td>\n",
       "      <td>0.0</td>\n",
       "      <td>6.392465e-03</td>\n",
       "      <td>5.711605e-05</td>\n",
       "      <td>0.0</td>\n",
       "      <td>0.000000e+00</td>\n",
       "      <td>0.0</td>\n",
       "      <td>9.066040e-07</td>\n",
       "      <td>0.0</td>\n",
       "    </tr>\n",
       "    <tr>\n",
       "      <th>14938</th>\n",
       "      <td>2.387476e-06</td>\n",
       "      <td>0.000068</td>\n",
       "      <td>5.570778e-06</td>\n",
       "      <td>3.979127e-07</td>\n",
       "      <td>5.471300e-07</td>\n",
       "      <td>4.522938e-06</td>\n",
       "      <td>6.089271e-07</td>\n",
       "      <td>5.968691e-07</td>\n",
       "      <td>0.000000e+00</td>\n",
       "      <td>4.823185e-08</td>\n",
       "      <td>...</td>\n",
       "      <td>0.000000e+00</td>\n",
       "      <td>0.000000e+00</td>\n",
       "      <td>0.0</td>\n",
       "      <td>2.984345e-06</td>\n",
       "      <td>1.036563e-04</td>\n",
       "      <td>0.0</td>\n",
       "      <td>0.000000e+00</td>\n",
       "      <td>0.0</td>\n",
       "      <td>1.989564e-07</td>\n",
       "      <td>0.0</td>\n",
       "    </tr>\n",
       "    <tr>\n",
       "      <th>14939</th>\n",
       "      <td>3.818270e-06</td>\n",
       "      <td>0.000097</td>\n",
       "      <td>9.545675e-06</td>\n",
       "      <td>3.818270e-07</td>\n",
       "      <td>6.872886e-07</td>\n",
       "      <td>8.935688e-06</td>\n",
       "      <td>1.293969e-06</td>\n",
       "      <td>1.145481e-06</td>\n",
       "      <td>0.000000e+00</td>\n",
       "      <td>0.000000e+00</td>\n",
       "      <td>...</td>\n",
       "      <td>0.000000e+00</td>\n",
       "      <td>0.000000e+00</td>\n",
       "      <td>0.0</td>\n",
       "      <td>7.636540e-07</td>\n",
       "      <td>3.321895e-05</td>\n",
       "      <td>0.0</td>\n",
       "      <td>0.000000e+00</td>\n",
       "      <td>0.0</td>\n",
       "      <td>3.818270e-07</td>\n",
       "      <td>0.0</td>\n",
       "    </tr>\n",
       "  </tbody>\n",
       "</table>\n",
       "<p>14940 rows × 2405 columns</p>\n",
       "</div>"
      ],
      "text/plain": [
       "              총방문일수   백화점이용기간          구매주기        주말방문일수      일별평균구매건수  \\\n",
       "0      1.461736e-06  0.000041  4.547622e-06  3.248301e-07  2.526457e-07   \n",
       "1      3.495954e-06  0.000059  2.663584e-06  1.664740e-07  3.329480e-07   \n",
       "2      2.089971e-06  0.000014  2.279968e-07  4.179942e-07  7.047175e-08   \n",
       "3      2.050639e-06  0.000008  6.835463e-08  4.329127e-07  4.683558e-08   \n",
       "4      2.756968e-06  0.000036  1.493358e-06  6.892421e-07  1.723105e-07   \n",
       "...             ...       ...           ...           ...           ...   \n",
       "14935  5.591171e-06  0.000152  1.677351e-05  1.242482e-06  1.173456e-06   \n",
       "14936  9.588027e-07  0.000056  1.390264e-05  2.397007e-07  2.397007e-07   \n",
       "14937  1.087925e-05  0.000292  2.357170e-05  1.813208e-06  1.813208e-06   \n",
       "14938  2.387476e-06  0.000068  5.570778e-06  3.979127e-07  5.471300e-07   \n",
       "14939  3.818270e-06  0.000097  9.545675e-06  3.818270e-07  6.872886e-07   \n",
       "\n",
       "          구매간격_표준편차        평균구매요일         주구매요일      월요일_구매비율      화요일_구매비율  \\\n",
       "0      3.694097e-06  4.872452e-07  3.248301e-07  1.160108e-08  0.000000e+00   \n",
       "1      1.954261e-06  3.844757e-07  4.994221e-07  7.927334e-09  4.360034e-08   \n",
       "2      1.907569e-07  8.866543e-08  0.000000e+00  9.686140e-09  7.078333e-09   \n",
       "3      7.147948e-08  7.020206e-08  9.113951e-08  1.724261e-09  2.586392e-09   \n",
       "4      1.374203e-06  4.435400e-07  4.594947e-07  9.572807e-09  6.381871e-09   \n",
       "...             ...           ...           ...           ...           ...   \n",
       "14935  1.249494e-05  1.936811e-06  1.242482e-06  3.654360e-08  0.000000e+00   \n",
       "14936  5.108618e-06  9.588027e-07  9.588027e-07  0.000000e+00  0.000000e+00   \n",
       "14937  1.978243e-05  1.586557e-06  9.066040e-07  3.777517e-08  4.155268e-07   \n",
       "14938  4.522938e-06  6.089271e-07  5.968691e-07  0.000000e+00  4.823185e-08   \n",
       "14939  8.935688e-06  1.293969e-06  1.145481e-06  0.000000e+00  0.000000e+00   \n",
       "\n",
       "       ...     주구매시간대_18     주구매시간대_19  주구매시간대_20   선호브랜드코드_cnt   주구매_중분류_cnt  \\\n",
       "0      ...  0.000000e+00  0.000000e+00        0.0  1.624151e-07  3.832996e-05   \n",
       "1      ...  1.664740e-07  0.000000e+00        0.0  1.173808e-03  8.673296e-05   \n",
       "2      ...  0.000000e+00  0.000000e+00        0.0  3.039958e-07  5.319926e-07   \n",
       "3      ...  0.000000e+00  0.000000e+00        0.0  4.898749e-06  1.063826e-04   \n",
       "4      ...  0.000000e+00  0.000000e+00        0.0  8.099743e-04  2.353762e-04   \n",
       "...    ...           ...           ...        ...           ...           ...   \n",
       "14935  ...  0.000000e+00  0.000000e+00        0.0  1.950697e-04  7.020025e-05   \n",
       "14936  ...  0.000000e+00  2.397007e-07        0.0  1.869665e-05  2.397007e-07   \n",
       "14937  ...  0.000000e+00  0.000000e+00        0.0  6.392465e-03  5.711605e-05   \n",
       "14938  ...  0.000000e+00  0.000000e+00        0.0  2.984345e-06  1.036563e-04   \n",
       "14939  ...  0.000000e+00  0.000000e+00        0.0  7.636540e-07  3.321895e-05   \n",
       "\n",
       "       고객등급_Black  고객등급_Diamond  고객등급_Gold   고객등급_Normal  고객등급_Platinum  \n",
       "0             0.0  0.000000e+00        0.0  1.624151e-07            0.0  \n",
       "1             0.0  0.000000e+00        0.0  1.664740e-07            0.0  \n",
       "2             0.0  3.799947e-08        0.0  0.000000e+00            0.0  \n",
       "3             0.0  2.278488e-08        0.0  0.000000e+00            0.0  \n",
       "4             0.0  0.000000e+00        0.0  1.148737e-07            0.0  \n",
       "...           ...           ...        ...           ...            ...  \n",
       "14935         0.0  0.000000e+00        0.0  6.212412e-07            0.0  \n",
       "14936         0.0  0.000000e+00        0.0  2.397007e-07            0.0  \n",
       "14937         0.0  0.000000e+00        0.0  9.066040e-07            0.0  \n",
       "14938         0.0  0.000000e+00        0.0  1.989564e-07            0.0  \n",
       "14939         0.0  0.000000e+00        0.0  3.818270e-07            0.0  \n",
       "\n",
       "[14940 rows x 2405 columns]"
      ]
     },
     "execution_count": 170,
     "metadata": {},
     "output_type": "execute_result"
    }
   ],
   "source": [
    "train_ft"
   ]
  },
  {
   "cell_type": "code",
   "execution_count": null,
   "metadata": {},
   "outputs": [],
   "source": []
  },
  {
   "cell_type": "code",
   "execution_count": 171,
   "metadata": {},
   "outputs": [
    {
     "data": {
      "text/html": [
       "<div>\n",
       "<style scoped>\n",
       "    .dataframe tbody tr th:only-of-type {\n",
       "        vertical-align: middle;\n",
       "    }\n",
       "\n",
       "    .dataframe tbody tr th {\n",
       "        vertical-align: top;\n",
       "    }\n",
       "\n",
       "    .dataframe thead th {\n",
       "        text-align: right;\n",
       "    }\n",
       "</style>\n",
       "<table border=\"1\" class=\"dataframe\">\n",
       "  <thead>\n",
       "    <tr style=\"text-align: right;\">\n",
       "      <th></th>\n",
       "      <th>총방문일수</th>\n",
       "      <th>백화점이용기간</th>\n",
       "      <th>구매주기</th>\n",
       "      <th>주말방문일수</th>\n",
       "      <th>일별평균구매건수</th>\n",
       "      <th>구매간격_표준편차</th>\n",
       "      <th>평균구매요일</th>\n",
       "      <th>주구매요일</th>\n",
       "      <th>월요일_구매비율</th>\n",
       "      <th>화요일_구매비율</th>\n",
       "      <th>...</th>\n",
       "      <th>주구매시간대_18</th>\n",
       "      <th>주구매시간대_19</th>\n",
       "      <th>주구매시간대_20</th>\n",
       "      <th>선호브랜드코드_cnt</th>\n",
       "      <th>주구매_중분류_cnt</th>\n",
       "      <th>고객등급_Black</th>\n",
       "      <th>고객등급_Diamond</th>\n",
       "      <th>고객등급_Gold</th>\n",
       "      <th>고객등급_Normal</th>\n",
       "      <th>고객등급_Platinum</th>\n",
       "    </tr>\n",
       "  </thead>\n",
       "  <tbody>\n",
       "    <tr>\n",
       "      <th>0</th>\n",
       "      <td>0.000001</td>\n",
       "      <td>0.000041</td>\n",
       "      <td>4.547622e-06</td>\n",
       "      <td>3.248301e-07</td>\n",
       "      <td>2.526457e-07</td>\n",
       "      <td>3.694097e-06</td>\n",
       "      <td>4.872452e-07</td>\n",
       "      <td>3.248301e-07</td>\n",
       "      <td>1.160108e-08</td>\n",
       "      <td>0.000000e+00</td>\n",
       "      <td>...</td>\n",
       "      <td>0.000000e+00</td>\n",
       "      <td>0.0</td>\n",
       "      <td>0.0</td>\n",
       "      <td>1.624151e-07</td>\n",
       "      <td>3.832996e-05</td>\n",
       "      <td>0.0</td>\n",
       "      <td>0.000000e+00</td>\n",
       "      <td>0.0</td>\n",
       "      <td>1.624151e-07</td>\n",
       "      <td>0.0</td>\n",
       "    </tr>\n",
       "    <tr>\n",
       "      <th>1</th>\n",
       "      <td>0.000003</td>\n",
       "      <td>0.000059</td>\n",
       "      <td>2.663584e-06</td>\n",
       "      <td>1.664740e-07</td>\n",
       "      <td>3.329480e-07</td>\n",
       "      <td>1.954261e-06</td>\n",
       "      <td>3.844757e-07</td>\n",
       "      <td>4.994221e-07</td>\n",
       "      <td>7.927334e-09</td>\n",
       "      <td>4.360034e-08</td>\n",
       "      <td>...</td>\n",
       "      <td>1.664740e-07</td>\n",
       "      <td>0.0</td>\n",
       "      <td>0.0</td>\n",
       "      <td>1.173808e-03</td>\n",
       "      <td>8.673296e-05</td>\n",
       "      <td>0.0</td>\n",
       "      <td>0.000000e+00</td>\n",
       "      <td>0.0</td>\n",
       "      <td>1.664740e-07</td>\n",
       "      <td>0.0</td>\n",
       "    </tr>\n",
       "    <tr>\n",
       "      <th>2</th>\n",
       "      <td>0.000002</td>\n",
       "      <td>0.000014</td>\n",
       "      <td>2.279968e-07</td>\n",
       "      <td>4.179942e-07</td>\n",
       "      <td>7.047175e-08</td>\n",
       "      <td>1.907569e-07</td>\n",
       "      <td>8.866543e-08</td>\n",
       "      <td>0.000000e+00</td>\n",
       "      <td>9.686140e-09</td>\n",
       "      <td>7.078333e-09</td>\n",
       "      <td>...</td>\n",
       "      <td>0.000000e+00</td>\n",
       "      <td>0.0</td>\n",
       "      <td>0.0</td>\n",
       "      <td>3.039958e-07</td>\n",
       "      <td>5.319926e-07</td>\n",
       "      <td>0.0</td>\n",
       "      <td>3.799947e-08</td>\n",
       "      <td>0.0</td>\n",
       "      <td>0.000000e+00</td>\n",
       "      <td>0.0</td>\n",
       "    </tr>\n",
       "    <tr>\n",
       "      <th>3</th>\n",
       "      <td>0.000002</td>\n",
       "      <td>0.000008</td>\n",
       "      <td>6.835463e-08</td>\n",
       "      <td>4.329127e-07</td>\n",
       "      <td>4.683558e-08</td>\n",
       "      <td>7.147948e-08</td>\n",
       "      <td>7.020206e-08</td>\n",
       "      <td>9.113951e-08</td>\n",
       "      <td>1.724261e-09</td>\n",
       "      <td>2.586392e-09</td>\n",
       "      <td>...</td>\n",
       "      <td>0.000000e+00</td>\n",
       "      <td>0.0</td>\n",
       "      <td>0.0</td>\n",
       "      <td>4.898749e-06</td>\n",
       "      <td>1.063826e-04</td>\n",
       "      <td>0.0</td>\n",
       "      <td>2.278488e-08</td>\n",
       "      <td>0.0</td>\n",
       "      <td>0.000000e+00</td>\n",
       "      <td>0.0</td>\n",
       "    </tr>\n",
       "    <tr>\n",
       "      <th>4</th>\n",
       "      <td>0.000003</td>\n",
       "      <td>0.000036</td>\n",
       "      <td>1.493358e-06</td>\n",
       "      <td>6.892421e-07</td>\n",
       "      <td>1.723105e-07</td>\n",
       "      <td>1.374203e-06</td>\n",
       "      <td>4.435400e-07</td>\n",
       "      <td>4.594947e-07</td>\n",
       "      <td>9.572807e-09</td>\n",
       "      <td>6.381871e-09</td>\n",
       "      <td>...</td>\n",
       "      <td>0.000000e+00</td>\n",
       "      <td>0.0</td>\n",
       "      <td>0.0</td>\n",
       "      <td>8.099743e-04</td>\n",
       "      <td>2.353762e-04</td>\n",
       "      <td>0.0</td>\n",
       "      <td>0.000000e+00</td>\n",
       "      <td>0.0</td>\n",
       "      <td>1.148737e-07</td>\n",
       "      <td>0.0</td>\n",
       "    </tr>\n",
       "  </tbody>\n",
       "</table>\n",
       "<p>5 rows × 2405 columns</p>\n",
       "</div>"
      ],
      "text/plain": [
       "      총방문일수   백화점이용기간          구매주기        주말방문일수      일별평균구매건수     구매간격_표준편차  \\\n",
       "0  0.000001  0.000041  4.547622e-06  3.248301e-07  2.526457e-07  3.694097e-06   \n",
       "1  0.000003  0.000059  2.663584e-06  1.664740e-07  3.329480e-07  1.954261e-06   \n",
       "2  0.000002  0.000014  2.279968e-07  4.179942e-07  7.047175e-08  1.907569e-07   \n",
       "3  0.000002  0.000008  6.835463e-08  4.329127e-07  4.683558e-08  7.147948e-08   \n",
       "4  0.000003  0.000036  1.493358e-06  6.892421e-07  1.723105e-07  1.374203e-06   \n",
       "\n",
       "         평균구매요일         주구매요일      월요일_구매비율      화요일_구매비율  ...     주구매시간대_18  \\\n",
       "0  4.872452e-07  3.248301e-07  1.160108e-08  0.000000e+00  ...  0.000000e+00   \n",
       "1  3.844757e-07  4.994221e-07  7.927334e-09  4.360034e-08  ...  1.664740e-07   \n",
       "2  8.866543e-08  0.000000e+00  9.686140e-09  7.078333e-09  ...  0.000000e+00   \n",
       "3  7.020206e-08  9.113951e-08  1.724261e-09  2.586392e-09  ...  0.000000e+00   \n",
       "4  4.435400e-07  4.594947e-07  9.572807e-09  6.381871e-09  ...  0.000000e+00   \n",
       "\n",
       "   주구매시간대_19  주구매시간대_20   선호브랜드코드_cnt   주구매_중분류_cnt  고객등급_Black  고객등급_Diamond  \\\n",
       "0        0.0        0.0  1.624151e-07  3.832996e-05         0.0  0.000000e+00   \n",
       "1        0.0        0.0  1.173808e-03  8.673296e-05         0.0  0.000000e+00   \n",
       "2        0.0        0.0  3.039958e-07  5.319926e-07         0.0  3.799947e-08   \n",
       "3        0.0        0.0  4.898749e-06  1.063826e-04         0.0  2.278488e-08   \n",
       "4        0.0        0.0  8.099743e-04  2.353762e-04         0.0  0.000000e+00   \n",
       "\n",
       "   고객등급_Gold   고객등급_Normal  고객등급_Platinum  \n",
       "0        0.0  1.624151e-07            0.0  \n",
       "1        0.0  1.664740e-07            0.0  \n",
       "2        0.0  0.000000e+00            0.0  \n",
       "3        0.0  0.000000e+00            0.0  \n",
       "4        0.0  1.148737e-07            0.0  \n",
       "\n",
       "[5 rows x 2405 columns]"
      ]
     },
     "execution_count": 171,
     "metadata": {},
     "output_type": "execute_result"
    }
   ],
   "source": [
    "train_ft.head()"
   ]
  },
  {
   "cell_type": "code",
   "execution_count": null,
   "metadata": {},
   "outputs": [],
   "source": []
  },
  {
   "cell_type": "code",
   "execution_count": null,
   "metadata": {},
   "outputs": [],
   "source": []
  },
  {
   "cell_type": "code",
   "execution_count": null,
   "metadata": {},
   "outputs": [],
   "source": []
  },
  {
   "cell_type": "code",
   "execution_count": null,
   "metadata": {},
   "outputs": [],
   "source": []
  },
  {
   "cell_type": "markdown",
   "metadata": {},
   "source": [
    "# 차원축소"
   ]
  },
  {
   "cell_type": "code",
   "execution_count": 172,
   "metadata": {},
   "outputs": [],
   "source": [
    "#from sklearn.ensemble import RandomForestClassifier\n",
    "#from sklearn.model_selection import StratifiedKFold, cross_val_score\n",
    "#from xgboost import XGBClassifier\n",
    "#from lightgbm import LGBMClassifier\n",
    "\n",
    "#cv = StratifiedKFold(n_splits=5, shuffle=True, random_state=SEED)\n",
    "\n",
    "#model = LGBMClassifier(random_state=SEED)\n",
    "#model.fit(train_ft_tmp_col, target)\n",
    "\n",
    "#scores = cross_val_score(model, train_ft_tmp_col, target, cv=cv, scoring=\"f1_macro\", n_jobs=-1)\n",
    "#np.mean(scores)"
   ]
  },
  {
   "cell_type": "markdown",
   "metadata": {},
   "source": [
    "- XAI 활용"
   ]
  },
  {
   "cell_type": "code",
   "execution_count": 173,
   "metadata": {},
   "outputs": [],
   "source": [
    "#%pip install shap"
   ]
  },
  {
   "cell_type": "code",
   "execution_count": 174,
   "metadata": {},
   "outputs": [],
   "source": [
    "#%pip install numpy==2.0"
   ]
  },
  {
   "cell_type": "code",
   "execution_count": 175,
   "metadata": {},
   "outputs": [],
   "source": [
    "#import shap\n",
    "\n",
    "#explainer = shap.Explainer(model)\n",
    "#shap_values = explainer(train_ft_tmp)\n",
    "#shap.summary_plot(shap_values, train_ft_tmp)"
   ]
  },
  {
   "cell_type": "markdown",
   "metadata": {},
   "source": [
    "- SelectFromModel"
   ]
  },
  {
   "cell_type": "code",
   "execution_count": 176,
   "metadata": {},
   "outputs": [],
   "source": [
    "#from sklearn.feature_selection import SelectFromModel\n",
    "\n",
    "#rf = RandomForestClassifier(random_state=SEED)\n",
    "\n",
    "## thresholds = [\n",
    "##     'mean', 'median',\n",
    "##     '0.5*mean', '0.8*mean', '1.2*mean', '1.5*mean', '1.8*mean', '2*mean',\n",
    "##     '0.5*median', '0.8*median', '1.2*median', '1.5*median', '1.8*median', '2*median'\n",
    "## ]\n",
    "\n",
    "# thresholds = [f\"{i}*mean\" for i in np.arange(0.1, 1.1, 0.1)] # 0.5*mean 일 때 성능이 가장 높음\n",
    "# thresholds = [f\"{i}*median\" for i in np.arange(1.5, 3.6, 0.1)] # 2.5*median\n",
    "# thresholds = [f\"{i}*median\" for i in np.arange(3.5, 4.0, 0.1)] # 3.5*median\n",
    "#thresholds = ['2.5*median', '3.5*median', '0.5*mean']\n",
    "\n",
    "#for threshold in thresholds:\n",
    "#    sfm = SelectFromModel(rf, threshold=threshold)\n",
    "#    train_sfm = sfm.fit_transform(train_ft_tmp_col, target)\n",
    "\n",
    "#    scores = cross_val_score(model, train_sfm, target, cv=cv, scoring=\"f1_macro\", n_jobs=-1)\n",
    "#    print(f\"threshold={threshold}, 성능={np.mean(scores)}, 특성 수={train_sfm.shape[1]}\")"
   ]
  },
  {
   "cell_type": "code",
   "execution_count": 177,
   "metadata": {},
   "outputs": [],
   "source": [
    "#sfm = SelectFromModel(rf, threshold='3.5*median')\n",
    "#train_sfm = sfm.fit_transform(train_ft_tmp_col, target)\n",
    "\n",
    "#scores = cross_val_score(model, train_sfm, target, cv=cv, scoring=\"f1_macro\", n_jobs=-1)\n",
    "#np.mean(scores), train_sfm.shape"
   ]
  },
  {
   "cell_type": "markdown",
   "metadata": {},
   "source": [
    "- SelectKBest"
   ]
  },
  {
   "cell_type": "code",
   "execution_count": 178,
   "metadata": {},
   "outputs": [],
   "source": [
    "#from sklearn.feature_selection import SelectKBest, VarianceThreshold\n",
    "\n",
    "#vt = VarianceThreshold(threshold=0)\n",
    "#train_vt = vt.fit_transform(train_ft_tmp_col)\n",
    "#test_vt = vt.transform(test_ft_tmp_col)"
   ]
  },
  {
   "cell_type": "code",
   "execution_count": 179,
   "metadata": {},
   "outputs": [],
   "source": [
    "#for k in range(300, 1001, 50):\n",
    "#    skb = SelectKBest(k=k)\n",
    "#    train_skb = skb.fit_transform(train_vt, target)\n",
    "\n",
    "#    scores = cross_val_score(model, train_skb, target, cv=cv, scoring=\"f1_macro\", n_jobs=-1)\n",
    "#    print(f\"특성수={k}, 정확도={np.mean(scores)}\")"
   ]
  },
  {
   "cell_type": "code",
   "execution_count": 180,
   "metadata": {},
   "outputs": [],
   "source": [
    "#for k in range(590, 610):\n",
    "#    skb = SelectKBest(k=k)\n",
    "#    train_skb = skb.fit_transform(train_vt, target)\n",
    "\n",
    "#    scores = cross_val_score(model, train_skb, target, cv=cv, scoring=\"f1_macro\", n_jobs=-1)\n",
    "#    print(f\"특성수={k}, 정확도={np.mean(scores)}\")"
   ]
  },
  {
   "cell_type": "code",
   "execution_count": 181,
   "metadata": {},
   "outputs": [],
   "source": [
    "#skb = SelectKBest(k=600)\n",
    "#train_skb = skb.fit_transform(train_vt, target)\n",
    "\n",
    "#scores = cross_val_score(model, train_skb, target, cv=cv, scoring=\"f1_macro\", n_jobs=-1)\n",
    "#np.mean(scores), train_skb.shape"
   ]
  },
  {
   "cell_type": "markdown",
   "metadata": {},
   "source": [
    "- SelectPercentile"
   ]
  },
  {
   "cell_type": "code",
   "execution_count": 182,
   "metadata": {},
   "outputs": [],
   "source": [
    "#from sklearn.feature_selection import SelectPercentile\n",
    "\n",
    "# percentiles = [i for i in range(1, 100, 5)] # 16 ~ 26 / 26 ~ 41 / 56 ~ 66 / 86 이상에서 성능점수 높게나옴\n",
    "#percentiles = [i for i in range(56, 67)] # 24일 때 성능점수 가장 높음\n",
    "\n",
    "#for percentile in percentiles:\n",
    "#    sp = SelectPercentile(percentile=percentile)\n",
    "#    train_sp = sp.fit_transform(train_vt, target)\n",
    "\n",
    "#    scores = cross_val_score(model, train_sp, target, cv=cv, scoring=\"f1_macro\", n_jobs=-1)\n",
    "#    print(f\"percentile={percentile}, 성능={np.mean(scores)}, 특성 수={train_sp.shape[1]}\")"
   ]
  },
  {
   "cell_type": "code",
   "execution_count": 183,
   "metadata": {},
   "outputs": [],
   "source": [
    "#sp = SelectPercentile(percentile=24)\n",
    "#train_sp = sp.fit_transform(train_vt, target)\n",
    "\n",
    "#scores = cross_val_score(model, train_sp, target, cv=cv, scoring=\"f1_macro\", n_jobs=-1)\n",
    "#np.mean(scores), train_sp.shape"
   ]
  },
  {
   "cell_type": "markdown",
   "metadata": {},
   "source": [
    "- SelectPercentile 에서 구한 값 근처의 피처 개수에 대해 SelectKBest"
   ]
  },
  {
   "cell_type": "code",
   "execution_count": 184,
   "metadata": {},
   "outputs": [],
   "source": [
    "#for k in range(550, 561):\n",
    "#    skb = SelectKBest(k=k)\n",
    "#    train_skb = skb.fit_transform(train_sp, target)\n",
    "\n",
    "#    scores = cross_val_score(model, train_skb, target, cv=cv, scoring=\"f1_macro\", n_jobs=-1)\n",
    "#    print(f\"특성수={k}, 정확도={np.mean(scores)}\") # 특성수 569 일 때 최고성능점수"
   ]
  },
  {
   "cell_type": "code",
   "execution_count": 185,
   "metadata": {},
   "outputs": [],
   "source": [
    "#skb = SelectKBest(k=569)\n",
    "#train_skb = skb.fit_transform(train_vt, target)\n",
    "\n",
    "#scores = cross_val_score(model, train_skb, target, cv=cv, scoring=\"f1_macro\", n_jobs=-1)\n",
    "#np.mean(scores), train_skb.shape"
   ]
  },
  {
   "cell_type": "markdown",
   "metadata": {},
   "source": [
    "- PCA"
   ]
  },
  {
   "cell_type": "code",
   "execution_count": 186,
   "metadata": {},
   "outputs": [],
   "source": [
    "#from sklearn.decomposition import PCA\n",
    "\n",
    "#pca = PCA(train_ft.shape[1], random_state=SEED)\n",
    "#pca_train = pca.fit_transform(train_ft_tmp_col)\n",
    "\n",
    "#scores = cross_val_score(model, pca_train, target, cv=cv, scoring=\"f1_macro\", n_jobs=-1)\n",
    "#np.mean(scores), pca_train.shape"
   ]
  },
  {
   "cell_type": "code",
   "execution_count": 187,
   "metadata": {},
   "outputs": [],
   "source": [
    "#from sklearn.decomposition import PCA\n",
    "\n",
    "## n_components를 피처 수보다 작은 값으로 설정\n",
    "#pca = PCA(n_components=0.95, random_state=SEED)  # 데이터의 95% 분산 설명\n",
    "#pca_train = pca.fit_transform(train_ft_tmp)\n",
    "\n",
    "#scores = cross_val_score(model, pca_train, target, cv=cv, scoring=\"f1_macro\", n_jobs=-1)\n",
    "#np.mean(scores), pca_train.shape"
   ]
  },
  {
   "cell_type": "code",
   "execution_count": 188,
   "metadata": {},
   "outputs": [],
   "source": [
    "#cumsum = np.cumsum(pca.explained_variance_ratio_)\n",
    "#n_components = np.argmax(cumsum >= 0.7) + 1\n",
    "#n_components"
   ]
  },
  {
   "cell_type": "code",
   "execution_count": 189,
   "metadata": {},
   "outputs": [],
   "source": [
    "#pca = PCA(n_components, random_state=SEED)\n",
    "#x_train = pca.fit_transform(train_ft_tmp)\n",
    "\n",
    "#scores = cross_val_score(model, x_train, target, cv=cv, scoring=\"f1_macro\", n_jobs=-1)\n",
    "#np.mean(scores), x_train.shape"
   ]
  },
  {
   "cell_type": "markdown",
   "metadata": {},
   "source": [
    "- LDA"
   ]
  },
  {
   "cell_type": "code",
   "execution_count": 190,
   "metadata": {},
   "outputs": [],
   "source": [
    "#from sklearn.discriminant_analysis import LinearDiscriminantAnalysis as LDA\n",
    "#from sklearn.model_selection import train_test_split\n",
    "\n",
    "#X_train, X_val, y_train, y_val = train_test_split(\n",
    "#    train_ft_tmp_col, target, test_size=0.2, random_state=SEED\n",
    "#)\n",
    "\n",
    "#lda = LDA(n_components=1)\n",
    "#X_train_lda = lda.fit_transform(X_train, y_train)\n",
    "#X_val_lda = lda.transform(X_val)\n",
    "\n",
    "#scores = cross_val_score(model, X_train_lda, y_train, cv=cv, scoring=\"f1_macro\", n_jobs=-1)\n",
    "#np.mean(scores), X_train_lda.shape"
   ]
  },
  {
   "cell_type": "code",
   "execution_count": 191,
   "metadata": {},
   "outputs": [],
   "source": [
    "#scores = cross_val_score(model, X_val_lda, y_val, cv=cv, scoring='f1_macro', n_jobs=-1)\n",
    "#np.mean(scores)"
   ]
  },
  {
   "cell_type": "markdown",
   "metadata": {},
   "source": [
    "- RFE"
   ]
  },
  {
   "cell_type": "code",
   "execution_count": 192,
   "metadata": {},
   "outputs": [],
   "source": [
    "\n",
    "#from sklearn.feature_selection import RFE\n",
    "\n",
    "#rfe = RFE(estimator=model, n_features_to_select=500, step=50)\n",
    "#x_train_rfe = rfe.fit_transform(train_ft_tmp_col, target)\n",
    "\n",
    "#scores = cross_val_score(model, x_train_rfe, target, cv=cv, scoring=\"f1_macro\", n_jobs=-1)\n",
    "#np.mean(scores), x_train_rfe.shape"
   ]
  },
  {
   "cell_type": "markdown",
   "metadata": {},
   "source": [
    "- UMAP"
   ]
  },
  {
   "cell_type": "code",
   "execution_count": 193,
   "metadata": {},
   "outputs": [],
   "source": [
    "#%pip install umap-learn"
   ]
  },
  {
   "cell_type": "code",
   "execution_count": 194,
   "metadata": {},
   "outputs": [],
   "source": [
    "#import numpy as np\n",
    "#from sklearn.model_selection import cross_val_score\n",
    "#import umap\n",
    "#from sklearn.ensemble import RandomForestClassifier  # 예시 모델\n",
    "#from sklearn.datasets import make_classification\n",
    "\n",
    "## 예시 데이터 (사용 중인 train_ft와 target을 여기에 할당)\n",
    "#train_ft, target = make_classification(n_samples=1000, n_features=1000, random_state=42)\n",
    "\n",
    "## 1. UMAP 설정 및 변환 (차원을 500으로 줄임)\n",
    "#reducer = umap.UMAP(n_components=500, random_state=42)\n",
    "#x_train_umap = reducer.fit_transform(train_ft_tmp_col)\n",
    "\n",
    "## 2. 모델 정의\n",
    "#model = RandomForestClassifier(random_state=42)\n",
    "\n",
    "## 3. 교차 검증 (F1 매크로 스코어 평가)\n",
    "#scores = cross_val_score(model, x_train_umap, target, cv=5, scoring=\"f1_macro\", n_jobs=-1)\n",
    "#print(\"Average F1 Macro Score:\", np.mean(scores))\n",
    "#print(\"Transformed Shape:\", x_train_umap.shape)"
   ]
  },
  {
   "cell_type": "markdown",
   "metadata": {},
   "source": [
    "- 최종적으로 모델에 넣을 학습데이터"
   ]
  },
  {
   "cell_type": "code",
   "execution_count": 195,
   "metadata": {},
   "outputs": [],
   "source": [
    "#skb = SelectKBest(k=734) # 569 or 726\n",
    "#train_ft_tmptmp = skb.fit_transform(train_vt, target)\n",
    "#test_ft_tmptmp = skb.transform(test_vt)\n",
    "#train_ft_tmptmp.shape, test_ft_tmptmp.shape"
   ]
  },
  {
   "cell_type": "code",
   "execution_count": 196,
   "metadata": {},
   "outputs": [],
   "source": [
    "#sp = SelectPercentile(percentile=65)\n",
    "#train_sp = sp.fit_transform(train_vt, target)\n",
    "#test_sp = sp.transform(test_vt)\n",
    "#train_sp.shape, test_sp.shape"
   ]
  },
  {
   "cell_type": "code",
   "execution_count": 197,
   "metadata": {},
   "outputs": [],
   "source": [
    "#train_ft.shape"
   ]
  },
  {
   "cell_type": "markdown",
   "metadata": {},
   "source": [
    "# 0.9"
   ]
  },
  {
   "cell_type": "code",
   "execution_count": 198,
   "metadata": {},
   "outputs": [],
   "source": [
    "train_ft_tmp = train_ft.drop(columns=[\"pivot_브랜드코드_5171\",\n",
    "\"pivot_중분류_색조화장품\",\n",
    "\"첫구매년도\",\n",
    "\"선호브랜드코드\",\n",
    "\"마지막구매년도\",\n",
    "\"브랜드코드별_구매횟수_kurt\",\n",
    "\"선호브랜드코드_구매비율\",\n",
    "\"평균구매시간\",\n",
    "\"주구매시간대\",\n",
    "\"월별_구매비율_skew\",\n",
    "\"월별_구매비율_std\",\n",
    "\"성수기_구매집중도\",\n",
    "\"전체_성수기_구매비율\",\n",
    "\"pivot_브랜드코드_5208\",\n",
    "\"pivot_중분류_홈데코\",\n",
    "\"pivot_브랜드코드_6829\",\n",
    "\"pivot_중분류_피혁\",\n",
    "\"pivot_브랜드코드_6995\",\n",
    "\"pivot_브랜드코드_6803\",\n",
    "\"계절_구매변동성\",\n",
    "\"계절별_구매비율_std\",\n",
    "\"분기별_구매비율_std\",\n",
    "\"브랜드코드별_구매횟수_skew\",\n",
    "\"중분류별_구매횟수_skew\",\n",
    "\"주말_방문_선호도\",\n",
    "\"주말_구매비율\",\n",
    "\"대분류별_구매횟수_skew\",\n",
    "\"요일별_구매비율_std\",\n",
    "\"pivot_브랜드코드_5433\",\n",
    "\"pivot_중분류_유니섹스캐주얼\",\n",
    "\"pivot_브랜드코드_5464\",\n",
    "\"pivot_중분류_수입캐주얼\",\n",
    "\"pivot_브랜드코드_6735\",\n",
    "\"pivot_브랜드코드_6506\",\n",
    "\"중분류별_구매횟수_kurt\",\n",
    "\"주구매_중분류_화장품\",\n",
    "\"요일별_구매비율_skew\",\n",
    "\"주구매지점_이용비율\",\n",
    "\"오후_구매비율\",\n",
    "\"구매간격_평균_x\",\n",
    "\"구매간격_평균_y\",\n",
    "\"구매간격_중앙값_x\",\n",
    "\"구매간격_중앙값_y\",\n",
    "\"지점코드별_구매횟수_skew\",\n",
    "\"pivot_브랜드코드_5962\",\n",
    "\"pivot_중분류_골프(용품)\",\n",
    "\"대분류별_구매횟수_kurt\",\n",
    "\"pivot_브랜드코드_6377\",\n",
    "\"pivot_브랜드코드_6053\",\n",
    "\"구매간격_최대값_x\",\n",
    "\"구매간격_최대값_y\",\n",
    "\"구매주기\",\n",
    "\"구매금액_median\",\n",
    "\"평균구매금액\",\n",
    "\"월별_구매비율_kurt\",\n",
    "\"pivot_브랜드코드_6459\",\n",
    "\"pivot_중분류_지갑_벨트\",\n",
    "\"pivot_브랜드코드_6947\",\n",
    "\"pivot_중분류_행사구두(5F)\",\n",
    "\"지점코드별_구매횟수_std\",\n",
    "\"구매건수\",\n",
    "\"pivot_브랜드코드_5370\",\n",
    "\"pivot_중분류_손수건\",\n",
    "\"주구매요일\",\n",
    "\"평균구매요일\",\n",
    "\"pivot_브랜드코드_5930\",\n",
    "\"pivot_중분류_TOP디자이너\",\n",
    "\"년도별_구매비율_std\",\n",
    "\"pivot_브랜드코드_6411\",\n",
    "\"주구매_대분류_명품잡화\",\n",
    "\"주구매_대분류_명품\",\n",
    "\"대분류별_구매횟수_std\",\n",
    "\"중분류별_구매횟수_std\",\n",
    "\"최소환불금액\",\n",
    "\"평균환불금액\",\n",
    "\"요일별_구매비율_kurt\",\n",
    "\"월별평균구매건수\",\n",
    "\"일별평균구매건수\",\n",
    "\"방문일수_대비_구매건수\",\n",
    "\"구매간격_최소값_x\",\n",
    "\"구매간격_최소값_y\",\n",
    "\"분기별_구매비율_skew\",\n",
    "\"계절별_구매비율_skew\",\n",
    "\"백화점이용기간\",\n",
    "\"pivot_브랜드코드_5969\",\n",
    "\"pivot_중분류_유아발육기\",\n",
    "\"18시기준_구매비율_std\",\n",
    "\"pivot_브랜드코드_5749\",\n",
    "\"pivot_중분류_화장품\",\n",
    "\"총방문일수\",\n",
    "\"최소구매금액\",\n",
    "\"평일_18시이전_구매비율\",\n",
    "\"18시이전_구매비율\",\n",
    "\"pivot_브랜드코드_6977\",\n",
    "\"pivot_브랜드코드_6528\",\n",
    "\"연말연시_구매비율\",\n",
    "\"12월_구매비율\",\n",
    "\"중가제품_구매비율\",\n",
    "\"방문지점수\",\n",
    "\"평일_구매비율\"\n",
    "  ])\n"
   ]
  },
  {
   "cell_type": "code",
   "execution_count": 199,
   "metadata": {},
   "outputs": [],
   "source": [
    "test_ft_tmp = test_ft.drop(columns=[\"pivot_브랜드코드_5171\",\n",
    "\"pivot_중분류_색조화장품\",\n",
    "\"첫구매년도\",\n",
    "\"선호브랜드코드\",\n",
    "\"마지막구매년도\",\n",
    "\"브랜드코드별_구매횟수_kurt\",\n",
    "\"선호브랜드코드_구매비율\",\n",
    "\"평균구매시간\",\n",
    "\"주구매시간대\",\n",
    "\"월별_구매비율_skew\",\n",
    "\"월별_구매비율_std\",\n",
    "\"성수기_구매집중도\",\n",
    "\"전체_성수기_구매비율\",\n",
    "\"pivot_브랜드코드_5208\",\n",
    "\"pivot_중분류_홈데코\",\n",
    "\"pivot_브랜드코드_6829\",\n",
    "\"pivot_중분류_피혁\",\n",
    "\"pivot_브랜드코드_6995\",\n",
    "\"pivot_브랜드코드_6803\",\n",
    "\"계절_구매변동성\",\n",
    "\"계절별_구매비율_std\",\n",
    "\"분기별_구매비율_std\",\n",
    "\"브랜드코드별_구매횟수_skew\",\n",
    "\"중분류별_구매횟수_skew\",\n",
    "\"주말_방문_선호도\",\n",
    "\"주말_구매비율\",\n",
    "\"대분류별_구매횟수_skew\",\n",
    "\"요일별_구매비율_std\",\n",
    "\"pivot_브랜드코드_5433\",\n",
    "\"pivot_중분류_유니섹스캐주얼\",\n",
    "\"pivot_브랜드코드_5464\",\n",
    "\"pivot_중분류_수입캐주얼\",\n",
    "\"pivot_브랜드코드_6735\",\n",
    "\"pivot_브랜드코드_6506\",\n",
    "\"중분류별_구매횟수_kurt\",\n",
    "\"주구매_중분류_화장품\",\n",
    "\"요일별_구매비율_skew\",\n",
    "\"주구매지점_이용비율\",\n",
    "\"오후_구매비율\",\n",
    "\"구매간격_평균_x\",\n",
    "\"구매간격_평균_y\",\n",
    "\"구매간격_중앙값_x\",\n",
    "\"구매간격_중앙값_y\",\n",
    "\"지점코드별_구매횟수_skew\",\n",
    "\"pivot_브랜드코드_5962\",\n",
    "\"pivot_중분류_골프(용품)\",\n",
    "\"대분류별_구매횟수_kurt\",\n",
    "\"pivot_브랜드코드_6377\",\n",
    "\"pivot_브랜드코드_6053\",\n",
    "\"구매간격_최대값_x\",\n",
    "\"구매간격_최대값_y\",\n",
    "\"구매주기\",\n",
    "\"구매금액_median\",\n",
    "\"평균구매금액\",\n",
    "\"월별_구매비율_kurt\",\n",
    "\"pivot_브랜드코드_6459\",\n",
    "\"pivot_중분류_지갑_벨트\",\n",
    "\"pivot_브랜드코드_6947\",\n",
    "\"pivot_중분류_행사구두(5F)\",\n",
    "\"지점코드별_구매횟수_std\",\n",
    "\"구매건수\",\n",
    "\"pivot_브랜드코드_5370\",\n",
    "\"pivot_중분류_손수건\",\n",
    "\"주구매요일\",\n",
    "\"평균구매요일\",\n",
    "\"pivot_브랜드코드_5930\",\n",
    "\"pivot_중분류_TOP디자이너\",\n",
    "\"년도별_구매비율_std\",\n",
    "\"pivot_브랜드코드_6411\",\n",
    "\"주구매_대분류_명품잡화\",\n",
    "\"주구매_대분류_명품\",\n",
    "\"대분류별_구매횟수_std\",\n",
    "\"중분류별_구매횟수_std\",\n",
    "\"최소환불금액\",\n",
    "\"평균환불금액\",\n",
    "\"요일별_구매비율_kurt\",\n",
    "\"월별평균구매건수\",\n",
    "\"일별평균구매건수\",\n",
    "\"방문일수_대비_구매건수\",\n",
    "\"구매간격_최소값_x\",\n",
    "\"구매간격_최소값_y\",\n",
    "\"분기별_구매비율_skew\",\n",
    "\"계절별_구매비율_skew\",\n",
    "\"백화점이용기간\",\n",
    "\"pivot_브랜드코드_5969\",\n",
    "\"pivot_중분류_유아발육기\",\n",
    "\"18시기준_구매비율_std\",\n",
    "\"pivot_브랜드코드_5749\",\n",
    "\"pivot_중분류_화장품\",\n",
    "\"총방문일수\",\n",
    "\"최소구매금액\",\n",
    "\"평일_18시이전_구매비율\",\n",
    "\"18시이전_구매비율\",\n",
    "\"pivot_브랜드코드_6977\",\n",
    "\"pivot_브랜드코드_6528\",\n",
    "\"연말연시_구매비율\",\n",
    "\"12월_구매비율\",\n",
    "\"중가제품_구매비율\",\n",
    "\"방문지점수\",\n",
    "\"평일_구매비율\"\n",
    " ])\n"
   ]
  },
  {
   "cell_type": "code",
   "execution_count": null,
   "metadata": {},
   "outputs": [],
   "source": []
  },
  {
   "cell_type": "code",
   "execution_count": null,
   "metadata": {},
   "outputs": [],
   "source": []
  },
  {
   "cell_type": "code",
   "execution_count": null,
   "metadata": {},
   "outputs": [],
   "source": []
  },
  {
   "cell_type": "code",
   "execution_count": null,
   "metadata": {},
   "outputs": [],
   "source": []
  },
  {
   "cell_type": "code",
   "execution_count": null,
   "metadata": {},
   "outputs": [],
   "source": []
  },
  {
   "cell_type": "code",
   "execution_count": null,
   "metadata": {},
   "outputs": [],
   "source": []
  },
  {
   "cell_type": "markdown",
   "metadata": {
    "id": "Xlmnx5QsU8_x"
   },
   "source": [
    "# 정답 데이터"
   ]
  },
  {
   "cell_type": "code",
   "execution_count": 200,
   "metadata": {
    "colab": {
     "base_uri": "https://localhost:8080/",
     "height": 458
    },
    "executionInfo": {
     "elapsed": 5,
     "status": "ok",
     "timestamp": 1730269772367,
     "user": {
      "displayName": "koeyhi",
      "userId": "08049178071858703986"
     },
     "user_tz": -540
    },
    "id": "sawXnAciUmkJ",
    "outputId": "60f26f42-3e54-4c24-a6c8-5e547cef0a22"
   },
   "outputs": [
    {
     "data": {
      "text/plain": [
       "0        1.0\n",
       "1        1.0\n",
       "2        0.0\n",
       "3        0.0\n",
       "4        0.0\n",
       "        ... \n",
       "14935    0.0\n",
       "14936    0.0\n",
       "14937    0.0\n",
       "14938    1.0\n",
       "14939    1.0\n",
       "Name: target, Length: 14940, dtype: float64"
      ]
     },
     "execution_count": 200,
     "metadata": {},
     "output_type": "execute_result"
    }
   ],
   "source": [
    "target = train_target[\"target\"]\n",
    "target"
   ]
  },
  {
   "cell_type": "code",
   "execution_count": null,
   "metadata": {},
   "outputs": [],
   "source": []
  },
  {
   "cell_type": "markdown",
   "metadata": {},
   "source": [
    "# 앙상블"
   ]
  },
  {
   "cell_type": "code",
   "execution_count": 201,
   "metadata": {},
   "outputs": [],
   "source": [
    "from sklearn.tree import DecisionTreeClassifier\n",
    "from sklearn.linear_model import LogisticRegression\n",
    "from sklearn.neighbors import KNeighborsClassifier\n",
    "from catboost import CatBoostClassifier\n",
    "from xgboost import XGBClassifier\n",
    "from lightgbm import LGBMClassifier\n",
    "from sklearn.ensemble import RandomForestClassifier\n",
    "from sklearn.ensemble import HistGradientBoostingClassifier"
   ]
  },
  {
   "cell_type": "code",
   "execution_count": 202,
   "metadata": {},
   "outputs": [],
   "source": [
    "\n",
    "estimators = [\n",
    "   # (\"dt\", DecisionTreeClassifier(random_state=42) ),\n",
    "    #(\"hgb\", HistGradientBoostingClassifier(max_iter=200, class_weight='balanced', random_state=42) ),\n",
    "     (\"hgb\", HistGradientBoostingClassifier(max_iter=200, class_weight={0: 1, 1: 2}, random_state=42) ),\n",
    "    #(\"knn\", KNeighborsClassifier() ),\n",
    "    (\"lgb\", LGBMClassifier() ),\n",
    "    (\"cbc\", CatBoostClassifier() ),\n",
    "    (\"rfc\", RandomForestClassifier(class_weight={0: 1 ,1: 2}, random_state=42)),\n",
    "    #(\"lr\", LogisticRegression(class_weight={0: 1, 1: 2}, random_state=42))\n",
    "\n",
    "]\n",
    "\n",
    "\n",
    "\n",
    "from sklearn.ensemble import VotingClassifier\n",
    "parmas = {\n",
    "    \"estimators\": estimators,\n",
    "    \"voting\" : \"soft\",\n",
    "    \"n_jobs\" : -1\n",
    "}\n",
    "\n",
    "model = VotingClassifier(**parmas)"
   ]
  },
  {
   "cell_type": "code",
   "execution_count": 203,
   "metadata": {},
   "outputs": [],
   "source": [
    "\n",
    "from sklearn.model_selection import cross_val_score\n",
    "\n",
    "# train_ft_tmp와 target을 numpy 배열로 변환\n",
    "train_ft_X = train_ft_tmp.values  # DataFrame을 numpy 배열로 변환\n",
    "target_y = target.values        # DataFrame을 numpy 배열로 변환\n",
    "test_ft_X = test_ft_tmp.values"
   ]
  },
  {
   "cell_type": "code",
   "execution_count": 204,
   "metadata": {},
   "outputs": [
    {
     "name": "stdout",
     "output_type": "stream",
     "text": [
      "Before SMOTE - target_y distribution:\n",
      "0.0    9066\n",
      "1.0    5874\n",
      "Name: count, dtype: int64\n",
      "After SMOTE - target_y_resampled distribution:\n",
      "0.0    9066\n",
      "1.0    7706\n",
      "Name: count, dtype: int64\n",
      "Cross-Validation F1 Scores: [0.7332151  0.73274995 0.7433552  0.77061362 0.82582003]\n",
      "Mean CV F1 Score: 0.7612\n",
      "\n",
      "Train Accuracy: 0.9454\n",
      "Train F1 Score: 0.9452\n",
      "\n",
      "Classification Report:\n",
      "              precision    recall  f1-score   support\n",
      "\n",
      "         0.0       0.96      0.94      0.95      9066\n",
      "         1.0       0.93      0.95      0.94      7706\n",
      "\n",
      "    accuracy                           0.95     16772\n",
      "   macro avg       0.94      0.95      0.95     16772\n",
      "weighted avg       0.95      0.95      0.95     16772\n",
      "\n"
     ]
    }
   ],
   "source": [
    "from imblearn.over_sampling import SMOTE\n",
    "from sklearn.ensemble import VotingClassifier\n",
    "from sklearn.model_selection import cross_val_score\n",
    "from sklearn.metrics import accuracy_score, f1_score, classification_report\n",
    "import pandas as pd\n",
    "import numpy as np\n",
    "\n",
    "# SMOTE 오버샘플링 적용 (훈련 데이터 전체에 적용)\n",
    "smote = SMOTE(sampling_strategy=0.85, random_state=42)\n",
    "train_ft_X_resampled, target_y_resampled = smote.fit_resample(train_ft_X, target_y)\n",
    "\n",
    "# 클래스 분포 확인\n",
    "print(f\"Before SMOTE - target_y distribution:\\n{pd.Series(target_y).value_counts()}\")\n",
    "print(f\"After SMOTE - target_y_resampled distribution:\\n{pd.Series(target_y_resampled).value_counts()}\")\n",
    "\n",
    "# 모델 생성\n",
    "model = VotingClassifier(**parmas)\n",
    "\n",
    "# 교차 검증 점수 계산 (훈련 데이터 전체로)\n",
    "cv_scores = cross_val_score(model, train_ft_X_resampled, target_y_resampled, cv=5, scoring='f1_macro', n_jobs=-1)\n",
    "print(f\"Cross-Validation F1 Scores: {cv_scores}\")\n",
    "print(f\"Mean CV F1 Score: {cv_scores.mean():.4f}\\n\")\n",
    "\n",
    "# 모델 학습\n",
    "model.fit(train_ft_X_resampled, target_y_resampled)\n",
    "\n",
    "# 훈련 데이터 자체 평가 (검증 데이터 없이 전체 데이터 사용)\n",
    "y_pred = model.predict(train_ft_X_resampled)\n",
    "\n",
    "accuracy = accuracy_score(target_y_resampled, y_pred)\n",
    "f1 = f1_score(target_y_resampled, y_pred, average='macro')\n",
    "\n",
    "print(f\"Train Accuracy: {accuracy:.4f}\")\n",
    "print(f\"Train F1 Score: {f1:.4f}\")\n",
    "print(\"\\nClassification Report:\")\n",
    "print(classification_report(target_y_resampled, y_pred))\n",
    "\n",
    "# 테스트 데이터 예측\n",
    "test_predictions = model.predict(test_ft_X)"
   ]
  },
  {
   "cell_type": "code",
   "execution_count": 205,
   "metadata": {},
   "outputs": [],
   "source": [
    "test_probabilities = model.predict_proba(test_ft_X)"
   ]
  },
  {
   "cell_type": "code",
   "execution_count": 206,
   "metadata": {},
   "outputs": [
    {
     "data": {
      "text/plain": [
       "array([[0.87805403, 0.12194597],\n",
       "       [0.52934913, 0.47065087],\n",
       "       [0.41355844, 0.58644156],\n",
       "       ...,\n",
       "       [0.86845732, 0.13154268],\n",
       "       [0.70307708, 0.29692292],\n",
       "       [0.96546395, 0.03453605]])"
      ]
     },
     "execution_count": 206,
     "metadata": {},
     "output_type": "execute_result"
    }
   ],
   "source": [
    "test_probabilities"
   ]
  },
  {
   "cell_type": "code",
   "execution_count": 210,
   "metadata": {},
   "outputs": [],
   "source": [
    "\n",
    "# ID와 예측 확률을 결합\n",
    "submission = pd.DataFrame({\n",
    "    'ID': submit['ID'],  # 테스트 데이터의 ID\n",
    "    'target': test_probabilities[:,1]  # 클래스 1에 대한 확률값\n",
    "})"
   ]
  },
  {
   "cell_type": "code",
   "execution_count": 212,
   "metadata": {},
   "outputs": [
    {
     "name": "stdout",
     "output_type": "stream",
     "text": [
      "제출 파일이 'submission.csv'로 저장되었습니다.\n"
     ]
    }
   ],
   "source": [
    "submission.to_csv('../submit/data/submit_이지은.csv', index=False)\n",
    "\n",
    "print(\"제출 파일이 'submission.csv'로 저장되었습니다.\")"
   ]
  },
  {
   "cell_type": "code",
   "execution_count": null,
   "metadata": {},
   "outputs": [],
   "source": [
    "# submit[\"target\"] = test_predictions\n",
    "# submit\n",
    "# submit.to_csv(\"../submit/data/submit_1114_.csv\",index=False)"
   ]
  },
  {
   "cell_type": "code",
   "execution_count": null,
   "metadata": {},
   "outputs": [],
   "source": []
  },
  {
   "cell_type": "code",
   "execution_count": null,
   "metadata": {},
   "outputs": [],
   "source": []
  }
 ],
 "metadata": {
  "colab": {
   "provenance": []
  },
  "kernelspec": {
   "display_name": "Python 3",
   "name": "python3"
  },
  "language_info": {
   "codemirror_mode": {
    "name": "ipython",
    "version": 3
   },
   "file_extension": ".py",
   "mimetype": "text/x-python",
   "name": "python",
   "nbconvert_exporter": "python",
   "pygments_lexer": "ipython3",
   "version": "3.10.8"
  }
 },
 "nbformat": 4,
 "nbformat_minor": 0
}
