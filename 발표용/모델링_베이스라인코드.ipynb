{
 "cells": [
  {
   "cell_type": "code",
   "execution_count": 135,
   "metadata": {},
   "outputs": [
    {
     "name": "stderr",
     "output_type": "stream",
     "text": [
      "'sudo'��(��) ���� �Ǵ� �ܺ� ����, ������ �� �ִ� ���α׷�, �Ǵ�\n",
      "��ġ ������ �ƴմϴ�.\n"
     ]
    },
    {
     "name": "stderr",
     "output_type": "stream",
     "text": [
      "'sudo'��(��) ���� �Ǵ� �ܺ� ����, ������ �� �ִ� ���α׷�, �Ǵ�\n",
      "��ġ ������ �ƴմϴ�.\n"
     ]
    }
   ],
   "source": [
    "import matplotlib\n",
    "from matplotlib import font_manager\n",
    "\n",
    "!sudo apt-get install -y fonts-nanum\n",
    "!sudo fc-cache -fv\n",
    "\n",
    "fontpaths = [\"C:/Users/kwon3/AppData/Local/Microsoft/Windows/Fonts/NanumGothicBold.ttf\"]\n",
    "font_files = font_manager.findSystemFonts(fontpaths=fontpaths)\n",
    "\n",
    "for ff in font_files:\n",
    "    font_manager.fontManager.addfont(ff)\n",
    "\n",
    "matplotlib.rc('font', family=\"Malgun Gothic\")\n",
    "matplotlib.rcParams['axes.unicode_minus'] = False"
   ]
  },
  {
   "cell_type": "code",
   "execution_count": 136,
   "metadata": {
    "colab": {
     "base_uri": "https://localhost:8080/"
    },
    "executionInfo": {
     "elapsed": 2373,
     "status": "ok",
     "timestamp": 1730269751697,
     "user": {
      "displayName": "koeyhi",
      "userId": "08049178071858703986"
     },
     "user_tz": -540
    },
    "id": "N44QYORV8wFy",
    "outputId": "c67d746e-c038-46c3-c4a6-12e2bfb4c4c2"
   },
   "outputs": [],
   "source": [
    "# from google.colab import drive\n",
    "# drive.mount('/content/drive')"
   ]
  },
  {
   "cell_type": "markdown",
   "metadata": {
    "id": "ZhUuXRB5BCFE"
   },
   "source": [
    "- 데이터 경로 변수"
   ]
  },
  {
   "cell_type": "code",
   "execution_count": 137,
   "metadata": {
    "colab": {
     "base_uri": "https://localhost:8080/",
     "height": 35
    },
    "executionInfo": {
     "elapsed": 4,
     "status": "ok",
     "timestamp": 1730269751697,
     "user": {
      "displayName": "koeyhi",
      "userId": "08049178071858703986"
     },
     "user_tz": -540
    },
    "id": "NfX2HPof87FT",
    "outputId": "c78f61ea-4061-4239-8d9a-69596aaea196"
   },
   "outputs": [],
   "source": [
    "# DATA_PATH = \"/content/drive/MyDrive/파이널프로젝트/data/\"\n",
    "# DATA_PATH"
   ]
  },
  {
   "cell_type": "code",
   "execution_count": 138,
   "metadata": {},
   "outputs": [
    {
     "data": {
      "text/plain": [
       "'data/'"
      ]
     },
     "execution_count": 138,
     "metadata": {},
     "output_type": "execute_result"
    }
   ],
   "source": [
    "DATA_PATH = \"data/\"\n",
    "DATA_PATH"
   ]
  },
  {
   "cell_type": "markdown",
   "metadata": {
    "id": "q1qAeLjZVWZz"
   },
   "source": [
    "- 시드값"
   ]
  },
  {
   "cell_type": "code",
   "execution_count": 139,
   "metadata": {
    "executionInfo": {
     "elapsed": 3,
     "status": "ok",
     "timestamp": 1730269751697,
     "user": {
      "displayName": "koeyhi",
      "userId": "08049178071858703986"
     },
     "user_tz": -540
    },
    "id": "nVyhJ6uOVVNE"
   },
   "outputs": [],
   "source": [
    "SEED = 42"
   ]
  },
  {
   "cell_type": "markdown",
   "metadata": {
    "id": "sQd7JpzNBHa1"
   },
   "source": [
    "- 데이터 불러오기"
   ]
  },
  {
   "cell_type": "code",
   "execution_count": 140,
   "metadata": {
    "colab": {
     "base_uri": "https://localhost:8080/"
    },
    "executionInfo": {
     "elapsed": 3363,
     "status": "ok",
     "timestamp": 1730269755057,
     "user": {
      "displayName": "koeyhi",
      "userId": "08049178071858703986"
     },
     "user_tz": -540
    },
    "id": "KFGKUIWt89fZ",
    "outputId": "71de9db2-3cde-484d-bf38-d478119d222f"
   },
   "outputs": [
    {
     "data": {
      "text/plain": [
       "((523105, 7), (14940, 2), (441196, 7), (12225, 2))"
      ]
     },
     "execution_count": 140,
     "metadata": {},
     "output_type": "execute_result"
    }
   ],
   "source": [
    "import pandas as pd\n",
    "import numpy as np\n",
    "\n",
    "train_tr = pd.read_csv(f\"{DATA_PATH}store_train_transactions.csv\") # 학습용 구매기록 데이터\n",
    "train_target = pd.read_csv(f\"{DATA_PATH}store_train.csv\") # 학습용 정답 데이터\n",
    "test_tr = pd.read_csv(f\"{DATA_PATH}store_test_transactions.csv\") # 테스트용 구매기록 데이터\n",
    "submit = pd.read_csv(f\"{DATA_PATH}store_submission.csv\") # 제출 양식 데이터\n",
    "\n",
    "train_tr.shape , train_target.shape , test_tr.shape , submit.shape"
   ]
  },
  {
   "cell_type": "markdown",
   "metadata": {
    "id": "XZq4x4CuP2gr"
   },
   "source": [
    "- 공통 피처 파일 불러오기"
   ]
  },
  {
   "cell_type": "code",
   "execution_count": 141,
   "metadata": {
    "colab": {
     "base_uri": "https://localhost:8080/"
    },
    "executionInfo": {
     "elapsed": 1741,
     "status": "ok",
     "timestamp": 1730269756796,
     "user": {
      "displayName": "koeyhi",
      "userId": "08049178071858703986"
     },
     "user_tz": -540
    },
    "id": "T3tcFrkLPv1g",
    "outputId": "31ea41a2-0d8b-4e97-c431-e584aab30619"
   },
   "outputs": [
    {
     "data": {
      "text/plain": [
       "((14940, 2310), (12225, 2310))"
      ]
     },
     "execution_count": 141,
     "metadata": {},
     "output_type": "execute_result"
    }
   ],
   "source": [
    "train_ft = pd.read_csv(f\"{DATA_PATH}train_common.csv\") # 학습 데이터(피처)\n",
    "test_ft = pd.read_csv(f\"{DATA_PATH}test_common.csv\") # 테스트 데이터(피처)\n",
    "\n",
    "train_ft.shape , test_ft.shape"
   ]
  },
  {
   "cell_type": "markdown",
   "metadata": {},
   "source": [
    "- 정답 데이터"
   ]
  },
  {
   "cell_type": "code",
   "execution_count": 142,
   "metadata": {},
   "outputs": [
    {
     "data": {
      "text/plain": [
       "0        1.0\n",
       "1        1.0\n",
       "2        0.0\n",
       "3        0.0\n",
       "4        0.0\n",
       "        ... \n",
       "14935    0.0\n",
       "14936    0.0\n",
       "14937    0.0\n",
       "14938    1.0\n",
       "14939    1.0\n",
       "Name: target, Length: 14940, dtype: float64"
      ]
     },
     "execution_count": 142,
     "metadata": {},
     "output_type": "execute_result"
    }
   ],
   "source": [
    "target = train_target[\"target\"]\n",
    "target"
   ]
  },
  {
   "cell_type": "markdown",
   "metadata": {
    "id": "r43SCHUujW-f"
   },
   "source": [
    "# 결측치 처리"
   ]
  },
  {
   "cell_type": "code",
   "execution_count": 143,
   "metadata": {
    "colab": {
     "base_uri": "https://localhost:8080/",
     "height": 115
    },
    "executionInfo": {
     "elapsed": 18,
     "status": "ok",
     "timestamp": 1730269756796,
     "user": {
      "displayName": "koeyhi",
      "userId": "08049178071858703986"
     },
     "user_tz": -540
    },
    "id": "0qVrhIG3Q6T3",
    "outputId": "14080301-7bdb-4e7f-ced1-4b5b8dc2bd03"
   },
   "outputs": [
    {
     "data": {
      "text/plain": [
       "구매금액표준편차             405\n",
       "구매금액_skew            880\n",
       "구매금액_kurtosis       1340\n",
       "구매금액_변동성             405\n",
       "환불건수                6221\n",
       "총환불금액               6221\n",
       "평균환불금액              6221\n",
       "최소환불금액              6221\n",
       "최대환불금액              6221\n",
       "환불금액표준편차            9222\n",
       "환불금액_skew          10937\n",
       "환불금액_kurtosis      11963\n",
       "고가제품환불비율            6221\n",
       "중가제품환불비율            6221\n",
       "저가제품환불비율            6221\n",
       "환불후재구매브랜드_count    14438\n",
       "환불후재구매비율           14438\n",
       "구매금액_대비_환불금액        6221\n",
       "환불건수_대비_구매건수        6221\n",
       "dtype: int64"
      ]
     },
     "execution_count": 143,
     "metadata": {},
     "output_type": "execute_result"
    }
   ],
   "source": [
    "mask = train_ft.isnull().sum() > 0\n",
    "train_ft.isnull().sum()[mask]"
   ]
  },
  {
   "cell_type": "code",
   "execution_count": 144,
   "metadata": {
    "colab": {
     "base_uri": "https://localhost:8080/",
     "height": 115
    },
    "executionInfo": {
     "elapsed": 17,
     "status": "ok",
     "timestamp": 1730269756796,
     "user": {
      "displayName": "koeyhi",
      "userId": "08049178071858703986"
     },
     "user_tz": -540
    },
    "id": "51Fu8zq9Q6Q8",
    "outputId": "c3f9b1c2-3af9-4c3f-b7c7-40f1549f3cfa"
   },
   "outputs": [
    {
     "data": {
      "text/plain": [
       "구매금액표준편차             262\n",
       "구매금액_skew            631\n",
       "구매금액_kurtosis       1006\n",
       "구매금액_변동성             262\n",
       "환불건수                4972\n",
       "총환불금액               4972\n",
       "평균환불금액              4972\n",
       "최소환불금액              4972\n",
       "최대환불금액              4972\n",
       "환불금액표준편차            7347\n",
       "환불금액_skew           8744\n",
       "환불금액_kurtosis       9660\n",
       "고가제품환불비율            4972\n",
       "중가제품환불비율            4972\n",
       "저가제품환불비율            4972\n",
       "환불후재구매브랜드_count    11791\n",
       "환불후재구매비율           11791\n",
       "구매금액_대비_환불금액        4972\n",
       "환불건수_대비_구매건수        4972\n",
       "dtype: int64"
      ]
     },
     "execution_count": 144,
     "metadata": {},
     "output_type": "execute_result"
    }
   ],
   "source": [
    "mask = test_ft.isnull().sum() > 0\n",
    "test_ft.isnull().sum()[mask]"
   ]
  },
  {
   "cell_type": "code",
   "execution_count": 145,
   "metadata": {},
   "outputs": [],
   "source": [
    "train_ft.fillna(0, inplace=True)\n",
    "test_ft.fillna(0, inplace=True)"
   ]
  },
  {
   "cell_type": "markdown",
   "metadata": {
    "id": "fgPa4QG0RF2d"
   },
   "source": [
    "# 특성 공학(Feature Engineering)"
   ]
  },
  {
   "cell_type": "markdown",
   "metadata": {
    "id": "OXuo6unbRLGm"
   },
   "source": [
    "- ID 변수 제외"
   ]
  },
  {
   "cell_type": "code",
   "execution_count": 146,
   "metadata": {
    "colab": {
     "base_uri": "https://localhost:8080/"
    },
    "executionInfo": {
     "elapsed": 17,
     "status": "ok",
     "timestamp": 1730269756797,
     "user": {
      "displayName": "koeyhi",
      "userId": "08049178071858703986"
     },
     "user_tz": -540
    },
    "id": "xfksFVguRFuZ",
    "outputId": "39f354f5-84bc-4b11-db93-0973c2627455"
   },
   "outputs": [
    {
     "data": {
      "text/plain": [
       "((14940, 2309), (12225, 2309))"
      ]
     },
     "execution_count": 146,
     "metadata": {},
     "output_type": "execute_result"
    }
   ],
   "source": [
    "train_ft = train_ft.iloc[:,1:]\n",
    "test_ft = test_ft.iloc[:,1:]\n",
    "train_ft.shape, test_ft.shape"
   ]
  },
  {
   "cell_type": "markdown",
   "metadata": {
    "id": "jjuSj8URRa_q"
   },
   "source": [
    "- 추가 피처 만들어 보기"
   ]
  },
  {
   "cell_type": "code",
   "execution_count": 147,
   "metadata": {},
   "outputs": [
    {
     "data": {
      "text/plain": [
       "((14940, 2312), (12225, 2312))"
      ]
     },
     "execution_count": 147,
     "metadata": {},
     "output_type": "execute_result"
    }
   ],
   "source": [
    "cols = [ col for col in train_ft.columns if col.startswith(\"지점코드_구매횟수_\") ]\n",
    "\n",
    "train_ft[\"지점코드별_구매횟수_std\"] = train_ft[cols].std(axis=1)\n",
    "train_ft[\"지점코드별_구매횟수_skew\"] = train_ft[cols].skew(axis=1)\n",
    "train_ft[\"지점코드별_구매횟수_kurt\"] = train_ft[cols].kurt(axis=1)\n",
    "\n",
    "test_ft[\"지점코드별_구매횟수_std\"] = test_ft[cols].std(axis=1)\n",
    "test_ft[\"지점코드별_구매횟수_skew\"] = test_ft[cols].skew(axis=1)\n",
    "test_ft[\"지점코드별_구매횟수_kurt\"] = test_ft[cols].kurt(axis=1)\n",
    "\n",
    "train_ft.shape, test_ft.shape"
   ]
  },
  {
   "cell_type": "code",
   "execution_count": 148,
   "metadata": {},
   "outputs": [
    {
     "data": {
      "text/plain": [
       "((14940, 2315), (12225, 2315))"
      ]
     },
     "execution_count": 148,
     "metadata": {},
     "output_type": "execute_result"
    }
   ],
   "source": [
    "cols = [ col for col in train_ft.columns if col.startswith(\"지점코드_구매합계_\") ]\n",
    "\n",
    "train_ft[\"지점코드별_구매합계_std\"] = train_ft[cols].std(axis=1)\n",
    "train_ft[\"지점코드별_구매합계_skew\"] = train_ft[cols].skew(axis=1)\n",
    "train_ft[\"지점코드별_구매합계_kurt\"] = train_ft[cols].kurt(axis=1)\n",
    "\n",
    "test_ft[\"지점코드별_구매합계_std\"] = test_ft[cols].std(axis=1)\n",
    "test_ft[\"지점코드별_구매합계_skew\"] = test_ft[cols].skew(axis=1)\n",
    "test_ft[\"지점코드별_구매합계_kurt\"] = test_ft[cols].kurt(axis=1)\n",
    "\n",
    "train_ft.shape, test_ft.shape"
   ]
  },
  {
   "cell_type": "code",
   "execution_count": 149,
   "metadata": {
    "colab": {
     "base_uri": "https://localhost:8080/"
    },
    "executionInfo": {
     "elapsed": 713,
     "status": "ok",
     "timestamp": 1730269757495,
     "user": {
      "displayName": "koeyhi",
      "userId": "08049178071858703986"
     },
     "user_tz": -540
    },
    "id": "EQaqdQSARFr4",
    "outputId": "3ed4d721-1bb8-4e8c-bfab-60c4c0a204d6"
   },
   "outputs": [
    {
     "data": {
      "text/plain": [
       "((14940, 2318), (12225, 2318))"
      ]
     },
     "execution_count": 149,
     "metadata": {},
     "output_type": "execute_result"
    }
   ],
   "source": [
    "cols = [ col for col in train_ft.columns if col.startswith(\"중분류_구매횟수_\") ]\n",
    "\n",
    "train_ft[\"중분류별_구매횟수_std\"] = train_ft[cols].std(axis=1)\n",
    "train_ft[\"중분류별_구매횟수_skew\"] = train_ft[cols].skew(axis=1)\n",
    "train_ft[\"중분류별_구매횟수_kurt\"] = train_ft[cols].kurt(axis=1)\n",
    "\n",
    "test_ft[\"중분류별_구매횟수_std\"] = test_ft[cols].std(axis=1)\n",
    "test_ft[\"중분류별_구매횟수_skew\"] = test_ft[cols].skew(axis=1)\n",
    "test_ft[\"중분류별_구매횟수_kurt\"] = test_ft[cols].kurt(axis=1)\n",
    "\n",
    "train_ft.shape, test_ft.shape"
   ]
  },
  {
   "cell_type": "code",
   "execution_count": 150,
   "metadata": {},
   "outputs": [
    {
     "data": {
      "text/plain": [
       "((14940, 2321), (12225, 2321))"
      ]
     },
     "execution_count": 150,
     "metadata": {},
     "output_type": "execute_result"
    }
   ],
   "source": [
    "cols = [ col for col in train_ft.columns if col.startswith(\"중분류_구매합계_\") ]\n",
    "\n",
    "train_ft[\"중분류별_구매합계_std\"] = train_ft[cols].std(axis=1)\n",
    "train_ft[\"중분류별_구매합계_skew\"] = train_ft[cols].skew(axis=1)\n",
    "train_ft[\"중분류별_구매합계_kurt\"] = train_ft[cols].kurt(axis=1)\n",
    "\n",
    "test_ft[\"중분류별_구매합계_std\"] = test_ft[cols].std(axis=1)\n",
    "test_ft[\"중분류별_구매합계_skew\"] = test_ft[cols].skew(axis=1)\n",
    "test_ft[\"중분류별_구매합계_kurt\"] = test_ft[cols].kurt(axis=1)\n",
    "\n",
    "train_ft.shape, test_ft.shape"
   ]
  },
  {
   "cell_type": "code",
   "execution_count": 151,
   "metadata": {},
   "outputs": [
    {
     "data": {
      "text/plain": [
       "((14940, 2324), (12225, 2324))"
      ]
     },
     "execution_count": 151,
     "metadata": {},
     "output_type": "execute_result"
    }
   ],
   "source": [
    "cols = [ col for col in train_ft.columns if col.startswith(\"대분류_구매횟수_\") ]\n",
    "\n",
    "train_ft[\"대분류별_구매횟수_std\"] = train_ft[cols].std(axis=1)\n",
    "train_ft[\"대분류별_구매횟수_skew\"] = train_ft[cols].skew(axis=1)\n",
    "train_ft[\"대분류별_구매횟수_kurt\"] = train_ft[cols].kurt(axis=1)\n",
    "\n",
    "test_ft[\"대분류별_구매횟수_std\"] = test_ft[cols].std(axis=1)\n",
    "test_ft[\"대분류별_구매횟수_skew\"] = test_ft[cols].skew(axis=1)\n",
    "test_ft[\"대분류별_구매횟수_kurt\"] = test_ft[cols].kurt(axis=1)\n",
    "\n",
    "train_ft.shape, test_ft.shape"
   ]
  },
  {
   "cell_type": "code",
   "execution_count": 152,
   "metadata": {},
   "outputs": [
    {
     "data": {
      "text/plain": [
       "((14940, 2327), (12225, 2327))"
      ]
     },
     "execution_count": 152,
     "metadata": {},
     "output_type": "execute_result"
    }
   ],
   "source": [
    "cols = [ col for col in train_ft.columns if col.startswith(\"대분류_구매합계_\") ]\n",
    "\n",
    "train_ft[\"대분류별_구매합계_std\"] = train_ft[cols].std(axis=1)\n",
    "train_ft[\"대분류별_구매합계_skew\"] = train_ft[cols].skew(axis=1)\n",
    "train_ft[\"대분류별_구매합계_kurt\"] = train_ft[cols].kurt(axis=1)\n",
    "\n",
    "test_ft[\"대분류별_구매합계_std\"] = test_ft[cols].std(axis=1)\n",
    "test_ft[\"대분류별_구매합계_skew\"] = test_ft[cols].skew(axis=1)\n",
    "test_ft[\"대분류별_구매합계_kurt\"] = test_ft[cols].kurt(axis=1)\n",
    "\n",
    "train_ft.shape, test_ft.shape"
   ]
  },
  {
   "cell_type": "code",
   "execution_count": 153,
   "metadata": {},
   "outputs": [
    {
     "data": {
      "text/plain": [
       "((14940, 2330), (12225, 2330))"
      ]
     },
     "execution_count": 153,
     "metadata": {},
     "output_type": "execute_result"
    }
   ],
   "source": [
    "cols = [ col for col in train_ft.columns if col.endswith(\"요일_구매비율\") ]\n",
    "\n",
    "train_ft[\"요일별_구매비율_std\"] = train_ft[cols].std(axis=1)\n",
    "train_ft[\"요일별_구매비율_skew\"] = train_ft[cols].skew(axis=1)\n",
    "train_ft[\"요일별_구매비율_kurt\"] = train_ft[cols].kurt(axis=1)\n",
    "\n",
    "test_ft[\"요일별_구매비율_std\"] = test_ft[cols].std(axis=1)\n",
    "test_ft[\"요일별_구매비율_skew\"] = test_ft[cols].skew(axis=1)\n",
    "test_ft[\"요일별_구매비율_kurt\"] = test_ft[cols].kurt(axis=1)\n",
    "\n",
    "train_ft.shape, test_ft.shape"
   ]
  },
  {
   "cell_type": "code",
   "execution_count": 154,
   "metadata": {},
   "outputs": [
    {
     "data": {
      "text/plain": [
       "((14940, 2333), (12225, 2333))"
      ]
     },
     "execution_count": 154,
     "metadata": {},
     "output_type": "execute_result"
    }
   ],
   "source": [
    "cols = [ col for col in train_ft.columns if col.endswith(\"월_구매비율\") ]\n",
    "\n",
    "train_ft[\"월별_구매비율_std\"] = train_ft[cols].std(axis=1)\n",
    "train_ft[\"월별_구매비율_skew\"] = train_ft[cols].skew(axis=1)\n",
    "train_ft[\"월별_구매비율_kurt\"] = train_ft[cols].kurt(axis=1)\n",
    "\n",
    "test_ft[\"월별_구매비율_std\"] = test_ft[cols].std(axis=1)\n",
    "test_ft[\"월별_구매비율_skew\"] = test_ft[cols].skew(axis=1)\n",
    "test_ft[\"월별_구매비율_kurt\"] = test_ft[cols].kurt(axis=1)\n",
    "\n",
    "train_ft.shape, test_ft.shape"
   ]
  },
  {
   "cell_type": "code",
   "execution_count": 155,
   "metadata": {},
   "outputs": [
    {
     "data": {
      "text/plain": [
       "((14940, 2336), (12225, 2336))"
      ]
     },
     "execution_count": 155,
     "metadata": {},
     "output_type": "execute_result"
    }
   ],
   "source": [
    "cols = [\"봄_구매비율\",\"여름_구매비율\",\"가을_구매비율\",\"겨울_구매비율\"]\n",
    "\n",
    "train_ft[\"계절별_구매비율_std\"] = train_ft[cols].std(axis=1)\n",
    "train_ft[\"계절별_구매비율_skew\"] = train_ft[cols].skew(axis=1)\n",
    "train_ft[\"계절별_구매비율_kurt\"] = train_ft[cols].kurt(axis=1)\n",
    "\n",
    "test_ft[\"계절별_구매비율_std\"] = test_ft[cols].std(axis=1)\n",
    "test_ft[\"계절별_구매비율_skew\"] = test_ft[cols].skew(axis=1)\n",
    "test_ft[\"계절별_구매비율_kurt\"] = test_ft[cols].kurt(axis=1)\n",
    "\n",
    "train_ft.shape, test_ft.shape"
   ]
  },
  {
   "cell_type": "code",
   "execution_count": 156,
   "metadata": {},
   "outputs": [
    {
     "data": {
      "text/plain": [
       "((14940, 2339), (12225, 2339))"
      ]
     },
     "execution_count": 156,
     "metadata": {},
     "output_type": "execute_result"
    }
   ],
   "source": [
    "cols = [ col for col in train_ft.columns if col.endswith(\"분기_구매비율\") ]\n",
    "\n",
    "train_ft[\"분기별_구매비율_std\"] = train_ft[cols].std(axis=1)\n",
    "train_ft[\"분기별_구매비율_skew\"] = train_ft[cols].skew(axis=1)\n",
    "train_ft[\"분기별_구매비율_kurt\"] = train_ft[cols].kurt(axis=1)\n",
    "\n",
    "test_ft[\"분기별_구매비율_std\"] = test_ft[cols].std(axis=1)\n",
    "test_ft[\"분기별_구매비율_skew\"] = test_ft[cols].skew(axis=1)\n",
    "test_ft[\"분기별_구매비율_kurt\"] = test_ft[cols].kurt(axis=1)\n",
    "\n",
    "train_ft.shape, test_ft.shape"
   ]
  },
  {
   "cell_type": "code",
   "execution_count": 157,
   "metadata": {},
   "outputs": [
    {
     "data": {
      "text/plain": [
       "((14940, 2340), (12225, 2340))"
      ]
     },
     "execution_count": 157,
     "metadata": {},
     "output_type": "execute_result"
    }
   ],
   "source": [
    "cols = [ col for col in train_ft.columns if col.endswith(\"년_구매비율\") ]\n",
    "\n",
    "train_ft[\"년도별_구매비율_std\"] = train_ft[cols].std(axis=1)\n",
    "test_ft[\"년도별_구매비율_std\"] = test_ft[cols].std(axis=1)\n",
    "\n",
    "train_ft.shape, test_ft.shape"
   ]
  },
  {
   "cell_type": "code",
   "execution_count": 158,
   "metadata": {},
   "outputs": [
    {
     "data": {
      "text/plain": [
       "((14940, 2343), (12225, 2343))"
      ]
     },
     "execution_count": 158,
     "metadata": {},
     "output_type": "execute_result"
    }
   ],
   "source": [
    "cols_지점 = [col for col in train_ft.columns if col.startswith(\"지점코드_구매횟수_\")]\n",
    "cols_중분류 = [col for col in train_ft.columns if col.startswith(\"중분류_구매횟수_\")]\n",
    "cols_대분류 = [col for col in train_ft.columns if col.startswith(\"대분류_구매횟수_\")]\n",
    "\n",
    "train_ft[\"구매집중도_지점\"] = train_ft[cols_지점].max(axis=1) / train_ft[cols_지점].sum(axis=1)\n",
    "train_ft[\"구매집중도_중분류\"] = train_ft[cols_중분류].max(axis=1) / train_ft[cols_중분류].sum(axis=1)\n",
    "train_ft[\"구매집중도_대분류\"] = train_ft[cols_대분류].max(axis=1) / train_ft[cols_대분류].sum(axis=1)\n",
    "\n",
    "test_ft[\"구매집중도_지점\"] = test_ft[cols_지점].max(axis=1) / test_ft[cols_지점].sum(axis=1)\n",
    "test_ft[\"구매집중도_중분류\"] = test_ft[cols_중분류].max(axis=1) / test_ft[cols_중분류].sum(axis=1)\n",
    "test_ft[\"구매집중도_대분류\"] = test_ft[cols_대분류].max(axis=1) / test_ft[cols_대분류].sum(axis=1)\n",
    "\n",
    "train_ft.shape, test_ft.shape"
   ]
  },
  {
   "cell_type": "markdown",
   "metadata": {
    "id": "gXvdNLMtSVlW"
   },
   "source": [
    "## Feature Encoding"
   ]
  },
  {
   "cell_type": "markdown",
   "metadata": {},
   "source": [
    "- 범주형 피처\n",
    "    - 주구매_중분류, 주구매_대분류, 선호브랜드코드, 고객등급"
   ]
  },
  {
   "cell_type": "code",
   "execution_count": 159,
   "metadata": {
    "colab": {
     "base_uri": "https://localhost:8080/"
    },
    "executionInfo": {
     "elapsed": 5372,
     "status": "ok",
     "timestamp": 1730269762864,
     "user": {
      "displayName": "koeyhi",
      "userId": "08049178071858703986"
     },
     "user_tz": -540
    },
    "id": "RICJpfu2SRWd",
    "outputId": "771c1229-c8cd-4c73-c977-c1ca65987549"
   },
   "outputs": [],
   "source": [
    "# %pip install category_encoders"
   ]
  },
  {
   "cell_type": "code",
   "execution_count": 160,
   "metadata": {
    "colab": {
     "base_uri": "https://localhost:8080/"
    },
    "executionInfo": {
     "elapsed": 298,
     "status": "ok",
     "timestamp": 1730269770905,
     "user": {
      "displayName": "koeyhi",
      "userId": "08049178071858703986"
     },
     "user_tz": -540
    },
    "id": "3d6B3II8T25p",
    "outputId": "f5d9eb08-ac39-4dd0-cd4e-8eb35ecf752f"
   },
   "outputs": [
    {
     "data": {
      "text/plain": [
       "((14940, 2348), (12225, 2348))"
      ]
     },
     "execution_count": 160,
     "metadata": {},
     "output_type": "execute_result"
    }
   ],
   "source": [
    "import category_encoders as ce\n",
    "from sklearn.preprocessing import OneHotEncoder, OrdinalEncoder\n",
    "\n",
    "oh_enc = OneHotEncoder(handle_unknown=\"ignore\")\n",
    "oh_enc_cols = [\"고객등급\"]\n",
    "oh_enc_data = pd.concat([train_ft[oh_enc_cols], test_ft[oh_enc_cols]])\n",
    "oh_enc.fit(oh_enc_data)\n",
    "\n",
    "train_ft[oh_enc.get_feature_names_out()] = oh_enc.transform(train_ft[oh_enc_cols]).toarray()\n",
    "test_ft[oh_enc.get_feature_names_out()] = oh_enc.transform(test_ft[oh_enc_cols]).toarray()\n",
    "\n",
    "train_ft.shape, test_ft.shape"
   ]
  },
  {
   "cell_type": "code",
   "execution_count": 161,
   "metadata": {},
   "outputs": [
    {
     "data": {
      "text/plain": [
       "((14940, 2348), (12225, 2348))"
      ]
     },
     "execution_count": 161,
     "metadata": {},
     "output_type": "execute_result"
    }
   ],
   "source": [
    "train_ft['선호브랜드코드'] = train_ft['선호브랜드코드'].astype('category')\n",
    "test_ft['선호브랜드코드'] = test_ft['선호브랜드코드'].astype('category')\n",
    "\n",
    "combined_brands = pd.concat([train_ft['선호브랜드코드'], test_ft['선호브랜드코드']])\n",
    "\n",
    "enc = ce.CountEncoder()\n",
    "train_ft[\"선호브랜드코드_cnt\"] = enc.fit_transform(train_ft[['선호브랜드코드']])\n",
    "test_ft[\"선호브랜드코드_cnt\"] = enc.transform(test_ft[['선호브랜드코드']])\n",
    "\n",
    "train_ft.drop(columns=[\"선호브랜드코드\"], inplace=True)\n",
    "test_ft.drop(columns=[\"선호브랜드코드\"], inplace=True)\n",
    "\n",
    "train_ft.shape, test_ft.shape"
   ]
  },
  {
   "cell_type": "markdown",
   "metadata": {
    "id": "lPURwRnPUj-B"
   },
   "source": [
    "- 문자열 피처 삭제"
   ]
  },
  {
   "cell_type": "code",
   "execution_count": 162,
   "metadata": {},
   "outputs": [
    {
     "data": {
      "text/plain": [
       "['첫구매날짜', '마지막구매날짜', '주구매지점', '주구매_중분류', '주구매_대분류', '고객등급']"
      ]
     },
     "execution_count": 162,
     "metadata": {},
     "output_type": "execute_result"
    }
   ],
   "source": [
    "cols = train_ft.select_dtypes([\"object\", \"datetime\", \"category\"]).columns.tolist()\n",
    "cols"
   ]
  },
  {
   "cell_type": "code",
   "execution_count": 163,
   "metadata": {
    "colab": {
     "base_uri": "https://localhost:8080/"
    },
    "executionInfo": {
     "elapsed": 338,
     "status": "ok",
     "timestamp": 1730269771556,
     "user": {
      "displayName": "koeyhi",
      "userId": "08049178071858703986"
     },
     "user_tz": -540
    },
    "id": "zZlZoAMZUbGp",
    "outputId": "2dc6b54d-eacb-450d-8fc1-b2b19198435c"
   },
   "outputs": [
    {
     "data": {
      "text/plain": [
       "((14940, 2342), (12225, 2342))"
      ]
     },
     "execution_count": 163,
     "metadata": {},
     "output_type": "execute_result"
    }
   ],
   "source": [
    "train_ft = train_ft.drop(columns=cols)\n",
    "test_ft = test_ft.drop(columns=cols)\n",
    "train_ft.shape, test_ft.shape"
   ]
  },
  {
   "cell_type": "code",
   "execution_count": 164,
   "metadata": {
    "colab": {
     "base_uri": "https://localhost:8080/"
    },
    "executionInfo": {
     "elapsed": 3,
     "status": "ok",
     "timestamp": 1730269771557,
     "user": {
      "displayName": "koeyhi",
      "userId": "08049178071858703986"
     },
     "user_tz": -540
    },
    "id": "1-y4-kmTUmso",
    "outputId": "7e3d9700-ac05-48e8-81e1-d6b1eb972cea"
   },
   "outputs": [
    {
     "data": {
      "text/plain": [
       "(Index([], dtype='object'), Index([], dtype='object'))"
      ]
     },
     "execution_count": 164,
     "metadata": {},
     "output_type": "execute_result"
    }
   ],
   "source": [
    "train_ft.select_dtypes(\"object\").columns , test_ft.select_dtypes(\"object\").columns"
   ]
  },
  {
   "cell_type": "code",
   "execution_count": 165,
   "metadata": {},
   "outputs": [
    {
     "data": {
      "text/plain": [
       "(Index([], dtype='object'), Index([], dtype='object'))"
      ]
     },
     "execution_count": 165,
     "metadata": {},
     "output_type": "execute_result"
    }
   ],
   "source": [
    "train_ft.select_dtypes(\"datetime\").columns, test_ft.select_dtypes(\"datetime\").columns"
   ]
  },
  {
   "cell_type": "markdown",
   "metadata": {
    "id": "KAQ-3TU5U0Pk"
   },
   "source": [
    "## Feature Scaling"
   ]
  },
  {
   "cell_type": "code",
   "execution_count": 166,
   "metadata": {},
   "outputs": [
    {
     "data": {
      "text/plain": [
       "(0, 0)"
      ]
     },
     "execution_count": 166,
     "metadata": {},
     "output_type": "execute_result"
    }
   ],
   "source": [
    "train_ft.isin([np.inf, -np.inf]).any().sum(), test_ft.isin([np.inf, -np.inf]).any().sum()"
   ]
  },
  {
   "cell_type": "code",
   "execution_count": 167,
   "metadata": {},
   "outputs": [
    {
     "data": {
      "text/plain": [
       "(313740, 256725)"
      ]
     },
     "execution_count": 167,
     "metadata": {},
     "output_type": "execute_result"
    }
   ],
   "source": [
    "train_ft.isna().sum().sum(), test_ft.isna().sum().sum()"
   ]
  },
  {
   "cell_type": "code",
   "execution_count": 168,
   "metadata": {},
   "outputs": [],
   "source": [
    "train_ft = train_ft.fillna(0)\n",
    "test_ft = test_ft.fillna(0)"
   ]
  },
  {
   "cell_type": "code",
   "execution_count": 169,
   "metadata": {},
   "outputs": [
    {
     "data": {
      "text/html": [
       "<div>\n",
       "<style scoped>\n",
       "    .dataframe tbody tr th:only-of-type {\n",
       "        vertical-align: middle;\n",
       "    }\n",
       "\n",
       "    .dataframe tbody tr th {\n",
       "        vertical-align: top;\n",
       "    }\n",
       "\n",
       "    .dataframe thead th {\n",
       "        text-align: right;\n",
       "    }\n",
       "</style>\n",
       "<table border=\"1\" class=\"dataframe\">\n",
       "  <thead>\n",
       "    <tr style=\"text-align: right;\">\n",
       "      <th></th>\n",
       "      <th>총방문일수</th>\n",
       "      <th>백화점이용기간</th>\n",
       "      <th>구매주기</th>\n",
       "      <th>주말방문일수</th>\n",
       "      <th>일별평균구매건수</th>\n",
       "      <th>구매간격_표준편차</th>\n",
       "      <th>마지막구매후_경과일</th>\n",
       "      <th>평균구매요일</th>\n",
       "      <th>주구매요일</th>\n",
       "      <th>월요일_구매비율</th>\n",
       "      <th>...</th>\n",
       "      <th>년도별_구매비율_std</th>\n",
       "      <th>구매집중도_지점</th>\n",
       "      <th>구매집중도_중분류</th>\n",
       "      <th>구매집중도_대분류</th>\n",
       "      <th>고객등급_Black</th>\n",
       "      <th>고객등급_Diamond</th>\n",
       "      <th>고객등급_Gold</th>\n",
       "      <th>고객등급_Normal</th>\n",
       "      <th>고객등급_Platinum</th>\n",
       "      <th>선호브랜드코드_cnt</th>\n",
       "    </tr>\n",
       "  </thead>\n",
       "  <tbody>\n",
       "    <tr>\n",
       "      <th>0</th>\n",
       "      <td>-0.117647</td>\n",
       "      <td>-0.354610</td>\n",
       "      <td>0.45</td>\n",
       "      <td>0.00</td>\n",
       "      <td>-0.089744</td>\n",
       "      <td>0.259112</td>\n",
       "      <td>1.647059</td>\n",
       "      <td>0.000000</td>\n",
       "      <td>-0.5</td>\n",
       "      <td>-0.110779</td>\n",
       "      <td>...</td>\n",
       "      <td>0.768603</td>\n",
       "      <td>0.0</td>\n",
       "      <td>0.0</td>\n",
       "      <td>0.0</td>\n",
       "      <td>0.0</td>\n",
       "      <td>0.0</td>\n",
       "      <td>0.0</td>\n",
       "      <td>0.0</td>\n",
       "      <td>0.0</td>\n",
       "      <td>-0.082664</td>\n",
       "    </tr>\n",
       "    <tr>\n",
       "      <th>1</th>\n",
       "      <td>0.588235</td>\n",
       "      <td>0.333333</td>\n",
       "      <td>-0.15</td>\n",
       "      <td>-0.25</td>\n",
       "      <td>0.576923</td>\n",
       "      <td>-0.296481</td>\n",
       "      <td>-0.333333</td>\n",
       "      <td>-0.787061</td>\n",
       "      <td>0.0</td>\n",
       "      <td>-0.246177</td>\n",
       "      <td>...</td>\n",
       "      <td>0.120984</td>\n",
       "      <td>0.0</td>\n",
       "      <td>0.0</td>\n",
       "      <td>0.0</td>\n",
       "      <td>0.0</td>\n",
       "      <td>0.0</td>\n",
       "      <td>0.0</td>\n",
       "      <td>0.0</td>\n",
       "      <td>0.0</td>\n",
       "      <td>0.929104</td>\n",
       "    </tr>\n",
       "    <tr>\n",
       "      <th>2</th>\n",
       "      <td>2.588235</td>\n",
       "      <td>0.361702</td>\n",
       "      <td>-0.65</td>\n",
       "      <td>2.25</td>\n",
       "      <td>0.358741</td>\n",
       "      <td>-0.635681</td>\n",
       "      <td>-0.313725</td>\n",
       "      <td>-0.759921</td>\n",
       "      <td>-1.5</td>\n",
       "      <td>0.932575</td>\n",
       "      <td>...</td>\n",
       "      <td>-0.858608</td>\n",
       "      <td>0.0</td>\n",
       "      <td>0.0</td>\n",
       "      <td>0.0</td>\n",
       "      <td>0.0</td>\n",
       "      <td>1.0</td>\n",
       "      <td>0.0</td>\n",
       "      <td>-1.0</td>\n",
       "      <td>0.0</td>\n",
       "      <td>-0.081659</td>\n",
       "    </tr>\n",
       "    <tr>\n",
       "      <th>3</th>\n",
       "      <td>4.647059</td>\n",
       "      <td>0.283688</td>\n",
       "      <td>-0.80</td>\n",
       "      <td>4.25</td>\n",
       "      <td>0.660256</td>\n",
       "      <td>-0.730731</td>\n",
       "      <td>-0.196078</td>\n",
       "      <td>0.092423</td>\n",
       "      <td>0.5</td>\n",
       "      <td>-0.086628</td>\n",
       "      <td>...</td>\n",
       "      <td>-0.676163</td>\n",
       "      <td>0.0</td>\n",
       "      <td>0.0</td>\n",
       "      <td>0.0</td>\n",
       "      <td>0.0</td>\n",
       "      <td>1.0</td>\n",
       "      <td>0.0</td>\n",
       "      <td>-1.0</td>\n",
       "      <td>0.0</td>\n",
       "      <td>-0.051952</td>\n",
       "    </tr>\n",
       "    <tr>\n",
       "      <th>4</th>\n",
       "      <td>0.764706</td>\n",
       "      <td>0.056738</td>\n",
       "      <td>-0.30</td>\n",
       "      <td>1.00</td>\n",
       "      <td>-0.173077</td>\n",
       "      <td>-0.285193</td>\n",
       "      <td>0.470588</td>\n",
       "      <td>0.981564</td>\n",
       "      <td>0.5</td>\n",
       "      <td>-0.043081</td>\n",
       "      <td>...</td>\n",
       "      <td>0.398535</td>\n",
       "      <td>0.0</td>\n",
       "      <td>0.0</td>\n",
       "      <td>0.0</td>\n",
       "      <td>0.0</td>\n",
       "      <td>0.0</td>\n",
       "      <td>0.0</td>\n",
       "      <td>0.0</td>\n",
       "      <td>0.0</td>\n",
       "      <td>0.929104</td>\n",
       "    </tr>\n",
       "  </tbody>\n",
       "</table>\n",
       "<p>5 rows × 2342 columns</p>\n",
       "</div>"
      ],
      "text/plain": [
       "      총방문일수   백화점이용기간  구매주기  주말방문일수  일별평균구매건수  구매간격_표준편차  마지막구매후_경과일  \\\n",
       "0 -0.117647 -0.354610  0.45    0.00 -0.089744   0.259112    1.647059   \n",
       "1  0.588235  0.333333 -0.15   -0.25  0.576923  -0.296481   -0.333333   \n",
       "2  2.588235  0.361702 -0.65    2.25  0.358741  -0.635681   -0.313725   \n",
       "3  4.647059  0.283688 -0.80    4.25  0.660256  -0.730731   -0.196078   \n",
       "4  0.764706  0.056738 -0.30    1.00 -0.173077  -0.285193    0.470588   \n",
       "\n",
       "     평균구매요일  주구매요일  월요일_구매비율  ...  년도별_구매비율_std  구매집중도_지점  구매집중도_중분류  \\\n",
       "0  0.000000   -0.5 -0.110779  ...      0.768603       0.0        0.0   \n",
       "1 -0.787061    0.0 -0.246177  ...      0.120984       0.0        0.0   \n",
       "2 -0.759921   -1.5  0.932575  ...     -0.858608       0.0        0.0   \n",
       "3  0.092423    0.5 -0.086628  ...     -0.676163       0.0        0.0   \n",
       "4  0.981564    0.5 -0.043081  ...      0.398535       0.0        0.0   \n",
       "\n",
       "   구매집중도_대분류  고객등급_Black  고객등급_Diamond  고객등급_Gold  고객등급_Normal  고객등급_Platinum  \\\n",
       "0        0.0         0.0           0.0        0.0          0.0            0.0   \n",
       "1        0.0         0.0           0.0        0.0          0.0            0.0   \n",
       "2        0.0         0.0           1.0        0.0         -1.0            0.0   \n",
       "3        0.0         0.0           1.0        0.0         -1.0            0.0   \n",
       "4        0.0         0.0           0.0        0.0          0.0            0.0   \n",
       "\n",
       "   선호브랜드코드_cnt  \n",
       "0    -0.082664  \n",
       "1     0.929104  \n",
       "2    -0.081659  \n",
       "3    -0.051952  \n",
       "4     0.929104  \n",
       "\n",
       "[5 rows x 2342 columns]"
      ]
     },
     "execution_count": 169,
     "metadata": {},
     "output_type": "execute_result"
    }
   ],
   "source": [
    "from sklearn.preprocessing import StandardScaler, MinMaxScaler, RobustScaler, PowerTransformer, Normalizer\n",
    "scaler = RobustScaler()\n",
    "\n",
    "train_ft[train_ft.columns] = scaler.fit_transform(train_ft)\n",
    "test_ft[test_ft.columns] = scaler.transform(test_ft)\n",
    "train_ft.head()"
   ]
  },
  {
   "cell_type": "markdown",
   "metadata": {},
   "source": [
    "# 기본 모델에서 성능 확인"
   ]
  },
  {
   "cell_type": "code",
   "execution_count": null,
   "metadata": {},
   "outputs": [
    {
     "name": "stdout",
     "output_type": "stream",
     "text": [
      "              precision    recall  f1-score   support\n",
      "\n",
      "         0.0       0.75      0.83      0.79      1801\n",
      "         1.0       0.69      0.58      0.63      1187\n",
      "\n",
      "    accuracy                           0.73      2988\n",
      "   macro avg       0.72      0.71      0.71      2988\n",
      "weighted avg       0.73      0.73      0.73      2988\n",
      "\n"
     ]
    }
   ],
   "source": [
    "from sklearn.model_selection import StratifiedKFold, train_test_split\n",
    "from sklearn.metrics import classification_report\n",
    "from lightgbm import LGBMClassifier\n",
    "\n",
    "cv = StratifiedKFold(n_splits=5, shuffle=True, random_state=SEED)\n",
    "lgbm = LGBMClassifier(random_state=SEED, verbose=0, n_jobs=-1)\n",
    "\n",
    "X_train, X_val, y_train, y_val = train_test_split(train_ft, target, test_size=0.2, random_state=SEED)\n",
    "\n",
    "lgbm.fit(X_train, y_train)\n",
    "\n",
    "print(classification_report(y_val, lgbm.predict(X_val)))"
   ]
  },
  {
   "cell_type": "code",
   "execution_count": 176,
   "metadata": {},
   "outputs": [
    {
     "data": {
      "text/html": [
       "<div>\n",
       "<style scoped>\n",
       "    .dataframe tbody tr th:only-of-type {\n",
       "        vertical-align: middle;\n",
       "    }\n",
       "\n",
       "    .dataframe tbody tr th {\n",
       "        vertical-align: top;\n",
       "    }\n",
       "\n",
       "    .dataframe thead th {\n",
       "        text-align: right;\n",
       "    }\n",
       "</style>\n",
       "<table border=\"1\" class=\"dataframe\">\n",
       "  <thead>\n",
       "    <tr style=\"text-align: right;\">\n",
       "      <th></th>\n",
       "      <th>feature</th>\n",
       "      <th>score</th>\n",
       "    </tr>\n",
       "  </thead>\n",
       "  <tbody>\n",
       "    <tr>\n",
       "      <th>85</th>\n",
       "      <td>주구매_대분류_잡화</td>\n",
       "      <td>57</td>\n",
       "    </tr>\n",
       "    <tr>\n",
       "      <th>12</th>\n",
       "      <td>목요일_구매비율</td>\n",
       "      <td>51</td>\n",
       "    </tr>\n",
       "    <tr>\n",
       "      <th>47</th>\n",
       "      <td>여름_구매비율</td>\n",
       "      <td>45</td>\n",
       "    </tr>\n",
       "    <tr>\n",
       "      <th>57</th>\n",
       "      <td>18시이전_구매비율</td>\n",
       "      <td>43</td>\n",
       "    </tr>\n",
       "    <tr>\n",
       "      <th>81</th>\n",
       "      <td>주구매_중분류_영패션</td>\n",
       "      <td>42</td>\n",
       "    </tr>\n",
       "    <tr>\n",
       "      <th>62</th>\n",
       "      <td>평균구매시간</td>\n",
       "      <td>42</td>\n",
       "    </tr>\n",
       "    <tr>\n",
       "      <th>4</th>\n",
       "      <td>일별평균구매건수</td>\n",
       "      <td>41</td>\n",
       "    </tr>\n",
       "    <tr>\n",
       "      <th>89</th>\n",
       "      <td>주구매_대분류_생식품</td>\n",
       "      <td>40</td>\n",
       "    </tr>\n",
       "    <tr>\n",
       "      <th>73</th>\n",
       "      <td>주구매_중분류_아동용품</td>\n",
       "      <td>38</td>\n",
       "    </tr>\n",
       "    <tr>\n",
       "      <th>74</th>\n",
       "      <td>주구매_중분류_취미용품</td>\n",
       "      <td>37</td>\n",
       "    </tr>\n",
       "    <tr>\n",
       "      <th>95</th>\n",
       "      <td>최소구매금액</td>\n",
       "      <td>37</td>\n",
       "    </tr>\n",
       "    <tr>\n",
       "      <th>69</th>\n",
       "      <td>주구매지점_이용비율</td>\n",
       "      <td>36</td>\n",
       "    </tr>\n",
       "    <tr>\n",
       "      <th>94</th>\n",
       "      <td>최대구매금액</td>\n",
       "      <td>31</td>\n",
       "    </tr>\n",
       "    <tr>\n",
       "      <th>67</th>\n",
       "      <td>저녁_구매비율</td>\n",
       "      <td>29</td>\n",
       "    </tr>\n",
       "    <tr>\n",
       "      <th>7</th>\n",
       "      <td>평균구매요일</td>\n",
       "      <td>26</td>\n",
       "    </tr>\n",
       "    <tr>\n",
       "      <th>59</th>\n",
       "      <td>오전_구매비율</td>\n",
       "      <td>25</td>\n",
       "    </tr>\n",
       "    <tr>\n",
       "      <th>2299</th>\n",
       "      <td>방문당_평균구매금액</td>\n",
       "      <td>25</td>\n",
       "    </tr>\n",
       "    <tr>\n",
       "      <th>2301</th>\n",
       "      <td>환불건수_대비_구매건수</td>\n",
       "      <td>24</td>\n",
       "    </tr>\n",
       "    <tr>\n",
       "      <th>5</th>\n",
       "      <td>구매간격_표준편차</td>\n",
       "      <td>23</td>\n",
       "    </tr>\n",
       "    <tr>\n",
       "      <th>25</th>\n",
       "      <td>10월_구매비율</td>\n",
       "      <td>23</td>\n",
       "    </tr>\n",
       "    <tr>\n",
       "      <th>1</th>\n",
       "      <td>백화점이용기간</td>\n",
       "      <td>22</td>\n",
       "    </tr>\n",
       "    <tr>\n",
       "      <th>276</th>\n",
       "      <td>pivot_중분류_아동</td>\n",
       "      <td>22</td>\n",
       "    </tr>\n",
       "    <tr>\n",
       "      <th>86</th>\n",
       "      <td>주구매_대분류_스포츠</td>\n",
       "      <td>22</td>\n",
       "    </tr>\n",
       "    <tr>\n",
       "      <th>2286</th>\n",
       "      <td>Tuesday_sum</td>\n",
       "      <td>21</td>\n",
       "    </tr>\n",
       "    <tr>\n",
       "      <th>11</th>\n",
       "      <td>수요일_구매비율</td>\n",
       "      <td>21</td>\n",
       "    </tr>\n",
       "    <tr>\n",
       "      <th>2321</th>\n",
       "      <td>요일별_구매비율_skew</td>\n",
       "      <td>21</td>\n",
       "    </tr>\n",
       "    <tr>\n",
       "      <th>66</th>\n",
       "      <td>점심_구매비율</td>\n",
       "      <td>20</td>\n",
       "    </tr>\n",
       "    <tr>\n",
       "      <th>93</th>\n",
       "      <td>구매금액_median</td>\n",
       "      <td>19</td>\n",
       "    </tr>\n",
       "    <tr>\n",
       "      <th>31</th>\n",
       "      <td>월중순구매비율</td>\n",
       "      <td>18</td>\n",
       "    </tr>\n",
       "    <tr>\n",
       "      <th>6</th>\n",
       "      <td>마지막구매후_경과일</td>\n",
       "      <td>18</td>\n",
       "    </tr>\n",
       "  </tbody>\n",
       "</table>\n",
       "</div>"
      ],
      "text/plain": [
       "            feature  score\n",
       "85       주구매_대분류_잡화     57\n",
       "12         목요일_구매비율     51\n",
       "47          여름_구매비율     45\n",
       "57       18시이전_구매비율     43\n",
       "81      주구매_중분류_영패션     42\n",
       "62           평균구매시간     42\n",
       "4          일별평균구매건수     41\n",
       "89      주구매_대분류_생식품     40\n",
       "73     주구매_중분류_아동용품     38\n",
       "74     주구매_중분류_취미용품     37\n",
       "95           최소구매금액     37\n",
       "69       주구매지점_이용비율     36\n",
       "94           최대구매금액     31\n",
       "67          저녁_구매비율     29\n",
       "7            평균구매요일     26\n",
       "59          오전_구매비율     25\n",
       "2299     방문당_평균구매금액     25\n",
       "2301   환불건수_대비_구매건수     24\n",
       "5         구매간격_표준편차     23\n",
       "25         10월_구매비율     23\n",
       "1           백화점이용기간     22\n",
       "276    pivot_중분류_아동     22\n",
       "86      주구매_대분류_스포츠     22\n",
       "2286    Tuesday_sum     21\n",
       "11         수요일_구매비율     21\n",
       "2321  요일별_구매비율_skew     21\n",
       "66          점심_구매비율     20\n",
       "93      구매금액_median     19\n",
       "31          월중순구매비율     18\n",
       "6        마지막구매후_경과일     18"
      ]
     },
     "execution_count": 176,
     "metadata": {},
     "output_type": "execute_result"
    }
   ],
   "source": [
    "feature_scores = pd.DataFrame(\n",
    "    {'feature': train_ft.columns,\n",
    "     'score': lgbm.feature_importances_}\n",
    ").sort_values('score', ascending=False)\n",
    "\n",
    "feature_scores.head(30)"
   ]
  },
  {
   "cell_type": "markdown",
   "metadata": {},
   "source": [
    "- XAI 활용"
   ]
  },
  {
   "cell_type": "code",
   "execution_count": 173,
   "metadata": {},
   "outputs": [
    {
     "data": {
      "image/png": "[encoded data removed]",
      "text/plain": [
       "<Figure size 800x950 with 2 Axes>"
      ]
     },
     "metadata": {},
     "output_type": "display_data"
    }
   ],
   "source": [
    "import shap\n",
    "\n",
    "explainer = shap.Explainer(lgbm)\n",
    "shap_values = explainer(train_ft)\n",
    "shap.summary_plot(shap_values, train_ft)"
   ]
  },
  {
   "cell_type": "markdown",
   "metadata": {},
   "source": [
    "# 차원축소"
   ]
  },
  {
   "cell_type": "markdown",
   "metadata": {},
   "source": [
    "- 학습데이터에서 분산 임계값이 0인 경우 제외"
   ]
  },
  {
   "cell_type": "code",
   "execution_count": 38,
   "metadata": {},
   "outputs": [
    {
     "data": {
      "text/plain": [
       "((14940, 835), (12225, 835))"
      ]
     },
     "execution_count": 38,
     "metadata": {},
     "output_type": "execute_result"
    }
   ],
   "source": [
    "from sklearn.feature_selection import VarianceThreshold\n",
    "\n",
    "vt = VarianceThreshold(threshold=0)\n",
    "vt.fit(train_ft)\n",
    "\n",
    "train_vt = pd.DataFrame(vt.transform(train_ft), columns=train_ft.columns[vt.get_support()])\n",
    "test_vt = test_ft[train_vt.columns]\n",
    "\n",
    "train_vt.shape, test_vt.shape"
   ]
  },
  {
   "cell_type": "markdown",
   "metadata": {},
   "source": [
    "- 특성 간 상관관계 90% 이상인 경우 제거"
   ]
  },
  {
   "cell_type": "code",
   "execution_count": 39,
   "metadata": {},
   "outputs": [],
   "source": [
    "# corr = train_vt.corr().abs()\n",
    "# upper = corr.where(np.triu(np.ones(corr.shape), k=1).astype(bool))\n",
    "# to_drop = [col for col in upper.columns if any(upper[col] >= 0.90)]\n",
    "\n",
    "# train_vt.drop(columns=to_drop, inplace=True)\n",
    "# test_vt.drop(columns=to_drop, inplace=True)\n",
    "# train_vt.shape, test_vt.shape"
   ]
  },
  {
   "cell_type": "code",
   "execution_count": 40,
   "metadata": {},
   "outputs": [],
   "source": [
    "# train_vt.to_csv(f\"{DATA_PATH}train_corr.csv\",index=False)\n",
    "# test_vt.to_csv(f\"{DATA_PATH}test_corr.csv\",index=False)"
   ]
  },
  {
   "cell_type": "markdown",
   "metadata": {},
   "source": [
    "- cv 점수 확인"
   ]
  },
  {
   "cell_type": "code",
   "execution_count": 41,
   "metadata": {},
   "outputs": [
    {
     "data": {
      "text/plain": [
       "0.7207653890671797"
      ]
     },
     "execution_count": 41,
     "metadata": {},
     "output_type": "execute_result"
    }
   ],
   "source": [
    "from sklearn.ensemble import RandomForestClassifier\n",
    "from sklearn.model_selection import StratifiedKFold, cross_val_score\n",
    "from lightgbm import LGBMClassifier\n",
    "\n",
    "cv = StratifiedKFold(n_splits=5, shuffle=True, random_state=SEED)\n",
    "lgbm = LGBMClassifier(random_state=SEED, verbose=0, n_jobs=-1)\n",
    "lgbm.fit(train_vt, target)\n",
    "\n",
    "scores = cross_val_score(lgbm, train_vt, target, cv=cv, scoring=\"f1_macro\", n_jobs=-1)\n",
    "np.mean(scores)"
   ]
  },
  {
   "cell_type": "markdown",
   "metadata": {},
   "source": [
    "- XAI 활용"
   ]
  },
  {
   "cell_type": "code",
   "execution_count": 42,
   "metadata": {},
   "outputs": [
    {
     "name": "stderr",
     "output_type": "stream",
     "text": [
      "c:\\Users\\kwon3\\AppData\\Local\\Programs\\Python\\Python310\\lib\\site-packages\\tqdm\\auto.py:21: TqdmWarning: IProgress not found. Please update jupyter and ipywidgets. See https://ipywidgets.readthedocs.io/en/stable/user_install.html\n",
      "  from .autonotebook import tqdm as notebook_tqdm\n"
     ]
    },
    {
     "data": {
      "image/png": "[encoded data removed]",
      "text/plain": [
       "<Figure size 800x950 with 2 Axes>"
      ]
     },
     "metadata": {},
     "output_type": "display_data"
    }
   ],
   "source": [
    "import shap\n",
    "\n",
    "explainer = shap.Explainer(lgbm)\n",
    "shap_values = explainer(train_vt)\n",
    "shap.summary_plot(shap_values, train_vt)"
   ]
  },
  {
   "cell_type": "markdown",
   "metadata": {},
   "source": [
    "- SelectFromModel"
   ]
  },
  {
   "cell_type": "code",
   "execution_count": 43,
   "metadata": {},
   "outputs": [],
   "source": [
    "from sklearn.feature_selection import SelectFromModel\n",
    "from sklearn.linear_model import LogisticRegression\n",
    "\n",
    "lr = LogisticRegression(max_iter=1000, random_state=SEED)\n",
    "rf = RandomForestClassifier(random_state=SEED)"
   ]
  },
  {
   "cell_type": "code",
   "execution_count": 44,
   "metadata": {},
   "outputs": [],
   "source": [
    "# # thresholds = [\n",
    "# #     'mean', 'median',\n",
    "# #     '0.5*mean', '1.5*mean', '2*mean',\n",
    "# #     '0.5*median', '1.5*median', '2*median'\n",
    "# # ]\n",
    "\n",
    "# thresholds = [f\"{i}*mean\" for i in np.arange(0.6, 1.5, 0.1)]\n",
    "\n",
    "# for threshold in thresholds:\n",
    "#     sfm = SelectFromModel(lgbm, threshold=threshold)\n",
    "#     sfm.fit(train_vt, target)\n",
    "#     train_sfm = sfm.transform(train_vt)\n",
    "\n",
    "#     scores = cross_val_score(lgbm, train_sfm, target, cv=cv, scoring=\"f1_macro\", n_jobs=-1)\n",
    "#     print(threshold, np.mean(scores), train_sfm.shape[1])"
   ]
  },
  {
   "cell_type": "code",
   "execution_count": 45,
   "metadata": {},
   "outputs": [
    {
     "data": {
      "text/plain": [
       "(0.7216930015939027, (14940, 224))"
      ]
     },
     "execution_count": 45,
     "metadata": {},
     "output_type": "execute_result"
    }
   ],
   "source": [
    "sfm = SelectFromModel(lgbm, threshold='1.2*mean')\n",
    "\n",
    "train_sfm = sfm.fit_transform(train_vt, target)\n",
    "test_sfm = sfm.transform(test_vt)\n",
    "\n",
    "scores = cross_val_score(lgbm, train_sfm, target, cv=cv, scoring=\"f1_macro\", n_jobs=-1)\n",
    "np.mean(scores), train_sfm.shape"
   ]
  },
  {
   "cell_type": "code",
   "execution_count": 46,
   "metadata": {},
   "outputs": [],
   "source": [
    "# train_sfm = pd.DataFrame(np.array(train_sfm), columns=train_vt.columns[sfm.get_support()])\n",
    "# test_sfm = pd.DataFrame(np.array(test_sfm), columns=test_vt.columns[sfm.get_support()])\n",
    "\n",
    "# feature_importance = pd.DataFrame({\n",
    "#     'feature': train_sfm.columns,\n",
    "#     'score': sfm.estimator_.feature_importances_[sfm.get_support()]\n",
    "# }).reset_index(drop=True)\n",
    "\n",
    "# feature_importance.sort_values('score', ascending=False).head(10)"
   ]
  },
  {
   "cell_type": "markdown",
   "metadata": {},
   "source": [
    "- SelectKBest"
   ]
  },
  {
   "cell_type": "code",
   "execution_count": 47,
   "metadata": {},
   "outputs": [],
   "source": [
    "# from sklearn.feature_selection import SelectKBest"
   ]
  },
  {
   "cell_type": "code",
   "execution_count": 48,
   "metadata": {},
   "outputs": [],
   "source": [
    "# for k in range(100, 201, 50):\n",
    "#     skb = SelectKBest(k=k)\n",
    "#     skb.fit(train_vt, target)\n",
    "#     # skb.fit(train_sfm, target)\n",
    "#     train_skb = skb.transform(train_vt)\n",
    "#     # train_skb = skb.transform(train_sfm)\n",
    "\n",
    "#     scores = cross_val_score(lgbm, train_skb, target, cv=cv, scoring=\"f1_macro\", n_jobs=-1)\n",
    "#     print(f\"특성수={k}, 정확도={np.mean(scores)}\")"
   ]
  },
  {
   "cell_type": "code",
   "execution_count": 49,
   "metadata": {},
   "outputs": [],
   "source": [
    "# skb = SelectKBest(k=600)\n",
    "\n",
    "# train_skb = skb.fit_transform(train_vt, target)\n",
    "# test_skb = skb.transform(test_vt)\n",
    "\n",
    "# scores = cross_val_score(lgbm, train_skb, target, cv=cv, scoring=\"f1_macro\", n_jobs=-1)\n",
    "# np.mean(scores), train_skb.shape"
   ]
  },
  {
   "cell_type": "code",
   "execution_count": 50,
   "metadata": {},
   "outputs": [],
   "source": [
    "# train_skb = pd.DataFrame(np.array(train_skb), columns=train_vt.columns[skb.get_support()])\n",
    "# test_skb = pd.DataFrame(np.array(test_skb), columns=test_vt.columns[skb.get_support()])\n",
    "\n",
    "# feature_scores = pd.DataFrame(\n",
    "#     {'feature': train_vt.columns,\n",
    "#      'score': skb.scores_}\n",
    "# ).sort_values('score', ascending=False)\n",
    "\n",
    "# feature_scores.head(10)"
   ]
  },
  {
   "cell_type": "markdown",
   "metadata": {},
   "source": [
    "- SelectPercentile"
   ]
  },
  {
   "cell_type": "code",
   "execution_count": 51,
   "metadata": {},
   "outputs": [],
   "source": [
    "# from sklearn.feature_selection import SelectPercentile"
   ]
  },
  {
   "cell_type": "code",
   "execution_count": 52,
   "metadata": {},
   "outputs": [],
   "source": [
    "# percentiles = [i for i in range(5, 101, 5)]\n",
    "\n",
    "# for percentile in percentiles:\n",
    "#     sp = SelectPercentile(percentile=percentile)\n",
    "#     sp.fit(train_vt, target)\n",
    "#     # sp.fit(train_sfm, target)\n",
    "#     train_sp = sp.transform(train_vt)\n",
    "#     # train_sp = sp.transform(train_sfm)\n",
    "\n",
    "#     scores = cross_val_score(lgbm, train_sp, target, cv=cv, scoring=\"f1_macro\", n_jobs=-1)\n",
    "#     print(f\"percentile={percentile}, 성능={np.mean(scores)}, 특성 수={train_sp.shape[1]}\")"
   ]
  },
  {
   "cell_type": "code",
   "execution_count": 53,
   "metadata": {},
   "outputs": [],
   "source": [
    "# sp = SelectPercentile(percentile=100)\n",
    "\n",
    "# train_sp = sp.fit_transform(train_vt, target)\n",
    "# test_sp = sp.transform(test_vt)\n",
    "\n",
    "# scores = cross_val_score(lgbm, train_sp, target, cv=cv, scoring=\"f1_macro\", n_jobs=-1)\n",
    "# np.mean(scores), train_sp.shape"
   ]
  },
  {
   "cell_type": "markdown",
   "metadata": {},
   "source": [
    "- PCA"
   ]
  },
  {
   "cell_type": "code",
   "execution_count": 54,
   "metadata": {},
   "outputs": [],
   "source": [
    "# from sklearn.decomposition import PCA"
   ]
  },
  {
   "cell_type": "code",
   "execution_count": 55,
   "metadata": {},
   "outputs": [],
   "source": [
    "# def do_pca(n_components, train, test, target, cv):\n",
    "#     pca = PCA(n_components=n_components)\n",
    "\n",
    "#     train_pca = pca.fit_transform(train)\n",
    "#     test_pca = pca.transform(test)\n",
    "\n",
    "#     scores = cross_val_score(lgbm, train_pca, target, cv=cv, scoring=\"f1_macro\", n_jobs=-1)\n",
    "#     print(np.mean(scores))\n",
    "#     return pca, train_pca, test_pca"
   ]
  },
  {
   "cell_type": "code",
   "execution_count": 56,
   "metadata": {},
   "outputs": [],
   "source": [
    "# pca, train_pca, test_pca = do_pca(0.9, train_vt, test_vt, target, cv)\n",
    "# train_pca.shape, test_pca.shape"
   ]
  },
  {
   "cell_type": "code",
   "execution_count": 57,
   "metadata": {},
   "outputs": [],
   "source": [
    "# pca2, train_pca2, test_pca2 = do_pca(0.9, train_sfm, test_sfm, target, cv)\n",
    "# train_pca2.shape, test_pca2.shape"
   ]
  },
  {
   "cell_type": "markdown",
   "metadata": {},
   "source": [
    "- TruncatedSVD"
   ]
  },
  {
   "cell_type": "code",
   "execution_count": 58,
   "metadata": {},
   "outputs": [],
   "source": [
    "# from sklearn.decomposition import TruncatedSVD"
   ]
  },
  {
   "cell_type": "code",
   "execution_count": 59,
   "metadata": {},
   "outputs": [],
   "source": [
    "# def do_svd(n_components, train, test, target, cv):\n",
    "#     svd = TruncatedSVD(n_components=n_components)\n",
    "\n",
    "#     train_svd = svd.fit_transform(train)\n",
    "#     test_svd = svd.transform(test)\n",
    "\n",
    "#     scores = cross_val_score(lgbm, train_svd, target, cv=cv, scoring=\"f1_macro\", n_jobs=-1)\n",
    "#     print(np.mean(scores))\n",
    "#     return svd, train_svd, test_svd"
   ]
  },
  {
   "cell_type": "code",
   "execution_count": 60,
   "metadata": {},
   "outputs": [],
   "source": [
    "# svd, train_svd, test_svd = do_svd(600, train_vt, test_vt, target, cv)"
   ]
  },
  {
   "cell_type": "code",
   "execution_count": 61,
   "metadata": {},
   "outputs": [],
   "source": [
    "# svd2, train_svd2, test_svd2 = do_svd(200, train_sfm, test_sfm, target, cv)"
   ]
  },
  {
   "cell_type": "markdown",
   "metadata": {},
   "source": [
    "- RandomProjection"
   ]
  },
  {
   "cell_type": "code",
   "execution_count": 62,
   "metadata": {},
   "outputs": [],
   "source": [
    "# from sklearn.random_projection import GaussianRandomProjection\n",
    "# from sklearn.random_projection import SparseRandomProjection"
   ]
  },
  {
   "cell_type": "code",
   "execution_count": 63,
   "metadata": {},
   "outputs": [],
   "source": [
    "# grp = GaussianRandomProjection(600, random_state=SEED)\n",
    "\n",
    "# grp_train = grp.fit_transform(train_vt, target)\n",
    "# grp_test = grp.transform(test_vt)\n",
    "\n",
    "# scores = cross_val_score(lgbm, grp_train, target, cv=cv, scoring=\"f1_macro\", n_jobs=-1)\n",
    "# np.mean(scores), grp_train.shape"
   ]
  },
  {
   "cell_type": "code",
   "execution_count": 64,
   "metadata": {},
   "outputs": [],
   "source": [
    "# srp = SparseRandomProjection(400, random_state=SEED)\n",
    "\n",
    "# srp_train = srp.fit_transform(train_vt, target)\n",
    "# srp_test = srp.transform(test_vt)\n",
    "\n",
    "# scores = cross_val_score(lgbm, srp_train, target, cv=cv, scoring=\"f1_macro\", n_jobs=-1)\n",
    "# np.mean(scores), srp_train.shape"
   ]
  },
  {
   "cell_type": "markdown",
   "metadata": {},
   "source": [
    "- LDA"
   ]
  },
  {
   "cell_type": "code",
   "execution_count": 65,
   "metadata": {},
   "outputs": [],
   "source": [
    "from sklearn.discriminant_analysis import LinearDiscriminantAnalysis as LDA\n",
    "from sklearn.model_selection import train_test_split\n",
    "from sklearn.metrics import classification_report"
   ]
  },
  {
   "cell_type": "code",
   "execution_count": 66,
   "metadata": {},
   "outputs": [],
   "source": [
    "def do_lda(n_components, train, target):\n",
    "    X_train, X_val, y_train, y_val = train_test_split(train, target, test_size=0.2, random_state=SEED)\n",
    "    lda = LDA(n_components=n_components)\n",
    "    lda = lda.fit(X_train, y_train)\n",
    "    print(classification_report(y_val, lda.predict(X_val)))\n",
    "    return lda"
   ]
  },
  {
   "cell_type": "code",
   "execution_count": 67,
   "metadata": {},
   "outputs": [],
   "source": [
    "# lda_vt = do_lda(1, train_vt, target)\n",
    "# train_lda = lda_vt.fit_transform(train_vt, target)\n",
    "# test_lda = lda_vt.transform(test_vt)"
   ]
  },
  {
   "cell_type": "code",
   "execution_count": 68,
   "metadata": {},
   "outputs": [
    {
     "name": "stdout",
     "output_type": "stream",
     "text": [
      "              precision    recall  f1-score   support\n",
      "\n",
      "         0.0       0.76      0.83      0.79      1801\n",
      "         1.0       0.70      0.60      0.64      1187\n",
      "\n",
      "    accuracy                           0.74      2988\n",
      "   macro avg       0.73      0.71      0.72      2988\n",
      "weighted avg       0.73      0.74      0.73      2988\n",
      "\n"
     ]
    }
   ],
   "source": [
    "lda_sfm = do_lda(1, train_sfm, target)\n",
    "train_sfm_lda = lda_sfm.fit_transform(train_sfm, target)\n",
    "test_sfm_lda = lda_sfm.transform(test_sfm)"
   ]
  },
  {
   "cell_type": "markdown",
   "metadata": {},
   "source": [
    "- RFECV"
   ]
  },
  {
   "cell_type": "code",
   "execution_count": 69,
   "metadata": {},
   "outputs": [],
   "source": [
    "from sklearn.feature_selection import RFECV"
   ]
  },
  {
   "cell_type": "code",
   "execution_count": 70,
   "metadata": {},
   "outputs": [
    {
     "data": {
      "text/plain": [
       "0.7191571194150841"
      ]
     },
     "execution_count": 70,
     "metadata": {},
     "output_type": "execute_result"
    }
   ],
   "source": [
    "estimator = LogisticRegression(max_iter=1000, random_state=SEED)\n",
    "rfecv = RFECV(estimator, step=10, cv=cv, scoring=\"f1_macro\", n_jobs=-1)\n",
    "\n",
    "train_rfecv = rfecv.fit_transform(train_vt, target)\n",
    "test_rfecv = rfecv.transform(test_vt)\n",
    "\n",
    "scores = cross_val_score(lgbm, train_rfecv, target, cv=cv, scoring=\"f1_macro\", n_jobs=-1)\n",
    "np.mean(scores)"
   ]
  },
  {
   "cell_type": "code",
   "execution_count": 71,
   "metadata": {},
   "outputs": [],
   "source": [
    "# df = pd.DataFrame({\n",
    "#     \"Feature\": train_vt.columns[rfecv.support_],\n",
    "#     \"Importance\": np.abs(rfecv.estimator_.coef_).flatten()\n",
    "# }).sort_values(by=\"Importance\", ascending=False)\n",
    "\n",
    "# df.head(10)"
   ]
  },
  {
   "cell_type": "markdown",
   "metadata": {},
   "source": [
    "# 모델 선택"
   ]
  },
  {
   "cell_type": "markdown",
   "metadata": {},
   "source": [
    "- 하이퍼파라미터 튜닝 클래스화"
   ]
  },
  {
   "cell_type": "code",
   "execution_count": 72,
   "metadata": {},
   "outputs": [],
   "source": [
    "import optuna\n",
    "\n",
    "class HyperarameterTuner:\n",
    "    def __init__(self, model, params, train, target):\n",
    "        self.model = model\n",
    "        self.params = params\n",
    "        self.train = train\n",
    "        self.target = target\n",
    "        self.cv = StratifiedKFold(n_splits=5, shuffle=True, random_state=42)\n",
    "        self.study = optuna.create_study(direction=\"maximize\")\n",
    "\n",
    "    def objective(self, trial):\n",
    "        params = {}\n",
    "        \n",
    "        for param_name, param_range in self.params.items():\n",
    "            if param_range[\"type\"] == \"int\":\n",
    "                params[param_name] = trial.suggest_int(\n",
    "                    param_name, param_range[\"min\"], param_range[\"max\"]\n",
    "                )\n",
    "            elif param_range[\"type\"] == \"float\":\n",
    "                params[param_name] = trial.suggest_float(\n",
    "                    param_name, param_range[\"min\"], param_range[\"max\"]\n",
    "                )\n",
    "            elif param_range[\"type\"] == \"categorical\":\n",
    "                params[param_name] = trial.suggest_categorical(\n",
    "                    param_name, param_range[\"values\"]\n",
    "                )\n",
    "\n",
    "        model = self.model(**params)\n",
    "        scores = cross_val_score(\n",
    "            model, self.train, self.target, cv=self.cv, scoring=\"f1_macro\", n_jobs=-1\n",
    "        ).mean()\n",
    "        return scores\n",
    "\n",
    "    def optimize(self, n_trials):\n",
    "        self.study.optimize(self.objective, n_trials=n_trials)\n",
    "\n",
    "    def best_params(self):\n",
    "        return self.study.best_params\n",
    "\n",
    "    def best_score(self):\n",
    "        return self.study.best_value"
   ]
  },
  {
   "cell_type": "markdown",
   "metadata": {},
   "source": [
    "## 원본 데이터에 대한 모델생성"
   ]
  },
  {
   "cell_type": "code",
   "execution_count": 73,
   "metadata": {},
   "outputs": [],
   "source": [
    "from sklearn.metrics import classification_report\n",
    "from sklearn.model_selection import train_test_split"
   ]
  },
  {
   "cell_type": "code",
   "execution_count": 74,
   "metadata": {},
   "outputs": [],
   "source": [
    "X_train, X_valid, y_train, y_valid = train_test_split(train_vt, target, test_size=0.2, random_state=SEED)"
   ]
  },
  {
   "cell_type": "markdown",
   "metadata": {},
   "source": [
    "### 부스팅방식 위주로"
   ]
  },
  {
   "cell_type": "code",
   "execution_count": 75,
   "metadata": {},
   "outputs": [],
   "source": [
    "from sklearn.ensemble import VotingClassifier, StackingClassifier, HistGradientBoostingClassifier, AdaBoostClassifier, RandomForestClassifier\n",
    "from sklearn.svm import SVC\n",
    "from sklearn.neural_network import MLPClassifier\n",
    "from xgboost import XGBClassifier\n",
    "from catboost import CatBoostClassifier"
   ]
  },
  {
   "cell_type": "markdown",
   "metadata": {},
   "source": [
    "- 기본모델에 대한 성능 확인"
   ]
  },
  {
   "cell_type": "code",
   "execution_count": 76,
   "metadata": {},
   "outputs": [],
   "source": [
    "# models = [\n",
    "#     LGBMClassifier(random_state=SEED, n_jobs=-1),\n",
    "#     RandomForestClassifier(random_state=SEED, n_jobs=-1),\n",
    "#     HistGradientBoostingClassifier(random_state=SEED),\n",
    "#     AdaBoostClassifier(random_state=SEED),\n",
    "#     SVC(random_state=SEED),\n",
    "#     MLPClassifier(random_state=SEED),\n",
    "#     XGBClassifier(random_state=SEED, n_jobs=-1),\n",
    "#     CatBoostClassifier(random_state=SEED, verbose=0),\n",
    "# ]\n",
    "\n",
    "# for model in models:\n",
    "#     scores = cross_val_score(model, train_vt, target, cv=cv, scoring=\"f1_macro\", n_jobs=-1)\n",
    "#     print(f\"{model.__class__.__name__} : {np.mean(scores)}, {np.std(scores)}\")"
   ]
  },
  {
   "cell_type": "markdown",
   "metadata": {},
   "source": [
    "- LGBMClassifier"
   ]
  },
  {
   "cell_type": "code",
   "execution_count": 77,
   "metadata": {},
   "outputs": [],
   "source": [
    "# params = {\n",
    "#     'objective': {'type': 'categorical', 'values': ['binary']},\n",
    "#     'num_iterations': {'type': 'int', 'min': 100, 'max': 1000},\n",
    "#     'num_leaves': {'type': 'int', 'min': 31, 'max': 128},\n",
    "#     'force_col_wise': {'type': 'categorical', 'values': [True]},\n",
    "#     'max_depth': {'type': 'int', 'min': 3, 'max': 20},\n",
    "#     'learning_rate': {'type': 'float', 'min': 0.01, 'max': 0.1},\n",
    "#     'min_data_in_leaf': {'type': 'int', 'min': 10, 'max': 100},\n",
    "#     'scale_pos_weight': {'type': 'float', 'min': 1.5, 'max': 1.5},\n",
    "#     'random_state': {'type': 'int', 'min': 42, 'max': 42},\n",
    "#     'n_jobs': {'type': 'int', 'min': -1, 'max': -1},\n",
    "# }\n",
    "\n",
    "# lgbm_vt_tuner = HyperarameterTuner(LGBMClassifier, params, train_vt, target)\n",
    "# lgbm_vt_tuner.optimize(50)\n",
    "# lgbm_vt_tuner.best_params(), lgbm_vt_tuner.best_score()"
   ]
  },
  {
   "cell_type": "code",
   "execution_count": 78,
   "metadata": {},
   "outputs": [],
   "source": [
    "params = {\n",
    "    \"objective\": \"binary\",\n",
    "    \"n_estimators\": 587,\n",
    "    \"num_leaves\": 58,\n",
    "    \"force_col_wise\": True,\n",
    "    \"max_depth\": 17,\n",
    "    \"learning_rate\": 0.01815685572436884,\n",
    "    \"min_child_samples\": 64,\n",
    "    \"scale_pos_weight\": 1.5,\n",
    "    \"random_state\": 42,\n",
    "    \"n_jobs\": -1,\n",
    "}\n",
    "\n",
    "lgbm_vt_final = LGBMClassifier(**params)"
   ]
  },
  {
   "cell_type": "code",
   "execution_count": 79,
   "metadata": {},
   "outputs": [
    {
     "name": "stdout",
     "output_type": "stream",
     "text": [
      "[LightGBM] [Warning] No further splits with positive gain, best gain: -inf\n",
      "[LightGBM] [Warning] No further splits with positive gain, best gain: -inf\n",
      "[LightGBM] [Warning] No further splits with positive gain, best gain: -inf\n",
      "[LightGBM] [Warning] No further splits with positive gain, best gain: -inf\n",
      "[LightGBM] [Warning] No further splits with positive gain, best gain: -inf\n",
      "[LightGBM] [Warning] No further splits with positive gain, best gain: -inf\n",
      "[LightGBM] [Warning] No further splits with positive gain, best gain: -inf\n",
      "[LightGBM] [Warning] No further splits with positive gain, best gain: -inf\n",
      "[LightGBM] [Warning] No further splits with positive gain, best gain: -inf\n",
      "[LightGBM] [Warning] No further splits with positive gain, best gain: -inf\n",
      "[LightGBM] [Warning] No further splits with positive gain, best gain: -inf\n",
      "[LightGBM] [Warning] No further splits with positive gain, best gain: -inf\n",
      "[LightGBM] [Warning] No further splits with positive gain, best gain: -inf\n",
      "[LightGBM] [Warning] No further splits with positive gain, best gain: -inf\n",
      "[LightGBM] [Warning] No further splits with positive gain, best gain: -inf\n",
      "[LightGBM] [Warning] No further splits with positive gain, best gain: -inf\n",
      "[LightGBM] [Warning] No further splits with positive gain, best gain: -inf\n",
      "[LightGBM] [Warning] No further splits with positive gain, best gain: -inf\n",
      "[LightGBM] [Warning] No further splits with positive gain, best gain: -inf\n",
      "[LightGBM] [Warning] No further splits with positive gain, best gain: -inf\n",
      "[LightGBM] [Warning] No further splits with positive gain, best gain: -inf\n",
      "[LightGBM] [Warning] No further splits with positive gain, best gain: -inf\n",
      "[LightGBM] [Warning] No further splits with positive gain, best gain: -inf\n",
      "[LightGBM] [Warning] No further splits with positive gain, best gain: -inf\n",
      "[LightGBM] [Warning] No further splits with positive gain, best gain: -inf\n",
      "[LightGBM] [Warning] No further splits with positive gain, best gain: -inf\n",
      "[LightGBM] [Warning] No further splits with positive gain, best gain: -inf\n",
      "[LightGBM] [Warning] No further splits with positive gain, best gain: -inf\n",
      "[LightGBM] [Warning] No further splits with positive gain, best gain: -inf\n",
      "[LightGBM] [Warning] No further splits with positive gain, best gain: -inf\n",
      "[LightGBM] [Warning] No further splits with positive gain, best gain: -inf\n",
      "[LightGBM] [Warning] No further splits with positive gain, best gain: -inf\n",
      "[LightGBM] [Warning] No further splits with positive gain, best gain: -inf\n",
      "[LightGBM] [Warning] No further splits with positive gain, best gain: -inf\n",
      "[LightGBM] [Warning] No further splits with positive gain, best gain: -inf\n",
      "[LightGBM] [Warning] No further splits with positive gain, best gain: -inf\n",
      "[LightGBM] [Warning] No further splits with positive gain, best gain: -inf\n",
      "[LightGBM] [Warning] No further splits with positive gain, best gain: -inf\n",
      "[LightGBM] [Warning] No further splits with positive gain, best gain: -inf\n",
      "[LightGBM] [Warning] No further splits with positive gain, best gain: -inf\n",
      "[LightGBM] [Warning] No further splits with positive gain, best gain: -inf\n",
      "[LightGBM] [Warning] No further splits with positive gain, best gain: -inf\n",
      "[LightGBM] [Warning] No further splits with positive gain, best gain: -inf\n",
      "[LightGBM] [Warning] No further splits with positive gain, best gain: -inf\n",
      "[LightGBM] [Warning] No further splits with positive gain, best gain: -inf\n",
      "[LightGBM] [Warning] No further splits with positive gain, best gain: -inf\n",
      "[LightGBM] [Warning] No further splits with positive gain, best gain: -inf\n",
      "[LightGBM] [Warning] No further splits with positive gain, best gain: -inf\n",
      "[LightGBM] [Warning] No further splits with positive gain, best gain: -inf\n",
      "[LightGBM] [Warning] No further splits with positive gain, best gain: -inf\n",
      "[LightGBM] [Warning] No further splits with positive gain, best gain: -inf\n",
      "[LightGBM] [Warning] No further splits with positive gain, best gain: -inf\n",
      "[LightGBM] [Warning] No further splits with positive gain, best gain: -inf\n",
      "[LightGBM] [Warning] No further splits with positive gain, best gain: -inf\n",
      "[LightGBM] [Warning] No further splits with positive gain, best gain: -inf\n",
      "[LightGBM] [Warning] No further splits with positive gain, best gain: -inf\n",
      "[LightGBM] [Warning] No further splits with positive gain, best gain: -inf\n",
      "[LightGBM] [Warning] No further splits with positive gain, best gain: -inf\n",
      "[LightGBM] [Warning] No further splits with positive gain, best gain: -inf\n",
      "[LightGBM] [Warning] No further splits with positive gain, best gain: -inf\n",
      "[LightGBM] [Warning] No further splits with positive gain, best gain: -inf\n",
      "[LightGBM] [Warning] No further splits with positive gain, best gain: -inf\n",
      "[LightGBM] [Warning] No further splits with positive gain, best gain: -inf\n",
      "[LightGBM] [Warning] No further splits with positive gain, best gain: -inf\n",
      "[LightGBM] [Warning] No further splits with positive gain, best gain: -inf\n",
      "[LightGBM] [Warning] No further splits with positive gain, best gain: -inf\n",
      "[LightGBM] [Warning] No further splits with positive gain, best gain: -inf\n",
      "[LightGBM] [Warning] No further splits with positive gain, best gain: -inf\n",
      "[LightGBM] [Warning] No further splits with positive gain, best gain: -inf\n",
      "[LightGBM] [Warning] No further splits with positive gain, best gain: -inf\n",
      "[LightGBM] [Warning] No further splits with positive gain, best gain: -inf\n",
      "[LightGBM] [Warning] No further splits with positive gain, best gain: -inf\n",
      "[LightGBM] [Warning] No further splits with positive gain, best gain: -inf\n",
      "[LightGBM] [Warning] No further splits with positive gain, best gain: -inf\n",
      "[LightGBM] [Warning] No further splits with positive gain, best gain: -inf\n",
      "[LightGBM] [Warning] No further splits with positive gain, best gain: -inf\n",
      "[LightGBM] [Warning] No further splits with positive gain, best gain: -inf\n",
      "[LightGBM] [Warning] No further splits with positive gain, best gain: -inf\n",
      "[LightGBM] [Warning] No further splits with positive gain, best gain: -inf\n",
      "[LightGBM] [Warning] No further splits with positive gain, best gain: -inf\n",
      "[LightGBM] [Warning] No further splits with positive gain, best gain: -inf\n",
      "[LightGBM] [Warning] No further splits with positive gain, best gain: -inf\n",
      "[LightGBM] [Warning] No further splits with positive gain, best gain: -inf\n",
      "[LightGBM] [Warning] No further splits with positive gain, best gain: -inf\n",
      "[LightGBM] [Warning] No further splits with positive gain, best gain: -inf\n",
      "[LightGBM] [Warning] No further splits with positive gain, best gain: -inf\n",
      "[LightGBM] [Warning] No further splits with positive gain, best gain: -inf\n",
      "[LightGBM] [Warning] No further splits with positive gain, best gain: -inf\n",
      "[LightGBM] [Warning] No further splits with positive gain, best gain: -inf\n",
      "[LightGBM] [Warning] No further splits with positive gain, best gain: -inf\n",
      "[LightGBM] [Warning] No further splits with positive gain, best gain: -inf\n",
      "[LightGBM] [Warning] No further splits with positive gain, best gain: -inf\n",
      "[LightGBM] [Warning] No further splits with positive gain, best gain: -inf\n",
      "[LightGBM] [Warning] No further splits with positive gain, best gain: -inf\n",
      "[LightGBM] [Warning] No further splits with positive gain, best gain: -inf\n",
      "[LightGBM] [Warning] No further splits with positive gain, best gain: -inf\n",
      "[LightGBM] [Warning] No further splits with positive gain, best gain: -inf\n",
      "[LightGBM] [Warning] No further splits with positive gain, best gain: -inf\n",
      "[LightGBM] [Warning] No further splits with positive gain, best gain: -inf\n",
      "[LightGBM] [Warning] No further splits with positive gain, best gain: -inf\n",
      "[LightGBM] [Warning] No further splits with positive gain, best gain: -inf\n",
      "[LightGBM] [Warning] No further splits with positive gain, best gain: -inf\n",
      "[LightGBM] [Warning] No further splits with positive gain, best gain: -inf\n",
      "[LightGBM] [Warning] No further splits with positive gain, best gain: -inf\n",
      "[LightGBM] [Warning] No further splits with positive gain, best gain: -inf\n",
      "[LightGBM] [Warning] No further splits with positive gain, best gain: -inf\n",
      "[LightGBM] [Warning] No further splits with positive gain, best gain: -inf\n",
      "[LightGBM] [Warning] No further splits with positive gain, best gain: -inf\n",
      "[LightGBM] [Warning] No further splits with positive gain, best gain: -inf\n",
      "[LightGBM] [Warning] No further splits with positive gain, best gain: -inf\n",
      "[LightGBM] [Warning] No further splits with positive gain, best gain: -inf\n",
      "[LightGBM] [Warning] No further splits with positive gain, best gain: -inf\n",
      "[LightGBM] [Warning] No further splits with positive gain, best gain: -inf\n",
      "[LightGBM] [Warning] No further splits with positive gain, best gain: -inf\n",
      "[LightGBM] [Warning] No further splits with positive gain, best gain: -inf\n",
      "              precision    recall  f1-score   support\n",
      "\n",
      "         0.0       0.78      0.77      0.78      1801\n",
      "         1.0       0.66      0.67      0.67      1187\n",
      "\n",
      "    accuracy                           0.73      2988\n",
      "   macro avg       0.72      0.72      0.72      2988\n",
      "weighted avg       0.73      0.73      0.73      2988\n",
      "\n"
     ]
    }
   ],
   "source": [
    "lgbm_vt_final.fit(X_train, y_train)\n",
    "print(classification_report(y_valid, lgbm_vt_final.predict(X_valid)))"
   ]
  },
  {
   "cell_type": "markdown",
   "metadata": {},
   "source": [
    "- XGBoost"
   ]
  },
  {
   "cell_type": "code",
   "execution_count": 80,
   "metadata": {},
   "outputs": [],
   "source": [
    "# params = {\n",
    "#     'n_estimators': {'type': 'int', 'min': 100, 'max': 1000},\n",
    "#     'learning_rate': {'type': 'float', 'min': 0.05, 'max': 0.3},\n",
    "#     'max_depth': {'type': 'int', 'min': 3, 'max': 7},\n",
    "#     'min_child_weight': {'type': 'int', 'min': 1, 'max': 5},\n",
    "#     'subsample': {'type': 'float', 'min': 0.7, 'max': 1.0},\n",
    "#     'colsample_bytree': {'type': 'float', 'min': 0.7, 'max': 1.0},\n",
    "#     'gamma': {'type': 'float', 'min': 0, 'max': 2},\n",
    "#     'lambda': {'type': 'float', 'min': 0.1, 'max': 1.0},\n",
    "#     'alpha': {'type': 'float', 'min': 0.0, 'max': 1.0},\n",
    "#     'scale_pos_weight': {'type': 'float', 'min': 1.5, 'max': 1.5},\n",
    "#     'random_state': {'type': 'int', 'min': 42, 'max': 42},\n",
    "#     'n_jobs': {'type': 'int', 'min': -1, 'max': -1},\n",
    "# }\n",
    "\n",
    "# xgb_vt_tuner = HyperarameterTuner(XGBClassifier, params, train_vt, target)\n",
    "# xgb_vt_tuner.optimize(30)\n",
    "# xgb_vt_tuner.best_params(), xgb_vt_tuner.best_score()"
   ]
  },
  {
   "cell_type": "code",
   "execution_count": 81,
   "metadata": {},
   "outputs": [],
   "source": [
    "params = {\n",
    "    \"n_estimators\": 660,\n",
    "    \"learning_rate\": 0.05575830628884475,\n",
    "    \"max_depth\": 7,\n",
    "    \"min_child_weight\": 4,\n",
    "    \"subsample\": 0.9968583722252105,\n",
    "    \"colsample_bytree\": 0.8024123816323979,\n",
    "    \"gamma\": 1.0434655973021112,\n",
    "    \"lambda\": 0.12381729989430783,\n",
    "    \"alpha\": 0.2666789943507792,\n",
    "    \"scale_pos_weight\": 1.5,\n",
    "    \"random_state\": 42,\n",
    "    \"n_jobs\": -1,\n",
    "}\n",
    "\n",
    "xgb_vt_final = XGBClassifier(**params,)"
   ]
  },
  {
   "cell_type": "code",
   "execution_count": 82,
   "metadata": {},
   "outputs": [
    {
     "name": "stdout",
     "output_type": "stream",
     "text": [
      "              precision    recall  f1-score   support\n",
      "\n",
      "         0.0       0.77      0.78      0.77      1801\n",
      "         1.0       0.66      0.65      0.66      1187\n",
      "\n",
      "    accuracy                           0.73      2988\n",
      "   macro avg       0.72      0.72      0.72      2988\n",
      "weighted avg       0.73      0.73      0.73      2988\n",
      "\n"
     ]
    }
   ],
   "source": [
    "xgb_vt_final.fit(X_train, y_train)\n",
    "print(classification_report(y_valid, xgb_vt_final.predict(X_valid)))"
   ]
  },
  {
   "cell_type": "markdown",
   "metadata": {},
   "source": [
    "- CatBoost"
   ]
  },
  {
   "cell_type": "code",
   "execution_count": 83,
   "metadata": {},
   "outputs": [],
   "source": [
    "# params = {\n",
    "#     'eval_metric': {'type': 'categorical', 'values': ['F1']},\n",
    "#     'iterations': {'type': 'int', 'min': 200, 'max': 800},\n",
    "#     'learning_rate': {'type': 'float', 'min': 0.01, 'max': 0.3},\n",
    "#     'depth': {'type': 'int', 'min': 4, 'max': 10},\n",
    "#     'l2_leaf_reg': {'type': 'float', 'min': 1, 'max': 10},\n",
    "#     'bagging_temperature': {'type': 'float', 'min': 0, 'max': 1},\n",
    "#     'border_count': {'type': 'int', 'min': 32, 'max': 255},\n",
    "#     'grow_policy': {'type': 'categorical', 'values': ['Depthwise', 'Lossguide']},\n",
    "#     'min_data_in_leaf': {'type': 'int', 'min': 1, 'max': 100},\n",
    "#     'scale_pos_weight': {'type': 'float', 'min': 1.5, 'max': 1.5},\n",
    "#     'random_state': {'type': 'int', 'min': 42, 'max': 42},\n",
    "# }\n",
    "\n",
    "# cat_vt_tuner = HyperarameterTuner(CatBoostClassifier, params, train_vt, target)\n",
    "# cat_vt_tuner.optimize(50)\n",
    "# cat_vt_tuner.best_params(), cat_vt_tuner.best_score()"
   ]
  },
  {
   "cell_type": "code",
   "execution_count": 84,
   "metadata": {},
   "outputs": [],
   "source": [
    "params = {\n",
    "    \"eval_metric\": \"F1\",\n",
    "    \"iterations\": 728,\n",
    "    \"learning_rate\": 0.03552144451608845,\n",
    "    \"depth\": 7,\n",
    "    \"l2_leaf_reg\": 7.248667776169776,\n",
    "    \"bagging_temperature\": 0.5466127888413056,\n",
    "    \"border_count\": 94,\n",
    "    \"grow_policy\": \"Lossguide\",\n",
    "    \"min_data_in_leaf\": 13,\n",
    "    \"scale_pos_weight\": 1.5,\n",
    "    \"random_state\": 42,\n",
    "}\n",
    "\n",
    "cat_vt_final = CatBoostClassifier(**params, verbose=0)"
   ]
  },
  {
   "cell_type": "code",
   "execution_count": 85,
   "metadata": {},
   "outputs": [
    {
     "name": "stdout",
     "output_type": "stream",
     "text": [
      "              precision    recall  f1-score   support\n",
      "\n",
      "         0.0       0.79      0.76      0.78      1801\n",
      "         1.0       0.66      0.69      0.67      1187\n",
      "\n",
      "    accuracy                           0.73      2988\n",
      "   macro avg       0.72      0.73      0.73      2988\n",
      "weighted avg       0.74      0.73      0.74      2988\n",
      "\n"
     ]
    }
   ],
   "source": [
    "cat_vt_final.fit(X_train, y_train)\n",
    "print(classification_report(y_valid, cat_vt_final.predict(X_valid)))"
   ]
  },
  {
   "cell_type": "code",
   "execution_count": 147,
   "metadata": {},
   "outputs": [
    {
     "data": {
      "text/plain": [
       "0.729745423859859"
      ]
     },
     "execution_count": 147,
     "metadata": {},
     "output_type": "execute_result"
    }
   ],
   "source": [
    "cross_val_score(cat_vt_final, train_vt, target, cv=cv, scoring=\"f1_macro\", n_jobs=-1).mean()"
   ]
  },
  {
   "cell_type": "markdown",
   "metadata": {},
   "source": [
    "- StackingClassifier"
   ]
  },
  {
   "cell_type": "code",
   "execution_count": 86,
   "metadata": {},
   "outputs": [],
   "source": [
    "estimators = [\n",
    "    ('lgbm_vt_final', lgbm_vt_final),\n",
    "    ('cat_vt_final', cat_vt_final),\n",
    "    ('xgb_vt_final', xgb_vt_final),\n",
    "]\n",
    "\n",
    "final_estimator = LogisticRegression(random_state=SEED, n_jobs=-1)\n",
    "stacking_vt = StackingClassifier(estimators=estimators, final_estimator=final_estimator, cv=cv, n_jobs=-1)"
   ]
  },
  {
   "cell_type": "code",
   "execution_count": 87,
   "metadata": {},
   "outputs": [
    {
     "data": {
      "text/plain": [
       "0.7295358767203985"
      ]
     },
     "execution_count": 87,
     "metadata": {},
     "output_type": "execute_result"
    }
   ],
   "source": [
    "cross_val_score(stacking_vt, train_vt, target, cv=cv, scoring=\"f1_macro\", n_jobs=-1).mean()"
   ]
  },
  {
   "cell_type": "code",
   "execution_count": 88,
   "metadata": {},
   "outputs": [
    {
     "name": "stdout",
     "output_type": "stream",
     "text": [
      "              precision    recall  f1-score   support\n",
      "\n",
      "         0.0       0.77      0.81      0.79      1801\n",
      "         1.0       0.69      0.63      0.66      1187\n",
      "\n",
      "    accuracy                           0.74      2988\n",
      "   macro avg       0.73      0.72      0.73      2988\n",
      "weighted avg       0.74      0.74      0.74      2988\n",
      "\n"
     ]
    }
   ],
   "source": [
    "stacking_vt.fit(X_train, y_train)\n",
    "print(classification_report(y_valid, stacking_vt.predict(X_valid)))"
   ]
  },
  {
   "cell_type": "markdown",
   "metadata": {},
   "source": [
    "## 차원축소된 데이터에 대한 모델생성"
   ]
  },
  {
   "cell_type": "markdown",
   "metadata": {},
   "source": [
    "### rfecv 차원축소 데이터"
   ]
  },
  {
   "cell_type": "code",
   "execution_count": 89,
   "metadata": {},
   "outputs": [],
   "source": [
    "from sklearn.linear_model import SGDClassifier, LogisticRegression, RidgeClassifier\n",
    "from sklearn.svm import LinearSVC"
   ]
  },
  {
   "cell_type": "code",
   "execution_count": 90,
   "metadata": {},
   "outputs": [],
   "source": [
    "# X_train, X_valid, y_train, y_valid = train_test_split(train_rfecv, target, test_size=0.2, random_state=SEED)"
   ]
  },
  {
   "cell_type": "markdown",
   "metadata": {},
   "source": [
    "- 기본모델에 대한 성능 확인"
   ]
  },
  {
   "cell_type": "code",
   "execution_count": 91,
   "metadata": {},
   "outputs": [],
   "source": [
    "# models = [\n",
    "#     SGDClassifier(random_state=SEED, n_jobs=-1),\n",
    "#     LogisticRegression(random_state=SEED, n_jobs=-1),\n",
    "#     RidgeClassifier(random_state=SEED),\n",
    "#     LinearSVC(random_state=SEED),\n",
    "#     LGBMClassifier(random_state=SEED, n_jobs=-1),\n",
    "#     XGBClassifier(random_state=SEED, n_jobs=-1),\n",
    "#     CatBoostClassifier(random_state=SEED, verbose=0),\n",
    "#     RandomForestClassifier(random_state=SEED, n_jobs=-1),\n",
    "#     HistGradientBoostingClassifier(random_state=SEED),\n",
    "#     AdaBoostClassifier(random_state=SEED),\n",
    "# ]\n",
    "\n",
    "# for model in models:\n",
    "#     scores = cross_val_score(model, train_rfecv, target, cv=cv, scoring=\"f1_macro\", n_jobs=-1)\n",
    "#     print(f\"{model.__class__.__name__} : {np.mean(scores)}, {np.std(scores)}\")"
   ]
  },
  {
   "cell_type": "markdown",
   "metadata": {},
   "source": [
    "- LogisticRegression"
   ]
  },
  {
   "cell_type": "code",
   "execution_count": 92,
   "metadata": {},
   "outputs": [],
   "source": [
    "# params = {\n",
    "#     'penalty': {'type': 'categorical', 'values': ['l1', 'l2']},\n",
    "#     'C': {'type': 'float', 'min': 0.01, 'max': 10.0},\n",
    "#     'solver': {'type': 'categorical', 'values': ['liblinear', 'saga']},\n",
    "#     'max_iter': {'type': 'int', 'min': 100, 'max': 1000},\n",
    "#     'tol': {'type': 'float', 'min': 1e-5, 'max': 1e-3},\n",
    "#     'class_weight': {'type': 'categorical', 'values': ['balanced']},\n",
    "#     'random_state': {'type': 'int', 'min': 42, 'max': 42},\n",
    "# }\n",
    "\n",
    "# lr_rfecv_tuner = HyperarameterTuner(LogisticRegression, params, train_rfecv, target)\n",
    "# lr_rfecv_tuner.optimize(50)\n",
    "# lr_rfecv_tuner.best_params(), lr_rfecv_tuner.best_score()"
   ]
  },
  {
   "cell_type": "code",
   "execution_count": 93,
   "metadata": {},
   "outputs": [],
   "source": [
    "params = {\n",
    "    \"penalty\": \"l1\",\n",
    "    \"C\": 0.9009814576647523,\n",
    "    \"solver\": \"liblinear\",\n",
    "    \"max_iter\": 777,\n",
    "    \"tol\": 0.000180003730892121,\n",
    "    \"class_weight\": \"balanced\",\n",
    "    \"random_state\": 42,\n",
    "}\n",
    "\n",
    "lr_rfecv_final = LogisticRegression(**params)"
   ]
  },
  {
   "cell_type": "code",
   "execution_count": 94,
   "metadata": {},
   "outputs": [],
   "source": [
    "# lr_rfecv_final.fit(X_train, y_train)\n",
    "# print(classification_report(y_valid, lr_rfecv_final.predict(X_valid)))"
   ]
  },
  {
   "cell_type": "markdown",
   "metadata": {},
   "source": [
    "- LinearSVC"
   ]
  },
  {
   "cell_type": "code",
   "execution_count": 95,
   "metadata": {},
   "outputs": [],
   "source": [
    "# params = {\n",
    "#     'C': {'type': 'float', 'min': 0.01, 'max': 10.0},\n",
    "#     'penalty': {'type': 'categorical', 'values': ['l1', 'l2']},\n",
    "#     'loss': {'type': 'categorical', 'values': ['squared_hinge']},\n",
    "#     'dual': {'type': 'categorical', 'values': [False]},\n",
    "#     'tol': {'type': 'float', 'min': 1e-5, 'max': 1e-3},\n",
    "#     'max_iter': {'type': 'int', 'min': 1000, 'max': 5000},\n",
    "#     'class_weight': {'type': 'categorical', 'values': ['balanced']},\n",
    "#     'random_state': {'type': 'int', 'min': 42, 'max': 42},\n",
    "# }\n",
    "\n",
    "# lsvc_rfecv_tuner = HyperarameterTuner(LinearSVC, params, train_rfecv, target)\n",
    "# lsvc_rfecv_tuner.optimize(50)\n",
    "# lsvc_rfecv_tuner.best_params(), lsvc_rfecv_tuner.best_score()"
   ]
  },
  {
   "cell_type": "code",
   "execution_count": 96,
   "metadata": {},
   "outputs": [],
   "source": [
    "params = {\n",
    "    \"C\": 6.2430613151701415,\n",
    "    \"penalty\": \"l1\",\n",
    "    \"loss\": \"squared_hinge\",\n",
    "    \"dual\": False,\n",
    "    \"tol\": 0.0004462711899132743,\n",
    "    \"max_iter\": 2095,\n",
    "    \"class_weight\": \"balanced\",\n",
    "    \"random_state\": 42,\n",
    "}\n",
    "\n",
    "lsvc_rfecv_final = LinearSVC(**params)"
   ]
  },
  {
   "cell_type": "code",
   "execution_count": 97,
   "metadata": {},
   "outputs": [],
   "source": [
    "# lsvc_rfecv_final.fit(X_train, y_train)\n",
    "# print(classification_report(y_valid, lsvc_rfecv_final.predict(X_valid)))"
   ]
  },
  {
   "cell_type": "markdown",
   "metadata": {},
   "source": [
    "- SGDClassifier"
   ]
  },
  {
   "cell_type": "code",
   "execution_count": 98,
   "metadata": {},
   "outputs": [],
   "source": [
    "# params = {\n",
    "#     'loss': {'type': 'categorical', 'values': ['hinge', 'log_loss', 'modified_huber', 'squared_hinge', 'perceptron']},\n",
    "#     'penalty': {'type': 'categorical', 'values': ['l1', 'l2']},\n",
    "#     'alpha': {'type': 'float', 'min': 1e-6, 'max': 1e-2},\n",
    "#     'l1_ratio': {'type': 'float', 'min': 0.1, 'max': 0.9},\n",
    "#     'learning_rate': {'type': 'categorical', 'values': ['constant', 'optimal', 'invscaling', 'adaptive']},\n",
    "#     'eta0': {'type': 'float', 'min': 1e-4, 'max': 1e-1},\n",
    "#     'max_iter': {'type': 'int', 'min': 100, 'max': 5000},\n",
    "#     'tol': {'type': 'float', 'min': 1e-5, 'max': 1e-3},\n",
    "#     'class_weight': {'type': 'categorical', 'values': ['balanced']},\n",
    "#     'random_state': {'type': 'int', 'min': 42, 'max': 42},\n",
    "# }\n",
    "\n",
    "# sgd_rfecv_tuner = HyperarameterTuner(SGDClassifier, params, train_rfecv, target)\n",
    "# sgd_rfecv_tuner.optimize(50)\n",
    "# sgd_rfecv_tuner.best_params(), sgd_rfecv_tuner.best_score()"
   ]
  },
  {
   "cell_type": "code",
   "execution_count": 99,
   "metadata": {},
   "outputs": [],
   "source": [
    "params = {\n",
    "    \"loss\": \"modified_huber\",\n",
    "    \"penalty\": \"l2\",\n",
    "    \"alpha\": 0.003027216973071361,\n",
    "    \"l1_ratio\": 0.6482941900747266,\n",
    "    \"learning_rate\": \"adaptive\",\n",
    "    \"eta0\": 0.01883232969699258,\n",
    "    \"max_iter\": 4438,\n",
    "    \"tol\": 0.0004324328190978092,\n",
    "    \"class_weight\": \"balanced\",\n",
    "    \"random_state\": 42,\n",
    "}\n",
    "\n",
    "sgd_rfecv_final = SGDClassifier(**params, n_jobs=-1)"
   ]
  },
  {
   "cell_type": "code",
   "execution_count": 100,
   "metadata": {},
   "outputs": [],
   "source": [
    "# sgd_rfecv_final.fit(X_train, y_train)\n",
    "# print(classification_report(y_valid, sgd_rfecv_final.predict(X_valid)))"
   ]
  },
  {
   "cell_type": "markdown",
   "metadata": {},
   "source": [
    "- LGBMClassifier"
   ]
  },
  {
   "cell_type": "code",
   "execution_count": 101,
   "metadata": {},
   "outputs": [],
   "source": [
    "# params = {\n",
    "#     \"objective\": {\"type\": \"categorical\", \"values\": [\"binary\"]},\n",
    "#     \"num_iterations\": {\"type\": \"int\", \"min\": 100, \"max\": 1000},\n",
    "#     \"num_leaves\": {\"type\": \"int\", \"min\": 31, \"max\": 128},\n",
    "#     \"force_col_wise\": {\"type\": \"categorical\", \"values\": [True]},\n",
    "#     \"max_depth\": {\"type\": \"int\", \"min\": 3, \"max\": 20},\n",
    "#     \"learning_rate\": {\"type\": \"float\", \"min\": 0.01, \"max\": 0.1},\n",
    "#     \"min_data_in_leaf\": {\"type\": \"int\", \"min\": 10, \"max\": 100},\n",
    "#     'scale_pos_weight': {'type': 'float', 'min': 1.5, 'max': 1.5},\n",
    "#     \"random_state\": {\"type\": \"int\", \"min\": 42, \"max\": 42},\n",
    "#     \"n_jobs\": {\"type\": \"int\", \"min\": -1, \"max\": -1},\n",
    "# }\n",
    "\n",
    "# lgbm_rfecv_tuner = HyperarameterTuner(LGBMClassifier, params, train_rfecv, target)\n",
    "# lgbm_rfecv_tuner.optimize(50)\n",
    "# lgbm_rfecv_tuner.best_params(), lgbm_rfecv_tuner.best_score()"
   ]
  },
  {
   "cell_type": "code",
   "execution_count": 102,
   "metadata": {},
   "outputs": [],
   "source": [
    "params = {\n",
    "    \"objective\": \"binary\",\n",
    "    \"n_estimators\": 435,\n",
    "    \"num_leaves\": 64,\n",
    "    \"force_col_wise\": True,\n",
    "    \"max_depth\": 14,\n",
    "    \"learning_rate\": 0.02106599014877994,\n",
    "    \"min_child_samples\": 90,\n",
    "    \"scale_pos_weight\": 1.5,\n",
    "    \"random_state\": 42,\n",
    "    \"n_jobs\": -1,\n",
    "}\n",
    "\n",
    "lgbm_rfecv_final = LGBMClassifier(**params)"
   ]
  },
  {
   "cell_type": "code",
   "execution_count": 103,
   "metadata": {},
   "outputs": [],
   "source": [
    "# lgbm_rfecv_final.fit(X_train, y_train)\n",
    "# print(classification_report(y_valid, lgbm_rfecv_final.predict(X_valid)))"
   ]
  },
  {
   "cell_type": "markdown",
   "metadata": {},
   "source": [
    "- CatBoost"
   ]
  },
  {
   "cell_type": "code",
   "execution_count": 104,
   "metadata": {},
   "outputs": [],
   "source": [
    "# params = {\n",
    "#     'eval_metric': {'type': 'categorical', 'values': ['F1']},\n",
    "#     'iterations': {'type': 'int', 'min': 200, 'max': 800},\n",
    "#     'learning_rate': {'type': 'float', 'min': 0.01, 'max': 0.3},\n",
    "#     'depth': {'type': 'int', 'min': 4, 'max': 10},\n",
    "#     'l2_leaf_reg': {'type': 'float', 'min': 1, 'max': 10},\n",
    "#     'bagging_temperature': {'type': 'float', 'min': 0, 'max': 1},\n",
    "#     'border_count': {'type': 'int', 'min': 32, 'max': 255},\n",
    "#     'grow_policy': {'type': 'categorical', 'values': ['Depthwise', 'Lossguide']},\n",
    "#     'min_data_in_leaf': {'type': 'int', 'min': 1, 'max': 100},\n",
    "#     'scale_pos_weight': {'type': 'float', 'min': 1.5, 'max': 1.5},\n",
    "#     'random_state': {'type': 'int', 'min': 42, 'max': 42},\n",
    "# }\n",
    "\n",
    "# cat_rfecv_tuner = HyperarameterTuner(CatBoostClassifier, params, train_rfecv, target)\n",
    "# cat_rfecv_tuner.optimize(50)\n",
    "# cat_rfecv_tuner.best_params(), cat_rfecv_tuner.best_score()"
   ]
  },
  {
   "cell_type": "code",
   "execution_count": 105,
   "metadata": {},
   "outputs": [],
   "source": [
    "params = {\n",
    "    \"eval_metric\": \"F1\",\n",
    "    \"iterations\": 467,\n",
    "    \"learning_rate\": 0.0315528252523364,\n",
    "    \"depth\": 7,\n",
    "    \"l2_leaf_reg\": 4.379125470613464,\n",
    "    \"bagging_temperature\": 0.797143623444388,\n",
    "    \"border_count\": 98,\n",
    "    \"grow_policy\": \"Lossguide\",\n",
    "    \"min_data_in_leaf\": 38,\n",
    "    \"scale_pos_weight\": 1.5,\n",
    "    \"random_state\": 42,\n",
    "}\n",
    "cat_rfecv_final = CatBoostClassifier(**params, verbose=0)"
   ]
  },
  {
   "cell_type": "code",
   "execution_count": 106,
   "metadata": {},
   "outputs": [],
   "source": [
    "# cat_rfecv_final.fit(X_train, y_train)\n",
    "# print(classification_report(y_valid, cat_rfecv_final.predict(X_valid)))"
   ]
  },
  {
   "cell_type": "markdown",
   "metadata": {},
   "source": [
    "- StackingClassifier"
   ]
  },
  {
   "cell_type": "code",
   "execution_count": 107,
   "metadata": {},
   "outputs": [],
   "source": [
    "estimators = [\n",
    "    ('lr_rfecv_final', lr_rfecv_final),\n",
    "    ('lsvc_rfecv_final', lsvc_rfecv_final),\n",
    "    ('sgd_rfecv_final', sgd_rfecv_final),\n",
    "    ('lgbm_rfecv_final', lgbm_rfecv_final),\n",
    "    ('cat_rfecv_final', cat_rfecv_final),\n",
    "]\n",
    "\n",
    "final_estimator = LogisticRegression(random_state=SEED, n_jobs=-1)\n",
    "stacking_rfecv = StackingClassifier(estimators=estimators, final_estimator=final_estimator, cv=cv, n_jobs=-1)"
   ]
  },
  {
   "cell_type": "code",
   "execution_count": 108,
   "metadata": {},
   "outputs": [],
   "source": [
    "# cross_val_score(stacking_rfecv, train_rfecv, target, cv=cv, scoring=\"f1_macro\", n_jobs=-1).mean()"
   ]
  },
  {
   "cell_type": "code",
   "execution_count": 109,
   "metadata": {},
   "outputs": [],
   "source": [
    "# stacking_rfecv.fit(X_train, y_train)\n",
    "# print(classification_report(y_valid, stacking_rfecv.predict(X_valid)))"
   ]
  },
  {
   "cell_type": "markdown",
   "metadata": {},
   "source": [
    "### sfm 차원축소 데이터"
   ]
  },
  {
   "cell_type": "code",
   "execution_count": 110,
   "metadata": {},
   "outputs": [],
   "source": [
    "from sklearn.linear_model import SGDClassifier, LogisticRegression, RidgeClassifier\n",
    "from sklearn.svm import LinearSVC"
   ]
  },
  {
   "cell_type": "code",
   "execution_count": 111,
   "metadata": {},
   "outputs": [],
   "source": [
    "# X_train, X_valid, y_train, y_valid = train_test_split(train_sfm, target, test_size=0.2, random_state=SEED)"
   ]
  },
  {
   "cell_type": "markdown",
   "metadata": {},
   "source": [
    "- 기본모델에 대한 성능 확인"
   ]
  },
  {
   "cell_type": "code",
   "execution_count": 112,
   "metadata": {},
   "outputs": [],
   "source": [
    "# models = [\n",
    "#     LogisticRegression(random_state=SEED, n_jobs=-1),\n",
    "#     LinearSVC(random_state=SEED),\n",
    "#     SGDClassifier(random_state=SEED, n_jobs=-1),\n",
    "#     LGBMClassifier(random_state=SEED, n_jobs=-1),\n",
    "#     XGBClassifier(random_state=SEED, n_jobs=-1),\n",
    "#     CatBoostClassifier(random_state=SEED, verbose=0),\n",
    "# ]\n",
    "\n",
    "# for model in models:\n",
    "#     scores = cross_val_score(model, train_sfm, target, cv=cv, scoring=\"f1_macro\", n_jobs=-1)\n",
    "#     print(f\"{model.__class__.__name__} : {np.mean(scores)}, {np.std(scores)}\")"
   ]
  },
  {
   "cell_type": "markdown",
   "metadata": {},
   "source": [
    "- LogisticRegression"
   ]
  },
  {
   "cell_type": "code",
   "execution_count": 113,
   "metadata": {},
   "outputs": [],
   "source": [
    "# params = {\n",
    "#     'penalty': {'type': 'categorical', 'values': ['l1', 'l2']},\n",
    "#     'C': {'type': 'float', 'min': 0.01, 'max': 10.0},\n",
    "#     'solver': {'type': 'categorical', 'values': ['liblinear', 'saga']},\n",
    "#     'max_iter': {'type': 'int', 'min': 100, 'max': 2000},\n",
    "#     'tol': {'type': 'float', 'min': 0.00001, 'max': 0.001},\n",
    "#     'class_weight': {'type': 'categorical', 'values': ['balanced']},\n",
    "#     'random_state': {'type': 'int', 'min': 42, 'max': 42},\n",
    "# }\n",
    "\n",
    "# lr_sfm_tuner = HyperarameterTuner(LogisticRegression, params, train_sfm, target)\n",
    "# lr_sfm_tuner.optimize(50)\n",
    "# lr_sfm_tuner.best_params(), lr_sfm_tuner.best_score()"
   ]
  },
  {
   "cell_type": "code",
   "execution_count": 114,
   "metadata": {},
   "outputs": [],
   "source": [
    "params = {\n",
    "    \"penalty\": \"l2\",\n",
    "    \"C\": 7.419027784498301,\n",
    "    \"solver\": \"saga\",\n",
    "    \"max_iter\": 945,\n",
    "    \"tol\": 0.0002783784080819285,\n",
    "    \"class_weight\": \"balanced\",\n",
    "    \"random_state\": 42,\n",
    "}\n",
    "\n",
    "lr_sfm_final = LogisticRegression(**params)"
   ]
  },
  {
   "cell_type": "code",
   "execution_count": 115,
   "metadata": {},
   "outputs": [],
   "source": [
    "# lr_sfm_final.fit(X_train, y_train)\n",
    "# print(classification_report(y_valid, lr_sfm_final.predict(X_valid)))"
   ]
  },
  {
   "cell_type": "markdown",
   "metadata": {},
   "source": [
    "- LinearSVC"
   ]
  },
  {
   "cell_type": "code",
   "execution_count": 116,
   "metadata": {},
   "outputs": [],
   "source": [
    "# params = {\n",
    "#     'C': {'type': 'float', 'min': 0.01, 'max': 10.0},\n",
    "#     'penalty': {'type': 'categorical', 'values': ['l1', 'l2']},\n",
    "#     'loss': {'type': 'categorical', 'values': ['squared_hinge']},\n",
    "#     'dual': {'type': 'categorical', 'values': [False]},\n",
    "#     'tol': {'type': 'float', 'min': 0.00001, 'max': 0.001},\n",
    "#     'max_iter': {'type': 'int', 'min': 1000, 'max': 5000},\n",
    "#     'class_weight': {'type': 'categorical', 'values': ['balanced']},\n",
    "#     'random_state': {'type': 'int', 'min': 42, 'max': 42},\n",
    "# }\n",
    "\n",
    "# lsvc_sfm_tuner = HyperarameterTuner(LinearSVC, params, train_sfm, target)\n",
    "# lsvc_sfm_tuner.optimize(50)\n",
    "# lsvc_sfm_tuner.best_params(), lsvc_sfm_tuner.best_score()"
   ]
  },
  {
   "cell_type": "code",
   "execution_count": 117,
   "metadata": {},
   "outputs": [],
   "source": [
    "params = {\n",
    "    \"C\": 8.024815366246486,\n",
    "    \"penalty\": \"l2\",\n",
    "    \"loss\": \"squared_hinge\",\n",
    "    \"dual\": False,\n",
    "    \"tol\": 0.0008513162186020776,\n",
    "    \"max_iter\": 3385,\n",
    "    \"class_weight\": \"balanced\",\n",
    "    \"random_state\": 42,\n",
    "}\n",
    "\n",
    "lsvc_sfm_final = LinearSVC(**params)"
   ]
  },
  {
   "cell_type": "code",
   "execution_count": 118,
   "metadata": {},
   "outputs": [],
   "source": [
    "# lsvc_sfm_final.fit(X_train, y_train)\n",
    "# print(classification_report(y_valid, lsvc_sfm_final.predict(X_valid)))"
   ]
  },
  {
   "cell_type": "markdown",
   "metadata": {},
   "source": [
    "- SGDClassifier"
   ]
  },
  {
   "cell_type": "code",
   "execution_count": 119,
   "metadata": {},
   "outputs": [],
   "source": [
    "# params = {\n",
    "#     'loss': {'type': 'categorical', 'values': ['hinge', 'log_loss', 'modified_huber', 'squared_hinge', 'perceptron']},\n",
    "#     'penalty': {'type': 'categorical', 'values': ['l1', 'l2']},\n",
    "#     'alpha': {'type': 'float', 'min': 0.000001, 'max': 0.01},\n",
    "#     'l1_ratio': {'type': 'float', 'min': 0.1, 'max': 0.9},\n",
    "#     'learning_rate': {'type': 'categorical', 'values': ['constant', 'optimal', 'invscaling', 'adaptive']},\n",
    "#     'eta0': {'type': 'float', 'min': 0.0001, 'max': 0.1},\n",
    "#     'max_iter': {'type': 'int', 'min': 100, 'max': 5000},\n",
    "#     'tol': {'type': 'float', 'min': 0.00001, 'max': 0.001},\n",
    "#     'class_weight': {'type': 'categorical', 'values': ['balanced']},\n",
    "#     'random_state': {'type': 'int', 'min': 42, 'max': 42},\n",
    "# }\n",
    "\n",
    "# sgd_sfm_tuner = HyperarameterTuner(SGDClassifier, params, train_sfm, target)\n",
    "# sgd_sfm_tuner.optimize(50)\n",
    "# sgd_sfm_tuner.best_params(), sgd_sfm_tuner.best_score()"
   ]
  },
  {
   "cell_type": "code",
   "execution_count": 120,
   "metadata": {},
   "outputs": [],
   "source": [
    "params = {\n",
    "    \"loss\": \"hinge\",\n",
    "    \"penalty\": \"l2\",\n",
    "    \"alpha\": 0.0020094020238778853,\n",
    "    \"l1_ratio\": 0.6586182855698299,\n",
    "    \"learning_rate\": \"adaptive\",\n",
    "    \"eta0\": 0.03205816104272094,\n",
    "    \"max_iter\": 3366,\n",
    "    \"tol\": 0.0006328674067554655,\n",
    "    \"class_weight\": \"balanced\",\n",
    "    \"random_state\": 42,\n",
    "}\n",
    "\n",
    "sgd_sfm_final = SGDClassifier(**params, n_jobs=-1)"
   ]
  },
  {
   "cell_type": "code",
   "execution_count": 121,
   "metadata": {},
   "outputs": [],
   "source": [
    "# sgd_sfm_final.fit(X_train, y_train)\n",
    "# print(classification_report(y_valid, sgd_sfm_final.predict(X_valid)))"
   ]
  },
  {
   "cell_type": "markdown",
   "metadata": {},
   "source": [
    "- LGBMClassifier"
   ]
  },
  {
   "cell_type": "code",
   "execution_count": 122,
   "metadata": {},
   "outputs": [],
   "source": [
    "# params = {\n",
    "#     \"objective\": {\"type\": \"categorical\", \"values\": [\"binary\"]},\n",
    "#     \"num_iterations\": {\"type\": \"int\", \"min\": 100, \"max\": 1000},\n",
    "#     \"num_leaves\": {\"type\": \"int\", \"min\": 31, \"max\": 128},\n",
    "#     \"force_col_wise\": {\"type\": \"categorical\", \"values\": [True]},\n",
    "#     \"max_depth\": {\"type\": \"int\", \"min\": 3, \"max\": 20},\n",
    "#     \"learning_rate\": {\"type\": \"float\", \"min\": 0.01, \"max\": 0.1},\n",
    "#     \"min_data_in_leaf\": {\"type\": \"int\", \"min\": 10, \"max\": 100},\n",
    "#     'scale_pos_weight': {'type': 'float', 'min': 1.5, 'max': 1.5},\n",
    "#     \"random_state\": {\"type\": \"int\", \"min\": 42, \"max\": 42},\n",
    "#     \"n_jobs\": {\"type\": \"int\", \"min\": -1, \"max\": -1},\n",
    "# }\n",
    "\n",
    "# lgbm_sfm_tuner = HyperarameterTuner(LGBMClassifier, params, train_sfm, target)\n",
    "# lgbm_sfm_tuner.optimize(50)\n",
    "# lgbm_sfm_tuner.best_params(), lgbm_sfm_tuner.best_score()"
   ]
  },
  {
   "cell_type": "code",
   "execution_count": 123,
   "metadata": {},
   "outputs": [],
   "source": [
    "params = {\n",
    "    \"objective\": \"binary\",\n",
    "    \"n_estimators\": 854,\n",
    "    \"num_leaves\": 61,\n",
    "    \"force_col_wise\": True,\n",
    "    \"max_depth\": 16,\n",
    "    \"learning_rate\": 0.014598934991389517,\n",
    "    \"min_data_in_leaf\": 77,\n",
    "    \"scale_pos_weight\": 1.5,\n",
    "    \"random_state\": 42,\n",
    "    \"n_jobs\": -1,\n",
    "}\n",
    "\n",
    "lgbm_sfm_final = LGBMClassifier(**params, verbosity=-1)"
   ]
  },
  {
   "cell_type": "code",
   "execution_count": 124,
   "metadata": {},
   "outputs": [],
   "source": [
    "# lgbm_sfm_final.fit(X_train, y_train)\n",
    "# print(classification_report(y_valid, lgbm_sfm_final.predict(X_valid)))"
   ]
  },
  {
   "cell_type": "markdown",
   "metadata": {},
   "source": [
    "- CatBoost"
   ]
  },
  {
   "cell_type": "code",
   "execution_count": 125,
   "metadata": {},
   "outputs": [],
   "source": [
    "# params = {\n",
    "#     'eval_metric': {'type': 'categorical', 'values': ['F1']},\n",
    "#     'iterations': {'type': 'int', 'min': 200, 'max': 800},\n",
    "#     'learning_rate': {'type': 'float', 'min': 0.01, 'max': 0.3},\n",
    "#     'depth': {'type': 'int', 'min': 4, 'max': 10},\n",
    "#     'l2_leaf_reg': {'type': 'float', 'min': 1, 'max': 10},\n",
    "#     'bagging_temperature': {'type': 'float', 'min': 0, 'max': 1},\n",
    "#     'border_count': {'type': 'int', 'min': 32, 'max': 255},\n",
    "#     'grow_policy': {'type': 'categorical', 'values': ['Depthwise', 'Lossguide']},\n",
    "#     'min_data_in_leaf': {'type': 'int', 'min': 1, 'max': 100},\n",
    "#     'scale_pos_weight': {'type': 'float', 'min': 1.5, 'max': 1.5},\n",
    "#     'random_state': {'type': 'int', 'min': 42, 'max': 42},\n",
    "# }\n",
    "\n",
    "# cat_sfm_tuner = HyperarameterTuner(CatBoostClassifier, params, train_sfm, target)\n",
    "# cat_sfm_tuner.optimize(50)\n",
    "# cat_sfm_tuner.best_params(), cat_sfm_tuner.best_score()"
   ]
  },
  {
   "cell_type": "code",
   "execution_count": 126,
   "metadata": {},
   "outputs": [],
   "source": [
    "params = {\n",
    "    \"eval_metric\": \"F1\",\n",
    "    \"iterations\": 698,\n",
    "    \"learning_rate\": 0.023328432432239633,\n",
    "    \"depth\": 8,\n",
    "    \"l2_leaf_reg\": 8.082302697319031,\n",
    "    \"bagging_temperature\": 0.7197655076749163,\n",
    "    \"border_count\": 143,\n",
    "    \"grow_policy\": \"Depthwise\",\n",
    "    \"min_data_in_leaf\": 33,\n",
    "    \"scale_pos_weight\": 1.5,\n",
    "    \"random_state\": 42,\n",
    "}\n",
    "\n",
    "cat_sfm_final = CatBoostClassifier(**params, verbose=0)"
   ]
  },
  {
   "cell_type": "code",
   "execution_count": 127,
   "metadata": {},
   "outputs": [],
   "source": [
    "# cat_sfm_final.fit(X_train, y_train)\n",
    "# print(classification_report(y_valid, cat_sfm_final.predict(X_valid)))"
   ]
  },
  {
   "cell_type": "markdown",
   "metadata": {},
   "source": [
    "- StackingClassifier"
   ]
  },
  {
   "cell_type": "code",
   "execution_count": 128,
   "metadata": {},
   "outputs": [],
   "source": [
    "estimators = [\n",
    "    ('lr_sfm_final', lr_sfm_final),\n",
    "    ('sgd_sfm_final', sgd_sfm_final),\n",
    "    ('lgbm_sfm_final', lgbm_sfm_final),\n",
    "    ('cat_sfm_final', cat_sfm_final),\n",
    "]\n",
    "final_estimator = LogisticRegression(random_state=SEED, n_jobs=-1)\n",
    "\n",
    "stacking_sfm = StackingClassifier(estimators=estimators, final_estimator=final_estimator, cv=cv, n_jobs=-1)"
   ]
  },
  {
   "cell_type": "code",
   "execution_count": 129,
   "metadata": {},
   "outputs": [],
   "source": [
    "# cross_val_score(stacking_sfm, train_sfm, target, cv=cv, scoring=\"f1_macro\", n_jobs=-1).mean()"
   ]
  },
  {
   "cell_type": "code",
   "execution_count": 130,
   "metadata": {},
   "outputs": [],
   "source": [
    "# stacking_sfm.fit(X_train, y_train)\n",
    "# print(classification_report(y_valid, stacking_sfm.predict(X_valid)))"
   ]
  },
  {
   "cell_type": "markdown",
   "metadata": {},
   "source": [
    "### sfm + lda 차원축소 데이터"
   ]
  },
  {
   "cell_type": "code",
   "execution_count": 131,
   "metadata": {},
   "outputs": [],
   "source": [
    "from sklearn.linear_model import SGDClassifier, LogisticRegression, RidgeClassifier\n",
    "from sklearn.svm import LinearSVC"
   ]
  },
  {
   "cell_type": "code",
   "execution_count": 132,
   "metadata": {},
   "outputs": [],
   "source": [
    "# X_train, X_valid, y_train, y_valid = train_test_split(train_sfm_lda, target, test_size=0.2, random_state=SEED)"
   ]
  },
  {
   "cell_type": "markdown",
   "metadata": {},
   "source": [
    "- 기본모델에 대한 성능 확인"
   ]
  },
  {
   "cell_type": "code",
   "execution_count": 133,
   "metadata": {},
   "outputs": [],
   "source": [
    "# models = [\n",
    "#     SGDClassifier(random_state=SEED, n_jobs=-1),\n",
    "#     LogisticRegression(random_state=SEED, n_jobs=-1),\n",
    "#     LinearSVC(random_state=SEED),\n",
    "#     LGBMClassifier(random_state=SEED, n_jobs=-1),\n",
    "#     XGBClassifier(random_state=SEED, n_jobs=-1),\n",
    "#     CatBoostClassifier(random_state=SEED, verbose=0),\n",
    "#     RandomForestClassifier(random_state=SEED, n_jobs=-1),\n",
    "#     MLPClassifier(random_state=SEED),\n",
    "#     SVC(random_state=SEED),\n",
    "# ]\n",
    "\n",
    "# for model in models:\n",
    "#     scores = cross_val_score(model, train_sfm_lda, target, cv=cv, scoring=\"f1_macro\", n_jobs=-1)\n",
    "#     print(f\"{model.__class__.__name__} : {np.mean(scores)}, {np.std(scores)}\")"
   ]
  },
  {
   "cell_type": "markdown",
   "metadata": {},
   "source": [
    "- LGBMClassifier"
   ]
  },
  {
   "cell_type": "code",
   "execution_count": 134,
   "metadata": {},
   "outputs": [],
   "source": [
    "# params = {\n",
    "#     \"objective\": {\"type\": \"categorical\", \"values\": [\"binary\"]},\n",
    "#     \"num_iterations\": {\"type\": \"int\", \"min\": 100, \"max\": 1000},\n",
    "#     \"num_leaves\": {\"type\": \"int\", \"min\": 31, \"max\": 128},\n",
    "#     \"force_col_wise\": {\"type\": \"categorical\", \"values\": [True]},\n",
    "#     \"max_depth\": {\"type\": \"int\", \"min\": 3, \"max\": 20},\n",
    "#     \"learning_rate\": {\"type\": \"float\", \"min\": 0.01, \"max\": 0.1},\n",
    "#     \"min_data_in_leaf\": {\"type\": \"int\", \"min\": 10, \"max\": 100},\n",
    "#     'scale_pos_weight': {'type': 'float', 'min': 1.5, 'max': 1.5},\n",
    "#     \"random_state\": {\"type\": \"int\", \"min\": 42, \"max\": 42},\n",
    "#     \"n_jobs\": {\"type\": \"int\", \"min\": -1, \"max\": -1},\n",
    "# }\n",
    "\n",
    "# lgbm_sfm_lda_tuner = HyperarameterTuner(LGBMClassifier, params, train_sfm_lda, target)\n",
    "# lgbm_sfm_lda_tuner.optimize(50)\n",
    "# lgbm_sfm_lda_tuner.best_params(), lgbm_sfm_lda_tuner.best_score()"
   ]
  },
  {
   "cell_type": "code",
   "execution_count": 135,
   "metadata": {},
   "outputs": [],
   "source": [
    "params = {\n",
    "    \"objective\": \"binary\",\n",
    "    \"n_eterations\": 151,\n",
    "    \"num_leaves\": 46,\n",
    "    \"force_col_wise\": True,\n",
    "    \"max_depth\": 16,\n",
    "    \"learning_rate\": 0.010164608475014748,\n",
    "    \"min_data_in_leaf\": 50,\n",
    "    \"scale_pos_weight\": 1.5,\n",
    "    \"random_state\": 42,\n",
    "    \"n_jobs\": -1,\n",
    "}\n",
    "\n",
    "lgbm_sfm_lda_final = LGBMClassifier(**params)"
   ]
  },
  {
   "cell_type": "code",
   "execution_count": 136,
   "metadata": {},
   "outputs": [],
   "source": [
    "# lgbm_sfm_lda_final.fit(X_train, y_train)\n",
    "# print(classification_report(y_valid, lgbm_sfm_lda_final.predict(X_valid)))"
   ]
  },
  {
   "cell_type": "markdown",
   "metadata": {},
   "source": [
    "- CatBoost"
   ]
  },
  {
   "cell_type": "code",
   "execution_count": 137,
   "metadata": {},
   "outputs": [],
   "source": [
    "# params = {\n",
    "#     'eval_metric': {'type': 'categorical', 'values': ['F1']},\n",
    "#     'iterations': {'type': 'int', 'min': 200, 'max': 800},\n",
    "#     'learning_rate': {'type': 'float', 'min': 0.01, 'max': 0.3},\n",
    "#     'depth': {'type': 'int', 'min': 4, 'max': 10},\n",
    "#     'l2_leaf_reg': {'type': 'float', 'min': 1, 'max': 10},\n",
    "#     'bagging_temperature': {'type': 'float', 'min': 0, 'max': 1},\n",
    "#     'border_count': {'type': 'int', 'min': 32, 'max': 255},\n",
    "#     'grow_policy': {'type': 'categorical', 'values': ['Depthwise', 'Lossguide']},\n",
    "#     'min_data_in_leaf': {'type': 'int', 'min': 1, 'max': 100},\n",
    "#     'scale_pos_weight': {'type': 'float', 'min': 1.5, 'max': 1.5},\n",
    "#     'random_state': {'type': 'int', 'min': 42, 'max': 42},\n",
    "# }\n",
    "\n",
    "# cat_sfm_lda_tuner = HyperarameterTuner(CatBoostClassifier, params, train_sfm_lda, target)\n",
    "# cat_sfm_lda_tuner.optimize(50)\n",
    "# cat_sfm_lda_tuner.best_params(), cat_sfm_lda_tuner.best_score()"
   ]
  },
  {
   "cell_type": "code",
   "execution_count": 138,
   "metadata": {},
   "outputs": [],
   "source": [
    "params = {\n",
    "    \"eval_metric\": \"F1\",\n",
    "    \"iterations\": 268,\n",
    "    \"learning_rate\": 0.03435204914942667,\n",
    "    \"depth\": 5,\n",
    "    \"l2_leaf_reg\": 1.7312463453142584,\n",
    "    \"bagging_temperature\": 0.20665173461727843,\n",
    "    \"border_count\": 132,\n",
    "    \"grow_policy\": \"Lossguide\",\n",
    "    \"min_data_in_leaf\": 19,\n",
    "    \"scale_pos_weight\": 1.5,\n",
    "    \"random_state\": 42,\n",
    "}\n",
    "\n",
    "cat_sfm_lda_final = CatBoostClassifier(**params, verbose=0)"
   ]
  },
  {
   "cell_type": "code",
   "execution_count": 139,
   "metadata": {},
   "outputs": [],
   "source": [
    "# cat_sfm_lda_final.fit(X_train, y_train)\n",
    "# print(classification_report(y_valid, cat_sfm_lda_final.predict(X_valid)))"
   ]
  },
  {
   "cell_type": "markdown",
   "metadata": {},
   "source": [
    "- RandomForestClassifier"
   ]
  },
  {
   "cell_type": "code",
   "execution_count": 140,
   "metadata": {},
   "outputs": [],
   "source": [
    "# params = {\n",
    "#     'n_estimators': {'type': 'int', 'min': 50, 'max': 1000},\n",
    "#     'max_depth': {'type': 'int', 'min': 3, 'max': 10},\n",
    "#     'min_samples_split': {'type': 'int', 'min': 2, 'max': 20},\n",
    "#     'min_samples_leaf': {'type': 'int', 'min': 1, 'max': 20},\n",
    "#     'max_features': {'type': 'categorical', 'values': ['sqrt', 'log2']},\n",
    "#     'class_weight': {'type': 'categorical', 'values': ['balanced']},\n",
    "#     'random_state': {'type': 'int', 'min': 42, 'max': 42},\n",
    "# }\n",
    "\n",
    "# rf_sfm_lda_tuner = HyperarameterTuner(RandomForestClassifier, params, train_sfm_lda, target)\n",
    "# rf_sfm_lda_tuner.optimize(50)\n",
    "# rf_sfm_lda_tuner.best_params(), rf_sfm_lda_tuner.best_score()"
   ]
  },
  {
   "cell_type": "code",
   "execution_count": 141,
   "metadata": {},
   "outputs": [],
   "source": [
    "params = {\n",
    "    \"n_estimators\": 489,\n",
    "    \"max_depth\": 3,\n",
    "    \"min_samples_split\": 5,\n",
    "    \"min_samples_leaf\": 17,\n",
    "    \"max_features\": \"sqrt\",\n",
    "    \"class_weight\": \"balanced\",\n",
    "    \"random_state\": 42,\n",
    "}\n",
    "\n",
    "rf_sfm_lda_final = RandomForestClassifier(**params, n_jobs=-1)"
   ]
  },
  {
   "cell_type": "code",
   "execution_count": 142,
   "metadata": {},
   "outputs": [],
   "source": [
    "# rf_sfm_lda_final.fit(X_train, y_train)\n",
    "# print(classification_report(y_valid, rf_sfm_lda_final.predict(X_valid)))"
   ]
  },
  {
   "cell_type": "markdown",
   "metadata": {},
   "source": [
    "- StackingClassifier"
   ]
  },
  {
   "cell_type": "code",
   "execution_count": 143,
   "metadata": {},
   "outputs": [],
   "source": [
    "estimators = [\n",
    "    ('lgbm_sfm_lda_final', lgbm_sfm_lda_final),\n",
    "    ('cat_sfm_lda_final', cat_sfm_lda_final),\n",
    "    ('rf_sfm_lda_final', rf_sfm_lda_final),\n",
    "]\n",
    "\n",
    "final_estimator = LogisticRegression(random_state=SEED, n_jobs=-1)\n",
    "stacking_sfm_lda = StackingClassifier(estimators=estimators, final_estimator=final_estimator, cv=cv, n_jobs=-1)"
   ]
  },
  {
   "cell_type": "code",
   "execution_count": 144,
   "metadata": {},
   "outputs": [],
   "source": [
    "# cross_val_score(stacking_sfm_lda, train_sfm_lda, target, cv=cv, scoring=\"f1_macro\", n_jobs=-1).mean()"
   ]
  },
  {
   "cell_type": "code",
   "execution_count": 145,
   "metadata": {},
   "outputs": [],
   "source": [
    "# stacking_sfm_lda.fit(X_train, y_train)\n",
    "# print(classification_report(y_valid, stacking_sfm_lda.predict(X_valid)))"
   ]
  },
  {
   "cell_type": "markdown",
   "metadata": {},
   "source": [
    "# 앙상블"
   ]
  },
  {
   "cell_type": "markdown",
   "metadata": {},
   "source": [
    "- 각 데이터별 최종 모델로 예측 후 예측값의 평균으로 최종 예측"
   ]
  },
  {
   "cell_type": "code",
   "execution_count": 146,
   "metadata": {},
   "outputs": [
    {
     "ename": "KeyboardInterrupt",
     "evalue": "",
     "output_type": "error",
     "traceback": [
      "\u001b[1;31m---------------------------------------------------------------------------\u001b[0m",
      "\u001b[1;31mKeyboardInterrupt\u001b[0m                         Traceback (most recent call last)",
      "Cell \u001b[1;32mIn[146], line 3\u001b[0m\n\u001b[0;32m      1\u001b[0m cat_vt_final\u001b[38;5;241m.\u001b[39mfit(train_vt, target)\n\u001b[0;32m      2\u001b[0m stacking_rfecv\u001b[38;5;241m.\u001b[39mfit(train_rfecv, target)\n\u001b[1;32m----> 3\u001b[0m \u001b[43mstacking_sfm\u001b[49m\u001b[38;5;241;43m.\u001b[39;49m\u001b[43mfit\u001b[49m\u001b[43m(\u001b[49m\u001b[43mtrain_sfm\u001b[49m\u001b[43m,\u001b[49m\u001b[43m \u001b[49m\u001b[43mtarget\u001b[49m\u001b[43m)\u001b[49m\n\u001b[0;32m      4\u001b[0m stacking_sfm_lda\u001b[38;5;241m.\u001b[39mfit(train_sfm_lda, target)\n",
      "File \u001b[1;32mc:\\Users\\kwon3\\AppData\\Local\\Programs\\Python\\Python310\\lib\\site-packages\\sklearn\\ensemble\\_stacking.py:672\u001b[0m, in \u001b[0;36mStackingClassifier.fit\u001b[1;34m(self, X, y, sample_weight)\u001b[0m\n\u001b[0;32m    670\u001b[0m     \u001b[38;5;28mself\u001b[39m\u001b[38;5;241m.\u001b[39mclasses_ \u001b[38;5;241m=\u001b[39m \u001b[38;5;28mself\u001b[39m\u001b[38;5;241m.\u001b[39m_label_encoder\u001b[38;5;241m.\u001b[39mclasses_\n\u001b[0;32m    671\u001b[0m     y_encoded \u001b[38;5;241m=\u001b[39m \u001b[38;5;28mself\u001b[39m\u001b[38;5;241m.\u001b[39m_label_encoder\u001b[38;5;241m.\u001b[39mtransform(y)\n\u001b[1;32m--> 672\u001b[0m \u001b[38;5;28;01mreturn\u001b[39;00m \u001b[38;5;28;43msuper\u001b[39;49m\u001b[43m(\u001b[49m\u001b[43m)\u001b[49m\u001b[38;5;241;43m.\u001b[39;49m\u001b[43mfit\u001b[49m\u001b[43m(\u001b[49m\u001b[43mX\u001b[49m\u001b[43m,\u001b[49m\u001b[43m \u001b[49m\u001b[43my_encoded\u001b[49m\u001b[43m,\u001b[49m\u001b[43m \u001b[49m\u001b[43msample_weight\u001b[49m\u001b[43m)\u001b[49m\n",
      "File \u001b[1;32mc:\\Users\\kwon3\\AppData\\Local\\Programs\\Python\\Python310\\lib\\site-packages\\sklearn\\base.py:1473\u001b[0m, in \u001b[0;36m_fit_context.<locals>.decorator.<locals>.wrapper\u001b[1;34m(estimator, *args, **kwargs)\u001b[0m\n\u001b[0;32m   1466\u001b[0m     estimator\u001b[38;5;241m.\u001b[39m_validate_params()\n\u001b[0;32m   1468\u001b[0m \u001b[38;5;28;01mwith\u001b[39;00m config_context(\n\u001b[0;32m   1469\u001b[0m     skip_parameter_validation\u001b[38;5;241m=\u001b[39m(\n\u001b[0;32m   1470\u001b[0m         prefer_skip_nested_validation \u001b[38;5;129;01mor\u001b[39;00m global_skip_validation\n\u001b[0;32m   1471\u001b[0m     )\n\u001b[0;32m   1472\u001b[0m ):\n\u001b[1;32m-> 1473\u001b[0m     \u001b[38;5;28;01mreturn\u001b[39;00m fit_method(estimator, \u001b[38;5;241m*\u001b[39margs, \u001b[38;5;241m*\u001b[39m\u001b[38;5;241m*\u001b[39mkwargs)\n",
      "File \u001b[1;32mc:\\Users\\kwon3\\AppData\\Local\\Programs\\Python\\Python310\\lib\\site-packages\\sklearn\\ensemble\\_stacking.py:224\u001b[0m, in \u001b[0;36m_BaseStacking.fit\u001b[1;34m(self, X, y, sample_weight)\u001b[0m\n\u001b[0;32m    219\u001b[0m             \u001b[38;5;28mself\u001b[39m\u001b[38;5;241m.\u001b[39mestimators_\u001b[38;5;241m.\u001b[39mappend(estimator)\n\u001b[0;32m    220\u001b[0m \u001b[38;5;28;01melse\u001b[39;00m:\n\u001b[0;32m    221\u001b[0m     \u001b[38;5;66;03m# Fit the base estimators on the whole training data. Those\u001b[39;00m\n\u001b[0;32m    222\u001b[0m     \u001b[38;5;66;03m# base estimators will be used in transform, predict, and\u001b[39;00m\n\u001b[0;32m    223\u001b[0m     \u001b[38;5;66;03m# predict_proba. They are exposed publicly.\u001b[39;00m\n\u001b[1;32m--> 224\u001b[0m     \u001b[38;5;28mself\u001b[39m\u001b[38;5;241m.\u001b[39mestimators_ \u001b[38;5;241m=\u001b[39m \u001b[43mParallel\u001b[49m\u001b[43m(\u001b[49m\u001b[43mn_jobs\u001b[49m\u001b[38;5;241;43m=\u001b[39;49m\u001b[38;5;28;43mself\u001b[39;49m\u001b[38;5;241;43m.\u001b[39;49m\u001b[43mn_jobs\u001b[49m\u001b[43m)\u001b[49m\u001b[43m(\u001b[49m\n\u001b[0;32m    225\u001b[0m \u001b[43m        \u001b[49m\u001b[43mdelayed\u001b[49m\u001b[43m(\u001b[49m\u001b[43m_fit_single_estimator\u001b[49m\u001b[43m)\u001b[49m\u001b[43m(\u001b[49m\u001b[43mclone\u001b[49m\u001b[43m(\u001b[49m\u001b[43mest\u001b[49m\u001b[43m)\u001b[49m\u001b[43m,\u001b[49m\u001b[43m \u001b[49m\u001b[43mX\u001b[49m\u001b[43m,\u001b[49m\u001b[43m \u001b[49m\u001b[43my\u001b[49m\u001b[43m,\u001b[49m\u001b[43m \u001b[49m\u001b[43mfit_params\u001b[49m\u001b[43m)\u001b[49m\n\u001b[0;32m    226\u001b[0m \u001b[43m        \u001b[49m\u001b[38;5;28;43;01mfor\u001b[39;49;00m\u001b[43m \u001b[49m\u001b[43mest\u001b[49m\u001b[43m \u001b[49m\u001b[38;5;129;43;01min\u001b[39;49;00m\u001b[43m \u001b[49m\u001b[43mall_estimators\u001b[49m\n\u001b[0;32m    227\u001b[0m \u001b[43m        \u001b[49m\u001b[38;5;28;43;01mif\u001b[39;49;00m\u001b[43m \u001b[49m\u001b[43mest\u001b[49m\u001b[43m \u001b[49m\u001b[38;5;241;43m!=\u001b[39;49m\u001b[43m \u001b[49m\u001b[38;5;124;43m\"\u001b[39;49m\u001b[38;5;124;43mdrop\u001b[39;49m\u001b[38;5;124;43m\"\u001b[39;49m\n\u001b[0;32m    228\u001b[0m \u001b[43m    \u001b[49m\u001b[43m)\u001b[49m\n\u001b[0;32m    230\u001b[0m \u001b[38;5;28mself\u001b[39m\u001b[38;5;241m.\u001b[39mnamed_estimators_ \u001b[38;5;241m=\u001b[39m Bunch()\n\u001b[0;32m    231\u001b[0m est_fitted_idx \u001b[38;5;241m=\u001b[39m \u001b[38;5;241m0\u001b[39m\n",
      "File \u001b[1;32mc:\\Users\\kwon3\\AppData\\Local\\Programs\\Python\\Python310\\lib\\site-packages\\sklearn\\utils\\parallel.py:74\u001b[0m, in \u001b[0;36mParallel.__call__\u001b[1;34m(self, iterable)\u001b[0m\n\u001b[0;32m     69\u001b[0m config \u001b[38;5;241m=\u001b[39m get_config()\n\u001b[0;32m     70\u001b[0m iterable_with_config \u001b[38;5;241m=\u001b[39m (\n\u001b[0;32m     71\u001b[0m     (_with_config(delayed_func, config), args, kwargs)\n\u001b[0;32m     72\u001b[0m     \u001b[38;5;28;01mfor\u001b[39;00m delayed_func, args, kwargs \u001b[38;5;129;01min\u001b[39;00m iterable\n\u001b[0;32m     73\u001b[0m )\n\u001b[1;32m---> 74\u001b[0m \u001b[38;5;28;01mreturn\u001b[39;00m \u001b[38;5;28;43msuper\u001b[39;49m\u001b[43m(\u001b[49m\u001b[43m)\u001b[49m\u001b[38;5;241;43m.\u001b[39;49m\u001b[38;5;21;43m__call__\u001b[39;49m\u001b[43m(\u001b[49m\u001b[43miterable_with_config\u001b[49m\u001b[43m)\u001b[49m\n",
      "File \u001b[1;32mc:\\Users\\kwon3\\AppData\\Local\\Programs\\Python\\Python310\\lib\\site-packages\\joblib\\parallel.py:2007\u001b[0m, in \u001b[0;36mParallel.__call__\u001b[1;34m(self, iterable)\u001b[0m\n\u001b[0;32m   2001\u001b[0m \u001b[38;5;66;03m# The first item from the output is blank, but it makes the interpreter\u001b[39;00m\n\u001b[0;32m   2002\u001b[0m \u001b[38;5;66;03m# progress until it enters the Try/Except block of the generator and\u001b[39;00m\n\u001b[0;32m   2003\u001b[0m \u001b[38;5;66;03m# reaches the first `yield` statement. This starts the asynchronous\u001b[39;00m\n\u001b[0;32m   2004\u001b[0m \u001b[38;5;66;03m# dispatch of the tasks to the workers.\u001b[39;00m\n\u001b[0;32m   2005\u001b[0m \u001b[38;5;28mnext\u001b[39m(output)\n\u001b[1;32m-> 2007\u001b[0m \u001b[38;5;28;01mreturn\u001b[39;00m output \u001b[38;5;28;01mif\u001b[39;00m \u001b[38;5;28mself\u001b[39m\u001b[38;5;241m.\u001b[39mreturn_generator \u001b[38;5;28;01melse\u001b[39;00m \u001b[38;5;28;43mlist\u001b[39;49m\u001b[43m(\u001b[49m\u001b[43moutput\u001b[49m\u001b[43m)\u001b[49m\n",
      "File \u001b[1;32mc:\\Users\\kwon3\\AppData\\Local\\Programs\\Python\\Python310\\lib\\site-packages\\joblib\\parallel.py:1650\u001b[0m, in \u001b[0;36mParallel._get_outputs\u001b[1;34m(self, iterator, pre_dispatch)\u001b[0m\n\u001b[0;32m   1647\u001b[0m     \u001b[38;5;28;01myield\u001b[39;00m\n\u001b[0;32m   1649\u001b[0m     \u001b[38;5;28;01mwith\u001b[39;00m \u001b[38;5;28mself\u001b[39m\u001b[38;5;241m.\u001b[39m_backend\u001b[38;5;241m.\u001b[39mretrieval_context():\n\u001b[1;32m-> 1650\u001b[0m         \u001b[38;5;28;01myield from\u001b[39;00m \u001b[38;5;28mself\u001b[39m\u001b[38;5;241m.\u001b[39m_retrieve()\n\u001b[0;32m   1652\u001b[0m \u001b[38;5;28;01mexcept\u001b[39;00m \u001b[38;5;167;01mGeneratorExit\u001b[39;00m:\n\u001b[0;32m   1653\u001b[0m     \u001b[38;5;66;03m# The generator has been garbage collected before being fully\u001b[39;00m\n\u001b[0;32m   1654\u001b[0m     \u001b[38;5;66;03m# consumed. This aborts the remaining tasks if possible and warn\u001b[39;00m\n\u001b[0;32m   1655\u001b[0m     \u001b[38;5;66;03m# the user if necessary.\u001b[39;00m\n\u001b[0;32m   1656\u001b[0m     \u001b[38;5;28mself\u001b[39m\u001b[38;5;241m.\u001b[39m_exception \u001b[38;5;241m=\u001b[39m \u001b[38;5;28;01mTrue\u001b[39;00m\n",
      "File \u001b[1;32mc:\\Users\\kwon3\\AppData\\Local\\Programs\\Python\\Python310\\lib\\site-packages\\joblib\\parallel.py:1762\u001b[0m, in \u001b[0;36mParallel._retrieve\u001b[1;34m(self)\u001b[0m\n\u001b[0;32m   1757\u001b[0m \u001b[38;5;66;03m# If the next job is not ready for retrieval yet, we just wait for\u001b[39;00m\n\u001b[0;32m   1758\u001b[0m \u001b[38;5;66;03m# async callbacks to progress.\u001b[39;00m\n\u001b[0;32m   1759\u001b[0m \u001b[38;5;28;01mif\u001b[39;00m ((\u001b[38;5;28mlen\u001b[39m(\u001b[38;5;28mself\u001b[39m\u001b[38;5;241m.\u001b[39m_jobs) \u001b[38;5;241m==\u001b[39m \u001b[38;5;241m0\u001b[39m) \u001b[38;5;129;01mor\u001b[39;00m\n\u001b[0;32m   1760\u001b[0m     (\u001b[38;5;28mself\u001b[39m\u001b[38;5;241m.\u001b[39m_jobs[\u001b[38;5;241m0\u001b[39m]\u001b[38;5;241m.\u001b[39mget_status(\n\u001b[0;32m   1761\u001b[0m         timeout\u001b[38;5;241m=\u001b[39m\u001b[38;5;28mself\u001b[39m\u001b[38;5;241m.\u001b[39mtimeout) \u001b[38;5;241m==\u001b[39m TASK_PENDING)):\n\u001b[1;32m-> 1762\u001b[0m     \u001b[43mtime\u001b[49m\u001b[38;5;241;43m.\u001b[39;49m\u001b[43msleep\u001b[49m\u001b[43m(\u001b[49m\u001b[38;5;241;43m0.01\u001b[39;49m\u001b[43m)\u001b[49m\n\u001b[0;32m   1763\u001b[0m     \u001b[38;5;28;01mcontinue\u001b[39;00m\n\u001b[0;32m   1765\u001b[0m \u001b[38;5;66;03m# We need to be careful: the job list can be filling up as\u001b[39;00m\n\u001b[0;32m   1766\u001b[0m \u001b[38;5;66;03m# we empty it and Python list are not thread-safe by\u001b[39;00m\n\u001b[0;32m   1767\u001b[0m \u001b[38;5;66;03m# default hence the use of the lock\u001b[39;00m\n",
      "\u001b[1;31mKeyboardInterrupt\u001b[0m: "
     ]
    }
   ],
   "source": [
    "cat_vt_final.fit(train_vt, target)\n",
    "stacking_rfecv.fit(train_rfecv, target)\n",
    "stacking_sfm.fit(train_sfm, target)\n",
    "stacking_sfm_lda.fit(train_sfm_lda, target)"
   ]
  },
  {
   "cell_type": "code",
   "execution_count": null,
   "metadata": {},
   "outputs": [
    {
     "data": {
      "text/plain": [
       "((12225,), (12225,), (12225,), (12225,))"
      ]
     },
     "execution_count": 1415,
     "metadata": {},
     "output_type": "execute_result"
    }
   ],
   "source": [
    "pred_vt = cat_vt_final.predict_proba(test_vt)[:, 1]\n",
    "pred_rfecv = stacking_rfecv.predict_proba(test_rfecv)[:, 1]\n",
    "pred_sfm = stacking_sfm.predict_proba(test_sfm)[:, 1]\n",
    "pred_sfm_lda = stacking_sfm_lda.predict_proba(test_sfm_lda)[:, 1]\n",
    "\n",
    "pred_vt.shape, pred_rfecv.shape, pred_sfm.shape, pred_sfm_lda.shape"
   ]
  },
  {
   "cell_type": "code",
   "execution_count": null,
   "metadata": {},
   "outputs": [],
   "source": [
    "pred = np.mean([pred_vt, pred_rfecv, pred_sfm, pred_sfm_lda], axis=0)\n",
    "pred = (pred >= 0.5).astype(int)"
   ]
  },
  {
   "cell_type": "markdown",
   "metadata": {},
   "source": [
    "# AutoML"
   ]
  },
  {
   "cell_type": "code",
   "execution_count": null,
   "metadata": {},
   "outputs": [],
   "source": [
    "# from flaml import AutoML"
   ]
  },
  {
   "cell_type": "code",
   "execution_count": null,
   "metadata": {},
   "outputs": [],
   "source": [
    "# automl = AutoML()\n",
    "\n",
    "# params = {\n",
    "#     \"task\": \"classification\",\n",
    "#     \"metric\": \"macro_f1\",\n",
    "#     \"n_splits\": 5,\n",
    "#     \"time_budget\": 1800,\n",
    "#     \"estimator_list\": [\"lgbm\", \"xgboost\", \"catboost\", \"rf\", \"histgb\", \"lrl1\", \"lrl2\"],\n",
    "#     \"ensemble\": True,\n",
    "#     \"seed\": SEED,\n",
    "#     \"early_stop\": True,\n",
    "# }\n",
    "\n",
    "# automl.fit(train_vt, target, **params)"
   ]
  },
  {
   "cell_type": "markdown",
   "metadata": {
    "id": "CcnCtcWPVrKn"
   },
   "source": [
    "# 평가를 위한 제출 파일 생성\n",
    "- 예측 결과를 target 컬럼에 넣어 csv 파일로 저장후에 제출한다."
   ]
  },
  {
   "cell_type": "code",
   "execution_count": null,
   "metadata": {
    "colab": {
     "base_uri": "https://localhost:8080/",
     "height": 423
    },
    "executionInfo": {
     "elapsed": 349,
     "status": "ok",
     "timestamp": 1730270088012,
     "user": {
      "displayName": "koeyhi",
      "userId": "08049178071858703986"
     },
     "user_tz": -540
    },
    "id": "LLHqOugmVq_v",
    "outputId": "8f33a188-902f-4bce-c940-1ca59acb8f10"
   },
   "outputs": [
    {
     "data": {
      "text/html": [
       "<div>\n",
       "<style scoped>\n",
       "    .dataframe tbody tr th:only-of-type {\n",
       "        vertical-align: middle;\n",
       "    }\n",
       "\n",
       "    .dataframe tbody tr th {\n",
       "        vertical-align: top;\n",
       "    }\n",
       "\n",
       "    .dataframe thead th {\n",
       "        text-align: right;\n",
       "    }\n",
       "</style>\n",
       "<table border=\"1\" class=\"dataframe\">\n",
       "  <thead>\n",
       "    <tr style=\"text-align: right;\">\n",
       "      <th></th>\n",
       "      <th>ID</th>\n",
       "      <th>target</th>\n",
       "    </tr>\n",
       "  </thead>\n",
       "  <tbody>\n",
       "    <tr>\n",
       "      <th>0</th>\n",
       "      <td>test_0</td>\n",
       "      <td>0</td>\n",
       "    </tr>\n",
       "    <tr>\n",
       "      <th>1</th>\n",
       "      <td>test_1</td>\n",
       "      <td>0</td>\n",
       "    </tr>\n",
       "    <tr>\n",
       "      <th>2</th>\n",
       "      <td>test_2</td>\n",
       "      <td>0</td>\n",
       "    </tr>\n",
       "    <tr>\n",
       "      <th>3</th>\n",
       "      <td>test_3</td>\n",
       "      <td>1</td>\n",
       "    </tr>\n",
       "    <tr>\n",
       "      <th>4</th>\n",
       "      <td>test_4</td>\n",
       "      <td>1</td>\n",
       "    </tr>\n",
       "    <tr>\n",
       "      <th>...</th>\n",
       "      <td>...</td>\n",
       "      <td>...</td>\n",
       "    </tr>\n",
       "    <tr>\n",
       "      <th>12220</th>\n",
       "      <td>test_12220</td>\n",
       "      <td>1</td>\n",
       "    </tr>\n",
       "    <tr>\n",
       "      <th>12221</th>\n",
       "      <td>test_12221</td>\n",
       "      <td>0</td>\n",
       "    </tr>\n",
       "    <tr>\n",
       "      <th>12222</th>\n",
       "      <td>test_12222</td>\n",
       "      <td>0</td>\n",
       "    </tr>\n",
       "    <tr>\n",
       "      <th>12223</th>\n",
       "      <td>test_12223</td>\n",
       "      <td>0</td>\n",
       "    </tr>\n",
       "    <tr>\n",
       "      <th>12224</th>\n",
       "      <td>test_12224</td>\n",
       "      <td>0</td>\n",
       "    </tr>\n",
       "  </tbody>\n",
       "</table>\n",
       "<p>12225 rows × 2 columns</p>\n",
       "</div>"
      ],
      "text/plain": [
       "               ID  target\n",
       "0          test_0       0\n",
       "1          test_1       0\n",
       "2          test_2       0\n",
       "3          test_3       1\n",
       "4          test_4       1\n",
       "...           ...     ...\n",
       "12220  test_12220       1\n",
       "12221  test_12221       0\n",
       "12222  test_12222       0\n",
       "12223  test_12223       0\n",
       "12224  test_12224       0\n",
       "\n",
       "[12225 rows x 2 columns]"
      ]
     },
     "execution_count": 1417,
     "metadata": {},
     "output_type": "execute_result"
    }
   ],
   "source": [
    "submit[\"target\"] = pred\n",
    "submit"
   ]
  },
  {
   "cell_type": "markdown",
   "metadata": {
    "id": "bjw87GeIV-BP"
   },
   "source": [
    "- 예측 결과를 csv 파일로 저장하여 제출"
   ]
  },
  {
   "cell_type": "code",
   "execution_count": null,
   "metadata": {
    "executionInfo": {
     "elapsed": 16,
     "status": "ok",
     "timestamp": 1730269803783,
     "user": {
      "displayName": "koeyhi",
      "userId": "08049178071858703986"
     },
     "user_tz": -540
    },
    "id": "SsLTeJeoWBc_"
   },
   "outputs": [],
   "source": [
    "submit.to_csv(f\"{DATA_PATH}submit.csv\",index=False)"
   ]
  }
 ],
 "metadata": {
  "colab": {
   "provenance": []
  },
  "kernelspec": {
   "display_name": "Python 3",
   "name": "python3"
  },
  "language_info": {
   "codemirror_mode": {
    "name": "ipython",
    "version": 3
   },
   "file_extension": ".py",
   "mimetype": "text/x-python",
   "name": "python",
   "nbconvert_exporter": "python",
   "pygments_lexer": "ipython3",
   "version": "3.10.8"
  }
 },
 "nbformat": 4,
 "nbformat_minor": 0
}
