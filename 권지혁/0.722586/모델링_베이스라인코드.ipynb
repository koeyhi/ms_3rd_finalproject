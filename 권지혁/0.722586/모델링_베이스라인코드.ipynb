{
 "cells": [
  {
   "cell_type": "code",
   "execution_count": 140,
   "metadata": {
    "colab": {
     "base_uri": "https://localhost:8080/"
    },
    "executionInfo": {
     "elapsed": 2373,
     "status": "ok",
     "timestamp": 1730269751697,
     "user": {
      "displayName": "koeyhi",
      "userId": "08049178071858703986"
     },
     "user_tz": -540
    },
    "id": "N44QYORV8wFy",
    "outputId": "c67d746e-c038-46c3-c4a6-12e2bfb4c4c2"
   },
   "outputs": [],
   "source": [
    "# from google.colab import drive\n",
    "# drive.mount('/content/drive')"
   ]
  },
  {
   "cell_type": "markdown",
   "metadata": {
    "id": "ZhUuXRB5BCFE"
   },
   "source": [
    "- 데이터 경로 변수"
   ]
  },
  {
   "cell_type": "code",
   "execution_count": 141,
   "metadata": {
    "colab": {
     "base_uri": "https://localhost:8080/",
     "height": 35
    },
    "executionInfo": {
     "elapsed": 4,
     "status": "ok",
     "timestamp": 1730269751697,
     "user": {
      "displayName": "koeyhi",
      "userId": "08049178071858703986"
     },
     "user_tz": -540
    },
    "id": "NfX2HPof87FT",
    "outputId": "c78f61ea-4061-4239-8d9a-69596aaea196"
   },
   "outputs": [],
   "source": [
    "# DATA_PATH = \"/content/drive/MyDrive/파이널프로젝트/data/\"\n",
    "# DATA_PATH"
   ]
  },
  {
   "cell_type": "code",
   "execution_count": 142,
   "metadata": {},
   "outputs": [
    {
     "data": {
      "text/plain": [
       "'data/'"
      ]
     },
     "execution_count": 142,
     "metadata": {},
     "output_type": "execute_result"
    }
   ],
   "source": [
    "DATA_PATH = \"data/\"\n",
    "DATA_PATH"
   ]
  },
  {
   "cell_type": "markdown",
   "metadata": {
    "id": "q1qAeLjZVWZz"
   },
   "source": [
    "- 시드값"
   ]
  },
  {
   "cell_type": "code",
   "execution_count": 143,
   "metadata": {
    "executionInfo": {
     "elapsed": 3,
     "status": "ok",
     "timestamp": 1730269751697,
     "user": {
      "displayName": "koeyhi",
      "userId": "08049178071858703986"
     },
     "user_tz": -540
    },
    "id": "nVyhJ6uOVVNE"
   },
   "outputs": [],
   "source": [
    "SEED = 42"
   ]
  },
  {
   "cell_type": "markdown",
   "metadata": {
    "id": "sQd7JpzNBHa1"
   },
   "source": [
    "- 데이터 불러오기"
   ]
  },
  {
   "cell_type": "code",
   "execution_count": 166,
   "metadata": {
    "colab": {
     "base_uri": "https://localhost:8080/"
    },
    "executionInfo": {
     "elapsed": 3363,
     "status": "ok",
     "timestamp": 1730269755057,
     "user": {
      "displayName": "koeyhi",
      "userId": "08049178071858703986"
     },
     "user_tz": -540
    },
    "id": "KFGKUIWt89fZ",
    "outputId": "71de9db2-3cde-484d-bf38-d478119d222f"
   },
   "outputs": [
    {
     "data": {
      "text/plain": [
       "((523105, 7), (14940, 2), (441196, 7), (12225, 2))"
      ]
     },
     "execution_count": 166,
     "metadata": {},
     "output_type": "execute_result"
    }
   ],
   "source": [
    "import pandas as pd\n",
    "import numpy as np\n",
    "\n",
    "train_tr = pd.read_csv(f\"{DATA_PATH}store_train_transactions.csv\") # 학습용 구매기록 데이터\n",
    "train_target = pd.read_csv(f\"{DATA_PATH}store_train.csv\") # 학습용 정답 데이터\n",
    "test_tr = pd.read_csv(f\"{DATA_PATH}store_test_transactions.csv\") # 테스트용 구매기록 데이터\n",
    "submit = pd.read_csv(f\"{DATA_PATH}store_submission.csv\") # 제출 양식 데이터\n",
    "\n",
    "train_tr.shape , train_target.shape , test_tr.shape , submit.shape"
   ]
  },
  {
   "cell_type": "markdown",
   "metadata": {
    "id": "XZq4x4CuP2gr"
   },
   "source": [
    "- 공통 피처 파일 불러오기"
   ]
  },
  {
   "cell_type": "code",
   "execution_count": 167,
   "metadata": {
    "colab": {
     "base_uri": "https://localhost:8080/"
    },
    "executionInfo": {
     "elapsed": 1741,
     "status": "ok",
     "timestamp": 1730269756796,
     "user": {
      "displayName": "koeyhi",
      "userId": "08049178071858703986"
     },
     "user_tz": -540
    },
    "id": "T3tcFrkLPv1g",
    "outputId": "31ea41a2-0d8b-4e97-c431-e584aab30619"
   },
   "outputs": [
    {
     "data": {
      "text/plain": [
       "((14940, 2310), (12225, 2310))"
      ]
     },
     "execution_count": 167,
     "metadata": {},
     "output_type": "execute_result"
    }
   ],
   "source": [
    "train_ft = pd.read_csv(f\"{DATA_PATH}train_common.csv\") # 학습 데이터(피처)\n",
    "test_ft = pd.read_csv(f\"{DATA_PATH}test_common.csv\") # 테스트 데이터(피처)\n",
    "\n",
    "train_ft.shape , test_ft.shape"
   ]
  },
  {
   "cell_type": "markdown",
   "metadata": {
    "id": "r43SCHUujW-f"
   },
   "source": [
    "# 결측치 처리"
   ]
  },
  {
   "cell_type": "code",
   "execution_count": 168,
   "metadata": {
    "colab": {
     "base_uri": "https://localhost:8080/",
     "height": 115
    },
    "executionInfo": {
     "elapsed": 18,
     "status": "ok",
     "timestamp": 1730269756796,
     "user": {
      "displayName": "koeyhi",
      "userId": "08049178071858703986"
     },
     "user_tz": -540
    },
    "id": "0qVrhIG3Q6T3",
    "outputId": "14080301-7bdb-4e7f-ced1-4b5b8dc2bd03"
   },
   "outputs": [
    {
     "data": {
      "text/plain": [
       "pivot_지점코드_A112000    2\n",
       "pivot_지점코드_A144000    2\n",
       "pivot_지점코드_A202000    2\n",
       "pivot_지점코드_A373000    2\n",
       "pivot_중분류_DC캐주얼       2\n",
       "                     ..\n",
       "Tuesday_sum           2\n",
       "Wednesday_sum         2\n",
       "방문일수_대비_구매건수          2\n",
       "구매주기_대비_구매금액          2\n",
       "방문당_평균구매금액            2\n",
       "Length: 2170, dtype: int64"
      ]
     },
     "execution_count": 168,
     "metadata": {},
     "output_type": "execute_result"
    }
   ],
   "source": [
    "mask = train_ft.isnull().sum() > 0\n",
    "train_ft.isnull().sum()[mask]"
   ]
  },
  {
   "cell_type": "code",
   "execution_count": 172,
   "metadata": {},
   "outputs": [
    {
     "data": {
      "text/html": [
       "<div>\n",
       "<style scoped>\n",
       "    .dataframe tbody tr th:only-of-type {\n",
       "        vertical-align: middle;\n",
       "    }\n",
       "\n",
       "    .dataframe tbody tr th {\n",
       "        vertical-align: top;\n",
       "    }\n",
       "\n",
       "    .dataframe thead th {\n",
       "        text-align: right;\n",
       "    }\n",
       "</style>\n",
       "<table border=\"1\" class=\"dataframe\">\n",
       "  <thead>\n",
       "    <tr style=\"text-align: right;\">\n",
       "      <th></th>\n",
       "      <th>ID</th>\n",
       "      <th>구매일시</th>\n",
       "      <th>지점코드</th>\n",
       "      <th>대분류</th>\n",
       "      <th>중분류</th>\n",
       "      <th>브랜드코드</th>\n",
       "      <th>구매가격</th>\n",
       "    </tr>\n",
       "  </thead>\n",
       "  <tbody>\n",
       "    <tr>\n",
       "      <th>517742</th>\n",
       "      <td>train_137</td>\n",
       "      <td>2005-04-25 19:30:00</td>\n",
       "      <td>A112000</td>\n",
       "      <td>패션잡화</td>\n",
       "      <td>수입종합화장품</td>\n",
       "      <td>5173</td>\n",
       "      <td>-155000</td>\n",
       "    </tr>\n",
       "    <tr>\n",
       "      <th>517747</th>\n",
       "      <td>train_137</td>\n",
       "      <td>2005-04-25 19:32:00</td>\n",
       "      <td>A112000</td>\n",
       "      <td>패션잡화</td>\n",
       "      <td>수입종합화장품</td>\n",
       "      <td>5173</td>\n",
       "      <td>155000</td>\n",
       "    </tr>\n",
       "    <tr>\n",
       "      <th>517749</th>\n",
       "      <td>train_137</td>\n",
       "      <td>2005-04-25 19:33:00</td>\n",
       "      <td>A112000</td>\n",
       "      <td>패션잡화</td>\n",
       "      <td>수입종합화장품</td>\n",
       "      <td>5173</td>\n",
       "      <td>155000</td>\n",
       "    </tr>\n",
       "  </tbody>\n",
       "</table>\n",
       "</div>"
      ],
      "text/plain": [
       "               ID                 구매일시     지점코드   대분류      중분류  브랜드코드    구매가격\n",
       "517742  train_137  2005-04-25 19:30:00  A112000  패션잡화  수입종합화장품   5173 -155000\n",
       "517747  train_137  2005-04-25 19:32:00  A112000  패션잡화  수입종합화장품   5173  155000\n",
       "517749  train_137  2005-04-25 19:33:00  A112000  패션잡화  수입종합화장품   5173  155000"
      ]
     },
     "execution_count": 172,
     "metadata": {},
     "output_type": "execute_result"
    }
   ],
   "source": [
    "train_tr[train_tr[\"ID\"] == 'train_137']"
   ]
  },
  {
   "cell_type": "code",
   "execution_count": 171,
   "metadata": {},
   "outputs": [
    {
     "data": {
      "text/html": [
       "<div>\n",
       "<style scoped>\n",
       "    .dataframe tbody tr th:only-of-type {\n",
       "        vertical-align: middle;\n",
       "    }\n",
       "\n",
       "    .dataframe tbody tr th {\n",
       "        vertical-align: top;\n",
       "    }\n",
       "\n",
       "    .dataframe thead th {\n",
       "        text-align: right;\n",
       "    }\n",
       "</style>\n",
       "<table border=\"1\" class=\"dataframe\">\n",
       "  <thead>\n",
       "    <tr style=\"text-align: right;\">\n",
       "      <th></th>\n",
       "      <th>ID</th>\n",
       "      <th>총방문일수</th>\n",
       "      <th>첫구매날짜</th>\n",
       "      <th>마지막구매날짜</th>\n",
       "      <th>백화점이용기간</th>\n",
       "      <th>구매주기</th>\n",
       "      <th>주말방문일수</th>\n",
       "      <th>일별평균구매건수</th>\n",
       "      <th>구매간격_표준편차</th>\n",
       "      <th>마지막구매후_경과일</th>\n",
       "      <th>...</th>\n",
       "      <th>전체_성수기_구매비율</th>\n",
       "      <th>전체_준성수기_구매비율</th>\n",
       "      <th>전체_중간기_구매비율</th>\n",
       "      <th>전체_비수기_구매비율</th>\n",
       "      <th>성수기_구매집중도</th>\n",
       "      <th>계절_구매변동성</th>\n",
       "      <th>구매주기_대비_구매금액</th>\n",
       "      <th>방문당_평균구매금액</th>\n",
       "      <th>구매금액_대비_환불금액</th>\n",
       "      <th>환불건수_대비_구매건수</th>\n",
       "    </tr>\n",
       "  </thead>\n",
       "  <tbody>\n",
       "    <tr>\n",
       "      <th>137</th>\n",
       "      <td>train_137</td>\n",
       "      <td>0.0</td>\n",
       "      <td>0</td>\n",
       "      <td>0</td>\n",
       "      <td>0.0</td>\n",
       "      <td>0.0</td>\n",
       "      <td>0.0</td>\n",
       "      <td>0.0</td>\n",
       "      <td>0.0</td>\n",
       "      <td>0.0</td>\n",
       "      <td>...</td>\n",
       "      <td>0.0</td>\n",
       "      <td>0.0</td>\n",
       "      <td>0.0</td>\n",
       "      <td>0.0</td>\n",
       "      <td>0.0</td>\n",
       "      <td>0.0</td>\n",
       "      <td>NaN</td>\n",
       "      <td>NaN</td>\n",
       "      <td>-inf</td>\n",
       "      <td>inf</td>\n",
       "    </tr>\n",
       "    <tr>\n",
       "      <th>2594</th>\n",
       "      <td>train_2594</td>\n",
       "      <td>0.0</td>\n",
       "      <td>0</td>\n",
       "      <td>0</td>\n",
       "      <td>0.0</td>\n",
       "      <td>0.0</td>\n",
       "      <td>0.0</td>\n",
       "      <td>0.0</td>\n",
       "      <td>0.0</td>\n",
       "      <td>0.0</td>\n",
       "      <td>...</td>\n",
       "      <td>0.0</td>\n",
       "      <td>0.0</td>\n",
       "      <td>0.0</td>\n",
       "      <td>0.0</td>\n",
       "      <td>0.0</td>\n",
       "      <td>0.0</td>\n",
       "      <td>NaN</td>\n",
       "      <td>NaN</td>\n",
       "      <td>-inf</td>\n",
       "      <td>inf</td>\n",
       "    </tr>\n",
       "  </tbody>\n",
       "</table>\n",
       "<p>2 rows × 2310 columns</p>\n",
       "</div>"
      ],
      "text/plain": [
       "              ID  총방문일수 첫구매날짜 마지막구매날짜  백화점이용기간  구매주기  주말방문일수  일별평균구매건수  \\\n",
       "137    train_137    0.0     0       0      0.0   0.0     0.0       0.0   \n",
       "2594  train_2594    0.0     0       0      0.0   0.0     0.0       0.0   \n",
       "\n",
       "      구매간격_표준편차  마지막구매후_경과일  ...  전체_성수기_구매비율  전체_준성수기_구매비율  전체_중간기_구매비율  \\\n",
       "137         0.0         0.0  ...          0.0           0.0          0.0   \n",
       "2594        0.0         0.0  ...          0.0           0.0          0.0   \n",
       "\n",
       "      전체_비수기_구매비율  성수기_구매집중도  계절_구매변동성  구매주기_대비_구매금액  방문당_평균구매금액  \\\n",
       "137           0.0        0.0       0.0           NaN         NaN   \n",
       "2594          0.0        0.0       0.0           NaN         NaN   \n",
       "\n",
       "      구매금액_대비_환불금액  환불건수_대비_구매건수  \n",
       "137           -inf           inf  \n",
       "2594          -inf           inf  \n",
       "\n",
       "[2 rows x 2310 columns]"
      ]
     },
     "execution_count": 171,
     "metadata": {},
     "output_type": "execute_result"
    }
   ],
   "source": [
    "train_ft[train_ft[\"pivot_지점코드_A112000\"].isnull() == True]"
   ]
  },
  {
   "cell_type": "code",
   "execution_count": 169,
   "metadata": {
    "colab": {
     "base_uri": "https://localhost:8080/",
     "height": 115
    },
    "executionInfo": {
     "elapsed": 17,
     "status": "ok",
     "timestamp": 1730269756796,
     "user": {
      "displayName": "koeyhi",
      "userId": "08049178071858703986"
     },
     "user_tz": -540
    },
    "id": "51Fu8zq9Q6Q8",
    "outputId": "c3f9b1c2-3af9-4c3f-b7c7-40f1549f3cfa"
   },
   "outputs": [
    {
     "data": {
      "text/plain": [
       "pivot_지점코드_A112000    3\n",
       "pivot_지점코드_A144000    3\n",
       "pivot_지점코드_A202000    3\n",
       "pivot_지점코드_A373000    3\n",
       "pivot_중분류_DC캐주얼       3\n",
       "                     ..\n",
       "Tuesday_sum           3\n",
       "Wednesday_sum         3\n",
       "방문일수_대비_구매건수          3\n",
       "구매주기_대비_구매금액          3\n",
       "방문당_평균구매금액            3\n",
       "Length: 2170, dtype: int64"
      ]
     },
     "execution_count": 169,
     "metadata": {},
     "output_type": "execute_result"
    }
   ],
   "source": [
    "mask = test_ft.isnull().sum() > 0\n",
    "test_ft.isnull().sum()[mask]"
   ]
  },
  {
   "cell_type": "markdown",
   "metadata": {
    "id": "fgPa4QG0RF2d"
   },
   "source": [
    "# 특성 공학(Feature Engineering)"
   ]
  },
  {
   "cell_type": "markdown",
   "metadata": {
    "id": "OXuo6unbRLGm"
   },
   "source": [
    "- ID 변수 제외"
   ]
  },
  {
   "cell_type": "code",
   "execution_count": 148,
   "metadata": {
    "colab": {
     "base_uri": "https://localhost:8080/"
    },
    "executionInfo": {
     "elapsed": 17,
     "status": "ok",
     "timestamp": 1730269756797,
     "user": {
      "displayName": "koeyhi",
      "userId": "08049178071858703986"
     },
     "user_tz": -540
    },
    "id": "xfksFVguRFuZ",
    "outputId": "39f354f5-84bc-4b11-db93-0973c2627455"
   },
   "outputs": [
    {
     "data": {
      "text/plain": [
       "((14940, 2309), (12225, 2309))"
      ]
     },
     "execution_count": 148,
     "metadata": {},
     "output_type": "execute_result"
    }
   ],
   "source": [
    "train_ft = train_ft.iloc[:,1:]\n",
    "test_ft = test_ft.iloc[:,1:]\n",
    "train_ft.shape, test_ft.shape"
   ]
  },
  {
   "cell_type": "markdown",
   "metadata": {
    "id": "jjuSj8URRa_q"
   },
   "source": [
    "- 추가 피처 만들어 보기"
   ]
  },
  {
   "cell_type": "code",
   "execution_count": 149,
   "metadata": {},
   "outputs": [
    {
     "data": {
      "text/plain": [
       "((14940, 2312), (12225, 2312))"
      ]
     },
     "execution_count": 149,
     "metadata": {},
     "output_type": "execute_result"
    }
   ],
   "source": [
    "cols = [ col for col in train_ft.columns if col.startswith(\"pivot_지점코드_\") ]\n",
    "\n",
    "train_ft[\"지점코드별_구매횟수_std\"] = train_ft[cols].std(axis=1)\n",
    "train_ft[\"지점코드별_구매횟수_skew\"] = train_ft[cols].skew(axis=1)\n",
    "train_ft[\"지점코드별_구매횟수_kurt\"] = train_ft[cols].kurt(axis=1)\n",
    "\n",
    "test_ft[\"지점코드별_구매횟수_std\"] = test_ft[cols].std(axis=1)\n",
    "test_ft[\"지점코드별_구매횟수_skew\"] = test_ft[cols].skew(axis=1)\n",
    "test_ft[\"지점코드별_구매횟수_kurt\"] = test_ft[cols].kurt(axis=1)\n",
    "\n",
    "train_ft.shape, test_ft.shape"
   ]
  },
  {
   "cell_type": "code",
   "execution_count": 150,
   "metadata": {
    "colab": {
     "base_uri": "https://localhost:8080/"
    },
    "executionInfo": {
     "elapsed": 713,
     "status": "ok",
     "timestamp": 1730269757495,
     "user": {
      "displayName": "koeyhi",
      "userId": "08049178071858703986"
     },
     "user_tz": -540
    },
    "id": "EQaqdQSARFr4",
    "outputId": "3ed4d721-1bb8-4e8c-bfab-60c4c0a204d6"
   },
   "outputs": [
    {
     "data": {
      "text/plain": [
       "((14940, 2315), (12225, 2315))"
      ]
     },
     "execution_count": 150,
     "metadata": {},
     "output_type": "execute_result"
    }
   ],
   "source": [
    "cols = [ col for col in train_ft.columns if col.startswith(\"pivot_중분류_\") ]\n",
    "\n",
    "train_ft[\"중분류별_구매횟수_std\"] = train_ft[cols].std(axis=1)\n",
    "train_ft[\"중분류별_구매횟수_skew\"] = train_ft[cols].skew(axis=1)\n",
    "train_ft[\"중분류별_구매횟수_kurt\"] = train_ft[cols].kurt(axis=1)\n",
    "\n",
    "test_ft[\"중분류별_구매횟수_std\"] = test_ft[cols].std(axis=1)\n",
    "test_ft[\"중분류별_구매횟수_skew\"] = test_ft[cols].skew(axis=1)\n",
    "test_ft[\"중분류별_구매횟수_kurt\"] = test_ft[cols].kurt(axis=1)\n",
    "\n",
    "train_ft.shape, test_ft.shape"
   ]
  },
  {
   "cell_type": "code",
   "execution_count": 151,
   "metadata": {},
   "outputs": [
    {
     "data": {
      "text/plain": [
       "((14940, 2318), (12225, 2318))"
      ]
     },
     "execution_count": 151,
     "metadata": {},
     "output_type": "execute_result"
    }
   ],
   "source": [
    "cols = [ col for col in train_ft.columns if col.startswith(\"pivot_대분류_\") ]\n",
    "\n",
    "train_ft[\"대분류별_구매횟수_std\"] = train_ft[cols].std(axis=1)\n",
    "train_ft[\"대분류별_구매횟수_skew\"] = train_ft[cols].skew(axis=1)\n",
    "train_ft[\"대분류별_구매횟수_kurt\"] = train_ft[cols].kurt(axis=1)\n",
    "\n",
    "test_ft[\"대분류별_구매횟수_std\"] = test_ft[cols].std(axis=1)\n",
    "test_ft[\"대분류별_구매횟수_skew\"] = test_ft[cols].skew(axis=1)\n",
    "test_ft[\"대분류별_구매횟수_kurt\"] = test_ft[cols].kurt(axis=1)\n",
    "\n",
    "train_ft.shape, test_ft.shape"
   ]
  },
  {
   "cell_type": "code",
   "execution_count": 152,
   "metadata": {},
   "outputs": [
    {
     "data": {
      "text/plain": [
       "((14940, 2321), (12225, 2321))"
      ]
     },
     "execution_count": 152,
     "metadata": {},
     "output_type": "execute_result"
    }
   ],
   "source": [
    "cols = [ col for col in train_ft.columns if col.startswith(\"pivot_브랜드코드_\") ]\n",
    "\n",
    "train_ft[\"브랜드코드별_구매횟수_std\"] = train_ft[cols].std(axis=1)\n",
    "train_ft[\"브랜드코드별_구매횟수_skew\"] = train_ft[cols].skew(axis=1)\n",
    "train_ft[\"브랜드코드별_구매횟수_kurt\"] = train_ft[cols].kurt(axis=1)\n",
    "\n",
    "test_ft[\"브랜드코드별_구매횟수_std\"] = test_ft[cols].std(axis=1)\n",
    "test_ft[\"브랜드코드별_구매횟수_skew\"] = test_ft[cols].skew(axis=1)\n",
    "test_ft[\"브랜드코드별_구매횟수_kurt\"] = test_ft[cols].kurt(axis=1)\n",
    "\n",
    "train_ft.shape, test_ft.shape"
   ]
  },
  {
   "cell_type": "code",
   "execution_count": 153,
   "metadata": {},
   "outputs": [
    {
     "data": {
      "text/plain": [
       "((14940, 2324), (12225, 2324))"
      ]
     },
     "execution_count": 153,
     "metadata": {},
     "output_type": "execute_result"
    }
   ],
   "source": [
    "cols = [ col for col in train_ft.columns if col.endswith(\"요일_구매비율\") ]\n",
    "\n",
    "train_ft[\"요일별_구매비율_std\"] = train_ft[cols].std(axis=1)\n",
    "train_ft[\"요일별_구매비율_skew\"] = train_ft[cols].skew(axis=1)\n",
    "train_ft[\"요일별_구매비율_kurt\"] = train_ft[cols].kurt(axis=1)\n",
    "\n",
    "test_ft[\"요일별_구매비율_std\"] = test_ft[cols].std(axis=1)\n",
    "test_ft[\"요일별_구매비율_skew\"] = test_ft[cols].skew(axis=1)\n",
    "test_ft[\"요일별_구매비율_kurt\"] = test_ft[cols].kurt(axis=1)\n",
    "\n",
    "train_ft.shape, test_ft.shape"
   ]
  },
  {
   "cell_type": "code",
   "execution_count": 154,
   "metadata": {},
   "outputs": [
    {
     "data": {
      "text/plain": [
       "((14940, 2327), (12225, 2327))"
      ]
     },
     "execution_count": 154,
     "metadata": {},
     "output_type": "execute_result"
    }
   ],
   "source": [
    "cols = [ col for col in train_ft.columns if col.endswith(\"월_구매비율\") ]\n",
    "\n",
    "train_ft[\"월별_구매비율_std\"] = train_ft[cols].std(axis=1)\n",
    "train_ft[\"월별_구매비율_skew\"] = train_ft[cols].skew(axis=1)\n",
    "train_ft[\"월별_구매비율_kurt\"] = train_ft[cols].kurt(axis=1)\n",
    "\n",
    "test_ft[\"월별_구매비율_std\"] = test_ft[cols].std(axis=1)\n",
    "test_ft[\"월별_구매비율_skew\"] = test_ft[cols].skew(axis=1)\n",
    "test_ft[\"월별_구매비율_kurt\"] = test_ft[cols].kurt(axis=1)\n",
    "\n",
    "train_ft.shape, test_ft.shape"
   ]
  },
  {
   "cell_type": "code",
   "execution_count": 155,
   "metadata": {},
   "outputs": [
    {
     "data": {
      "text/plain": [
       "((14940, 2330), (12225, 2330))"
      ]
     },
     "execution_count": 155,
     "metadata": {},
     "output_type": "execute_result"
    }
   ],
   "source": [
    "cols = [\"봄_구매비율\",\"여름_구매비율\",\"가을_구매비율\",\"겨울_구매비율\"]\n",
    "\n",
    "train_ft[\"계절별_구매비율_std\"] = train_ft[cols].std(axis=1)\n",
    "train_ft[\"계절별_구매비율_skew\"] = train_ft[cols].skew(axis=1)\n",
    "train_ft[\"계절별_구매비율_kurt\"] = train_ft[cols].kurt(axis=1)\n",
    "\n",
    "test_ft[\"계절별_구매비율_std\"] = test_ft[cols].std(axis=1)\n",
    "test_ft[\"계절별_구매비율_skew\"] = test_ft[cols].skew(axis=1)\n",
    "test_ft[\"계절별_구매비율_kurt\"] = test_ft[cols].kurt(axis=1)\n",
    "\n",
    "train_ft.shape, test_ft.shape"
   ]
  },
  {
   "cell_type": "code",
   "execution_count": 156,
   "metadata": {},
   "outputs": [
    {
     "data": {
      "text/plain": [
       "((14940, 2333), (12225, 2333))"
      ]
     },
     "execution_count": 156,
     "metadata": {},
     "output_type": "execute_result"
    }
   ],
   "source": [
    "cols = [ col for col in train_ft.columns if col.endswith(\"분기_구매비율\") ]\n",
    "\n",
    "train_ft[\"분기별_구매비율_std\"] = train_ft[cols].std(axis=1)\n",
    "train_ft[\"분기별_구매비율_skew\"] = train_ft[cols].skew(axis=1)\n",
    "train_ft[\"분기별_구매비율_kurt\"] = train_ft[cols].kurt(axis=1)\n",
    "\n",
    "test_ft[\"분기별_구매비율_std\"] = test_ft[cols].std(axis=1)\n",
    "test_ft[\"분기별_구매비율_skew\"] = test_ft[cols].skew(axis=1)\n",
    "test_ft[\"분기별_구매비율_kurt\"] = test_ft[cols].kurt(axis=1)\n",
    "\n",
    "train_ft.shape, test_ft.shape"
   ]
  },
  {
   "cell_type": "code",
   "execution_count": 157,
   "metadata": {},
   "outputs": [
    {
     "data": {
      "text/plain": [
       "((14940, 2334), (12225, 2334))"
      ]
     },
     "execution_count": 157,
     "metadata": {},
     "output_type": "execute_result"
    }
   ],
   "source": [
    "cols = [ col for col in train_ft.columns if col.endswith(\"년_구매비율\") ]\n",
    "\n",
    "train_ft[\"년도별_구매비율_std\"] = train_ft[cols].std(axis=1)\n",
    "test_ft[\"년도별_구매비율_std\"] = test_ft[cols].std(axis=1)\n",
    "\n",
    "train_ft.shape, test_ft.shape"
   ]
  },
  {
   "cell_type": "markdown",
   "metadata": {
    "id": "gXvdNLMtSVlW"
   },
   "source": [
    "## Feature Encoding"
   ]
  },
  {
   "cell_type": "code",
   "execution_count": 158,
   "metadata": {
    "colab": {
     "base_uri": "https://localhost:8080/",
     "height": 178
    },
    "executionInfo": {
     "elapsed": 3,
     "status": "ok",
     "timestamp": 1730269757495,
     "user": {
      "displayName": "koeyhi",
      "userId": "08049178071858703986"
     },
     "user_tz": -540
    },
    "id": "0YvdL9OVSRab",
    "outputId": "71ad5930-4228-4982-ec42-2534d4a8d9a2"
   },
   "outputs": [
    {
     "data": {
      "text/plain": [
       "첫구매날짜      338\n",
       "마지막구매날짜    335\n",
       "주구매지점        5\n",
       "주구매_중분류    231\n",
       "주구매_대분류     29\n",
       "고객등급         5\n",
       "dtype: int64"
      ]
     },
     "execution_count": 158,
     "metadata": {},
     "output_type": "execute_result"
    }
   ],
   "source": [
    "cols = train_ft.select_dtypes(\"object\").columns.tolist()\n",
    "train_ft[cols].nunique()"
   ]
  },
  {
   "cell_type": "code",
   "execution_count": 165,
   "metadata": {},
   "outputs": [
    {
     "data": {
      "text/html": [
       "<div>\n",
       "<style scoped>\n",
       "    .dataframe tbody tr th:only-of-type {\n",
       "        vertical-align: middle;\n",
       "    }\n",
       "\n",
       "    .dataframe tbody tr th {\n",
       "        vertical-align: top;\n",
       "    }\n",
       "\n",
       "    .dataframe thead th {\n",
       "        text-align: right;\n",
       "    }\n",
       "</style>\n",
       "<table border=\"1\" class=\"dataframe\">\n",
       "  <thead>\n",
       "    <tr style=\"text-align: right;\">\n",
       "      <th></th>\n",
       "      <th>총방문일수</th>\n",
       "      <th>첫구매날짜</th>\n",
       "      <th>마지막구매날짜</th>\n",
       "      <th>백화점이용기간</th>\n",
       "      <th>구매주기</th>\n",
       "      <th>주말방문일수</th>\n",
       "      <th>일별평균구매건수</th>\n",
       "      <th>구매간격_표준편차</th>\n",
       "      <th>마지막구매후_경과일</th>\n",
       "      <th>평균구매요일</th>\n",
       "      <th>...</th>\n",
       "      <th>월별_구매비율_std</th>\n",
       "      <th>월별_구매비율_skew</th>\n",
       "      <th>월별_구매비율_kurt</th>\n",
       "      <th>계절별_구매비율_std</th>\n",
       "      <th>계절별_구매비율_skew</th>\n",
       "      <th>계절별_구매비율_kurt</th>\n",
       "      <th>분기별_구매비율_std</th>\n",
       "      <th>분기별_구매비율_skew</th>\n",
       "      <th>분기별_구매비율_kurt</th>\n",
       "      <th>년도별_구매비율_std</th>\n",
       "    </tr>\n",
       "  </thead>\n",
       "  <tbody>\n",
       "    <tr>\n",
       "      <th>137</th>\n",
       "      <td>0.0</td>\n",
       "      <td>0</td>\n",
       "      <td>0</td>\n",
       "      <td>0.0</td>\n",
       "      <td>0.0</td>\n",
       "      <td>0.0</td>\n",
       "      <td>0.0</td>\n",
       "      <td>0.0</td>\n",
       "      <td>0.0</td>\n",
       "      <td>0.0</td>\n",
       "      <td>...</td>\n",
       "      <td>0.0</td>\n",
       "      <td>0.0</td>\n",
       "      <td>0.0</td>\n",
       "      <td>0.0</td>\n",
       "      <td>0.0</td>\n",
       "      <td>0.0</td>\n",
       "      <td>0.0</td>\n",
       "      <td>0.0</td>\n",
       "      <td>0.0</td>\n",
       "      <td>0.0</td>\n",
       "    </tr>\n",
       "    <tr>\n",
       "      <th>2594</th>\n",
       "      <td>0.0</td>\n",
       "      <td>0</td>\n",
       "      <td>0</td>\n",
       "      <td>0.0</td>\n",
       "      <td>0.0</td>\n",
       "      <td>0.0</td>\n",
       "      <td>0.0</td>\n",
       "      <td>0.0</td>\n",
       "      <td>0.0</td>\n",
       "      <td>0.0</td>\n",
       "      <td>...</td>\n",
       "      <td>0.0</td>\n",
       "      <td>0.0</td>\n",
       "      <td>0.0</td>\n",
       "      <td>0.0</td>\n",
       "      <td>0.0</td>\n",
       "      <td>0.0</td>\n",
       "      <td>0.0</td>\n",
       "      <td>0.0</td>\n",
       "      <td>0.0</td>\n",
       "      <td>0.0</td>\n",
       "    </tr>\n",
       "  </tbody>\n",
       "</table>\n",
       "<p>2 rows × 2334 columns</p>\n",
       "</div>"
      ],
      "text/plain": [
       "      총방문일수 첫구매날짜 마지막구매날짜  백화점이용기간  구매주기  주말방문일수  일별평균구매건수  구매간격_표준편차  \\\n",
       "137     0.0     0       0      0.0   0.0     0.0       0.0        0.0   \n",
       "2594    0.0     0       0      0.0   0.0     0.0       0.0        0.0   \n",
       "\n",
       "      마지막구매후_경과일  평균구매요일  ...  월별_구매비율_std  월별_구매비율_skew  월별_구매비율_kurt  \\\n",
       "137          0.0     0.0  ...          0.0           0.0           0.0   \n",
       "2594         0.0     0.0  ...          0.0           0.0           0.0   \n",
       "\n",
       "      계절별_구매비율_std  계절별_구매비율_skew  계절별_구매비율_kurt  분기별_구매비율_std  분기별_구매비율_skew  \\\n",
       "137            0.0            0.0            0.0           0.0            0.0   \n",
       "2594           0.0            0.0            0.0           0.0            0.0   \n",
       "\n",
       "      분기별_구매비율_kurt  년도별_구매비율_std  \n",
       "137             0.0           0.0  \n",
       "2594            0.0           0.0  \n",
       "\n",
       "[2 rows x 2334 columns]"
      ]
     },
     "execution_count": 165,
     "metadata": {},
     "output_type": "execute_result"
    }
   ],
   "source": [
    "train_ft[train_ft[\"첫구매날짜\"] == '0']"
   ]
  },
  {
   "cell_type": "code",
   "execution_count": 159,
   "metadata": {},
   "outputs": [
    {
     "ename": "ValueError",
     "evalue": "time data \"0\" doesn't match format \"%Y-%m-%d\", at position 75. You might want to try:\n    - passing `format` if your strings have a consistent format;\n    - passing `format='ISO8601'` if your strings are all ISO8601 but not necessarily in exactly the same format;\n    - passing `format='mixed'`, and the format will be inferred for each element individually. You might want to use `dayfirst` alongside this.",
     "output_type": "error",
     "traceback": [
      "\u001b[1;31m---------------------------------------------------------------------------\u001b[0m",
      "\u001b[1;31mValueError\u001b[0m                                Traceback (most recent call last)",
      "Cell \u001b[1;32mIn[159], line 1\u001b[0m\n\u001b[1;32m----> 1\u001b[0m train_ft[\u001b[38;5;124m\"\u001b[39m\u001b[38;5;124m첫구매날짜\u001b[39m\u001b[38;5;124m\"\u001b[39m] \u001b[38;5;241m=\u001b[39m \u001b[43mpd\u001b[49m\u001b[38;5;241;43m.\u001b[39;49m\u001b[43mto_datetime\u001b[49m\u001b[43m(\u001b[49m\u001b[43mtrain_ft\u001b[49m\u001b[43m[\u001b[49m\u001b[38;5;124;43m\"\u001b[39;49m\u001b[38;5;124;43m첫구매날짜\u001b[39;49m\u001b[38;5;124;43m\"\u001b[39;49m\u001b[43m]\u001b[49m\u001b[43m)\u001b[49m\n\u001b[0;32m      2\u001b[0m train_ft[\u001b[38;5;124m\"\u001b[39m\u001b[38;5;124m마지막구매날짜\u001b[39m\u001b[38;5;124m\"\u001b[39m] \u001b[38;5;241m=\u001b[39m pd\u001b[38;5;241m.\u001b[39mto_datetime(train_ft[\u001b[38;5;124m\"\u001b[39m\u001b[38;5;124m마지막구매날짜\u001b[39m\u001b[38;5;124m\"\u001b[39m])\n\u001b[0;32m      3\u001b[0m test_ft[\u001b[38;5;124m\"\u001b[39m\u001b[38;5;124m첫구매날짜\u001b[39m\u001b[38;5;124m\"\u001b[39m] \u001b[38;5;241m=\u001b[39m pd\u001b[38;5;241m.\u001b[39mto_datetime(test_ft[\u001b[38;5;124m\"\u001b[39m\u001b[38;5;124m첫구매날짜\u001b[39m\u001b[38;5;124m\"\u001b[39m])\n",
      "File \u001b[1;32mc:\\Users\\kwon3\\AppData\\Local\\Programs\\Python\\Python310\\lib\\site-packages\\pandas\\core\\tools\\datetimes.py:1063\u001b[0m, in \u001b[0;36mto_datetime\u001b[1;34m(arg, errors, dayfirst, yearfirst, utc, format, exact, unit, infer_datetime_format, origin, cache)\u001b[0m\n\u001b[0;32m   1061\u001b[0m             result \u001b[38;5;241m=\u001b[39m arg\u001b[38;5;241m.\u001b[39mtz_localize(\u001b[38;5;124m\"\u001b[39m\u001b[38;5;124mutc\u001b[39m\u001b[38;5;124m\"\u001b[39m)\n\u001b[0;32m   1062\u001b[0m \u001b[38;5;28;01melif\u001b[39;00m \u001b[38;5;28misinstance\u001b[39m(arg, ABCSeries):\n\u001b[1;32m-> 1063\u001b[0m     cache_array \u001b[38;5;241m=\u001b[39m \u001b[43m_maybe_cache\u001b[49m\u001b[43m(\u001b[49m\u001b[43marg\u001b[49m\u001b[43m,\u001b[49m\u001b[43m \u001b[49m\u001b[38;5;28;43mformat\u001b[39;49m\u001b[43m,\u001b[49m\u001b[43m \u001b[49m\u001b[43mcache\u001b[49m\u001b[43m,\u001b[49m\u001b[43m \u001b[49m\u001b[43mconvert_listlike\u001b[49m\u001b[43m)\u001b[49m\n\u001b[0;32m   1064\u001b[0m     \u001b[38;5;28;01mif\u001b[39;00m \u001b[38;5;129;01mnot\u001b[39;00m cache_array\u001b[38;5;241m.\u001b[39mempty:\n\u001b[0;32m   1065\u001b[0m         result \u001b[38;5;241m=\u001b[39m arg\u001b[38;5;241m.\u001b[39mmap(cache_array)\n",
      "File \u001b[1;32mc:\\Users\\kwon3\\AppData\\Local\\Programs\\Python\\Python310\\lib\\site-packages\\pandas\\core\\tools\\datetimes.py:247\u001b[0m, in \u001b[0;36m_maybe_cache\u001b[1;34m(arg, format, cache, convert_listlike)\u001b[0m\n\u001b[0;32m    245\u001b[0m unique_dates \u001b[38;5;241m=\u001b[39m unique(arg)\n\u001b[0;32m    246\u001b[0m \u001b[38;5;28;01mif\u001b[39;00m \u001b[38;5;28mlen\u001b[39m(unique_dates) \u001b[38;5;241m<\u001b[39m \u001b[38;5;28mlen\u001b[39m(arg):\n\u001b[1;32m--> 247\u001b[0m     cache_dates \u001b[38;5;241m=\u001b[39m \u001b[43mconvert_listlike\u001b[49m\u001b[43m(\u001b[49m\u001b[43munique_dates\u001b[49m\u001b[43m,\u001b[49m\u001b[43m \u001b[49m\u001b[38;5;28;43mformat\u001b[39;49m\u001b[43m)\u001b[49m\n\u001b[0;32m    248\u001b[0m     \u001b[38;5;66;03m# GH#45319\u001b[39;00m\n\u001b[0;32m    249\u001b[0m     \u001b[38;5;28;01mtry\u001b[39;00m:\n",
      "File \u001b[1;32mc:\\Users\\kwon3\\AppData\\Local\\Programs\\Python\\Python310\\lib\\site-packages\\pandas\\core\\tools\\datetimes.py:433\u001b[0m, in \u001b[0;36m_convert_listlike_datetimes\u001b[1;34m(arg, format, name, utc, unit, errors, dayfirst, yearfirst, exact)\u001b[0m\n\u001b[0;32m    431\u001b[0m \u001b[38;5;66;03m# `format` could be inferred, or user didn't ask for mixed-format parsing.\u001b[39;00m\n\u001b[0;32m    432\u001b[0m \u001b[38;5;28;01mif\u001b[39;00m \u001b[38;5;28mformat\u001b[39m \u001b[38;5;129;01mis\u001b[39;00m \u001b[38;5;129;01mnot\u001b[39;00m \u001b[38;5;28;01mNone\u001b[39;00m \u001b[38;5;129;01mand\u001b[39;00m \u001b[38;5;28mformat\u001b[39m \u001b[38;5;241m!=\u001b[39m \u001b[38;5;124m\"\u001b[39m\u001b[38;5;124mmixed\u001b[39m\u001b[38;5;124m\"\u001b[39m:\n\u001b[1;32m--> 433\u001b[0m     \u001b[38;5;28;01mreturn\u001b[39;00m \u001b[43m_array_strptime_with_fallback\u001b[49m\u001b[43m(\u001b[49m\u001b[43marg\u001b[49m\u001b[43m,\u001b[49m\u001b[43m \u001b[49m\u001b[43mname\u001b[49m\u001b[43m,\u001b[49m\u001b[43m \u001b[49m\u001b[43mutc\u001b[49m\u001b[43m,\u001b[49m\u001b[43m \u001b[49m\u001b[38;5;28;43mformat\u001b[39;49m\u001b[43m,\u001b[49m\u001b[43m \u001b[49m\u001b[43mexact\u001b[49m\u001b[43m,\u001b[49m\u001b[43m \u001b[49m\u001b[43merrors\u001b[49m\u001b[43m)\u001b[49m\n\u001b[0;32m    435\u001b[0m result, tz_parsed \u001b[38;5;241m=\u001b[39m objects_to_datetime64(\n\u001b[0;32m    436\u001b[0m     arg,\n\u001b[0;32m    437\u001b[0m     dayfirst\u001b[38;5;241m=\u001b[39mdayfirst,\n\u001b[1;32m   (...)\u001b[0m\n\u001b[0;32m    441\u001b[0m     allow_object\u001b[38;5;241m=\u001b[39m\u001b[38;5;28;01mTrue\u001b[39;00m,\n\u001b[0;32m    442\u001b[0m )\n\u001b[0;32m    444\u001b[0m \u001b[38;5;28;01mif\u001b[39;00m tz_parsed \u001b[38;5;129;01mis\u001b[39;00m \u001b[38;5;129;01mnot\u001b[39;00m \u001b[38;5;28;01mNone\u001b[39;00m:\n\u001b[0;32m    445\u001b[0m     \u001b[38;5;66;03m# We can take a shortcut since the datetime64 numpy array\u001b[39;00m\n\u001b[0;32m    446\u001b[0m     \u001b[38;5;66;03m# is in UTC\u001b[39;00m\n",
      "File \u001b[1;32mc:\\Users\\kwon3\\AppData\\Local\\Programs\\Python\\Python310\\lib\\site-packages\\pandas\\core\\tools\\datetimes.py:467\u001b[0m, in \u001b[0;36m_array_strptime_with_fallback\u001b[1;34m(arg, name, utc, fmt, exact, errors)\u001b[0m\n\u001b[0;32m    456\u001b[0m \u001b[38;5;28;01mdef\u001b[39;00m \u001b[38;5;21m_array_strptime_with_fallback\u001b[39m(\n\u001b[0;32m    457\u001b[0m     arg,\n\u001b[0;32m    458\u001b[0m     name,\n\u001b[1;32m   (...)\u001b[0m\n\u001b[0;32m    462\u001b[0m     errors: \u001b[38;5;28mstr\u001b[39m,\n\u001b[0;32m    463\u001b[0m ) \u001b[38;5;241m-\u001b[39m\u001b[38;5;241m>\u001b[39m Index:\n\u001b[0;32m    464\u001b[0m \u001b[38;5;250m    \u001b[39m\u001b[38;5;124;03m\"\"\"\u001b[39;00m\n\u001b[0;32m    465\u001b[0m \u001b[38;5;124;03m    Call array_strptime, with fallback behavior depending on 'errors'.\u001b[39;00m\n\u001b[0;32m    466\u001b[0m \u001b[38;5;124;03m    \"\"\"\u001b[39;00m\n\u001b[1;32m--> 467\u001b[0m     result, tz_out \u001b[38;5;241m=\u001b[39m \u001b[43marray_strptime\u001b[49m\u001b[43m(\u001b[49m\u001b[43marg\u001b[49m\u001b[43m,\u001b[49m\u001b[43m \u001b[49m\u001b[43mfmt\u001b[49m\u001b[43m,\u001b[49m\u001b[43m \u001b[49m\u001b[43mexact\u001b[49m\u001b[38;5;241;43m=\u001b[39;49m\u001b[43mexact\u001b[49m\u001b[43m,\u001b[49m\u001b[43m \u001b[49m\u001b[43merrors\u001b[49m\u001b[38;5;241;43m=\u001b[39;49m\u001b[43merrors\u001b[49m\u001b[43m,\u001b[49m\u001b[43m \u001b[49m\u001b[43mutc\u001b[49m\u001b[38;5;241;43m=\u001b[39;49m\u001b[43mutc\u001b[49m\u001b[43m)\u001b[49m\n\u001b[0;32m    468\u001b[0m     \u001b[38;5;28;01mif\u001b[39;00m tz_out \u001b[38;5;129;01mis\u001b[39;00m \u001b[38;5;129;01mnot\u001b[39;00m \u001b[38;5;28;01mNone\u001b[39;00m:\n\u001b[0;32m    469\u001b[0m         unit \u001b[38;5;241m=\u001b[39m np\u001b[38;5;241m.\u001b[39mdatetime_data(result\u001b[38;5;241m.\u001b[39mdtype)[\u001b[38;5;241m0\u001b[39m]\n",
      "File \u001b[1;32mstrptime.pyx:501\u001b[0m, in \u001b[0;36mpandas._libs.tslibs.strptime.array_strptime\u001b[1;34m()\u001b[0m\n",
      "File \u001b[1;32mstrptime.pyx:451\u001b[0m, in \u001b[0;36mpandas._libs.tslibs.strptime.array_strptime\u001b[1;34m()\u001b[0m\n",
      "File \u001b[1;32mstrptime.pyx:583\u001b[0m, in \u001b[0;36mpandas._libs.tslibs.strptime._parse_with_format\u001b[1;34m()\u001b[0m\n",
      "\u001b[1;31mValueError\u001b[0m: time data \"0\" doesn't match format \"%Y-%m-%d\", at position 75. You might want to try:\n    - passing `format` if your strings have a consistent format;\n    - passing `format='ISO8601'` if your strings are all ISO8601 but not necessarily in exactly the same format;\n    - passing `format='mixed'`, and the format will be inferred for each element individually. You might want to use `dayfirst` alongside this."
     ]
    }
   ],
   "source": [
    "train_ft[\"첫구매날짜\"] = pd.to_datetime(train_ft[\"첫구매날짜\"])\n",
    "train_ft[\"마지막구매날짜\"] = pd.to_datetime(train_ft[\"마지막구매날짜\"])\n",
    "test_ft[\"첫구매날짜\"] = pd.to_datetime(test_ft[\"첫구매날짜\"])\n",
    "test_ft[\"마지막구매날짜\"] = pd.to_datetime(test_ft[\"마지막구매날짜\"])\n",
    "\n",
    "train_ft[\"첫구매년도\"] = train_ft[\"첫구매날짜\"].dt.year\n",
    "train_ft[\"첫구매월\"] = train_ft[\"첫구매날짜\"].dt.month\n",
    "train_ft[\"마지막구매년도\"] = train_ft[\"마지막구매날짜\"].dt.year\n",
    "train_ft[\"마지막구매월\"] = train_ft[\"마지막구매날짜\"].dt.month\n",
    "\n",
    "test_ft[\"첫구매년도\"] = test_ft[\"첫구매날짜\"].dt.year\n",
    "test_ft[\"첫구매월\"] = test_ft[\"첫구매날짜\"].dt.month\n",
    "test_ft[\"마지막구매년도\"] = test_ft[\"마지막구매날짜\"].dt.year\n",
    "test_ft[\"마지막구매월\"] = test_ft[\"마지막구매날짜\"].dt.month\n",
    "\n",
    "train_ft.shape, test_ft.shape"
   ]
  },
  {
   "cell_type": "code",
   "execution_count": 289,
   "metadata": {
    "colab": {
     "base_uri": "https://localhost:8080/"
    },
    "executionInfo": {
     "elapsed": 5372,
     "status": "ok",
     "timestamp": 1730269762864,
     "user": {
      "displayName": "koeyhi",
      "userId": "08049178071858703986"
     },
     "user_tz": -540
    },
    "id": "RICJpfu2SRWd",
    "outputId": "771c1229-c8cd-4c73-c977-c1ca65987549"
   },
   "outputs": [],
   "source": [
    "# %pip install category_encoders"
   ]
  },
  {
   "cell_type": "code",
   "execution_count": 60,
   "metadata": {
    "executionInfo": {
     "elapsed": 7748,
     "status": "ok",
     "timestamp": 1730269770609,
     "user": {
      "displayName": "koeyhi",
      "userId": "08049178071858703986"
     },
     "user_tz": -540
    },
    "id": "KBjgGRGESRTl"
   },
   "outputs": [],
   "source": [
    "# import category_encoders as ce"
   ]
  },
  {
   "cell_type": "code",
   "execution_count": 115,
   "metadata": {
    "colab": {
     "base_uri": "https://localhost:8080/"
    },
    "executionInfo": {
     "elapsed": 298,
     "status": "ok",
     "timestamp": 1730269770905,
     "user": {
      "displayName": "koeyhi",
      "userId": "08049178071858703986"
     },
     "user_tz": -540
    },
    "id": "3d6B3II8T25p",
    "outputId": "f5d9eb08-ac39-4dd0-cd4e-8eb35ecf752f"
   },
   "outputs": [
    {
     "data": {
      "text/plain": [
       "((14940, 2368), (12225, 2368))"
      ]
     },
     "execution_count": 115,
     "metadata": {},
     "output_type": "execute_result"
    }
   ],
   "source": [
    "from sklearn.preprocessing import OneHotEncoder\n",
    "\n",
    "oh_enc = OneHotEncoder(handle_unknown=\"ignore\")\n",
    "train_ft[oh_enc.get_feature_names_out()] = oh_enc.fit_transform(train_ft[[\"주구매지점\",\"주구매_대분류\"]]).toarray()\n",
    "test_ft[oh_enc.get_feature_names_out()] = oh_enc.transform(test_ft[[\"주구매지점\",\"주구매_대분류\"]]).toarray()\n",
    "\n",
    "train_ft.shape, test_ft.shape"
   ]
  },
  {
   "cell_type": "code",
   "execution_count": 125,
   "metadata": {},
   "outputs": [
    {
     "data": {
      "text/plain": [
       "((14940, 2311), (12225, 2311))"
      ]
     },
     "execution_count": 125,
     "metadata": {},
     "output_type": "execute_result"
    }
   ],
   "source": [
    "from sklearn.preprocessing import OrdinalEncoder\n",
    "\n",
    "ord_enc = OrdinalEncoder(categories=[['Normal', 'Black', 'Gold', 'Platinum', 'Diamond']])\n",
    "train_ft[\"고객등급\"] = ord_enc.fit_transform(train_ft[[\"고객등급\"]])\n",
    "test_ft[\"고객등급\"] = ord_enc.transform(test_ft[[\"고객등급\"]])\n",
    "\n",
    "train_ft.shape, test_ft.shape"
   ]
  },
  {
   "cell_type": "code",
   "execution_count": 135,
   "metadata": {},
   "outputs": [
    {
     "data": {
      "text/plain": [
       "0         4201200\n",
       "1         5043025\n",
       "3        35594762\n",
       "4         3988866\n",
       "5        10047455\n",
       "           ...   \n",
       "14933     5268152\n",
       "14935     1195120\n",
       "14936     2220000\n",
       "14937      897898\n",
       "14938     4136600\n",
       "Name: 총구매금액, Length: 12625, dtype: int64"
      ]
     },
     "execution_count": 135,
     "metadata": {},
     "output_type": "execute_result"
    }
   ],
   "source": [
    "train_ft[train_ft[\"고객등급\"] == 0][\"총구매금액\"]"
   ]
  },
  {
   "cell_type": "code",
   "execution_count": 68,
   "metadata": {
    "colab": {
     "base_uri": "https://localhost:8080/"
    },
    "executionInfo": {
     "elapsed": 316,
     "status": "ok",
     "timestamp": 1730269771219,
     "user": {
      "displayName": "koeyhi",
      "userId": "08049178071858703986"
     },
     "user_tz": -540
    },
    "id": "q0ztgmEMRFpN",
    "outputId": "c5eab720-275c-475d-f092-c26f41b71cc5"
   },
   "outputs": [
    {
     "data": {
      "text/plain": [
       "((14940, 2377), (12225, 2377))"
      ]
     },
     "execution_count": 68,
     "metadata": {},
     "output_type": "execute_result"
    }
   ],
   "source": [
    "enc = ce.count.CountEncoder()\n",
    "train_ft[\"주구매_중분류_cnt\"] = enc.fit_transform(train_ft[[\"주구매_중분류\"]])\n",
    "test_ft[\"주구매_중분류_cnt\"] = enc.transform(test_ft[[\"주구매_중분류\"]])\n",
    "\n",
    "train_ft.shape, test_ft.shape"
   ]
  },
  {
   "cell_type": "markdown",
   "metadata": {
    "id": "lPURwRnPUj-B"
   },
   "source": [
    "- 문자열 피처 삭제"
   ]
  },
  {
   "cell_type": "code",
   "execution_count": 80,
   "metadata": {
    "colab": {
     "base_uri": "https://localhost:8080/"
    },
    "executionInfo": {
     "elapsed": 3,
     "status": "ok",
     "timestamp": 1730269771219,
     "user": {
      "displayName": "koeyhi",
      "userId": "08049178071858703986"
     },
     "user_tz": -540
    },
    "id": "suLVrqBCRFmK",
    "outputId": "e9c04af0-5529-42e6-bef5-a9e9df6b0ef8"
   },
   "outputs": [
    {
     "data": {
      "text/plain": [
       "['주구매지점', '주구매_중분류', '주구매_대분류', '고객등급', '첫구매날짜', '마지막구매날짜']"
      ]
     },
     "execution_count": 80,
     "metadata": {},
     "output_type": "execute_result"
    }
   ],
   "source": [
    "cols = cols + train_ft.select_dtypes(\"datetime\").columns.tolist()\n",
    "cols"
   ]
  },
  {
   "cell_type": "code",
   "execution_count": 82,
   "metadata": {
    "colab": {
     "base_uri": "https://localhost:8080/"
    },
    "executionInfo": {
     "elapsed": 338,
     "status": "ok",
     "timestamp": 1730269771556,
     "user": {
      "displayName": "koeyhi",
      "userId": "08049178071858703986"
     },
     "user_tz": -540
    },
    "id": "zZlZoAMZUbGp",
    "outputId": "2dc6b54d-eacb-450d-8fc1-b2b19198435c"
   },
   "outputs": [
    {
     "data": {
      "text/plain": [
       "((14940, 2371), (12225, 2371))"
      ]
     },
     "execution_count": 82,
     "metadata": {},
     "output_type": "execute_result"
    }
   ],
   "source": [
    "train_ft = train_ft.drop(columns=cols)\n",
    "test_ft = test_ft.drop(columns=cols)\n",
    "train_ft.shape, test_ft.shape"
   ]
  },
  {
   "cell_type": "code",
   "execution_count": 83,
   "metadata": {
    "colab": {
     "base_uri": "https://localhost:8080/"
    },
    "executionInfo": {
     "elapsed": 3,
     "status": "ok",
     "timestamp": 1730269771557,
     "user": {
      "displayName": "koeyhi",
      "userId": "08049178071858703986"
     },
     "user_tz": -540
    },
    "id": "1-y4-kmTUmso",
    "outputId": "7e3d9700-ac05-48e8-81e1-d6b1eb972cea"
   },
   "outputs": [
    {
     "data": {
      "text/plain": [
       "(Index([], dtype='object'), Index([], dtype='object'))"
      ]
     },
     "execution_count": 83,
     "metadata": {},
     "output_type": "execute_result"
    }
   ],
   "source": [
    "train_ft.select_dtypes(\"object\").columns , test_ft.select_dtypes(\"object\").columns"
   ]
  },
  {
   "cell_type": "code",
   "execution_count": 84,
   "metadata": {},
   "outputs": [
    {
     "data": {
      "text/plain": [
       "(Index([], dtype='object'), Index([], dtype='object'))"
      ]
     },
     "execution_count": 84,
     "metadata": {},
     "output_type": "execute_result"
    }
   ],
   "source": [
    "train_ft.select_dtypes(\"datetime\").columns, test_ft.select_dtypes(\"datetime\").columns"
   ]
  },
  {
   "cell_type": "markdown",
   "metadata": {
    "id": "KAQ-3TU5U0Pk"
   },
   "source": [
    "## Feature Scaling"
   ]
  },
  {
   "cell_type": "code",
   "execution_count": 85,
   "metadata": {
    "executionInfo": {
     "elapsed": 2,
     "status": "ok",
     "timestamp": 1730269771557,
     "user": {
      "displayName": "koeyhi",
      "userId": "08049178071858703986"
     },
     "user_tz": -540
    },
    "id": "2_ywU--RUmp7"
   },
   "outputs": [],
   "source": [
    "from sklearn.preprocessing import StandardScaler\n",
    "scaler = StandardScaler()"
   ]
  },
  {
   "cell_type": "code",
   "execution_count": 89,
   "metadata": {},
   "outputs": [
    {
     "data": {
      "text/plain": [
       "(0, 0)"
      ]
     },
     "execution_count": 89,
     "metadata": {},
     "output_type": "execute_result"
    }
   ],
   "source": [
    "train_ft.isin([np.inf, -np.inf]).any().sum(), test_ft.isin([np.inf, -np.inf]).any().sum()"
   ]
  },
  {
   "cell_type": "code",
   "execution_count": 90,
   "metadata": {},
   "outputs": [
    {
     "data": {
      "text/plain": [
       "(0, 0)"
      ]
     },
     "execution_count": 90,
     "metadata": {},
     "output_type": "execute_result"
    }
   ],
   "source": [
    "train_ft.isna().sum().sum(), test_ft.isna().sum().sum()\n"
   ]
  },
  {
   "cell_type": "code",
   "execution_count": 91,
   "metadata": {},
   "outputs": [
    {
     "data": {
      "text/html": [
       "<div>\n",
       "<style scoped>\n",
       "    .dataframe tbody tr th:only-of-type {\n",
       "        vertical-align: middle;\n",
       "    }\n",
       "\n",
       "    .dataframe tbody tr th {\n",
       "        vertical-align: top;\n",
       "    }\n",
       "\n",
       "    .dataframe thead th {\n",
       "        text-align: right;\n",
       "    }\n",
       "</style>\n",
       "<table border=\"1\" class=\"dataframe\">\n",
       "  <thead>\n",
       "    <tr style=\"text-align: right;\">\n",
       "      <th></th>\n",
       "      <th>총방문일수</th>\n",
       "      <th>백화점이용기간</th>\n",
       "      <th>구매주기</th>\n",
       "      <th>주말방문일수</th>\n",
       "      <th>일별평균구매건수</th>\n",
       "      <th>구매간격_표준편차</th>\n",
       "      <th>마지막구매후_경과일</th>\n",
       "      <th>평균구매요일</th>\n",
       "      <th>주구매요일</th>\n",
       "      <th>월요일_구매비율</th>\n",
       "      <th>...</th>\n",
       "      <th>주구매_대분류_25</th>\n",
       "      <th>주구매_대분류_26</th>\n",
       "      <th>주구매_대분류_27</th>\n",
       "      <th>주구매_대분류_28</th>\n",
       "      <th>고객등급_1</th>\n",
       "      <th>고객등급_2</th>\n",
       "      <th>고객등급_3</th>\n",
       "      <th>고객등급_4</th>\n",
       "      <th>고객등급_5</th>\n",
       "      <th>주구매_중분류_cnt</th>\n",
       "    </tr>\n",
       "  </thead>\n",
       "  <tbody>\n",
       "    <tr>\n",
       "      <th>0</th>\n",
       "      <td>-0.442360</td>\n",
       "      <td>-0.032407</td>\n",
       "      <td>0.192444</td>\n",
       "      <td>-0.363995</td>\n",
       "      <td>-0.285092</td>\n",
       "      <td>0.019982</td>\n",
       "      <td>0.785722</td>\n",
       "      <td>0.041647</td>\n",
       "      <td>-0.468522</td>\n",
       "      <td>-0.341447</td>\n",
       "      <td>...</td>\n",
       "      <td>-0.090737</td>\n",
       "      <td>-0.127775</td>\n",
       "      <td>-0.084533</td>\n",
       "      <td>-0.038402</td>\n",
       "      <td>0.428213</td>\n",
       "      <td>-0.201153</td>\n",
       "      <td>-0.128585</td>\n",
       "      <td>-0.300321</td>\n",
       "      <td>-0.131775</td>\n",
       "      <td>-0.806829</td>\n",
       "    </tr>\n",
       "    <tr>\n",
       "      <th>1</th>\n",
       "      <td>0.202134</td>\n",
       "      <td>0.860877</td>\n",
       "      <td>-0.405966</td>\n",
       "      <td>-0.569485</td>\n",
       "      <td>0.481886</td>\n",
       "      <td>-0.544892</td>\n",
       "      <td>-0.670510</td>\n",
       "      <td>-0.798213</td>\n",
       "      <td>0.118801</td>\n",
       "      <td>-0.503098</td>\n",
       "      <td>...</td>\n",
       "      <td>-0.090737</td>\n",
       "      <td>-0.127775</td>\n",
       "      <td>-0.084533</td>\n",
       "      <td>-0.038402</td>\n",
       "      <td>0.428213</td>\n",
       "      <td>-0.201153</td>\n",
       "      <td>-0.128585</td>\n",
       "      <td>-0.300321</td>\n",
       "      <td>-0.131775</td>\n",
       "      <td>-0.662367</td>\n",
       "    </tr>\n",
       "    <tr>\n",
       "      <th>2</th>\n",
       "      <td>2.028201</td>\n",
       "      <td>0.897713</td>\n",
       "      <td>-0.904641</td>\n",
       "      <td>1.485416</td>\n",
       "      <td>0.168122</td>\n",
       "      <td>-0.888460</td>\n",
       "      <td>-0.656092</td>\n",
       "      <td>-0.785470</td>\n",
       "      <td>-1.643170</td>\n",
       "      <td>0.938828</td>\n",
       "      <td>...</td>\n",
       "      <td>-0.090737</td>\n",
       "      <td>-0.127775</td>\n",
       "      <td>-0.084533</td>\n",
       "      <td>-0.038402</td>\n",
       "      <td>-2.335287</td>\n",
       "      <td>4.971346</td>\n",
       "      <td>-0.128585</td>\n",
       "      <td>-0.300321</td>\n",
       "      <td>-0.131775</td>\n",
       "      <td>-0.917799</td>\n",
       "    </tr>\n",
       "    <tr>\n",
       "      <th>3</th>\n",
       "      <td>3.907976</td>\n",
       "      <td>0.796413</td>\n",
       "      <td>-1.054243</td>\n",
       "      <td>3.129336</td>\n",
       "      <td>0.577758</td>\n",
       "      <td>-0.986397</td>\n",
       "      <td>-0.569583</td>\n",
       "      <td>0.100820</td>\n",
       "      <td>0.706125</td>\n",
       "      <td>-0.275913</td>\n",
       "      <td>...</td>\n",
       "      <td>-0.090737</td>\n",
       "      <td>-0.127775</td>\n",
       "      <td>-0.084533</td>\n",
       "      <td>-0.038402</td>\n",
       "      <td>0.428213</td>\n",
       "      <td>-0.201153</td>\n",
       "      <td>-0.128585</td>\n",
       "      <td>-0.300321</td>\n",
       "      <td>-0.131775</td>\n",
       "      <td>1.409084</td>\n",
       "    </tr>\n",
       "    <tr>\n",
       "      <th>4</th>\n",
       "      <td>0.416966</td>\n",
       "      <td>0.501722</td>\n",
       "      <td>-0.605436</td>\n",
       "      <td>0.457965</td>\n",
       "      <td>-0.484507</td>\n",
       "      <td>-0.536488</td>\n",
       "      <td>-0.079366</td>\n",
       "      <td>1.021483</td>\n",
       "      <td>0.706125</td>\n",
       "      <td>-0.260622</td>\n",
       "      <td>...</td>\n",
       "      <td>-0.090737</td>\n",
       "      <td>-0.127775</td>\n",
       "      <td>-0.084533</td>\n",
       "      <td>-0.038402</td>\n",
       "      <td>0.428213</td>\n",
       "      <td>-0.201153</td>\n",
       "      <td>-0.128585</td>\n",
       "      <td>-0.300321</td>\n",
       "      <td>-0.131775</td>\n",
       "      <td>0.098431</td>\n",
       "    </tr>\n",
       "  </tbody>\n",
       "</table>\n",
       "<p>5 rows × 2371 columns</p>\n",
       "</div>"
      ],
      "text/plain": [
       "      총방문일수   백화점이용기간      구매주기    주말방문일수  일별평균구매건수  구매간격_표준편차  마지막구매후_경과일  \\\n",
       "0 -0.442360 -0.032407  0.192444 -0.363995 -0.285092   0.019982    0.785722   \n",
       "1  0.202134  0.860877 -0.405966 -0.569485  0.481886  -0.544892   -0.670510   \n",
       "2  2.028201  0.897713 -0.904641  1.485416  0.168122  -0.888460   -0.656092   \n",
       "3  3.907976  0.796413 -1.054243  3.129336  0.577758  -0.986397   -0.569583   \n",
       "4  0.416966  0.501722 -0.605436  0.457965 -0.484507  -0.536488   -0.079366   \n",
       "\n",
       "     평균구매요일     주구매요일  월요일_구매비율  ...  주구매_대분류_25  주구매_대분류_26  주구매_대분류_27  \\\n",
       "0  0.041647 -0.468522 -0.341447  ...   -0.090737   -0.127775   -0.084533   \n",
       "1 -0.798213  0.118801 -0.503098  ...   -0.090737   -0.127775   -0.084533   \n",
       "2 -0.785470 -1.643170  0.938828  ...   -0.090737   -0.127775   -0.084533   \n",
       "3  0.100820  0.706125 -0.275913  ...   -0.090737   -0.127775   -0.084533   \n",
       "4  1.021483  0.706125 -0.260622  ...   -0.090737   -0.127775   -0.084533   \n",
       "\n",
       "   주구매_대분류_28    고객등급_1    고객등급_2    고객등급_3    고객등급_4    고객등급_5  주구매_중분류_cnt  \n",
       "0   -0.038402  0.428213 -0.201153 -0.128585 -0.300321 -0.131775    -0.806829  \n",
       "1   -0.038402  0.428213 -0.201153 -0.128585 -0.300321 -0.131775    -0.662367  \n",
       "2   -0.038402 -2.335287  4.971346 -0.128585 -0.300321 -0.131775    -0.917799  \n",
       "3   -0.038402  0.428213 -0.201153 -0.128585 -0.300321 -0.131775     1.409084  \n",
       "4   -0.038402  0.428213 -0.201153 -0.128585 -0.300321 -0.131775     0.098431  \n",
       "\n",
       "[5 rows x 2371 columns]"
      ]
     },
     "execution_count": 91,
     "metadata": {},
     "output_type": "execute_result"
    }
   ],
   "source": [
    "# train_ft = train_ft.replace([np.inf, -np.inf], np.nan)\n",
    "# test_ft = test_ft.replace([np.inf, -np.inf], np.nan)\n",
    "\n",
    "# train_ft = train_ft.fillna(0)\n",
    "# test_ft = test_ft.fillna(0)\n",
    "\n",
    "train_ft[train_ft.columns] = scaler.fit_transform(train_ft)\n",
    "test_ft[test_ft.columns] = scaler.transform(test_ft)\n",
    "train_ft.head()"
   ]
  },
  {
   "cell_type": "markdown",
   "metadata": {
    "id": "Xlmnx5QsU8_x"
   },
   "source": [
    "# 정답 데이터"
   ]
  },
  {
   "cell_type": "code",
   "execution_count": 92,
   "metadata": {
    "colab": {
     "base_uri": "https://localhost:8080/",
     "height": 458
    },
    "executionInfo": {
     "elapsed": 5,
     "status": "ok",
     "timestamp": 1730269772367,
     "user": {
      "displayName": "koeyhi",
      "userId": "08049178071858703986"
     },
     "user_tz": -540
    },
    "id": "sawXnAciUmkJ",
    "outputId": "60f26f42-3e54-4c24-a6c8-5e547cef0a22"
   },
   "outputs": [
    {
     "data": {
      "text/plain": [
       "0        1.0\n",
       "1        1.0\n",
       "2        0.0\n",
       "3        0.0\n",
       "4        0.0\n",
       "        ... \n",
       "14935    0.0\n",
       "14936    0.0\n",
       "14937    0.0\n",
       "14938    1.0\n",
       "14939    1.0\n",
       "Name: target, Length: 14940, dtype: float64"
      ]
     },
     "execution_count": 92,
     "metadata": {},
     "output_type": "execute_result"
    }
   ],
   "source": [
    "target = train_target[\"target\"]\n",
    "target"
   ]
  },
  {
   "cell_type": "markdown",
   "metadata": {
    "id": "rXinfWehVH4-"
   },
   "source": [
    "# cv 점수 확인해보기"
   ]
  },
  {
   "cell_type": "code",
   "execution_count": 93,
   "metadata": {
    "executionInfo": {
     "elapsed": 300,
     "status": "ok",
     "timestamp": 1730269772663,
     "user": {
      "displayName": "koeyhi",
      "userId": "08049178071858703986"
     },
     "user_tz": -540
    },
    "id": "9zdzXYwOVSgV"
   },
   "outputs": [],
   "source": [
    "from sklearn.model_selection import cross_val_score\n",
    "from sklearn.model_selection import StratifiedKFold\n",
    "\n",
    "cv = StratifiedKFold(n_splits=5, shuffle=True, random_state=SEED)"
   ]
  },
  {
   "cell_type": "code",
   "execution_count": 94,
   "metadata": {
    "colab": {
     "base_uri": "https://localhost:8080/"
    },
    "executionInfo": {
     "elapsed": 26039,
     "status": "ok",
     "timestamp": 1730269798701,
     "user": {
      "displayName": "koeyhi",
      "userId": "08049178071858703986"
     },
     "user_tz": -540
    },
    "id": "rY6xQ68PVGwP",
    "outputId": "e9425557-4602-4f8c-d99a-88cede732259"
   },
   "outputs": [
    {
     "data": {
      "text/plain": [
       "0.719877960713841"
      ]
     },
     "execution_count": 94,
     "metadata": {},
     "output_type": "execute_result"
    }
   ],
   "source": [
    "from lightgbm import LGBMClassifier\n",
    "\n",
    "model = LGBMClassifier(random_state=SEED)\n",
    "scores = cross_val_score(model, train_ft, target, cv=cv, scoring=\"f1_macro\", n_jobs=-1)\n",
    "np.mean(scores)"
   ]
  },
  {
   "cell_type": "markdown",
   "metadata": {
    "id": "tUfajgtxVdte"
   },
   "source": [
    "# 모델 학습"
   ]
  },
  {
   "cell_type": "code",
   "execution_count": 301,
   "metadata": {
    "colab": {
     "base_uri": "https://localhost:8080/",
     "height": 218
    },
    "executionInfo": {
     "elapsed": 4442,
     "status": "ok",
     "timestamp": 1730269803135,
     "user": {
      "displayName": "koeyhi",
      "userId": "08049178071858703986"
     },
     "user_tz": -540
    },
    "id": "16GsDHp0VGtd",
    "outputId": "e60fea51-bc60-4385-c762-bdb1ee1408d9"
   },
   "outputs": [
    {
     "name": "stdout",
     "output_type": "stream",
     "text": [
      "[LightGBM] [Warning] Found whitespace in feature_names, replace with underlines\n",
      "[LightGBM] [Info] Number of positive: 5874, number of negative: 9066\n",
      "[LightGBM] [Info] Auto-choosing col-wise multi-threading, the overhead of testing was 0.036776 seconds.\n",
      "You can set `force_col_wise=true` to remove the overhead.\n",
      "[LightGBM] [Info] Total Bins 44036\n",
      "[LightGBM] [Info] Number of data points in the train set: 14940, number of used features: 1656\n",
      "[LightGBM] [Info] [binary:BoostFromScore]: pavg=0.393173 -> initscore=-0.433995\n",
      "[LightGBM] [Info] Start training from score -0.433995\n"
     ]
    },
    {
     "data": {
      "text/html": [
       "<style>#sk-container-id-8 {\n",
       "  /* Definition of color scheme common for light and dark mode */\n",
       "  --sklearn-color-text: black;\n",
       "  --sklearn-color-line: gray;\n",
       "  /* Definition of color scheme for unfitted estimators */\n",
       "  --sklearn-color-unfitted-level-0: #fff5e6;\n",
       "  --sklearn-color-unfitted-level-1: #f6e4d2;\n",
       "  --sklearn-color-unfitted-level-2: #ffe0b3;\n",
       "  --sklearn-color-unfitted-level-3: chocolate;\n",
       "  /* Definition of color scheme for fitted estimators */\n",
       "  --sklearn-color-fitted-level-0: #f0f8ff;\n",
       "  --sklearn-color-fitted-level-1: #d4ebff;\n",
       "  --sklearn-color-fitted-level-2: #b3dbfd;\n",
       "  --sklearn-color-fitted-level-3: cornflowerblue;\n",
       "\n",
       "  /* Specific color for light theme */\n",
       "  --sklearn-color-text-on-default-background: var(--sg-text-color, var(--theme-code-foreground, var(--jp-content-font-color1, black)));\n",
       "  --sklearn-color-background: var(--sg-background-color, var(--theme-background, var(--jp-layout-color0, white)));\n",
       "  --sklearn-color-border-box: var(--sg-text-color, var(--theme-code-foreground, var(--jp-content-font-color1, black)));\n",
       "  --sklearn-color-icon: #696969;\n",
       "\n",
       "  @media (prefers-color-scheme: dark) {\n",
       "    /* Redefinition of color scheme for dark theme */\n",
       "    --sklearn-color-text-on-default-background: var(--sg-text-color, var(--theme-code-foreground, var(--jp-content-font-color1, white)));\n",
       "    --sklearn-color-background: var(--sg-background-color, var(--theme-background, var(--jp-layout-color0, #111)));\n",
       "    --sklearn-color-border-box: var(--sg-text-color, var(--theme-code-foreground, var(--jp-content-font-color1, white)));\n",
       "    --sklearn-color-icon: #878787;\n",
       "  }\n",
       "}\n",
       "\n",
       "#sk-container-id-8 {\n",
       "  color: var(--sklearn-color-text);\n",
       "}\n",
       "\n",
       "#sk-container-id-8 pre {\n",
       "  padding: 0;\n",
       "}\n",
       "\n",
       "#sk-container-id-8 input.sk-hidden--visually {\n",
       "  border: 0;\n",
       "  clip: rect(1px 1px 1px 1px);\n",
       "  clip: rect(1px, 1px, 1px, 1px);\n",
       "  height: 1px;\n",
       "  margin: -1px;\n",
       "  overflow: hidden;\n",
       "  padding: 0;\n",
       "  position: absolute;\n",
       "  width: 1px;\n",
       "}\n",
       "\n",
       "#sk-container-id-8 div.sk-dashed-wrapped {\n",
       "  border: 1px dashed var(--sklearn-color-line);\n",
       "  margin: 0 0.4em 0.5em 0.4em;\n",
       "  box-sizing: border-box;\n",
       "  padding-bottom: 0.4em;\n",
       "  background-color: var(--sklearn-color-background);\n",
       "}\n",
       "\n",
       "#sk-container-id-8 div.sk-container {\n",
       "  /* jupyter's `normalize.less` sets `[hidden] { display: none; }`\n",
       "     but bootstrap.min.css set `[hidden] { display: none !important; }`\n",
       "     so we also need the `!important` here to be able to override the\n",
       "     default hidden behavior on the sphinx rendered scikit-learn.org.\n",
       "     See: https://github.com/scikit-learn/scikit-learn/issues/21755 */\n",
       "  display: inline-block !important;\n",
       "  position: relative;\n",
       "}\n",
       "\n",
       "#sk-container-id-8 div.sk-text-repr-fallback {\n",
       "  display: none;\n",
       "}\n",
       "\n",
       "div.sk-parallel-item,\n",
       "div.sk-serial,\n",
       "div.sk-item {\n",
       "  /* draw centered vertical line to link estimators */\n",
       "  background-image: linear-gradient(var(--sklearn-color-text-on-default-background), var(--sklearn-color-text-on-default-background));\n",
       "  background-size: 2px 100%;\n",
       "  background-repeat: no-repeat;\n",
       "  background-position: center center;\n",
       "}\n",
       "\n",
       "/* Parallel-specific style estimator block */\n",
       "\n",
       "#sk-container-id-8 div.sk-parallel-item::after {\n",
       "  content: \"\";\n",
       "  width: 100%;\n",
       "  border-bottom: 2px solid var(--sklearn-color-text-on-default-background);\n",
       "  flex-grow: 1;\n",
       "}\n",
       "\n",
       "#sk-container-id-8 div.sk-parallel {\n",
       "  display: flex;\n",
       "  align-items: stretch;\n",
       "  justify-content: center;\n",
       "  background-color: var(--sklearn-color-background);\n",
       "  position: relative;\n",
       "}\n",
       "\n",
       "#sk-container-id-8 div.sk-parallel-item {\n",
       "  display: flex;\n",
       "  flex-direction: column;\n",
       "}\n",
       "\n",
       "#sk-container-id-8 div.sk-parallel-item:first-child::after {\n",
       "  align-self: flex-end;\n",
       "  width: 50%;\n",
       "}\n",
       "\n",
       "#sk-container-id-8 div.sk-parallel-item:last-child::after {\n",
       "  align-self: flex-start;\n",
       "  width: 50%;\n",
       "}\n",
       "\n",
       "#sk-container-id-8 div.sk-parallel-item:only-child::after {\n",
       "  width: 0;\n",
       "}\n",
       "\n",
       "/* Serial-specific style estimator block */\n",
       "\n",
       "#sk-container-id-8 div.sk-serial {\n",
       "  display: flex;\n",
       "  flex-direction: column;\n",
       "  align-items: center;\n",
       "  background-color: var(--sklearn-color-background);\n",
       "  padding-right: 1em;\n",
       "  padding-left: 1em;\n",
       "}\n",
       "\n",
       "\n",
       "/* Toggleable style: style used for estimator/Pipeline/ColumnTransformer box that is\n",
       "clickable and can be expanded/collapsed.\n",
       "- Pipeline and ColumnTransformer use this feature and define the default style\n",
       "- Estimators will overwrite some part of the style using the `sk-estimator` class\n",
       "*/\n",
       "\n",
       "/* Pipeline and ColumnTransformer style (default) */\n",
       "\n",
       "#sk-container-id-8 div.sk-toggleable {\n",
       "  /* Default theme specific background. It is overwritten whether we have a\n",
       "  specific estimator or a Pipeline/ColumnTransformer */\n",
       "  background-color: var(--sklearn-color-background);\n",
       "}\n",
       "\n",
       "/* Toggleable label */\n",
       "#sk-container-id-8 label.sk-toggleable__label {\n",
       "  cursor: pointer;\n",
       "  display: block;\n",
       "  width: 100%;\n",
       "  margin-bottom: 0;\n",
       "  padding: 0.5em;\n",
       "  box-sizing: border-box;\n",
       "  text-align: center;\n",
       "}\n",
       "\n",
       "#sk-container-id-8 label.sk-toggleable__label-arrow:before {\n",
       "  /* Arrow on the left of the label */\n",
       "  content: \"▸\";\n",
       "  float: left;\n",
       "  margin-right: 0.25em;\n",
       "  color: var(--sklearn-color-icon);\n",
       "}\n",
       "\n",
       "#sk-container-id-8 label.sk-toggleable__label-arrow:hover:before {\n",
       "  color: var(--sklearn-color-text);\n",
       "}\n",
       "\n",
       "/* Toggleable content - dropdown */\n",
       "\n",
       "#sk-container-id-8 div.sk-toggleable__content {\n",
       "  max-height: 0;\n",
       "  max-width: 0;\n",
       "  overflow: hidden;\n",
       "  text-align: left;\n",
       "  /* unfitted */\n",
       "  background-color: var(--sklearn-color-unfitted-level-0);\n",
       "}\n",
       "\n",
       "#sk-container-id-8 div.sk-toggleable__content.fitted {\n",
       "  /* fitted */\n",
       "  background-color: var(--sklearn-color-fitted-level-0);\n",
       "}\n",
       "\n",
       "#sk-container-id-8 div.sk-toggleable__content pre {\n",
       "  margin: 0.2em;\n",
       "  border-radius: 0.25em;\n",
       "  color: var(--sklearn-color-text);\n",
       "  /* unfitted */\n",
       "  background-color: var(--sklearn-color-unfitted-level-0);\n",
       "}\n",
       "\n",
       "#sk-container-id-8 div.sk-toggleable__content.fitted pre {\n",
       "  /* unfitted */\n",
       "  background-color: var(--sklearn-color-fitted-level-0);\n",
       "}\n",
       "\n",
       "#sk-container-id-8 input.sk-toggleable__control:checked~div.sk-toggleable__content {\n",
       "  /* Expand drop-down */\n",
       "  max-height: 200px;\n",
       "  max-width: 100%;\n",
       "  overflow: auto;\n",
       "}\n",
       "\n",
       "#sk-container-id-8 input.sk-toggleable__control:checked~label.sk-toggleable__label-arrow:before {\n",
       "  content: \"▾\";\n",
       "}\n",
       "\n",
       "/* Pipeline/ColumnTransformer-specific style */\n",
       "\n",
       "#sk-container-id-8 div.sk-label input.sk-toggleable__control:checked~label.sk-toggleable__label {\n",
       "  color: var(--sklearn-color-text);\n",
       "  background-color: var(--sklearn-color-unfitted-level-2);\n",
       "}\n",
       "\n",
       "#sk-container-id-8 div.sk-label.fitted input.sk-toggleable__control:checked~label.sk-toggleable__label {\n",
       "  background-color: var(--sklearn-color-fitted-level-2);\n",
       "}\n",
       "\n",
       "/* Estimator-specific style */\n",
       "\n",
       "/* Colorize estimator box */\n",
       "#sk-container-id-8 div.sk-estimator input.sk-toggleable__control:checked~label.sk-toggleable__label {\n",
       "  /* unfitted */\n",
       "  background-color: var(--sklearn-color-unfitted-level-2);\n",
       "}\n",
       "\n",
       "#sk-container-id-8 div.sk-estimator.fitted input.sk-toggleable__control:checked~label.sk-toggleable__label {\n",
       "  /* fitted */\n",
       "  background-color: var(--sklearn-color-fitted-level-2);\n",
       "}\n",
       "\n",
       "#sk-container-id-8 div.sk-label label.sk-toggleable__label,\n",
       "#sk-container-id-8 div.sk-label label {\n",
       "  /* The background is the default theme color */\n",
       "  color: var(--sklearn-color-text-on-default-background);\n",
       "}\n",
       "\n",
       "/* On hover, darken the color of the background */\n",
       "#sk-container-id-8 div.sk-label:hover label.sk-toggleable__label {\n",
       "  color: var(--sklearn-color-text);\n",
       "  background-color: var(--sklearn-color-unfitted-level-2);\n",
       "}\n",
       "\n",
       "/* Label box, darken color on hover, fitted */\n",
       "#sk-container-id-8 div.sk-label.fitted:hover label.sk-toggleable__label.fitted {\n",
       "  color: var(--sklearn-color-text);\n",
       "  background-color: var(--sklearn-color-fitted-level-2);\n",
       "}\n",
       "\n",
       "/* Estimator label */\n",
       "\n",
       "#sk-container-id-8 div.sk-label label {\n",
       "  font-family: monospace;\n",
       "  font-weight: bold;\n",
       "  display: inline-block;\n",
       "  line-height: 1.2em;\n",
       "}\n",
       "\n",
       "#sk-container-id-8 div.sk-label-container {\n",
       "  text-align: center;\n",
       "}\n",
       "\n",
       "/* Estimator-specific */\n",
       "#sk-container-id-8 div.sk-estimator {\n",
       "  font-family: monospace;\n",
       "  border: 1px dotted var(--sklearn-color-border-box);\n",
       "  border-radius: 0.25em;\n",
       "  box-sizing: border-box;\n",
       "  margin-bottom: 0.5em;\n",
       "  /* unfitted */\n",
       "  background-color: var(--sklearn-color-unfitted-level-0);\n",
       "}\n",
       "\n",
       "#sk-container-id-8 div.sk-estimator.fitted {\n",
       "  /* fitted */\n",
       "  background-color: var(--sklearn-color-fitted-level-0);\n",
       "}\n",
       "\n",
       "/* on hover */\n",
       "#sk-container-id-8 div.sk-estimator:hover {\n",
       "  /* unfitted */\n",
       "  background-color: var(--sklearn-color-unfitted-level-2);\n",
       "}\n",
       "\n",
       "#sk-container-id-8 div.sk-estimator.fitted:hover {\n",
       "  /* fitted */\n",
       "  background-color: var(--sklearn-color-fitted-level-2);\n",
       "}\n",
       "\n",
       "/* Specification for estimator info (e.g. \"i\" and \"?\") */\n",
       "\n",
       "/* Common style for \"i\" and \"?\" */\n",
       "\n",
       ".sk-estimator-doc-link,\n",
       "a:link.sk-estimator-doc-link,\n",
       "a:visited.sk-estimator-doc-link {\n",
       "  float: right;\n",
       "  font-size: smaller;\n",
       "  line-height: 1em;\n",
       "  font-family: monospace;\n",
       "  background-color: var(--sklearn-color-background);\n",
       "  border-radius: 1em;\n",
       "  height: 1em;\n",
       "  width: 1em;\n",
       "  text-decoration: none !important;\n",
       "  margin-left: 1ex;\n",
       "  /* unfitted */\n",
       "  border: var(--sklearn-color-unfitted-level-1) 1pt solid;\n",
       "  color: var(--sklearn-color-unfitted-level-1);\n",
       "}\n",
       "\n",
       ".sk-estimator-doc-link.fitted,\n",
       "a:link.sk-estimator-doc-link.fitted,\n",
       "a:visited.sk-estimator-doc-link.fitted {\n",
       "  /* fitted */\n",
       "  border: var(--sklearn-color-fitted-level-1) 1pt solid;\n",
       "  color: var(--sklearn-color-fitted-level-1);\n",
       "}\n",
       "\n",
       "/* On hover */\n",
       "div.sk-estimator:hover .sk-estimator-doc-link:hover,\n",
       ".sk-estimator-doc-link:hover,\n",
       "div.sk-label-container:hover .sk-estimator-doc-link:hover,\n",
       ".sk-estimator-doc-link:hover {\n",
       "  /* unfitted */\n",
       "  background-color: var(--sklearn-color-unfitted-level-3);\n",
       "  color: var(--sklearn-color-background);\n",
       "  text-decoration: none;\n",
       "}\n",
       "\n",
       "div.sk-estimator.fitted:hover .sk-estimator-doc-link.fitted:hover,\n",
       ".sk-estimator-doc-link.fitted:hover,\n",
       "div.sk-label-container:hover .sk-estimator-doc-link.fitted:hover,\n",
       ".sk-estimator-doc-link.fitted:hover {\n",
       "  /* fitted */\n",
       "  background-color: var(--sklearn-color-fitted-level-3);\n",
       "  color: var(--sklearn-color-background);\n",
       "  text-decoration: none;\n",
       "}\n",
       "\n",
       "/* Span, style for the box shown on hovering the info icon */\n",
       ".sk-estimator-doc-link span {\n",
       "  display: none;\n",
       "  z-index: 9999;\n",
       "  position: relative;\n",
       "  font-weight: normal;\n",
       "  right: .2ex;\n",
       "  padding: .5ex;\n",
       "  margin: .5ex;\n",
       "  width: min-content;\n",
       "  min-width: 20ex;\n",
       "  max-width: 50ex;\n",
       "  color: var(--sklearn-color-text);\n",
       "  box-shadow: 2pt 2pt 4pt #999;\n",
       "  /* unfitted */\n",
       "  background: var(--sklearn-color-unfitted-level-0);\n",
       "  border: .5pt solid var(--sklearn-color-unfitted-level-3);\n",
       "}\n",
       "\n",
       ".sk-estimator-doc-link.fitted span {\n",
       "  /* fitted */\n",
       "  background: var(--sklearn-color-fitted-level-0);\n",
       "  border: var(--sklearn-color-fitted-level-3);\n",
       "}\n",
       "\n",
       ".sk-estimator-doc-link:hover span {\n",
       "  display: block;\n",
       "}\n",
       "\n",
       "/* \"?\"-specific style due to the `<a>` HTML tag */\n",
       "\n",
       "#sk-container-id-8 a.estimator_doc_link {\n",
       "  float: right;\n",
       "  font-size: 1rem;\n",
       "  line-height: 1em;\n",
       "  font-family: monospace;\n",
       "  background-color: var(--sklearn-color-background);\n",
       "  border-radius: 1rem;\n",
       "  height: 1rem;\n",
       "  width: 1rem;\n",
       "  text-decoration: none;\n",
       "  /* unfitted */\n",
       "  color: var(--sklearn-color-unfitted-level-1);\n",
       "  border: var(--sklearn-color-unfitted-level-1) 1pt solid;\n",
       "}\n",
       "\n",
       "#sk-container-id-8 a.estimator_doc_link.fitted {\n",
       "  /* fitted */\n",
       "  border: var(--sklearn-color-fitted-level-1) 1pt solid;\n",
       "  color: var(--sklearn-color-fitted-level-1);\n",
       "}\n",
       "\n",
       "/* On hover */\n",
       "#sk-container-id-8 a.estimator_doc_link:hover {\n",
       "  /* unfitted */\n",
       "  background-color: var(--sklearn-color-unfitted-level-3);\n",
       "  color: var(--sklearn-color-background);\n",
       "  text-decoration: none;\n",
       "}\n",
       "\n",
       "#sk-container-id-8 a.estimator_doc_link.fitted:hover {\n",
       "  /* fitted */\n",
       "  background-color: var(--sklearn-color-fitted-level-3);\n",
       "}\n",
       "</style><div id=\"sk-container-id-8\" class=\"sk-top-container\"><div class=\"sk-text-repr-fallback\"><pre>LGBMClassifier(random_state=42)</pre><b>In a Jupyter environment, please rerun this cell to show the HTML representation or trust the notebook. <br />On GitHub, the HTML representation is unable to render, please try loading this page with nbviewer.org.</b></div><div class=\"sk-container\" hidden><div class=\"sk-item\"><div class=\"sk-estimator fitted sk-toggleable\"><input class=\"sk-toggleable__control sk-hidden--visually\" id=\"sk-estimator-id-8\" type=\"checkbox\" checked><label for=\"sk-estimator-id-8\" class=\"sk-toggleable__label fitted sk-toggleable__label-arrow fitted\">&nbsp;LGBMClassifier<span class=\"sk-estimator-doc-link fitted\">i<span>Fitted</span></span></label><div class=\"sk-toggleable__content fitted\"><pre>LGBMClassifier(random_state=42)</pre></div> </div></div></div></div>"
      ],
      "text/plain": [
       "LGBMClassifier(random_state=42)"
      ]
     },
     "execution_count": 301,
     "metadata": {},
     "output_type": "execute_result"
    }
   ],
   "source": [
    "model = LGBMClassifier(random_state=SEED)\n",
    "model.fit(train_ft,target)"
   ]
  },
  {
   "cell_type": "markdown",
   "metadata": {
    "id": "q-we55wPVkWP"
   },
   "source": [
    "# 테스트 데이터 예측"
   ]
  },
  {
   "cell_type": "code",
   "execution_count": 302,
   "metadata": {
    "colab": {
     "base_uri": "https://localhost:8080/"
    },
    "executionInfo": {
     "elapsed": 649,
     "status": "ok",
     "timestamp": 1730269803782,
     "user": {
      "displayName": "koeyhi",
      "userId": "08049178071858703986"
     },
     "user_tz": -540
    },
    "id": "Umn-CJl7VGqv",
    "outputId": "df6143ac-c67b-454b-c8a0-6509629fdbd6"
   },
   "outputs": [
    {
     "data": {
      "text/plain": [
       "array([0., 0., 0., ..., 0., 0., 0.])"
      ]
     },
     "execution_count": 302,
     "metadata": {},
     "output_type": "execute_result"
    }
   ],
   "source": [
    "pred = model.predict(test_ft)\n",
    "pred"
   ]
  },
  {
   "cell_type": "code",
   "execution_count": 303,
   "metadata": {
    "colab": {
     "base_uri": "https://localhost:8080/"
    },
    "executionInfo": {
     "elapsed": 661,
     "status": "ok",
     "timestamp": 1730270079154,
     "user": {
      "displayName": "koeyhi",
      "userId": "08049178071858703986"
     },
     "user_tz": -540
    },
    "id": "cGKD_ONhIfL_",
    "outputId": "4ab0c760-b63e-452b-c760-cfeaed1278aa"
   },
   "outputs": [],
   "source": [
    "# pred = model.predict_proba(test_ft)[:,1]\n",
    "# pred"
   ]
  },
  {
   "cell_type": "markdown",
   "metadata": {
    "id": "CcnCtcWPVrKn"
   },
   "source": [
    "# 평가를 위한 제출 파일 생성\n",
    "- 예측 결과를 target 컬럼에 넣어 csv 파일로 저장후에 제출한다."
   ]
  },
  {
   "cell_type": "code",
   "execution_count": 304,
   "metadata": {
    "colab": {
     "base_uri": "https://localhost:8080/",
     "height": 423
    },
    "executionInfo": {
     "elapsed": 18,
     "status": "ok",
     "timestamp": 1730269803783,
     "user": {
      "displayName": "koeyhi",
      "userId": "08049178071858703986"
     },
     "user_tz": -540
    },
    "id": "rsysksnYVrC1",
    "outputId": "ef55827a-bc81-4fff-8f3d-cb8563f98b22"
   },
   "outputs": [
    {
     "data": {
      "text/html": [
       "<div>\n",
       "<style scoped>\n",
       "    .dataframe tbody tr th:only-of-type {\n",
       "        vertical-align: middle;\n",
       "    }\n",
       "\n",
       "    .dataframe tbody tr th {\n",
       "        vertical-align: top;\n",
       "    }\n",
       "\n",
       "    .dataframe thead th {\n",
       "        text-align: right;\n",
       "    }\n",
       "</style>\n",
       "<table border=\"1\" class=\"dataframe\">\n",
       "  <thead>\n",
       "    <tr style=\"text-align: right;\">\n",
       "      <th></th>\n",
       "      <th>ID</th>\n",
       "      <th>target</th>\n",
       "    </tr>\n",
       "  </thead>\n",
       "  <tbody>\n",
       "    <tr>\n",
       "      <th>0</th>\n",
       "      <td>test_0</td>\n",
       "      <td>0.5</td>\n",
       "    </tr>\n",
       "    <tr>\n",
       "      <th>1</th>\n",
       "      <td>test_1</td>\n",
       "      <td>0.5</td>\n",
       "    </tr>\n",
       "    <tr>\n",
       "      <th>2</th>\n",
       "      <td>test_2</td>\n",
       "      <td>0.5</td>\n",
       "    </tr>\n",
       "    <tr>\n",
       "      <th>3</th>\n",
       "      <td>test_3</td>\n",
       "      <td>0.5</td>\n",
       "    </tr>\n",
       "    <tr>\n",
       "      <th>4</th>\n",
       "      <td>test_4</td>\n",
       "      <td>0.5</td>\n",
       "    </tr>\n",
       "    <tr>\n",
       "      <th>...</th>\n",
       "      <td>...</td>\n",
       "      <td>...</td>\n",
       "    </tr>\n",
       "    <tr>\n",
       "      <th>12220</th>\n",
       "      <td>test_12220</td>\n",
       "      <td>0.5</td>\n",
       "    </tr>\n",
       "    <tr>\n",
       "      <th>12221</th>\n",
       "      <td>test_12221</td>\n",
       "      <td>0.5</td>\n",
       "    </tr>\n",
       "    <tr>\n",
       "      <th>12222</th>\n",
       "      <td>test_12222</td>\n",
       "      <td>0.5</td>\n",
       "    </tr>\n",
       "    <tr>\n",
       "      <th>12223</th>\n",
       "      <td>test_12223</td>\n",
       "      <td>0.5</td>\n",
       "    </tr>\n",
       "    <tr>\n",
       "      <th>12224</th>\n",
       "      <td>test_12224</td>\n",
       "      <td>0.5</td>\n",
       "    </tr>\n",
       "  </tbody>\n",
       "</table>\n",
       "<p>12225 rows × 2 columns</p>\n",
       "</div>"
      ],
      "text/plain": [
       "               ID  target\n",
       "0          test_0     0.5\n",
       "1          test_1     0.5\n",
       "2          test_2     0.5\n",
       "3          test_3     0.5\n",
       "4          test_4     0.5\n",
       "...           ...     ...\n",
       "12220  test_12220     0.5\n",
       "12221  test_12221     0.5\n",
       "12222  test_12222     0.5\n",
       "12223  test_12223     0.5\n",
       "12224  test_12224     0.5\n",
       "\n",
       "[12225 rows x 2 columns]"
      ]
     },
     "execution_count": 304,
     "metadata": {},
     "output_type": "execute_result"
    }
   ],
   "source": [
    "submit"
   ]
  },
  {
   "cell_type": "code",
   "execution_count": 305,
   "metadata": {
    "colab": {
     "base_uri": "https://localhost:8080/",
     "height": 423
    },
    "executionInfo": {
     "elapsed": 349,
     "status": "ok",
     "timestamp": 1730270088012,
     "user": {
      "displayName": "koeyhi",
      "userId": "08049178071858703986"
     },
     "user_tz": -540
    },
    "id": "LLHqOugmVq_v",
    "outputId": "8f33a188-902f-4bce-c940-1ca59acb8f10"
   },
   "outputs": [
    {
     "data": {
      "text/html": [
       "<div>\n",
       "<style scoped>\n",
       "    .dataframe tbody tr th:only-of-type {\n",
       "        vertical-align: middle;\n",
       "    }\n",
       "\n",
       "    .dataframe tbody tr th {\n",
       "        vertical-align: top;\n",
       "    }\n",
       "\n",
       "    .dataframe thead th {\n",
       "        text-align: right;\n",
       "    }\n",
       "</style>\n",
       "<table border=\"1\" class=\"dataframe\">\n",
       "  <thead>\n",
       "    <tr style=\"text-align: right;\">\n",
       "      <th></th>\n",
       "      <th>ID</th>\n",
       "      <th>target</th>\n",
       "    </tr>\n",
       "  </thead>\n",
       "  <tbody>\n",
       "    <tr>\n",
       "      <th>0</th>\n",
       "      <td>test_0</td>\n",
       "      <td>0.0</td>\n",
       "    </tr>\n",
       "    <tr>\n",
       "      <th>1</th>\n",
       "      <td>test_1</td>\n",
       "      <td>0.0</td>\n",
       "    </tr>\n",
       "    <tr>\n",
       "      <th>2</th>\n",
       "      <td>test_2</td>\n",
       "      <td>0.0</td>\n",
       "    </tr>\n",
       "    <tr>\n",
       "      <th>3</th>\n",
       "      <td>test_3</td>\n",
       "      <td>1.0</td>\n",
       "    </tr>\n",
       "    <tr>\n",
       "      <th>4</th>\n",
       "      <td>test_4</td>\n",
       "      <td>1.0</td>\n",
       "    </tr>\n",
       "    <tr>\n",
       "      <th>...</th>\n",
       "      <td>...</td>\n",
       "      <td>...</td>\n",
       "    </tr>\n",
       "    <tr>\n",
       "      <th>12220</th>\n",
       "      <td>test_12220</td>\n",
       "      <td>1.0</td>\n",
       "    </tr>\n",
       "    <tr>\n",
       "      <th>12221</th>\n",
       "      <td>test_12221</td>\n",
       "      <td>0.0</td>\n",
       "    </tr>\n",
       "    <tr>\n",
       "      <th>12222</th>\n",
       "      <td>test_12222</td>\n",
       "      <td>0.0</td>\n",
       "    </tr>\n",
       "    <tr>\n",
       "      <th>12223</th>\n",
       "      <td>test_12223</td>\n",
       "      <td>0.0</td>\n",
       "    </tr>\n",
       "    <tr>\n",
       "      <th>12224</th>\n",
       "      <td>test_12224</td>\n",
       "      <td>0.0</td>\n",
       "    </tr>\n",
       "  </tbody>\n",
       "</table>\n",
       "<p>12225 rows × 2 columns</p>\n",
       "</div>"
      ],
      "text/plain": [
       "               ID  target\n",
       "0          test_0     0.0\n",
       "1          test_1     0.0\n",
       "2          test_2     0.0\n",
       "3          test_3     1.0\n",
       "4          test_4     1.0\n",
       "...           ...     ...\n",
       "12220  test_12220     1.0\n",
       "12221  test_12221     0.0\n",
       "12222  test_12222     0.0\n",
       "12223  test_12223     0.0\n",
       "12224  test_12224     0.0\n",
       "\n",
       "[12225 rows x 2 columns]"
      ]
     },
     "execution_count": 305,
     "metadata": {},
     "output_type": "execute_result"
    }
   ],
   "source": [
    "submit[\"target\"] = pred\n",
    "submit"
   ]
  },
  {
   "cell_type": "markdown",
   "metadata": {
    "id": "bjw87GeIV-BP"
   },
   "source": [
    "- 예측 결과를 csv 파일로 저장하여 제출"
   ]
  },
  {
   "cell_type": "code",
   "execution_count": 306,
   "metadata": {
    "executionInfo": {
     "elapsed": 16,
     "status": "ok",
     "timestamp": 1730269803783,
     "user": {
      "displayName": "koeyhi",
      "userId": "08049178071858703986"
     },
     "user_tz": -540
    },
    "id": "SsLTeJeoWBc_"
   },
   "outputs": [],
   "source": [
    "submit.to_csv(f\"{DATA_PATH}submit.csv\",index=False)"
   ]
  }
 ],
 "metadata": {
  "colab": {
   "provenance": []
  },
  "kernelspec": {
   "display_name": "Python 3",
   "name": "python3"
  },
  "language_info": {
   "codemirror_mode": {
    "name": "ipython",
    "version": 3
   },
   "file_extension": ".py",
   "mimetype": "text/x-python",
   "name": "python",
   "nbconvert_exporter": "python",
   "pygments_lexer": "ipython3",
   "version": "3.10.8"
  }
 },
 "nbformat": 4,
 "nbformat_minor": 0
}
