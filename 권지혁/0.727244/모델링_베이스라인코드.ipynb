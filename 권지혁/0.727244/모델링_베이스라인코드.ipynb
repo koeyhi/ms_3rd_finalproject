{
 "cells": [
  {
   "cell_type": "code",
   "execution_count": 218,
   "metadata": {},
   "outputs": [
    {
     "name": "stderr",
     "output_type": "stream",
     "text": [
      "'sudo'��(��) ���� �Ǵ� �ܺ� ����, ������ �� �ִ� ���α׷�, �Ǵ�\n",
      "��ġ ������ �ƴմϴ�.\n",
      "'sudo'��(��) ���� �Ǵ� �ܺ� ����, ������ �� �ִ� ���α׷�, �Ǵ�\n",
      "��ġ ������ �ƴմϴ�.\n"
     ]
    }
   ],
   "source": [
    "import matplotlib\n",
    "from matplotlib import font_manager\n",
    "\n",
    "!sudo apt-get install -y fonts-nanum\n",
    "!sudo fc-cache -fv\n",
    "\n",
    "fontpaths = [\"C:/Users/kwon3/AppData/Local/Microsoft/Windows/Fonts/NanumGothicBold.ttf\"]\n",
    "font_files = font_manager.findSystemFonts(fontpaths=fontpaths)\n",
    "\n",
    "for ff in font_files:\n",
    "    font_manager.fontManager.addfont(ff)\n",
    "\n",
    "matplotlib.rc('font', family=\"Malgun Gothic\")\n",
    "matplotlib.rcParams['axes.unicode_minus'] = False"
   ]
  },
  {
   "cell_type": "code",
   "execution_count": 219,
   "metadata": {
    "colab": {
     "base_uri": "https://localhost:8080/"
    },
    "executionInfo": {
     "elapsed": 2373,
     "status": "ok",
     "timestamp": 1730269751697,
     "user": {
      "displayName": "koeyhi",
      "userId": "08049178071858703986"
     },
     "user_tz": -540
    },
    "id": "N44QYORV8wFy",
    "outputId": "c67d746e-c038-46c3-c4a6-12e2bfb4c4c2"
   },
   "outputs": [],
   "source": [
    "# from google.colab import drive\n",
    "# drive.mount('/content/drive')"
   ]
  },
  {
   "cell_type": "markdown",
   "metadata": {
    "id": "ZhUuXRB5BCFE"
   },
   "source": [
    "- 데이터 경로 변수"
   ]
  },
  {
   "cell_type": "code",
   "execution_count": 220,
   "metadata": {
    "colab": {
     "base_uri": "https://localhost:8080/",
     "height": 35
    },
    "executionInfo": {
     "elapsed": 4,
     "status": "ok",
     "timestamp": 1730269751697,
     "user": {
      "displayName": "koeyhi",
      "userId": "08049178071858703986"
     },
     "user_tz": -540
    },
    "id": "NfX2HPof87FT",
    "outputId": "c78f61ea-4061-4239-8d9a-69596aaea196"
   },
   "outputs": [],
   "source": [
    "# DATA_PATH = \"/content/drive/MyDrive/파이널프로젝트/data/\"\n",
    "# DATA_PATH"
   ]
  },
  {
   "cell_type": "code",
   "execution_count": 221,
   "metadata": {},
   "outputs": [
    {
     "data": {
      "text/plain": [
       "'data/'"
      ]
     },
     "execution_count": 221,
     "metadata": {},
     "output_type": "execute_result"
    }
   ],
   "source": [
    "DATA_PATH = \"data/\"\n",
    "DATA_PATH"
   ]
  },
  {
   "cell_type": "markdown",
   "metadata": {
    "id": "q1qAeLjZVWZz"
   },
   "source": [
    "- 시드값"
   ]
  },
  {
   "cell_type": "code",
   "execution_count": 222,
   "metadata": {
    "executionInfo": {
     "elapsed": 3,
     "status": "ok",
     "timestamp": 1730269751697,
     "user": {
      "displayName": "koeyhi",
      "userId": "08049178071858703986"
     },
     "user_tz": -540
    },
    "id": "nVyhJ6uOVVNE"
   },
   "outputs": [],
   "source": [
    "SEED = 42"
   ]
  },
  {
   "cell_type": "markdown",
   "metadata": {
    "id": "sQd7JpzNBHa1"
   },
   "source": [
    "- 데이터 불러오기"
   ]
  },
  {
   "cell_type": "code",
   "execution_count": 223,
   "metadata": {
    "colab": {
     "base_uri": "https://localhost:8080/"
    },
    "executionInfo": {
     "elapsed": 3363,
     "status": "ok",
     "timestamp": 1730269755057,
     "user": {
      "displayName": "koeyhi",
      "userId": "08049178071858703986"
     },
     "user_tz": -540
    },
    "id": "KFGKUIWt89fZ",
    "outputId": "71de9db2-3cde-484d-bf38-d478119d222f"
   },
   "outputs": [
    {
     "data": {
      "text/plain": [
       "((523105, 7), (14940, 2), (441196, 7), (12225, 2))"
      ]
     },
     "execution_count": 223,
     "metadata": {},
     "output_type": "execute_result"
    }
   ],
   "source": [
    "import pandas as pd\n",
    "import numpy as np\n",
    "\n",
    "train_tr = pd.read_csv(f\"{DATA_PATH}store_train_transactions.csv\") # 학습용 구매기록 데이터\n",
    "train_target = pd.read_csv(f\"{DATA_PATH}store_train.csv\") # 학습용 정답 데이터\n",
    "test_tr = pd.read_csv(f\"{DATA_PATH}store_test_transactions.csv\") # 테스트용 구매기록 데이터\n",
    "submit = pd.read_csv(f\"{DATA_PATH}store_submission.csv\") # 제출 양식 데이터\n",
    "\n",
    "train_tr.shape , train_target.shape , test_tr.shape , submit.shape"
   ]
  },
  {
   "cell_type": "markdown",
   "metadata": {
    "id": "XZq4x4CuP2gr"
   },
   "source": [
    "- 공통 피처 파일 불러오기"
   ]
  },
  {
   "cell_type": "code",
   "execution_count": 224,
   "metadata": {
    "colab": {
     "base_uri": "https://localhost:8080/"
    },
    "executionInfo": {
     "elapsed": 1741,
     "status": "ok",
     "timestamp": 1730269756796,
     "user": {
      "displayName": "koeyhi",
      "userId": "08049178071858703986"
     },
     "user_tz": -540
    },
    "id": "T3tcFrkLPv1g",
    "outputId": "31ea41a2-0d8b-4e97-c431-e584aab30619"
   },
   "outputs": [
    {
     "data": {
      "text/plain": [
       "((14940, 799), (12225, 799))"
      ]
     },
     "execution_count": 224,
     "metadata": {},
     "output_type": "execute_result"
    }
   ],
   "source": [
    "train_ft = pd.read_csv(f\"{DATA_PATH}train_common.csv\") # 학습 데이터(피처)\n",
    "test_ft = pd.read_csv(f\"{DATA_PATH}test_common.csv\") # 테스트 데이터(피처)\n",
    "\n",
    "train_ft.shape , test_ft.shape"
   ]
  },
  {
   "cell_type": "code",
   "execution_count": 225,
   "metadata": {},
   "outputs": [
    {
     "data": {
      "text/plain": [
       "((14940, 798), (12225, 798))"
      ]
     },
     "execution_count": 225,
     "metadata": {},
     "output_type": "execute_result"
    }
   ],
   "source": [
    "cols = [\n",
    "    \"방문일수_대비_구매건수\",\n",
    "]\n",
    "\n",
    "train_ft.drop(columns=cols, inplace=True)\n",
    "test_ft.drop(columns=cols, inplace=True)\n",
    "train_ft.shape, test_ft.shape"
   ]
  },
  {
   "cell_type": "code",
   "execution_count": 226,
   "metadata": {},
   "outputs": [],
   "source": [
    "# cols = train_ft.columns[train_ft.columns.str.startswith(\"환불금액_\")]\n",
    "# train_ft.drop(columns=cols, inplace=True)\n",
    "# test_ft.drop(columns=cols, inplace=True)\n",
    "\n",
    "# train_ft.shape, test_ft.shape"
   ]
  },
  {
   "cell_type": "code",
   "execution_count": 227,
   "metadata": {},
   "outputs": [],
   "source": [
    "# train_ft.to_csv(f\"{DATA_PATH}train_common.csv\", index=False)\n",
    "# test_ft.to_csv(f\"{DATA_PATH}test_common.csv\", index=False)"
   ]
  },
  {
   "cell_type": "markdown",
   "metadata": {},
   "source": [
    "- 정답 데이터"
   ]
  },
  {
   "cell_type": "code",
   "execution_count": 228,
   "metadata": {},
   "outputs": [
    {
     "data": {
      "text/plain": [
       "0        1.0\n",
       "1        1.0\n",
       "2        0.0\n",
       "3        0.0\n",
       "4        0.0\n",
       "        ... \n",
       "14935    0.0\n",
       "14936    0.0\n",
       "14937    0.0\n",
       "14938    1.0\n",
       "14939    1.0\n",
       "Name: target, Length: 14940, dtype: float64"
      ]
     },
     "execution_count": 228,
     "metadata": {},
     "output_type": "execute_result"
    }
   ],
   "source": [
    "target = train_target[\"target\"]\n",
    "target"
   ]
  },
  {
   "cell_type": "markdown",
   "metadata": {
    "id": "r43SCHUujW-f"
   },
   "source": [
    "# 결측치 처리"
   ]
  },
  {
   "cell_type": "code",
   "execution_count": 229,
   "metadata": {
    "colab": {
     "base_uri": "https://localhost:8080/",
     "height": 115
    },
    "executionInfo": {
     "elapsed": 18,
     "status": "ok",
     "timestamp": 1730269756796,
     "user": {
      "displayName": "koeyhi",
      "userId": "08049178071858703986"
     },
     "user_tz": -540
    },
    "id": "0qVrhIG3Q6T3",
    "outputId": "14080301-7bdb-4e7f-ced1-4b5b8dc2bd03"
   },
   "outputs": [
    {
     "data": {
      "text/plain": [
       "구매금액표준편차          405\n",
       "구매금액_skew         880\n",
       "구매금액_kurtosis    1340\n",
       "구매금액_변동성          405\n",
       "환불건수             6221\n",
       "총환불금액            6221\n",
       "평균환불금액           6221\n",
       "최소환불금액           6221\n",
       "최대환불금액           6221\n",
       "환불금액표준편차         9222\n",
       "고가제품환불비율         6221\n",
       "중가제품환불비율         6221\n",
       "저가제품환불비율         6221\n",
       "구매금액_대비_환불금액     6221\n",
       "환불건수_대비_구매건수     6221\n",
       "dtype: int64"
      ]
     },
     "execution_count": 229,
     "metadata": {},
     "output_type": "execute_result"
    }
   ],
   "source": [
    "mask = train_ft.isnull().sum() > 0\n",
    "train_ft.isnull().sum()[mask]"
   ]
  },
  {
   "cell_type": "code",
   "execution_count": 230,
   "metadata": {
    "colab": {
     "base_uri": "https://localhost:8080/",
     "height": 115
    },
    "executionInfo": {
     "elapsed": 17,
     "status": "ok",
     "timestamp": 1730269756796,
     "user": {
      "displayName": "koeyhi",
      "userId": "08049178071858703986"
     },
     "user_tz": -540
    },
    "id": "51Fu8zq9Q6Q8",
    "outputId": "c3f9b1c2-3af9-4c3f-b7c7-40f1549f3cfa"
   },
   "outputs": [
    {
     "data": {
      "text/plain": [
       "구매금액표준편차          262\n",
       "구매금액_skew         631\n",
       "구매금액_kurtosis    1006\n",
       "구매금액_변동성          262\n",
       "환불건수             4972\n",
       "총환불금액            4972\n",
       "평균환불금액           4972\n",
       "최소환불금액           4972\n",
       "최대환불금액           4972\n",
       "환불금액표준편차         7347\n",
       "고가제품환불비율         4972\n",
       "중가제품환불비율         4972\n",
       "저가제품환불비율         4972\n",
       "구매금액_대비_환불금액     4972\n",
       "환불건수_대비_구매건수     4972\n",
       "dtype: int64"
      ]
     },
     "execution_count": 230,
     "metadata": {},
     "output_type": "execute_result"
    }
   ],
   "source": [
    "mask = test_ft.isnull().sum() > 0\n",
    "test_ft.isnull().sum()[mask]"
   ]
  },
  {
   "cell_type": "markdown",
   "metadata": {
    "id": "fgPa4QG0RF2d"
   },
   "source": [
    "# 특성 공학(Feature Engineering)"
   ]
  },
  {
   "cell_type": "markdown",
   "metadata": {
    "id": "OXuo6unbRLGm"
   },
   "source": [
    "- ID 변수 제외"
   ]
  },
  {
   "cell_type": "code",
   "execution_count": 231,
   "metadata": {
    "colab": {
     "base_uri": "https://localhost:8080/"
    },
    "executionInfo": {
     "elapsed": 17,
     "status": "ok",
     "timestamp": 1730269756797,
     "user": {
      "displayName": "koeyhi",
      "userId": "08049178071858703986"
     },
     "user_tz": -540
    },
    "id": "xfksFVguRFuZ",
    "outputId": "39f354f5-84bc-4b11-db93-0973c2627455"
   },
   "outputs": [
    {
     "data": {
      "text/plain": [
       "((14940, 797), (12225, 797))"
      ]
     },
     "execution_count": 231,
     "metadata": {},
     "output_type": "execute_result"
    }
   ],
   "source": [
    "train_ft = train_ft.iloc[:,1:]\n",
    "test_ft = test_ft.iloc[:,1:]\n",
    "train_ft.shape, test_ft.shape"
   ]
  },
  {
   "cell_type": "markdown",
   "metadata": {
    "id": "jjuSj8URRa_q"
   },
   "source": [
    "- 추가 피처 만들어 보기"
   ]
  },
  {
   "cell_type": "code",
   "execution_count": 232,
   "metadata": {},
   "outputs": [
    {
     "data": {
      "text/plain": [
       "((14940, 800), (12225, 800))"
      ]
     },
     "execution_count": 232,
     "metadata": {},
     "output_type": "execute_result"
    }
   ],
   "source": [
    "cols = [ col for col in train_ft.columns if col.startswith(\"지점코드_구매횟수_\") ]\n",
    "\n",
    "train_ft[\"지점코드별_구매횟수_std\"] = train_ft[cols].std(axis=1)\n",
    "train_ft[\"지점코드별_구매횟수_skew\"] = train_ft[cols].skew(axis=1)\n",
    "train_ft[\"지점코드별_구매횟수_kurt\"] = train_ft[cols].kurt(axis=1)\n",
    "\n",
    "test_ft[\"지점코드별_구매횟수_std\"] = test_ft[cols].std(axis=1)\n",
    "test_ft[\"지점코드별_구매횟수_skew\"] = test_ft[cols].skew(axis=1)\n",
    "test_ft[\"지점코드별_구매횟수_kurt\"] = test_ft[cols].kurt(axis=1)\n",
    "\n",
    "train_ft.shape, test_ft.shape"
   ]
  },
  {
   "cell_type": "code",
   "execution_count": 233,
   "metadata": {},
   "outputs": [
    {
     "data": {
      "text/plain": [
       "((14940, 803), (12225, 803))"
      ]
     },
     "execution_count": 233,
     "metadata": {},
     "output_type": "execute_result"
    }
   ],
   "source": [
    "cols = [ col for col in train_ft.columns if col.startswith(\"지점코드_구매합계_\") ]\n",
    "\n",
    "train_ft[\"지점코드별_구매합계_std\"] = train_ft[cols].std(axis=1)\n",
    "train_ft[\"지점코드별_구매합계_skew\"] = train_ft[cols].skew(axis=1)\n",
    "train_ft[\"지점코드별_구매합계_kurt\"] = train_ft[cols].kurt(axis=1)\n",
    "\n",
    "test_ft[\"지점코드별_구매합계_std\"] = test_ft[cols].std(axis=1)\n",
    "test_ft[\"지점코드별_구매합계_skew\"] = test_ft[cols].skew(axis=1)\n",
    "test_ft[\"지점코드별_구매합계_kurt\"] = test_ft[cols].kurt(axis=1)\n",
    "\n",
    "train_ft.shape, test_ft.shape"
   ]
  },
  {
   "cell_type": "code",
   "execution_count": 234,
   "metadata": {
    "colab": {
     "base_uri": "https://localhost:8080/"
    },
    "executionInfo": {
     "elapsed": 713,
     "status": "ok",
     "timestamp": 1730269757495,
     "user": {
      "displayName": "koeyhi",
      "userId": "08049178071858703986"
     },
     "user_tz": -540
    },
    "id": "EQaqdQSARFr4",
    "outputId": "3ed4d721-1bb8-4e8c-bfab-60c4c0a204d6"
   },
   "outputs": [
    {
     "data": {
      "text/plain": [
       "((14940, 806), (12225, 806))"
      ]
     },
     "execution_count": 234,
     "metadata": {},
     "output_type": "execute_result"
    }
   ],
   "source": [
    "cols = [ col for col in train_ft.columns if col.startswith(\"중분류_구매횟수_\") ]\n",
    "\n",
    "train_ft[\"중분류별_구매횟수_std\"] = train_ft[cols].std(axis=1)\n",
    "train_ft[\"중분류별_구매횟수_skew\"] = train_ft[cols].skew(axis=1)\n",
    "train_ft[\"중분류별_구매횟수_kurt\"] = train_ft[cols].kurt(axis=1)\n",
    "\n",
    "test_ft[\"중분류별_구매횟수_std\"] = test_ft[cols].std(axis=1)\n",
    "test_ft[\"중분류별_구매횟수_skew\"] = test_ft[cols].skew(axis=1)\n",
    "test_ft[\"중분류별_구매횟수_kurt\"] = test_ft[cols].kurt(axis=1)\n",
    "\n",
    "train_ft.shape, test_ft.shape"
   ]
  },
  {
   "cell_type": "code",
   "execution_count": 235,
   "metadata": {},
   "outputs": [
    {
     "data": {
      "text/plain": [
       "((14940, 809), (12225, 809))"
      ]
     },
     "execution_count": 235,
     "metadata": {},
     "output_type": "execute_result"
    }
   ],
   "source": [
    "cols = [ col for col in train_ft.columns if col.startswith(\"중분류_구매합계_\") ]\n",
    "\n",
    "train_ft[\"중분류별_구매합계_std\"] = train_ft[cols].std(axis=1)\n",
    "train_ft[\"중분류별_구매합계_skew\"] = train_ft[cols].skew(axis=1)\n",
    "train_ft[\"중분류별_구매합계_kurt\"] = train_ft[cols].kurt(axis=1)\n",
    "\n",
    "test_ft[\"중분류별_구매합계_std\"] = test_ft[cols].std(axis=1)\n",
    "test_ft[\"중분류별_구매합계_skew\"] = test_ft[cols].skew(axis=1)\n",
    "test_ft[\"중분류별_구매합계_kurt\"] = test_ft[cols].kurt(axis=1)\n",
    "\n",
    "train_ft.shape, test_ft.shape"
   ]
  },
  {
   "cell_type": "code",
   "execution_count": 236,
   "metadata": {},
   "outputs": [
    {
     "data": {
      "text/plain": [
       "((14940, 812), (12225, 812))"
      ]
     },
     "execution_count": 236,
     "metadata": {},
     "output_type": "execute_result"
    }
   ],
   "source": [
    "cols = [ col for col in train_ft.columns if col.startswith(\"대분류_구매횟수_\") ]\n",
    "\n",
    "train_ft[\"대분류별_구매횟수_std\"] = train_ft[cols].std(axis=1)\n",
    "train_ft[\"대분류별_구매횟수_skew\"] = train_ft[cols].skew(axis=1)\n",
    "train_ft[\"대분류별_구매횟수_kurt\"] = train_ft[cols].kurt(axis=1)\n",
    "\n",
    "test_ft[\"대분류별_구매횟수_std\"] = test_ft[cols].std(axis=1)\n",
    "test_ft[\"대분류별_구매횟수_skew\"] = test_ft[cols].skew(axis=1)\n",
    "test_ft[\"대분류별_구매횟수_kurt\"] = test_ft[cols].kurt(axis=1)\n",
    "\n",
    "train_ft.shape, test_ft.shape"
   ]
  },
  {
   "cell_type": "code",
   "execution_count": 237,
   "metadata": {},
   "outputs": [
    {
     "data": {
      "text/plain": [
       "((14940, 815), (12225, 815))"
      ]
     },
     "execution_count": 237,
     "metadata": {},
     "output_type": "execute_result"
    }
   ],
   "source": [
    "cols = [ col for col in train_ft.columns if col.startswith(\"대분류_구매합계_\") ]\n",
    "\n",
    "train_ft[\"대분류별_구매합계_std\"] = train_ft[cols].std(axis=1)\n",
    "train_ft[\"대분류별_구매합계_skew\"] = train_ft[cols].skew(axis=1)\n",
    "train_ft[\"대분류별_구매합계_kurt\"] = train_ft[cols].kurt(axis=1)\n",
    "\n",
    "test_ft[\"대분류별_구매합계_std\"] = test_ft[cols].std(axis=1)\n",
    "test_ft[\"대분류별_구매합계_skew\"] = test_ft[cols].skew(axis=1)\n",
    "test_ft[\"대분류별_구매합계_kurt\"] = test_ft[cols].kurt(axis=1)\n",
    "\n",
    "train_ft.shape, test_ft.shape"
   ]
  },
  {
   "cell_type": "code",
   "execution_count": 238,
   "metadata": {},
   "outputs": [
    {
     "data": {
      "text/plain": [
       "((14940, 818), (12225, 818))"
      ]
     },
     "execution_count": 238,
     "metadata": {},
     "output_type": "execute_result"
    }
   ],
   "source": [
    "cols = [ col for col in train_ft.columns if col.endswith(\"요일_구매비율\") ]\n",
    "\n",
    "train_ft[\"요일별_구매비율_std\"] = train_ft[cols].std(axis=1)\n",
    "train_ft[\"요일별_구매비율_skew\"] = train_ft[cols].skew(axis=1)\n",
    "train_ft[\"요일별_구매비율_kurt\"] = train_ft[cols].kurt(axis=1)\n",
    "\n",
    "test_ft[\"요일별_구매비율_std\"] = test_ft[cols].std(axis=1)\n",
    "test_ft[\"요일별_구매비율_skew\"] = test_ft[cols].skew(axis=1)\n",
    "test_ft[\"요일별_구매비율_kurt\"] = test_ft[cols].kurt(axis=1)\n",
    "\n",
    "train_ft.shape, test_ft.shape"
   ]
  },
  {
   "cell_type": "code",
   "execution_count": 239,
   "metadata": {},
   "outputs": [
    {
     "data": {
      "text/plain": [
       "((14940, 821), (12225, 821))"
      ]
     },
     "execution_count": 239,
     "metadata": {},
     "output_type": "execute_result"
    }
   ],
   "source": [
    "cols = [ col for col in train_ft.columns if col.endswith(\"월_구매비율\") ]\n",
    "\n",
    "train_ft[\"월별_구매비율_std\"] = train_ft[cols].std(axis=1)\n",
    "train_ft[\"월별_구매비율_skew\"] = train_ft[cols].skew(axis=1)\n",
    "train_ft[\"월별_구매비율_kurt\"] = train_ft[cols].kurt(axis=1)\n",
    "\n",
    "test_ft[\"월별_구매비율_std\"] = test_ft[cols].std(axis=1)\n",
    "test_ft[\"월별_구매비율_skew\"] = test_ft[cols].skew(axis=1)\n",
    "test_ft[\"월별_구매비율_kurt\"] = test_ft[cols].kurt(axis=1)\n",
    "\n",
    "train_ft.shape, test_ft.shape"
   ]
  },
  {
   "cell_type": "code",
   "execution_count": 240,
   "metadata": {},
   "outputs": [
    {
     "data": {
      "text/plain": [
       "((14940, 824), (12225, 824))"
      ]
     },
     "execution_count": 240,
     "metadata": {},
     "output_type": "execute_result"
    }
   ],
   "source": [
    "cols = [\"봄_구매비율\",\"여름_구매비율\",\"가을_구매비율\",\"겨울_구매비율\"]\n",
    "\n",
    "train_ft[\"계절별_구매비율_std\"] = train_ft[cols].std(axis=1)\n",
    "train_ft[\"계절별_구매비율_skew\"] = train_ft[cols].skew(axis=1)\n",
    "train_ft[\"계절별_구매비율_kurt\"] = train_ft[cols].kurt(axis=1)\n",
    "\n",
    "test_ft[\"계절별_구매비율_std\"] = test_ft[cols].std(axis=1)\n",
    "test_ft[\"계절별_구매비율_skew\"] = test_ft[cols].skew(axis=1)\n",
    "test_ft[\"계절별_구매비율_kurt\"] = test_ft[cols].kurt(axis=1)\n",
    "\n",
    "train_ft.shape, test_ft.shape"
   ]
  },
  {
   "cell_type": "code",
   "execution_count": 241,
   "metadata": {},
   "outputs": [
    {
     "data": {
      "text/plain": [
       "((14940, 827), (12225, 827))"
      ]
     },
     "execution_count": 241,
     "metadata": {},
     "output_type": "execute_result"
    }
   ],
   "source": [
    "cols = [ col for col in train_ft.columns if col.endswith(\"분기_구매비율\") ]\n",
    "\n",
    "train_ft[\"분기별_구매비율_std\"] = train_ft[cols].std(axis=1)\n",
    "train_ft[\"분기별_구매비율_skew\"] = train_ft[cols].skew(axis=1)\n",
    "train_ft[\"분기별_구매비율_kurt\"] = train_ft[cols].kurt(axis=1)\n",
    "\n",
    "test_ft[\"분기별_구매비율_std\"] = test_ft[cols].std(axis=1)\n",
    "test_ft[\"분기별_구매비율_skew\"] = test_ft[cols].skew(axis=1)\n",
    "test_ft[\"분기별_구매비율_kurt\"] = test_ft[cols].kurt(axis=1)\n",
    "\n",
    "train_ft.shape, test_ft.shape"
   ]
  },
  {
   "cell_type": "code",
   "execution_count": 242,
   "metadata": {},
   "outputs": [
    {
     "data": {
      "text/plain": [
       "((14940, 828), (12225, 828))"
      ]
     },
     "execution_count": 242,
     "metadata": {},
     "output_type": "execute_result"
    }
   ],
   "source": [
    "cols = [ col for col in train_ft.columns if col.endswith(\"년_구매비율\") ]\n",
    "\n",
    "train_ft[\"년도별_구매비율_std\"] = train_ft[cols].std(axis=1)\n",
    "test_ft[\"년도별_구매비율_std\"] = test_ft[cols].std(axis=1)\n",
    "\n",
    "train_ft.shape, test_ft.shape"
   ]
  },
  {
   "cell_type": "code",
   "execution_count": 243,
   "metadata": {},
   "outputs": [
    {
     "data": {
      "text/plain": [
       "((14940, 831), (12225, 831))"
      ]
     },
     "execution_count": 243,
     "metadata": {},
     "output_type": "execute_result"
    }
   ],
   "source": [
    "cols_지점 = [col for col in train_ft.columns if col.startswith(\"지점코드_구매횟수_\")]\n",
    "cols_중분류 = [col for col in train_ft.columns if col.startswith(\"중분류_구매횟수_\")]\n",
    "cols_대분류 = [col for col in train_ft.columns if col.startswith(\"대분류_구매횟수_\")]\n",
    "\n",
    "train_ft[\"구매집중도_지점\"] = train_ft[cols_지점].max(axis=1) / train_ft[cols_지점].sum(axis=1)\n",
    "train_ft[\"구매집중도_중분류\"] = train_ft[cols_중분류].max(axis=1) / train_ft[cols_중분류].sum(axis=1)\n",
    "train_ft[\"구매집중도_대분류\"] = train_ft[cols_대분류].max(axis=1) / train_ft[cols_대분류].sum(axis=1)\n",
    "\n",
    "test_ft[\"구매집중도_지점\"] = test_ft[cols_지점].max(axis=1) / test_ft[cols_지점].sum(axis=1)\n",
    "test_ft[\"구매집중도_중분류\"] = test_ft[cols_중분류].max(axis=1) / test_ft[cols_중분류].sum(axis=1)\n",
    "test_ft[\"구매집중도_대분류\"] = test_ft[cols_대분류].max(axis=1) / test_ft[cols_대분류].sum(axis=1)\n",
    "\n",
    "train_ft.shape, test_ft.shape"
   ]
  },
  {
   "cell_type": "markdown",
   "metadata": {
    "id": "gXvdNLMtSVlW"
   },
   "source": [
    "## Feature Encoding"
   ]
  },
  {
   "cell_type": "markdown",
   "metadata": {},
   "source": [
    "- 범주형 피처\n",
    "    - 주구매_중분류, 주구매_대분류, 선호브랜드코드, 고객등급"
   ]
  },
  {
   "cell_type": "code",
   "execution_count": 244,
   "metadata": {
    "colab": {
     "base_uri": "https://localhost:8080/"
    },
    "executionInfo": {
     "elapsed": 5372,
     "status": "ok",
     "timestamp": 1730269762864,
     "user": {
      "displayName": "koeyhi",
      "userId": "08049178071858703986"
     },
     "user_tz": -540
    },
    "id": "RICJpfu2SRWd",
    "outputId": "771c1229-c8cd-4c73-c977-c1ca65987549"
   },
   "outputs": [],
   "source": [
    "# %pip install category_encoders"
   ]
  },
  {
   "cell_type": "code",
   "execution_count": 245,
   "metadata": {
    "colab": {
     "base_uri": "https://localhost:8080/"
    },
    "executionInfo": {
     "elapsed": 298,
     "status": "ok",
     "timestamp": 1730269770905,
     "user": {
      "displayName": "koeyhi",
      "userId": "08049178071858703986"
     },
     "user_tz": -540
    },
    "id": "3d6B3II8T25p",
    "outputId": "f5d9eb08-ac39-4dd0-cd4e-8eb35ecf752f"
   },
   "outputs": [
    {
     "data": {
      "text/plain": [
       "((14940, 836), (12225, 836))"
      ]
     },
     "execution_count": 245,
     "metadata": {},
     "output_type": "execute_result"
    }
   ],
   "source": [
    "import category_encoders as ce\n",
    "from sklearn.preprocessing import OneHotEncoder, OrdinalEncoder\n",
    "\n",
    "oh_enc = OneHotEncoder(handle_unknown=\"ignore\")\n",
    "oh_enc_cols = [\"고객등급\"]\n",
    "oh_enc_data = pd.concat([train_ft[oh_enc_cols], test_ft[oh_enc_cols]])\n",
    "oh_enc.fit(oh_enc_data)\n",
    "\n",
    "train_ft[oh_enc.get_feature_names_out()] = oh_enc.transform(train_ft[oh_enc_cols]).toarray()\n",
    "test_ft[oh_enc.get_feature_names_out()] = oh_enc.transform(test_ft[oh_enc_cols]).toarray()\n",
    "\n",
    "train_ft.shape, test_ft.shape"
   ]
  },
  {
   "cell_type": "code",
   "execution_count": 246,
   "metadata": {},
   "outputs": [
    {
     "data": {
      "text/plain": [
       "((14940, 836), (12225, 836))"
      ]
     },
     "execution_count": 246,
     "metadata": {},
     "output_type": "execute_result"
    }
   ],
   "source": [
    "train_ft['선호브랜드코드'] = train_ft['선호브랜드코드'].astype('category')\n",
    "test_ft['선호브랜드코드'] = test_ft['선호브랜드코드'].astype('category')\n",
    "\n",
    "combined_brands = pd.concat([train_ft['선호브랜드코드'], test_ft['선호브랜드코드']])\n",
    "\n",
    "enc = ce.CountEncoder()\n",
    "train_ft[\"선호브랜드코드_cnt\"] = enc.fit_transform(train_ft[['선호브랜드코드']])\n",
    "test_ft[\"선호브랜드코드_cnt\"] = enc.transform(test_ft[['선호브랜드코드']])\n",
    "\n",
    "train_ft.drop(columns=[\"선호브랜드코드\"], inplace=True)\n",
    "test_ft.drop(columns=[\"선호브랜드코드\"], inplace=True)\n",
    "\n",
    "train_ft.shape, test_ft.shape"
   ]
  },
  {
   "cell_type": "markdown",
   "metadata": {
    "id": "lPURwRnPUj-B"
   },
   "source": [
    "- 문자열 피처 삭제"
   ]
  },
  {
   "cell_type": "code",
   "execution_count": 247,
   "metadata": {},
   "outputs": [
    {
     "data": {
      "text/plain": [
       "['고객등급']"
      ]
     },
     "execution_count": 247,
     "metadata": {},
     "output_type": "execute_result"
    }
   ],
   "source": [
    "cols = train_ft.select_dtypes([\"object\", \"datetime\"]).columns.tolist()\n",
    "cols"
   ]
  },
  {
   "cell_type": "code",
   "execution_count": 248,
   "metadata": {
    "colab": {
     "base_uri": "https://localhost:8080/"
    },
    "executionInfo": {
     "elapsed": 338,
     "status": "ok",
     "timestamp": 1730269771556,
     "user": {
      "displayName": "koeyhi",
      "userId": "08049178071858703986"
     },
     "user_tz": -540
    },
    "id": "zZlZoAMZUbGp",
    "outputId": "2dc6b54d-eacb-450d-8fc1-b2b19198435c"
   },
   "outputs": [
    {
     "data": {
      "text/plain": [
       "((14940, 835), (12225, 835))"
      ]
     },
     "execution_count": 248,
     "metadata": {},
     "output_type": "execute_result"
    }
   ],
   "source": [
    "train_ft = train_ft.drop(columns=cols)\n",
    "test_ft = test_ft.drop(columns=cols)\n",
    "train_ft.shape, test_ft.shape"
   ]
  },
  {
   "cell_type": "code",
   "execution_count": 249,
   "metadata": {
    "colab": {
     "base_uri": "https://localhost:8080/"
    },
    "executionInfo": {
     "elapsed": 3,
     "status": "ok",
     "timestamp": 1730269771557,
     "user": {
      "displayName": "koeyhi",
      "userId": "08049178071858703986"
     },
     "user_tz": -540
    },
    "id": "1-y4-kmTUmso",
    "outputId": "7e3d9700-ac05-48e8-81e1-d6b1eb972cea"
   },
   "outputs": [
    {
     "data": {
      "text/plain": [
       "(Index([], dtype='object'), Index([], dtype='object'))"
      ]
     },
     "execution_count": 249,
     "metadata": {},
     "output_type": "execute_result"
    }
   ],
   "source": [
    "train_ft.select_dtypes(\"object\").columns , test_ft.select_dtypes(\"object\").columns"
   ]
  },
  {
   "cell_type": "code",
   "execution_count": 250,
   "metadata": {},
   "outputs": [
    {
     "data": {
      "text/plain": [
       "(Index([], dtype='object'), Index([], dtype='object'))"
      ]
     },
     "execution_count": 250,
     "metadata": {},
     "output_type": "execute_result"
    }
   ],
   "source": [
    "train_ft.select_dtypes(\"datetime\").columns, test_ft.select_dtypes(\"datetime\").columns"
   ]
  },
  {
   "cell_type": "markdown",
   "metadata": {
    "id": "KAQ-3TU5U0Pk"
   },
   "source": [
    "## Feature Scaling"
   ]
  },
  {
   "cell_type": "code",
   "execution_count": 251,
   "metadata": {},
   "outputs": [
    {
     "data": {
      "text/plain": [
       "(0, 0)"
      ]
     },
     "execution_count": 251,
     "metadata": {},
     "output_type": "execute_result"
    }
   ],
   "source": [
    "train_ft.isin([np.inf, -np.inf]).any().sum(), test_ft.isin([np.inf, -np.inf]).any().sum()"
   ]
  },
  {
   "cell_type": "code",
   "execution_count": 252,
   "metadata": {},
   "outputs": [],
   "source": [
    "train_ft = train_ft.fillna(0)\n",
    "test_ft = test_ft.fillna(0)"
   ]
  },
  {
   "cell_type": "code",
   "execution_count": 253,
   "metadata": {},
   "outputs": [
    {
     "data": {
      "text/plain": [
       "(0, 0)"
      ]
     },
     "execution_count": 253,
     "metadata": {},
     "output_type": "execute_result"
    }
   ],
   "source": [
    "train_ft.isna().sum().sum(), test_ft.isna().sum().sum()"
   ]
  },
  {
   "cell_type": "code",
   "execution_count": 254,
   "metadata": {},
   "outputs": [
    {
     "data": {
      "text/html": [
       "<div>\n",
       "<style scoped>\n",
       "    .dataframe tbody tr th:only-of-type {\n",
       "        vertical-align: middle;\n",
       "    }\n",
       "\n",
       "    .dataframe tbody tr th {\n",
       "        vertical-align: top;\n",
       "    }\n",
       "\n",
       "    .dataframe thead th {\n",
       "        text-align: right;\n",
       "    }\n",
       "</style>\n",
       "<table border=\"1\" class=\"dataframe\">\n",
       "  <thead>\n",
       "    <tr style=\"text-align: right;\">\n",
       "      <th></th>\n",
       "      <th>총방문일수</th>\n",
       "      <th>백화점이용기간</th>\n",
       "      <th>구매주기</th>\n",
       "      <th>주말방문일수</th>\n",
       "      <th>일별평균구매건수</th>\n",
       "      <th>구매간격_표준편차</th>\n",
       "      <th>평균구매요일</th>\n",
       "      <th>주구매요일</th>\n",
       "      <th>월요일_구매비율</th>\n",
       "      <th>화요일_구매비율</th>\n",
       "      <th>...</th>\n",
       "      <th>년도별_구매비율_std</th>\n",
       "      <th>구매집중도_지점</th>\n",
       "      <th>구매집중도_중분류</th>\n",
       "      <th>구매집중도_대분류</th>\n",
       "      <th>고객등급_Black</th>\n",
       "      <th>고객등급_Diamond</th>\n",
       "      <th>고객등급_Gold</th>\n",
       "      <th>고객등급_Normal</th>\n",
       "      <th>고객등급_Platinum</th>\n",
       "      <th>선호브랜드코드_cnt</th>\n",
       "    </tr>\n",
       "  </thead>\n",
       "  <tbody>\n",
       "    <tr>\n",
       "      <th>0</th>\n",
       "      <td>-0.441985</td>\n",
       "      <td>-0.031924</td>\n",
       "      <td>0.191603</td>\n",
       "      <td>-0.363618</td>\n",
       "      <td>-0.292817</td>\n",
       "      <td>0.019124</td>\n",
       "      <td>0.040957</td>\n",
       "      <td>-0.469891</td>\n",
       "      <td>-0.340771</td>\n",
       "      <td>-0.866857</td>\n",
       "      <td>...</td>\n",
       "      <td>1.098697</td>\n",
       "      <td>-1.950590</td>\n",
       "      <td>-0.386937</td>\n",
       "      <td>-1.041686</td>\n",
       "      <td>-0.303357</td>\n",
       "      <td>-0.133863</td>\n",
       "      <td>-0.204728</td>\n",
       "      <td>0.433781</td>\n",
       "      <td>-0.128585</td>\n",
       "      <td>-1.002992</td>\n",
       "    </tr>\n",
       "    <tr>\n",
       "      <th>1</th>\n",
       "      <td>0.202927</td>\n",
       "      <td>0.861742</td>\n",
       "      <td>-0.406568</td>\n",
       "      <td>-0.569238</td>\n",
       "      <td>0.470397</td>\n",
       "      <td>-0.545535</td>\n",
       "      <td>-0.799074</td>\n",
       "      <td>0.116688</td>\n",
       "      <td>-0.502484</td>\n",
       "      <td>0.896581</td>\n",
       "      <td>...</td>\n",
       "      <td>0.049208</td>\n",
       "      <td>-0.908632</td>\n",
       "      <td>-0.763771</td>\n",
       "      <td>-0.788616</td>\n",
       "      <td>-0.303357</td>\n",
       "      <td>-0.133863</td>\n",
       "      <td>-0.204728</td>\n",
       "      <td>0.433781</td>\n",
       "      <td>-0.128585</td>\n",
       "      <td>1.056804</td>\n",
       "    </tr>\n",
       "    <tr>\n",
       "      <th>2</th>\n",
       "      <td>2.030180</td>\n",
       "      <td>0.898594</td>\n",
       "      <td>-0.905045</td>\n",
       "      <td>1.486955</td>\n",
       "      <td>0.220618</td>\n",
       "      <td>-0.890269</td>\n",
       "      <td>-0.770108</td>\n",
       "      <td>-1.643049</td>\n",
       "      <td>0.905371</td>\n",
       "      <td>0.387353</td>\n",
       "      <td>...</td>\n",
       "      <td>-1.538254</td>\n",
       "      <td>0.115815</td>\n",
       "      <td>-0.793326</td>\n",
       "      <td>-0.825832</td>\n",
       "      <td>-0.303357</td>\n",
       "      <td>7.470347</td>\n",
       "      <td>-0.204728</td>\n",
       "      <td>-2.305310</td>\n",
       "      <td>-0.128585</td>\n",
       "      <td>-1.000947</td>\n",
       "    </tr>\n",
       "    <tr>\n",
       "      <th>3</th>\n",
       "      <td>3.911175</td>\n",
       "      <td>0.797251</td>\n",
       "      <td>-1.054588</td>\n",
       "      <td>3.131908</td>\n",
       "      <td>0.565798</td>\n",
       "      <td>-0.986871</td>\n",
       "      <td>0.139600</td>\n",
       "      <td>0.703267</td>\n",
       "      <td>-0.311925</td>\n",
       "      <td>-0.102556</td>\n",
       "      <td>...</td>\n",
       "      <td>-1.242595</td>\n",
       "      <td>-0.454032</td>\n",
       "      <td>-0.405270</td>\n",
       "      <td>-0.657977</td>\n",
       "      <td>-0.303357</td>\n",
       "      <td>7.470347</td>\n",
       "      <td>-0.204728</td>\n",
       "      <td>-2.305310</td>\n",
       "      <td>-0.128585</td>\n",
       "      <td>-0.940468</td>\n",
       "    </tr>\n",
       "    <tr>\n",
       "      <th>4</th>\n",
       "      <td>0.364155</td>\n",
       "      <td>0.502433</td>\n",
       "      <td>-0.556111</td>\n",
       "      <td>0.458858</td>\n",
       "      <td>-0.388218</td>\n",
       "      <td>-0.534063</td>\n",
       "      <td>1.088582</td>\n",
       "      <td>0.703267</td>\n",
       "      <td>-0.259915</td>\n",
       "      <td>-0.492795</td>\n",
       "      <td>...</td>\n",
       "      <td>0.498989</td>\n",
       "      <td>0.034092</td>\n",
       "      <td>-0.491613</td>\n",
       "      <td>-0.851883</td>\n",
       "      <td>-0.303357</td>\n",
       "      <td>-0.133863</td>\n",
       "      <td>-0.204728</td>\n",
       "      <td>0.433781</td>\n",
       "      <td>-0.128585</td>\n",
       "      <td>1.056804</td>\n",
       "    </tr>\n",
       "  </tbody>\n",
       "</table>\n",
       "<p>5 rows × 835 columns</p>\n",
       "</div>"
      ],
      "text/plain": [
       "      총방문일수   백화점이용기간      구매주기    주말방문일수  일별평균구매건수  구매간격_표준편차    평균구매요일  \\\n",
       "0 -0.441985 -0.031924  0.191603 -0.363618 -0.292817   0.019124  0.040957   \n",
       "1  0.202927  0.861742 -0.406568 -0.569238  0.470397  -0.545535 -0.799074   \n",
       "2  2.030180  0.898594 -0.905045  1.486955  0.220618  -0.890269 -0.770108   \n",
       "3  3.911175  0.797251 -1.054588  3.131908  0.565798  -0.986871  0.139600   \n",
       "4  0.364155  0.502433 -0.556111  0.458858 -0.388218  -0.534063  1.088582   \n",
       "\n",
       "      주구매요일  월요일_구매비율  화요일_구매비율  ...  년도별_구매비율_std  구매집중도_지점  구매집중도_중분류  \\\n",
       "0 -0.469891 -0.340771 -0.866857  ...      1.098697 -1.950590  -0.386937   \n",
       "1  0.116688 -0.502484  0.896581  ...      0.049208 -0.908632  -0.763771   \n",
       "2 -1.643049  0.905371  0.387353  ...     -1.538254  0.115815  -0.793326   \n",
       "3  0.703267 -0.311925 -0.102556  ...     -1.242595 -0.454032  -0.405270   \n",
       "4  0.703267 -0.259915 -0.492795  ...      0.498989  0.034092  -0.491613   \n",
       "\n",
       "   구매집중도_대분류  고객등급_Black  고객등급_Diamond  고객등급_Gold  고객등급_Normal  고객등급_Platinum  \\\n",
       "0  -1.041686   -0.303357     -0.133863  -0.204728     0.433781      -0.128585   \n",
       "1  -0.788616   -0.303357     -0.133863  -0.204728     0.433781      -0.128585   \n",
       "2  -0.825832   -0.303357      7.470347  -0.204728    -2.305310      -0.128585   \n",
       "3  -0.657977   -0.303357      7.470347  -0.204728    -2.305310      -0.128585   \n",
       "4  -0.851883   -0.303357     -0.133863  -0.204728     0.433781      -0.128585   \n",
       "\n",
       "   선호브랜드코드_cnt  \n",
       "0    -1.002992  \n",
       "1     1.056804  \n",
       "2    -1.000947  \n",
       "3    -0.940468  \n",
       "4     1.056804  \n",
       "\n",
       "[5 rows x 835 columns]"
      ]
     },
     "execution_count": 254,
     "metadata": {},
     "output_type": "execute_result"
    }
   ],
   "source": [
    "from sklearn.preprocessing import StandardScaler, MinMaxScaler, RobustScaler, PowerTransformer, Normalizer\n",
    "scaler = StandardScaler()\n",
    "\n",
    "train_ft[train_ft.columns] = scaler.fit_transform(train_ft)\n",
    "test_ft[test_ft.columns] = scaler.transform(test_ft)\n",
    "train_ft.head()"
   ]
  },
  {
   "cell_type": "markdown",
   "metadata": {},
   "source": [
    "# 차원축소"
   ]
  },
  {
   "cell_type": "markdown",
   "metadata": {},
   "source": [
    "- 학습데이터에서 분산 임계값이 0인 경우 제외"
   ]
  },
  {
   "cell_type": "code",
   "execution_count": 255,
   "metadata": {},
   "outputs": [
    {
     "data": {
      "text/plain": [
       "((14940, 835), (12225, 835))"
      ]
     },
     "execution_count": 255,
     "metadata": {},
     "output_type": "execute_result"
    }
   ],
   "source": [
    "from sklearn.feature_selection import VarianceThreshold\n",
    "\n",
    "vt = VarianceThreshold(threshold=0)\n",
    "vt.fit(train_ft)\n",
    "\n",
    "train_vt = pd.DataFrame(vt.transform(train_ft), columns=train_ft.columns[vt.get_support()])\n",
    "test_vt = test_ft[train_vt.columns]\n",
    "\n",
    "train_vt.shape, test_vt.shape"
   ]
  },
  {
   "cell_type": "markdown",
   "metadata": {},
   "source": [
    "- 특성 간 상관관계 90% 이상인 경우 제거"
   ]
  },
  {
   "cell_type": "code",
   "execution_count": 256,
   "metadata": {},
   "outputs": [],
   "source": [
    "# corr = train_vt.corr().abs()\n",
    "# upper = corr.where(np.triu(np.ones(corr.shape), k=1).astype(bool))\n",
    "# to_drop = [col for col in upper.columns if any(upper[col] >= 0.9)]\n",
    "\n",
    "# train_vt.drop(columns=to_drop, inplace=True)\n",
    "# test_vt.drop(columns=to_drop, inplace=True)\n",
    "# train_vt.shape, test_vt.shape"
   ]
  },
  {
   "cell_type": "code",
   "execution_count": 257,
   "metadata": {},
   "outputs": [],
   "source": [
    "# train_vt.to_csv(f\"{DATA_PATH}train_corr.csv\",index=False)\n",
    "# test_vt.to_csv(f\"{DATA_PATH}test_corr.csv\",index=False)"
   ]
  },
  {
   "cell_type": "markdown",
   "metadata": {},
   "source": [
    "- cv 점수 확인"
   ]
  },
  {
   "cell_type": "code",
   "execution_count": 258,
   "metadata": {},
   "outputs": [
    {
     "data": {
      "text/plain": [
       "0.7207653890671797"
      ]
     },
     "execution_count": 258,
     "metadata": {},
     "output_type": "execute_result"
    }
   ],
   "source": [
    "from sklearn.ensemble import RandomForestClassifier\n",
    "from sklearn.model_selection import StratifiedKFold, cross_val_score\n",
    "from lightgbm import LGBMClassifier\n",
    "\n",
    "cv = StratifiedKFold(n_splits=5, shuffle=True, random_state=SEED)\n",
    "lgbm = LGBMClassifier(random_state=SEED, verbose=0, n_jobs=-1)\n",
    "lgbm.fit(train_vt, target)\n",
    "\n",
    "scores = cross_val_score(lgbm, train_vt, target, cv=cv, scoring=\"f1_macro\", n_jobs=-1)\n",
    "np.mean(scores)"
   ]
  },
  {
   "cell_type": "markdown",
   "metadata": {},
   "source": [
    "- XAI 활용"
   ]
  },
  {
   "cell_type": "code",
   "execution_count": 53,
   "metadata": {},
   "outputs": [
    {
     "data": {
      "image/png": "[encoded data removed]",
      "text/plain": [
       "<Figure size 800x950 with 2 Axes>"
      ]
     },
     "metadata": {},
     "output_type": "display_data"
    }
   ],
   "source": [
    "import shap\n",
    "\n",
    "explainer = shap.Explainer(lgbm)\n",
    "shap_values = explainer(train_vt)\n",
    "shap.summary_plot(shap_values, train_vt)"
   ]
  },
  {
   "cell_type": "markdown",
   "metadata": {},
   "source": [
    "- SelectFromModel"
   ]
  },
  {
   "cell_type": "code",
   "execution_count": 260,
   "metadata": {},
   "outputs": [],
   "source": [
    "from sklearn.feature_selection import SelectFromModel\n",
    "from sklearn.linear_model import LogisticRegression\n",
    "\n",
    "lr = LogisticRegression(max_iter=1000, random_state=SEED)\n",
    "rf = RandomForestClassifier(random_state=SEED)"
   ]
  },
  {
   "cell_type": "code",
   "execution_count": null,
   "metadata": {},
   "outputs": [
    {
     "name": "stdout",
     "output_type": "stream",
     "text": [
      "0.6*mean 0.7198455746544858 292\n",
      "0.7*mean 0.7198455746544858 292\n",
      "0.7999999999999999*mean 0.7198455746544858 292\n",
      "0.8999999999999999*mean 0.7210362962777482 251\n",
      "0.9999999999999999*mean 0.7210362962777482 251\n",
      "1.0999999999999999*mean 0.7210362962777482 251\n",
      "1.1999999999999997*mean 0.7216930015939027 224\n",
      "1.2999999999999998*mean 0.7216930015939027 224\n",
      "1.4*mean 0.71760314753031 186\n"
     ]
    }
   ],
   "source": [
    "# # thresholds = [\n",
    "# #     'mean', 'median',\n",
    "# #     '0.5*mean', '1.5*mean', '2*mean',\n",
    "# #     '0.5*median', '1.5*median', '2*median'\n",
    "# # ]\n",
    "\n",
    "# thresholds = [f\"{i}*mean\" for i in np.arange(0.6, 1.5, 0.1)]\n",
    "\n",
    "# for threshold in thresholds:\n",
    "#     sfm = SelectFromModel(lgbm, threshold=threshold)\n",
    "#     sfm.fit(train_vt, target)\n",
    "#     train_sfm = sfm.transform(train_vt)\n",
    "\n",
    "#     scores = cross_val_score(lgbm, train_sfm, target, cv=cv, scoring=\"f1_macro\", n_jobs=-1)\n",
    "#     print(threshold, np.mean(scores), train_sfm.shape[1])"
   ]
  },
  {
   "cell_type": "code",
   "execution_count": 259,
   "metadata": {},
   "outputs": [
    {
     "data": {
      "text/plain": [
       "(0.7216930015939027, (14940, 224))"
      ]
     },
     "execution_count": 259,
     "metadata": {},
     "output_type": "execute_result"
    }
   ],
   "source": [
    "sfm = SelectFromModel(lgbm, threshold='1.2*mean')\n",
    "\n",
    "train_sfm = sfm.fit_transform(train_vt, target)\n",
    "test_sfm = sfm.transform(test_vt)\n",
    "\n",
    "scores = cross_val_score(lgbm, train_sfm, target, cv=cv, scoring=\"f1_macro\", n_jobs=-1)\n",
    "np.mean(scores), train_sfm.shape"
   ]
  },
  {
   "cell_type": "code",
   "execution_count": 262,
   "metadata": {},
   "outputs": [
    {
     "data": {
      "text/html": [
       "<div>\n",
       "<style scoped>\n",
       "    .dataframe tbody tr th:only-of-type {\n",
       "        vertical-align: middle;\n",
       "    }\n",
       "\n",
       "    .dataframe tbody tr th {\n",
       "        vertical-align: top;\n",
       "    }\n",
       "\n",
       "    .dataframe thead th {\n",
       "        text-align: right;\n",
       "    }\n",
       "</style>\n",
       "<table border=\"1\" class=\"dataframe\">\n",
       "  <thead>\n",
       "    <tr style=\"text-align: right;\">\n",
       "      <th></th>\n",
       "      <th>feature</th>\n",
       "      <th>score</th>\n",
       "    </tr>\n",
       "  </thead>\n",
       "  <tbody>\n",
       "    <tr>\n",
       "      <th>70</th>\n",
       "      <td>주구매_대분류_잡화</td>\n",
       "      <td>53</td>\n",
       "    </tr>\n",
       "    <tr>\n",
       "      <th>9</th>\n",
       "      <td>목요일_구매비율</td>\n",
       "      <td>49</td>\n",
       "    </tr>\n",
       "    <tr>\n",
       "      <th>55</th>\n",
       "      <td>18시이전_구매비율</td>\n",
       "      <td>40</td>\n",
       "    </tr>\n",
       "    <tr>\n",
       "      <th>68</th>\n",
       "      <td>주구매_중분류_영패션</td>\n",
       "      <td>37</td>\n",
       "    </tr>\n",
       "    <tr>\n",
       "      <th>60</th>\n",
       "      <td>평균구매시각</td>\n",
       "      <td>37</td>\n",
       "    </tr>\n",
       "    <tr>\n",
       "      <th>64</th>\n",
       "      <td>주구매_중분류_아동용품</td>\n",
       "      <td>36</td>\n",
       "    </tr>\n",
       "    <tr>\n",
       "      <th>69</th>\n",
       "      <td>주구매_중분류_주방용품</td>\n",
       "      <td>34</td>\n",
       "    </tr>\n",
       "    <tr>\n",
       "      <th>65</th>\n",
       "      <td>주구매_중분류_취미용품</td>\n",
       "      <td>34</td>\n",
       "    </tr>\n",
       "    <tr>\n",
       "      <th>2</th>\n",
       "      <td>일별평균구매건수</td>\n",
       "      <td>32</td>\n",
       "    </tr>\n",
       "    <tr>\n",
       "      <th>189</th>\n",
       "      <td>방문당_평균구매금액</td>\n",
       "      <td>32</td>\n",
       "    </tr>\n",
       "    <tr>\n",
       "      <th>126</th>\n",
       "      <td>중분류_구매합계_신생아</td>\n",
       "      <td>29</td>\n",
       "    </tr>\n",
       "    <tr>\n",
       "      <th>62</th>\n",
       "      <td>저녁_구매비율</td>\n",
       "      <td>29</td>\n",
       "    </tr>\n",
       "    <tr>\n",
       "      <th>42</th>\n",
       "      <td>여름_구매비율</td>\n",
       "      <td>28</td>\n",
       "    </tr>\n",
       "    <tr>\n",
       "      <th>191</th>\n",
       "      <td>환불건수_대비_구매건수</td>\n",
       "      <td>27</td>\n",
       "    </tr>\n",
       "    <tr>\n",
       "      <th>77</th>\n",
       "      <td>최소구매금액</td>\n",
       "      <td>25</td>\n",
       "    </tr>\n",
       "    <tr>\n",
       "      <th>4</th>\n",
       "      <td>평균구매요일</td>\n",
       "      <td>24</td>\n",
       "    </tr>\n",
       "    <tr>\n",
       "      <th>56</th>\n",
       "      <td>18시이후_구매비율</td>\n",
       "      <td>24</td>\n",
       "    </tr>\n",
       "    <tr>\n",
       "      <th>128</th>\n",
       "      <td>중분류_구매합계_아동</td>\n",
       "      <td>23</td>\n",
       "    </tr>\n",
       "    <tr>\n",
       "      <th>109</th>\n",
       "      <td>중분류_구매합계_란제리</td>\n",
       "      <td>23</td>\n",
       "    </tr>\n",
       "    <tr>\n",
       "      <th>75</th>\n",
       "      <td>구매금액_median</td>\n",
       "      <td>22</td>\n",
       "    </tr>\n",
       "    <tr>\n",
       "      <th>210</th>\n",
       "      <td>요일별_구매비율_kurt</td>\n",
       "      <td>21</td>\n",
       "    </tr>\n",
       "    <tr>\n",
       "      <th>209</th>\n",
       "      <td>요일별_구매비율_skew</td>\n",
       "      <td>20</td>\n",
       "    </tr>\n",
       "    <tr>\n",
       "      <th>57</th>\n",
       "      <td>오전_구매비율</td>\n",
       "      <td>20</td>\n",
       "    </tr>\n",
       "    <tr>\n",
       "      <th>10</th>\n",
       "      <td>금요일_구매비율</td>\n",
       "      <td>19</td>\n",
       "    </tr>\n",
       "    <tr>\n",
       "      <th>178</th>\n",
       "      <td>Tuesday_sum</td>\n",
       "      <td>19</td>\n",
       "    </tr>\n",
       "    <tr>\n",
       "      <th>174</th>\n",
       "      <td>Monday_sum</td>\n",
       "      <td>19</td>\n",
       "    </tr>\n",
       "    <tr>\n",
       "      <th>124</th>\n",
       "      <td>중분류_구매합계_스포츠슈즈</td>\n",
       "      <td>18</td>\n",
       "    </tr>\n",
       "    <tr>\n",
       "      <th>137</th>\n",
       "      <td>중분류_구매합계_유아복</td>\n",
       "      <td>18</td>\n",
       "    </tr>\n",
       "    <tr>\n",
       "      <th>83</th>\n",
       "      <td>구매금액_변동성</td>\n",
       "      <td>18</td>\n",
       "    </tr>\n",
       "    <tr>\n",
       "      <th>131</th>\n",
       "      <td>중분류_구매합계_야채</td>\n",
       "      <td>18</td>\n",
       "    </tr>\n",
       "  </tbody>\n",
       "</table>\n",
       "</div>"
      ],
      "text/plain": [
       "            feature  score\n",
       "70       주구매_대분류_잡화     53\n",
       "9          목요일_구매비율     49\n",
       "55       18시이전_구매비율     40\n",
       "68      주구매_중분류_영패션     37\n",
       "60           평균구매시각     37\n",
       "64     주구매_중분류_아동용품     36\n",
       "69     주구매_중분류_주방용품     34\n",
       "65     주구매_중분류_취미용품     34\n",
       "2          일별평균구매건수     32\n",
       "189      방문당_평균구매금액     32\n",
       "126    중분류_구매합계_신생아     29\n",
       "62          저녁_구매비율     29\n",
       "42          여름_구매비율     28\n",
       "191    환불건수_대비_구매건수     27\n",
       "77           최소구매금액     25\n",
       "4            평균구매요일     24\n",
       "56       18시이후_구매비율     24\n",
       "128     중분류_구매합계_아동     23\n",
       "109    중분류_구매합계_란제리     23\n",
       "75      구매금액_median     22\n",
       "210   요일별_구매비율_kurt     21\n",
       "209   요일별_구매비율_skew     20\n",
       "57          오전_구매비율     20\n",
       "10         금요일_구매비율     19\n",
       "178     Tuesday_sum     19\n",
       "174      Monday_sum     19\n",
       "124  중분류_구매합계_스포츠슈즈     18\n",
       "137    중분류_구매합계_유아복     18\n",
       "83         구매금액_변동성     18\n",
       "131     중분류_구매합계_야채     18"
      ]
     },
     "execution_count": 262,
     "metadata": {},
     "output_type": "execute_result"
    }
   ],
   "source": [
    "train_sfm = pd.DataFrame(np.array(train_sfm), columns=train_vt.columns[sfm.get_support()])\n",
    "test_sfm = pd.DataFrame(np.array(test_sfm), columns=test_vt.columns[sfm.get_support()])\n",
    "\n",
    "feature_importance = pd.DataFrame({\n",
    "    'feature': train_sfm.columns,\n",
    "    'score': sfm.estimator_.feature_importances_[sfm.get_support()]\n",
    "}).reset_index(drop=True)\n",
    "\n",
    "feature_importance.sort_values('score', ascending=False).head(30)"
   ]
  },
  {
   "cell_type": "markdown",
   "metadata": {},
   "source": [
    "- SelectKBest"
   ]
  },
  {
   "cell_type": "code",
   "execution_count": null,
   "metadata": {},
   "outputs": [],
   "source": [
    "# from sklearn.feature_selection import SelectKBest"
   ]
  },
  {
   "cell_type": "code",
   "execution_count": null,
   "metadata": {},
   "outputs": [
    {
     "name": "stdout",
     "output_type": "stream",
     "text": [
      "특성수=100, 정확도=0.7139101991648212\n",
      "특성수=150, 정확도=0.710721283439743\n",
      "특성수=200, 정확도=0.7185767519852682\n"
     ]
    }
   ],
   "source": [
    "# for k in range(100, 201, 50):\n",
    "#     skb = SelectKBest(k=k)\n",
    "#     skb.fit(train_vt, target)\n",
    "#     # skb.fit(train_sfm, target)\n",
    "#     train_skb = skb.transform(train_vt)\n",
    "#     # train_skb = skb.transform(train_sfm)\n",
    "\n",
    "#     scores = cross_val_score(lgbm, train_skb, target, cv=cv, scoring=\"f1_macro\", n_jobs=-1)\n",
    "#     print(f\"특성수={k}, 정확도={np.mean(scores)}\")"
   ]
  },
  {
   "cell_type": "code",
   "execution_count": null,
   "metadata": {},
   "outputs": [
    {
     "name": "stdout",
     "output_type": "stream",
     "text": [
      "특성수=560, 정확도=0.7149592541031534\n",
      "특성수=570, 정확도=0.7172042390371959\n",
      "특성수=580, 정확도=0.7179892841486378\n",
      "특성수=590, 정확도=0.7193222122552363\n",
      "특성수=600, 정확도=0.7194101828710548\n",
      "특성수=610, 정확도=0.718796479263751\n",
      "특성수=620, 정확도=0.7187339736016177\n",
      "특성수=630, 정확도=0.7146871591141932\n",
      "특성수=640, 정확도=0.7175108455951731\n"
     ]
    }
   ],
   "source": [
    "# for k in range(560, 650, 10):\n",
    "#     skb = SelectKBest(k=k)\n",
    "#     skb.fit(train_vt, target)\n",
    "#     train_skb = skb.transform(train_vt)\n",
    "\n",
    "#     scores = cross_val_score(lgbm, train_skb, target, cv=cv, scoring=\"f1_macro\", n_jobs=-1)\n",
    "#     print(f\"특성수={k}, 정확도={np.mean(scores)}\")"
   ]
  },
  {
   "cell_type": "code",
   "execution_count": null,
   "metadata": {},
   "outputs": [
    {
     "data": {
      "text/plain": [
       "(0.7194101828710548, (14940, 600))"
      ]
     },
     "execution_count": 69,
     "metadata": {},
     "output_type": "execute_result"
    }
   ],
   "source": [
    "# skb = SelectKBest(k=600)\n",
    "\n",
    "# train_skb = skb.fit_transform(train_vt, target)\n",
    "# test_skb = skb.transform(test_vt)\n",
    "\n",
    "# scores = cross_val_score(lgbm, train_skb, target, cv=cv, scoring=\"f1_macro\", n_jobs=-1)\n",
    "# np.mean(scores), train_skb.shape"
   ]
  },
  {
   "cell_type": "code",
   "execution_count": null,
   "metadata": {},
   "outputs": [
    {
     "data": {
      "text/html": [
       "<div>\n",
       "<style scoped>\n",
       "    .dataframe tbody tr th:only-of-type {\n",
       "        vertical-align: middle;\n",
       "    }\n",
       "\n",
       "    .dataframe tbody tr th {\n",
       "        vertical-align: top;\n",
       "    }\n",
       "\n",
       "    .dataframe thead th {\n",
       "        text-align: right;\n",
       "    }\n",
       "</style>\n",
       "<table border=\"1\" class=\"dataframe\">\n",
       "  <thead>\n",
       "    <tr style=\"text-align: right;\">\n",
       "      <th></th>\n",
       "      <th>feature</th>\n",
       "      <th>score</th>\n",
       "    </tr>\n",
       "  </thead>\n",
       "  <tbody>\n",
       "    <tr>\n",
       "      <th>80</th>\n",
       "      <td>주구매_대분류_잡화</td>\n",
       "      <td>1613.989214</td>\n",
       "    </tr>\n",
       "    <tr>\n",
       "      <th>65</th>\n",
       "      <td>평균구매시각</td>\n",
       "      <td>1420.010188</td>\n",
       "    </tr>\n",
       "    <tr>\n",
       "      <th>61</th>\n",
       "      <td>18시이후_구매비율</td>\n",
       "      <td>1388.950728</td>\n",
       "    </tr>\n",
       "    <tr>\n",
       "      <th>60</th>\n",
       "      <td>18시이전_구매비율</td>\n",
       "      <td>1388.950728</td>\n",
       "    </tr>\n",
       "    <tr>\n",
       "      <th>68</th>\n",
       "      <td>저녁_구매비율</td>\n",
       "      <td>1242.518730</td>\n",
       "    </tr>\n",
       "    <tr>\n",
       "      <th>78</th>\n",
       "      <td>주구매_중분류_주방용품</td>\n",
       "      <td>839.961756</td>\n",
       "    </tr>\n",
       "    <tr>\n",
       "      <th>64</th>\n",
       "      <td>주구매시간대</td>\n",
       "      <td>761.891833</td>\n",
       "    </tr>\n",
       "    <tr>\n",
       "      <th>67</th>\n",
       "      <td>점심_구매비율</td>\n",
       "      <td>597.480912</td>\n",
       "    </tr>\n",
       "    <tr>\n",
       "      <th>72</th>\n",
       "      <td>중분류_nunique</td>\n",
       "      <td>582.293480</td>\n",
       "    </tr>\n",
       "    <tr>\n",
       "      <th>795</th>\n",
       "      <td>지점코드별_구매횟수_std</td>\n",
       "      <td>516.644923</td>\n",
       "    </tr>\n",
       "  </tbody>\n",
       "</table>\n",
       "</div>"
      ],
      "text/plain": [
       "            feature        score\n",
       "80       주구매_대분류_잡화  1613.989214\n",
       "65           평균구매시각  1420.010188\n",
       "61       18시이후_구매비율  1388.950728\n",
       "60       18시이전_구매비율  1388.950728\n",
       "68          저녁_구매비율  1242.518730\n",
       "78     주구매_중분류_주방용품   839.961756\n",
       "64           주구매시간대   761.891833\n",
       "67          점심_구매비율   597.480912\n",
       "72      중분류_nunique   582.293480\n",
       "795  지점코드별_구매횟수_std   516.644923"
      ]
     },
     "execution_count": 70,
     "metadata": {},
     "output_type": "execute_result"
    }
   ],
   "source": [
    "# train_skb = pd.DataFrame(np.array(train_skb), columns=train_vt.columns[skb.get_support()])\n",
    "# test_skb = pd.DataFrame(np.array(test_skb), columns=test_vt.columns[skb.get_support()])\n",
    "\n",
    "# feature_scores = pd.DataFrame(\n",
    "#     {'feature': train_vt.columns,\n",
    "#      'score': skb.scores_}\n",
    "# ).sort_values('score', ascending=False)\n",
    "\n",
    "# feature_scores.head(10)"
   ]
  },
  {
   "cell_type": "markdown",
   "metadata": {},
   "source": [
    "- SelectPercentile"
   ]
  },
  {
   "cell_type": "code",
   "execution_count": null,
   "metadata": {},
   "outputs": [],
   "source": [
    "# from sklearn.feature_selection import SelectPercentile"
   ]
  },
  {
   "cell_type": "code",
   "execution_count": null,
   "metadata": {},
   "outputs": [
    {
     "name": "stdout",
     "output_type": "stream",
     "text": [
      "percentile=5, 성능=0.695238336397538, 특성 수=42\n",
      "percentile=10, 성능=0.7081718422084335, 특성 수=84\n",
      "percentile=15, 성능=0.71055987530003, 특성 수=126\n",
      "percentile=20, 성능=0.7109260483787719, 특성 수=168\n",
      "percentile=25, 성능=0.7134987011428595, 특성 수=210\n",
      "percentile=30, 성능=0.7121464906091488, 특성 수=252\n",
      "percentile=35, 성능=0.7115283322726346, 특성 수=293\n",
      "percentile=40, 성능=0.7121910938726405, 특성 수=335\n",
      "percentile=45, 성능=0.711764975344311, 특성 수=377\n",
      "percentile=50, 성능=0.7119963894370396, 특성 수=419\n",
      "percentile=55, 성능=0.7128695572277747, 특성 수=461\n",
      "percentile=60, 성능=0.7136921054156924, 특성 수=503\n",
      "percentile=65, 성능=0.7162833043974564, 특성 수=545\n",
      "percentile=70, 성능=0.7134343460667832, 특성 수=586\n",
      "percentile=75, 성능=0.7177518075087415, 특성 수=628\n",
      "percentile=80, 성능=0.7180052210306572, 특성 수=670\n",
      "percentile=85, 성능=0.7178171873398609, 특성 수=712\n",
      "percentile=90, 성능=0.7174379195375704, 특성 수=754\n",
      "percentile=95, 성능=0.7162494538593285, 특성 수=796\n",
      "percentile=100, 성능=0.721045284874297, 특성 수=838\n"
     ]
    }
   ],
   "source": [
    "# percentiles = [i for i in range(5, 101, 5)]\n",
    "\n",
    "# for percentile in percentiles:\n",
    "#     sp = SelectPercentile(percentile=percentile)\n",
    "#     sp.fit(train_vt, target)\n",
    "#     # sp.fit(train_sfm, target)\n",
    "#     train_sp = sp.transform(train_vt)\n",
    "#     # train_sp = sp.transform(train_sfm)\n",
    "\n",
    "#     scores = cross_val_score(model, train_sp, target, cv=cv, scoring=\"f1_macro\", n_jobs=-1)\n",
    "#     print(f\"percentile={percentile}, 성능={np.mean(scores)}, 특성 수={train_sp.shape[1]}\")"
   ]
  },
  {
   "cell_type": "code",
   "execution_count": null,
   "metadata": {},
   "outputs": [
    {
     "name": "stdout",
     "output_type": "stream",
     "text": [
      "percentile=71, 성능=0.717804433287035, 특성 수=566\n",
      "percentile=72, 성능=0.7190473811517606, 특성 수=574\n",
      "percentile=73, 성능=0.7173296254562846, 특성 수=582\n",
      "percentile=74, 성능=0.7187095538827307, 특성 수=590\n",
      "percentile=75, 성능=0.7213052832944863, 특성 수=598\n",
      "percentile=76, 성능=0.7192016320697171, 특성 수=606\n",
      "percentile=77, 성능=0.721711473170492, 특성 수=614\n",
      "percentile=78, 성능=0.7183497066449497, 특성 수=622\n",
      "percentile=79, 성능=0.7214594586011386, 특성 수=630\n"
     ]
    }
   ],
   "source": [
    "# percentiles = [i for i in range(71, 80)]\n",
    "\n",
    "# for percentile in percentiles:\n",
    "#     sp = SelectPercentile(percentile=percentile)\n",
    "#     sp.fit(train_vt, target)\n",
    "#     # sp.fit(train_sfm, target)\n",
    "#     train_sp = sp.transform(train_vt)\n",
    "\n",
    "#     scores = cross_val_score(model, train_sp, target, cv=cv, scoring=\"f1_macro\", n_jobs=-1)\n",
    "#     print(f\"percentile={percentile}, 성능={np.mean(scores)}, 특성 수={train_sp.shape[1]}\")"
   ]
  },
  {
   "cell_type": "code",
   "execution_count": null,
   "metadata": {},
   "outputs": [
    {
     "data": {
      "text/plain": [
       "(0.721045284874297, (14940, 838))"
      ]
     },
     "execution_count": 69,
     "metadata": {},
     "output_type": "execute_result"
    }
   ],
   "source": [
    "# sp = SelectPercentile(percentile=100)\n",
    "\n",
    "# train_sp = sp.fit_transform(train_vt, target)\n",
    "# test_sp = sp.transform(test_vt)\n",
    "\n",
    "# scores = cross_val_score(model, train_sp, target, cv=cv, scoring=\"f1_macro\", n_jobs=-1)\n",
    "# np.mean(scores), train_sp.shape"
   ]
  },
  {
   "cell_type": "markdown",
   "metadata": {},
   "source": [
    "- PCA"
   ]
  },
  {
   "cell_type": "code",
   "execution_count": null,
   "metadata": {},
   "outputs": [],
   "source": [
    "# from sklearn.decomposition import PCA"
   ]
  },
  {
   "cell_type": "code",
   "execution_count": null,
   "metadata": {},
   "outputs": [],
   "source": [
    "# def do_pca(n_components, train, test, target, cv):\n",
    "#     pca = PCA(n_components=n_components)\n",
    "\n",
    "#     train_pca = pca.fit_transform(train)\n",
    "#     test_pca = pca.transform(test)\n",
    "\n",
    "#     scores = cross_val_score(lr, train_pca, target, cv=cv, scoring=\"f1_macro\", n_jobs=-1)\n",
    "#     print(np.mean(scores))\n",
    "#     return pca, train_pca, test_pca"
   ]
  },
  {
   "cell_type": "code",
   "execution_count": null,
   "metadata": {},
   "outputs": [
    {
     "name": "stdout",
     "output_type": "stream",
     "text": [
      "0.7200554294552203\n"
     ]
    },
    {
     "data": {
      "text/plain": [
       "((14940, 443), (12225, 443))"
      ]
     },
     "execution_count": 83,
     "metadata": {},
     "output_type": "execute_result"
    }
   ],
   "source": [
    "# pca, train_pca, test_pca = do_pca(0.95, train_vt, test_vt, target, cv)\n",
    "# train_pca.shape, test_pca.shape"
   ]
  },
  {
   "cell_type": "code",
   "execution_count": null,
   "metadata": {},
   "outputs": [
    {
     "name": "stdout",
     "output_type": "stream",
     "text": [
      "0.7192666098195113\n"
     ]
    },
    {
     "data": {
      "text/plain": [
       "((14940, 123), (12225, 123))"
      ]
     },
     "execution_count": 79,
     "metadata": {},
     "output_type": "execute_result"
    }
   ],
   "source": [
    "# pca2, train_pca2, test_pca2 = do_pca(0.95, train_sfm, test_sfm, target, cv)\n",
    "# train_pca2.shape, test_pca2.shape"
   ]
  },
  {
   "cell_type": "markdown",
   "metadata": {},
   "source": [
    "- TruncatedSVD"
   ]
  },
  {
   "cell_type": "code",
   "execution_count": 46,
   "metadata": {},
   "outputs": [],
   "source": [
    "from sklearn.decomposition import TruncatedSVD"
   ]
  },
  {
   "cell_type": "code",
   "execution_count": 47,
   "metadata": {},
   "outputs": [],
   "source": [
    "def do_svd(n_components, train, test, target, cv):\n",
    "    svd = TruncatedSVD(n_components=n_components)\n",
    "\n",
    "    train_svd = svd.fit_transform(train)\n",
    "    test_svd = svd.transform(test)\n",
    "\n",
    "    scores = cross_val_score(lr, train_svd, target, cv=cv, scoring=\"f1_macro\", n_jobs=-1)\n",
    "    print(np.mean(scores))\n",
    "    return svd, train_svd, test_svd"
   ]
  },
  {
   "cell_type": "code",
   "execution_count": null,
   "metadata": {},
   "outputs": [
    {
     "name": "stdout",
     "output_type": "stream",
     "text": [
      "0.7198360488112829\n"
     ]
    }
   ],
   "source": [
    "# svd, train_svd, test_svd = do_svd(500, train_vt, test_vt, target, cv)"
   ]
  },
  {
   "cell_type": "code",
   "execution_count": 48,
   "metadata": {},
   "outputs": [
    {
     "name": "stdout",
     "output_type": "stream",
     "text": [
      "0.7216385794844656\n"
     ]
    }
   ],
   "source": [
    "svd2, train_svd2, test_svd2 = do_svd(200, train_sfm, test_sfm, target, cv)"
   ]
  },
  {
   "cell_type": "markdown",
   "metadata": {},
   "source": [
    "- RandomProjection"
   ]
  },
  {
   "cell_type": "code",
   "execution_count": null,
   "metadata": {},
   "outputs": [],
   "source": [
    "# from sklearn.random_projection import GaussianRandomProjection\n",
    "# from sklearn.random_projection import SparseRandomProjection"
   ]
  },
  {
   "cell_type": "code",
   "execution_count": null,
   "metadata": {},
   "outputs": [
    {
     "data": {
      "text/plain": [
       "(0.7158830401033148, (14940, 600))"
      ]
     },
     "execution_count": 92,
     "metadata": {},
     "output_type": "execute_result"
    }
   ],
   "source": [
    "# grp = GaussianRandomProjection(600, random_state=SEED)\n",
    "\n",
    "# grp_train = grp.fit_transform(train_vt, target)\n",
    "# grp_test = grp.transform(test_vt)\n",
    "\n",
    "# scores = cross_val_score(lr, grp_train, target, cv=cv, scoring=\"f1_macro\", n_jobs=-1)\n",
    "# np.mean(scores), grp_train.shape"
   ]
  },
  {
   "cell_type": "code",
   "execution_count": null,
   "metadata": {},
   "outputs": [
    {
     "data": {
      "text/plain": [
       "(0.7047589226577342, (14940, 400))"
      ]
     },
     "execution_count": 93,
     "metadata": {},
     "output_type": "execute_result"
    }
   ],
   "source": [
    "# srp = SparseRandomProjection(400, random_state=SEED)\n",
    "\n",
    "# srp_train = srp.fit_transform(train_vt, target)\n",
    "# srp_test = srp.transform(test_vt)\n",
    "\n",
    "# scores = cross_val_score(lr, srp_train, target, cv=cv, scoring=\"f1_macro\", n_jobs=-1)\n",
    "# np.mean(scores), srp_train.shape"
   ]
  },
  {
   "cell_type": "markdown",
   "metadata": {},
   "source": [
    "- LDA"
   ]
  },
  {
   "cell_type": "code",
   "execution_count": null,
   "metadata": {},
   "outputs": [],
   "source": [
    "# from sklearn.discriminant_analysis import LinearDiscriminantAnalysis as LDA"
   ]
  },
  {
   "cell_type": "code",
   "execution_count": null,
   "metadata": {},
   "outputs": [],
   "source": [
    "# def do_lda(n_components, train, target, test, cv):\n",
    "#     lda = LDA(n_components=n_components)\n",
    "#     train_lda = lda.fit_transform(train, target)\n",
    "#     test_lda = lda.transform(test)\n",
    "\n",
    "#     scores = cross_val_score(lr, train_lda, target, cv=cv, scoring=\"f1_macro\", n_jobs=-1)\n",
    "#     print(np.mean(scores))\n",
    "#     return lda, train_lda, test_lda"
   ]
  },
  {
   "cell_type": "code",
   "execution_count": null,
   "metadata": {},
   "outputs": [
    {
     "name": "stdout",
     "output_type": "stream",
     "text": [
      "0.7445569138319957\n"
     ]
    },
    {
     "data": {
      "text/plain": [
       "((14940, 1), (12225, 1))"
      ]
     },
     "execution_count": 100,
     "metadata": {},
     "output_type": "execute_result"
    }
   ],
   "source": [
    "# lda, train_lda, test_lda = do_lda(1, train_vt, target, test_vt, cv)\n",
    "# train_lda.shape, test_lda.shape"
   ]
  },
  {
   "cell_type": "code",
   "execution_count": null,
   "metadata": {},
   "outputs": [
    {
     "name": "stdout",
     "output_type": "stream",
     "text": [
      "0.7266853060548828\n"
     ]
    },
    {
     "data": {
      "text/plain": [
       "((14940, 1), (12225, 1))"
      ]
     },
     "execution_count": 102,
     "metadata": {},
     "output_type": "execute_result"
    }
   ],
   "source": [
    "# lda2, train_lda2, test_lda2 = do_lda(1, train_sfm, target, test_sfm, cv)\n",
    "# train_lda2.shape, test_lda2.shape"
   ]
  },
  {
   "cell_type": "markdown",
   "metadata": {},
   "source": [
    "- RFECV"
   ]
  },
  {
   "cell_type": "code",
   "execution_count": 51,
   "metadata": {},
   "outputs": [],
   "source": [
    "from sklearn.feature_selection import RFECV"
   ]
  },
  {
   "cell_type": "code",
   "execution_count": 52,
   "metadata": {},
   "outputs": [
    {
     "data": {
      "text/plain": [
       "(0.7288994131457827, (14940, 285))"
      ]
     },
     "execution_count": 52,
     "metadata": {},
     "output_type": "execute_result"
    }
   ],
   "source": [
    "estimator = LogisticRegression(max_iter=1000, random_state=SEED)\n",
    "rfecv = RFECV(estimator, step=10, cv=cv, scoring=\"f1_macro\", n_jobs=-1)\n",
    "\n",
    "train_rfecv = rfecv.fit_transform(train_vt, target)\n",
    "test_rfecv = rfecv.transform(test_vt)\n",
    "\n",
    "scores = cross_val_score(lr, train_rfecv, target, cv=cv, scoring=\"f1_macro\", n_jobs=-1)\n",
    "np.mean(scores), train_rfecv.shape"
   ]
  },
  {
   "cell_type": "code",
   "execution_count": 264,
   "metadata": {},
   "outputs": [
    {
     "data": {
      "text/html": [
       "<div>\n",
       "<style scoped>\n",
       "    .dataframe tbody tr th:only-of-type {\n",
       "        vertical-align: middle;\n",
       "    }\n",
       "\n",
       "    .dataframe tbody tr th {\n",
       "        vertical-align: top;\n",
       "    }\n",
       "\n",
       "    .dataframe thead th {\n",
       "        text-align: right;\n",
       "    }\n",
       "</style>\n",
       "<table border=\"1\" class=\"dataframe\">\n",
       "  <thead>\n",
       "    <tr style=\"text-align: right;\">\n",
       "      <th></th>\n",
       "      <th>Feature</th>\n",
       "      <th>Importance</th>\n",
       "    </tr>\n",
       "  </thead>\n",
       "  <tbody>\n",
       "    <tr>\n",
       "      <th>20</th>\n",
       "      <td>평균구매시각</td>\n",
       "      <td>0.652372</td>\n",
       "    </tr>\n",
       "    <tr>\n",
       "      <th>24</th>\n",
       "      <td>브랜드코드_nunique</td>\n",
       "      <td>0.474883</td>\n",
       "    </tr>\n",
       "    <tr>\n",
       "      <th>192</th>\n",
       "      <td>중분류_구매합계_스포츠슈즈</td>\n",
       "      <td>0.462535</td>\n",
       "    </tr>\n",
       "    <tr>\n",
       "      <th>32</th>\n",
       "      <td>주구매_대분류_잡화</td>\n",
       "      <td>0.418437</td>\n",
       "    </tr>\n",
       "    <tr>\n",
       "      <th>68</th>\n",
       "      <td>중분류_구매횟수_레이디숍A</td>\n",
       "      <td>0.401687</td>\n",
       "    </tr>\n",
       "    <tr>\n",
       "      <th>280</th>\n",
       "      <td>구매집중도_지점</td>\n",
       "      <td>0.365757</td>\n",
       "    </tr>\n",
       "    <tr>\n",
       "      <th>34</th>\n",
       "      <td>평균구매금액</td>\n",
       "      <td>0.357508</td>\n",
       "    </tr>\n",
       "    <tr>\n",
       "      <th>276</th>\n",
       "      <td>월별_구매비율_std</td>\n",
       "      <td>0.336923</td>\n",
       "    </tr>\n",
       "    <tr>\n",
       "      <th>38</th>\n",
       "      <td>최대환불금액</td>\n",
       "      <td>0.329308</td>\n",
       "    </tr>\n",
       "    <tr>\n",
       "      <th>15</th>\n",
       "      <td>구매시간간격_표준편차</td>\n",
       "      <td>0.321178</td>\n",
       "    </tr>\n",
       "    <tr>\n",
       "      <th>0</th>\n",
       "      <td>총방문일수</td>\n",
       "      <td>0.319488</td>\n",
       "    </tr>\n",
       "    <tr>\n",
       "      <th>13</th>\n",
       "      <td>연도별평균구매건수</td>\n",
       "      <td>0.314878</td>\n",
       "    </tr>\n",
       "    <tr>\n",
       "      <th>173</th>\n",
       "      <td>중분류_구매합계_레이디숍A</td>\n",
       "      <td>0.299099</td>\n",
       "    </tr>\n",
       "    <tr>\n",
       "      <th>231</th>\n",
       "      <td>대분류_구매횟수_골프_유니캐쥬얼</td>\n",
       "      <td>0.298157</td>\n",
       "    </tr>\n",
       "    <tr>\n",
       "      <th>41</th>\n",
       "      <td>지점코드_구매횟수_A202000</td>\n",
       "      <td>0.293777</td>\n",
       "    </tr>\n",
       "    <tr>\n",
       "      <th>91</th>\n",
       "      <td>중분류_구매횟수_수입종합화장품</td>\n",
       "      <td>0.291925</td>\n",
       "    </tr>\n",
       "    <tr>\n",
       "      <th>30</th>\n",
       "      <td>주구매_중분류_주방용품</td>\n",
       "      <td>0.288568</td>\n",
       "    </tr>\n",
       "    <tr>\n",
       "      <th>96</th>\n",
       "      <td>중분류_구매횟수_아동</td>\n",
       "      <td>0.287043</td>\n",
       "    </tr>\n",
       "    <tr>\n",
       "      <th>257</th>\n",
       "      <td>대분류_구매합계_케주얼_구두_아동</td>\n",
       "      <td>0.283466</td>\n",
       "    </tr>\n",
       "    <tr>\n",
       "      <th>107</th>\n",
       "      <td>중분류_구매횟수_용기보증</td>\n",
       "      <td>0.281316</td>\n",
       "    </tr>\n",
       "    <tr>\n",
       "      <th>14</th>\n",
       "      <td>평균구매시간간격</td>\n",
       "      <td>0.278798</td>\n",
       "    </tr>\n",
       "    <tr>\n",
       "      <th>11</th>\n",
       "      <td>추석후연말전_구매비율</td>\n",
       "      <td>0.265284</td>\n",
       "    </tr>\n",
       "    <tr>\n",
       "      <th>250</th>\n",
       "      <td>대분류_구매합계_명품잡화</td>\n",
       "      <td>0.258764</td>\n",
       "    </tr>\n",
       "    <tr>\n",
       "      <th>202</th>\n",
       "      <td>중분류_구매합계_의류기타</td>\n",
       "      <td>0.256474</td>\n",
       "    </tr>\n",
       "    <tr>\n",
       "      <th>22</th>\n",
       "      <td>점심_구매비율</td>\n",
       "      <td>0.246026</td>\n",
       "    </tr>\n",
       "    <tr>\n",
       "      <th>26</th>\n",
       "      <td>주구매_중분류_아동용품</td>\n",
       "      <td>0.244969</td>\n",
       "    </tr>\n",
       "    <tr>\n",
       "      <th>65</th>\n",
       "      <td>중분류_구매횟수_디자이너니트</td>\n",
       "      <td>0.244401</td>\n",
       "    </tr>\n",
       "    <tr>\n",
       "      <th>203</th>\n",
       "      <td>중분류_구매합계_인스턴트식품</td>\n",
       "      <td>0.243998</td>\n",
       "    </tr>\n",
       "    <tr>\n",
       "      <th>281</th>\n",
       "      <td>구매집중도_중분류</td>\n",
       "      <td>0.242751</td>\n",
       "    </tr>\n",
       "    <tr>\n",
       "      <th>39</th>\n",
       "      <td>환불금액표준편차</td>\n",
       "      <td>0.239315</td>\n",
       "    </tr>\n",
       "  </tbody>\n",
       "</table>\n",
       "</div>"
      ],
      "text/plain": [
       "                Feature  Importance\n",
       "20               평균구매시각    0.652372\n",
       "24        브랜드코드_nunique    0.474883\n",
       "192      중분류_구매합계_스포츠슈즈    0.462535\n",
       "32           주구매_대분류_잡화    0.418437\n",
       "68       중분류_구매횟수_레이디숍A    0.401687\n",
       "280            구매집중도_지점    0.365757\n",
       "34               평균구매금액    0.357508\n",
       "276         월별_구매비율_std    0.336923\n",
       "38               최대환불금액    0.329308\n",
       "15          구매시간간격_표준편차    0.321178\n",
       "0                 총방문일수    0.319488\n",
       "13            연도별평균구매건수    0.314878\n",
       "173      중분류_구매합계_레이디숍A    0.299099\n",
       "231   대분류_구매횟수_골프_유니캐쥬얼    0.298157\n",
       "41    지점코드_구매횟수_A202000    0.293777\n",
       "91     중분류_구매횟수_수입종합화장품    0.291925\n",
       "30         주구매_중분류_주방용품    0.288568\n",
       "96          중분류_구매횟수_아동    0.287043\n",
       "257  대분류_구매합계_케주얼_구두_아동    0.283466\n",
       "107       중분류_구매횟수_용기보증    0.281316\n",
       "14             평균구매시간간격    0.278798\n",
       "11          추석후연말전_구매비율    0.265284\n",
       "250       대분류_구매합계_명품잡화    0.258764\n",
       "202       중분류_구매합계_의류기타    0.256474\n",
       "22              점심_구매비율    0.246026\n",
       "26         주구매_중분류_아동용품    0.244969\n",
       "65      중분류_구매횟수_디자이너니트    0.244401\n",
       "203     중분류_구매합계_인스턴트식품    0.243998\n",
       "281           구매집중도_중분류    0.242751\n",
       "39             환불금액표준편차    0.239315"
      ]
     },
     "execution_count": 264,
     "metadata": {},
     "output_type": "execute_result"
    }
   ],
   "source": [
    "df = pd.DataFrame({\n",
    "    \"Feature\": train_vt.columns[rfecv.support_],\n",
    "    \"Importance\": np.abs(rfecv.estimator_.coef_).flatten()\n",
    "}).sort_values(by=\"Importance\", ascending=False)\n",
    "\n",
    "df.head(30)"
   ]
  },
  {
   "cell_type": "markdown",
   "metadata": {},
   "source": [
    "- 최종적으로 모델에 넣을 학습데이터"
   ]
  },
  {
   "cell_type": "code",
   "execution_count": 265,
   "metadata": {},
   "outputs": [
    {
     "name": "stdout",
     "output_type": "stream",
     "text": [
      "(14940, 835) (12225, 835) (14940, 200) (12225, 200) (14940, 285) (12225, 285)\n"
     ]
    }
   ],
   "source": [
    "print(\n",
    "    train_vt.shape,\n",
    "    test_vt.shape,\n",
    "    train_svd2.shape,\n",
    "    test_svd2.shape,\n",
    "    train_rfecv.shape,\n",
    "    test_rfecv.shape,\n",
    ")"
   ]
  },
  {
   "cell_type": "markdown",
   "metadata": {},
   "source": [
    "# 모델 선택"
   ]
  },
  {
   "cell_type": "markdown",
   "metadata": {},
   "source": [
    "- 하이퍼파라미터 튜닝 클래스화"
   ]
  },
  {
   "cell_type": "code",
   "execution_count": null,
   "metadata": {},
   "outputs": [],
   "source": [
    "import optuna\n",
    "\n",
    "class HyperarameterTuner:\n",
    "    def __init__(self, model, params, train, target):\n",
    "        self.model = model\n",
    "        self.params = params\n",
    "        self.train = train\n",
    "        self.target = target\n",
    "        self.cv = StratifiedKFold(n_splits=5, shuffle=True, random_state=42, stratify=target)\n",
    "        self.study = optuna.create_study(direction=\"maximize\")\n",
    "\n",
    "    def objective(self, trial):\n",
    "        params = {}\n",
    "        \n",
    "        for param_name, param_range in self.params.items():\n",
    "            if param_range[\"type\"] == \"int\":\n",
    "                params[param_name] = trial.suggest_int(\n",
    "                    param_name, param_range[\"min\"], param_range[\"max\"]\n",
    "                )\n",
    "            elif param_range[\"type\"] == \"float\":\n",
    "                params[param_name] = trial.suggest_float(\n",
    "                    param_name, param_range[\"min\"], param_range[\"max\"]\n",
    "                )\n",
    "            elif param_range[\"type\"] == \"categorical\":\n",
    "                params[param_name] = trial.suggest_categorical(\n",
    "                    param_name, param_range[\"values\"]\n",
    "                )\n",
    "\n",
    "        model = self.model(**params)\n",
    "        scores = cross_val_score(\n",
    "            model, self.train, self.target, cv=self.cv, scoring=\"f1_macro\", n_jobs=-1\n",
    "        ).mean()\n",
    "        return scores\n",
    "\n",
    "    def optimize(self, n_trials):\n",
    "        self.study.optimize(self.objective, n_trials=n_trials)\n",
    "\n",
    "    def best_params(self):\n",
    "        return self.study.best_params\n",
    "\n",
    "    def best_score(self):\n",
    "        return self.study.best_value"
   ]
  },
  {
   "cell_type": "markdown",
   "metadata": {},
   "source": [
    "## 원본 데이터에 대한 모델생성"
   ]
  },
  {
   "cell_type": "code",
   "execution_count": 329,
   "metadata": {},
   "outputs": [],
   "source": [
    "from sklearn.metrics import classification_report\n",
    "from sklearn.model_selection import train_test_split\n",
    "\n",
    "X_train, X_valid, y_train, y_valid = train_test_split(train_vt, target, test_size=0.2, random_state=SEED)"
   ]
  },
  {
   "cell_type": "markdown",
   "metadata": {},
   "source": [
    "### 부스팅방식 위주로"
   ]
  },
  {
   "cell_type": "code",
   "execution_count": 314,
   "metadata": {},
   "outputs": [],
   "source": [
    "from sklearn.ensemble import VotingClassifier, StackingClassifier, HistGradientBoostingClassifier, AdaBoostClassifier, RandomForestClassifier\n",
    "from sklearn.svm import SVC\n",
    "from sklearn.neural_network import MLPClassifier\n",
    "from xgboost import XGBClassifier\n",
    "from catboost import CatBoostClassifier"
   ]
  },
  {
   "cell_type": "markdown",
   "metadata": {},
   "source": [
    "- 기본모델에 대한 성능 확인"
   ]
  },
  {
   "cell_type": "code",
   "execution_count": null,
   "metadata": {},
   "outputs": [
    {
     "name": "stdout",
     "output_type": "stream",
     "text": [
      "LGBMClassifier : 0.7207653890671797, 0.005917459323912303\n",
      "RandomForestClassifier : 0.6962286606702446, 0.00990020995922298\n",
      "HistGradientBoostingClassifier : 0.716682729670735, 0.004495215958602127\n",
      "AdaBoostClassifier : 0.7058734482066353, 0.008128088538526755\n",
      "SVC : 0.7161712165799416, 0.006545398941409324\n",
      "MLPClassifier : 0.6760864304030638, 0.003944489167434291\n",
      "XGBClassifier : 0.7056674453957541, 0.0036343997878524907\n",
      "CatBoostClassifier : 0.7224456815183088, 0.00779206130224395\n"
     ]
    }
   ],
   "source": [
    "# models = [\n",
    "#     LGBMClassifier(random_state=SEED, n_jobs=-1),\n",
    "#     RandomForestClassifier(random_state=SEED, n_jobs=-1),\n",
    "#     HistGradientBoostingClassifier(random_state=SEED),\n",
    "#     AdaBoostClassifier(random_state=SEED),\n",
    "#     SVC(random_state=SEED),\n",
    "#     MLPClassifier(random_state=SEED),\n",
    "#     XGBClassifier(random_state=SEED, n_jobs=-1),\n",
    "#     CatBoostClassifier(random_state=SEED, verbose=0),\n",
    "# ]\n",
    "\n",
    "# for model in models:\n",
    "#     scores = cross_val_score(model, train_vt, target, cv=cv, scoring=\"f1_macro\", n_jobs=-1)\n",
    "#     print(f\"{model.__class__.__name__} : {np.mean(scores)}, {np.std(scores)}\")"
   ]
  },
  {
   "cell_type": "markdown",
   "metadata": {},
   "source": [
    "- LGBMClassifier"
   ]
  },
  {
   "cell_type": "code",
   "execution_count": null,
   "metadata": {},
   "outputs": [],
   "source": [
    "# params = {\n",
    "#     'objective': {'type': 'categorical', 'values': ['binary']},\n",
    "#     'num_iterations': {'type': 'int', 'min': 100, 'max': 1000},\n",
    "#     'num_leaves': {'type': 'int', 'min': 31, 'max': 128},\n",
    "#     'force_col_wise': {'type': 'categorical', 'values': [True]},\n",
    "#     'max_depth': {'type': 'int', 'min': 3, 'max': 20},\n",
    "#     'learning_rate': {'type': 'float', 'min': 0.01, 'max': 0.1},\n",
    "#     'min_data_in_leaf': {'type': 'int', 'min': 10, 'max': 100},\n",
    "#     'scale_pos_weight': {'type': 'float', 'min': 1.5, 'max': 1.5},\n",
    "#     'random_state': {'type': 'int', 'min': 42, 'max': 42},\n",
    "#     'n_jobs': {'type': 'int', 'min': -1, 'max': -1},\n",
    "# }\n",
    "\n",
    "# lgbm_vt_tuner = HyperarameterTuner(LGBMClassifier, params, train_vt, target)\n",
    "# lgbm_vt_tuner.optimize(50)\n",
    "# lgbm_vt_tuner.best_params(), lgbm_vt_tuner.best_score()"
   ]
  },
  {
   "cell_type": "code",
   "execution_count": null,
   "metadata": {},
   "outputs": [
    {
     "name": "stdout",
     "output_type": "stream",
     "text": [
      "[LightGBM] [Warning] No further splits with positive gain, best gain: -inf\n",
      "[LightGBM] [Warning] No further splits with positive gain, best gain: -inf\n",
      "[LightGBM] [Warning] No further splits with positive gain, best gain: -inf\n",
      "[LightGBM] [Warning] No further splits with positive gain, best gain: -inf\n",
      "[LightGBM] [Warning] No further splits with positive gain, best gain: -inf\n",
      "[LightGBM] [Warning] No further splits with positive gain, best gain: -inf\n",
      "[LightGBM] [Warning] No further splits with positive gain, best gain: -inf\n",
      "[LightGBM] [Warning] No further splits with positive gain, best gain: -inf\n",
      "[LightGBM] [Warning] No further splits with positive gain, best gain: -inf\n",
      "[LightGBM] [Warning] No further splits with positive gain, best gain: -inf\n",
      "[LightGBM] [Warning] No further splits with positive gain, best gain: -inf\n",
      "[LightGBM] [Warning] No further splits with positive gain, best gain: -inf\n",
      "[LightGBM] [Warning] No further splits with positive gain, best gain: -inf\n",
      "[LightGBM] [Warning] No further splits with positive gain, best gain: -inf\n",
      "[LightGBM] [Warning] No further splits with positive gain, best gain: -inf\n",
      "[LightGBM] [Warning] No further splits with positive gain, best gain: -inf\n",
      "[LightGBM] [Warning] No further splits with positive gain, best gain: -inf\n",
      "[LightGBM] [Warning] No further splits with positive gain, best gain: -inf\n",
      "[LightGBM] [Warning] No further splits with positive gain, best gain: -inf\n",
      "[LightGBM] [Warning] No further splits with positive gain, best gain: -inf\n",
      "[LightGBM] [Warning] No further splits with positive gain, best gain: -inf\n",
      "[LightGBM] [Warning] No further splits with positive gain, best gain: -inf\n",
      "[LightGBM] [Warning] No further splits with positive gain, best gain: -inf\n",
      "[LightGBM] [Warning] No further splits with positive gain, best gain: -inf\n",
      "[LightGBM] [Warning] No further splits with positive gain, best gain: -inf\n",
      "[LightGBM] [Warning] No further splits with positive gain, best gain: -inf\n",
      "[LightGBM] [Warning] No further splits with positive gain, best gain: -inf\n",
      "[LightGBM] [Warning] No further splits with positive gain, best gain: -inf\n",
      "[LightGBM] [Warning] No further splits with positive gain, best gain: -inf\n",
      "[LightGBM] [Warning] No further splits with positive gain, best gain: -inf\n",
      "[LightGBM] [Warning] No further splits with positive gain, best gain: -inf\n",
      "[LightGBM] [Warning] No further splits with positive gain, best gain: -inf\n",
      "[LightGBM] [Warning] No further splits with positive gain, best gain: -inf\n",
      "[LightGBM] [Warning] No further splits with positive gain, best gain: -inf\n",
      "[LightGBM] [Warning] No further splits with positive gain, best gain: -inf\n",
      "[LightGBM] [Warning] No further splits with positive gain, best gain: -inf\n",
      "[LightGBM] [Warning] No further splits with positive gain, best gain: -inf\n",
      "[LightGBM] [Warning] No further splits with positive gain, best gain: -inf\n",
      "[LightGBM] [Warning] No further splits with positive gain, best gain: -inf\n",
      "[LightGBM] [Warning] No further splits with positive gain, best gain: -inf\n",
      "[LightGBM] [Warning] No further splits with positive gain, best gain: -inf\n",
      "[LightGBM] [Warning] No further splits with positive gain, best gain: -inf\n",
      "[LightGBM] [Warning] No further splits with positive gain, best gain: -inf\n",
      "[LightGBM] [Warning] No further splits with positive gain, best gain: -inf\n",
      "[LightGBM] [Warning] No further splits with positive gain, best gain: -inf\n",
      "[LightGBM] [Warning] No further splits with positive gain, best gain: -inf\n",
      "[LightGBM] [Warning] No further splits with positive gain, best gain: -inf\n",
      "[LightGBM] [Warning] No further splits with positive gain, best gain: -inf\n",
      "[LightGBM] [Warning] No further splits with positive gain, best gain: -inf\n",
      "[LightGBM] [Warning] No further splits with positive gain, best gain: -inf\n",
      "[LightGBM] [Warning] No further splits with positive gain, best gain: -inf\n",
      "[LightGBM] [Warning] No further splits with positive gain, best gain: -inf\n",
      "[LightGBM] [Warning] No further splits with positive gain, best gain: -inf\n",
      "[LightGBM] [Warning] No further splits with positive gain, best gain: -inf\n",
      "[LightGBM] [Warning] No further splits with positive gain, best gain: -inf\n",
      "[LightGBM] [Warning] No further splits with positive gain, best gain: -inf\n",
      "[LightGBM] [Warning] No further splits with positive gain, best gain: -inf\n",
      "[LightGBM] [Warning] No further splits with positive gain, best gain: -inf\n",
      "[LightGBM] [Warning] No further splits with positive gain, best gain: -inf\n",
      "[LightGBM] [Warning] No further splits with positive gain, best gain: -inf\n",
      "[LightGBM] [Warning] No further splits with positive gain, best gain: -inf\n",
      "[LightGBM] [Warning] No further splits with positive gain, best gain: -inf\n",
      "[LightGBM] [Warning] No further splits with positive gain, best gain: -inf\n",
      "[LightGBM] [Warning] No further splits with positive gain, best gain: -inf\n",
      "[LightGBM] [Warning] No further splits with positive gain, best gain: -inf\n",
      "[LightGBM] [Warning] No further splits with positive gain, best gain: -inf\n",
      "[LightGBM] [Warning] No further splits with positive gain, best gain: -inf\n",
      "[LightGBM] [Warning] No further splits with positive gain, best gain: -inf\n",
      "[LightGBM] [Warning] No further splits with positive gain, best gain: -inf\n",
      "[LightGBM] [Warning] No further splits with positive gain, best gain: -inf\n",
      "[LightGBM] [Warning] No further splits with positive gain, best gain: -inf\n",
      "[LightGBM] [Warning] No further splits with positive gain, best gain: -inf\n",
      "[LightGBM] [Warning] No further splits with positive gain, best gain: -inf\n",
      "[LightGBM] [Warning] No further splits with positive gain, best gain: -inf\n",
      "[LightGBM] [Warning] No further splits with positive gain, best gain: -inf\n",
      "[LightGBM] [Warning] No further splits with positive gain, best gain: -inf\n",
      "[LightGBM] [Warning] No further splits with positive gain, best gain: -inf\n",
      "[LightGBM] [Warning] No further splits with positive gain, best gain: -inf\n",
      "[LightGBM] [Warning] No further splits with positive gain, best gain: -inf\n",
      "[LightGBM] [Warning] No further splits with positive gain, best gain: -inf\n",
      "[LightGBM] [Warning] No further splits with positive gain, best gain: -inf\n",
      "[LightGBM] [Warning] No further splits with positive gain, best gain: -inf\n",
      "[LightGBM] [Warning] No further splits with positive gain, best gain: -inf\n",
      "[LightGBM] [Warning] No further splits with positive gain, best gain: -inf\n",
      "[LightGBM] [Warning] No further splits with positive gain, best gain: -inf\n",
      "[LightGBM] [Warning] No further splits with positive gain, best gain: -inf\n",
      "[LightGBM] [Warning] No further splits with positive gain, best gain: -inf\n",
      "[LightGBM] [Warning] No further splits with positive gain, best gain: -inf\n",
      "[LightGBM] [Warning] No further splits with positive gain, best gain: -inf\n",
      "[LightGBM] [Warning] No further splits with positive gain, best gain: -inf\n",
      "[LightGBM] [Warning] No further splits with positive gain, best gain: -inf\n",
      "[LightGBM] [Warning] No further splits with positive gain, best gain: -inf\n",
      "[LightGBM] [Warning] No further splits with positive gain, best gain: -inf\n",
      "[LightGBM] [Warning] No further splits with positive gain, best gain: -inf\n",
      "[LightGBM] [Warning] No further splits with positive gain, best gain: -inf\n",
      "[LightGBM] [Warning] No further splits with positive gain, best gain: -inf\n",
      "[LightGBM] [Warning] No further splits with positive gain, best gain: -inf\n",
      "[LightGBM] [Warning] No further splits with positive gain, best gain: -inf\n",
      "[LightGBM] [Warning] No further splits with positive gain, best gain: -inf\n",
      "[LightGBM] [Warning] No further splits with positive gain, best gain: -inf\n",
      "[LightGBM] [Warning] No further splits with positive gain, best gain: -inf\n",
      "[LightGBM] [Warning] No further splits with positive gain, best gain: -inf\n",
      "[LightGBM] [Warning] No further splits with positive gain, best gain: -inf\n",
      "[LightGBM] [Warning] No further splits with positive gain, best gain: -inf\n",
      "[LightGBM] [Warning] No further splits with positive gain, best gain: -inf\n",
      "[LightGBM] [Warning] No further splits with positive gain, best gain: -inf\n",
      "[LightGBM] [Warning] No further splits with positive gain, best gain: -inf\n",
      "[LightGBM] [Warning] No further splits with positive gain, best gain: -inf\n",
      "[LightGBM] [Warning] No further splits with positive gain, best gain: -inf\n",
      "[LightGBM] [Warning] No further splits with positive gain, best gain: -inf\n",
      "[LightGBM] [Warning] No further splits with positive gain, best gain: -inf\n",
      "[LightGBM] [Warning] No further splits with positive gain, best gain: -inf\n",
      "[LightGBM] [Warning] No further splits with positive gain, best gain: -inf\n",
      "[LightGBM] [Warning] No further splits with positive gain, best gain: -inf\n",
      "[LightGBM] [Warning] No further splits with positive gain, best gain: -inf\n",
      "              precision    recall  f1-score   support\n",
      "\n",
      "         0.0       0.78      0.77      0.78      1801\n",
      "         1.0       0.66      0.67      0.67      1187\n",
      "\n",
      "    accuracy                           0.73      2988\n",
      "   macro avg       0.72      0.72      0.72      2988\n",
      "weighted avg       0.73      0.73      0.73      2988\n",
      "\n"
     ]
    }
   ],
   "source": [
    "# params = {\n",
    "#     \"num_leaves\": 67,\n",
    "#     \"max_depth\": 18,\n",
    "#     \"learning_rate\": 0.017499520555403675,\n",
    "#     \"n_estimators\": 698,\n",
    "#     \"min_child_samples\": 72,\n",
    "#     \"random_state\": 42,\n",
    "# }\n",
    "\n",
    "params = {\n",
    "    \"objective\": \"binary\",\n",
    "    \"n_estimators\": 587,\n",
    "    \"num_leaves\": 58,\n",
    "    \"force_col_wise\": True,\n",
    "    \"max_depth\": 17,\n",
    "    \"learning_rate\": 0.01815685572436884,\n",
    "    \"min_child_samples\": 64,\n",
    "    \"scale_pos_weight\": 1.5,\n",
    "    \"random_state\": 42,\n",
    "    \"n_jobs\": -1,\n",
    "}\n",
    "\n",
    "lgbm_vt_final = LGBMClassifier(**params) # 0.727 -> 0.7295\n",
    "lgbm_vt_final.fit(X_train, y_train)\n",
    "print(classification_report(y_valid, lgbm_vt_final.predict(X_valid)))"
   ]
  },
  {
   "cell_type": "markdown",
   "metadata": {},
   "source": [
    "- XGBoost"
   ]
  },
  {
   "cell_type": "code",
   "execution_count": null,
   "metadata": {},
   "outputs": [],
   "source": [
    "# params = {\n",
    "#     'n_estimators': {'type': 'int', 'min': 100, 'max': 1000},\n",
    "#     'learning_rate': {'type': 'float', 'min': 0.05, 'max': 0.3},\n",
    "#     'max_depth': {'type': 'int', 'min': 3, 'max': 7},\n",
    "#     'min_child_weight': {'type': 'int', 'min': 1, 'max': 5},\n",
    "#     'subsample': {'type': 'float', 'min': 0.7, 'max': 1.0},\n",
    "#     'colsample_bytree': {'type': 'float', 'min': 0.7, 'max': 1.0},\n",
    "#     'gamma': {'type': 'float', 'min': 0, 'max': 2},\n",
    "#     'lambda': {'type': 'float', 'min': 0.1, 'max': 1.0},\n",
    "#     'alpha': {'type': 'float', 'min': 0.0, 'max': 1.0},\n",
    "#     'scale_pos_weight': {'type': 'float', 'min': 1.5, 'max': 1.5},\n",
    "#     'random_state': {'type': 'int', 'min': 42, 'max': 42},\n",
    "#     'n_jobs': {'type': 'int', 'min': -1, 'max': -1},\n",
    "# }\n",
    "\n",
    "# xgb_vt_tuner = HyperarameterTuner(XGBClassifier, params, train_vt, target)\n",
    "# xgb_vt_tuner.optimize(30)\n",
    "# xgb_vt_tuner.best_params(), xgb_vt_tuner.best_score()"
   ]
  },
  {
   "cell_type": "code",
   "execution_count": null,
   "metadata": {},
   "outputs": [
    {
     "name": "stdout",
     "output_type": "stream",
     "text": [
      "              precision    recall  f1-score   support\n",
      "\n",
      "         0.0       0.77      0.78      0.77      1801\n",
      "         1.0       0.66      0.65      0.66      1187\n",
      "\n",
      "    accuracy                           0.73      2988\n",
      "   macro avg       0.72      0.72      0.72      2988\n",
      "weighted avg       0.73      0.73      0.73      2988\n",
      "\n"
     ]
    }
   ],
   "source": [
    "# params = {\n",
    "#     \"n_estimators\": 476,\n",
    "#     \"learning_rate\": 0.07154502498842394,\n",
    "#     \"max_depth\": 4,\n",
    "#     \"min_child_weight\": 5,\n",
    "#     \"subsample\": 0.8491284560050364,\n",
    "#     \"colsample_bytree\": 0.9566804380686871,\n",
    "#     \"gamma\": 1.2053767434441882,\n",
    "#     \"lambda\": 0.2208380942011833,\n",
    "#     \"alpha\": 0.4329814837758956,\n",
    "#     \"random_state\": 42,\n",
    "#     \"n_jobs\": -1,\n",
    "# }\n",
    "\n",
    "params = {\n",
    "    \"n_estimators\": 660,\n",
    "    \"learning_rate\": 0.05575830628884475,\n",
    "    \"max_depth\": 7,\n",
    "    \"min_child_weight\": 4,\n",
    "    \"subsample\": 0.9968583722252105,\n",
    "    \"colsample_bytree\": 0.8024123816323979,\n",
    "    \"gamma\": 1.0434655973021112,\n",
    "    \"lambda\": 0.12381729989430783,\n",
    "    \"alpha\": 0.2666789943507792,\n",
    "    \"scale_pos_weight\": 1.5,\n",
    "    \"random_state\": 42,\n",
    "    \"n_jobs\": -1,\n",
    "}\n",
    "\n",
    "xgb_vt_final = XGBClassifier(**params,) # 0.725 -> 0.727\n",
    "xgb_vt_final.fit(X_train, y_train)\n",
    "print(classification_report(y_valid, xgb_vt_final.predict(X_valid)))"
   ]
  },
  {
   "cell_type": "markdown",
   "metadata": {},
   "source": [
    "- CatBoost"
   ]
  },
  {
   "cell_type": "code",
   "execution_count": null,
   "metadata": {},
   "outputs": [],
   "source": [
    "# params = {\n",
    "#     'eval_metric': {'type': 'categorical', 'values': ['F1']},\n",
    "#     'iterations': {'type': 'int', 'min': 200, 'max': 800},\n",
    "#     'learning_rate': {'type': 'float', 'min': 0.01, 'max': 0.3},\n",
    "#     'depth': {'type': 'int', 'min': 4, 'max': 10},\n",
    "#     'l2_leaf_reg': {'type': 'float', 'min': 1, 'max': 10},\n",
    "#     'bagging_temperature': {'type': 'float', 'min': 0, 'max': 1},\n",
    "#     'border_count': {'type': 'int', 'min': 32, 'max': 255},\n",
    "#     'grow_policy': {'type': 'categorical', 'values': ['Depthwise', 'Lossguide']},\n",
    "#     'min_data_in_leaf': {'type': 'int', 'min': 1, 'max': 100},\n",
    "#     'scale_pos_weight': {'type': 'float', 'min': 1.5, 'max': 1.5},\n",
    "#     'random_state': {'type': 'int', 'min': 42, 'max': 42},\n",
    "# }\n",
    "\n",
    "# cat_vt_tuner = HyperarameterTuner(CatBoostClassifier, params, train_vt, target)\n",
    "# cat_vt_tuner.optimize(50)\n",
    "# cat_vt_tuner.best_params(), cat_vt_tuner.best_score()"
   ]
  },
  {
   "cell_type": "code",
   "execution_count": null,
   "metadata": {},
   "outputs": [
    {
     "name": "stdout",
     "output_type": "stream",
     "text": [
      "0:\tlearn: 0.6841334\ttotal: 180ms\tremaining: 2m 11s\n",
      "1:\tlearn: 0.6908023\ttotal: 234ms\tremaining: 1m 24s\n",
      "2:\tlearn: 0.6937541\ttotal: 279ms\tremaining: 1m 7s\n",
      "3:\tlearn: 0.6987839\ttotal: 319ms\tremaining: 57.8s\n",
      "4:\tlearn: 0.7038519\ttotal: 359ms\tremaining: 51.9s\n",
      "5:\tlearn: 0.7047544\ttotal: 405ms\tremaining: 48.7s\n",
      "6:\tlearn: 0.7077044\ttotal: 444ms\tremaining: 45.7s\n",
      "7:\tlearn: 0.7062487\ttotal: 493ms\tremaining: 44.4s\n",
      "8:\tlearn: 0.7066413\ttotal: 541ms\tremaining: 43.2s\n",
      "9:\tlearn: 0.7076890\ttotal: 586ms\tremaining: 42.1s\n",
      "10:\tlearn: 0.7088462\ttotal: 629ms\tremaining: 41s\n",
      "11:\tlearn: 0.7078991\ttotal: 671ms\tremaining: 40s\n",
      "12:\tlearn: 0.7092714\ttotal: 716ms\tremaining: 39.4s\n",
      "13:\tlearn: 0.7099163\ttotal: 762ms\tremaining: 38.9s\n",
      "14:\tlearn: 0.7087888\ttotal: 803ms\tremaining: 38.2s\n",
      "15:\tlearn: 0.7091223\ttotal: 855ms\tremaining: 38s\n",
      "16:\tlearn: 0.7108360\ttotal: 904ms\tremaining: 37.8s\n",
      "17:\tlearn: 0.7084343\ttotal: 946ms\tremaining: 37.3s\n",
      "18:\tlearn: 0.7113614\ttotal: 992ms\tremaining: 37s\n",
      "19:\tlearn: 0.7104579\ttotal: 1.03s\tremaining: 36.6s\n",
      "20:\tlearn: 0.7128499\ttotal: 1.08s\tremaining: 36.3s\n",
      "21:\tlearn: 0.7133033\ttotal: 1.12s\tremaining: 36.1s\n",
      "22:\tlearn: 0.7134995\ttotal: 1.17s\tremaining: 35.9s\n",
      "23:\tlearn: 0.7131218\ttotal: 1.24s\tremaining: 36.5s\n",
      "24:\tlearn: 0.7130403\ttotal: 1.3s\tremaining: 36.6s\n",
      "25:\tlearn: 0.7142857\ttotal: 1.35s\tremaining: 36.5s\n",
      "26:\tlearn: 0.7148100\ttotal: 1.4s\tremaining: 36.3s\n",
      "27:\tlearn: 0.7156419\ttotal: 1.44s\tremaining: 36.1s\n",
      "28:\tlearn: 0.7150762\ttotal: 1.49s\tremaining: 35.9s\n",
      "29:\tlearn: 0.7164565\ttotal: 1.53s\tremaining: 35.6s\n",
      "30:\tlearn: 0.7176116\ttotal: 1.58s\tremaining: 35.4s\n",
      "31:\tlearn: 0.7164179\ttotal: 1.62s\tremaining: 35.3s\n",
      "32:\tlearn: 0.7179745\ttotal: 1.67s\tremaining: 35.2s\n",
      "33:\tlearn: 0.7165049\ttotal: 1.71s\tremaining: 35s\n",
      "34:\tlearn: 0.7172508\ttotal: 1.76s\tremaining: 34.9s\n",
      "35:\tlearn: 0.7176466\ttotal: 1.8s\tremaining: 34.7s\n",
      "36:\tlearn: 0.7185087\ttotal: 1.85s\tremaining: 34.5s\n",
      "37:\tlearn: 0.7193707\ttotal: 1.9s\tremaining: 34.4s\n",
      "38:\tlearn: 0.7193707\ttotal: 1.94s\tremaining: 34.3s\n",
      "39:\tlearn: 0.7207498\ttotal: 2s\tremaining: 34.4s\n",
      "40:\tlearn: 0.7210263\ttotal: 2.04s\tremaining: 34.1s\n",
      "41:\tlearn: 0.7211818\ttotal: 2.08s\tremaining: 34s\n",
      "42:\tlearn: 0.7218386\ttotal: 2.12s\tremaining: 33.8s\n",
      "43:\tlearn: 0.7214766\ttotal: 2.16s\tremaining: 33.6s\n",
      "44:\tlearn: 0.7223720\ttotal: 2.21s\tremaining: 33.5s\n",
      "45:\tlearn: 0.7225120\ttotal: 2.25s\tremaining: 33.4s\n",
      "46:\tlearn: 0.7227851\ttotal: 2.29s\tremaining: 33.2s\n",
      "47:\tlearn: 0.7248510\ttotal: 2.34s\tremaining: 33.1s\n",
      "48:\tlearn: 0.7250781\ttotal: 2.39s\tremaining: 33.1s\n",
      "49:\tlearn: 0.7252345\ttotal: 2.44s\tremaining: 33.1s\n",
      "50:\tlearn: 0.7253387\ttotal: 2.49s\tremaining: 33s\n",
      "51:\tlearn: 0.7256325\ttotal: 2.53s\tremaining: 32.9s\n",
      "52:\tlearn: 0.7254430\ttotal: 2.58s\tremaining: 32.9s\n",
      "53:\tlearn: 0.7268352\ttotal: 2.63s\tremaining: 32.8s\n",
      "54:\tlearn: 0.7282254\ttotal: 2.68s\tremaining: 32.8s\n",
      "55:\tlearn: 0.7289418\ttotal: 2.73s\tremaining: 32.7s\n",
      "56:\tlearn: 0.7291950\ttotal: 2.77s\tremaining: 32.6s\n",
      "57:\tlearn: 0.7310834\ttotal: 2.82s\tremaining: 32.5s\n",
      "58:\tlearn: 0.7307692\ttotal: 2.86s\tremaining: 32.4s\n",
      "59:\tlearn: 0.7315972\ttotal: 2.91s\tremaining: 32.4s\n",
      "60:\tlearn: 0.7310726\ttotal: 2.96s\tremaining: 32.4s\n",
      "61:\tlearn: 0.7314503\ttotal: 3.01s\tremaining: 32.3s\n",
      "62:\tlearn: 0.7321742\ttotal: 3.06s\tremaining: 32.3s\n",
      "63:\tlearn: 0.7321742\ttotal: 3.11s\tremaining: 32.3s\n",
      "64:\tlearn: 0.7323529\ttotal: 3.16s\tremaining: 32.3s\n",
      "65:\tlearn: 0.7327209\ttotal: 3.21s\tremaining: 32.2s\n",
      "66:\tlearn: 0.7336132\ttotal: 3.25s\tremaining: 32.1s\n",
      "67:\tlearn: 0.7338021\ttotal: 3.3s\tremaining: 32s\n",
      "68:\tlearn: 0.7340219\ttotal: 3.35s\tremaining: 32s\n",
      "69:\tlearn: 0.7353742\ttotal: 3.41s\tremaining: 32s\n",
      "70:\tlearn: 0.7352298\ttotal: 3.46s\tremaining: 32s\n",
      "71:\tlearn: 0.7367704\ttotal: 3.5s\tremaining: 31.9s\n",
      "72:\tlearn: 0.7368157\ttotal: 3.55s\tremaining: 31.8s\n",
      "73:\tlearn: 0.7369818\ttotal: 3.59s\tremaining: 31.7s\n",
      "74:\tlearn: 0.7372389\ttotal: 3.63s\tremaining: 31.6s\n",
      "75:\tlearn: 0.7377526\ttotal: 3.68s\tremaining: 31.6s\n",
      "76:\tlearn: 0.7371786\ttotal: 3.73s\tremaining: 31.6s\n",
      "77:\tlearn: 0.7376167\ttotal: 3.78s\tremaining: 31.5s\n",
      "78:\tlearn: 0.7369441\ttotal: 3.83s\tremaining: 31.4s\n",
      "79:\tlearn: 0.7376238\ttotal: 3.87s\tremaining: 31.4s\n",
      "80:\tlearn: 0.7374807\ttotal: 3.92s\tremaining: 31.3s\n",
      "81:\tlearn: 0.7388494\ttotal: 3.96s\tremaining: 31.2s\n",
      "82:\tlearn: 0.7385245\ttotal: 4.01s\tremaining: 31.2s\n",
      "83:\tlearn: 0.7395344\ttotal: 4.06s\tremaining: 31.1s\n",
      "84:\tlearn: 0.7410967\ttotal: 4.1s\tremaining: 31s\n",
      "85:\tlearn: 0.7415561\ttotal: 4.15s\tremaining: 31s\n",
      "86:\tlearn: 0.7423346\ttotal: 4.19s\tremaining: 30.9s\n",
      "87:\tlearn: 0.7429288\ttotal: 4.23s\tremaining: 30.8s\n",
      "88:\tlearn: 0.7420107\ttotal: 4.27s\tremaining: 30.7s\n",
      "89:\tlearn: 0.7427936\ttotal: 4.32s\tremaining: 30.6s\n",
      "90:\tlearn: 0.7427895\ttotal: 4.36s\tremaining: 30.5s\n",
      "91:\tlearn: 0.7432486\ttotal: 4.4s\tremaining: 30.4s\n",
      "92:\tlearn: 0.7437323\ttotal: 4.44s\tremaining: 30.3s\n",
      "93:\tlearn: 0.7443795\ttotal: 4.48s\tremaining: 30.2s\n",
      "94:\tlearn: 0.7447282\ttotal: 4.53s\tremaining: 30.2s\n",
      "95:\tlearn: 0.7453750\ttotal: 4.57s\tremaining: 30.1s\n",
      "96:\tlearn: 0.7451894\ttotal: 4.61s\tremaining: 30s\n",
      "97:\tlearn: 0.7459982\ttotal: 4.65s\tremaining: 29.9s\n",
      "98:\tlearn: 0.7457263\ttotal: 4.7s\tremaining: 29.9s\n",
      "99:\tlearn: 0.7466657\ttotal: 4.74s\tremaining: 29.8s\n",
      "100:\tlearn: 0.7469629\ttotal: 4.79s\tremaining: 29.7s\n",
      "101:\tlearn: 0.7471771\ttotal: 4.84s\tremaining: 29.7s\n",
      "102:\tlearn: 0.7476347\ttotal: 4.88s\tremaining: 29.6s\n",
      "103:\tlearn: 0.7472843\ttotal: 4.93s\tremaining: 29.6s\n",
      "104:\tlearn: 0.7476334\ttotal: 4.98s\tremaining: 29.5s\n",
      "105:\tlearn: 0.7481458\ttotal: 5.02s\tremaining: 29.5s\n",
      "106:\tlearn: 0.7482267\ttotal: 5.07s\tremaining: 29.4s\n",
      "107:\tlearn: 0.7486022\ttotal: 5.11s\tremaining: 29.4s\n",
      "108:\tlearn: 0.7490063\ttotal: 5.16s\tremaining: 29.3s\n",
      "109:\tlearn: 0.7496240\ttotal: 5.2s\tremaining: 29.2s\n",
      "110:\tlearn: 0.7498389\ttotal: 5.24s\tremaining: 29.1s\n",
      "111:\tlearn: 0.7496777\ttotal: 5.3s\tremaining: 29.1s\n",
      "112:\tlearn: 0.7494090\ttotal: 5.34s\tremaining: 29.1s\n",
      "113:\tlearn: 0.7503222\ttotal: 5.39s\tremaining: 29s\n",
      "114:\tlearn: 0.7507780\ttotal: 5.43s\tremaining: 29s\n",
      "115:\tlearn: 0.7503759\ttotal: 5.48s\tremaining: 28.9s\n",
      "116:\tlearn: 0.7516903\ttotal: 5.52s\tremaining: 28.8s\n",
      "117:\tlearn: 0.7512883\ttotal: 5.57s\tremaining: 28.8s\n",
      "118:\tlearn: 0.7516903\ttotal: 5.61s\tremaining: 28.7s\n",
      "119:\tlearn: 0.7513686\ttotal: 5.66s\tremaining: 28.7s\n",
      "120:\tlearn: 0.7511542\ttotal: 5.72s\tremaining: 28.7s\n",
      "121:\tlearn: 0.7514770\ttotal: 5.77s\tremaining: 28.7s\n",
      "122:\tlearn: 0.7518000\ttotal: 5.82s\tremaining: 28.6s\n",
      "123:\tlearn: 0.7523100\ttotal: 5.87s\tremaining: 28.6s\n",
      "124:\tlearn: 0.7532756\ttotal: 5.91s\tremaining: 28.5s\n",
      "125:\tlearn: 0.7531695\ttotal: 5.95s\tremaining: 28.4s\n",
      "126:\tlearn: 0.7539211\ttotal: 6s\tremaining: 28.4s\n",
      "127:\tlearn: 0.7543508\ttotal: 6.04s\tremaining: 28.3s\n",
      "128:\tlearn: 0.7545129\ttotal: 6.08s\tremaining: 28.2s\n",
      "129:\tlearn: 0.7551276\ttotal: 6.13s\tremaining: 28.2s\n",
      "130:\tlearn: 0.7549939\ttotal: 6.17s\tremaining: 28.1s\n",
      "131:\tlearn: 0.7561203\ttotal: 6.22s\tremaining: 28.1s\n",
      "132:\tlearn: 0.7559613\ttotal: 6.27s\tremaining: 28s\n",
      "133:\tlearn: 0.7564162\ttotal: 6.32s\tremaining: 28s\n",
      "134:\tlearn: 0.7568709\ttotal: 6.36s\tremaining: 27.9s\n",
      "135:\tlearn: 0.7571127\ttotal: 6.41s\tremaining: 27.9s\n",
      "136:\tlearn: 0.7574003\ttotal: 6.45s\tremaining: 27.8s\n",
      "137:\tlearn: 0.7579376\ttotal: 6.49s\tremaining: 27.7s\n",
      "138:\tlearn: 0.7582583\ttotal: 6.54s\tremaining: 27.7s\n",
      "139:\tlearn: 0.7587365\ttotal: 6.58s\tremaining: 27.7s\n",
      "140:\tlearn: 0.7592440\ttotal: 6.63s\tremaining: 27.6s\n",
      "141:\tlearn: 0.7585788\ttotal: 6.67s\tremaining: 27.5s\n",
      "142:\tlearn: 0.7586626\ttotal: 6.71s\tremaining: 27.5s\n",
      "143:\tlearn: 0.7598413\ttotal: 6.76s\tremaining: 27.4s\n",
      "144:\tlearn: 0.7607779\ttotal: 6.8s\tremaining: 27.4s\n",
      "145:\tlearn: 0.7610133\ttotal: 6.86s\tremaining: 27.3s\n",
      "146:\tlearn: 0.7620817\ttotal: 6.96s\tremaining: 27.5s\n",
      "147:\tlearn: 0.7618231\ttotal: 7.01s\tremaining: 27.5s\n",
      "148:\tlearn: 0.7617925\ttotal: 7.06s\tremaining: 27.4s\n",
      "149:\tlearn: 0.7620034\ttotal: 7.11s\tremaining: 27.4s\n",
      "150:\tlearn: 0.7626192\ttotal: 7.15s\tremaining: 27.3s\n",
      "151:\tlearn: 0.7621361\ttotal: 7.19s\tremaining: 27.3s\n",
      "152:\tlearn: 0.7626192\ttotal: 7.24s\tremaining: 27.2s\n",
      "153:\tlearn: 0.7631024\ttotal: 7.28s\tremaining: 27.1s\n",
      "154:\tlearn: 0.7627046\ttotal: 7.33s\tremaining: 27.1s\n",
      "155:\tlearn: 0.7629153\ttotal: 7.38s\tremaining: 27.1s\n",
      "156:\tlearn: 0.7638195\ttotal: 7.43s\tremaining: 27s\n",
      "157:\tlearn: 0.7644581\ttotal: 7.48s\tremaining: 27s\n",
      "158:\tlearn: 0.7648088\ttotal: 7.52s\tremaining: 26.9s\n",
      "159:\tlearn: 0.7646765\ttotal: 7.57s\tremaining: 26.9s\n",
      "160:\tlearn: 0.7646534\ttotal: 7.63s\tremaining: 26.9s\n",
      "161:\tlearn: 0.7650503\ttotal: 7.67s\tremaining: 26.8s\n",
      "162:\tlearn: 0.7657979\ttotal: 7.72s\tremaining: 26.8s\n",
      "163:\tlearn: 0.7660076\ttotal: 7.76s\tremaining: 26.7s\n",
      "164:\tlearn: 0.7663038\ttotal: 7.81s\tremaining: 26.6s\n",
      "165:\tlearn: 0.7665227\ttotal: 7.85s\tremaining: 26.6s\n",
      "166:\tlearn: 0.7668642\ttotal: 7.9s\tremaining: 26.5s\n",
      "167:\tlearn: 0.7675016\ttotal: 7.95s\tremaining: 26.5s\n",
      "168:\tlearn: 0.7673472\ttotal: 7.99s\tremaining: 26.4s\n",
      "169:\tlearn: 0.7677208\ttotal: 8.04s\tremaining: 26.4s\n",
      "170:\tlearn: 0.7685995\ttotal: 8.08s\tremaining: 26.3s\n",
      "171:\tlearn: 0.7690277\ttotal: 8.13s\tremaining: 26.3s\n",
      "172:\tlearn: 0.7694228\ttotal: 8.17s\tremaining: 26.2s\n",
      "173:\tlearn: 0.7697192\ttotal: 8.21s\tremaining: 26.2s\n",
      "174:\tlearn: 0.7692363\ttotal: 8.26s\tremaining: 26.1s\n",
      "175:\tlearn: 0.7695326\ttotal: 8.31s\tremaining: 26.1s\n",
      "176:\tlearn: 0.7693131\ttotal: 8.35s\tremaining: 26s\n",
      "177:\tlearn: 0.7697960\ttotal: 8.4s\tremaining: 25.9s\n",
      "178:\tlearn: 0.7703440\ttotal: 8.44s\tremaining: 25.9s\n",
      "179:\tlearn: 0.7703223\ttotal: 8.48s\tremaining: 25.8s\n",
      "180:\tlearn: 0.7701908\ttotal: 8.52s\tremaining: 25.8s\n",
      "181:\tlearn: 0.7700592\ttotal: 8.57s\tremaining: 25.7s\n",
      "182:\tlearn: 0.7702023\ttotal: 8.62s\tremaining: 25.7s\n",
      "183:\tlearn: 0.7705538\ttotal: 8.66s\tremaining: 25.6s\n",
      "184:\tlearn: 0.7701806\ttotal: 8.7s\tremaining: 25.5s\n",
      "185:\tlearn: 0.7709915\ttotal: 8.74s\tremaining: 25.5s\n",
      "186:\tlearn: 0.7711351\ttotal: 8.78s\tremaining: 25.4s\n",
      "187:\tlearn: 0.7715081\ttotal: 8.82s\tremaining: 25.3s\n",
      "188:\tlearn: 0.7714194\ttotal: 8.87s\tremaining: 25.3s\n",
      "189:\tlearn: 0.7720549\ttotal: 8.92s\tremaining: 25.3s\n",
      "190:\tlearn: 0.7716058\ttotal: 8.96s\tremaining: 25.2s\n",
      "191:\tlearn: 0.7714744\ttotal: 9s\tremaining: 25.1s\n",
      "192:\tlearn: 0.7716058\ttotal: 9.04s\tremaining: 25.1s\n",
      "193:\tlearn: 0.7717922\ttotal: 9.09s\tremaining: 25s\n",
      "194:\tlearn: 0.7728002\ttotal: 9.13s\tremaining: 25s\n",
      "195:\tlearn: 0.7727240\ttotal: 9.17s\tremaining: 24.9s\n",
      "196:\tlearn: 0.7728683\ttotal: 9.21s\tremaining: 24.8s\n",
      "197:\tlearn: 0.7729444\ttotal: 9.26s\tremaining: 24.8s\n",
      "198:\tlearn: 0.7729444\ttotal: 9.3s\tremaining: 24.7s\n",
      "199:\tlearn: 0.7732830\ttotal: 9.34s\tremaining: 24.7s\n",
      "200:\tlearn: 0.7738762\ttotal: 9.39s\tremaining: 24.6s\n",
      "201:\tlearn: 0.7739177\ttotal: 9.44s\tremaining: 24.6s\n",
      "202:\tlearn: 0.7747728\ttotal: 9.49s\tremaining: 24.5s\n",
      "203:\tlearn: 0.7743798\ttotal: 9.53s\tremaining: 24.5s\n",
      "204:\tlearn: 0.7749038\ttotal: 9.58s\tremaining: 24.4s\n",
      "205:\tlearn: 0.7751247\ttotal: 9.62s\tremaining: 24.4s\n",
      "206:\tlearn: 0.7757792\ttotal: 9.66s\tremaining: 24.3s\n",
      "207:\tlearn: 0.7762970\ttotal: 9.71s\tremaining: 24.3s\n",
      "208:\tlearn: 0.7765184\ttotal: 9.75s\tremaining: 24.2s\n",
      "209:\tlearn: 0.7772674\ttotal: 9.8s\tremaining: 24.2s\n",
      "210:\tlearn: 0.7775286\ttotal: 9.85s\tremaining: 24.1s\n",
      "211:\tlearn: 0.7780309\ttotal: 9.89s\tremaining: 24.1s\n",
      "212:\tlearn: 0.7783472\ttotal: 9.94s\tremaining: 24s\n",
      "213:\tlearn: 0.7785526\ttotal: 9.99s\tremaining: 24s\n",
      "214:\tlearn: 0.7792402\ttotal: 10s\tremaining: 23.9s\n",
      "215:\tlearn: 0.7794813\ttotal: 10.1s\tremaining: 23.9s\n",
      "216:\tlearn: 0.7797418\ttotal: 10.1s\tremaining: 23.8s\n",
      "217:\tlearn: 0.7797418\ttotal: 10.2s\tremaining: 23.8s\n",
      "218:\tlearn: 0.7806144\ttotal: 10.2s\tremaining: 23.7s\n",
      "219:\tlearn: 0.7804288\ttotal: 10.3s\tremaining: 23.7s\n",
      "220:\tlearn: 0.7813200\ttotal: 10.3s\tremaining: 23.6s\n",
      "221:\tlearn: 0.7814499\ttotal: 10.3s\tremaining: 23.6s\n",
      "222:\tlearn: 0.7818582\ttotal: 10.4s\tremaining: 23.5s\n",
      "223:\tlearn: 0.7824883\ttotal: 10.4s\tremaining: 23.5s\n",
      "224:\tlearn: 0.7830440\ttotal: 10.5s\tremaining: 23.4s\n",
      "225:\tlearn: 0.7830068\ttotal: 10.5s\tremaining: 23.4s\n",
      "226:\tlearn: 0.7832843\ttotal: 10.6s\tremaining: 23.3s\n",
      "227:\tlearn: 0.7836908\ttotal: 10.6s\tremaining: 23.3s\n",
      "228:\tlearn: 0.7847446\ttotal: 10.7s\tremaining: 23.2s\n",
      "229:\tlearn: 0.7847446\ttotal: 10.7s\tremaining: 23.2s\n",
      "230:\tlearn: 0.7847446\ttotal: 10.8s\tremaining: 23.1s\n",
      "231:\tlearn: 0.7848182\ttotal: 10.8s\tremaining: 23.1s\n",
      "232:\tlearn: 0.7852057\ttotal: 10.9s\tremaining: 23.1s\n",
      "233:\tlearn: 0.7853169\ttotal: 10.9s\tremaining: 23s\n",
      "234:\tlearn: 0.7855017\ttotal: 10.9s\tremaining: 22.9s\n",
      "235:\tlearn: 0.7855574\ttotal: 11s\tremaining: 22.9s\n",
      "236:\tlearn: 0.7855396\ttotal: 11s\tremaining: 22.8s\n",
      "237:\tlearn: 0.7857244\ttotal: 11.1s\tremaining: 22.8s\n",
      "238:\tlearn: 0.7857067\ttotal: 11.1s\tremaining: 22.7s\n",
      "239:\tlearn: 0.7858181\ttotal: 11.2s\tremaining: 22.7s\n",
      "240:\tlearn: 0.7862230\ttotal: 11.2s\tremaining: 22.6s\n",
      "241:\tlearn: 0.7864460\ttotal: 11.3s\tremaining: 22.6s\n",
      "242:\tlearn: 0.7866865\ttotal: 11.3s\tremaining: 22.6s\n",
      "243:\tlearn: 0.7869271\ttotal: 11.3s\tremaining: 22.5s\n",
      "244:\tlearn: 0.7872793\ttotal: 11.4s\tremaining: 22.5s\n",
      "245:\tlearn: 0.7881473\ttotal: 11.4s\tremaining: 22.4s\n",
      "246:\tlearn: 0.7890877\ttotal: 11.5s\tremaining: 22.4s\n",
      "247:\tlearn: 0.7896582\ttotal: 11.5s\tremaining: 22.3s\n",
      "248:\tlearn: 0.7893842\ttotal: 11.6s\tremaining: 22.3s\n",
      "249:\tlearn: 0.7895520\ttotal: 11.6s\tremaining: 22.2s\n",
      "250:\tlearn: 0.7899940\ttotal: 11.7s\tremaining: 22.2s\n",
      "251:\tlearn: 0.7906367\ttotal: 11.7s\tremaining: 22.1s\n",
      "252:\tlearn: 0.7911341\ttotal: 11.8s\tremaining: 22.1s\n",
      "253:\tlearn: 0.7910221\ttotal: 11.8s\tremaining: 22s\n",
      "254:\tlearn: 0.7917596\ttotal: 11.8s\tremaining: 22s\n",
      "255:\tlearn: 0.7918879\ttotal: 11.9s\tremaining: 21.9s\n",
      "256:\tlearn: 0.7926010\ttotal: 11.9s\tremaining: 21.9s\n",
      "257:\tlearn: 0.7934656\ttotal: 12s\tremaining: 21.8s\n",
      "258:\tlearn: 0.7941052\ttotal: 12s\tremaining: 21.8s\n",
      "259:\tlearn: 0.7944014\ttotal: 12.1s\tremaining: 21.7s\n",
      "260:\tlearn: 0.7945854\ttotal: 12.1s\tremaining: 21.7s\n",
      "261:\tlearn: 0.7949687\ttotal: 12.1s\tremaining: 21.6s\n",
      "262:\tlearn: 0.7953518\ttotal: 12.2s\tremaining: 21.6s\n",
      "263:\tlearn: 0.7956480\ttotal: 12.2s\tremaining: 21.5s\n",
      "264:\tlearn: 0.7965408\ttotal: 12.3s\tremaining: 21.4s\n",
      "265:\tlearn: 0.7967095\ttotal: 12.3s\tremaining: 21.4s\n",
      "266:\tlearn: 0.7971332\ttotal: 12.4s\tremaining: 21.3s\n",
      "267:\tlearn: 0.7973021\ttotal: 12.4s\tremaining: 21.3s\n",
      "268:\tlearn: 0.7979242\ttotal: 12.4s\tremaining: 21.2s\n",
      "269:\tlearn: 0.7986876\ttotal: 12.5s\tremaining: 21.2s\n",
      "270:\tlearn: 0.7992523\ttotal: 12.5s\tremaining: 21.1s\n",
      "271:\tlearn: 0.7998167\ttotal: 12.6s\tremaining: 21.1s\n",
      "272:\tlearn: 0.7997742\ttotal: 12.6s\tremaining: 21s\n",
      "273:\tlearn: 0.8008748\ttotal: 12.7s\tremaining: 21s\n",
      "274:\tlearn: 0.8016648\ttotal: 12.7s\tremaining: 20.9s\n",
      "275:\tlearn: 0.8017351\ttotal: 12.7s\tremaining: 20.9s\n",
      "276:\tlearn: 0.8020315\ttotal: 12.8s\tremaining: 20.8s\n",
      "277:\tlearn: 0.8017780\ttotal: 12.8s\tremaining: 20.8s\n",
      "278:\tlearn: 0.8023416\ttotal: 12.9s\tremaining: 20.7s\n",
      "279:\tlearn: 0.8029913\ttotal: 12.9s\tremaining: 20.7s\n",
      "280:\tlearn: 0.8035110\ttotal: 13s\tremaining: 20.6s\n",
      "281:\tlearn: 0.8039209\ttotal: 13s\tremaining: 20.5s\n",
      "282:\tlearn: 0.8043310\ttotal: 13s\tremaining: 20.5s\n",
      "283:\tlearn: 0.8041041\ttotal: 13.1s\tremaining: 20.5s\n",
      "284:\tlearn: 0.8048239\ttotal: 13.2s\tremaining: 20.4s\n",
      "285:\tlearn: 0.8053478\ttotal: 13.2s\tremaining: 20.4s\n",
      "286:\tlearn: 0.8058153\ttotal: 13.2s\tremaining: 20.4s\n",
      "287:\tlearn: 0.8059544\ttotal: 13.3s\tremaining: 20.3s\n",
      "288:\tlearn: 0.8066302\ttotal: 13.3s\tremaining: 20.2s\n",
      "289:\tlearn: 0.8070658\ttotal: 13.4s\tremaining: 20.2s\n",
      "290:\tlearn: 0.8072043\ttotal: 13.4s\tremaining: 20.1s\n",
      "291:\tlearn: 0.8066302\ttotal: 13.5s\tremaining: 20.1s\n",
      "292:\tlearn: 0.8072812\ttotal: 13.5s\tremaining: 20.1s\n",
      "293:\tlearn: 0.8084731\ttotal: 13.6s\tremaining: 20s\n",
      "294:\tlearn: 0.8090909\ttotal: 13.6s\tremaining: 20s\n",
      "295:\tlearn: 0.8092620\ttotal: 13.6s\tremaining: 19.9s\n",
      "296:\tlearn: 0.8100624\ttotal: 13.7s\tremaining: 19.9s\n",
      "297:\tlearn: 0.8103940\ttotal: 13.7s\tremaining: 19.8s\n",
      "298:\tlearn: 0.8113075\ttotal: 13.8s\tremaining: 19.8s\n",
      "299:\tlearn: 0.8111135\ttotal: 13.8s\tremaining: 19.7s\n",
      "300:\tlearn: 0.8116044\ttotal: 13.9s\tremaining: 19.7s\n",
      "301:\tlearn: 0.8119014\ttotal: 13.9s\tremaining: 19.6s\n",
      "302:\tlearn: 0.8122095\ttotal: 13.9s\tremaining: 19.6s\n",
      "303:\tlearn: 0.8129400\ttotal: 14s\tremaining: 19.5s\n",
      "304:\tlearn: 0.8132944\ttotal: 14.1s\tremaining: 19.5s\n",
      "305:\tlearn: 0.8135235\ttotal: 14.1s\tremaining: 19.4s\n",
      "306:\tlearn: 0.8133052\ttotal: 14.1s\tremaining: 19.4s\n",
      "307:\tlearn: 0.8136381\ttotal: 14.2s\tremaining: 19.3s\n",
      "308:\tlearn: 0.8141861\ttotal: 14.2s\tremaining: 19.3s\n",
      "309:\tlearn: 0.8146451\ttotal: 14.3s\tremaining: 19.2s\n",
      "310:\tlearn: 0.8152507\ttotal: 14.3s\tremaining: 19.2s\n",
      "311:\tlearn: 0.8154231\ttotal: 14.4s\tremaining: 19.1s\n",
      "312:\tlearn: 0.8154806\ttotal: 14.4s\tremaining: 19.1s\n",
      "313:\tlearn: 0.8156531\ttotal: 14.4s\tremaining: 19s\n",
      "314:\tlearn: 0.8158934\ttotal: 14.5s\tremaining: 19s\n",
      "315:\tlearn: 0.8159408\ttotal: 14.5s\tremaining: 18.9s\n",
      "316:\tlearn: 0.8162589\ttotal: 14.5s\tremaining: 18.8s\n",
      "317:\tlearn: 0.8163841\ttotal: 14.6s\tremaining: 18.8s\n",
      "318:\tlearn: 0.8167019\ttotal: 14.6s\tremaining: 18.7s\n",
      "319:\tlearn: 0.8169997\ttotal: 14.7s\tremaining: 18.7s\n",
      "320:\tlearn: 0.8179224\ttotal: 14.7s\tremaining: 18.6s\n",
      "321:\tlearn: 0.8178551\ttotal: 14.7s\tremaining: 18.6s\n",
      "322:\tlearn: 0.8174226\ttotal: 14.8s\tremaining: 18.5s\n",
      "323:\tlearn: 0.8180953\ttotal: 14.8s\tremaining: 18.5s\n",
      "324:\tlearn: 0.8183932\ttotal: 14.9s\tremaining: 18.4s\n",
      "325:\tlearn: 0.8190657\ttotal: 14.9s\tremaining: 18.4s\n",
      "326:\tlearn: 0.8194307\ttotal: 14.9s\tremaining: 18.3s\n",
      "327:\tlearn: 0.8199296\ttotal: 15s\tremaining: 18.3s\n",
      "328:\tlearn: 0.8202457\ttotal: 15s\tremaining: 18.2s\n",
      "329:\tlearn: 0.8206860\ttotal: 15.1s\tremaining: 18.2s\n",
      "330:\tlearn: 0.8209748\ttotal: 15.1s\tremaining: 18.1s\n",
      "331:\tlearn: 0.8215882\ttotal: 15.2s\tremaining: 18.1s\n",
      "332:\tlearn: 0.8214638\ttotal: 15.2s\tremaining: 18s\n",
      "333:\tlearn: 0.8215794\ttotal: 15.2s\tremaining: 18s\n",
      "334:\tlearn: 0.8221433\ttotal: 15.3s\tremaining: 17.9s\n",
      "335:\tlearn: 0.8224989\ttotal: 15.3s\tremaining: 17.9s\n",
      "336:\tlearn: 0.8228632\ttotal: 15.3s\tremaining: 17.8s\n",
      "337:\tlearn: 0.8232273\ttotal: 15.4s\tremaining: 17.8s\n",
      "338:\tlearn: 0.8238894\ttotal: 15.4s\tremaining: 17.7s\n",
      "339:\tlearn: 0.8246756\ttotal: 15.5s\tremaining: 17.7s\n",
      "340:\tlearn: 0.8252294\ttotal: 15.5s\tremaining: 17.6s\n",
      "341:\tlearn: 0.8254460\ttotal: 15.6s\tremaining: 17.6s\n",
      "342:\tlearn: 0.8258101\ttotal: 15.6s\tremaining: 17.5s\n",
      "343:\tlearn: 0.8260502\ttotal: 15.6s\tremaining: 17.5s\n",
      "344:\tlearn: 0.8267201\ttotal: 15.7s\tremaining: 17.4s\n",
      "345:\tlearn: 0.8268365\ttotal: 15.7s\tremaining: 17.4s\n",
      "346:\tlearn: 0.8285393\ttotal: 15.8s\tremaining: 17.3s\n",
      "347:\tlearn: 0.8287141\ttotal: 15.8s\tremaining: 17.3s\n",
      "348:\tlearn: 0.8285905\ttotal: 15.9s\tremaining: 17.2s\n",
      "349:\tlearn: 0.8291431\ttotal: 15.9s\tremaining: 17.2s\n",
      "350:\tlearn: 0.8298703\ttotal: 15.9s\tremaining: 17.1s\n",
      "351:\tlearn: 0.8309023\ttotal: 16s\tremaining: 17.1s\n",
      "352:\tlearn: 0.8313240\ttotal: 16s\tremaining: 17s\n",
      "353:\tlearn: 0.8318105\ttotal: 16.1s\tremaining: 17s\n",
      "354:\tlearn: 0.8320568\ttotal: 16.1s\tremaining: 16.9s\n",
      "355:\tlearn: 0.8327830\ttotal: 16.2s\tremaining: 16.9s\n",
      "356:\tlearn: 0.8331460\ttotal: 16.2s\tremaining: 16.9s\n",
      "357:\tlearn: 0.8339247\ttotal: 16.3s\tremaining: 16.8s\n",
      "358:\tlearn: 0.8341649\ttotal: 16.3s\tremaining: 16.7s\n",
      "359:\tlearn: 0.8344748\ttotal: 16.3s\tremaining: 16.7s\n",
      "360:\tlearn: 0.8344692\ttotal: 16.4s\tremaining: 16.7s\n",
      "361:\tlearn: 0.8350722\ttotal: 16.4s\tremaining: 16.6s\n",
      "362:\tlearn: 0.8352482\ttotal: 16.5s\tremaining: 16.6s\n",
      "363:\tlearn: 0.8353549\ttotal: 16.5s\tremaining: 16.5s\n",
      "364:\tlearn: 0.8355471\ttotal: 16.6s\tremaining: 16.5s\n",
      "365:\tlearn: 0.8362729\ttotal: 16.6s\tremaining: 16.4s\n",
      "366:\tlearn: 0.8365820\ttotal: 16.6s\tremaining: 16.4s\n",
      "367:\tlearn: 0.8369447\ttotal: 16.7s\tremaining: 16.3s\n",
      "368:\tlearn: 0.8371309\ttotal: 16.7s\tremaining: 16.3s\n",
      "369:\tlearn: 0.8371309\ttotal: 16.7s\tremaining: 16.2s\n",
      "370:\tlearn: 0.8378018\ttotal: 16.8s\tremaining: 16.1s\n",
      "371:\tlearn: 0.8381548\ttotal: 16.8s\tremaining: 16.1s\n",
      "372:\tlearn: 0.8382771\ttotal: 16.9s\tremaining: 16s\n",
      "373:\tlearn: 0.8386984\ttotal: 16.9s\tremaining: 16s\n",
      "374:\tlearn: 0.8388206\ttotal: 16.9s\tremaining: 15.9s\n",
      "375:\tlearn: 0.8392462\ttotal: 17s\tremaining: 15.9s\n",
      "376:\tlearn: 0.8391829\ttotal: 17s\tremaining: 15.8s\n",
      "377:\tlearn: 0.8400169\ttotal: 17s\tremaining: 15.8s\n",
      "378:\tlearn: 0.8408636\ttotal: 17.1s\tremaining: 15.7s\n",
      "379:\tlearn: 0.8414698\ttotal: 17.1s\tremaining: 15.7s\n",
      "380:\tlearn: 0.8417137\ttotal: 17.2s\tremaining: 15.6s\n",
      "381:\tlearn: 0.8424340\ttotal: 17.2s\tremaining: 15.6s\n",
      "382:\tlearn: 0.8429178\ttotal: 17.3s\tremaining: 15.5s\n",
      "383:\tlearn: 0.8435756\ttotal: 17.3s\tremaining: 15.5s\n",
      "384:\tlearn: 0.8440496\ttotal: 17.3s\tremaining: 15.4s\n",
      "385:\tlearn: 0.8439310\ttotal: 17.4s\tremaining: 15.4s\n",
      "386:\tlearn: 0.8443587\ttotal: 17.4s\tremaining: 15.3s\n",
      "387:\tlearn: 0.8455005\ttotal: 17.5s\tremaining: 15.3s\n",
      "388:\tlearn: 0.8455034\ttotal: 17.5s\tremaining: 15.3s\n",
      "389:\tlearn: 0.8462240\ttotal: 17.5s\tremaining: 15.2s\n",
      "390:\tlearn: 0.8463996\ttotal: 17.6s\tremaining: 15.2s\n",
      "391:\tlearn: 0.8473065\ttotal: 17.6s\tremaining: 15.1s\n",
      "392:\tlearn: 0.8472471\ttotal: 17.7s\tremaining: 15.1s\n",
      "393:\tlearn: 0.8474231\ttotal: 17.7s\tremaining: 15s\n",
      "394:\tlearn: 0.8481510\ttotal: 17.7s\tremaining: 15s\n",
      "395:\tlearn: 0.8484508\ttotal: 17.8s\tremaining: 14.9s\n",
      "396:\tlearn: 0.8484508\ttotal: 17.8s\tremaining: 14.8s\n",
      "397:\tlearn: 0.8493602\ttotal: 17.9s\tremaining: 14.8s\n",
      "398:\tlearn: 0.8499001\ttotal: 17.9s\tremaining: 14.8s\n",
      "399:\tlearn: 0.8502612\ttotal: 17.9s\tremaining: 14.7s\n",
      "400:\tlearn: 0.8503821\ttotal: 18s\tremaining: 14.6s\n",
      "401:\tlearn: 0.8503804\ttotal: 18s\tremaining: 14.6s\n",
      "402:\tlearn: 0.8510414\ttotal: 18s\tremaining: 14.5s\n",
      "403:\tlearn: 0.8512220\ttotal: 18.1s\tremaining: 14.5s\n",
      "404:\tlearn: 0.8519440\ttotal: 18.1s\tremaining: 14.4s\n",
      "405:\tlearn: 0.8527865\ttotal: 18.1s\tremaining: 14.4s\n",
      "406:\tlearn: 0.8531473\ttotal: 18.2s\tremaining: 14.3s\n",
      "407:\tlearn: 0.8529669\ttotal: 18.2s\tremaining: 14.3s\n",
      "408:\tlearn: 0.8532081\ttotal: 18.3s\tremaining: 14.2s\n",
      "409:\tlearn: 0.8533885\ttotal: 18.3s\tremaining: 14.2s\n",
      "410:\tlearn: 0.8535090\ttotal: 18.3s\tremaining: 14.1s\n",
      "411:\tlearn: 0.8539908\ttotal: 18.4s\tremaining: 14.1s\n",
      "412:\tlearn: 0.8541703\ttotal: 18.4s\tremaining: 14s\n",
      "413:\tlearn: 0.8551917\ttotal: 18.5s\tremaining: 14s\n",
      "414:\tlearn: 0.8554322\ttotal: 18.5s\tremaining: 13.9s\n",
      "415:\tlearn: 0.8561526\ttotal: 18.5s\tremaining: 13.9s\n",
      "416:\tlearn: 0.8560927\ttotal: 18.6s\tremaining: 13.9s\n",
      "417:\tlearn: 0.8560325\ttotal: 18.6s\tremaining: 13.8s\n",
      "418:\tlearn: 0.8560924\ttotal: 18.6s\tremaining: 13.7s\n",
      "419:\tlearn: 0.8563925\ttotal: 18.7s\tremaining: 13.7s\n",
      "420:\tlearn: 0.8572928\ttotal: 18.7s\tremaining: 13.7s\n",
      "421:\tlearn: 0.8573528\ttotal: 18.8s\tremaining: 13.6s\n",
      "422:\tlearn: 0.8575327\ttotal: 18.8s\tremaining: 13.6s\n",
      "423:\tlearn: 0.8580722\ttotal: 18.9s\tremaining: 13.5s\n",
      "424:\tlearn: 0.8580722\ttotal: 18.9s\tremaining: 13.5s\n",
      "425:\tlearn: 0.8581925\ttotal: 18.9s\tremaining: 13.4s\n",
      "426:\tlearn: 0.8581325\ttotal: 19s\tremaining: 13.4s\n",
      "427:\tlearn: 0.8593903\ttotal: 19s\tremaining: 13.3s\n",
      "428:\tlearn: 0.8593908\ttotal: 19s\tremaining: 13.3s\n",
      "429:\tlearn: 0.8597497\ttotal: 19.1s\tremaining: 13.2s\n",
      "430:\tlearn: 0.8601083\ttotal: 19.1s\tremaining: 13.2s\n",
      "431:\tlearn: 0.8605862\ttotal: 19.2s\tremaining: 13.1s\n",
      "432:\tlearn: 0.8611266\ttotal: 19.2s\tremaining: 13.1s\n",
      "433:\tlearn: 0.8616653\ttotal: 19.2s\tremaining: 13s\n",
      "434:\tlearn: 0.8625616\ttotal: 19.3s\tremaining: 13s\n",
      "435:\tlearn: 0.8625026\ttotal: 19.3s\tremaining: 12.9s\n",
      "436:\tlearn: 0.8625026\ttotal: 19.4s\tremaining: 12.9s\n",
      "437:\tlearn: 0.8641743\ttotal: 19.4s\tremaining: 12.8s\n",
      "438:\tlearn: 0.8642346\ttotal: 19.4s\tremaining: 12.8s\n",
      "439:\tlearn: 0.8644778\ttotal: 19.5s\tremaining: 12.8s\n",
      "440:\tlearn: 0.8649555\ttotal: 19.5s\tremaining: 12.7s\n",
      "441:\tlearn: 0.8654934\ttotal: 19.6s\tremaining: 12.7s\n",
      "442:\tlearn: 0.8656122\ttotal: 19.6s\tremaining: 12.6s\n",
      "443:\tlearn: 0.8653725\ttotal: 19.6s\tremaining: 12.6s\n",
      "444:\tlearn: 0.8660873\ttotal: 19.7s\tremaining: 12.5s\n",
      "445:\tlearn: 0.8659686\ttotal: 19.7s\tremaining: 12.5s\n",
      "446:\tlearn: 0.8659686\ttotal: 19.8s\tremaining: 12.4s\n",
      "447:\tlearn: 0.8662060\ttotal: 19.8s\tremaining: 12.4s\n",
      "448:\tlearn: 0.8665038\ttotal: 19.8s\tremaining: 12.3s\n",
      "449:\tlearn: 0.8669806\ttotal: 19.9s\tremaining: 12.3s\n",
      "450:\tlearn: 0.8675834\ttotal: 19.9s\tremaining: 12.2s\n",
      "451:\tlearn: 0.8673437\ttotal: 20s\tremaining: 12.2s\n",
      "452:\tlearn: 0.8676440\ttotal: 20s\tremaining: 12.1s\n",
      "453:\tlearn: 0.8678179\ttotal: 20s\tremaining: 12.1s\n",
      "454:\tlearn: 0.8682917\ttotal: 20.1s\tremaining: 12.1s\n",
      "455:\tlearn: 0.8694258\ttotal: 20.1s\tremaining: 12s\n",
      "456:\tlearn: 0.8699017\ttotal: 20.2s\tremaining: 12s\n",
      "457:\tlearn: 0.8697866\ttotal: 20.2s\tremaining: 11.9s\n",
      "458:\tlearn: 0.8701444\ttotal: 20.3s\tremaining: 11.9s\n",
      "459:\tlearn: 0.8702019\ttotal: 20.3s\tremaining: 11.8s\n",
      "460:\tlearn: 0.8705021\ttotal: 20.3s\tremaining: 11.8s\n",
      "461:\tlearn: 0.8710420\ttotal: 20.4s\tremaining: 11.7s\n",
      "462:\tlearn: 0.8713962\ttotal: 20.4s\tremaining: 11.7s\n",
      "463:\tlearn: 0.8709812\ttotal: 20.5s\tremaining: 11.6s\n",
      "464:\tlearn: 0.8713424\ttotal: 20.5s\tremaining: 11.6s\n",
      "465:\tlearn: 0.8714605\ttotal: 20.5s\tremaining: 11.5s\n",
      "466:\tlearn: 0.8716965\ttotal: 20.6s\tremaining: 11.5s\n",
      "467:\tlearn: 0.8719325\ttotal: 20.6s\tremaining: 11.5s\n",
      "468:\tlearn: 0.8721113\ttotal: 20.7s\tremaining: 11.4s\n",
      "469:\tlearn: 0.8723508\ttotal: 20.7s\tremaining: 11.4s\n",
      "470:\tlearn: 0.8728300\ttotal: 20.7s\tremaining: 11.3s\n",
      "471:\tlearn: 0.8730695\ttotal: 20.8s\tremaining: 11.3s\n",
      "472:\tlearn: 0.8730695\ttotal: 20.8s\tremaining: 11.2s\n",
      "473:\tlearn: 0.8731304\ttotal: 20.8s\tremaining: 11.2s\n",
      "474:\tlearn: 0.8740849\ttotal: 20.9s\tremaining: 11.1s\n",
      "475:\tlearn: 0.8745557\ttotal: 20.9s\tremaining: 11.1s\n",
      "476:\tlearn: 0.8746734\ttotal: 20.9s\tremaining: 11s\n",
      "477:\tlearn: 0.8744948\ttotal: 21s\tremaining: 11s\n",
      "478:\tlearn: 0.8748519\ttotal: 21s\tremaining: 10.9s\n",
      "479:\tlearn: 0.8753310\ttotal: 21.1s\tremaining: 10.9s\n",
      "480:\tlearn: 0.8761062\ttotal: 21.1s\tremaining: 10.8s\n",
      "481:\tlearn: 0.8762800\ttotal: 21.1s\tremaining: 10.8s\n",
      "482:\tlearn: 0.8765196\ttotal: 21.2s\tremaining: 10.7s\n",
      "483:\tlearn: 0.8762237\ttotal: 21.2s\tremaining: 10.7s\n",
      "484:\tlearn: 0.8764585\ttotal: 21.3s\tremaining: 10.7s\n",
      "485:\tlearn: 0.8766417\ttotal: 21.3s\tremaining: 10.6s\n",
      "486:\tlearn: 0.8768813\ttotal: 21.4s\tremaining: 10.6s\n",
      "487:\tlearn: 0.8770597\ttotal: 21.4s\tremaining: 10.5s\n",
      "488:\tlearn: 0.8770646\ttotal: 21.4s\tremaining: 10.5s\n",
      "489:\tlearn: 0.8772993\ttotal: 21.5s\tremaining: 10.4s\n",
      "490:\tlearn: 0.8773605\ttotal: 21.5s\tremaining: 10.4s\n",
      "491:\tlearn: 0.8775951\ttotal: 21.6s\tremaining: 10.3s\n",
      "492:\tlearn: 0.8775951\ttotal: 21.6s\tremaining: 10.3s\n",
      "493:\tlearn: 0.8774167\ttotal: 21.6s\tremaining: 10.2s\n",
      "494:\tlearn: 0.8775951\ttotal: 21.6s\tremaining: 10.2s\n",
      "495:\tlearn: 0.8776562\ttotal: 21.7s\tremaining: 10.1s\n",
      "496:\tlearn: 0.8780182\ttotal: 21.7s\tremaining: 10.1s\n",
      "497:\tlearn: 0.8783139\ttotal: 21.8s\tremaining: 10s\n",
      "498:\tlearn: 0.8784871\ttotal: 21.8s\tremaining: 10s\n",
      "499:\tlearn: 0.8783699\ttotal: 21.9s\tremaining: 9.97s\n",
      "500:\tlearn: 0.8787267\ttotal: 21.9s\tremaining: 9.92s\n",
      "501:\tlearn: 0.8789050\ttotal: 21.9s\tremaining: 9.87s\n",
      "502:\tlearn: 0.8795067\ttotal: 22s\tremaining: 9.83s\n",
      "503:\tlearn: 0.8794509\ttotal: 22s\tremaining: 9.78s\n",
      "504:\tlearn: 0.8799303\ttotal: 22.1s\tremaining: 9.74s\n",
      "505:\tlearn: 0.8803428\ttotal: 22.1s\tremaining: 9.7s\n",
      "506:\tlearn: 0.8804041\ttotal: 22.2s\tremaining: 9.65s\n",
      "507:\tlearn: 0.8806438\ttotal: 22.2s\tremaining: 9.61s\n",
      "508:\tlearn: 0.8808777\ttotal: 22.2s\tremaining: 9.56s\n",
      "509:\tlearn: 0.8818365\ttotal: 22.3s\tremaining: 9.52s\n",
      "510:\tlearn: 0.8816582\ttotal: 22.3s\tremaining: 9.47s\n",
      "511:\tlearn: 0.8817751\ttotal: 22.3s\tremaining: 9.42s\n",
      "512:\tlearn: 0.8818980\ttotal: 22.3s\tremaining: 9.37s\n",
      "513:\tlearn: 0.8818980\ttotal: 22.4s\tremaining: 9.31s\n",
      "514:\tlearn: 0.8820702\ttotal: 22.4s\tremaining: 9.27s\n",
      "515:\tlearn: 0.8826664\ttotal: 22.4s\tremaining: 9.22s\n",
      "516:\tlearn: 0.8833177\ttotal: 22.5s\tremaining: 9.18s\n",
      "517:\tlearn: 0.8836675\ttotal: 22.5s\tremaining: 9.13s\n",
      "518:\tlearn: 0.8839621\ttotal: 22.6s\tremaining: 9.08s\n",
      "519:\tlearn: 0.8847359\ttotal: 22.6s\tremaining: 9.05s\n",
      "520:\tlearn: 0.8849822\ttotal: 22.7s\tremaining: 9s\n",
      "521:\tlearn: 0.8850439\ttotal: 22.7s\tremaining: 8.96s\n",
      "522:\tlearn: 0.8853452\ttotal: 22.7s\tremaining: 8.92s\n",
      "523:\tlearn: 0.8854616\ttotal: 22.8s\tremaining: 8.87s\n",
      "524:\tlearn: 0.8860028\ttotal: 22.8s\tremaining: 8.82s\n",
      "525:\tlearn: 0.8859411\ttotal: 22.8s\tremaining: 8.77s\n",
      "526:\tlearn: 0.8862355\ttotal: 22.9s\tremaining: 8.73s\n",
      "527:\tlearn: 0.8865298\ttotal: 22.9s\tremaining: 8.68s\n",
      "528:\tlearn: 0.8868312\ttotal: 23s\tremaining: 8.64s\n",
      "529:\tlearn: 0.8869474\ttotal: 23s\tremaining: 8.59s\n",
      "530:\tlearn: 0.8876592\ttotal: 23s\tremaining: 8.55s\n",
      "531:\tlearn: 0.8874813\ttotal: 23.1s\tremaining: 8.5s\n",
      "532:\tlearn: 0.8877828\ttotal: 23.1s\tremaining: 8.46s\n",
      "533:\tlearn: 0.8884326\ttotal: 23.2s\tremaining: 8.42s\n",
      "534:\tlearn: 0.8882005\ttotal: 23.2s\tremaining: 8.37s\n",
      "535:\tlearn: 0.8882699\ttotal: 23.3s\tremaining: 8.33s\n",
      "536:\tlearn: 0.8883936\ttotal: 23.3s\tremaining: 8.28s\n",
      "537:\tlearn: 0.8888657\ttotal: 23.3s\tremaining: 8.24s\n",
      "538:\tlearn: 0.8893376\ttotal: 23.4s\tremaining: 8.19s\n",
      "539:\tlearn: 0.8892216\ttotal: 23.4s\tremaining: 8.14s\n",
      "540:\tlearn: 0.8896933\ttotal: 23.4s\tremaining: 8.1s\n",
      "541:\tlearn: 0.8901811\ttotal: 23.5s\tremaining: 8.06s\n",
      "542:\tlearn: 0.8906446\ttotal: 23.5s\tremaining: 8.01s\n",
      "543:\tlearn: 0.8914799\ttotal: 23.6s\tremaining: 7.97s\n",
      "544:\tlearn: 0.8914799\ttotal: 23.6s\tremaining: 7.92s\n",
      "545:\tlearn: 0.8920132\ttotal: 23.6s\tremaining: 7.88s\n",
      "546:\tlearn: 0.8921910\ttotal: 23.7s\tremaining: 7.83s\n",
      "547:\tlearn: 0.8925551\ttotal: 23.7s\tremaining: 7.79s\n",
      "548:\tlearn: 0.8925551\ttotal: 23.8s\tremaining: 7.75s\n",
      "549:\tlearn: 0.8928397\ttotal: 23.8s\tremaining: 7.7s\n",
      "550:\tlearn: 0.8930174\ttotal: 23.8s\tremaining: 7.65s\n",
      "551:\tlearn: 0.8932661\ttotal: 23.9s\tremaining: 7.61s\n",
      "552:\tlearn: 0.8934526\ttotal: 23.9s\tremaining: 7.57s\n",
      "553:\tlearn: 0.8934526\ttotal: 23.9s\tremaining: 7.52s\n",
      "554:\tlearn: 0.8936392\ttotal: 24s\tremaining: 7.47s\n",
      "555:\tlearn: 0.8935859\ttotal: 24s\tremaining: 7.43s\n",
      "556:\tlearn: 0.8938260\ttotal: 24.1s\tremaining: 7.39s\n",
      "557:\tlearn: 0.8941725\ttotal: 24.1s\tremaining: 7.34s\n",
      "558:\tlearn: 0.8944035\ttotal: 24.2s\tremaining: 7.3s\n",
      "559:\tlearn: 0.8945811\ttotal: 24.2s\tremaining: 7.26s\n",
      "560:\tlearn: 0.8945811\ttotal: 24.2s\tremaining: 7.21s\n",
      "561:\tlearn: 0.8949988\ttotal: 24.3s\tremaining: 7.17s\n",
      "562:\tlearn: 0.8950611\ttotal: 24.3s\tremaining: 7.12s\n",
      "563:\tlearn: 0.8952388\ttotal: 24.4s\tremaining: 7.08s\n",
      "564:\tlearn: 0.8952388\ttotal: 24.4s\tremaining: 7.03s\n",
      "565:\tlearn: 0.8951234\ttotal: 24.4s\tremaining: 6.98s\n",
      "566:\tlearn: 0.8951234\ttotal: 24.4s\tremaining: 6.93s\n",
      "567:\tlearn: 0.8955941\ttotal: 24.5s\tremaining: 6.89s\n",
      "568:\tlearn: 0.8957717\ttotal: 24.5s\tremaining: 6.84s\n",
      "569:\tlearn: 0.8959493\ttotal: 24.5s\tremaining: 6.8s\n",
      "570:\tlearn: 0.8958870\ttotal: 24.6s\tremaining: 6.75s\n",
      "571:\tlearn: 0.8963669\ttotal: 24.6s\tremaining: 6.71s\n",
      "572:\tlearn: 0.8965973\ttotal: 24.6s\tremaining: 6.67s\n",
      "573:\tlearn: 0.8967221\ttotal: 24.7s\tremaining: 6.62s\n",
      "574:\tlearn: 0.8972353\ttotal: 24.7s\tremaining: 6.58s\n",
      "575:\tlearn: 0.8973503\ttotal: 24.8s\tremaining: 6.53s\n",
      "576:\tlearn: 0.8977775\ttotal: 24.8s\tremaining: 6.49s\n",
      "577:\tlearn: 0.8977775\ttotal: 24.8s\tremaining: 6.45s\n",
      "578:\tlearn: 0.8980699\ttotal: 24.9s\tremaining: 6.41s\n",
      "579:\tlearn: 0.8981224\ttotal: 24.9s\tremaining: 6.36s\n",
      "580:\tlearn: 0.8987593\ttotal: 25s\tremaining: 6.31s\n",
      "581:\tlearn: 0.8993536\ttotal: 25s\tremaining: 6.27s\n",
      "582:\tlearn: 0.8993536\ttotal: 25s\tremaining: 6.22s\n",
      "583:\tlearn: 0.8993536\ttotal: 25.1s\tremaining: 6.18s\n",
      "584:\tlearn: 0.8994161\ttotal: 25.1s\tremaining: 6.13s\n",
      "585:\tlearn: 0.8993013\ttotal: 25.1s\tremaining: 6.08s\n",
      "586:\tlearn: 0.8997810\ttotal: 25.2s\tremaining: 6.04s\n",
      "587:\tlearn: 0.8998957\ttotal: 25.2s\tremaining: 6s\n",
      "588:\tlearn: 0.9002398\ttotal: 25.3s\tremaining: 5.96s\n",
      "589:\tlearn: 0.9004170\ttotal: 25.3s\tremaining: 5.92s\n",
      "590:\tlearn: 0.9006567\ttotal: 25.3s\tremaining: 5.87s\n",
      "591:\tlearn: 0.9010844\ttotal: 25.4s\tremaining: 5.83s\n",
      "592:\tlearn: 0.9013135\ttotal: 25.4s\tremaining: 5.78s\n",
      "593:\tlearn: 0.9013654\ttotal: 25.4s\tremaining: 5.74s\n",
      "594:\tlearn: 0.9015425\ttotal: 25.5s\tremaining: 5.69s\n",
      "595:\tlearn: 0.9016268\ttotal: 25.5s\tremaining: 5.65s\n",
      "596:\tlearn: 0.9020848\ttotal: 25.5s\tremaining: 5.61s\n",
      "597:\tlearn: 0.9024907\ttotal: 25.6s\tremaining: 5.56s\n",
      "598:\tlearn: 0.9024280\ttotal: 25.6s\tremaining: 5.52s\n",
      "599:\tlearn: 0.9024907\ttotal: 25.7s\tremaining: 5.47s\n",
      "600:\tlearn: 0.9023763\ttotal: 25.7s\tremaining: 5.43s\n",
      "601:\tlearn: 0.9023763\ttotal: 25.7s\tremaining: 5.38s\n",
      "602:\tlearn: 0.9024390\ttotal: 25.8s\tremaining: 5.34s\n",
      "603:\tlearn: 0.9025017\ttotal: 25.8s\tremaining: 5.29s\n",
      "604:\tlearn: 0.9026161\ttotal: 25.8s\tremaining: 5.25s\n",
      "605:\tlearn: 0.9024390\ttotal: 25.8s\tremaining: 5.2s\n",
      "606:\tlearn: 0.9025645\ttotal: 25.9s\tremaining: 5.16s\n",
      "607:\tlearn: 0.9029926\ttotal: 25.9s\tremaining: 5.12s\n",
      "608:\tlearn: 0.9032841\ttotal: 26s\tremaining: 5.07s\n",
      "609:\tlearn: 0.9038782\ttotal: 26s\tremaining: 5.03s\n",
      "610:\tlearn: 0.9036496\ttotal: 26s\tremaining: 4.99s\n",
      "611:\tlearn: 0.9048148\ttotal: 26.1s\tremaining: 4.94s\n",
      "612:\tlearn: 0.9049406\ttotal: 26.1s\tremaining: 4.9s\n",
      "613:\tlearn: 0.9045352\ttotal: 26.2s\tremaining: 4.86s\n",
      "614:\tlearn: 0.9044210\ttotal: 26.2s\tremaining: 4.82s\n",
      "615:\tlearn: 0.9044210\ttotal: 26.2s\tremaining: 4.77s\n",
      "616:\tlearn: 0.9045981\ttotal: 26.3s\tremaining: 4.72s\n",
      "617:\tlearn: 0.9047123\ttotal: 26.3s\tremaining: 4.68s\n",
      "618:\tlearn: 0.9047123\ttotal: 26.3s\tremaining: 4.63s\n",
      "619:\tlearn: 0.9053575\ttotal: 26.4s\tremaining: 4.59s\n",
      "620:\tlearn: 0.9055857\ttotal: 26.4s\tremaining: 4.55s\n",
      "621:\tlearn: 0.9056997\ttotal: 26.5s\tremaining: 4.51s\n",
      "622:\tlearn: 0.9059277\ttotal: 26.5s\tremaining: 4.47s\n",
      "623:\tlearn: 0.9060025\ttotal: 26.5s\tremaining: 4.42s\n",
      "624:\tlearn: 0.9061794\ttotal: 26.6s\tremaining: 4.38s\n",
      "625:\tlearn: 0.9062543\ttotal: 26.6s\tremaining: 4.34s\n",
      "626:\tlearn: 0.9069864\ttotal: 26.7s\tremaining: 4.3s\n",
      "627:\tlearn: 0.9078467\ttotal: 26.7s\tremaining: 4.26s\n",
      "628:\tlearn: 0.9082636\ttotal: 26.8s\tremaining: 4.22s\n",
      "629:\tlearn: 0.9084404\ttotal: 26.8s\tremaining: 4.17s\n",
      "630:\tlearn: 0.9084779\ttotal: 26.9s\tremaining: 4.13s\n",
      "631:\tlearn: 0.9088950\ttotal: 26.9s\tremaining: 4.09s\n",
      "632:\tlearn: 0.9088950\ttotal: 27s\tremaining: 4.04s\n",
      "633:\tlearn: 0.9083765\ttotal: 27s\tremaining: 4s\n",
      "634:\tlearn: 0.9084904\ttotal: 27s\tremaining: 3.96s\n",
      "635:\tlearn: 0.9086042\ttotal: 27.1s\tremaining: 3.92s\n",
      "636:\tlearn: 0.9090846\ttotal: 27.1s\tremaining: 3.87s\n",
      "637:\tlearn: 0.9094891\ttotal: 27.2s\tremaining: 3.83s\n",
      "638:\tlearn: 0.9094891\ttotal: 27.2s\tremaining: 3.79s\n",
      "639:\tlearn: 0.9095523\ttotal: 27.2s\tremaining: 3.75s\n",
      "640:\tlearn: 0.9100702\ttotal: 27.3s\tremaining: 3.7s\n",
      "641:\tlearn: 0.9106007\ttotal: 27.3s\tremaining: 3.66s\n",
      "642:\tlearn: 0.9102600\ttotal: 27.4s\tremaining: 3.62s\n",
      "643:\tlearn: 0.9106137\ttotal: 27.4s\tremaining: 3.57s\n",
      "644:\tlearn: 0.9107404\ttotal: 27.5s\tremaining: 3.53s\n",
      "645:\tlearn: 0.9109675\ttotal: 27.5s\tremaining: 3.49s\n",
      "646:\tlearn: 0.9113211\ttotal: 27.5s\tremaining: 3.44s\n",
      "647:\tlearn: 0.9117882\ttotal: 27.6s\tremaining: 3.4s\n",
      "648:\tlearn: 0.9120150\ttotal: 27.6s\tremaining: 3.36s\n",
      "649:\tlearn: 0.9122685\ttotal: 27.7s\tremaining: 3.32s\n",
      "650:\tlearn: 0.9126719\ttotal: 27.7s\tremaining: 3.27s\n",
      "651:\tlearn: 0.9127354\ttotal: 27.7s\tremaining: 3.23s\n",
      "652:\tlearn: 0.9127988\ttotal: 27.7s\tremaining: 3.19s\n",
      "653:\tlearn: 0.9132791\ttotal: 27.8s\tremaining: 3.15s\n",
      "654:\tlearn: 0.9136326\ttotal: 27.8s\tremaining: 3.1s\n",
      "655:\tlearn: 0.9138093\ttotal: 27.9s\tremaining: 3.06s\n",
      "656:\tlearn: 0.9141488\ttotal: 27.9s\tremaining: 3.02s\n",
      "657:\tlearn: 0.9143393\ttotal: 28s\tremaining: 2.97s\n",
      "658:\tlearn: 0.9143393\ttotal: 28s\tremaining: 2.93s\n",
      "659:\tlearn: 0.9143393\ttotal: 28s\tremaining: 2.89s\n",
      "660:\tlearn: 0.9144524\ttotal: 28s\tremaining: 2.84s\n",
      "661:\tlearn: 0.9147421\ttotal: 28.1s\tremaining: 2.8s\n",
      "662:\tlearn: 0.9148197\ttotal: 28.1s\tremaining: 2.76s\n",
      "663:\tlearn: 0.9150740\ttotal: 28.2s\tremaining: 2.71s\n",
      "664:\tlearn: 0.9154274\ttotal: 28.2s\tremaining: 2.67s\n",
      "665:\tlearn: 0.9153638\ttotal: 28.3s\tremaining: 2.63s\n",
      "666:\tlearn: 0.9154768\ttotal: 28.3s\tremaining: 2.58s\n",
      "667:\tlearn: 0.9156677\ttotal: 28.3s\tremaining: 2.54s\n",
      "668:\tlearn: 0.9159573\ttotal: 28.4s\tremaining: 2.5s\n",
      "669:\tlearn: 0.9162613\ttotal: 28.4s\tremaining: 2.46s\n",
      "670:\tlearn: 0.9163742\ttotal: 28.4s\tremaining: 2.41s\n",
      "671:\tlearn: 0.9162613\ttotal: 28.5s\tremaining: 2.37s\n",
      "672:\tlearn: 0.9164379\ttotal: 28.5s\tremaining: 2.33s\n",
      "673:\tlearn: 0.9165016\ttotal: 28.6s\tremaining: 2.29s\n",
      "674:\tlearn: 0.9166435\ttotal: 28.6s\tremaining: 2.25s\n",
      "675:\tlearn: 0.9166435\ttotal: 28.6s\tremaining: 2.2s\n",
      "676:\tlearn: 0.9169969\ttotal: 28.7s\tremaining: 2.16s\n",
      "677:\tlearn: 0.9169969\ttotal: 28.7s\tremaining: 2.12s\n",
      "678:\tlearn: 0.9177035\ttotal: 28.8s\tremaining: 2.08s\n",
      "679:\tlearn: 0.9178801\ttotal: 28.8s\tremaining: 2.03s\n",
      "680:\tlearn: 0.9181695\ttotal: 28.8s\tremaining: 1.99s\n",
      "681:\tlearn: 0.9181695\ttotal: 28.9s\tremaining: 1.95s\n",
      "682:\tlearn: 0.9184099\ttotal: 28.9s\tremaining: 1.9s\n",
      "683:\tlearn: 0.9185376\ttotal: 28.9s\tremaining: 1.86s\n",
      "684:\tlearn: 0.9188269\ttotal: 29s\tremaining: 1.82s\n",
      "685:\tlearn: 0.9193078\ttotal: 29s\tremaining: 1.78s\n",
      "686:\tlearn: 0.9191463\ttotal: 29s\tremaining: 1.73s\n",
      "687:\tlearn: 0.9190335\ttotal: 29.1s\tremaining: 1.69s\n",
      "688:\tlearn: 0.9191614\ttotal: 29.1s\tremaining: 1.65s\n",
      "689:\tlearn: 0.9190975\ttotal: 29.2s\tremaining: 1.61s\n",
      "690:\tlearn: 0.9194507\ttotal: 29.2s\tremaining: 1.56s\n",
      "691:\tlearn: 0.9193380\ttotal: 29.2s\tremaining: 1.52s\n",
      "692:\tlearn: 0.9199805\ttotal: 29.3s\tremaining: 1.48s\n",
      "693:\tlearn: 0.9199805\ttotal: 29.3s\tremaining: 1.44s\n",
      "694:\tlearn: 0.9198679\ttotal: 29.3s\tremaining: 1.39s\n",
      "695:\tlearn: 0.9199319\ttotal: 29.4s\tremaining: 1.35s\n",
      "696:\tlearn: 0.9203337\ttotal: 29.4s\tremaining: 1.31s\n",
      "697:\tlearn: 0.9206713\ttotal: 29.5s\tremaining: 1.27s\n",
      "698:\tlearn: 0.9206228\ttotal: 29.5s\tremaining: 1.22s\n",
      "699:\tlearn: 0.9207508\ttotal: 29.5s\tremaining: 1.18s\n",
      "700:\tlearn: 0.9209603\ttotal: 29.6s\tremaining: 1.14s\n",
      "701:\tlearn: 0.9209603\ttotal: 29.6s\tremaining: 1.1s\n",
      "702:\tlearn: 0.9210243\ttotal: 29.7s\tremaining: 1.05s\n",
      "703:\tlearn: 0.9214896\ttotal: 29.7s\tremaining: 1.01s\n",
      "704:\tlearn: 0.9218110\ttotal: 29.7s\tremaining: 970ms\n",
      "705:\tlearn: 0.9217144\ttotal: 29.8s\tremaining: 928ms\n",
      "706:\tlearn: 0.9216503\ttotal: 29.8s\tremaining: 886ms\n",
      "707:\tlearn: 0.9218110\ttotal: 29.9s\tremaining: 843ms\n",
      "708:\tlearn: 0.9223881\ttotal: 29.9s\tremaining: 801ms\n",
      "709:\tlearn: 0.9226124\ttotal: 29.9s\tremaining: 759ms\n",
      "710:\tlearn: 0.9226765\ttotal: 30s\tremaining: 717ms\n",
      "711:\tlearn: 0.9229327\ttotal: 30s\tremaining: 674ms\n",
      "712:\tlearn: 0.9232372\ttotal: 30s\tremaining: 632ms\n",
      "713:\tlearn: 0.9238300\ttotal: 30.1s\tremaining: 590ms\n",
      "714:\tlearn: 0.9238942\ttotal: 30.1s\tremaining: 548ms\n",
      "715:\tlearn: 0.9241825\ttotal: 30.2s\tremaining: 505ms\n",
      "716:\tlearn: 0.9246304\ttotal: 30.2s\tremaining: 463ms\n",
      "717:\tlearn: 0.9248707\ttotal: 30.2s\tremaining: 421ms\n",
      "718:\tlearn: 0.9249349\ttotal: 30.3s\tremaining: 379ms\n",
      "719:\tlearn: 0.9248872\ttotal: 30.3s\tremaining: 337ms\n",
      "720:\tlearn: 0.9248872\ttotal: 30.3s\tremaining: 295ms\n",
      "721:\tlearn: 0.9249037\ttotal: 30.4s\tremaining: 252ms\n",
      "722:\tlearn: 0.9250156\ttotal: 30.4s\tremaining: 210ms\n",
      "723:\tlearn: 0.9251918\ttotal: 30.4s\tremaining: 168ms\n",
      "724:\tlearn: 0.9254156\ttotal: 30.5s\tremaining: 126ms\n",
      "725:\tlearn: 0.9255275\ttotal: 30.5s\tremaining: 84.1ms\n",
      "726:\tlearn: 0.9259439\ttotal: 30.6s\tremaining: 42ms\n",
      "727:\tlearn: 0.9258797\ttotal: 30.6s\tremaining: 0us\n",
      "              precision    recall  f1-score   support\n",
      "\n",
      "         0.0       0.79      0.76      0.78      1801\n",
      "         1.0       0.66      0.69      0.67      1187\n",
      "\n",
      "    accuracy                           0.73      2988\n",
      "   macro avg       0.72      0.73      0.73      2988\n",
      "weighted avg       0.74      0.73      0.74      2988\n",
      "\n"
     ]
    }
   ],
   "source": [
    "# params = {\n",
    "#     \"eval_metric\": \"F1\",\n",
    "#     \"iterations\": 540,\n",
    "#     \"learning_rate\": 0.05600598253724636,\n",
    "#     \"depth\": 5,\n",
    "#     \"l2_leaf_reg\": 2.7354592765759618,\n",
    "#     \"bagging_temperature\": 0.9181255609533875,\n",
    "#     \"border_count\": 66,\n",
    "#     \"grow_policy\": \"Depthwise\",\n",
    "#     \"random_state\": 42,\n",
    "#     \"min_data_in_leaf\": 55,\n",
    "# }\n",
    "\n",
    "params = {\n",
    "    \"eval_metric\": \"F1\",\n",
    "    \"iterations\": 728,\n",
    "    \"learning_rate\": 0.03552144451608845,\n",
    "    \"depth\": 7,\n",
    "    \"l2_leaf_reg\": 7.248667776169776,\n",
    "    \"bagging_temperature\": 0.5466127888413056,\n",
    "    \"border_count\": 94,\n",
    "    \"grow_policy\": \"Lossguide\",\n",
    "    \"min_data_in_leaf\": 13,\n",
    "    \"scale_pos_weight\": 1.5,\n",
    "    \"random_state\": 42,\n",
    "}\n",
    "\n",
    "cat_vt_final = CatBoostClassifier(**params, verbose=0)  # 0.724 -> 0.7297\n",
    "cat_vt_final.fit(X_train, y_train)\n",
    "print(classification_report(y_valid, cat_vt_final.predict(X_valid)))"
   ]
  },
  {
   "cell_type": "markdown",
   "metadata": {},
   "source": [
    "- RandomForestClassifier\n",
    "    - 성능 낮음"
   ]
  },
  {
   "cell_type": "code",
   "execution_count": null,
   "metadata": {},
   "outputs": [],
   "source": [
    "# params = {\n",
    "#     'n_estimators': {'type': 'int', 'min': 1000, 'max': 3000},\n",
    "#     'max_depth': {'type': 'int', 'min': 10, 'max': 30},\n",
    "#     'min_samples_split': {'type': 'int', 'min': 5, 'max': 10},\n",
    "#     'min_samples_leaf': {'type': 'int', 'min': 1, 'max': 5},\n",
    "#     'max_samples': {'type': 'float', 'min': 0.0, 'max': 1.0},\n",
    "#     'min_impurity_decrease': {'type': 'float', 'min': 0.0, 'max': 0.1},\n",
    "#     'random_state': {'type': 'int', 'min': 42, 'max': 42},\n",
    "#     'n_jobs': {'type': 'int', 'min': -1, 'max': -1},\n",
    "# }\n",
    "\n",
    "# rf_vt_tuner = HyperarameterTuner(RandomForestClassifier, params, train_vt, target)\n",
    "# rf_vt_tuner.optimize(50)\n",
    "# rf_vt_tuner.best_params(), rf_vt_tuner.best_score()"
   ]
  },
  {
   "cell_type": "markdown",
   "metadata": {},
   "source": [
    "- AdaBoostClassifier\n",
    "    - 시간 너무 오래걸림"
   ]
  },
  {
   "cell_type": "code",
   "execution_count": null,
   "metadata": {},
   "outputs": [],
   "source": [
    "# params = {\n",
    "#     'n_estimators': {'type': 'int', 'min': 50, 'max': 500},\n",
    "#     'learning_rate': {'type': 'float', 'min': 0.1, 'max': 2},\n",
    "#     'random_state': {'type': 'int', 'min': 42, 'max': 42},\n",
    "# }\n",
    "\n",
    "# ada_vt_tuner = HyperarameterTuner(AdaBoostClassifier, params, train_vt, target)\n",
    "# ada_vt_tuner.optimize(30)\n",
    "# ada_vt_tuner.best_params(), ada_vt_tuner.best_score()"
   ]
  },
  {
   "cell_type": "markdown",
   "metadata": {},
   "source": [
    "- HistGradientBoostingClassifier\n",
    "    - 성능 낮음"
   ]
  },
  {
   "cell_type": "code",
   "execution_count": null,
   "metadata": {},
   "outputs": [],
   "source": [
    "# params = {\n",
    "#     'learning_rate': {'type': 'float', 'min': 0.1, 'max': 0.2},\n",
    "#     'max_iter': {'type': 'int', 'min': 800, 'max': 2000},\n",
    "#     'max_leaf_nodes': {'type': 'categorical', 'values': [10, 50, None]},\n",
    "#     # 'max_depth': {'type': 'categorical', 'values': [None, 3, 5, 10, 20]},\n",
    "#     'min_samples_leaf': {'type': 'int', 'min': 15, 'max': 25},\n",
    "#     'l2_regularization': {'type': 'float', 'min': 0.4, 'max': 0.9},\n",
    "#     'scoring': {'type': 'categorical', 'values': ['f1']},\n",
    "#     'max_bins': {'type': 'int', 'min': 200, 'max': 255},\n",
    "#     'validation_fraction': {'type': 'float', 'min': 0.15, 'max': 0.25},\n",
    "#     'random_state': {'type': 'int', 'min': 42, 'max': 42},\n",
    "# }\n",
    "\n",
    "# hgb_vt_tuner = HyperarameterTuner(HistGradientBoostingClassifier, params, train_vt, target)\n",
    "# hgb_vt_tuner.optimize(30)\n",
    "# hgb_vt_tuner.best_params(), hgb_vt_tuner.best_score()"
   ]
  },
  {
   "cell_type": "markdown",
   "metadata": {},
   "source": [
    "- SVC\n",
    "    - 시간 너무 오래걸림"
   ]
  },
  {
   "cell_type": "code",
   "execution_count": null,
   "metadata": {},
   "outputs": [],
   "source": [
    "# params = {\n",
    "#     'kernel': {'type': 'categorical', 'values': ['rbf', 'linear']},\n",
    "#     'C': {'type': 'float', 'min': 0.1, 'max': 1.0},\n",
    "#     'random_state': {'type': 'int', 'min': 42, 'max': 42},\n",
    "# }\n",
    "\n",
    "# svc_vt_tuner = HyperarameterTuner(SVC, params, train_vt, target)\n",
    "# svc_vt_tuner.optimize(10)\n",
    "# svc_vt_tuner.best_params(), svc_vt_tuner.best_score()"
   ]
  },
  {
   "cell_type": "markdown",
   "metadata": {},
   "source": [
    "- StackingClassifier"
   ]
  },
  {
   "cell_type": "code",
   "execution_count": null,
   "metadata": {},
   "outputs": [
    {
     "data": {
      "text/plain": [
       "0.7295358767203985"
      ]
     },
     "execution_count": 335,
     "metadata": {},
     "output_type": "execute_result"
    }
   ],
   "source": [
    "estimators = [\n",
    "    ('lgbm', lgbm_vt_final),\n",
    "    ('cat', cat_vt_final),\n",
    "    ('xgb', xgb_vt_final),\n",
    "]\n",
    "\n",
    "final_estimator = LogisticRegression(random_state=SEED, n_jobs=-1)\n",
    "stacking_vt = StackingClassifier(estimators=estimators, final_estimator=final_estimator, cv=cv, n_jobs=-1)\n",
    "cross_val_score(stacking_vt, train_vt, target, cv=cv, scoring=\"f1_macro\", n_jobs=-1).mean() # 0.7287 -> 0.7295"
   ]
  },
  {
   "cell_type": "code",
   "execution_count": 336,
   "metadata": {},
   "outputs": [
    {
     "name": "stdout",
     "output_type": "stream",
     "text": [
      "              precision    recall  f1-score   support\n",
      "\n",
      "         0.0       0.77      0.81      0.79      1801\n",
      "         1.0       0.69      0.63      0.66      1187\n",
      "\n",
      "    accuracy                           0.74      2988\n",
      "   macro avg       0.73      0.72      0.73      2988\n",
      "weighted avg       0.74      0.74      0.74      2988\n",
      "\n"
     ]
    }
   ],
   "source": [
    "stacking_vt.fit(X_train, y_train)\n",
    "print(classification_report(y_valid, stacking_vt.predict(X_valid)))"
   ]
  },
  {
   "cell_type": "markdown",
   "metadata": {},
   "source": [
    "- VotingClassifier"
   ]
  },
  {
   "cell_type": "code",
   "execution_count": null,
   "metadata": {},
   "outputs": [],
   "source": [
    "# estimators = [\n",
    "#     ('lgbm', lgbm_vt_final),\n",
    "#     ('cat', cat_vt_final),\n",
    "#     ('xgb', xgb_vt_final),\n",
    "# ]\n",
    "\n",
    "# voting_vt = VotingClassifier(estimators=estimators, voting='soft', n_jobs=-1)\n",
    "# cross_val_score(voting_vt, train_vt, target, cv=cv, scoring='f1_macro', n_jobs=-1).mean()"
   ]
  },
  {
   "cell_type": "markdown",
   "metadata": {},
   "source": [
    "## 차원축소된 데이터에 대한 모델생성"
   ]
  },
  {
   "cell_type": "code",
   "execution_count": 358,
   "metadata": {},
   "outputs": [],
   "source": [
    "from sklearn.linear_model import SGDClassifier, LogisticRegression, RidgeClassifier\n",
    "from sklearn.svm import LinearSVC"
   ]
  },
  {
   "cell_type": "code",
   "execution_count": 359,
   "metadata": {},
   "outputs": [],
   "source": [
    "X_train, X_valid, y_train, y_valid = train_test_split(train_rfecv, target, test_size=0.2, random_state=SEED)"
   ]
  },
  {
   "cell_type": "markdown",
   "metadata": {},
   "source": [
    "- 기본모델에 대한 성능 확인"
   ]
  },
  {
   "cell_type": "code",
   "execution_count": null,
   "metadata": {},
   "outputs": [
    {
     "name": "stdout",
     "output_type": "stream",
     "text": [
      "SGDClassifier : 0.6984097267667186, 0.01970280897366988\n",
      "LogisticRegression : 0.7288994131457827, 0.005110187536742623\n",
      "RidgeClassifier : 0.7220134980676295, 0.006830968824943358\n",
      "LinearSVC : 0.7271889864479167, 0.00499620380531137\n",
      "LGBMClassifier : 0.7189856058560211, 0.00540141926799402\n",
      "XGBClassifier : 0.7074348588927493, 0.0038789908966738807\n",
      "CatBoostClassifier : 0.7225076847111153, 0.00609554562843036\n",
      "RandomForestClassifier : 0.6993876554972733, 0.007949568502893268\n",
      "HistGradientBoostingClassifier : 0.7144878852138861, 0.006563814066827357\n",
      "AdaBoostClassifier : 0.7078725125218777, 0.00829658339348885\n"
     ]
    }
   ],
   "source": [
    "# models = [\n",
    "#     SGDClassifier(random_state=SEED, n_jobs=-1),\n",
    "#     LogisticRegression(random_state=SEED, n_jobs=-1),\n",
    "#     RidgeClassifier(random_state=SEED),\n",
    "#     LinearSVC(random_state=SEED),\n",
    "#     LGBMClassifier(random_state=SEED, n_jobs=-1),\n",
    "#     XGBClassifier(random_state=SEED, n_jobs=-1),\n",
    "#     CatBoostClassifier(random_state=SEED, verbose=0),\n",
    "#     RandomForestClassifier(random_state=SEED, n_jobs=-1),\n",
    "#     HistGradientBoostingClassifier(random_state=SEED),\n",
    "#     AdaBoostClassifier(random_state=SEED),\n",
    "# ]\n",
    "\n",
    "# for model in models:\n",
    "#     scores = cross_val_score(model, train_rfecv, target, cv=cv, scoring=\"f1_macro\", n_jobs=-1)\n",
    "#     print(f\"{model.__class__.__name__} : {np.mean(scores)}, {np.std(scores)}\")"
   ]
  },
  {
   "cell_type": "markdown",
   "metadata": {},
   "source": [
    "- LogisticRegression"
   ]
  },
  {
   "cell_type": "code",
   "execution_count": null,
   "metadata": {},
   "outputs": [],
   "source": [
    "# params = {\n",
    "#     'penalty': {'type': 'categorical', 'values': ['l1', 'l2']},\n",
    "#     'C': {'type': 'float', 'min': 0.01, 'max': 10.0},\n",
    "#     'solver': {'type': 'categorical', 'values': ['liblinear', 'saga']},\n",
    "#     'max_iter': {'type': 'int', 'min': 100, 'max': 1000},\n",
    "#     'tol': {'type': 'float', 'min': 1e-5, 'max': 1e-3},\n",
    "#     'class_weight': {'type': 'categorical', 'values': ['balanced']},\n",
    "#     'random_state': {'type': 'int', 'min': 42, 'max': 42},\n",
    "# }\n",
    "\n",
    "# lr_rfecv_tuner = HyperarameterTuner(LogisticRegression, params, train_rfecv, target)\n",
    "# lr_rfecv_tuner.optimize(50)\n",
    "# lr_rfecv_tuner.best_params(), lr_rfecv_tuner.best_score()"
   ]
  },
  {
   "cell_type": "code",
   "execution_count": 360,
   "metadata": {},
   "outputs": [
    {
     "name": "stdout",
     "output_type": "stream",
     "text": [
      "              precision    recall  f1-score   support\n",
      "\n",
      "         0.0       0.81      0.71      0.76      1801\n",
      "         1.0       0.63      0.75      0.69      1187\n",
      "\n",
      "    accuracy                           0.73      2988\n",
      "   macro avg       0.72      0.73      0.72      2988\n",
      "weighted avg       0.74      0.73      0.73      2988\n",
      "\n"
     ]
    }
   ],
   "source": [
    "# params = {\n",
    "#     \"penalty\": \"l2\",\n",
    "#     \"C\": 6.540256120539682,\n",
    "#     \"solver\": \"liblinear\",\n",
    "#     \"max_iter\": 361,\n",
    "#     \"tol\": 0.00023092487486132545,\n",
    "#     \"class_weight\": None,\n",
    "#     \"random_state\": 42,\n",
    "# }\n",
    "\n",
    "params = {\n",
    "    \"penalty\": \"l1\",\n",
    "    \"C\": 0.9009814576647523,\n",
    "    \"solver\": \"liblinear\",\n",
    "    \"max_iter\": 777,\n",
    "    \"tol\": 0.000180003730892121,\n",
    "    \"class_weight\": \"balanced\",\n",
    "    \"random_state\": 42,\n",
    "}\n",
    "\n",
    "lr_rfecv_final = LogisticRegression(**params)  # 0.7297 -> 0.7292\n",
    "lr_rfecv_final.fit(X_train, y_train)\n",
    "print(classification_report(y_valid, lr_rfecv_final.predict(X_valid)))"
   ]
  },
  {
   "cell_type": "markdown",
   "metadata": {},
   "source": [
    "- LinearSVC"
   ]
  },
  {
   "cell_type": "code",
   "execution_count": null,
   "metadata": {},
   "outputs": [],
   "source": [
    "# params = {\n",
    "#     'C': {'type': 'float', 'min': 0.01, 'max': 10.0},\n",
    "#     'penalty': {'type': 'categorical', 'values': ['l1', 'l2']},\n",
    "#     'loss': {'type': 'categorical', 'values': ['squared_hinge']},\n",
    "#     'dual': {'type': 'categorical', 'values': [False]},\n",
    "#     'tol': {'type': 'float', 'min': 1e-5, 'max': 1e-3},\n",
    "#     'max_iter': {'type': 'int', 'min': 1000, 'max': 5000},\n",
    "#     'class_weight': {'type': 'categorical', 'values': ['balanced']},\n",
    "#     'random_state': {'type': 'int', 'min': 42, 'max': 42},\n",
    "# }\n",
    "\n",
    "# lsvc_rfecv_tuner = HyperarameterTuner(LinearSVC, params, train_rfecv, target)\n",
    "# lsvc_rfecv_tuner.optimize(50)\n",
    "# lsvc_rfecv_tuner.best_params(), lsvc_rfecv_tuner.best_score()"
   ]
  },
  {
   "cell_type": "code",
   "execution_count": 361,
   "metadata": {},
   "outputs": [
    {
     "name": "stdout",
     "output_type": "stream",
     "text": [
      "              precision    recall  f1-score   support\n",
      "\n",
      "         0.0       0.81      0.71      0.76      1801\n",
      "         1.0       0.63      0.75      0.69      1187\n",
      "\n",
      "    accuracy                           0.73      2988\n",
      "   macro avg       0.72      0.73      0.72      2988\n",
      "weighted avg       0.74      0.73      0.73      2988\n",
      "\n"
     ]
    }
   ],
   "source": [
    "# params = {\n",
    "#     \"C\": 1.5272096229761107,\n",
    "#     \"penalty\": \"l1\",\n",
    "#     \"loss\": \"squared_hinge\",\n",
    "#     \"dual\": False,\n",
    "#     \"tol\": 0.0006972184861202209,\n",
    "#     \"max_iter\": 4743,\n",
    "#     \"random_state\": 42,\n",
    "# }\n",
    "\n",
    "params = {\n",
    "    \"C\": 6.2430613151701415,\n",
    "    \"penalty\": \"l1\",\n",
    "    \"loss\": \"squared_hinge\",\n",
    "    \"dual\": False,\n",
    "    \"tol\": 0.0004462711899132743,\n",
    "    \"max_iter\": 2095,\n",
    "    \"class_weight\": \"balanced\",\n",
    "    \"random_state\": 42,\n",
    "}\n",
    "\n",
    "lsvc_rfecv_final = LinearSVC(**params)  # 0.7277 -> 0.7280\n",
    "lsvc_rfecv_final.fit(X_train, y_train)\n",
    "print(classification_report(y_valid, lsvc_rfecv_final.predict(X_valid)))"
   ]
  },
  {
   "cell_type": "markdown",
   "metadata": {},
   "source": [
    "- SGDClassifier"
   ]
  },
  {
   "cell_type": "code",
   "execution_count": null,
   "metadata": {},
   "outputs": [],
   "source": [
    "# params = {\n",
    "#     'loss': {'type': 'categorical', 'values': ['hinge', 'log_loss', 'modified_huber', 'squared_hinge', 'perceptron']},\n",
    "#     'penalty': {'type': 'categorical', 'values': ['l1', 'l2']},\n",
    "#     'alpha': {'type': 'float', 'min': 1e-6, 'max': 1e-2},\n",
    "#     'l1_ratio': {'type': 'float', 'min': 0.1, 'max': 0.9},\n",
    "#     'learning_rate': {'type': 'categorical', 'values': ['constant', 'optimal', 'invscaling', 'adaptive']},\n",
    "#     'eta0': {'type': 'float', 'min': 1e-4, 'max': 1e-1},\n",
    "#     'max_iter': {'type': 'int', 'min': 100, 'max': 5000},\n",
    "#     'tol': {'type': 'float', 'min': 1e-5, 'max': 1e-3},\n",
    "#     'class_weight': {'type': 'categorical', 'values': ['balanced']},\n",
    "#     'random_state': {'type': 'int', 'min': 42, 'max': 42},\n",
    "# }\n",
    "\n",
    "# sgd_rfecv_tuner = HyperarameterTuner(SGDClassifier, params, train_rfecv, target)\n",
    "# sgd_rfecv_tuner.optimize(50)\n",
    "# sgd_rfecv_tuner.best_params(), sgd_rfecv_tuner.best_score()"
   ]
  },
  {
   "cell_type": "code",
   "execution_count": 362,
   "metadata": {},
   "outputs": [
    {
     "name": "stdout",
     "output_type": "stream",
     "text": [
      "              precision    recall  f1-score   support\n",
      "\n",
      "         0.0       0.81      0.71      0.76      1801\n",
      "         1.0       0.63      0.76      0.69      1187\n",
      "\n",
      "    accuracy                           0.73      2988\n",
      "   macro avg       0.72      0.73      0.72      2988\n",
      "weighted avg       0.74      0.73      0.73      2988\n",
      "\n"
     ]
    }
   ],
   "source": [
    "# params = {\n",
    "#     \"loss\": \"log_loss\",\n",
    "#     \"penalty\": \"l2\",\n",
    "#     \"alpha\": 0.0018921000952600736,\n",
    "#     \"l1_ratio\": 0.10629378600399762,\n",
    "#     \"learning_rate\": \"adaptive\",\n",
    "#     \"eta0\": 0.051809367829207274,\n",
    "#     \"max_iter\": 2448,\n",
    "#     \"tol\": 0.00019488583283445396,\n",
    "#     \"random_state\": 42,\n",
    "# }\n",
    "\n",
    "params = {\n",
    "    \"loss\": \"modified_huber\",\n",
    "    \"penalty\": \"l2\",\n",
    "    \"alpha\": 0.003027216973071361,\n",
    "    \"l1_ratio\": 0.6482941900747266,\n",
    "    \"learning_rate\": \"adaptive\",\n",
    "    \"eta0\": 0.01883232969699258,\n",
    "    \"max_iter\": 4438,\n",
    "    \"tol\": 0.0004324328190978092,\n",
    "    \"class_weight\": \"balanced\",\n",
    "    \"random_state\": 42,\n",
    "}\n",
    "\n",
    "sgd_rfecv_final = SGDClassifier(**params, n_jobs=-1)  # 0.7294 -> 0.7284\n",
    "sgd_rfecv_final.fit(X_train, y_train)\n",
    "print(classification_report(y_valid, sgd_rfecv_final.predict(X_valid)))"
   ]
  },
  {
   "cell_type": "markdown",
   "metadata": {},
   "source": [
    "- RidgeClassifier"
   ]
  },
  {
   "cell_type": "code",
   "execution_count": null,
   "metadata": {},
   "outputs": [],
   "source": [
    "# params = {\n",
    "#     'alpha': {'type': 'float', 'min': 1e-4, 'max': 100},\n",
    "#     'solver': {'type': 'categorical', 'values': ['auto']},\n",
    "#     'fit_intercept': {'type': 'categorical', 'values': [True, False]},\n",
    "#     'random_state': {'type': 'int', 'min': 42, 'max': 42},\n",
    "# }\n",
    "\n",
    "# ridge_rfecv_tuner = HyperarameterTuner(RidgeClassifier, params, train_rfecv, target)\n",
    "# ridge_rfecv_tuner.optimize(50)\n",
    "# ridge_rfecv_tuner.best_params(), ridge_rfecv_tuner.best_score()"
   ]
  },
  {
   "cell_type": "code",
   "execution_count": null,
   "metadata": {},
   "outputs": [],
   "source": [
    "# params = {\n",
    "#     \"alpha\": 80.82766313870037,\n",
    "#     \"solver\": \"auto\",\n",
    "#     \"fit_intercept\": True,\n",
    "#     \"random_state\": 42,\n",
    "# }\n",
    "\n",
    "# ridge_rfecv_final = RidgeClassifier(**params)"
   ]
  },
  {
   "cell_type": "markdown",
   "metadata": {},
   "source": [
    "- LGBMClassifier"
   ]
  },
  {
   "cell_type": "code",
   "execution_count": null,
   "metadata": {},
   "outputs": [],
   "source": [
    "# params = {\n",
    "#     \"objective\": {\"type\": \"categorical\", \"values\": [\"binary\"]},\n",
    "#     \"num_iterations\": {\"type\": \"int\", \"min\": 100, \"max\": 1000},\n",
    "#     \"num_leaves\": {\"type\": \"int\", \"min\": 31, \"max\": 128},\n",
    "#     \"force_col_wise\": {\"type\": \"categorical\", \"values\": [True]},\n",
    "#     \"max_depth\": {\"type\": \"int\", \"min\": 3, \"max\": 20},\n",
    "#     \"learning_rate\": {\"type\": \"float\", \"min\": 0.01, \"max\": 0.1},\n",
    "#     \"min_data_in_leaf\": {\"type\": \"int\", \"min\": 10, \"max\": 100},\n",
    "#     'scale_pos_weight': {'type': 'float', 'min': 1.5, 'max': 1.5},\n",
    "#     \"random_state\": {\"type\": \"int\", \"min\": 42, \"max\": 42},\n",
    "#     \"n_jobs\": {\"type\": \"int\", \"min\": -1, \"max\": -1},\n",
    "# }\n",
    "\n",
    "# lgbm_rfecv_tuner = HyperarameterTuner(LGBMClassifier, params, train_rfecv, target)\n",
    "# lgbm_rfecv_tuner.optimize(50)\n",
    "# lgbm_rfecv_tuner.best_params(), lgbm_rfecv_tuner.best_score()"
   ]
  },
  {
   "cell_type": "code",
   "execution_count": 375,
   "metadata": {},
   "outputs": [
    {
     "name": "stdout",
     "output_type": "stream",
     "text": [
      "[LightGBM] [Warning] No further splits with positive gain, best gain: -inf\n",
      "[LightGBM] [Warning] No further splits with positive gain, best gain: -inf\n",
      "[LightGBM] [Warning] No further splits with positive gain, best gain: -inf\n",
      "[LightGBM] [Warning] No further splits with positive gain, best gain: -inf\n",
      "[LightGBM] [Warning] No further splits with positive gain, best gain: -inf\n",
      "[LightGBM] [Warning] No further splits with positive gain, best gain: -inf\n",
      "[LightGBM] [Warning] No further splits with positive gain, best gain: -inf\n",
      "[LightGBM] [Warning] No further splits with positive gain, best gain: -inf\n",
      "[LightGBM] [Warning] No further splits with positive gain, best gain: -inf\n",
      "[LightGBM] [Warning] No further splits with positive gain, best gain: -inf\n",
      "[LightGBM] [Warning] No further splits with positive gain, best gain: -inf\n",
      "[LightGBM] [Warning] No further splits with positive gain, best gain: -inf\n",
      "[LightGBM] [Warning] No further splits with positive gain, best gain: -inf\n",
      "[LightGBM] [Warning] No further splits with positive gain, best gain: -inf\n",
      "[LightGBM] [Warning] No further splits with positive gain, best gain: -inf\n",
      "[LightGBM] [Warning] No further splits with positive gain, best gain: -inf\n",
      "[LightGBM] [Warning] No further splits with positive gain, best gain: -inf\n",
      "[LightGBM] [Warning] No further splits with positive gain, best gain: -inf\n",
      "[LightGBM] [Warning] No further splits with positive gain, best gain: -inf\n",
      "[LightGBM] [Warning] No further splits with positive gain, best gain: -inf\n",
      "[LightGBM] [Warning] No further splits with positive gain, best gain: -inf\n",
      "[LightGBM] [Warning] No further splits with positive gain, best gain: -inf\n",
      "[LightGBM] [Warning] No further splits with positive gain, best gain: -inf\n",
      "[LightGBM] [Warning] No further splits with positive gain, best gain: -inf\n",
      "[LightGBM] [Warning] No further splits with positive gain, best gain: -inf\n",
      "[LightGBM] [Warning] No further splits with positive gain, best gain: -inf\n",
      "[LightGBM] [Warning] No further splits with positive gain, best gain: -inf\n",
      "[LightGBM] [Warning] No further splits with positive gain, best gain: -inf\n",
      "[LightGBM] [Warning] No further splits with positive gain, best gain: -inf\n",
      "[LightGBM] [Warning] No further splits with positive gain, best gain: -inf\n",
      "[LightGBM] [Warning] No further splits with positive gain, best gain: -inf\n",
      "[LightGBM] [Warning] No further splits with positive gain, best gain: -inf\n",
      "[LightGBM] [Warning] No further splits with positive gain, best gain: -inf\n",
      "[LightGBM] [Warning] No further splits with positive gain, best gain: -inf\n",
      "[LightGBM] [Warning] No further splits with positive gain, best gain: -inf\n",
      "[LightGBM] [Warning] No further splits with positive gain, best gain: -inf\n",
      "[LightGBM] [Warning] No further splits with positive gain, best gain: -inf\n",
      "[LightGBM] [Warning] No further splits with positive gain, best gain: -inf\n",
      "[LightGBM] [Warning] No further splits with positive gain, best gain: -inf\n",
      "[LightGBM] [Warning] No further splits with positive gain, best gain: -inf\n",
      "[LightGBM] [Warning] No further splits with positive gain, best gain: -inf\n",
      "[LightGBM] [Warning] No further splits with positive gain, best gain: -inf\n",
      "[LightGBM] [Warning] No further splits with positive gain, best gain: -inf\n",
      "[LightGBM] [Warning] No further splits with positive gain, best gain: -inf\n",
      "[LightGBM] [Warning] No further splits with positive gain, best gain: -inf\n",
      "[LightGBM] [Warning] No further splits with positive gain, best gain: -inf\n",
      "[LightGBM] [Warning] No further splits with positive gain, best gain: -inf\n",
      "[LightGBM] [Warning] No further splits with positive gain, best gain: -inf\n",
      "[LightGBM] [Warning] No further splits with positive gain, best gain: -inf\n",
      "[LightGBM] [Warning] No further splits with positive gain, best gain: -inf\n",
      "[LightGBM] [Warning] No further splits with positive gain, best gain: -inf\n",
      "[LightGBM] [Warning] No further splits with positive gain, best gain: -inf\n",
      "[LightGBM] [Warning] No further splits with positive gain, best gain: -inf\n",
      "[LightGBM] [Warning] No further splits with positive gain, best gain: -inf\n",
      "[LightGBM] [Warning] No further splits with positive gain, best gain: -inf\n",
      "[LightGBM] [Warning] No further splits with positive gain, best gain: -inf\n",
      "[LightGBM] [Warning] No further splits with positive gain, best gain: -inf\n",
      "[LightGBM] [Warning] No further splits with positive gain, best gain: -inf\n",
      "[LightGBM] [Warning] No further splits with positive gain, best gain: -inf\n",
      "[LightGBM] [Warning] No further splits with positive gain, best gain: -inf\n",
      "[LightGBM] [Warning] No further splits with positive gain, best gain: -inf\n",
      "[LightGBM] [Warning] No further splits with positive gain, best gain: -inf\n",
      "[LightGBM] [Warning] No further splits with positive gain, best gain: -inf\n",
      "[LightGBM] [Warning] No further splits with positive gain, best gain: -inf\n",
      "[LightGBM] [Warning] No further splits with positive gain, best gain: -inf\n",
      "[LightGBM] [Warning] No further splits with positive gain, best gain: -inf\n",
      "[LightGBM] [Warning] No further splits with positive gain, best gain: -inf\n",
      "[LightGBM] [Warning] No further splits with positive gain, best gain: -inf\n",
      "[LightGBM] [Warning] No further splits with positive gain, best gain: -inf\n",
      "[LightGBM] [Warning] No further splits with positive gain, best gain: -inf\n",
      "[LightGBM] [Warning] No further splits with positive gain, best gain: -inf\n",
      "[LightGBM] [Warning] No further splits with positive gain, best gain: -inf\n",
      "[LightGBM] [Warning] No further splits with positive gain, best gain: -inf\n",
      "[LightGBM] [Warning] No further splits with positive gain, best gain: -inf\n",
      "[LightGBM] [Warning] No further splits with positive gain, best gain: -inf\n",
      "[LightGBM] [Warning] No further splits with positive gain, best gain: -inf\n",
      "[LightGBM] [Warning] No further splits with positive gain, best gain: -inf\n",
      "[LightGBM] [Warning] No further splits with positive gain, best gain: -inf\n",
      "[LightGBM] [Warning] No further splits with positive gain, best gain: -inf\n",
      "[LightGBM] [Warning] No further splits with positive gain, best gain: -inf\n",
      "[LightGBM] [Warning] No further splits with positive gain, best gain: -inf\n",
      "[LightGBM] [Warning] No further splits with positive gain, best gain: -inf\n",
      "[LightGBM] [Warning] No further splits with positive gain, best gain: -inf\n",
      "[LightGBM] [Warning] No further splits with positive gain, best gain: -inf\n",
      "[LightGBM] [Warning] No further splits with positive gain, best gain: -inf\n",
      "[LightGBM] [Warning] No further splits with positive gain, best gain: -inf\n",
      "[LightGBM] [Warning] No further splits with positive gain, best gain: -inf\n",
      "[LightGBM] [Warning] No further splits with positive gain, best gain: -inf\n",
      "[LightGBM] [Warning] No further splits with positive gain, best gain: -inf\n",
      "[LightGBM] [Warning] No further splits with positive gain, best gain: -inf\n",
      "[LightGBM] [Warning] No further splits with positive gain, best gain: -inf\n",
      "[LightGBM] [Warning] No further splits with positive gain, best gain: -inf\n",
      "[LightGBM] [Warning] No further splits with positive gain, best gain: -inf\n",
      "[LightGBM] [Warning] No further splits with positive gain, best gain: -inf\n",
      "[LightGBM] [Warning] No further splits with positive gain, best gain: -inf\n",
      "[LightGBM] [Warning] No further splits with positive gain, best gain: -inf\n",
      "[LightGBM] [Warning] No further splits with positive gain, best gain: -inf\n",
      "[LightGBM] [Warning] No further splits with positive gain, best gain: -inf\n",
      "[LightGBM] [Warning] No further splits with positive gain, best gain: -inf\n",
      "[LightGBM] [Warning] No further splits with positive gain, best gain: -inf\n",
      "[LightGBM] [Warning] No further splits with positive gain, best gain: -inf\n",
      "[LightGBM] [Warning] No further splits with positive gain, best gain: -inf\n",
      "[LightGBM] [Warning] No further splits with positive gain, best gain: -inf\n",
      "[LightGBM] [Warning] No further splits with positive gain, best gain: -inf\n",
      "[LightGBM] [Warning] No further splits with positive gain, best gain: -inf\n",
      "[LightGBM] [Warning] No further splits with positive gain, best gain: -inf\n",
      "[LightGBM] [Warning] No further splits with positive gain, best gain: -inf\n",
      "[LightGBM] [Warning] No further splits with positive gain, best gain: -inf\n",
      "[LightGBM] [Warning] No further splits with positive gain, best gain: -inf\n",
      "[LightGBM] [Warning] No further splits with positive gain, best gain: -inf\n",
      "[LightGBM] [Warning] No further splits with positive gain, best gain: -inf\n",
      "[LightGBM] [Warning] No further splits with positive gain, best gain: -inf\n",
      "[LightGBM] [Warning] No further splits with positive gain, best gain: -inf\n",
      "[LightGBM] [Warning] No further splits with positive gain, best gain: -inf\n",
      "[LightGBM] [Warning] No further splits with positive gain, best gain: -inf\n",
      "[LightGBM] [Warning] No further splits with positive gain, best gain: -inf\n",
      "[LightGBM] [Warning] No further splits with positive gain, best gain: -inf\n",
      "[LightGBM] [Warning] No further splits with positive gain, best gain: -inf\n",
      "[LightGBM] [Warning] No further splits with positive gain, best gain: -inf\n",
      "[LightGBM] [Warning] No further splits with positive gain, best gain: -inf\n",
      "[LightGBM] [Warning] No further splits with positive gain, best gain: -inf\n",
      "[LightGBM] [Warning] No further splits with positive gain, best gain: -inf\n",
      "[LightGBM] [Warning] No further splits with positive gain, best gain: -inf\n",
      "[LightGBM] [Warning] No further splits with positive gain, best gain: -inf\n",
      "[LightGBM] [Warning] No further splits with positive gain, best gain: -inf\n",
      "[LightGBM] [Warning] No further splits with positive gain, best gain: -inf\n",
      "[LightGBM] [Warning] No further splits with positive gain, best gain: -inf\n",
      "[LightGBM] [Warning] No further splits with positive gain, best gain: -inf\n",
      "[LightGBM] [Warning] No further splits with positive gain, best gain: -inf\n",
      "[LightGBM] [Warning] No further splits with positive gain, best gain: -inf\n",
      "[LightGBM] [Warning] No further splits with positive gain, best gain: -inf\n",
      "[LightGBM] [Warning] No further splits with positive gain, best gain: -inf\n",
      "[LightGBM] [Warning] No further splits with positive gain, best gain: -inf\n",
      "[LightGBM] [Warning] No further splits with positive gain, best gain: -inf\n",
      "[LightGBM] [Warning] No further splits with positive gain, best gain: -inf\n",
      "[LightGBM] [Warning] No further splits with positive gain, best gain: -inf\n",
      "[LightGBM] [Warning] No further splits with positive gain, best gain: -inf\n",
      "[LightGBM] [Warning] No further splits with positive gain, best gain: -inf\n",
      "[LightGBM] [Warning] No further splits with positive gain, best gain: -inf\n",
      "[LightGBM] [Warning] No further splits with positive gain, best gain: -inf\n",
      "[LightGBM] [Warning] No further splits with positive gain, best gain: -inf\n",
      "[LightGBM] [Warning] No further splits with positive gain, best gain: -inf\n",
      "[LightGBM] [Warning] No further splits with positive gain, best gain: -inf\n",
      "[LightGBM] [Warning] No further splits with positive gain, best gain: -inf\n",
      "[LightGBM] [Warning] No further splits with positive gain, best gain: -inf\n",
      "[LightGBM] [Warning] No further splits with positive gain, best gain: -inf\n",
      "[LightGBM] [Warning] No further splits with positive gain, best gain: -inf\n",
      "[LightGBM] [Warning] No further splits with positive gain, best gain: -inf\n",
      "[LightGBM] [Warning] No further splits with positive gain, best gain: -inf\n",
      "[LightGBM] [Warning] No further splits with positive gain, best gain: -inf\n",
      "[LightGBM] [Warning] No further splits with positive gain, best gain: -inf\n",
      "[LightGBM] [Warning] No further splits with positive gain, best gain: -inf\n",
      "[LightGBM] [Warning] No further splits with positive gain, best gain: -inf\n",
      "[LightGBM] [Warning] No further splits with positive gain, best gain: -inf\n",
      "[LightGBM] [Warning] No further splits with positive gain, best gain: -inf\n",
      "[LightGBM] [Warning] No further splits with positive gain, best gain: -inf\n",
      "[LightGBM] [Warning] No further splits with positive gain, best gain: -inf\n",
      "[LightGBM] [Warning] No further splits with positive gain, best gain: -inf\n",
      "[LightGBM] [Warning] No further splits with positive gain, best gain: -inf\n",
      "[LightGBM] [Warning] No further splits with positive gain, best gain: -inf\n",
      "[LightGBM] [Warning] No further splits with positive gain, best gain: -inf\n",
      "[LightGBM] [Warning] No further splits with positive gain, best gain: -inf\n",
      "[LightGBM] [Warning] No further splits with positive gain, best gain: -inf\n",
      "[LightGBM] [Warning] No further splits with positive gain, best gain: -inf\n",
      "[LightGBM] [Warning] No further splits with positive gain, best gain: -inf\n",
      "[LightGBM] [Warning] No further splits with positive gain, best gain: -inf\n",
      "[LightGBM] [Warning] No further splits with positive gain, best gain: -inf\n",
      "[LightGBM] [Warning] No further splits with positive gain, best gain: -inf\n",
      "[LightGBM] [Warning] No further splits with positive gain, best gain: -inf\n",
      "[LightGBM] [Warning] No further splits with positive gain, best gain: -inf\n",
      "[LightGBM] [Warning] No further splits with positive gain, best gain: -inf\n",
      "[LightGBM] [Warning] No further splits with positive gain, best gain: -inf\n",
      "[LightGBM] [Warning] No further splits with positive gain, best gain: -inf\n",
      "[LightGBM] [Warning] No further splits with positive gain, best gain: -inf\n",
      "[LightGBM] [Warning] No further splits with positive gain, best gain: -inf\n",
      "[LightGBM] [Warning] No further splits with positive gain, best gain: -inf\n",
      "[LightGBM] [Warning] No further splits with positive gain, best gain: -inf\n",
      "[LightGBM] [Warning] No further splits with positive gain, best gain: -inf\n",
      "[LightGBM] [Warning] No further splits with positive gain, best gain: -inf\n",
      "[LightGBM] [Warning] No further splits with positive gain, best gain: -inf\n",
      "[LightGBM] [Warning] No further splits with positive gain, best gain: -inf\n",
      "[LightGBM] [Warning] No further splits with positive gain, best gain: -inf\n",
      "[LightGBM] [Warning] No further splits with positive gain, best gain: -inf\n",
      "[LightGBM] [Warning] No further splits with positive gain, best gain: -inf\n",
      "[LightGBM] [Warning] No further splits with positive gain, best gain: -inf\n",
      "[LightGBM] [Warning] No further splits with positive gain, best gain: -inf\n",
      "[LightGBM] [Warning] No further splits with positive gain, best gain: -inf\n",
      "[LightGBM] [Warning] No further splits with positive gain, best gain: -inf\n",
      "[LightGBM] [Warning] No further splits with positive gain, best gain: -inf\n",
      "[LightGBM] [Warning] No further splits with positive gain, best gain: -inf\n",
      "[LightGBM] [Warning] No further splits with positive gain, best gain: -inf\n",
      "[LightGBM] [Warning] No further splits with positive gain, best gain: -inf\n",
      "[LightGBM] [Warning] No further splits with positive gain, best gain: -inf\n",
      "[LightGBM] [Warning] No further splits with positive gain, best gain: -inf\n",
      "[LightGBM] [Warning] No further splits with positive gain, best gain: -inf\n",
      "[LightGBM] [Warning] No further splits with positive gain, best gain: -inf\n",
      "[LightGBM] [Warning] No further splits with positive gain, best gain: -inf\n",
      "[LightGBM] [Warning] No further splits with positive gain, best gain: -inf\n",
      "[LightGBM] [Warning] No further splits with positive gain, best gain: -inf\n",
      "[LightGBM] [Warning] No further splits with positive gain, best gain: -inf\n",
      "[LightGBM] [Warning] No further splits with positive gain, best gain: -inf\n",
      "[LightGBM] [Warning] No further splits with positive gain, best gain: -inf\n",
      "[LightGBM] [Warning] No further splits with positive gain, best gain: -inf\n",
      "[LightGBM] [Warning] No further splits with positive gain, best gain: -inf\n",
      "[LightGBM] [Warning] No further splits with positive gain, best gain: -inf\n",
      "[LightGBM] [Warning] No further splits with positive gain, best gain: -inf\n",
      "[LightGBM] [Warning] No further splits with positive gain, best gain: -inf\n",
      "[LightGBM] [Warning] No further splits with positive gain, best gain: -inf\n",
      "[LightGBM] [Warning] No further splits with positive gain, best gain: -inf\n",
      "[LightGBM] [Warning] No further splits with positive gain, best gain: -inf\n",
      "[LightGBM] [Warning] No further splits with positive gain, best gain: -inf\n",
      "[LightGBM] [Warning] No further splits with positive gain, best gain: -inf\n",
      "[LightGBM] [Warning] No further splits with positive gain, best gain: -inf\n",
      "[LightGBM] [Warning] No further splits with positive gain, best gain: -inf\n",
      "[LightGBM] [Warning] No further splits with positive gain, best gain: -inf\n",
      "[LightGBM] [Warning] No further splits with positive gain, best gain: -inf\n",
      "[LightGBM] [Warning] No further splits with positive gain, best gain: -inf\n",
      "[LightGBM] [Warning] No further splits with positive gain, best gain: -inf\n",
      "[LightGBM] [Warning] No further splits with positive gain, best gain: -inf\n",
      "[LightGBM] [Warning] No further splits with positive gain, best gain: -inf\n",
      "[LightGBM] [Warning] No further splits with positive gain, best gain: -inf\n",
      "[LightGBM] [Warning] No further splits with positive gain, best gain: -inf\n",
      "[LightGBM] [Warning] No further splits with positive gain, best gain: -inf\n",
      "[LightGBM] [Warning] No further splits with positive gain, best gain: -inf\n",
      "[LightGBM] [Warning] No further splits with positive gain, best gain: -inf\n",
      "[LightGBM] [Warning] No further splits with positive gain, best gain: -inf\n",
      "[LightGBM] [Warning] No further splits with positive gain, best gain: -inf\n",
      "[LightGBM] [Warning] No further splits with positive gain, best gain: -inf\n",
      "[LightGBM] [Warning] No further splits with positive gain, best gain: -inf\n",
      "[LightGBM] [Warning] No further splits with positive gain, best gain: -inf\n",
      "[LightGBM] [Warning] No further splits with positive gain, best gain: -inf\n",
      "[LightGBM] [Warning] No further splits with positive gain, best gain: -inf\n",
      "[LightGBM] [Warning] No further splits with positive gain, best gain: -inf\n",
      "[LightGBM] [Warning] No further splits with positive gain, best gain: -inf\n",
      "[LightGBM] [Warning] No further splits with positive gain, best gain: -inf\n",
      "[LightGBM] [Warning] No further splits with positive gain, best gain: -inf\n",
      "              precision    recall  f1-score   support\n",
      "\n",
      "         0.0       0.79      0.76      0.77      1801\n",
      "         1.0       0.65      0.70      0.67      1187\n",
      "\n",
      "    accuracy                           0.73      2988\n",
      "   macro avg       0.72      0.73      0.72      2988\n",
      "weighted avg       0.74      0.73      0.73      2988\n",
      "\n"
     ]
    }
   ],
   "source": [
    "# params = {\n",
    "#     \"objective\": \"binary\",\n",
    "#     \"num_iterations\": 750,\n",
    "#     \"num_leaves\": 68,\n",
    "#     \"force_col_wise\": True,\n",
    "#     \"max_depth\": 11,\n",
    "#     \"learning_rate\": 0.022031234224016864,\n",
    "#     \"n_estimators\": 604,\n",
    "#     \"min_data_in_leaf\": 49,\n",
    "#     \"random_state\": 42,\n",
    "#     \"n_jobs\": -1,\n",
    "# }\n",
    "\n",
    "params = {\n",
    "    \"objective\": \"binary\",\n",
    "    \"n_estimators\": 435,\n",
    "    \"num_leaves\": 64,\n",
    "    \"force_col_wise\": True,\n",
    "    \"max_depth\": 14,\n",
    "    \"learning_rate\": 0.02106599014877994,\n",
    "    \"min_child_samples\": 90,\n",
    "    \"scale_pos_weight\": 1.5,\n",
    "    \"random_state\": 42,\n",
    "    \"n_jobs\": -1,\n",
    "}\n",
    "\n",
    "lgbm_rfecv_final = LGBMClassifier(**params)  # 0.7227 -> 0.7291\n",
    "lgbm_rfecv_final.fit(X_train, y_train)\n",
    "print(classification_report(y_valid, lgbm_rfecv_final.predict(X_valid)))"
   ]
  },
  {
   "cell_type": "markdown",
   "metadata": {},
   "source": [
    "- CatBoost"
   ]
  },
  {
   "cell_type": "code",
   "execution_count": null,
   "metadata": {},
   "outputs": [],
   "source": [
    "# params = {\n",
    "#     'eval_metric': {'type': 'categorical', 'values': ['F1']},\n",
    "#     'iterations': {'type': 'int', 'min': 200, 'max': 800},\n",
    "#     'learning_rate': {'type': 'float', 'min': 0.01, 'max': 0.3},\n",
    "#     'depth': {'type': 'int', 'min': 4, 'max': 10},\n",
    "#     'l2_leaf_reg': {'type': 'float', 'min': 1, 'max': 10},\n",
    "#     'bagging_temperature': {'type': 'float', 'min': 0, 'max': 1},\n",
    "#     'border_count': {'type': 'int', 'min': 32, 'max': 255},\n",
    "#     'grow_policy': {'type': 'categorical', 'values': ['Depthwise', 'Lossguide']},\n",
    "#     'min_data_in_leaf': {'type': 'int', 'min': 1, 'max': 100},\n",
    "#     'scale_pos_weight': {'type': 'float', 'min': 1.5, 'max': 1.5},\n",
    "#     'random_state': {'type': 'int', 'min': 42, 'max': 42},\n",
    "# }\n",
    "\n",
    "# cat_rfecv_tuner = HyperarameterTuner(CatBoostClassifier, params, train_rfecv, target)\n",
    "# cat_rfecv_tuner.optimize(50)\n",
    "# cat_rfecv_tuner.best_params(), cat_rfecv_tuner.best_score()"
   ]
  },
  {
   "cell_type": "code",
   "execution_count": 376,
   "metadata": {},
   "outputs": [
    {
     "name": "stdout",
     "output_type": "stream",
     "text": [
      "              precision    recall  f1-score   support\n",
      "\n",
      "         0.0       0.80      0.75      0.77      1801\n",
      "         1.0       0.65      0.71      0.68      1187\n",
      "\n",
      "    accuracy                           0.74      2988\n",
      "   macro avg       0.73      0.73      0.73      2988\n",
      "weighted avg       0.74      0.74      0.74      2988\n",
      "\n"
     ]
    }
   ],
   "source": [
    "params = {\n",
    "    \"eval_metric\": \"F1\",\n",
    "    \"iterations\": 467,\n",
    "    \"learning_rate\": 0.0315528252523364,\n",
    "    \"depth\": 7,\n",
    "    \"l2_leaf_reg\": 4.379125470613464,\n",
    "    \"bagging_temperature\": 0.797143623444388,\n",
    "    \"border_count\": 98,\n",
    "    \"grow_policy\": \"Lossguide\",\n",
    "    \"min_data_in_leaf\": 38,\n",
    "    \"scale_pos_weight\": 1.5,\n",
    "    \"random_state\": 42,\n",
    "}\n",
    "cat_rfecv_final = CatBoostClassifier(**params, verbose=0) # 0.7282\n",
    "cat_rfecv_final.fit(X_train, y_train)\n",
    "print(classification_report(y_valid, cat_rfecv_final.predict(X_valid)))"
   ]
  },
  {
   "cell_type": "markdown",
   "metadata": {},
   "source": [
    "- HistGradientBoostingClassifier"
   ]
  },
  {
   "cell_type": "code",
   "execution_count": null,
   "metadata": {},
   "outputs": [],
   "source": [
    "# params = {\n",
    "#     'learning_rate': {'type': 'float', 'min': 0.1, 'max': 0.2},\n",
    "#     'max_iter': {'type': 'int', 'min': 800, 'max': 2000},\n",
    "#     'max_leaf_nodes': {'type': 'categorical', 'values': [10, 50, None]},\n",
    "#     'min_samples_leaf': {'type': 'int', 'min': 15, 'max': 25},\n",
    "#     'l2_regularization': {'type': 'float', 'min': 0.4, 'max': 0.9},\n",
    "#     'scoring': {'type': 'categorical', 'values': ['f1']},\n",
    "#     'max_bins': {'type': 'int', 'min': 200, 'max': 255},\n",
    "#     'validation_fraction': {'type': 'float', 'min': 0.15, 'max': 0.25},\n",
    "#     'random_state': {'type': 'int', 'min': 42, 'max': 42},\n",
    "# }\n",
    "\n",
    "# hgb_rfecv_tuner = HyperarameterTuner(HistGradientBoostingClassifier, params, train_rfecv, target)\n",
    "# hgb_rfecv_tuner.optimize(50)\n",
    "# hgb_rfecv_tuner.best_params(), hgb_rfecv_tuner.best_score()"
   ]
  },
  {
   "cell_type": "code",
   "execution_count": null,
   "metadata": {},
   "outputs": [],
   "source": [
    "# params = {\n",
    "#     \"learning_rate\": 0.13343332225607724,\n",
    "#     \"max_iter\": 924,\n",
    "#     \"max_leaf_nodes\": 10,\n",
    "#     \"min_samples_leaf\": 20,\n",
    "#     \"l2_regularization\": 0.5178345186996232,\n",
    "#     \"scoring\": \"f1\",\n",
    "#     \"max_bins\": 244,\n",
    "#     \"validation_fraction\": 0.16036361850282604,\n",
    "#     \"random_state\": 42,\n",
    "# }\n",
    "\n",
    "# hgb_rfecv_final = HistGradientBoostingClassifier(**params)"
   ]
  },
  {
   "cell_type": "markdown",
   "metadata": {},
   "source": [
    "- StackingClassifier"
   ]
  },
  {
   "cell_type": "code",
   "execution_count": null,
   "metadata": {},
   "outputs": [
    {
     "data": {
      "text/plain": [
       "0.7371917613864147"
      ]
     },
     "execution_count": 352,
     "metadata": {},
     "output_type": "execute_result"
    }
   ],
   "source": [
    "estimators = [\n",
    "    ('lr', lr_rfecv_final),\n",
    "    ('lsvc_rfecv_final', lsvc_rfecv_final),\n",
    "    ('sgd', sgd_rfecv_final),\n",
    "    ('lgbm', lgbm_rfecv_final),\n",
    "    ('cat', cat_rfecv_final),\n",
    "]\n",
    "final_estimator = LogisticRegression(random_state=SEED, n_jobs=-1)\n",
    "\n",
    "stacking_rfecv = StackingClassifier(estimators=estimators, final_estimator=final_estimator, cv=cv, n_jobs=-1)\n",
    "cross_val_score(stacking_rfecv, train_rfecv, target, cv=cv, scoring=\"f1_macro\", n_jobs=-1).mean() # 0.7359 -> 0.7371"
   ]
  },
  {
   "cell_type": "code",
   "execution_count": null,
   "metadata": {},
   "outputs": [
    {
     "name": "stdout",
     "output_type": "stream",
     "text": [
      "              precision    recall  f1-score   support\n",
      "\n",
      "         0.0       0.79      0.82      0.80      1813\n",
      "         1.0       0.70      0.66      0.68      1175\n",
      "\n",
      "    accuracy                           0.76      2988\n",
      "   macro avg       0.74      0.74      0.74      2988\n",
      "weighted avg       0.75      0.76      0.75      2988\n",
      "\n"
     ]
    }
   ],
   "source": [
    "stacking_rfecv.fit(X_train, y_train)\n",
    "print(classification_report(y_valid, stacking_rfecv.predict(X_valid)))"
   ]
  },
  {
   "cell_type": "markdown",
   "metadata": {},
   "source": [
    "- VotingClassifier"
   ]
  },
  {
   "cell_type": "code",
   "execution_count": null,
   "metadata": {},
   "outputs": [],
   "source": [
    "# estimators = [\n",
    "#     ('lgbm', lgbm_vt_final),\n",
    "#     ('cat', cat_vt_final),\n",
    "# ]\n",
    "\n",
    "# voting_vt = VotingClassifier(estimators=estimators, voting='soft', n_jobs=-1)\n",
    "# cross_val_score(voting_vt, train_vt, target, cv=cv, scoring='f1_macro', n_jobs=-1).mean()"
   ]
  },
  {
   "cell_type": "markdown",
   "metadata": {},
   "source": [
    "# 앙상블"
   ]
  },
  {
   "cell_type": "markdown",
   "metadata": {},
   "source": [
    "- 각 스태킹 모델로 예측 후 예측값의 평균으로 최종 예측"
   ]
  },
  {
   "cell_type": "code",
   "execution_count": 355,
   "metadata": {},
   "outputs": [
    {
     "data": {
      "text/html": [
       "<style>#sk-container-id-6 {\n",
       "  /* Definition of color scheme common for light and dark mode */\n",
       "  --sklearn-color-text: black;\n",
       "  --sklearn-color-line: gray;\n",
       "  /* Definition of color scheme for unfitted estimators */\n",
       "  --sklearn-color-unfitted-level-0: #fff5e6;\n",
       "  --sklearn-color-unfitted-level-1: #f6e4d2;\n",
       "  --sklearn-color-unfitted-level-2: #ffe0b3;\n",
       "  --sklearn-color-unfitted-level-3: chocolate;\n",
       "  /* Definition of color scheme for fitted estimators */\n",
       "  --sklearn-color-fitted-level-0: #f0f8ff;\n",
       "  --sklearn-color-fitted-level-1: #d4ebff;\n",
       "  --sklearn-color-fitted-level-2: #b3dbfd;\n",
       "  --sklearn-color-fitted-level-3: cornflowerblue;\n",
       "\n",
       "  /* Specific color for light theme */\n",
       "  --sklearn-color-text-on-default-background: var(--sg-text-color, var(--theme-code-foreground, var(--jp-content-font-color1, black)));\n",
       "  --sklearn-color-background: var(--sg-background-color, var(--theme-background, var(--jp-layout-color0, white)));\n",
       "  --sklearn-color-border-box: var(--sg-text-color, var(--theme-code-foreground, var(--jp-content-font-color1, black)));\n",
       "  --sklearn-color-icon: #696969;\n",
       "\n",
       "  @media (prefers-color-scheme: dark) {\n",
       "    /* Redefinition of color scheme for dark theme */\n",
       "    --sklearn-color-text-on-default-background: var(--sg-text-color, var(--theme-code-foreground, var(--jp-content-font-color1, white)));\n",
       "    --sklearn-color-background: var(--sg-background-color, var(--theme-background, var(--jp-layout-color0, #111)));\n",
       "    --sklearn-color-border-box: var(--sg-text-color, var(--theme-code-foreground, var(--jp-content-font-color1, white)));\n",
       "    --sklearn-color-icon: #878787;\n",
       "  }\n",
       "}\n",
       "\n",
       "#sk-container-id-6 {\n",
       "  color: var(--sklearn-color-text);\n",
       "}\n",
       "\n",
       "#sk-container-id-6 pre {\n",
       "  padding: 0;\n",
       "}\n",
       "\n",
       "#sk-container-id-6 input.sk-hidden--visually {\n",
       "  border: 0;\n",
       "  clip: rect(1px 1px 1px 1px);\n",
       "  clip: rect(1px, 1px, 1px, 1px);\n",
       "  height: 1px;\n",
       "  margin: -1px;\n",
       "  overflow: hidden;\n",
       "  padding: 0;\n",
       "  position: absolute;\n",
       "  width: 1px;\n",
       "}\n",
       "\n",
       "#sk-container-id-6 div.sk-dashed-wrapped {\n",
       "  border: 1px dashed var(--sklearn-color-line);\n",
       "  margin: 0 0.4em 0.5em 0.4em;\n",
       "  box-sizing: border-box;\n",
       "  padding-bottom: 0.4em;\n",
       "  background-color: var(--sklearn-color-background);\n",
       "}\n",
       "\n",
       "#sk-container-id-6 div.sk-container {\n",
       "  /* jupyter's `normalize.less` sets `[hidden] { display: none; }`\n",
       "     but bootstrap.min.css set `[hidden] { display: none !important; }`\n",
       "     so we also need the `!important` here to be able to override the\n",
       "     default hidden behavior on the sphinx rendered scikit-learn.org.\n",
       "     See: https://github.com/scikit-learn/scikit-learn/issues/21755 */\n",
       "  display: inline-block !important;\n",
       "  position: relative;\n",
       "}\n",
       "\n",
       "#sk-container-id-6 div.sk-text-repr-fallback {\n",
       "  display: none;\n",
       "}\n",
       "\n",
       "div.sk-parallel-item,\n",
       "div.sk-serial,\n",
       "div.sk-item {\n",
       "  /* draw centered vertical line to link estimators */\n",
       "  background-image: linear-gradient(var(--sklearn-color-text-on-default-background), var(--sklearn-color-text-on-default-background));\n",
       "  background-size: 2px 100%;\n",
       "  background-repeat: no-repeat;\n",
       "  background-position: center center;\n",
       "}\n",
       "\n",
       "/* Parallel-specific style estimator block */\n",
       "\n",
       "#sk-container-id-6 div.sk-parallel-item::after {\n",
       "  content: \"\";\n",
       "  width: 100%;\n",
       "  border-bottom: 2px solid var(--sklearn-color-text-on-default-background);\n",
       "  flex-grow: 1;\n",
       "}\n",
       "\n",
       "#sk-container-id-6 div.sk-parallel {\n",
       "  display: flex;\n",
       "  align-items: stretch;\n",
       "  justify-content: center;\n",
       "  background-color: var(--sklearn-color-background);\n",
       "  position: relative;\n",
       "}\n",
       "\n",
       "#sk-container-id-6 div.sk-parallel-item {\n",
       "  display: flex;\n",
       "  flex-direction: column;\n",
       "}\n",
       "\n",
       "#sk-container-id-6 div.sk-parallel-item:first-child::after {\n",
       "  align-self: flex-end;\n",
       "  width: 50%;\n",
       "}\n",
       "\n",
       "#sk-container-id-6 div.sk-parallel-item:last-child::after {\n",
       "  align-self: flex-start;\n",
       "  width: 50%;\n",
       "}\n",
       "\n",
       "#sk-container-id-6 div.sk-parallel-item:only-child::after {\n",
       "  width: 0;\n",
       "}\n",
       "\n",
       "/* Serial-specific style estimator block */\n",
       "\n",
       "#sk-container-id-6 div.sk-serial {\n",
       "  display: flex;\n",
       "  flex-direction: column;\n",
       "  align-items: center;\n",
       "  background-color: var(--sklearn-color-background);\n",
       "  padding-right: 1em;\n",
       "  padding-left: 1em;\n",
       "}\n",
       "\n",
       "\n",
       "/* Toggleable style: style used for estimator/Pipeline/ColumnTransformer box that is\n",
       "clickable and can be expanded/collapsed.\n",
       "- Pipeline and ColumnTransformer use this feature and define the default style\n",
       "- Estimators will overwrite some part of the style using the `sk-estimator` class\n",
       "*/\n",
       "\n",
       "/* Pipeline and ColumnTransformer style (default) */\n",
       "\n",
       "#sk-container-id-6 div.sk-toggleable {\n",
       "  /* Default theme specific background. It is overwritten whether we have a\n",
       "  specific estimator or a Pipeline/ColumnTransformer */\n",
       "  background-color: var(--sklearn-color-background);\n",
       "}\n",
       "\n",
       "/* Toggleable label */\n",
       "#sk-container-id-6 label.sk-toggleable__label {\n",
       "  cursor: pointer;\n",
       "  display: block;\n",
       "  width: 100%;\n",
       "  margin-bottom: 0;\n",
       "  padding: 0.5em;\n",
       "  box-sizing: border-box;\n",
       "  text-align: center;\n",
       "}\n",
       "\n",
       "#sk-container-id-6 label.sk-toggleable__label-arrow:before {\n",
       "  /* Arrow on the left of the label */\n",
       "  content: \"▸\";\n",
       "  float: left;\n",
       "  margin-right: 0.25em;\n",
       "  color: var(--sklearn-color-icon);\n",
       "}\n",
       "\n",
       "#sk-container-id-6 label.sk-toggleable__label-arrow:hover:before {\n",
       "  color: var(--sklearn-color-text);\n",
       "}\n",
       "\n",
       "/* Toggleable content - dropdown */\n",
       "\n",
       "#sk-container-id-6 div.sk-toggleable__content {\n",
       "  max-height: 0;\n",
       "  max-width: 0;\n",
       "  overflow: hidden;\n",
       "  text-align: left;\n",
       "  /* unfitted */\n",
       "  background-color: var(--sklearn-color-unfitted-level-0);\n",
       "}\n",
       "\n",
       "#sk-container-id-6 div.sk-toggleable__content.fitted {\n",
       "  /* fitted */\n",
       "  background-color: var(--sklearn-color-fitted-level-0);\n",
       "}\n",
       "\n",
       "#sk-container-id-6 div.sk-toggleable__content pre {\n",
       "  margin: 0.2em;\n",
       "  border-radius: 0.25em;\n",
       "  color: var(--sklearn-color-text);\n",
       "  /* unfitted */\n",
       "  background-color: var(--sklearn-color-unfitted-level-0);\n",
       "}\n",
       "\n",
       "#sk-container-id-6 div.sk-toggleable__content.fitted pre {\n",
       "  /* unfitted */\n",
       "  background-color: var(--sklearn-color-fitted-level-0);\n",
       "}\n",
       "\n",
       "#sk-container-id-6 input.sk-toggleable__control:checked~div.sk-toggleable__content {\n",
       "  /* Expand drop-down */\n",
       "  max-height: 200px;\n",
       "  max-width: 100%;\n",
       "  overflow: auto;\n",
       "}\n",
       "\n",
       "#sk-container-id-6 input.sk-toggleable__control:checked~label.sk-toggleable__label-arrow:before {\n",
       "  content: \"▾\";\n",
       "}\n",
       "\n",
       "/* Pipeline/ColumnTransformer-specific style */\n",
       "\n",
       "#sk-container-id-6 div.sk-label input.sk-toggleable__control:checked~label.sk-toggleable__label {\n",
       "  color: var(--sklearn-color-text);\n",
       "  background-color: var(--sklearn-color-unfitted-level-2);\n",
       "}\n",
       "\n",
       "#sk-container-id-6 div.sk-label.fitted input.sk-toggleable__control:checked~label.sk-toggleable__label {\n",
       "  background-color: var(--sklearn-color-fitted-level-2);\n",
       "}\n",
       "\n",
       "/* Estimator-specific style */\n",
       "\n",
       "/* Colorize estimator box */\n",
       "#sk-container-id-6 div.sk-estimator input.sk-toggleable__control:checked~label.sk-toggleable__label {\n",
       "  /* unfitted */\n",
       "  background-color: var(--sklearn-color-unfitted-level-2);\n",
       "}\n",
       "\n",
       "#sk-container-id-6 div.sk-estimator.fitted input.sk-toggleable__control:checked~label.sk-toggleable__label {\n",
       "  /* fitted */\n",
       "  background-color: var(--sklearn-color-fitted-level-2);\n",
       "}\n",
       "\n",
       "#sk-container-id-6 div.sk-label label.sk-toggleable__label,\n",
       "#sk-container-id-6 div.sk-label label {\n",
       "  /* The background is the default theme color */\n",
       "  color: var(--sklearn-color-text-on-default-background);\n",
       "}\n",
       "\n",
       "/* On hover, darken the color of the background */\n",
       "#sk-container-id-6 div.sk-label:hover label.sk-toggleable__label {\n",
       "  color: var(--sklearn-color-text);\n",
       "  background-color: var(--sklearn-color-unfitted-level-2);\n",
       "}\n",
       "\n",
       "/* Label box, darken color on hover, fitted */\n",
       "#sk-container-id-6 div.sk-label.fitted:hover label.sk-toggleable__label.fitted {\n",
       "  color: var(--sklearn-color-text);\n",
       "  background-color: var(--sklearn-color-fitted-level-2);\n",
       "}\n",
       "\n",
       "/* Estimator label */\n",
       "\n",
       "#sk-container-id-6 div.sk-label label {\n",
       "  font-family: monospace;\n",
       "  font-weight: bold;\n",
       "  display: inline-block;\n",
       "  line-height: 1.2em;\n",
       "}\n",
       "\n",
       "#sk-container-id-6 div.sk-label-container {\n",
       "  text-align: center;\n",
       "}\n",
       "\n",
       "/* Estimator-specific */\n",
       "#sk-container-id-6 div.sk-estimator {\n",
       "  font-family: monospace;\n",
       "  border: 1px dotted var(--sklearn-color-border-box);\n",
       "  border-radius: 0.25em;\n",
       "  box-sizing: border-box;\n",
       "  margin-bottom: 0.5em;\n",
       "  /* unfitted */\n",
       "  background-color: var(--sklearn-color-unfitted-level-0);\n",
       "}\n",
       "\n",
       "#sk-container-id-6 div.sk-estimator.fitted {\n",
       "  /* fitted */\n",
       "  background-color: var(--sklearn-color-fitted-level-0);\n",
       "}\n",
       "\n",
       "/* on hover */\n",
       "#sk-container-id-6 div.sk-estimator:hover {\n",
       "  /* unfitted */\n",
       "  background-color: var(--sklearn-color-unfitted-level-2);\n",
       "}\n",
       "\n",
       "#sk-container-id-6 div.sk-estimator.fitted:hover {\n",
       "  /* fitted */\n",
       "  background-color: var(--sklearn-color-fitted-level-2);\n",
       "}\n",
       "\n",
       "/* Specification for estimator info (e.g. \"i\" and \"?\") */\n",
       "\n",
       "/* Common style for \"i\" and \"?\" */\n",
       "\n",
       ".sk-estimator-doc-link,\n",
       "a:link.sk-estimator-doc-link,\n",
       "a:visited.sk-estimator-doc-link {\n",
       "  float: right;\n",
       "  font-size: smaller;\n",
       "  line-height: 1em;\n",
       "  font-family: monospace;\n",
       "  background-color: var(--sklearn-color-background);\n",
       "  border-radius: 1em;\n",
       "  height: 1em;\n",
       "  width: 1em;\n",
       "  text-decoration: none !important;\n",
       "  margin-left: 1ex;\n",
       "  /* unfitted */\n",
       "  border: var(--sklearn-color-unfitted-level-1) 1pt solid;\n",
       "  color: var(--sklearn-color-unfitted-level-1);\n",
       "}\n",
       "\n",
       ".sk-estimator-doc-link.fitted,\n",
       "a:link.sk-estimator-doc-link.fitted,\n",
       "a:visited.sk-estimator-doc-link.fitted {\n",
       "  /* fitted */\n",
       "  border: var(--sklearn-color-fitted-level-1) 1pt solid;\n",
       "  color: var(--sklearn-color-fitted-level-1);\n",
       "}\n",
       "\n",
       "/* On hover */\n",
       "div.sk-estimator:hover .sk-estimator-doc-link:hover,\n",
       ".sk-estimator-doc-link:hover,\n",
       "div.sk-label-container:hover .sk-estimator-doc-link:hover,\n",
       ".sk-estimator-doc-link:hover {\n",
       "  /* unfitted */\n",
       "  background-color: var(--sklearn-color-unfitted-level-3);\n",
       "  color: var(--sklearn-color-background);\n",
       "  text-decoration: none;\n",
       "}\n",
       "\n",
       "div.sk-estimator.fitted:hover .sk-estimator-doc-link.fitted:hover,\n",
       ".sk-estimator-doc-link.fitted:hover,\n",
       "div.sk-label-container:hover .sk-estimator-doc-link.fitted:hover,\n",
       ".sk-estimator-doc-link.fitted:hover {\n",
       "  /* fitted */\n",
       "  background-color: var(--sklearn-color-fitted-level-3);\n",
       "  color: var(--sklearn-color-background);\n",
       "  text-decoration: none;\n",
       "}\n",
       "\n",
       "/* Span, style for the box shown on hovering the info icon */\n",
       ".sk-estimator-doc-link span {\n",
       "  display: none;\n",
       "  z-index: 9999;\n",
       "  position: relative;\n",
       "  font-weight: normal;\n",
       "  right: .2ex;\n",
       "  padding: .5ex;\n",
       "  margin: .5ex;\n",
       "  width: min-content;\n",
       "  min-width: 20ex;\n",
       "  max-width: 50ex;\n",
       "  color: var(--sklearn-color-text);\n",
       "  box-shadow: 2pt 2pt 4pt #999;\n",
       "  /* unfitted */\n",
       "  background: var(--sklearn-color-unfitted-level-0);\n",
       "  border: .5pt solid var(--sklearn-color-unfitted-level-3);\n",
       "}\n",
       "\n",
       ".sk-estimator-doc-link.fitted span {\n",
       "  /* fitted */\n",
       "  background: var(--sklearn-color-fitted-level-0);\n",
       "  border: var(--sklearn-color-fitted-level-3);\n",
       "}\n",
       "\n",
       ".sk-estimator-doc-link:hover span {\n",
       "  display: block;\n",
       "}\n",
       "\n",
       "/* \"?\"-specific style due to the `<a>` HTML tag */\n",
       "\n",
       "#sk-container-id-6 a.estimator_doc_link {\n",
       "  float: right;\n",
       "  font-size: 1rem;\n",
       "  line-height: 1em;\n",
       "  font-family: monospace;\n",
       "  background-color: var(--sklearn-color-background);\n",
       "  border-radius: 1rem;\n",
       "  height: 1rem;\n",
       "  width: 1rem;\n",
       "  text-decoration: none;\n",
       "  /* unfitted */\n",
       "  color: var(--sklearn-color-unfitted-level-1);\n",
       "  border: var(--sklearn-color-unfitted-level-1) 1pt solid;\n",
       "}\n",
       "\n",
       "#sk-container-id-6 a.estimator_doc_link.fitted {\n",
       "  /* fitted */\n",
       "  border: var(--sklearn-color-fitted-level-1) 1pt solid;\n",
       "  color: var(--sklearn-color-fitted-level-1);\n",
       "}\n",
       "\n",
       "/* On hover */\n",
       "#sk-container-id-6 a.estimator_doc_link:hover {\n",
       "  /* unfitted */\n",
       "  background-color: var(--sklearn-color-unfitted-level-3);\n",
       "  color: var(--sklearn-color-background);\n",
       "  text-decoration: none;\n",
       "}\n",
       "\n",
       "#sk-container-id-6 a.estimator_doc_link.fitted:hover {\n",
       "  /* fitted */\n",
       "  background-color: var(--sklearn-color-fitted-level-3);\n",
       "}\n",
       "</style><div id=\"sk-container-id-6\" class=\"sk-top-container\"><div class=\"sk-text-repr-fallback\"><pre>StackingClassifier(cv=StratifiedKFold(n_splits=5, random_state=42, shuffle=True),\n",
       "                   estimators=[(&#x27;lr&#x27;,\n",
       "                                LogisticRegression(C=0.9009814576647523,\n",
       "                                                   class_weight=&#x27;balanced&#x27;,\n",
       "                                                   max_iter=777, penalty=&#x27;l1&#x27;,\n",
       "                                                   random_state=42,\n",
       "                                                   solver=&#x27;liblinear&#x27;,\n",
       "                                                   tol=0.000180003730892121)),\n",
       "                               (&#x27;lsvc_rfecv_final&#x27;,\n",
       "                                LinearSVC(C=6.2430613151701415,\n",
       "                                          class_weight=&#x27;balanced&#x27;, dual=False,\n",
       "                                          max_iter=2095, p...\n",
       "                               (&#x27;lgbm&#x27;,\n",
       "                                LGBMClassifier(force_col_wise=True,\n",
       "                                               learning_rate=0.02106599014877994,\n",
       "                                               max_depth=14,\n",
       "                                               min_child_samples=90,\n",
       "                                               n_estimators=435, n_jobs=-1,\n",
       "                                               num_leaves=64,\n",
       "                                               objective=&#x27;binary&#x27;,\n",
       "                                               random_state=42,\n",
       "                                               scale_pos_weight=1.5)),\n",
       "                               (&#x27;cat&#x27;,\n",
       "                                &lt;catboost.core.CatBoostClassifier object at 0x00000208517A6980&gt;)],\n",
       "                   final_estimator=LogisticRegression(n_jobs=-1,\n",
       "                                                      random_state=42),\n",
       "                   n_jobs=-1)</pre><b>In a Jupyter environment, please rerun this cell to show the HTML representation or trust the notebook. <br />On GitHub, the HTML representation is unable to render, please try loading this page with nbviewer.org.</b></div><div class=\"sk-container\" hidden><div class=\"sk-item sk-dashed-wrapped\"><div class=\"sk-label-container\"><div class=\"sk-label fitted sk-toggleable\"><input class=\"sk-toggleable__control sk-hidden--visually\" id=\"sk-estimator-id-25\" type=\"checkbox\" ><label for=\"sk-estimator-id-25\" class=\"sk-toggleable__label fitted sk-toggleable__label-arrow fitted\">&nbsp;&nbsp;StackingClassifier<a class=\"sk-estimator-doc-link fitted\" rel=\"noreferrer\" target=\"_blank\" href=\"https://scikit-learn.org/1.5/modules/generated/sklearn.ensemble.StackingClassifier.html\">?<span>Documentation for StackingClassifier</span></a><span class=\"sk-estimator-doc-link fitted\">i<span>Fitted</span></span></label><div class=\"sk-toggleable__content fitted\"><pre>StackingClassifier(cv=StratifiedKFold(n_splits=5, random_state=42, shuffle=True),\n",
       "                   estimators=[(&#x27;lr&#x27;,\n",
       "                                LogisticRegression(C=0.9009814576647523,\n",
       "                                                   class_weight=&#x27;balanced&#x27;,\n",
       "                                                   max_iter=777, penalty=&#x27;l1&#x27;,\n",
       "                                                   random_state=42,\n",
       "                                                   solver=&#x27;liblinear&#x27;,\n",
       "                                                   tol=0.000180003730892121)),\n",
       "                               (&#x27;lsvc_rfecv_final&#x27;,\n",
       "                                LinearSVC(C=6.2430613151701415,\n",
       "                                          class_weight=&#x27;balanced&#x27;, dual=False,\n",
       "                                          max_iter=2095, p...\n",
       "                               (&#x27;lgbm&#x27;,\n",
       "                                LGBMClassifier(force_col_wise=True,\n",
       "                                               learning_rate=0.02106599014877994,\n",
       "                                               max_depth=14,\n",
       "                                               min_child_samples=90,\n",
       "                                               n_estimators=435, n_jobs=-1,\n",
       "                                               num_leaves=64,\n",
       "                                               objective=&#x27;binary&#x27;,\n",
       "                                               random_state=42,\n",
       "                                               scale_pos_weight=1.5)),\n",
       "                               (&#x27;cat&#x27;,\n",
       "                                &lt;catboost.core.CatBoostClassifier object at 0x00000208517A6980&gt;)],\n",
       "                   final_estimator=LogisticRegression(n_jobs=-1,\n",
       "                                                      random_state=42),\n",
       "                   n_jobs=-1)</pre></div> </div></div><div class=\"sk-serial\"><div class=\"sk-item\"><div class=\"sk-parallel\"><div class=\"sk-parallel-item\"><div class=\"sk-item\"><div class=\"sk-label-container\"><div class=\"sk-label fitted sk-toggleable\"><label>lr</label></div></div><div class=\"sk-serial\"><div class=\"sk-item\"><div class=\"sk-estimator fitted sk-toggleable\"><input class=\"sk-toggleable__control sk-hidden--visually\" id=\"sk-estimator-id-26\" type=\"checkbox\" ><label for=\"sk-estimator-id-26\" class=\"sk-toggleable__label fitted sk-toggleable__label-arrow fitted\">&nbsp;LogisticRegression<a class=\"sk-estimator-doc-link fitted\" rel=\"noreferrer\" target=\"_blank\" href=\"https://scikit-learn.org/1.5/modules/generated/sklearn.linear_model.LogisticRegression.html\">?<span>Documentation for LogisticRegression</span></a></label><div class=\"sk-toggleable__content fitted\"><pre>LogisticRegression(C=0.9009814576647523, class_weight=&#x27;balanced&#x27;, max_iter=777,\n",
       "                   penalty=&#x27;l1&#x27;, random_state=42, solver=&#x27;liblinear&#x27;,\n",
       "                   tol=0.000180003730892121)</pre></div> </div></div></div></div></div><div class=\"sk-parallel-item\"><div class=\"sk-item\"><div class=\"sk-label-container\"><div class=\"sk-label fitted sk-toggleable\"><label>lsvc_rfecv_final</label></div></div><div class=\"sk-serial\"><div class=\"sk-item\"><div class=\"sk-estimator fitted sk-toggleable\"><input class=\"sk-toggleable__control sk-hidden--visually\" id=\"sk-estimator-id-27\" type=\"checkbox\" ><label for=\"sk-estimator-id-27\" class=\"sk-toggleable__label fitted sk-toggleable__label-arrow fitted\">&nbsp;LinearSVC<a class=\"sk-estimator-doc-link fitted\" rel=\"noreferrer\" target=\"_blank\" href=\"https://scikit-learn.org/1.5/modules/generated/sklearn.svm.LinearSVC.html\">?<span>Documentation for LinearSVC</span></a></label><div class=\"sk-toggleable__content fitted\"><pre>LinearSVC(C=6.2430613151701415, class_weight=&#x27;balanced&#x27;, dual=False,\n",
       "          max_iter=2095, penalty=&#x27;l1&#x27;, random_state=42,\n",
       "          tol=0.0004462711899132743)</pre></div> </div></div></div></div></div><div class=\"sk-parallel-item\"><div class=\"sk-item\"><div class=\"sk-label-container\"><div class=\"sk-label fitted sk-toggleable\"><label>sgd</label></div></div><div class=\"sk-serial\"><div class=\"sk-item\"><div class=\"sk-estimator fitted sk-toggleable\"><input class=\"sk-toggleable__control sk-hidden--visually\" id=\"sk-estimator-id-28\" type=\"checkbox\" ><label for=\"sk-estimator-id-28\" class=\"sk-toggleable__label fitted sk-toggleable__label-arrow fitted\">&nbsp;SGDClassifier<a class=\"sk-estimator-doc-link fitted\" rel=\"noreferrer\" target=\"_blank\" href=\"https://scikit-learn.org/1.5/modules/generated/sklearn.linear_model.SGDClassifier.html\">?<span>Documentation for SGDClassifier</span></a></label><div class=\"sk-toggleable__content fitted\"><pre>SGDClassifier(alpha=0.003027216973071361, class_weight=&#x27;balanced&#x27;,\n",
       "              eta0=0.01883232969699258, l1_ratio=0.6482941900747266,\n",
       "              learning_rate=&#x27;adaptive&#x27;, loss=&#x27;modified_huber&#x27;, max_iter=4438,\n",
       "              n_jobs=-1, random_state=42, tol=0.0004324328190978092)</pre></div> </div></div></div></div></div><div class=\"sk-parallel-item\"><div class=\"sk-item\"><div class=\"sk-label-container\"><div class=\"sk-label fitted sk-toggleable\"><label>lgbm</label></div></div><div class=\"sk-serial\"><div class=\"sk-item\"><div class=\"sk-estimator fitted sk-toggleable\"><input class=\"sk-toggleable__control sk-hidden--visually\" id=\"sk-estimator-id-29\" type=\"checkbox\" ><label for=\"sk-estimator-id-29\" class=\"sk-toggleable__label fitted sk-toggleable__label-arrow fitted\">LGBMClassifier</label><div class=\"sk-toggleable__content fitted\"><pre>LGBMClassifier(force_col_wise=True, learning_rate=0.02106599014877994,\n",
       "               max_depth=14, min_child_samples=90, n_estimators=435, n_jobs=-1,\n",
       "               num_leaves=64, objective=&#x27;binary&#x27;, random_state=42,\n",
       "               scale_pos_weight=1.5)</pre></div> </div></div></div></div></div><div class=\"sk-parallel-item\"><div class=\"sk-item\"><div class=\"sk-label-container\"><div class=\"sk-label fitted sk-toggleable\"><label>cat</label></div></div><div class=\"sk-serial\"><div class=\"sk-item\"><div class=\"sk-estimator fitted sk-toggleable\"><input class=\"sk-toggleable__control sk-hidden--visually\" id=\"sk-estimator-id-30\" type=\"checkbox\" ><label for=\"sk-estimator-id-30\" class=\"sk-toggleable__label fitted sk-toggleable__label-arrow fitted\">CatBoostClassifier</label><div class=\"sk-toggleable__content fitted\"><pre>&lt;catboost.core.CatBoostClassifier object at 0x00000208517A6980&gt;</pre></div> </div></div></div></div></div></div></div><div class=\"sk-item\"><div class=\"sk-parallel\"><div class=\"sk-parallel-item\"><div class=\"sk-item\"><div class=\"sk-label-container\"><div class=\"sk-label fitted sk-toggleable\"><label>final_estimator</label></div></div><div class=\"sk-serial\"><div class=\"sk-item\"><div class=\"sk-estimator fitted sk-toggleable\"><input class=\"sk-toggleable__control sk-hidden--visually\" id=\"sk-estimator-id-31\" type=\"checkbox\" ><label for=\"sk-estimator-id-31\" class=\"sk-toggleable__label fitted sk-toggleable__label-arrow fitted\">&nbsp;LogisticRegression<a class=\"sk-estimator-doc-link fitted\" rel=\"noreferrer\" target=\"_blank\" href=\"https://scikit-learn.org/1.5/modules/generated/sklearn.linear_model.LogisticRegression.html\">?<span>Documentation for LogisticRegression</span></a></label><div class=\"sk-toggleable__content fitted\"><pre>LogisticRegression(n_jobs=-1, random_state=42)</pre></div> </div></div></div></div></div></div></div></div></div></div></div>"
      ],
      "text/plain": [
       "StackingClassifier(cv=StratifiedKFold(n_splits=5, random_state=42, shuffle=True),\n",
       "                   estimators=[('lr',\n",
       "                                LogisticRegression(C=0.9009814576647523,\n",
       "                                                   class_weight='balanced',\n",
       "                                                   max_iter=777, penalty='l1',\n",
       "                                                   random_state=42,\n",
       "                                                   solver='liblinear',\n",
       "                                                   tol=0.000180003730892121)),\n",
       "                               ('lsvc_rfecv_final',\n",
       "                                LinearSVC(C=6.2430613151701415,\n",
       "                                          class_weight='balanced', dual=False,\n",
       "                                          max_iter=2095, p...\n",
       "                               ('lgbm',\n",
       "                                LGBMClassifier(force_col_wise=True,\n",
       "                                               learning_rate=0.02106599014877994,\n",
       "                                               max_depth=14,\n",
       "                                               min_child_samples=90,\n",
       "                                               n_estimators=435, n_jobs=-1,\n",
       "                                               num_leaves=64,\n",
       "                                               objective='binary',\n",
       "                                               random_state=42,\n",
       "                                               scale_pos_weight=1.5)),\n",
       "                               ('cat',\n",
       "                                <catboost.core.CatBoostClassifier object at 0x00000208517A6980>)],\n",
       "                   final_estimator=LogisticRegression(n_jobs=-1,\n",
       "                                                      random_state=42),\n",
       "                   n_jobs=-1)"
      ]
     },
     "execution_count": 355,
     "metadata": {},
     "output_type": "execute_result"
    }
   ],
   "source": [
    "stacking_vt.fit(train_vt, target)\n",
    "stacking_rfecv.fit(train_rfecv, target)"
   ]
  },
  {
   "cell_type": "code",
   "execution_count": 356,
   "metadata": {},
   "outputs": [
    {
     "data": {
      "text/plain": [
       "((12225,), (12225,))"
      ]
     },
     "execution_count": 356,
     "metadata": {},
     "output_type": "execute_result"
    }
   ],
   "source": [
    "pred_vt = stacking_vt.predict_proba(test_vt)[:, 1]\n",
    "pred_rfecv = stacking_rfecv.predict_proba(test_rfecv)[:, 1]\n",
    "\n",
    "pred_vt.shape, pred_rfecv.shape"
   ]
  },
  {
   "cell_type": "code",
   "execution_count": 357,
   "metadata": {},
   "outputs": [],
   "source": [
    "pred = np.mean([pred_vt, pred_rfecv], axis=0)\n",
    "pred = (pred >= 0.5).astype(int)"
   ]
  },
  {
   "cell_type": "markdown",
   "metadata": {},
   "source": [
    "# AutoML"
   ]
  },
  {
   "cell_type": "code",
   "execution_count": null,
   "metadata": {},
   "outputs": [],
   "source": [
    "# from flaml import AutoML"
   ]
  },
  {
   "cell_type": "code",
   "execution_count": null,
   "metadata": {},
   "outputs": [],
   "source": [
    "# automl = AutoML()\n",
    "\n",
    "# params = {\n",
    "#     \"task\": \"classification\",\n",
    "#     \"metric\": \"macro_f1\",\n",
    "#     \"n_splits\": 5,\n",
    "#     \"time_budget\": 1800,\n",
    "#     \"estimator_list\": [\"lgbm\", \"xgboost\", \"catboost\", \"rf\", \"histgb\", \"lrl1\", \"lrl2\"],\n",
    "#     \"ensemble\": True,\n",
    "#     \"seed\": SEED,\n",
    "#     \"early_stop\": True,\n",
    "# }\n",
    "\n",
    "# automl.fit(train_vt, target, **params)"
   ]
  },
  {
   "cell_type": "markdown",
   "metadata": {
    "id": "CcnCtcWPVrKn"
   },
   "source": [
    "# 평가를 위한 제출 파일 생성\n",
    "- 예측 결과를 target 컬럼에 넣어 csv 파일로 저장후에 제출한다."
   ]
  },
  {
   "cell_type": "code",
   "execution_count": 377,
   "metadata": {
    "colab": {
     "base_uri": "https://localhost:8080/",
     "height": 423
    },
    "executionInfo": {
     "elapsed": 349,
     "status": "ok",
     "timestamp": 1730270088012,
     "user": {
      "displayName": "koeyhi",
      "userId": "08049178071858703986"
     },
     "user_tz": -540
    },
    "id": "LLHqOugmVq_v",
    "outputId": "8f33a188-902f-4bce-c940-1ca59acb8f10"
   },
   "outputs": [
    {
     "data": {
      "text/html": [
       "<div>\n",
       "<style scoped>\n",
       "    .dataframe tbody tr th:only-of-type {\n",
       "        vertical-align: middle;\n",
       "    }\n",
       "\n",
       "    .dataframe tbody tr th {\n",
       "        vertical-align: top;\n",
       "    }\n",
       "\n",
       "    .dataframe thead th {\n",
       "        text-align: right;\n",
       "    }\n",
       "</style>\n",
       "<table border=\"1\" class=\"dataframe\">\n",
       "  <thead>\n",
       "    <tr style=\"text-align: right;\">\n",
       "      <th></th>\n",
       "      <th>ID</th>\n",
       "      <th>target</th>\n",
       "    </tr>\n",
       "  </thead>\n",
       "  <tbody>\n",
       "    <tr>\n",
       "      <th>0</th>\n",
       "      <td>test_0</td>\n",
       "      <td>0</td>\n",
       "    </tr>\n",
       "    <tr>\n",
       "      <th>1</th>\n",
       "      <td>test_1</td>\n",
       "      <td>0</td>\n",
       "    </tr>\n",
       "    <tr>\n",
       "      <th>2</th>\n",
       "      <td>test_2</td>\n",
       "      <td>0</td>\n",
       "    </tr>\n",
       "    <tr>\n",
       "      <th>3</th>\n",
       "      <td>test_3</td>\n",
       "      <td>1</td>\n",
       "    </tr>\n",
       "    <tr>\n",
       "      <th>4</th>\n",
       "      <td>test_4</td>\n",
       "      <td>1</td>\n",
       "    </tr>\n",
       "    <tr>\n",
       "      <th>...</th>\n",
       "      <td>...</td>\n",
       "      <td>...</td>\n",
       "    </tr>\n",
       "    <tr>\n",
       "      <th>12220</th>\n",
       "      <td>test_12220</td>\n",
       "      <td>1</td>\n",
       "    </tr>\n",
       "    <tr>\n",
       "      <th>12221</th>\n",
       "      <td>test_12221</td>\n",
       "      <td>0</td>\n",
       "    </tr>\n",
       "    <tr>\n",
       "      <th>12222</th>\n",
       "      <td>test_12222</td>\n",
       "      <td>0</td>\n",
       "    </tr>\n",
       "    <tr>\n",
       "      <th>12223</th>\n",
       "      <td>test_12223</td>\n",
       "      <td>0</td>\n",
       "    </tr>\n",
       "    <tr>\n",
       "      <th>12224</th>\n",
       "      <td>test_12224</td>\n",
       "      <td>0</td>\n",
       "    </tr>\n",
       "  </tbody>\n",
       "</table>\n",
       "<p>12225 rows × 2 columns</p>\n",
       "</div>"
      ],
      "text/plain": [
       "               ID  target\n",
       "0          test_0       0\n",
       "1          test_1       0\n",
       "2          test_2       0\n",
       "3          test_3       1\n",
       "4          test_4       1\n",
       "...           ...     ...\n",
       "12220  test_12220       1\n",
       "12221  test_12221       0\n",
       "12222  test_12222       0\n",
       "12223  test_12223       0\n",
       "12224  test_12224       0\n",
       "\n",
       "[12225 rows x 2 columns]"
      ]
     },
     "execution_count": 377,
     "metadata": {},
     "output_type": "execute_result"
    }
   ],
   "source": [
    "submit[\"target\"] = pred\n",
    "submit"
   ]
  },
  {
   "cell_type": "markdown",
   "metadata": {
    "id": "bjw87GeIV-BP"
   },
   "source": [
    "- 예측 결과를 csv 파일로 저장하여 제출"
   ]
  },
  {
   "cell_type": "code",
   "execution_count": 378,
   "metadata": {
    "executionInfo": {
     "elapsed": 16,
     "status": "ok",
     "timestamp": 1730269803783,
     "user": {
      "displayName": "koeyhi",
      "userId": "08049178071858703986"
     },
     "user_tz": -540
    },
    "id": "SsLTeJeoWBc_"
   },
   "outputs": [],
   "source": [
    "submit.to_csv(f\"{DATA_PATH}submit.csv\",index=False)"
   ]
  }
 ],
 "metadata": {
  "colab": {
   "provenance": []
  },
  "kernelspec": {
   "display_name": "Python 3",
   "name": "python3"
  },
  "language_info": {
   "codemirror_mode": {
    "name": "ipython",
    "version": 3
   },
   "file_extension": ".py",
   "mimetype": "text/x-python",
   "name": "python",
   "nbconvert_exporter": "python",
   "pygments_lexer": "ipython3",
   "version": "3.10.8"
  }
 },
 "nbformat": 4,
 "nbformat_minor": 0
}
