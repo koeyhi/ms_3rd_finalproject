{
 "cells": [
  {
   "cell_type": "code",
   "execution_count": 1,
   "metadata": {},
   "outputs": [
    {
     "name": "stderr",
     "output_type": "stream",
     "text": [
      "'sudo'��(��) ���� �Ǵ� �ܺ� ����, ������ �� �ִ� ���α׷�, �Ǵ�\n",
      "��ġ ������ �ƴմϴ�.\n",
      "'sudo'��(��) ���� �Ǵ� �ܺ� ����, ������ �� �ִ� ���α׷�, �Ǵ�\n",
      "��ġ ������ �ƴմϴ�.\n"
     ]
    }
   ],
   "source": [
    "import matplotlib\n",
    "from matplotlib import font_manager\n",
    "\n",
    "!sudo apt-get install -y fonts-nanum\n",
    "!sudo fc-cache -fv\n",
    "\n",
    "fontpaths = [\"C:/Users/kwon3/AppData/Local/Microsoft/Windows/Fonts/NanumGothicBold.ttf\"]\n",
    "font_files = font_manager.findSystemFonts(fontpaths=fontpaths)\n",
    "\n",
    "for ff in font_files:\n",
    "    font_manager.fontManager.addfont(ff)\n",
    "\n",
    "matplotlib.rc('font', family=\"Malgun Gothic\")\n",
    "matplotlib.rcParams['axes.unicode_minus'] = False"
   ]
  },
  {
   "cell_type": "code",
   "execution_count": 2,
   "metadata": {
    "colab": {
     "base_uri": "https://localhost:8080/"
    },
    "executionInfo": {
     "elapsed": 2373,
     "status": "ok",
     "timestamp": 1730269751697,
     "user": {
      "displayName": "koeyhi",
      "userId": "08049178071858703986"
     },
     "user_tz": -540
    },
    "id": "N44QYORV8wFy",
    "outputId": "c67d746e-c038-46c3-c4a6-12e2bfb4c4c2"
   },
   "outputs": [],
   "source": [
    "# from google.colab import drive\n",
    "# drive.mount('/content/drive')"
   ]
  },
  {
   "cell_type": "markdown",
   "metadata": {
    "id": "ZhUuXRB5BCFE"
   },
   "source": [
    "- 데이터 경로 변수"
   ]
  },
  {
   "cell_type": "code",
   "execution_count": 3,
   "metadata": {
    "colab": {
     "base_uri": "https://localhost:8080/",
     "height": 35
    },
    "executionInfo": {
     "elapsed": 4,
     "status": "ok",
     "timestamp": 1730269751697,
     "user": {
      "displayName": "koeyhi",
      "userId": "08049178071858703986"
     },
     "user_tz": -540
    },
    "id": "NfX2HPof87FT",
    "outputId": "c78f61ea-4061-4239-8d9a-69596aaea196"
   },
   "outputs": [],
   "source": [
    "# DATA_PATH = \"/content/drive/MyDrive/파이널프로젝트/data/\"\n",
    "# DATA_PATH"
   ]
  },
  {
   "cell_type": "code",
   "execution_count": 4,
   "metadata": {},
   "outputs": [
    {
     "data": {
      "text/plain": [
       "'data/'"
      ]
     },
     "execution_count": 4,
     "metadata": {},
     "output_type": "execute_result"
    }
   ],
   "source": [
    "DATA_PATH = \"data/\"\n",
    "DATA_PATH"
   ]
  },
  {
   "cell_type": "markdown",
   "metadata": {
    "id": "q1qAeLjZVWZz"
   },
   "source": [
    "- 시드값"
   ]
  },
  {
   "cell_type": "code",
   "execution_count": 5,
   "metadata": {
    "executionInfo": {
     "elapsed": 3,
     "status": "ok",
     "timestamp": 1730269751697,
     "user": {
      "displayName": "koeyhi",
      "userId": "08049178071858703986"
     },
     "user_tz": -540
    },
    "id": "nVyhJ6uOVVNE"
   },
   "outputs": [],
   "source": [
    "SEED = 42"
   ]
  },
  {
   "cell_type": "markdown",
   "metadata": {
    "id": "sQd7JpzNBHa1"
   },
   "source": [
    "- 데이터 불러오기"
   ]
  },
  {
   "cell_type": "code",
   "execution_count": 6,
   "metadata": {
    "colab": {
     "base_uri": "https://localhost:8080/"
    },
    "executionInfo": {
     "elapsed": 3363,
     "status": "ok",
     "timestamp": 1730269755057,
     "user": {
      "displayName": "koeyhi",
      "userId": "08049178071858703986"
     },
     "user_tz": -540
    },
    "id": "KFGKUIWt89fZ",
    "outputId": "71de9db2-3cde-484d-bf38-d478119d222f"
   },
   "outputs": [
    {
     "data": {
      "text/plain": [
       "((523105, 7), (14940, 2), (441196, 7), (12225, 2))"
      ]
     },
     "execution_count": 6,
     "metadata": {},
     "output_type": "execute_result"
    }
   ],
   "source": [
    "import pandas as pd\n",
    "import numpy as np\n",
    "\n",
    "train_tr = pd.read_csv(f\"{DATA_PATH}store_train_transactions.csv\") # 학습용 구매기록 데이터\n",
    "train_target = pd.read_csv(f\"{DATA_PATH}store_train.csv\") # 학습용 정답 데이터\n",
    "test_tr = pd.read_csv(f\"{DATA_PATH}store_test_transactions.csv\") # 테스트용 구매기록 데이터\n",
    "submit = pd.read_csv(f\"{DATA_PATH}store_submission.csv\") # 제출 양식 데이터\n",
    "\n",
    "train_tr.shape , train_target.shape , test_tr.shape , submit.shape"
   ]
  },
  {
   "cell_type": "markdown",
   "metadata": {
    "id": "XZq4x4CuP2gr"
   },
   "source": [
    "- 공통 피처 파일 불러오기"
   ]
  },
  {
   "cell_type": "code",
   "execution_count": 7,
   "metadata": {
    "colab": {
     "base_uri": "https://localhost:8080/"
    },
    "executionInfo": {
     "elapsed": 1741,
     "status": "ok",
     "timestamp": 1730269756796,
     "user": {
      "displayName": "koeyhi",
      "userId": "08049178071858703986"
     },
     "user_tz": -540
    },
    "id": "T3tcFrkLPv1g",
    "outputId": "31ea41a2-0d8b-4e97-c431-e584aab30619"
   },
   "outputs": [
    {
     "data": {
      "text/plain": [
       "((14940, 793), (12225, 793))"
      ]
     },
     "execution_count": 7,
     "metadata": {},
     "output_type": "execute_result"
    }
   ],
   "source": [
    "train_ft = pd.read_csv(f\"{DATA_PATH}train_common.csv\") # 학습 데이터(피처)\n",
    "test_ft = pd.read_csv(f\"{DATA_PATH}test_common.csv\") # 테스트 데이터(피처)\n",
    "\n",
    "train_ft.shape , test_ft.shape"
   ]
  },
  {
   "cell_type": "code",
   "execution_count": 8,
   "metadata": {},
   "outputs": [],
   "source": [
    "# cols = train_ft.columns[train_ft.columns.str.startswith(\"인기브랜드\")]\n",
    "# train_ft.drop(columns=cols, inplace=True)\n",
    "# test_ft.drop(columns=cols, inplace=True)\n",
    "\n",
    "# train_ft.shape, test_ft.shape"
   ]
  },
  {
   "cell_type": "code",
   "execution_count": 9,
   "metadata": {},
   "outputs": [],
   "source": [
    "# train_ft.to_csv(f\"{DATA_PATH}train_common.csv\", index=False)\n",
    "# test_ft.to_csv(f\"{DATA_PATH}test_common.csv\", index=False)"
   ]
  },
  {
   "cell_type": "markdown",
   "metadata": {},
   "source": [
    "- 정답 데이터"
   ]
  },
  {
   "cell_type": "code",
   "execution_count": 10,
   "metadata": {},
   "outputs": [
    {
     "data": {
      "text/plain": [
       "0        1.0\n",
       "1        1.0\n",
       "2        0.0\n",
       "3        0.0\n",
       "4        0.0\n",
       "        ... \n",
       "14935    0.0\n",
       "14936    0.0\n",
       "14937    0.0\n",
       "14938    1.0\n",
       "14939    1.0\n",
       "Name: target, Length: 14940, dtype: float64"
      ]
     },
     "execution_count": 10,
     "metadata": {},
     "output_type": "execute_result"
    }
   ],
   "source": [
    "target = train_target[\"target\"]\n",
    "target"
   ]
  },
  {
   "cell_type": "markdown",
   "metadata": {
    "id": "r43SCHUujW-f"
   },
   "source": [
    "# 결측치 처리"
   ]
  },
  {
   "cell_type": "code",
   "execution_count": 11,
   "metadata": {
    "colab": {
     "base_uri": "https://localhost:8080/",
     "height": 115
    },
    "executionInfo": {
     "elapsed": 18,
     "status": "ok",
     "timestamp": 1730269756796,
     "user": {
      "displayName": "koeyhi",
      "userId": "08049178071858703986"
     },
     "user_tz": -540
    },
    "id": "0qVrhIG3Q6T3",
    "outputId": "14080301-7bdb-4e7f-ced1-4b5b8dc2bd03"
   },
   "outputs": [
    {
     "data": {
      "text/plain": [
       "구매금액표준편차             405\n",
       "구매금액_skew            880\n",
       "구매금액_kurtosis       1340\n",
       "구매금액_변동성             405\n",
       "환불건수                6221\n",
       "총환불금액               6221\n",
       "평균환불금액              6221\n",
       "최소환불금액              6221\n",
       "최대환불금액              6221\n",
       "환불금액표준편차            9222\n",
       "환불금액_skew          10937\n",
       "환불금액_kurtosis      11963\n",
       "고가제품환불비율            6221\n",
       "중가제품환불비율            6221\n",
       "저가제품환불비율            6221\n",
       "환불후재구매브랜드_count    14438\n",
       "환불후재구매비율           14438\n",
       "구매금액_대비_환불금액        6221\n",
       "환불건수_대비_구매건수        6221\n",
       "dtype: int64"
      ]
     },
     "execution_count": 11,
     "metadata": {},
     "output_type": "execute_result"
    }
   ],
   "source": [
    "mask = train_ft.isnull().sum() > 0\n",
    "train_ft.isnull().sum()[mask]"
   ]
  },
  {
   "cell_type": "code",
   "execution_count": 12,
   "metadata": {
    "colab": {
     "base_uri": "https://localhost:8080/",
     "height": 115
    },
    "executionInfo": {
     "elapsed": 17,
     "status": "ok",
     "timestamp": 1730269756796,
     "user": {
      "displayName": "koeyhi",
      "userId": "08049178071858703986"
     },
     "user_tz": -540
    },
    "id": "51Fu8zq9Q6Q8",
    "outputId": "c3f9b1c2-3af9-4c3f-b7c7-40f1549f3cfa"
   },
   "outputs": [
    {
     "data": {
      "text/plain": [
       "구매금액표준편차             262\n",
       "구매금액_skew            631\n",
       "구매금액_kurtosis       1006\n",
       "구매금액_변동성             262\n",
       "환불건수                4972\n",
       "총환불금액               4972\n",
       "평균환불금액              4972\n",
       "최소환불금액              4972\n",
       "최대환불금액              4972\n",
       "환불금액표준편차            7347\n",
       "환불금액_skew           8744\n",
       "환불금액_kurtosis       9660\n",
       "고가제품환불비율            4972\n",
       "중가제품환불비율            4972\n",
       "저가제품환불비율            4972\n",
       "환불후재구매브랜드_count    11791\n",
       "환불후재구매비율           11791\n",
       "구매금액_대비_환불금액        4972\n",
       "환불건수_대비_구매건수        4972\n",
       "dtype: int64"
      ]
     },
     "execution_count": 12,
     "metadata": {},
     "output_type": "execute_result"
    }
   ],
   "source": [
    "mask = test_ft.isnull().sum() > 0\n",
    "test_ft.isnull().sum()[mask]"
   ]
  },
  {
   "cell_type": "markdown",
   "metadata": {
    "id": "fgPa4QG0RF2d"
   },
   "source": [
    "# 특성 공학(Feature Engineering)"
   ]
  },
  {
   "cell_type": "markdown",
   "metadata": {
    "id": "OXuo6unbRLGm"
   },
   "source": [
    "- ID 변수 제외"
   ]
  },
  {
   "cell_type": "code",
   "execution_count": 13,
   "metadata": {
    "colab": {
     "base_uri": "https://localhost:8080/"
    },
    "executionInfo": {
     "elapsed": 17,
     "status": "ok",
     "timestamp": 1730269756797,
     "user": {
      "displayName": "koeyhi",
      "userId": "08049178071858703986"
     },
     "user_tz": -540
    },
    "id": "xfksFVguRFuZ",
    "outputId": "39f354f5-84bc-4b11-db93-0973c2627455"
   },
   "outputs": [
    {
     "data": {
      "text/plain": [
       "((14940, 792), (12225, 792))"
      ]
     },
     "execution_count": 13,
     "metadata": {},
     "output_type": "execute_result"
    }
   ],
   "source": [
    "train_ft = train_ft.iloc[:,1:]\n",
    "test_ft = test_ft.iloc[:,1:]\n",
    "train_ft.shape, test_ft.shape"
   ]
  },
  {
   "cell_type": "markdown",
   "metadata": {
    "id": "jjuSj8URRa_q"
   },
   "source": [
    "- 추가 피처 만들어 보기"
   ]
  },
  {
   "cell_type": "code",
   "execution_count": 14,
   "metadata": {},
   "outputs": [],
   "source": [
    "# cols = [ col for col in train_ft.columns if col.startswith(\"지점코드_구매횟수_\") ]\n",
    "\n",
    "# train_ft[\"지점코드별_구매횟수_std\"] = train_ft[cols].std(axis=1)\n",
    "# train_ft[\"지점코드별_구매횟수_skew\"] = train_ft[cols].skew(axis=1)\n",
    "# train_ft[\"지점코드별_구매횟수_kurt\"] = train_ft[cols].kurt(axis=1)\n",
    "\n",
    "# test_ft[\"지점코드별_구매횟수_std\"] = test_ft[cols].std(axis=1)\n",
    "# test_ft[\"지점코드별_구매횟수_skew\"] = test_ft[cols].skew(axis=1)\n",
    "# test_ft[\"지점코드별_구매횟수_kurt\"] = test_ft[cols].kurt(axis=1)\n",
    "\n",
    "# train_ft.shape, test_ft.shape"
   ]
  },
  {
   "cell_type": "code",
   "execution_count": 15,
   "metadata": {},
   "outputs": [],
   "source": [
    "# cols = [ col for col in train_ft.columns if col.startswith(\"지점코드_구매합계_\") ]\n",
    "\n",
    "# train_ft[\"지점코드별_구매합계_std\"] = train_ft[cols].std(axis=1)\n",
    "# train_ft[\"지점코드별_구매합계_skew\"] = train_ft[cols].skew(axis=1)\n",
    "# train_ft[\"지점코드별_구매합계_kurt\"] = train_ft[cols].kurt(axis=1)\n",
    "\n",
    "# test_ft[\"지점코드별_구매합계_std\"] = test_ft[cols].std(axis=1)\n",
    "# test_ft[\"지점코드별_구매합계_skew\"] = test_ft[cols].skew(axis=1)\n",
    "# test_ft[\"지점코드별_구매합계_kurt\"] = test_ft[cols].kurt(axis=1)\n",
    "\n",
    "# train_ft.shape, test_ft.shape"
   ]
  },
  {
   "cell_type": "code",
   "execution_count": 16,
   "metadata": {
    "colab": {
     "base_uri": "https://localhost:8080/"
    },
    "executionInfo": {
     "elapsed": 713,
     "status": "ok",
     "timestamp": 1730269757495,
     "user": {
      "displayName": "koeyhi",
      "userId": "08049178071858703986"
     },
     "user_tz": -540
    },
    "id": "EQaqdQSARFr4",
    "outputId": "3ed4d721-1bb8-4e8c-bfab-60c4c0a204d6"
   },
   "outputs": [],
   "source": [
    "# cols = [ col for col in train_ft.columns if col.startswith(\"중분류_구매횟수_\") ]\n",
    "\n",
    "# train_ft[\"중분류별_구매횟수_std\"] = train_ft[cols].std(axis=1)\n",
    "# train_ft[\"중분류별_구매횟수_skew\"] = train_ft[cols].skew(axis=1)\n",
    "# train_ft[\"중분류별_구매횟수_kurt\"] = train_ft[cols].kurt(axis=1)\n",
    "\n",
    "# test_ft[\"중분류별_구매횟수_std\"] = test_ft[cols].std(axis=1)\n",
    "# test_ft[\"중분류별_구매횟수_skew\"] = test_ft[cols].skew(axis=1)\n",
    "# test_ft[\"중분류별_구매횟수_kurt\"] = test_ft[cols].kurt(axis=1)\n",
    "\n",
    "# train_ft.shape, test_ft.shape"
   ]
  },
  {
   "cell_type": "code",
   "execution_count": 17,
   "metadata": {},
   "outputs": [],
   "source": [
    "# cols = [ col for col in train_ft.columns if col.startswith(\"중분류_구매합계_\") ]\n",
    "\n",
    "# train_ft[\"중분류별_구매합계_std\"] = train_ft[cols].std(axis=1)\n",
    "# train_ft[\"중분류별_구매합계_skew\"] = train_ft[cols].skew(axis=1)\n",
    "# train_ft[\"중분류별_구매합계_kurt\"] = train_ft[cols].kurt(axis=1)\n",
    "\n",
    "# test_ft[\"중분류별_구매합계_std\"] = test_ft[cols].std(axis=1)\n",
    "# test_ft[\"중분류별_구매합계_skew\"] = test_ft[cols].skew(axis=1)\n",
    "# test_ft[\"중분류별_구매합계_kurt\"] = test_ft[cols].kurt(axis=1)\n",
    "\n",
    "# train_ft.shape, test_ft.shape"
   ]
  },
  {
   "cell_type": "code",
   "execution_count": 18,
   "metadata": {},
   "outputs": [],
   "source": [
    "# cols = [ col for col in train_ft.columns if col.startswith(\"대분류_구매횟수_\") ]\n",
    "\n",
    "# train_ft[\"대분류별_구매횟수_std\"] = train_ft[cols].std(axis=1)\n",
    "# train_ft[\"대분류별_구매횟수_skew\"] = train_ft[cols].skew(axis=1)\n",
    "# train_ft[\"대분류별_구매횟수_kurt\"] = train_ft[cols].kurt(axis=1)\n",
    "\n",
    "# test_ft[\"대분류별_구매횟수_std\"] = test_ft[cols].std(axis=1)\n",
    "# test_ft[\"대분류별_구매횟수_skew\"] = test_ft[cols].skew(axis=1)\n",
    "# test_ft[\"대분류별_구매횟수_kurt\"] = test_ft[cols].kurt(axis=1)\n",
    "\n",
    "# train_ft.shape, test_ft.shape"
   ]
  },
  {
   "cell_type": "code",
   "execution_count": 19,
   "metadata": {},
   "outputs": [],
   "source": [
    "# cols = [ col for col in train_ft.columns if col.startswith(\"대분류_구매합계_\") ]\n",
    "\n",
    "# train_ft[\"대분류별_구매합계_std\"] = train_ft[cols].std(axis=1)\n",
    "# train_ft[\"대분류별_구매합계_skew\"] = train_ft[cols].skew(axis=1)\n",
    "# train_ft[\"대분류별_구매합계_kurt\"] = train_ft[cols].kurt(axis=1)\n",
    "\n",
    "# test_ft[\"대분류별_구매합계_std\"] = test_ft[cols].std(axis=1)\n",
    "# test_ft[\"대분류별_구매합계_skew\"] = test_ft[cols].skew(axis=1)\n",
    "# test_ft[\"대분류별_구매합계_kurt\"] = test_ft[cols].kurt(axis=1)\n",
    "\n",
    "# train_ft.shape, test_ft.shape"
   ]
  },
  {
   "cell_type": "code",
   "execution_count": 20,
   "metadata": {},
   "outputs": [],
   "source": [
    "# cols = [ col for col in train_ft.columns if col.startswith(\"브랜드코드_구매횟수_\") ]\n",
    "\n",
    "# train_ft[\"브랜드코드별_구매횟수_std\"] = train_ft[cols].std(axis=1)\n",
    "# train_ft[\"브랜드코드별_구매횟수_skew\"] = train_ft[cols].skew(axis=1)\n",
    "# train_ft[\"브랜드코드별_구매횟수_kurt\"] = train_ft[cols].kurt(axis=1)\n",
    "\n",
    "# test_ft[\"브랜드코드별_구매횟수_std\"] = test_ft[cols].std(axis=1)\n",
    "# test_ft[\"브랜드코드별_구매횟수_skew\"] = test_ft[cols].skew(axis=1)\n",
    "# test_ft[\"브랜드코드별_구매횟수_kurt\"] = test_ft[cols].kurt(axis=1)\n",
    "\n",
    "# train_ft.shape, test_ft.shape"
   ]
  },
  {
   "cell_type": "code",
   "execution_count": 21,
   "metadata": {},
   "outputs": [],
   "source": [
    "# cols = [ col for col in train_ft.columns if col.startswith(\"브랜드코드_구매합계_\") ]\n",
    "\n",
    "# train_ft[\"브랜드코드별_구매합계_std\"] = train_ft[cols].std(axis=1)\n",
    "# train_ft[\"브랜드코드별_구매합계_skew\"] = train_ft[cols].skew(axis=1)\n",
    "# train_ft[\"브랜드코드별_구매합계_kurt\"] = train_ft[cols].kurt(axis=1)\n",
    "\n",
    "# test_ft[\"브랜드코드별_구매합계_std\"] = test_ft[cols].std(axis=1)\n",
    "# test_ft[\"브랜드코드별_구매합계_skew\"] = test_ft[cols].skew(axis=1)\n",
    "# test_ft[\"브랜드코드별_구매합계_kurt\"] = test_ft[cols].kurt(axis=1)\n",
    "\n",
    "# train_ft.shape, test_ft.shape"
   ]
  },
  {
   "cell_type": "code",
   "execution_count": 22,
   "metadata": {},
   "outputs": [
    {
     "data": {
      "text/plain": [
       "((14940, 795), (12225, 795))"
      ]
     },
     "execution_count": 22,
     "metadata": {},
     "output_type": "execute_result"
    }
   ],
   "source": [
    "cols = [ col for col in train_ft.columns if col.endswith(\"요일_구매비율\") ]\n",
    "\n",
    "train_ft[\"요일별_구매비율_std\"] = train_ft[cols].std(axis=1)\n",
    "train_ft[\"요일별_구매비율_skew\"] = train_ft[cols].skew(axis=1)\n",
    "train_ft[\"요일별_구매비율_kurt\"] = train_ft[cols].kurt(axis=1)\n",
    "\n",
    "test_ft[\"요일별_구매비율_std\"] = test_ft[cols].std(axis=1)\n",
    "test_ft[\"요일별_구매비율_skew\"] = test_ft[cols].skew(axis=1)\n",
    "test_ft[\"요일별_구매비율_kurt\"] = test_ft[cols].kurt(axis=1)\n",
    "\n",
    "train_ft.shape, test_ft.shape"
   ]
  },
  {
   "cell_type": "code",
   "execution_count": 23,
   "metadata": {},
   "outputs": [],
   "source": [
    "# cols = [ col for col in train_ft.columns if col.endswith(\"월_구매비율\") ]\n",
    "\n",
    "# train_ft[\"월별_구매비율_std\"] = train_ft[cols].std(axis=1)\n",
    "# train_ft[\"월별_구매비율_skew\"] = train_ft[cols].skew(axis=1)\n",
    "# train_ft[\"월별_구매비율_kurt\"] = train_ft[cols].kurt(axis=1)\n",
    "\n",
    "# test_ft[\"월별_구매비율_std\"] = test_ft[cols].std(axis=1)\n",
    "# test_ft[\"월별_구매비율_skew\"] = test_ft[cols].skew(axis=1)\n",
    "# test_ft[\"월별_구매비율_kurt\"] = test_ft[cols].kurt(axis=1)\n",
    "\n",
    "# train_ft.shape, test_ft.shape"
   ]
  },
  {
   "cell_type": "code",
   "execution_count": 24,
   "metadata": {},
   "outputs": [
    {
     "data": {
      "text/plain": [
       "((14940, 798), (12225, 798))"
      ]
     },
     "execution_count": 24,
     "metadata": {},
     "output_type": "execute_result"
    }
   ],
   "source": [
    "cols = [\"봄_구매비율\",\"여름_구매비율\",\"가을_구매비율\",\"겨울_구매비율\"]\n",
    "\n",
    "train_ft[\"계절별_구매비율_std\"] = train_ft[cols].std(axis=1)\n",
    "train_ft[\"계절별_구매비율_skew\"] = train_ft[cols].skew(axis=1)\n",
    "train_ft[\"계절별_구매비율_kurt\"] = train_ft[cols].kurt(axis=1)\n",
    "\n",
    "test_ft[\"계절별_구매비율_std\"] = test_ft[cols].std(axis=1)\n",
    "test_ft[\"계절별_구매비율_skew\"] = test_ft[cols].skew(axis=1)\n",
    "test_ft[\"계절별_구매비율_kurt\"] = test_ft[cols].kurt(axis=1)\n",
    "\n",
    "train_ft.shape, test_ft.shape"
   ]
  },
  {
   "cell_type": "code",
   "execution_count": 25,
   "metadata": {},
   "outputs": [],
   "source": [
    "# cols = [ col for col in train_ft.columns if col.endswith(\"분기_구매비율\") ]\n",
    "\n",
    "# train_ft[\"분기별_구매비율_std\"] = train_ft[cols].std(axis=1)\n",
    "# train_ft[\"분기별_구매비율_skew\"] = train_ft[cols].skew(axis=1)\n",
    "# train_ft[\"분기별_구매비율_kurt\"] = train_ft[cols].kurt(axis=1)\n",
    "\n",
    "# test_ft[\"분기별_구매비율_std\"] = test_ft[cols].std(axis=1)\n",
    "# test_ft[\"분기별_구매비율_skew\"] = test_ft[cols].skew(axis=1)\n",
    "# test_ft[\"분기별_구매비율_kurt\"] = test_ft[cols].kurt(axis=1)\n",
    "\n",
    "# train_ft.shape, test_ft.shape"
   ]
  },
  {
   "cell_type": "code",
   "execution_count": 26,
   "metadata": {},
   "outputs": [],
   "source": [
    "# cols = [ col for col in train_ft.columns if col.endswith(\"년_구매비율\") ]\n",
    "\n",
    "# train_ft[\"년도별_구매비율_std\"] = train_ft[cols].std(axis=1)\n",
    "# test_ft[\"년도별_구매비율_std\"] = test_ft[cols].std(axis=1)\n",
    "\n",
    "# train_ft.shape, test_ft.shape"
   ]
  },
  {
   "cell_type": "code",
   "execution_count": 27,
   "metadata": {},
   "outputs": [],
   "source": [
    "# cols_지점 = [col for col in train_ft.columns if col.startswith(\"지점코드_구매횟수_\")]\n",
    "# cols_중분류 = [col for col in train_ft.columns if col.startswith(\"중분류_구매횟수_\")]\n",
    "# cols_대분류 = [col for col in train_ft.columns if col.startswith(\"대분류_구매횟수_\")]\n",
    "\n",
    "# train_ft[\"구매집중도_지점\"] = train_ft[cols_지점].max(axis=1) / train_ft[cols_지점].sum(axis=1)\n",
    "# train_ft[\"구매집중도_중분류\"] = train_ft[cols_중분류].max(axis=1) / train_ft[cols_중분류].sum(axis=1)\n",
    "# train_ft[\"구매집중도_대분류\"] = train_ft[cols_대분류].max(axis=1) / train_ft[cols_대분류].sum(axis=1)\n",
    "\n",
    "# test_ft[\"구매집중도_지점\"] = test_ft[cols_지점].max(axis=1) / test_ft[cols_지점].sum(axis=1)\n",
    "# test_ft[\"구매집중도_중분류\"] = test_ft[cols_중분류].max(axis=1) / test_ft[cols_중분류].sum(axis=1)\n",
    "# test_ft[\"구매집중도_대분류\"] = test_ft[cols_대분류].max(axis=1) / test_ft[cols_대분류].sum(axis=1)\n",
    "\n",
    "# train_ft.shape, test_ft.shape"
   ]
  },
  {
   "cell_type": "markdown",
   "metadata": {
    "id": "gXvdNLMtSVlW"
   },
   "source": [
    "## Feature Encoding"
   ]
  },
  {
   "cell_type": "markdown",
   "metadata": {},
   "source": [
    "- 범주형 피처\n",
    "    - 주구매지점, 주구매_중분류, 주구매_대분류, 선호브랜드코드, 고객등급"
   ]
  },
  {
   "cell_type": "code",
   "execution_count": 28,
   "metadata": {
    "colab": {
     "base_uri": "https://localhost:8080/"
    },
    "executionInfo": {
     "elapsed": 5372,
     "status": "ok",
     "timestamp": 1730269762864,
     "user": {
      "displayName": "koeyhi",
      "userId": "08049178071858703986"
     },
     "user_tz": -540
    },
    "id": "RICJpfu2SRWd",
    "outputId": "771c1229-c8cd-4c73-c977-c1ca65987549"
   },
   "outputs": [],
   "source": [
    "# %pip install category_encoders"
   ]
  },
  {
   "cell_type": "code",
   "execution_count": 29,
   "metadata": {
    "colab": {
     "base_uri": "https://localhost:8080/"
    },
    "executionInfo": {
     "elapsed": 298,
     "status": "ok",
     "timestamp": 1730269770905,
     "user": {
      "displayName": "koeyhi",
      "userId": "08049178071858703986"
     },
     "user_tz": -540
    },
    "id": "3d6B3II8T25p",
    "outputId": "f5d9eb08-ac39-4dd0-cd4e-8eb35ecf752f"
   },
   "outputs": [
    {
     "data": {
      "text/plain": [
       "((14940, 803), (12225, 803))"
      ]
     },
     "execution_count": 29,
     "metadata": {},
     "output_type": "execute_result"
    }
   ],
   "source": [
    "import category_encoders as ce\n",
    "from sklearn.preprocessing import OneHotEncoder, OrdinalEncoder\n",
    "\n",
    "oh_enc = OneHotEncoder(handle_unknown=\"ignore\")\n",
    "oh_enc_cols = [\"고객등급\"]\n",
    "oh_enc_data = pd.concat([train_ft[oh_enc_cols], test_ft[oh_enc_cols]])\n",
    "oh_enc.fit(oh_enc_data)\n",
    "\n",
    "train_ft[oh_enc.get_feature_names_out()] = oh_enc.transform(train_ft[oh_enc_cols]).toarray()\n",
    "test_ft[oh_enc.get_feature_names_out()] = oh_enc.transform(test_ft[oh_enc_cols]).toarray()\n",
    "\n",
    "train_ft.shape, test_ft.shape"
   ]
  },
  {
   "cell_type": "code",
   "execution_count": 30,
   "metadata": {},
   "outputs": [
    {
     "data": {
      "text/plain": [
       "((14940, 803), (12225, 803))"
      ]
     },
     "execution_count": 30,
     "metadata": {},
     "output_type": "execute_result"
    }
   ],
   "source": [
    "train_ft['선호브랜드코드'] = train_ft['선호브랜드코드'].astype('category')\n",
    "test_ft['선호브랜드코드'] = test_ft['선호브랜드코드'].astype('category')\n",
    "\n",
    "combined_brands = pd.concat([train_ft['선호브랜드코드'], test_ft['선호브랜드코드']])\n",
    "\n",
    "enc = ce.CountEncoder()\n",
    "train_ft[\"선호브랜드코드_cnt\"] = enc.fit_transform(train_ft[['선호브랜드코드']])\n",
    "test_ft[\"선호브랜드코드_cnt\"] = enc.transform(test_ft[['선호브랜드코드']])\n",
    "\n",
    "train_ft.drop(columns=[\"선호브랜드코드\"], inplace=True)\n",
    "test_ft.drop(columns=[\"선호브랜드코드\"], inplace=True)\n",
    "\n",
    "train_ft.shape, test_ft.shape"
   ]
  },
  {
   "cell_type": "markdown",
   "metadata": {
    "id": "lPURwRnPUj-B"
   },
   "source": [
    "- 문자열 피처 삭제"
   ]
  },
  {
   "cell_type": "code",
   "execution_count": 31,
   "metadata": {},
   "outputs": [
    {
     "data": {
      "text/plain": [
       "['주구매_중분류', '주구매_대분류', '고객등급']"
      ]
     },
     "execution_count": 31,
     "metadata": {},
     "output_type": "execute_result"
    }
   ],
   "source": [
    "cols = train_ft.select_dtypes([\"object\", \"datetime\"]).columns.tolist()\n",
    "cols"
   ]
  },
  {
   "cell_type": "code",
   "execution_count": 32,
   "metadata": {
    "colab": {
     "base_uri": "https://localhost:8080/"
    },
    "executionInfo": {
     "elapsed": 338,
     "status": "ok",
     "timestamp": 1730269771556,
     "user": {
      "displayName": "koeyhi",
      "userId": "08049178071858703986"
     },
     "user_tz": -540
    },
    "id": "zZlZoAMZUbGp",
    "outputId": "2dc6b54d-eacb-450d-8fc1-b2b19198435c"
   },
   "outputs": [
    {
     "data": {
      "text/plain": [
       "((14940, 800), (12225, 800))"
      ]
     },
     "execution_count": 32,
     "metadata": {},
     "output_type": "execute_result"
    }
   ],
   "source": [
    "train_ft = train_ft.drop(columns=cols)\n",
    "test_ft = test_ft.drop(columns=cols)\n",
    "train_ft.shape, test_ft.shape"
   ]
  },
  {
   "cell_type": "code",
   "execution_count": 33,
   "metadata": {
    "colab": {
     "base_uri": "https://localhost:8080/"
    },
    "executionInfo": {
     "elapsed": 3,
     "status": "ok",
     "timestamp": 1730269771557,
     "user": {
      "displayName": "koeyhi",
      "userId": "08049178071858703986"
     },
     "user_tz": -540
    },
    "id": "1-y4-kmTUmso",
    "outputId": "7e3d9700-ac05-48e8-81e1-d6b1eb972cea"
   },
   "outputs": [
    {
     "data": {
      "text/plain": [
       "(Index([], dtype='object'), Index([], dtype='object'))"
      ]
     },
     "execution_count": 33,
     "metadata": {},
     "output_type": "execute_result"
    }
   ],
   "source": [
    "train_ft.select_dtypes(\"object\").columns , test_ft.select_dtypes(\"object\").columns"
   ]
  },
  {
   "cell_type": "code",
   "execution_count": 34,
   "metadata": {},
   "outputs": [
    {
     "data": {
      "text/plain": [
       "(Index([], dtype='object'), Index([], dtype='object'))"
      ]
     },
     "execution_count": 34,
     "metadata": {},
     "output_type": "execute_result"
    }
   ],
   "source": [
    "train_ft.select_dtypes(\"datetime\").columns, test_ft.select_dtypes(\"datetime\").columns"
   ]
  },
  {
   "cell_type": "markdown",
   "metadata": {
    "id": "KAQ-3TU5U0Pk"
   },
   "source": [
    "## Feature Scaling"
   ]
  },
  {
   "cell_type": "code",
   "execution_count": 35,
   "metadata": {},
   "outputs": [
    {
     "data": {
      "text/plain": [
       "(0, 0)"
      ]
     },
     "execution_count": 35,
     "metadata": {},
     "output_type": "execute_result"
    }
   ],
   "source": [
    "train_ft.isin([np.inf, -np.inf]).any().sum(), test_ft.isin([np.inf, -np.inf]).any().sum()"
   ]
  },
  {
   "cell_type": "code",
   "execution_count": 36,
   "metadata": {},
   "outputs": [],
   "source": [
    "train_ft = train_ft.fillna(0)\n",
    "test_ft = test_ft.fillna(0)"
   ]
  },
  {
   "cell_type": "code",
   "execution_count": 37,
   "metadata": {},
   "outputs": [
    {
     "data": {
      "text/plain": [
       "(0, 0)"
      ]
     },
     "execution_count": 37,
     "metadata": {},
     "output_type": "execute_result"
    }
   ],
   "source": [
    "train_ft.isna().sum().sum(), test_ft.isna().sum().sum()"
   ]
  },
  {
   "cell_type": "code",
   "execution_count": 38,
   "metadata": {},
   "outputs": [
    {
     "data": {
      "text/html": [
       "<div>\n",
       "<style scoped>\n",
       "    .dataframe tbody tr th:only-of-type {\n",
       "        vertical-align: middle;\n",
       "    }\n",
       "\n",
       "    .dataframe tbody tr th {\n",
       "        vertical-align: top;\n",
       "    }\n",
       "\n",
       "    .dataframe thead th {\n",
       "        text-align: right;\n",
       "    }\n",
       "</style>\n",
       "<table border=\"1\" class=\"dataframe\">\n",
       "  <thead>\n",
       "    <tr style=\"text-align: right;\">\n",
       "      <th></th>\n",
       "      <th>총방문일수</th>\n",
       "      <th>백화점이용기간</th>\n",
       "      <th>구매주기</th>\n",
       "      <th>주말방문일수</th>\n",
       "      <th>일별평균구매건수</th>\n",
       "      <th>구매간격_표준편차</th>\n",
       "      <th>평균구매요일</th>\n",
       "      <th>주구매요일</th>\n",
       "      <th>월요일_구매비율</th>\n",
       "      <th>화요일_구매비율</th>\n",
       "      <th>...</th>\n",
       "      <th>요일별_구매비율_kurt</th>\n",
       "      <th>계절별_구매비율_std</th>\n",
       "      <th>계절별_구매비율_skew</th>\n",
       "      <th>계절별_구매비율_kurt</th>\n",
       "      <th>고객등급_Black</th>\n",
       "      <th>고객등급_Diamond</th>\n",
       "      <th>고객등급_Gold</th>\n",
       "      <th>고객등급_Normal</th>\n",
       "      <th>고객등급_Platinum</th>\n",
       "      <th>선호브랜드코드_cnt</th>\n",
       "    </tr>\n",
       "  </thead>\n",
       "  <tbody>\n",
       "    <tr>\n",
       "      <th>0</th>\n",
       "      <td>-0.441985</td>\n",
       "      <td>-0.031924</td>\n",
       "      <td>0.191603</td>\n",
       "      <td>-0.363618</td>\n",
       "      <td>-0.292817</td>\n",
       "      <td>0.019124</td>\n",
       "      <td>0.040957</td>\n",
       "      <td>-0.469891</td>\n",
       "      <td>-0.340771</td>\n",
       "      <td>-0.866857</td>\n",
       "      <td>...</td>\n",
       "      <td>-0.606462</td>\n",
       "      <td>-0.637787</td>\n",
       "      <td>-1.894117</td>\n",
       "      <td>0.896058</td>\n",
       "      <td>-0.303357</td>\n",
       "      <td>-0.133863</td>\n",
       "      <td>-0.204728</td>\n",
       "      <td>0.433781</td>\n",
       "      <td>-0.128585</td>\n",
       "      <td>-1.002992</td>\n",
       "    </tr>\n",
       "    <tr>\n",
       "      <th>1</th>\n",
       "      <td>0.202927</td>\n",
       "      <td>0.861742</td>\n",
       "      <td>-0.406568</td>\n",
       "      <td>-0.569238</td>\n",
       "      <td>0.470397</td>\n",
       "      <td>-0.545535</td>\n",
       "      <td>-0.799074</td>\n",
       "      <td>0.116688</td>\n",
       "      <td>-0.502484</td>\n",
       "      <td>0.896581</td>\n",
       "      <td>...</td>\n",
       "      <td>-1.001845</td>\n",
       "      <td>-0.625854</td>\n",
       "      <td>-0.566732</td>\n",
       "      <td>-1.887284</td>\n",
       "      <td>-0.303357</td>\n",
       "      <td>-0.133863</td>\n",
       "      <td>-0.204728</td>\n",
       "      <td>0.433781</td>\n",
       "      <td>-0.128585</td>\n",
       "      <td>1.056804</td>\n",
       "    </tr>\n",
       "    <tr>\n",
       "      <th>2</th>\n",
       "      <td>2.030180</td>\n",
       "      <td>0.898594</td>\n",
       "      <td>-0.905045</td>\n",
       "      <td>1.486955</td>\n",
       "      <td>0.220618</td>\n",
       "      <td>-0.890269</td>\n",
       "      <td>-0.770108</td>\n",
       "      <td>-1.643049</td>\n",
       "      <td>0.905371</td>\n",
       "      <td>0.387353</td>\n",
       "      <td>...</td>\n",
       "      <td>-0.072100</td>\n",
       "      <td>-0.489084</td>\n",
       "      <td>0.763888</td>\n",
       "      <td>0.654645</td>\n",
       "      <td>-0.303357</td>\n",
       "      <td>7.470347</td>\n",
       "      <td>-0.204728</td>\n",
       "      <td>-2.305310</td>\n",
       "      <td>-0.128585</td>\n",
       "      <td>-1.000947</td>\n",
       "    </tr>\n",
       "    <tr>\n",
       "      <th>3</th>\n",
       "      <td>3.911175</td>\n",
       "      <td>0.797251</td>\n",
       "      <td>-1.054588</td>\n",
       "      <td>3.131908</td>\n",
       "      <td>0.565798</td>\n",
       "      <td>-0.986871</td>\n",
       "      <td>0.139600</td>\n",
       "      <td>0.703267</td>\n",
       "      <td>-0.311925</td>\n",
       "      <td>-0.102556</td>\n",
       "      <td>...</td>\n",
       "      <td>-1.023329</td>\n",
       "      <td>-0.903228</td>\n",
       "      <td>1.332433</td>\n",
       "      <td>1.152378</td>\n",
       "      <td>-0.303357</td>\n",
       "      <td>7.470347</td>\n",
       "      <td>-0.204728</td>\n",
       "      <td>-2.305310</td>\n",
       "      <td>-0.128585</td>\n",
       "      <td>-0.940468</td>\n",
       "    </tr>\n",
       "    <tr>\n",
       "      <th>4</th>\n",
       "      <td>0.364155</td>\n",
       "      <td>0.502433</td>\n",
       "      <td>-0.556111</td>\n",
       "      <td>0.458858</td>\n",
       "      <td>-0.388218</td>\n",
       "      <td>-0.534063</td>\n",
       "      <td>1.088582</td>\n",
       "      <td>0.703267</td>\n",
       "      <td>-0.259915</td>\n",
       "      <td>-0.492795</td>\n",
       "      <td>...</td>\n",
       "      <td>-0.276613</td>\n",
       "      <td>-0.240864</td>\n",
       "      <td>0.233283</td>\n",
       "      <td>-0.749697</td>\n",
       "      <td>-0.303357</td>\n",
       "      <td>-0.133863</td>\n",
       "      <td>-0.204728</td>\n",
       "      <td>0.433781</td>\n",
       "      <td>-0.128585</td>\n",
       "      <td>1.056804</td>\n",
       "    </tr>\n",
       "  </tbody>\n",
       "</table>\n",
       "<p>5 rows × 800 columns</p>\n",
       "</div>"
      ],
      "text/plain": [
       "      총방문일수   백화점이용기간      구매주기    주말방문일수  일별평균구매건수  구매간격_표준편차    평균구매요일  \\\n",
       "0 -0.441985 -0.031924  0.191603 -0.363618 -0.292817   0.019124  0.040957   \n",
       "1  0.202927  0.861742 -0.406568 -0.569238  0.470397  -0.545535 -0.799074   \n",
       "2  2.030180  0.898594 -0.905045  1.486955  0.220618  -0.890269 -0.770108   \n",
       "3  3.911175  0.797251 -1.054588  3.131908  0.565798  -0.986871  0.139600   \n",
       "4  0.364155  0.502433 -0.556111  0.458858 -0.388218  -0.534063  1.088582   \n",
       "\n",
       "      주구매요일  월요일_구매비율  화요일_구매비율  ...  요일별_구매비율_kurt  계절별_구매비율_std  \\\n",
       "0 -0.469891 -0.340771 -0.866857  ...      -0.606462     -0.637787   \n",
       "1  0.116688 -0.502484  0.896581  ...      -1.001845     -0.625854   \n",
       "2 -1.643049  0.905371  0.387353  ...      -0.072100     -0.489084   \n",
       "3  0.703267 -0.311925 -0.102556  ...      -1.023329     -0.903228   \n",
       "4  0.703267 -0.259915 -0.492795  ...      -0.276613     -0.240864   \n",
       "\n",
       "   계절별_구매비율_skew  계절별_구매비율_kurt  고객등급_Black  고객등급_Diamond  고객등급_Gold  \\\n",
       "0      -1.894117       0.896058   -0.303357     -0.133863  -0.204728   \n",
       "1      -0.566732      -1.887284   -0.303357     -0.133863  -0.204728   \n",
       "2       0.763888       0.654645   -0.303357      7.470347  -0.204728   \n",
       "3       1.332433       1.152378   -0.303357      7.470347  -0.204728   \n",
       "4       0.233283      -0.749697   -0.303357     -0.133863  -0.204728   \n",
       "\n",
       "   고객등급_Normal  고객등급_Platinum  선호브랜드코드_cnt  \n",
       "0     0.433781      -0.128585    -1.002992  \n",
       "1     0.433781      -0.128585     1.056804  \n",
       "2    -2.305310      -0.128585    -1.000947  \n",
       "3    -2.305310      -0.128585    -0.940468  \n",
       "4     0.433781      -0.128585     1.056804  \n",
       "\n",
       "[5 rows x 800 columns]"
      ]
     },
     "execution_count": 38,
     "metadata": {},
     "output_type": "execute_result"
    }
   ],
   "source": [
    "from sklearn.preprocessing import StandardScaler, MinMaxScaler, RobustScaler, PowerTransformer, Normalizer\n",
    "scaler = StandardScaler()\n",
    "\n",
    "train_ft[train_ft.columns] = scaler.fit_transform(train_ft)\n",
    "test_ft[test_ft.columns] = scaler.transform(test_ft)\n",
    "train_ft.head()"
   ]
  },
  {
   "cell_type": "markdown",
   "metadata": {},
   "source": [
    "# 차원축소"
   ]
  },
  {
   "cell_type": "markdown",
   "metadata": {},
   "source": [
    "- 학습데이터에서 분산 임계값이 0인 경우 제외"
   ]
  },
  {
   "cell_type": "code",
   "execution_count": 39,
   "metadata": {},
   "outputs": [
    {
     "data": {
      "text/plain": [
       "((14940, 800), (12225, 800))"
      ]
     },
     "execution_count": 39,
     "metadata": {},
     "output_type": "execute_result"
    }
   ],
   "source": [
    "from sklearn.feature_selection import VarianceThreshold\n",
    "\n",
    "vt = VarianceThreshold(threshold=0)\n",
    "vt.fit(train_ft)\n",
    "\n",
    "train_vt = pd.DataFrame(vt.transform(train_ft), columns=train_ft.columns[vt.get_support()])\n",
    "test_vt = test_ft[train_vt.columns]\n",
    "\n",
    "train_vt.shape, test_vt.shape"
   ]
  },
  {
   "cell_type": "code",
   "execution_count": 40,
   "metadata": {},
   "outputs": [
    {
     "data": {
      "text/plain": [
       "((14940, 798), (12225, 798))"
      ]
     },
     "execution_count": 40,
     "metadata": {},
     "output_type": "execute_result"
    }
   ],
   "source": [
    "cols = [\n",
    "    \"환불후재구매브랜드_count\",\n",
    "    \"방문일수_대비_구매건수\",\n",
    "]\n",
    "\n",
    "train_vt.drop(columns=cols, inplace=True)\n",
    "test_vt.drop(columns=cols, inplace=True)\n",
    "train_vt.shape, test_vt.shape"
   ]
  },
  {
   "cell_type": "markdown",
   "metadata": {},
   "source": [
    "- 특성 간 상관관계 90% 이상인 경우 제거"
   ]
  },
  {
   "cell_type": "code",
   "execution_count": 41,
   "metadata": {},
   "outputs": [],
   "source": [
    "# corr = train_vt.corr().abs()\n",
    "# upper = corr.where(np.triu(np.ones(corr.shape), k=1).astype(bool))\n",
    "# to_drop = [col for col in upper.columns if any(upper[col] >= 0.9)]\n",
    "\n",
    "# train_vt.drop(columns=to_drop, inplace=True)\n",
    "# test_vt.drop(columns=to_drop, inplace=True)\n",
    "# train_vt.shape, test_vt.shape"
   ]
  },
  {
   "cell_type": "code",
   "execution_count": 42,
   "metadata": {},
   "outputs": [],
   "source": [
    "# train_vt.to_csv(f\"{DATA_PATH}train_corr.csv\",index=False)\n",
    "# test_vt.to_csv(f\"{DATA_PATH}test_corr.csv\",index=False)"
   ]
  },
  {
   "cell_type": "markdown",
   "metadata": {},
   "source": [
    "- cv 점수 확인"
   ]
  },
  {
   "cell_type": "code",
   "execution_count": 43,
   "metadata": {},
   "outputs": [
    {
     "name": "stdout",
     "output_type": "stream",
     "text": [
      "[LightGBM] [Info] Number of positive: 5874, number of negative: 9066\n",
      "[LightGBM] [Info] Auto-choosing col-wise multi-threading, the overhead of testing was 0.032129 seconds.\n",
      "You can set `force_col_wise=true` to remove the overhead.\n",
      "[LightGBM] [Info] Total Bins 76327\n",
      "[LightGBM] [Info] Number of data points in the train set: 14940, number of used features: 764\n",
      "[LightGBM] [Info] [binary:BoostFromScore]: pavg=0.393173 -> initscore=-0.433995\n",
      "[LightGBM] [Info] Start training from score -0.433995\n"
     ]
    },
    {
     "data": {
      "text/plain": [
       "0.7201437214228191"
      ]
     },
     "execution_count": 43,
     "metadata": {},
     "output_type": "execute_result"
    }
   ],
   "source": [
    "from sklearn.ensemble import RandomForestClassifier\n",
    "from sklearn.model_selection import StratifiedKFold, cross_val_score\n",
    "from lightgbm import LGBMClassifier\n",
    "\n",
    "cv = StratifiedKFold(n_splits=5, shuffle=True, random_state=SEED)\n",
    "model = LGBMClassifier(random_state=SEED)\n",
    "model.fit(train_vt, target)\n",
    "\n",
    "scores = cross_val_score(model, train_vt, target, cv=cv, scoring=\"f1_macro\", n_jobs=-1)\n",
    "np.mean(scores)"
   ]
  },
  {
   "cell_type": "markdown",
   "metadata": {},
   "source": [
    "- XAI 활용"
   ]
  },
  {
   "cell_type": "code",
   "execution_count": 44,
   "metadata": {},
   "outputs": [
    {
     "name": "stderr",
     "output_type": "stream",
     "text": [
      "c:\\Users\\kwon3\\AppData\\Local\\Programs\\Python\\Python310\\lib\\site-packages\\tqdm\\auto.py:21: TqdmWarning: IProgress not found. Please update jupyter and ipywidgets. See https://ipywidgets.readthedocs.io/en/stable/user_install.html\n",
      "  from .autonotebook import tqdm as notebook_tqdm\n"
     ]
    },
    {
     "name": "stdout",
     "output_type": "stream",
     "text": [
      "[LightGBM] [Info] Number of positive: 5874, number of negative: 9066\n",
      "[LightGBM] [Info] Auto-choosing col-wise multi-threading, the overhead of testing was 0.032233 seconds.\n",
      "You can set `force_col_wise=true` to remove the overhead.\n",
      "[LightGBM] [Info] Total Bins 76327\n",
      "[LightGBM] [Info] Number of data points in the train set: 14940, number of used features: 764\n",
      "[LightGBM] [Info] [binary:BoostFromScore]: pavg=0.393173 -> initscore=-0.433995\n",
      "[LightGBM] [Info] Start training from score -0.433995\n"
     ]
    },
    {
     "data": {
      "image/png": "[encoded data removed]",
      "text/plain": [
       "<Figure size 800x950 with 2 Axes>"
      ]
     },
     "metadata": {},
     "output_type": "display_data"
    }
   ],
   "source": [
    "import shap\n",
    "\n",
    "model = LGBMClassifier(random_state=SEED)\n",
    "model.fit(train_vt, target)\n",
    "\n",
    "explainer = shap.Explainer(model)\n",
    "shap_values = explainer(train_vt)\n",
    "shap.summary_plot(shap_values, train_vt)"
   ]
  },
  {
   "cell_type": "markdown",
   "metadata": {},
   "source": [
    "- SelectFromModel"
   ]
  },
  {
   "cell_type": "code",
   "execution_count": 46,
   "metadata": {},
   "outputs": [],
   "source": [
    "from sklearn.feature_selection import SelectFromModel\n",
    "\n",
    "rf = RandomForestClassifier(random_state=SEED)"
   ]
  },
  {
   "cell_type": "code",
   "execution_count": null,
   "metadata": {},
   "outputs": [
    {
     "name": "stdout",
     "output_type": "stream",
     "text": [
      "0.1*median 0.718868372771848 713\n",
      "0.2*median 0.7196342355926706 655\n",
      "0.30000000000000004*median 0.721058826169593 606\n",
      "0.4*median 0.7212160982552742 561\n",
      "0.5*median 0.720563305480986 520\n",
      "0.6*median 0.7207913365335037 487\n",
      "0.7000000000000001*median 0.7207788715128425 461\n",
      "0.8*median 0.719773118209686 436\n",
      "0.9*median 0.718176705240323 415\n"
     ]
    }
   ],
   "source": [
    "# thresholds = [\n",
    "#     'mean', 'median',\n",
    "#     '0.5*mean', '1.5*mean', '2*mean',\n",
    "#     '0.5*median', '1.5*median', '2*median'\n",
    "# ]\n",
    "\n",
    "thresholds = [f\"{i}*median\" for i in np.arange(0.1, 1.0, 0.1)]\n",
    "\n",
    "for threshold in thresholds:\n",
    "    sfm = SelectFromModel(threshold=threshold, estimator=rf)\n",
    "    sfm.fit(train_vt, target)\n",
    "    train_sfm = sfm.transform(train_vt)\n",
    "\n",
    "    scores = cross_val_score(model, train_sfm, target, cv=cv, scoring=\"f1_macro\", n_jobs=-1)\n",
    "    print(threshold, np.mean(scores), train_sfm.shape[1])"
   ]
  },
  {
   "cell_type": "code",
   "execution_count": 47,
   "metadata": {},
   "outputs": [
    {
     "data": {
      "text/plain": [
       "(0.7212160982552742, (14940, 561))"
      ]
     },
     "execution_count": 47,
     "metadata": {},
     "output_type": "execute_result"
    }
   ],
   "source": [
    "sfm = SelectFromModel(rf, threshold='0.4*median')\n",
    "\n",
    "train_sfm = sfm.fit_transform(train_vt, target)\n",
    "test_sfm = sfm.transform(test_vt)\n",
    "\n",
    "scores = cross_val_score(model, train_sfm, target, cv=cv, scoring=\"f1_macro\", n_jobs=-1)\n",
    "np.mean(scores), train_sfm.shape"
   ]
  },
  {
   "cell_type": "code",
   "execution_count": 48,
   "metadata": {},
   "outputs": [
    {
     "data": {
      "text/html": [
       "<div>\n",
       "<style scoped>\n",
       "    .dataframe tbody tr th:only-of-type {\n",
       "        vertical-align: middle;\n",
       "    }\n",
       "\n",
       "    .dataframe tbody tr th {\n",
       "        vertical-align: top;\n",
       "    }\n",
       "\n",
       "    .dataframe thead th {\n",
       "        text-align: right;\n",
       "    }\n",
       "</style>\n",
       "<table border=\"1\" class=\"dataframe\">\n",
       "  <thead>\n",
       "    <tr style=\"text-align: right;\">\n",
       "      <th></th>\n",
       "      <th>feature</th>\n",
       "      <th>score</th>\n",
       "    </tr>\n",
       "  </thead>\n",
       "  <tbody>\n",
       "    <tr>\n",
       "      <th>53</th>\n",
       "      <td>평균구매시각</td>\n",
       "      <td>0.022176</td>\n",
       "    </tr>\n",
       "    <tr>\n",
       "      <th>68</th>\n",
       "      <td>주구매_대분류_잡화</td>\n",
       "      <td>0.020970</td>\n",
       "    </tr>\n",
       "    <tr>\n",
       "      <th>49</th>\n",
       "      <td>18시이후_구매비율</td>\n",
       "      <td>0.019116</td>\n",
       "    </tr>\n",
       "    <tr>\n",
       "      <th>48</th>\n",
       "      <td>18시이전_구매비율</td>\n",
       "      <td>0.018531</td>\n",
       "    </tr>\n",
       "    <tr>\n",
       "      <th>56</th>\n",
       "      <td>저녁_구매비율</td>\n",
       "      <td>0.014934</td>\n",
       "    </tr>\n",
       "    <tr>\n",
       "      <th>66</th>\n",
       "      <td>주구매_중분류_주방용품</td>\n",
       "      <td>0.009204</td>\n",
       "    </tr>\n",
       "    <tr>\n",
       "      <th>402</th>\n",
       "      <td>중분류_구매합계_용기보증</td>\n",
       "      <td>0.009015</td>\n",
       "    </tr>\n",
       "    <tr>\n",
       "      <th>52</th>\n",
       "      <td>주구매시간대</td>\n",
       "      <td>0.008623</td>\n",
       "    </tr>\n",
       "    <tr>\n",
       "      <th>549</th>\n",
       "      <td>방문당_평균구매금액</td>\n",
       "      <td>0.008617</td>\n",
       "    </tr>\n",
       "    <tr>\n",
       "      <th>11</th>\n",
       "      <td>목요일_구매비율</td>\n",
       "      <td>0.008564</td>\n",
       "    </tr>\n",
       "    <tr>\n",
       "      <th>64</th>\n",
       "      <td>주구매_중분류_화장품</td>\n",
       "      <td>0.008423</td>\n",
       "    </tr>\n",
       "    <tr>\n",
       "      <th>73</th>\n",
       "      <td>평균구매금액</td>\n",
       "      <td>0.007603</td>\n",
       "    </tr>\n",
       "    <tr>\n",
       "      <th>55</th>\n",
       "      <td>점심_구매비율</td>\n",
       "      <td>0.007587</td>\n",
       "    </tr>\n",
       "    <tr>\n",
       "      <th>75</th>\n",
       "      <td>최대구매금액</td>\n",
       "      <td>0.007552</td>\n",
       "    </tr>\n",
       "    <tr>\n",
       "      <th>74</th>\n",
       "      <td>구매금액_median</td>\n",
       "      <td>0.007129</td>\n",
       "    </tr>\n",
       "    <tr>\n",
       "      <th>71</th>\n",
       "      <td>총구매금액</td>\n",
       "      <td>0.007068</td>\n",
       "    </tr>\n",
       "    <tr>\n",
       "      <th>77</th>\n",
       "      <td>구매금액표준편차</td>\n",
       "      <td>0.006906</td>\n",
       "    </tr>\n",
       "    <tr>\n",
       "      <th>76</th>\n",
       "      <td>최소구매금액</td>\n",
       "      <td>0.006840</td>\n",
       "    </tr>\n",
       "    <tr>\n",
       "      <th>548</th>\n",
       "      <td>구매주기_대비_구매금액</td>\n",
       "      <td>0.006835</td>\n",
       "    </tr>\n",
       "    <tr>\n",
       "      <th>6</th>\n",
       "      <td>평균구매요일</td>\n",
       "      <td>0.006552</td>\n",
       "    </tr>\n",
       "    <tr>\n",
       "      <th>50</th>\n",
       "      <td>오전_구매비율</td>\n",
       "      <td>0.006375</td>\n",
       "    </tr>\n",
       "    <tr>\n",
       "      <th>51</th>\n",
       "      <td>오후_구매비율</td>\n",
       "      <td>0.006351</td>\n",
       "    </tr>\n",
       "    <tr>\n",
       "      <th>83</th>\n",
       "      <td>구매금액_변동성</td>\n",
       "      <td>0.006321</td>\n",
       "    </tr>\n",
       "    <tr>\n",
       "      <th>366</th>\n",
       "      <td>중분류_구매합계_수입종합화장품</td>\n",
       "      <td>0.006275</td>\n",
       "    </tr>\n",
       "    <tr>\n",
       "      <th>210</th>\n",
       "      <td>중분류_구매횟수_용기보증</td>\n",
       "      <td>0.006106</td>\n",
       "    </tr>\n",
       "    <tr>\n",
       "      <th>533</th>\n",
       "      <td>Monday_sum</td>\n",
       "      <td>0.006090</td>\n",
       "    </tr>\n",
       "    <tr>\n",
       "      <th>78</th>\n",
       "      <td>구매금액_skew</td>\n",
       "      <td>0.005984</td>\n",
       "    </tr>\n",
       "    <tr>\n",
       "      <th>1</th>\n",
       "      <td>백화점이용기간</td>\n",
       "      <td>0.005910</td>\n",
       "    </tr>\n",
       "    <tr>\n",
       "      <th>537</th>\n",
       "      <td>Tuesday_sum</td>\n",
       "      <td>0.005758</td>\n",
       "    </tr>\n",
       "    <tr>\n",
       "      <th>560</th>\n",
       "      <td>선호브랜드코드_cnt</td>\n",
       "      <td>0.005751</td>\n",
       "    </tr>\n",
       "  </tbody>\n",
       "</table>\n",
       "</div>"
      ],
      "text/plain": [
       "              feature     score\n",
       "53             평균구매시각  0.022176\n",
       "68         주구매_대분류_잡화  0.020970\n",
       "49         18시이후_구매비율  0.019116\n",
       "48         18시이전_구매비율  0.018531\n",
       "56            저녁_구매비율  0.014934\n",
       "66       주구매_중분류_주방용품  0.009204\n",
       "402     중분류_구매합계_용기보증  0.009015\n",
       "52             주구매시간대  0.008623\n",
       "549        방문당_평균구매금액  0.008617\n",
       "11           목요일_구매비율  0.008564\n",
       "64        주구매_중분류_화장품  0.008423\n",
       "73             평균구매금액  0.007603\n",
       "55            점심_구매비율  0.007587\n",
       "75             최대구매금액  0.007552\n",
       "74        구매금액_median  0.007129\n",
       "71              총구매금액  0.007068\n",
       "77           구매금액표준편차  0.006906\n",
       "76             최소구매금액  0.006840\n",
       "548      구매주기_대비_구매금액  0.006835\n",
       "6              평균구매요일  0.006552\n",
       "50            오전_구매비율  0.006375\n",
       "51            오후_구매비율  0.006351\n",
       "83           구매금액_변동성  0.006321\n",
       "366  중분류_구매합계_수입종합화장품  0.006275\n",
       "210     중분류_구매횟수_용기보증  0.006106\n",
       "533        Monday_sum  0.006090\n",
       "78          구매금액_skew  0.005984\n",
       "1             백화점이용기간  0.005910\n",
       "537       Tuesday_sum  0.005758\n",
       "560       선호브랜드코드_cnt  0.005751"
      ]
     },
     "execution_count": 48,
     "metadata": {},
     "output_type": "execute_result"
    }
   ],
   "source": [
    "train_sfm = pd.DataFrame(train_sfm, columns=train_vt.columns[sfm.get_support()])\n",
    "test_sfm = pd.DataFrame(test_sfm, columns=test_vt.columns[sfm.get_support()])\n",
    "\n",
    "feature_importance = pd.DataFrame({\n",
    "    'feature': train_sfm.columns,\n",
    "    'score': sfm.estimator_.feature_importances_[sfm.get_support()]\n",
    "}).reset_index(drop=True)\n",
    "\n",
    "feature_importance.sort_values('score', ascending=False).head(30)"
   ]
  },
  {
   "cell_type": "markdown",
   "metadata": {},
   "source": [
    "- SelectKBest"
   ]
  },
  {
   "cell_type": "code",
   "execution_count": 45,
   "metadata": {},
   "outputs": [],
   "source": [
    "from sklearn.feature_selection import SelectKBest"
   ]
  },
  {
   "cell_type": "code",
   "execution_count": 383,
   "metadata": {},
   "outputs": [
    {
     "name": "stdout",
     "output_type": "stream",
     "text": [
      "특성수=100, 정확도=0.711780932398412\n",
      "특성수=150, 정확도=0.710483758620273\n",
      "특성수=200, 정확도=0.713646165278235\n",
      "특성수=250, 정확도=0.714869911371413\n",
      "특성수=300, 정확도=0.715305027170405\n",
      "특성수=350, 정확도=0.7167115229403127\n",
      "특성수=400, 정확도=0.7150479863089558\n",
      "특성수=450, 정확도=0.7185239463366592\n",
      "특성수=500, 정확도=0.7157437209291736\n",
      "특성수=550, 정확도=0.7178764671558318\n",
      "특성수=600, 정확도=0.7213052832944863\n",
      "특성수=650, 정확도=0.72375225498769\n"
     ]
    }
   ],
   "source": [
    "for k in range(100, 700, 50):\n",
    "    skb = SelectKBest(k=k)\n",
    "    skb.fit(train_vt, target)\n",
    "    # skb.fit(train_sfm, target)\n",
    "    train_skb = skb.transform(train_vt)\n",
    "\n",
    "    scores = cross_val_score(model, train_skb, target, cv=cv, scoring=\"f1_macro\", n_jobs=-1)\n",
    "    print(f\"특성수={k}, 정확도={np.mean(scores)}\")"
   ]
  },
  {
   "cell_type": "code",
   "execution_count": 384,
   "metadata": {},
   "outputs": [
    {
     "name": "stdout",
     "output_type": "stream",
     "text": [
      "특성수=610, 정확도=0.7216672689568184\n",
      "특성수=620, 정확도=0.717465257955822\n",
      "특성수=630, 정확도=0.7214594586011386\n",
      "특성수=640, 정확도=0.7196409683372721\n",
      "특성수=650, 정확도=0.72375225498769\n",
      "특성수=660, 정확도=0.7198389198723966\n",
      "특성수=670, 정확도=0.7190446052681029\n",
      "특성수=680, 정확도=0.7214521293879239\n",
      "특성수=690, 정확도=0.719396969751528\n",
      "특성수=700, 정확도=0.7191365156808864\n"
     ]
    }
   ],
   "source": [
    "for k in range(610, 701, 10):\n",
    "    skb = SelectKBest(k=k)\n",
    "    skb.fit(train_vt, target)\n",
    "    train_skb = skb.transform(train_vt)\n",
    "\n",
    "    scores = cross_val_score(model, train_skb, target, cv=cv, scoring=\"f1_macro\", n_jobs=-1)\n",
    "    print(f\"특성수={k}, 정확도={np.mean(scores)}\")"
   ]
  },
  {
   "cell_type": "code",
   "execution_count": 46,
   "metadata": {},
   "outputs": [
    {
     "data": {
      "text/plain": [
       "(0.72375225498769, (14940, 650))"
      ]
     },
     "execution_count": 46,
     "metadata": {},
     "output_type": "execute_result"
    }
   ],
   "source": [
    "skb = SelectKBest(k=650)\n",
    "\n",
    "train_skb = skb.fit_transform(train_vt, target)\n",
    "test_skb = skb.transform(test_vt)\n",
    "\n",
    "scores = cross_val_score(model, train_skb, target, cv=cv, scoring=\"f1_macro\", n_jobs=-1)\n",
    "np.mean(scores), train_skb.shape"
   ]
  },
  {
   "cell_type": "code",
   "execution_count": 170,
   "metadata": {},
   "outputs": [
    {
     "data": {
      "text/html": [
       "<div>\n",
       "<style scoped>\n",
       "    .dataframe tbody tr th:only-of-type {\n",
       "        vertical-align: middle;\n",
       "    }\n",
       "\n",
       "    .dataframe tbody tr th {\n",
       "        vertical-align: top;\n",
       "    }\n",
       "\n",
       "    .dataframe thead th {\n",
       "        text-align: right;\n",
       "    }\n",
       "</style>\n",
       "<table border=\"1\" class=\"dataframe\">\n",
       "  <thead>\n",
       "    <tr style=\"text-align: right;\">\n",
       "      <th></th>\n",
       "      <th>feature</th>\n",
       "      <th>score</th>\n",
       "    </tr>\n",
       "  </thead>\n",
       "  <tbody>\n",
       "    <tr>\n",
       "      <th>68</th>\n",
       "      <td>주구매_대분류_잡화</td>\n",
       "      <td>1613.989214</td>\n",
       "    </tr>\n",
       "    <tr>\n",
       "      <th>53</th>\n",
       "      <td>평균구매시각</td>\n",
       "      <td>1420.010188</td>\n",
       "    </tr>\n",
       "    <tr>\n",
       "      <th>49</th>\n",
       "      <td>18시이후_구매비율</td>\n",
       "      <td>1388.950728</td>\n",
       "    </tr>\n",
       "    <tr>\n",
       "      <th>48</th>\n",
       "      <td>18시이전_구매비율</td>\n",
       "      <td>1388.950728</td>\n",
       "    </tr>\n",
       "    <tr>\n",
       "      <th>56</th>\n",
       "      <td>저녁_구매비율</td>\n",
       "      <td>1242.518730</td>\n",
       "    </tr>\n",
       "    <tr>\n",
       "      <th>66</th>\n",
       "      <td>주구매_중분류_주방용품</td>\n",
       "      <td>839.961756</td>\n",
       "    </tr>\n",
       "    <tr>\n",
       "      <th>52</th>\n",
       "      <td>주구매시간대</td>\n",
       "      <td>761.891833</td>\n",
       "    </tr>\n",
       "    <tr>\n",
       "      <th>55</th>\n",
       "      <td>점심_구매비율</td>\n",
       "      <td>597.480912</td>\n",
       "    </tr>\n",
       "    <tr>\n",
       "      <th>60</th>\n",
       "      <td>중분류_nunique</td>\n",
       "      <td>582.293480</td>\n",
       "    </tr>\n",
       "    <tr>\n",
       "      <th>72</th>\n",
       "      <td>구매건수</td>\n",
       "      <td>495.619758</td>\n",
       "    </tr>\n",
       "    <tr>\n",
       "      <th>43</th>\n",
       "      <td>연도별평균구매건수</td>\n",
       "      <td>491.585589</td>\n",
       "    </tr>\n",
       "    <tr>\n",
       "      <th>797</th>\n",
       "      <td>선호브랜드코드_cnt</td>\n",
       "      <td>461.380169</td>\n",
       "    </tr>\n",
       "    <tr>\n",
       "      <th>51</th>\n",
       "      <td>오후_구매비율</td>\n",
       "      <td>453.365421</td>\n",
       "    </tr>\n",
       "    <tr>\n",
       "      <th>50</th>\n",
       "      <td>오전_구매비율</td>\n",
       "      <td>453.365421</td>\n",
       "    </tr>\n",
       "    <tr>\n",
       "      <th>16</th>\n",
       "      <td>월별평균구매건수</td>\n",
       "      <td>437.273266</td>\n",
       "    </tr>\n",
       "    <tr>\n",
       "      <th>71</th>\n",
       "      <td>총구매금액</td>\n",
       "      <td>412.330568</td>\n",
       "    </tr>\n",
       "    <tr>\n",
       "      <th>78</th>\n",
       "      <td>구매금액_skew</td>\n",
       "      <td>411.952317</td>\n",
       "    </tr>\n",
       "    <tr>\n",
       "      <th>3</th>\n",
       "      <td>주말방문일수</td>\n",
       "      <td>407.385221</td>\n",
       "    </tr>\n",
       "    <tr>\n",
       "      <th>0</th>\n",
       "      <td>총방문일수</td>\n",
       "      <td>406.404949</td>\n",
       "    </tr>\n",
       "    <tr>\n",
       "      <th>795</th>\n",
       "      <td>고객등급_Normal</td>\n",
       "      <td>400.006573</td>\n",
       "    </tr>\n",
       "    <tr>\n",
       "      <th>67</th>\n",
       "      <td>대분류_nunique</td>\n",
       "      <td>399.428956</td>\n",
       "    </tr>\n",
       "    <tr>\n",
       "      <th>64</th>\n",
       "      <td>주구매_중분류_화장품</td>\n",
       "      <td>394.714137</td>\n",
       "    </tr>\n",
       "    <tr>\n",
       "      <th>284</th>\n",
       "      <td>중분류_구매횟수_용기보증</td>\n",
       "      <td>358.928510</td>\n",
       "    </tr>\n",
       "    <tr>\n",
       "      <th>15</th>\n",
       "      <td>거래개월수</td>\n",
       "      <td>355.824394</td>\n",
       "    </tr>\n",
       "    <tr>\n",
       "      <th>587</th>\n",
       "      <td>중분류_구매합계_용기보증</td>\n",
       "      <td>337.019557</td>\n",
       "    </tr>\n",
       "    <tr>\n",
       "      <th>58</th>\n",
       "      <td>브랜드코드_nunique</td>\n",
       "      <td>329.422871</td>\n",
       "    </tr>\n",
       "    <tr>\n",
       "      <th>79</th>\n",
       "      <td>구매금액_kurtosis</td>\n",
       "      <td>329.030414</td>\n",
       "    </tr>\n",
       "    <tr>\n",
       "      <th>210</th>\n",
       "      <td>중분류_구매횟수_생선</td>\n",
       "      <td>322.164589</td>\n",
       "    </tr>\n",
       "    <tr>\n",
       "      <th>266</th>\n",
       "      <td>중분류_구매횟수_야채</td>\n",
       "      <td>315.052468</td>\n",
       "    </tr>\n",
       "    <tr>\n",
       "      <th>327</th>\n",
       "      <td>중분류_구매횟수_주방용품</td>\n",
       "      <td>313.563785</td>\n",
       "    </tr>\n",
       "    <tr>\n",
       "      <th>772</th>\n",
       "      <td>Wednesday_sum</td>\n",
       "      <td>307.558248</td>\n",
       "    </tr>\n",
       "    <tr>\n",
       "      <th>720</th>\n",
       "      <td>대분류_구매횟수_생식품</td>\n",
       "      <td>306.899489</td>\n",
       "    </tr>\n",
       "    <tr>\n",
       "      <th>11</th>\n",
       "      <td>목요일_구매비율</td>\n",
       "      <td>303.340695</td>\n",
       "    </tr>\n",
       "    <tr>\n",
       "      <th>771</th>\n",
       "      <td>Tuesday_sum</td>\n",
       "      <td>303.121063</td>\n",
       "    </tr>\n",
       "    <tr>\n",
       "      <th>769</th>\n",
       "      <td>Sunday_sum</td>\n",
       "      <td>295.246942</td>\n",
       "    </tr>\n",
       "    <tr>\n",
       "      <th>1</th>\n",
       "      <td>백화점이용기간</td>\n",
       "      <td>294.366008</td>\n",
       "    </tr>\n",
       "    <tr>\n",
       "      <th>767</th>\n",
       "      <td>Monday_sum</td>\n",
       "      <td>291.804688</td>\n",
       "    </tr>\n",
       "    <tr>\n",
       "      <th>569</th>\n",
       "      <td>중분류_구매합계_야채</td>\n",
       "      <td>261.578519</td>\n",
       "    </tr>\n",
       "    <tr>\n",
       "      <th>83</th>\n",
       "      <td>구매금액_변동성</td>\n",
       "      <td>261.351600</td>\n",
       "    </tr>\n",
       "    <tr>\n",
       "      <th>75</th>\n",
       "      <td>최대구매금액</td>\n",
       "      <td>248.979259</td>\n",
       "    </tr>\n",
       "    <tr>\n",
       "      <th>786</th>\n",
       "      <td>요일별_구매비율_std</td>\n",
       "      <td>235.714197</td>\n",
       "    </tr>\n",
       "    <tr>\n",
       "      <th>260</th>\n",
       "      <td>중분류_구매횟수_아동</td>\n",
       "      <td>225.895749</td>\n",
       "    </tr>\n",
       "    <tr>\n",
       "      <th>710</th>\n",
       "      <td>대분류_구매횟수_가정용품</td>\n",
       "      <td>224.856909</td>\n",
       "    </tr>\n",
       "    <tr>\n",
       "      <th>46</th>\n",
       "      <td>최대구매시간간격</td>\n",
       "      <td>223.640732</td>\n",
       "    </tr>\n",
       "    <tr>\n",
       "      <th>84</th>\n",
       "      <td>환불건수</td>\n",
       "      <td>221.812927</td>\n",
       "    </tr>\n",
       "    <tr>\n",
       "      <th>214</th>\n",
       "      <td>중분류_구매횟수_셔츠</td>\n",
       "      <td>221.721142</td>\n",
       "    </tr>\n",
       "    <tr>\n",
       "      <th>789</th>\n",
       "      <td>계절별_구매비율_std</td>\n",
       "      <td>220.540806</td>\n",
       "    </tr>\n",
       "    <tr>\n",
       "      <th>781</th>\n",
       "      <td>계절_구매변동성</td>\n",
       "      <td>220.540806</td>\n",
       "    </tr>\n",
       "    <tr>\n",
       "      <th>61</th>\n",
       "      <td>주구매_중분류_아동용품</td>\n",
       "      <td>214.684040</td>\n",
       "    </tr>\n",
       "    <tr>\n",
       "      <th>97</th>\n",
       "      <td>지점코드_구매횟수_A144000</td>\n",
       "      <td>210.094037</td>\n",
       "    </tr>\n",
       "  </tbody>\n",
       "</table>\n",
       "</div>"
      ],
      "text/plain": [
       "               feature        score\n",
       "68          주구매_대분류_잡화  1613.989214\n",
       "53              평균구매시각  1420.010188\n",
       "49          18시이후_구매비율  1388.950728\n",
       "48          18시이전_구매비율  1388.950728\n",
       "56             저녁_구매비율  1242.518730\n",
       "66        주구매_중분류_주방용품   839.961756\n",
       "52              주구매시간대   761.891833\n",
       "55             점심_구매비율   597.480912\n",
       "60         중분류_nunique   582.293480\n",
       "72                구매건수   495.619758\n",
       "43           연도별평균구매건수   491.585589\n",
       "797        선호브랜드코드_cnt   461.380169\n",
       "51             오후_구매비율   453.365421\n",
       "50             오전_구매비율   453.365421\n",
       "16            월별평균구매건수   437.273266\n",
       "71               총구매금액   412.330568\n",
       "78           구매금액_skew   411.952317\n",
       "3               주말방문일수   407.385221\n",
       "0                총방문일수   406.404949\n",
       "795        고객등급_Normal   400.006573\n",
       "67         대분류_nunique   399.428956\n",
       "64         주구매_중분류_화장품   394.714137\n",
       "284      중분류_구매횟수_용기보증   358.928510\n",
       "15               거래개월수   355.824394\n",
       "587      중분류_구매합계_용기보증   337.019557\n",
       "58       브랜드코드_nunique   329.422871\n",
       "79       구매금액_kurtosis   329.030414\n",
       "210        중분류_구매횟수_생선   322.164589\n",
       "266        중분류_구매횟수_야채   315.052468\n",
       "327      중분류_구매횟수_주방용품   313.563785\n",
       "772      Wednesday_sum   307.558248\n",
       "720       대분류_구매횟수_생식품   306.899489\n",
       "11            목요일_구매비율   303.340695\n",
       "771        Tuesday_sum   303.121063\n",
       "769         Sunday_sum   295.246942\n",
       "1              백화점이용기간   294.366008\n",
       "767         Monday_sum   291.804688\n",
       "569        중분류_구매합계_야채   261.578519\n",
       "83            구매금액_변동성   261.351600\n",
       "75              최대구매금액   248.979259\n",
       "786       요일별_구매비율_std   235.714197\n",
       "260        중분류_구매횟수_아동   225.895749\n",
       "710      대분류_구매횟수_가정용품   224.856909\n",
       "46            최대구매시간간격   223.640732\n",
       "84                환불건수   221.812927\n",
       "214        중분류_구매횟수_셔츠   221.721142\n",
       "789       계절별_구매비율_std   220.540806\n",
       "781           계절_구매변동성   220.540806\n",
       "61        주구매_중분류_아동용품   214.684040\n",
       "97   지점코드_구매횟수_A144000   210.094037"
      ]
     },
     "execution_count": 170,
     "metadata": {},
     "output_type": "execute_result"
    }
   ],
   "source": [
    "feature_scores = pd.DataFrame(\n",
    "    {'feature': train_vt.columns,\n",
    "     'score': skb.scores_}\n",
    ").sort_values('score', ascending=False)\n",
    "\n",
    "feature_scores.head(50)"
   ]
  },
  {
   "cell_type": "markdown",
   "metadata": {},
   "source": [
    "- SelectPercentile"
   ]
  },
  {
   "cell_type": "code",
   "execution_count": 387,
   "metadata": {},
   "outputs": [],
   "source": [
    "from sklearn.feature_selection import SelectPercentile"
   ]
  },
  {
   "cell_type": "code",
   "execution_count": 922,
   "metadata": {},
   "outputs": [
    {
     "name": "stdout",
     "output_type": "stream",
     "text": [
      "percentile=5, 성능=0.6940971935948825, 특성 수=40\n",
      "percentile=10, 성능=0.7081091784723073, 특성 수=80\n",
      "percentile=15, 성능=0.7151695968187634, 특성 수=120\n",
      "percentile=20, 성능=0.7133466292189601, 특성 수=160\n",
      "percentile=25, 성능=0.713646165278235, 특성 수=200\n",
      "percentile=30, 성능=0.712195767414645, 특성 수=240\n",
      "percentile=35, 성능=0.7156177227924537, 특성 수=279\n",
      "percentile=40, 성능=0.7155728252669238, 특성 수=319\n",
      "percentile=45, 성능=0.7143084613351361, 특성 수=359\n",
      "percentile=50, 성능=0.7166634045066773, 특성 수=399\n",
      "percentile=55, 성능=0.7189352756273703, 특성 수=439\n",
      "percentile=60, 성능=0.7149488016607171, 특성 수=479\n",
      "percentile=65, 성능=0.7182754989996416, 특성 수=519\n",
      "percentile=70, 성능=0.7182335223204024, 특성 수=558\n",
      "percentile=75, 성능=0.7213052832944863, 특성 수=598\n",
      "percentile=80, 성능=0.7209694435129184, 특성 수=638\n",
      "percentile=85, 성능=0.7211202477150553, 특성 수=678\n",
      "percentile=90, 성능=0.7189698076409023, 특성 수=718\n",
      "percentile=95, 성능=0.7177394805896573, 특성 수=758\n",
      "percentile=100, 성능=0.7201437214228191, 특성 수=798\n"
     ]
    }
   ],
   "source": [
    "percentiles = [i for i in range(5, 101, 5)]\n",
    "\n",
    "for percentile in percentiles:\n",
    "    sp = SelectPercentile(percentile=percentile)\n",
    "    sp.fit(train_vt, target)\n",
    "    # sp.fit(train_sfm, target)\n",
    "    train_sp = sp.transform(train_vt)\n",
    "\n",
    "    scores = cross_val_score(model, train_sp, target, cv=cv, scoring=\"f1_macro\", n_jobs=-1)\n",
    "    print(f\"percentile={percentile}, 성능={np.mean(scores)}, 특성 수={train_sp.shape[1]}\")"
   ]
  },
  {
   "cell_type": "code",
   "execution_count": 923,
   "metadata": {},
   "outputs": [
    {
     "name": "stdout",
     "output_type": "stream",
     "text": [
      "percentile=71, 성능=0.717804433287035, 특성 수=566\n",
      "percentile=72, 성능=0.7190473811517606, 특성 수=574\n",
      "percentile=73, 성능=0.7173296254562846, 특성 수=582\n",
      "percentile=74, 성능=0.7187095538827307, 특성 수=590\n",
      "percentile=75, 성능=0.7213052832944863, 특성 수=598\n",
      "percentile=76, 성능=0.7192016320697171, 특성 수=606\n",
      "percentile=77, 성능=0.721711473170492, 특성 수=614\n",
      "percentile=78, 성능=0.7183497066449497, 특성 수=622\n",
      "percentile=79, 성능=0.7214594586011386, 특성 수=630\n"
     ]
    }
   ],
   "source": [
    "percentiles = [i for i in range(71, 80)]\n",
    "\n",
    "for percentile in percentiles:\n",
    "    sp = SelectPercentile(percentile=percentile)\n",
    "    sp.fit(train_vt, target)\n",
    "    # sp.fit(train_sfm, target)\n",
    "    train_sp = sp.transform(train_vt)\n",
    "\n",
    "    scores = cross_val_score(model, train_sp, target, cv=cv, scoring=\"f1_macro\", n_jobs=-1)\n",
    "    print(f\"percentile={percentile}, 성능={np.mean(scores)}, 특성 수={train_sp.shape[1]}\")"
   ]
  },
  {
   "cell_type": "code",
   "execution_count": 388,
   "metadata": {},
   "outputs": [
    {
     "data": {
      "text/plain": [
       "(0.7155728252669238, (14940, 319))"
      ]
     },
     "execution_count": 388,
     "metadata": {},
     "output_type": "execute_result"
    }
   ],
   "source": [
    "sp = SelectPercentile(percentile=40)\n",
    "\n",
    "train_sp = sp.fit_transform(train_vt, target)\n",
    "test_sp = sp.transform(test_vt)\n",
    "\n",
    "scores = cross_val_score(model, train_sp, target, cv=cv, scoring=\"f1_macro\", n_jobs=-1)\n",
    "np.mean(scores), train_sp.shape"
   ]
  },
  {
   "cell_type": "markdown",
   "metadata": {},
   "source": [
    "- PCA"
   ]
  },
  {
   "cell_type": "code",
   "execution_count": 389,
   "metadata": {},
   "outputs": [],
   "source": [
    "from sklearn.decomposition import PCA"
   ]
  },
  {
   "cell_type": "code",
   "execution_count": 391,
   "metadata": {},
   "outputs": [
    {
     "data": {
      "text/plain": [
       "(0.7034528858901525, (14940, 436))"
      ]
     },
     "execution_count": 391,
     "metadata": {},
     "output_type": "execute_result"
    }
   ],
   "source": [
    "pca = PCA(0.95, random_state=SEED)\n",
    "\n",
    "pca_train = pca.fit_transform(train_vt)\n",
    "pca_test = pca.transform(test_vt)\n",
    "\n",
    "scores = cross_val_score(model, pca_train, target, cv=cv, scoring=\"f1_macro\", n_jobs=-1)\n",
    "np.mean(scores), pca_train.shape"
   ]
  },
  {
   "cell_type": "markdown",
   "metadata": {},
   "source": [
    "- 위에서 축소한 데이터에 대해 PCA"
   ]
  },
  {
   "cell_type": "code",
   "execution_count": 397,
   "metadata": {},
   "outputs": [
    {
     "data": {
      "text/plain": [
       "(0.706997005808565, (14940, 359))"
      ]
     },
     "execution_count": 397,
     "metadata": {},
     "output_type": "execute_result"
    }
   ],
   "source": [
    "pca2 = PCA(0.95, random_state=SEED)\n",
    "\n",
    "pca2_train = pca2.fit_transform(train_skb)\n",
    "pca2_test = pca2.transform(test_skb)\n",
    "\n",
    "scores = cross_val_score(model, pca2_train, target, cv=cv, scoring=\"f1_macro\", n_jobs=-1)\n",
    "np.mean(scores), pca2_train.shape"
   ]
  },
  {
   "cell_type": "markdown",
   "metadata": {},
   "source": [
    "- KernelPCA"
   ]
  },
  {
   "cell_type": "code",
   "execution_count": 937,
   "metadata": {},
   "outputs": [],
   "source": [
    "# from sklearn.decomposition import KernelPCA\n",
    "\n",
    "# kpca = KernelPCA(kernel='rbf', random_state=SEED)\n",
    "# kpca.fit(train_vt)\n",
    "# kpca_train = kpca.transform(train_vt)\n",
    "\n",
    "# scores = cross_val_score(model, kpca_train, target, cv=cv, scoring=\"f1_macro\", n_jobs=-1)\n",
    "# np.mean(scores), kpca_train.shape"
   ]
  },
  {
   "cell_type": "markdown",
   "metadata": {},
   "source": [
    "- TruncatedSVD"
   ]
  },
  {
   "cell_type": "code",
   "execution_count": 174,
   "metadata": {},
   "outputs": [],
   "source": [
    "from sklearn.decomposition import TruncatedSVD"
   ]
  },
  {
   "cell_type": "code",
   "execution_count": 178,
   "metadata": {},
   "outputs": [
    {
     "data": {
      "text/plain": [
       "(0.7034124649766833, (14940, 600))"
      ]
     },
     "execution_count": 178,
     "metadata": {},
     "output_type": "execute_result"
    }
   ],
   "source": [
    "svd = TruncatedSVD(600, random_state=SEED)\n",
    "svd.fit(train_vt)\n",
    "svd_train = svd.transform(train_vt)\n",
    "\n",
    "scores = cross_val_score(model, svd_train, target, cv=cv, scoring=\"f1_macro\", n_jobs=-1)\n",
    "np.mean(scores), svd_train.shape"
   ]
  },
  {
   "cell_type": "markdown",
   "metadata": {},
   "source": [
    "- RandomProjection"
   ]
  },
  {
   "cell_type": "code",
   "execution_count": 179,
   "metadata": {},
   "outputs": [],
   "source": [
    "from sklearn.random_projection import GaussianRandomProjection\n",
    "from sklearn.random_projection import SparseRandomProjection"
   ]
  },
  {
   "cell_type": "code",
   "execution_count": 181,
   "metadata": {},
   "outputs": [
    {
     "data": {
      "text/plain": [
       "(0.7010428138821755, (14940, 700))"
      ]
     },
     "execution_count": 181,
     "metadata": {},
     "output_type": "execute_result"
    }
   ],
   "source": [
    "grp = GaussianRandomProjection(700, random_state=SEED)\n",
    "grp.fit(train_vt)\n",
    "grp_train = grp.transform(train_vt)\n",
    "\n",
    "scores = cross_val_score(model, grp_train, target, cv=cv, scoring=\"f1_macro\", n_jobs=-1)\n",
    "np.mean(scores), grp_train.shape"
   ]
  },
  {
   "cell_type": "code",
   "execution_count": 182,
   "metadata": {},
   "outputs": [
    {
     "data": {
      "text/plain": [
       "(0.7076133859142825, (14940, 700))"
      ]
     },
     "execution_count": 182,
     "metadata": {},
     "output_type": "execute_result"
    }
   ],
   "source": [
    "srp = SparseRandomProjection(700, random_state=SEED)\n",
    "srp.fit(train_vt)\n",
    "srp_train = srp.transform(train_vt)\n",
    "\n",
    "scores = cross_val_score(model, srp_train, target, cv=cv, scoring=\"f1_macro\", n_jobs=-1)\n",
    "np.mean(scores), srp_train.shape"
   ]
  },
  {
   "cell_type": "markdown",
   "metadata": {},
   "source": [
    "- LDA"
   ]
  },
  {
   "cell_type": "code",
   "execution_count": 47,
   "metadata": {},
   "outputs": [
    {
     "data": {
      "text/plain": [
       "(0.7416351010447835, (14940, 1))"
      ]
     },
     "execution_count": 47,
     "metadata": {},
     "output_type": "execute_result"
    }
   ],
   "source": [
    "from sklearn.discriminant_analysis import LinearDiscriminantAnalysis as LDA\n",
    "\n",
    "lda = LDA(n_components=1)\n",
    "lda_train = lda.fit_transform(train_skb, target)\n",
    "lda_test = lda.transform(test_skb)\n",
    "\n",
    "scores = cross_val_score(model, lda_train, target, cv=cv, scoring=\"f1_macro\", n_jobs=-1)\n",
    "np.mean(scores), lda_train.shape"
   ]
  },
  {
   "cell_type": "markdown",
   "metadata": {},
   "source": [
    "- RFE"
   ]
  },
  {
   "cell_type": "code",
   "execution_count": null,
   "metadata": {},
   "outputs": [],
   "source": [
    "# from sklearn.feature_selection import RFE\n",
    "\n",
    "# rfe = RFE(model, step=10, n_features_to_select=100, verbose=2)\n",
    "# rfe.fit(train_vt, target, early_stopping=True)\n",
    "# train_rfe = rfe.transform(train_vt)\n",
    "\n",
    "# scores = cross_val_score(model, train_rfe, target, cv=cv, scoring=\"f1_macro\", n_jobs=-1)\n",
    "# np.mean(scores), train_rfe.shape"
   ]
  },
  {
   "cell_type": "code",
   "execution_count": 71,
   "metadata": {},
   "outputs": [],
   "source": [
    "# df = pd.DataFrame({\n",
    "#     \"Feature\": train_vt.columns[rfe.support_],\n",
    "#     \"Importance\": rfe.estimator_.feature_importances_\n",
    "# }).sort_values(by=\"Importance\", ascending=False)\n",
    "\n",
    "# df.head(30)"
   ]
  },
  {
   "cell_type": "markdown",
   "metadata": {},
   "source": [
    "- RFECV"
   ]
  },
  {
   "cell_type": "code",
   "execution_count": 49,
   "metadata": {},
   "outputs": [],
   "source": [
    "from sklearn.feature_selection import RFECV"
   ]
  },
  {
   "cell_type": "code",
   "execution_count": 50,
   "metadata": {},
   "outputs": [
    {
     "name": "stdout",
     "output_type": "stream",
     "text": [
      "[LightGBM] [Info] Number of positive: 5874, number of negative: 9066\n",
      "[LightGBM] [Info] Auto-choosing col-wise multi-threading, the overhead of testing was 0.032371 seconds.\n",
      "You can set `force_col_wise=true` to remove the overhead.\n",
      "[LightGBM] [Info] Total Bins 69043\n",
      "[LightGBM] [Info] Number of data points in the train set: 14940, number of used features: 639\n",
      "[LightGBM] [Info] [binary:BoostFromScore]: pavg=0.393173 -> initscore=-0.433995\n",
      "[LightGBM] [Info] Start training from score -0.433995\n",
      "[LightGBM] [Info] Number of positive: 5874, number of negative: 9066\n",
      "[LightGBM] [Info] Auto-choosing col-wise multi-threading, the overhead of testing was 0.029640 seconds.\n",
      "You can set `force_col_wise=true` to remove the overhead.\n",
      "[LightGBM] [Info] Total Bins 68984\n",
      "[LightGBM] [Info] Number of data points in the train set: 14940, number of used features: 630\n",
      "[LightGBM] [Info] [binary:BoostFromScore]: pavg=0.393173 -> initscore=-0.433995\n",
      "[LightGBM] [Info] Start training from score -0.433995\n",
      "[LightGBM] [Info] Number of positive: 5874, number of negative: 9066\n",
      "[LightGBM] [Info] Auto-choosing col-wise multi-threading, the overhead of testing was 0.028227 seconds.\n",
      "You can set `force_col_wise=true` to remove the overhead.\n",
      "[LightGBM] [Info] Total Bins 68703\n",
      "[LightGBM] [Info] Number of data points in the train set: 14940, number of used features: 621\n",
      "[LightGBM] [Info] [binary:BoostFromScore]: pavg=0.393173 -> initscore=-0.433995\n",
      "[LightGBM] [Info] Start training from score -0.433995\n",
      "[LightGBM] [Info] Number of positive: 5874, number of negative: 9066\n",
      "[LightGBM] [Info] Auto-choosing col-wise multi-threading, the overhead of testing was 0.030515 seconds.\n",
      "You can set `force_col_wise=true` to remove the overhead.\n",
      "[LightGBM] [Info] Total Bins 68590\n",
      "[LightGBM] [Info] Number of data points in the train set: 14940, number of used features: 611\n",
      "[LightGBM] [Info] [binary:BoostFromScore]: pavg=0.393173 -> initscore=-0.433995\n",
      "[LightGBM] [Info] Start training from score -0.433995\n",
      "[LightGBM] [Info] Number of positive: 5874, number of negative: 9066\n",
      "[LightGBM] [Info] Auto-choosing col-wise multi-threading, the overhead of testing was 0.028382 seconds.\n",
      "You can set `force_col_wise=true` to remove the overhead.\n",
      "[LightGBM] [Info] Total Bins 68466\n",
      "[LightGBM] [Info] Number of data points in the train set: 14940, number of used features: 601\n",
      "[LightGBM] [Info] [binary:BoostFromScore]: pavg=0.393173 -> initscore=-0.433995\n",
      "[LightGBM] [Info] Start training from score -0.433995\n",
      "[LightGBM] [Info] Number of positive: 5874, number of negative: 9066\n",
      "[LightGBM] [Info] Auto-choosing col-wise multi-threading, the overhead of testing was 0.031053 seconds.\n",
      "You can set `force_col_wise=true` to remove the overhead.\n",
      "[LightGBM] [Info] Total Bins 68327\n",
      "[LightGBM] [Info] Number of data points in the train set: 14940, number of used features: 592\n",
      "[LightGBM] [Info] [binary:BoostFromScore]: pavg=0.393173 -> initscore=-0.433995\n",
      "[LightGBM] [Info] Start training from score -0.433995\n",
      "[LightGBM] [Info] Number of positive: 5874, number of negative: 9066\n",
      "[LightGBM] [Info] Auto-choosing col-wise multi-threading, the overhead of testing was 0.028494 seconds.\n",
      "You can set `force_col_wise=true` to remove the overhead.\n",
      "[LightGBM] [Info] Total Bins 68202\n",
      "[LightGBM] [Info] Number of data points in the train set: 14940, number of used features: 582\n",
      "[LightGBM] [Info] [binary:BoostFromScore]: pavg=0.393173 -> initscore=-0.433995\n",
      "[LightGBM] [Info] Start training from score -0.433995\n",
      "[LightGBM] [Info] Number of positive: 5874, number of negative: 9066\n",
      "[LightGBM] [Info] Auto-choosing col-wise multi-threading, the overhead of testing was 0.031977 seconds.\n",
      "You can set `force_col_wise=true` to remove the overhead.\n",
      "[LightGBM] [Info] Total Bins 68059\n",
      "[LightGBM] [Info] Number of data points in the train set: 14940, number of used features: 573\n",
      "[LightGBM] [Info] [binary:BoostFromScore]: pavg=0.393173 -> initscore=-0.433995\n",
      "[LightGBM] [Info] Start training from score -0.433995\n",
      "[LightGBM] [Info] Number of positive: 5874, number of negative: 9066\n",
      "[LightGBM] [Info] Auto-choosing col-wise multi-threading, the overhead of testing was 0.028451 seconds.\n",
      "You can set `force_col_wise=true` to remove the overhead.\n",
      "[LightGBM] [Info] Total Bins 67867\n",
      "[LightGBM] [Info] Number of data points in the train set: 14940, number of used features: 563\n",
      "[LightGBM] [Info] [binary:BoostFromScore]: pavg=0.393173 -> initscore=-0.433995\n",
      "[LightGBM] [Info] Start training from score -0.433995\n",
      "[LightGBM] [Info] Number of positive: 5874, number of negative: 9066\n",
      "[LightGBM] [Info] Auto-choosing col-wise multi-threading, the overhead of testing was 0.029002 seconds.\n",
      "You can set `force_col_wise=true` to remove the overhead.\n",
      "[LightGBM] [Info] Total Bins 67705\n",
      "[LightGBM] [Info] Number of data points in the train set: 14940, number of used features: 553\n",
      "[LightGBM] [Info] [binary:BoostFromScore]: pavg=0.393173 -> initscore=-0.433995\n",
      "[LightGBM] [Info] Start training from score -0.433995\n",
      "[LightGBM] [Info] Number of positive: 5874, number of negative: 9066\n",
      "[LightGBM] [Info] Auto-choosing col-wise multi-threading, the overhead of testing was 0.029130 seconds.\n",
      "You can set `force_col_wise=true` to remove the overhead.\n",
      "[LightGBM] [Info] Total Bins 67567\n",
      "[LightGBM] [Info] Number of data points in the train set: 14940, number of used features: 543\n",
      "[LightGBM] [Info] [binary:BoostFromScore]: pavg=0.393173 -> initscore=-0.433995\n",
      "[LightGBM] [Info] Start training from score -0.433995\n",
      "[LightGBM] [Info] Number of positive: 5874, number of negative: 9066\n",
      "[LightGBM] [Info] Auto-choosing col-wise multi-threading, the overhead of testing was 0.031149 seconds.\n",
      "You can set `force_col_wise=true` to remove the overhead.\n",
      "[LightGBM] [Info] Total Bins 67502\n",
      "[LightGBM] [Info] Number of data points in the train set: 14940, number of used features: 533\n",
      "[LightGBM] [Info] [binary:BoostFromScore]: pavg=0.393173 -> initscore=-0.433995\n",
      "[LightGBM] [Info] Start training from score -0.433995\n",
      "[LightGBM] [Info] Number of positive: 5874, number of negative: 9066\n",
      "[LightGBM] [Info] Auto-choosing col-wise multi-threading, the overhead of testing was 0.023458 seconds.\n",
      "You can set `force_col_wise=true` to remove the overhead.\n",
      "[LightGBM] [Info] Total Bins 67324\n",
      "[LightGBM] [Info] Number of data points in the train set: 14940, number of used features: 523\n",
      "[LightGBM] [Info] [binary:BoostFromScore]: pavg=0.393173 -> initscore=-0.433995\n",
      "[LightGBM] [Info] Start training from score -0.433995\n",
      "[LightGBM] [Info] Number of positive: 5874, number of negative: 9066\n",
      "[LightGBM] [Info] Auto-choosing col-wise multi-threading, the overhead of testing was 0.029757 seconds.\n",
      "You can set `force_col_wise=true` to remove the overhead.\n",
      "[LightGBM] [Info] Total Bins 66985\n",
      "[LightGBM] [Info] Number of data points in the train set: 14940, number of used features: 513\n",
      "[LightGBM] [Info] [binary:BoostFromScore]: pavg=0.393173 -> initscore=-0.433995\n",
      "[LightGBM] [Info] Start training from score -0.433995\n",
      "[LightGBM] [Info] Number of positive: 5874, number of negative: 9066\n",
      "[LightGBM] [Info] Auto-choosing col-wise multi-threading, the overhead of testing was 0.029676 seconds.\n",
      "You can set `force_col_wise=true` to remove the overhead.\n",
      "[LightGBM] [Info] Total Bins 66884\n",
      "[LightGBM] [Info] Number of data points in the train set: 14940, number of used features: 504\n",
      "[LightGBM] [Info] [binary:BoostFromScore]: pavg=0.393173 -> initscore=-0.433995\n",
      "[LightGBM] [Info] Start training from score -0.433995\n",
      "[LightGBM] [Info] Number of positive: 5874, number of negative: 9066\n",
      "[LightGBM] [Info] Auto-choosing col-wise multi-threading, the overhead of testing was 0.019978 seconds.\n",
      "You can set `force_col_wise=true` to remove the overhead.\n",
      "[LightGBM] [Info] Total Bins 66801\n",
      "[LightGBM] [Info] Number of data points in the train set: 14940, number of used features: 495\n",
      "[LightGBM] [Info] [binary:BoostFromScore]: pavg=0.393173 -> initscore=-0.433995\n",
      "[LightGBM] [Info] Start training from score -0.433995\n",
      "[LightGBM] [Info] Number of positive: 5874, number of negative: 9066\n",
      "[LightGBM] [Info] Auto-choosing col-wise multi-threading, the overhead of testing was 0.029724 seconds.\n",
      "You can set `force_col_wise=true` to remove the overhead.\n",
      "[LightGBM] [Info] Total Bins 66712\n",
      "[LightGBM] [Info] Number of data points in the train set: 14940, number of used features: 485\n",
      "[LightGBM] [Info] [binary:BoostFromScore]: pavg=0.393173 -> initscore=-0.433995\n",
      "[LightGBM] [Info] Start training from score -0.433995\n",
      "[LightGBM] [Info] Number of positive: 5874, number of negative: 9066\n",
      "[LightGBM] [Info] Auto-choosing col-wise multi-threading, the overhead of testing was 0.027861 seconds.\n",
      "You can set `force_col_wise=true` to remove the overhead.\n",
      "[LightGBM] [Info] Total Bins 66413\n",
      "[LightGBM] [Info] Number of data points in the train set: 14940, number of used features: 476\n",
      "[LightGBM] [Info] [binary:BoostFromScore]: pavg=0.393173 -> initscore=-0.433995\n",
      "[LightGBM] [Info] Start training from score -0.433995\n",
      "[LightGBM] [Info] Number of positive: 5874, number of negative: 9066\n",
      "[LightGBM] [Info] Auto-choosing col-wise multi-threading, the overhead of testing was 0.020413 seconds.\n",
      "You can set `force_col_wise=true` to remove the overhead.\n",
      "[LightGBM] [Info] Total Bins 65907\n",
      "[LightGBM] [Info] Number of data points in the train set: 14940, number of used features: 468\n",
      "[LightGBM] [Info] [binary:BoostFromScore]: pavg=0.393173 -> initscore=-0.433995\n",
      "[LightGBM] [Info] Start training from score -0.433995\n",
      "[LightGBM] [Info] Number of positive: 5874, number of negative: 9066\n",
      "[LightGBM] [Info] Auto-choosing col-wise multi-threading, the overhead of testing was 0.025163 seconds.\n",
      "You can set `force_col_wise=true` to remove the overhead.\n",
      "[LightGBM] [Info] Total Bins 65420\n",
      "[LightGBM] [Info] Number of data points in the train set: 14940, number of used features: 459\n",
      "[LightGBM] [Info] [binary:BoostFromScore]: pavg=0.393173 -> initscore=-0.433995\n",
      "[LightGBM] [Info] Start training from score -0.433995\n",
      "[LightGBM] [Info] Number of positive: 5874, number of negative: 9066\n",
      "[LightGBM] [Info] Auto-choosing col-wise multi-threading, the overhead of testing was 0.025647 seconds.\n",
      "You can set `force_col_wise=true` to remove the overhead.\n",
      "[LightGBM] [Info] Total Bins 65126\n",
      "[LightGBM] [Info] Number of data points in the train set: 14940, number of used features: 449\n",
      "[LightGBM] [Info] [binary:BoostFromScore]: pavg=0.393173 -> initscore=-0.433995\n",
      "[LightGBM] [Info] Start training from score -0.433995\n",
      "[LightGBM] [Info] Number of positive: 5874, number of negative: 9066\n",
      "[LightGBM] [Info] Auto-choosing col-wise multi-threading, the overhead of testing was 0.017064 seconds.\n",
      "You can set `force_col_wise=true` to remove the overhead.\n",
      "[LightGBM] [Info] Total Bins 64949\n",
      "[LightGBM] [Info] Number of data points in the train set: 14940, number of used features: 440\n",
      "[LightGBM] [Info] [binary:BoostFromScore]: pavg=0.393173 -> initscore=-0.433995\n",
      "[LightGBM] [Info] Start training from score -0.433995\n",
      "[LightGBM] [Info] Number of positive: 5874, number of negative: 9066\n",
      "[LightGBM] [Info] Auto-choosing col-wise multi-threading, the overhead of testing was 0.026495 seconds.\n",
      "You can set `force_col_wise=true` to remove the overhead.\n",
      "[LightGBM] [Info] Total Bins 64347\n",
      "[LightGBM] [Info] Number of data points in the train set: 14940, number of used features: 430\n",
      "[LightGBM] [Info] [binary:BoostFromScore]: pavg=0.393173 -> initscore=-0.433995\n",
      "[LightGBM] [Info] Start training from score -0.433995\n",
      "[LightGBM] [Info] Number of positive: 5874, number of negative: 9066\n",
      "[LightGBM] [Info] Auto-choosing col-wise multi-threading, the overhead of testing was 0.026992 seconds.\n",
      "You can set `force_col_wise=true` to remove the overhead.\n",
      "[LightGBM] [Info] Total Bins 63979\n",
      "[LightGBM] [Info] Number of data points in the train set: 14940, number of used features: 420\n",
      "[LightGBM] [Info] [binary:BoostFromScore]: pavg=0.393173 -> initscore=-0.433995\n",
      "[LightGBM] [Info] Start training from score -0.433995\n",
      "[LightGBM] [Info] Number of positive: 5874, number of negative: 9066\n",
      "[LightGBM] [Info] Auto-choosing col-wise multi-threading, the overhead of testing was 0.025260 seconds.\n",
      "You can set `force_col_wise=true` to remove the overhead.\n",
      "[LightGBM] [Info] Total Bins 63484\n",
      "[LightGBM] [Info] Number of data points in the train set: 14940, number of used features: 410\n",
      "[LightGBM] [Info] [binary:BoostFromScore]: pavg=0.393173 -> initscore=-0.433995\n",
      "[LightGBM] [Info] Start training from score -0.433995\n",
      "[LightGBM] [Info] Number of positive: 5874, number of negative: 9066\n",
      "[LightGBM] [Info] Auto-choosing col-wise multi-threading, the overhead of testing was 0.018049 seconds.\n",
      "You can set `force_col_wise=true` to remove the overhead.\n",
      "[LightGBM] [Info] Total Bins 63302\n",
      "[LightGBM] [Info] Number of data points in the train set: 14940, number of used features: 400\n",
      "[LightGBM] [Info] [binary:BoostFromScore]: pavg=0.393173 -> initscore=-0.433995\n",
      "[LightGBM] [Info] Start training from score -0.433995\n",
      "[LightGBM] [Info] Number of positive: 5874, number of negative: 9066\n",
      "[LightGBM] [Info] Auto-choosing col-wise multi-threading, the overhead of testing was 0.024645 seconds.\n",
      "You can set `force_col_wise=true` to remove the overhead.\n",
      "[LightGBM] [Info] Total Bins 63009\n",
      "[LightGBM] [Info] Number of data points in the train set: 14940, number of used features: 390\n",
      "[LightGBM] [Info] [binary:BoostFromScore]: pavg=0.393173 -> initscore=-0.433995\n",
      "[LightGBM] [Info] Start training from score -0.433995\n",
      "[LightGBM] [Info] Number of positive: 5874, number of negative: 9066\n",
      "[LightGBM] [Info] Auto-choosing col-wise multi-threading, the overhead of testing was 0.024570 seconds.\n",
      "You can set `force_col_wise=true` to remove the overhead.\n",
      "[LightGBM] [Info] Total Bins 62249\n",
      "[LightGBM] [Info] Number of data points in the train set: 14940, number of used features: 380\n",
      "[LightGBM] [Info] [binary:BoostFromScore]: pavg=0.393173 -> initscore=-0.433995\n",
      "[LightGBM] [Info] Start training from score -0.433995\n",
      "[LightGBM] [Info] Number of positive: 5874, number of negative: 9066\n",
      "[LightGBM] [Info] Auto-choosing col-wise multi-threading, the overhead of testing was 0.019194 seconds.\n",
      "You can set `force_col_wise=true` to remove the overhead.\n",
      "[LightGBM] [Info] Total Bins 62249\n",
      "[LightGBM] [Info] Number of data points in the train set: 14940, number of used features: 380\n",
      "[LightGBM] [Info] [binary:BoostFromScore]: pavg=0.393173 -> initscore=-0.433995\n",
      "[LightGBM] [Info] Start training from score -0.433995\n"
     ]
    },
    {
     "data": {
      "text/plain": [
       "(0.7188593438674384, (14940, 380))"
      ]
     },
     "execution_count": 50,
     "metadata": {},
     "output_type": "execute_result"
    }
   ],
   "source": [
    "rfecv = RFECV(model, step=10, cv=cv, scoring=\"f1_macro\", n_jobs=-1)\n",
    "rfecv.fit(train_skb, target)\n",
    "train_rfecv = rfecv.transform(train_skb)\n",
    "test_rfecv = rfecv.transform(test_skb)\n",
    "\n",
    "scores = cross_val_score(model, train_rfecv, target, cv=cv, scoring=\"f1_macro\", n_jobs=-1)\n",
    "np.mean(scores), train_rfecv.shape"
   ]
  },
  {
   "cell_type": "code",
   "execution_count": 403,
   "metadata": {},
   "outputs": [],
   "source": [
    "# df = pd.DataFrame({\n",
    "#     \"Feature\": train_vt.columns[rfecv.support_],\n",
    "#     \"Importance\": rfecv.estimator_.feature_importances_\n",
    "# }).sort_values(by=\"Importance\", ascending=False)\n",
    "\n",
    "# df.head(50)"
   ]
  },
  {
   "cell_type": "markdown",
   "metadata": {},
   "source": [
    "- 최종적으로 모델에 넣을 학습데이터"
   ]
  },
  {
   "cell_type": "code",
   "execution_count": 51,
   "metadata": {},
   "outputs": [
    {
     "data": {
      "text/plain": [
       "((14940, 798),\n",
       " (12225, 798),\n",
       " (14940, 380),\n",
       " (12225, 380),\n",
       " (14940, 1),\n",
       " (12225, 1))"
      ]
     },
     "execution_count": 51,
     "metadata": {},
     "output_type": "execute_result"
    }
   ],
   "source": [
    "train_vt.shape, test_vt.shape, train_rfecv.shape, test_rfecv.shape, lda_train.shape, lda_test.shape"
   ]
  },
  {
   "cell_type": "code",
   "execution_count": 389,
   "metadata": {},
   "outputs": [],
   "source": [
    "# train_ft_df = pd.DataFrame(train_ft)\n",
    "# train_ft_df.to_csv(f\"{DATA_PATH}selected_train.csv\", index=False)\n",
    "# test_ft_df = pd.DataFrame(test_ft)\n",
    "# test_ft_df.to_csv(f\"{DATA_PATH}selected_test.csv\", index=False)"
   ]
  },
  {
   "cell_type": "markdown",
   "metadata": {},
   "source": [
    "# 모델 선택"
   ]
  },
  {
   "cell_type": "code",
   "execution_count": 257,
   "metadata": {},
   "outputs": [],
   "source": [
    "# train_ft = pd.read_csv(f\"{DATA_PATH}selected_train.csv\")\n",
    "# test_ft = pd.read_csv(f\"{DATA_PATH}selected_test.csv\")"
   ]
  },
  {
   "cell_type": "code",
   "execution_count": 235,
   "metadata": {},
   "outputs": [],
   "source": [
    "from sklearn.model_selection import train_test_split\n",
    "from sklearn.metrics import f1_score\n",
    "\n",
    "X_train, X_val, y_train, y_val = train_test_split(\n",
    "    lda_train, target, test_size=0.2, random_state=SEED, stratify=target, shuffle=True\n",
    ")"
   ]
  },
  {
   "cell_type": "code",
   "execution_count": 236,
   "metadata": {},
   "outputs": [
    {
     "name": "stdout",
     "output_type": "stream",
     "text": [
      "[LightGBM] [Info] Number of positive: 4699, number of negative: 7253\n",
      "[LightGBM] [Info] Auto-choosing row-wise multi-threading, the overhead of testing was 0.000024 seconds.\n",
      "You can set `force_row_wise=true` to remove the overhead.\n",
      "And if memory is not enough, you can set `force_col_wise=true`.\n",
      "[LightGBM] [Info] Total Bins 255\n",
      "[LightGBM] [Info] Number of data points in the train set: 11952, number of used features: 1\n",
      "[LightGBM] [Info] [binary:BoostFromScore]: pavg=0.393156 -> initscore=-0.434065\n",
      "[LightGBM] [Info] Start training from score -0.434065\n"
     ]
    },
    {
     "data": {
      "text/plain": [
       "(0.7454093237599762, 0.7507248839528922)"
      ]
     },
     "execution_count": 236,
     "metadata": {},
     "output_type": "execute_result"
    }
   ],
   "source": [
    "model = LGBMClassifier(random_state=SEED)\n",
    "model.fit(X_train, y_train)\n",
    "\n",
    "train_pred = model.predict(X_train)\n",
    "val_pred = model.predict(X_val)\n",
    "\n",
    "f1_score(y_train, train_pred, average='macro'), f1_score(y_val, val_pred, average='macro')"
   ]
  },
  {
   "cell_type": "markdown",
   "metadata": {},
   "source": [
    "- LogisticRegression"
   ]
  },
  {
   "cell_type": "code",
   "execution_count": 237,
   "metadata": {},
   "outputs": [],
   "source": [
    "from sklearn.linear_model import LogisticRegression\n",
    "from sklearn.model_selection import GridSearchCV, RandomizedSearchCV"
   ]
  },
  {
   "cell_type": "code",
   "execution_count": 238,
   "metadata": {},
   "outputs": [
    {
     "data": {
      "text/plain": [
       "(0.738748309408898, 0.7438271604938271)"
      ]
     },
     "execution_count": 238,
     "metadata": {},
     "output_type": "execute_result"
    }
   ],
   "source": [
    "params = {\n",
    "    'penalty': 'l1',\n",
    "    'C': 0.01,\n",
    "    'solver': 'liblinear',\n",
    "    'max_iter': 3000,\n",
    "    'class_weight': 'balanced',\n",
    "}\n",
    "\n",
    "lr = LogisticRegression(**params, random_state=SEED)\n",
    "lr.fit(X_train, y_train)\n",
    "\n",
    "f1_score(y_train, lr.predict(X_train), average='macro'), f1_score(y_val, lr.predict(X_val), average='macro')"
   ]
  },
  {
   "cell_type": "markdown",
   "metadata": {},
   "source": [
    "- LGBMClassifier"
   ]
  },
  {
   "cell_type": "code",
   "execution_count": 239,
   "metadata": {},
   "outputs": [
    {
     "name": "stdout",
     "output_type": "stream",
     "text": [
      "[LightGBM] [Info] Number of positive: 4699, number of negative: 7253\n",
      "[LightGBM] [Info] Auto-choosing row-wise multi-threading, the overhead of testing was 0.000027 seconds.\n",
      "You can set `force_row_wise=true` to remove the overhead.\n",
      "And if memory is not enough, you can set `force_col_wise=true`.\n",
      "[LightGBM] [Info] Total Bins 255\n",
      "[LightGBM] [Info] Number of data points in the train set: 11952, number of used features: 1\n",
      "[LightGBM] [Info] [binary:BoostFromScore]: pavg=0.393156 -> initscore=-0.434065\n",
      "[LightGBM] [Info] Start training from score -0.434065\n"
     ]
    },
    {
     "data": {
      "text/plain": [
       "(0.7432709539564378, 0.7466261622589005)"
      ]
     },
     "execution_count": 239,
     "metadata": {},
     "output_type": "execute_result"
    }
   ],
   "source": [
    "params = {\n",
    "    'num_leaves': 31,\n",
    "    'max_depth': -1,\n",
    "    'min_child_samples': 20,\n",
    "    'learning_rate': 0.05,\n",
    "}\n",
    "\n",
    "lgbm = LGBMClassifier(**params, random_state=SEED)\n",
    "lgbm.fit(X_train, y_train)\n",
    "\n",
    "f1_score(y_train, lgbm.predict(X_train), average='macro'), f1_score(y_val, lgbm.predict(X_val), average='macro')"
   ]
  },
  {
   "cell_type": "markdown",
   "metadata": {},
   "source": [
    "- XGBoost"
   ]
  },
  {
   "cell_type": "code",
   "execution_count": 240,
   "metadata": {},
   "outputs": [],
   "source": [
    "from xgboost import XGBClassifier"
   ]
  },
  {
   "cell_type": "code",
   "execution_count": 241,
   "metadata": {},
   "outputs": [
    {
     "data": {
      "text/plain": [
       "(0.7465409787163042, 0.7396793978456411)"
      ]
     },
     "execution_count": 241,
     "metadata": {},
     "output_type": "execute_result"
    }
   ],
   "source": [
    "params = {\n",
    "    'max_depth': 6,\n",
    "    'learning_rate': 0.01,\n",
    "    'n_estimators': 300,\n",
    "    'gamma': 0.5,\n",
    "    'alpha': 0.3,\n",
    "    'lambda': 1.3,\n",
    "    'subsample': 0.7,\n",
    "    'objective': 'binary:logistic',\n",
    "    'scale_pos_weight': 1.5,\n",
    "}\n",
    "\n",
    "xgb = XGBClassifier(**params, random_state=SEED)\n",
    "xgb.fit(X_train, y_train)\n",
    "\n",
    "f1_score(y_train, xgb.predict(X_train), average='macro'), f1_score(y_val, xgb.predict(X_val), average='macro')"
   ]
  },
  {
   "cell_type": "markdown",
   "metadata": {},
   "source": [
    "- RandomForestClassifier"
   ]
  },
  {
   "cell_type": "code",
   "execution_count": 242,
   "metadata": {},
   "outputs": [],
   "source": [
    "from sklearn.ensemble import RandomForestClassifier"
   ]
  },
  {
   "cell_type": "code",
   "execution_count": 243,
   "metadata": {},
   "outputs": [
    {
     "data": {
      "text/plain": [
       "(0.7656442645982835, 0.7423208136476576)"
      ]
     },
     "execution_count": 243,
     "metadata": {},
     "output_type": "execute_result"
    }
   ],
   "source": [
    "params = {\n",
    "    # # rfecv\n",
    "    # 'n_estimators': 500,\n",
    "    # 'max_depth': 10,\n",
    "    # 'min_samples_split': 6,\n",
    "    # 'min_samples_leaf': 2,\n",
    "    # 'max_features': 'sqrt',\n",
    "    # 'class_weight': 'balanced',\n",
    "    # 'max_samples': 0.8,\n",
    "    # 'criterion': 'entropy',\n",
    "    # 'oob_score': True,\n",
    "    # 'n_jobs': -1,\n",
    "    \n",
    "    # # vt\n",
    "    # 'n_estimators': 500,\n",
    "    # 'max_depth': 9,\n",
    "    # 'min_samples_split': 4,\n",
    "    # 'min_samples_leaf': 2,\n",
    "    # 'class_weight': 'balanced',\n",
    "    # 'max_samples': 0.8,\n",
    "    # 'criterion': 'entropy',\n",
    "    # 'oob_score': True,\n",
    "    # 'n_jobs': -1,\n",
    "    \n",
    "    # lda\n",
    "    'n_estimators': 500,\n",
    "    'max_depth': 10,\n",
    "    'min_samples_split': 6,\n",
    "    'min_samples_leaf': 2,\n",
    "    'max_features': 'sqrt',\n",
    "    'class_weight': 'balanced',\n",
    "    'max_samples': 0.8,\n",
    "    'criterion': 'entropy',\n",
    "    'oob_score': True,\n",
    "    'n_jobs': -1,\n",
    "}\n",
    "\n",
    "rf = RandomForestClassifier(**params, random_state=SEED)\n",
    "rf.fit(X_train, y_train)\n",
    "\n",
    "f1_score(y_train, rf.predict(X_train), average='macro'), f1_score(y_val, rf.predict(X_val), average='macro')"
   ]
  },
  {
   "cell_type": "markdown",
   "metadata": {},
   "source": [
    "# 앙상블"
   ]
  },
  {
   "cell_type": "markdown",
   "metadata": {},
   "source": [
    "- 스태킹"
   ]
  },
  {
   "cell_type": "code",
   "execution_count": 244,
   "metadata": {},
   "outputs": [
    {
     "data": {
      "text/plain": [
       "(0.7398460588116986, 0.7490338997015508)"
      ]
     },
     "execution_count": 244,
     "metadata": {},
     "output_type": "execute_result"
    }
   ],
   "source": [
    "from sklearn.ensemble import StackingClassifier\n",
    "\n",
    "meta_model = LogisticRegression(\n",
    "    C=0.1,\n",
    "    max_iter=3000,\n",
    "    class_weight=\"balanced\",\n",
    "    solver=\"liblinear\",\n",
    "    penalty=\"l1\",\n",
    "    random_state=SEED,\n",
    ")\n",
    "\n",
    "params = {\n",
    "    \"estimators\": [(\"lr\", lr), (\"lgbm\", lgbm), (\"xgb\", xgb), (\"rf\", rf)],\n",
    "    \"final_estimator\": meta_model,\n",
    "    \"cv\": cv,\n",
    "    \"n_jobs\": -1,\n",
    "}\n",
    "\n",
    "stacking = StackingClassifier(**params)\n",
    "stacking.fit(X_train, y_train)\n",
    "\n",
    "f1_score(y_train, stacking.predict(X_train), average=\"macro\"), f1_score(\n",
    "    y_val, stacking.predict(X_val), average=\"macro\"\n",
    ")"
   ]
  },
  {
   "cell_type": "code",
   "execution_count": 245,
   "metadata": {},
   "outputs": [
    {
     "data": {
      "text/plain": [
       "array([0.08683591, 0.41790884, 0.30527953, ..., 0.07321831, 0.30147129,\n",
       "       0.1240214 ])"
      ]
     },
     "execution_count": 245,
     "metadata": {},
     "output_type": "execute_result"
    }
   ],
   "source": [
    "stacking.fit(lda_train, target)\n",
    "pred_lda = stacking.predict_proba(lda_test)[:, 1]\n",
    "pred_lda"
   ]
  },
  {
   "cell_type": "code",
   "execution_count": 234,
   "metadata": {},
   "outputs": [
    {
     "data": {
      "text/plain": [
       "array([0.14413809, 0.49606213, 0.35864615, ..., 0.11173123, 0.22407353,\n",
       "       0.12265419])"
      ]
     },
     "execution_count": 234,
     "metadata": {},
     "output_type": "execute_result"
    }
   ],
   "source": [
    "stacking.fit(train_vt, target)\n",
    "pred_vt = stacking.predict_proba(test_vt)[:, 1]\n",
    "pred_vt"
   ]
  },
  {
   "cell_type": "code",
   "execution_count": null,
   "metadata": {},
   "outputs": [
    {
     "data": {
      "text/plain": [
       "array([0.152276  , 0.50198087, 0.35406201, ..., 0.12317094, 0.24023669,\n",
       "       0.12501484])"
      ]
     },
     "execution_count": 198,
     "metadata": {},
     "output_type": "execute_result"
    }
   ],
   "source": [
    "stacking.fit(train_rfecv, target)\n",
    "pred_rfecv = stacking.predict_proba(test_rfecv)[:, 1]\n",
    "pred_rfecv"
   ]
  },
  {
   "cell_type": "code",
   "execution_count": 249,
   "metadata": {},
   "outputs": [],
   "source": [
    "pred_proba = np.mean([pred_lda, pred_vt, pred_rfecv], axis=0)\n",
    "pred = (pred_proba >= 0.5).astype(int)\n",
    "submit['target'] = pred"
   ]
  },
  {
   "cell_type": "markdown",
   "metadata": {},
   "source": [
    "- 보팅"
   ]
  },
  {
   "cell_type": "code",
   "execution_count": 227,
   "metadata": {},
   "outputs": [
    {
     "name": "stdout",
     "output_type": "stream",
     "text": [
      "[LightGBM] [Info] Number of positive: 4699, number of negative: 7253\n",
      "[LightGBM] [Info] Auto-choosing row-wise multi-threading, the overhead of testing was 0.000029 seconds.\n",
      "You can set `force_row_wise=true` to remove the overhead.\n",
      "And if memory is not enough, you can set `force_col_wise=true`.\n",
      "[LightGBM] [Info] Total Bins 255\n",
      "[LightGBM] [Info] Number of data points in the train set: 11952, number of used features: 1\n",
      "[LightGBM] [Info] [binary:BoostFromScore]: pavg=0.393156 -> initscore=-0.434065\n",
      "[LightGBM] [Info] Start training from score -0.434065\n"
     ]
    },
    {
     "data": {
      "text/plain": [
       "(0.7627709640854392, 0.7492820540009728)"
      ]
     },
     "execution_count": 227,
     "metadata": {},
     "output_type": "execute_result"
    }
   ],
   "source": [
    "from sklearn.ensemble import VotingClassifier\n",
    "\n",
    "params = {\n",
    "    'estimators': [('lr', lr), ('lgbm', lgbm), ('xgb', xgb), ('rf', rf)],\n",
    "    'voting': 'soft'\n",
    "}\n",
    "\n",
    "voting = VotingClassifier(**params)\n",
    "voting.fit(X_train, y_train)\n",
    "\n",
    "f1_score(y_train, voting.predict(X_train), average='macro'), f1_score(y_val, voting.predict(X_val), average='macro')"
   ]
  },
  {
   "cell_type": "markdown",
   "metadata": {},
   "source": [
    "- 예측값 확률로 출력"
   ]
  },
  {
   "cell_type": "code",
   "execution_count": 301,
   "metadata": {},
   "outputs": [
    {
     "name": "stdout",
     "output_type": "stream",
     "text": [
      "[LightGBM] [Info] Number of positive: 5874, number of negative: 9066\n",
      "[LightGBM] [Info] Auto-choosing col-wise multi-threading, the overhead of testing was 0.027622 seconds.\n",
      "You can set `force_col_wise=true` to remove the overhead.\n",
      "[LightGBM] [Info] Total Bins 85077\n",
      "[LightGBM] [Info] Number of data points in the train set: 14940, number of used features: 650\n",
      "[LightGBM] [Info] [binary:BoostFromScore]: pavg=0.393173 -> initscore=-0.433995\n",
      "[LightGBM] [Info] Start training from score -0.433995\n"
     ]
    }
   ],
   "source": [
    "voting.fit(train_ft, target)\n",
    "pred = voting.predict(test_ft)\n",
    "submit[\"target\"] = pred"
   ]
  },
  {
   "cell_type": "markdown",
   "metadata": {
    "id": "q-we55wPVkWP"
   },
   "source": [
    "# 테스트 데이터 예측"
   ]
  },
  {
   "cell_type": "code",
   "execution_count": 91,
   "metadata": {
    "colab": {
     "base_uri": "https://localhost:8080/"
    },
    "executionInfo": {
     "elapsed": 649,
     "status": "ok",
     "timestamp": 1730269803782,
     "user": {
      "displayName": "koeyhi",
      "userId": "08049178071858703986"
     },
     "user_tz": -540
    },
    "id": "Umn-CJl7VGqv",
    "outputId": "df6143ac-c67b-454b-c8a0-6509629fdbd6"
   },
   "outputs": [
    {
     "data": {
      "text/plain": [
       "array([0., 0., 0., ..., 0., 0., 0.])"
      ]
     },
     "execution_count": 91,
     "metadata": {},
     "output_type": "execute_result"
    }
   ],
   "source": [
    "pred = model.predict(test_ft)\n",
    "pred"
   ]
  },
  {
   "cell_type": "code",
   "execution_count": 563,
   "metadata": {
    "colab": {
     "base_uri": "https://localhost:8080/"
    },
    "executionInfo": {
     "elapsed": 661,
     "status": "ok",
     "timestamp": 1730270079154,
     "user": {
      "displayName": "koeyhi",
      "userId": "08049178071858703986"
     },
     "user_tz": -540
    },
    "id": "cGKD_ONhIfL_",
    "outputId": "4ab0c760-b63e-452b-c760-cfeaed1278aa"
   },
   "outputs": [],
   "source": [
    "# pred = model.predict_proba(test_ft)[:,1]\n",
    "# pred"
   ]
  },
  {
   "cell_type": "markdown",
   "metadata": {
    "id": "CcnCtcWPVrKn"
   },
   "source": [
    "# 평가를 위한 제출 파일 생성\n",
    "- 예측 결과를 target 컬럼에 넣어 csv 파일로 저장후에 제출한다."
   ]
  },
  {
   "cell_type": "code",
   "execution_count": 113,
   "metadata": {
    "colab": {
     "base_uri": "https://localhost:8080/",
     "height": 423
    },
    "executionInfo": {
     "elapsed": 349,
     "status": "ok",
     "timestamp": 1730270088012,
     "user": {
      "displayName": "koeyhi",
      "userId": "08049178071858703986"
     },
     "user_tz": -540
    },
    "id": "LLHqOugmVq_v",
    "outputId": "8f33a188-902f-4bce-c940-1ca59acb8f10"
   },
   "outputs": [
    {
     "data": {
      "text/html": [
       "<div>\n",
       "<style scoped>\n",
       "    .dataframe tbody tr th:only-of-type {\n",
       "        vertical-align: middle;\n",
       "    }\n",
       "\n",
       "    .dataframe tbody tr th {\n",
       "        vertical-align: top;\n",
       "    }\n",
       "\n",
       "    .dataframe thead th {\n",
       "        text-align: right;\n",
       "    }\n",
       "</style>\n",
       "<table border=\"1\" class=\"dataframe\">\n",
       "  <thead>\n",
       "    <tr style=\"text-align: right;\">\n",
       "      <th></th>\n",
       "      <th>ID</th>\n",
       "      <th>target</th>\n",
       "    </tr>\n",
       "  </thead>\n",
       "  <tbody>\n",
       "    <tr>\n",
       "      <th>0</th>\n",
       "      <td>test_0</td>\n",
       "      <td>0.0</td>\n",
       "    </tr>\n",
       "    <tr>\n",
       "      <th>1</th>\n",
       "      <td>test_1</td>\n",
       "      <td>1.0</td>\n",
       "    </tr>\n",
       "    <tr>\n",
       "      <th>2</th>\n",
       "      <td>test_2</td>\n",
       "      <td>0.0</td>\n",
       "    </tr>\n",
       "    <tr>\n",
       "      <th>3</th>\n",
       "      <td>test_3</td>\n",
       "      <td>1.0</td>\n",
       "    </tr>\n",
       "    <tr>\n",
       "      <th>4</th>\n",
       "      <td>test_4</td>\n",
       "      <td>1.0</td>\n",
       "    </tr>\n",
       "    <tr>\n",
       "      <th>...</th>\n",
       "      <td>...</td>\n",
       "      <td>...</td>\n",
       "    </tr>\n",
       "    <tr>\n",
       "      <th>12220</th>\n",
       "      <td>test_12220</td>\n",
       "      <td>1.0</td>\n",
       "    </tr>\n",
       "    <tr>\n",
       "      <th>12221</th>\n",
       "      <td>test_12221</td>\n",
       "      <td>0.0</td>\n",
       "    </tr>\n",
       "    <tr>\n",
       "      <th>12222</th>\n",
       "      <td>test_12222</td>\n",
       "      <td>0.0</td>\n",
       "    </tr>\n",
       "    <tr>\n",
       "      <th>12223</th>\n",
       "      <td>test_12223</td>\n",
       "      <td>0.0</td>\n",
       "    </tr>\n",
       "    <tr>\n",
       "      <th>12224</th>\n",
       "      <td>test_12224</td>\n",
       "      <td>0.0</td>\n",
       "    </tr>\n",
       "  </tbody>\n",
       "</table>\n",
       "<p>12225 rows × 2 columns</p>\n",
       "</div>"
      ],
      "text/plain": [
       "               ID  target\n",
       "0          test_0     0.0\n",
       "1          test_1     1.0\n",
       "2          test_2     0.0\n",
       "3          test_3     1.0\n",
       "4          test_4     1.0\n",
       "...           ...     ...\n",
       "12220  test_12220     1.0\n",
       "12221  test_12221     0.0\n",
       "12222  test_12222     0.0\n",
       "12223  test_12223     0.0\n",
       "12224  test_12224     0.0\n",
       "\n",
       "[12225 rows x 2 columns]"
      ]
     },
     "execution_count": 113,
     "metadata": {},
     "output_type": "execute_result"
    }
   ],
   "source": [
    "submit[\"target\"] = pred\n",
    "submit"
   ]
  },
  {
   "cell_type": "markdown",
   "metadata": {
    "id": "bjw87GeIV-BP"
   },
   "source": [
    "- 예측 결과를 csv 파일로 저장하여 제출"
   ]
  },
  {
   "cell_type": "code",
   "execution_count": 250,
   "metadata": {
    "executionInfo": {
     "elapsed": 16,
     "status": "ok",
     "timestamp": 1730269803783,
     "user": {
      "displayName": "koeyhi",
      "userId": "08049178071858703986"
     },
     "user_tz": -540
    },
    "id": "SsLTeJeoWBc_"
   },
   "outputs": [],
   "source": [
    "submit.to_csv(f\"{DATA_PATH}submit.csv\",index=False)"
   ]
  }
 ],
 "metadata": {
  "colab": {
   "provenance": []
  },
  "kernelspec": {
   "display_name": "Python 3",
   "name": "python3"
  },
  "language_info": {
   "codemirror_mode": {
    "name": "ipython",
    "version": 3
   },
   "file_extension": ".py",
   "mimetype": "text/x-python",
   "name": "python",
   "nbconvert_exporter": "python",
   "pygments_lexer": "ipython3",
   "version": "3.10.8"
  }
 },
 "nbformat": 4,
 "nbformat_minor": 0
}
