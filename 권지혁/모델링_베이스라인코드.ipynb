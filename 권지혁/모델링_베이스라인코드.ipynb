{
 "cells": [
  {
   "cell_type": "code",
   "execution_count": 165,
   "metadata": {},
   "outputs": [
    {
     "name": "stderr",
     "output_type": "stream",
     "text": [
      "'sudo'��(��) ���� �Ǵ� �ܺ� ����, ������ �� �ִ� ���α׷�, �Ǵ�\n",
      "��ġ ������ �ƴմϴ�.\n",
      "'sudo'��(��) ���� �Ǵ� �ܺ� ����, ������ �� �ִ� ���α׷�, �Ǵ�\n",
      "��ġ ������ �ƴմϴ�.\n"
     ]
    }
   ],
   "source": [
    "import matplotlib\n",
    "from matplotlib import font_manager\n",
    "\n",
    "!sudo apt-get install -y fonts-nanum\n",
    "!sudo fc-cache -fv\n",
    "\n",
    "fontpaths = [\"C:/Users/kwon3/AppData/Local/Microsoft/Windows/Fonts/NanumGothicBold.ttf\"]\n",
    "font_files = font_manager.findSystemFonts(fontpaths=fontpaths)\n",
    "\n",
    "for ff in font_files:\n",
    "    font_manager.fontManager.addfont(ff)\n",
    "\n",
    "matplotlib.rc('font', family=\"Malgun Gothic\")\n",
    "matplotlib.rcParams['axes.unicode_minus'] = False"
   ]
  },
  {
   "cell_type": "code",
   "execution_count": 166,
   "metadata": {
    "colab": {
     "base_uri": "https://localhost:8080/"
    },
    "executionInfo": {
     "elapsed": 2373,
     "status": "ok",
     "timestamp": 1730269751697,
     "user": {
      "displayName": "koeyhi",
      "userId": "08049178071858703986"
     },
     "user_tz": -540
    },
    "id": "N44QYORV8wFy",
    "outputId": "c67d746e-c038-46c3-c4a6-12e2bfb4c4c2"
   },
   "outputs": [],
   "source": [
    "# from google.colab import drive\n",
    "# drive.mount('/content/drive')"
   ]
  },
  {
   "cell_type": "markdown",
   "metadata": {
    "id": "ZhUuXRB5BCFE"
   },
   "source": [
    "- 데이터 경로 변수"
   ]
  },
  {
   "cell_type": "code",
   "execution_count": 167,
   "metadata": {
    "colab": {
     "base_uri": "https://localhost:8080/",
     "height": 35
    },
    "executionInfo": {
     "elapsed": 4,
     "status": "ok",
     "timestamp": 1730269751697,
     "user": {
      "displayName": "koeyhi",
      "userId": "08049178071858703986"
     },
     "user_tz": -540
    },
    "id": "NfX2HPof87FT",
    "outputId": "c78f61ea-4061-4239-8d9a-69596aaea196"
   },
   "outputs": [],
   "source": [
    "# DATA_PATH = \"/content/drive/MyDrive/파이널프로젝트/data/\"\n",
    "# DATA_PATH"
   ]
  },
  {
   "cell_type": "code",
   "execution_count": 168,
   "metadata": {},
   "outputs": [
    {
     "data": {
      "text/plain": [
       "'data/'"
      ]
     },
     "execution_count": 168,
     "metadata": {},
     "output_type": "execute_result"
    }
   ],
   "source": [
    "DATA_PATH = \"data/\"\n",
    "DATA_PATH"
   ]
  },
  {
   "cell_type": "markdown",
   "metadata": {
    "id": "q1qAeLjZVWZz"
   },
   "source": [
    "- 시드값"
   ]
  },
  {
   "cell_type": "code",
   "execution_count": 169,
   "metadata": {
    "executionInfo": {
     "elapsed": 3,
     "status": "ok",
     "timestamp": 1730269751697,
     "user": {
      "displayName": "koeyhi",
      "userId": "08049178071858703986"
     },
     "user_tz": -540
    },
    "id": "nVyhJ6uOVVNE"
   },
   "outputs": [],
   "source": [
    "SEED = 42"
   ]
  },
  {
   "cell_type": "markdown",
   "metadata": {
    "id": "sQd7JpzNBHa1"
   },
   "source": [
    "- 데이터 불러오기"
   ]
  },
  {
   "cell_type": "code",
   "execution_count": 170,
   "metadata": {
    "colab": {
     "base_uri": "https://localhost:8080/"
    },
    "executionInfo": {
     "elapsed": 3363,
     "status": "ok",
     "timestamp": 1730269755057,
     "user": {
      "displayName": "koeyhi",
      "userId": "08049178071858703986"
     },
     "user_tz": -540
    },
    "id": "KFGKUIWt89fZ",
    "outputId": "71de9db2-3cde-484d-bf38-d478119d222f"
   },
   "outputs": [
    {
     "data": {
      "text/plain": [
       "((523105, 7), (14940, 2), (441196, 7), (12225, 2))"
      ]
     },
     "execution_count": 170,
     "metadata": {},
     "output_type": "execute_result"
    }
   ],
   "source": [
    "import pandas as pd\n",
    "import numpy as np\n",
    "\n",
    "train_tr = pd.read_csv(f\"{DATA_PATH}store_train_transactions.csv\") # 학습용 구매기록 데이터\n",
    "train_target = pd.read_csv(f\"{DATA_PATH}store_train.csv\") # 학습용 정답 데이터\n",
    "test_tr = pd.read_csv(f\"{DATA_PATH}store_test_transactions.csv\") # 테스트용 구매기록 데이터\n",
    "submit = pd.read_csv(f\"{DATA_PATH}store_submission.csv\") # 제출 양식 데이터\n",
    "\n",
    "train_tr.shape , train_target.shape , test_tr.shape , submit.shape"
   ]
  },
  {
   "cell_type": "markdown",
   "metadata": {
    "id": "XZq4x4CuP2gr"
   },
   "source": [
    "- 공통 피처 파일 불러오기"
   ]
  },
  {
   "cell_type": "code",
   "execution_count": 171,
   "metadata": {
    "colab": {
     "base_uri": "https://localhost:8080/"
    },
    "executionInfo": {
     "elapsed": 1741,
     "status": "ok",
     "timestamp": 1730269756796,
     "user": {
      "displayName": "koeyhi",
      "userId": "08049178071858703986"
     },
     "user_tz": -540
    },
    "id": "T3tcFrkLPv1g",
    "outputId": "31ea41a2-0d8b-4e97-c431-e584aab30619"
   },
   "outputs": [
    {
     "data": {
      "text/plain": [
       "((14940, 2305), (12225, 2305))"
      ]
     },
     "execution_count": 171,
     "metadata": {},
     "output_type": "execute_result"
    }
   ],
   "source": [
    "train_ft = pd.read_csv(f\"{DATA_PATH}train_common.csv\") # 학습 데이터(피처)\n",
    "test_ft = pd.read_csv(f\"{DATA_PATH}test_common.csv\") # 테스트 데이터(피처)\n",
    "\n",
    "train_ft.shape , test_ft.shape"
   ]
  },
  {
   "cell_type": "markdown",
   "metadata": {},
   "source": [
    "- 정답 데이터"
   ]
  },
  {
   "cell_type": "code",
   "execution_count": 172,
   "metadata": {},
   "outputs": [
    {
     "data": {
      "text/plain": [
       "0        1.0\n",
       "1        1.0\n",
       "2        0.0\n",
       "3        0.0\n",
       "4        0.0\n",
       "        ... \n",
       "14935    0.0\n",
       "14936    0.0\n",
       "14937    0.0\n",
       "14938    1.0\n",
       "14939    1.0\n",
       "Name: target, Length: 14940, dtype: float64"
      ]
     },
     "execution_count": 172,
     "metadata": {},
     "output_type": "execute_result"
    }
   ],
   "source": [
    "target = train_target[\"target\"]\n",
    "target"
   ]
  },
  {
   "cell_type": "markdown",
   "metadata": {
    "id": "r43SCHUujW-f"
   },
   "source": [
    "# 결측치 처리"
   ]
  },
  {
   "cell_type": "code",
   "execution_count": 173,
   "metadata": {
    "colab": {
     "base_uri": "https://localhost:8080/",
     "height": 115
    },
    "executionInfo": {
     "elapsed": 18,
     "status": "ok",
     "timestamp": 1730269756796,
     "user": {
      "displayName": "koeyhi",
      "userId": "08049178071858703986"
     },
     "user_tz": -540
    },
    "id": "0qVrhIG3Q6T3",
    "outputId": "14080301-7bdb-4e7f-ced1-4b5b8dc2bd03"
   },
   "outputs": [
    {
     "data": {
      "text/plain": [
       "Series([], dtype: int64)"
      ]
     },
     "execution_count": 173,
     "metadata": {},
     "output_type": "execute_result"
    }
   ],
   "source": [
    "mask = train_ft.isnull().sum() > 0\n",
    "train_ft.isnull().sum()[mask]"
   ]
  },
  {
   "cell_type": "code",
   "execution_count": 174,
   "metadata": {
    "colab": {
     "base_uri": "https://localhost:8080/",
     "height": 115
    },
    "executionInfo": {
     "elapsed": 17,
     "status": "ok",
     "timestamp": 1730269756796,
     "user": {
      "displayName": "koeyhi",
      "userId": "08049178071858703986"
     },
     "user_tz": -540
    },
    "id": "51Fu8zq9Q6Q8",
    "outputId": "c3f9b1c2-3af9-4c3f-b7c7-40f1549f3cfa"
   },
   "outputs": [
    {
     "data": {
      "text/plain": [
       "Series([], dtype: int64)"
      ]
     },
     "execution_count": 174,
     "metadata": {},
     "output_type": "execute_result"
    }
   ],
   "source": [
    "mask = test_ft.isnull().sum() > 0\n",
    "test_ft.isnull().sum()[mask]"
   ]
  },
  {
   "cell_type": "markdown",
   "metadata": {
    "id": "fgPa4QG0RF2d"
   },
   "source": [
    "# 특성 공학(Feature Engineering)"
   ]
  },
  {
   "cell_type": "markdown",
   "metadata": {
    "id": "OXuo6unbRLGm"
   },
   "source": [
    "- ID 변수 제외"
   ]
  },
  {
   "cell_type": "code",
   "execution_count": 175,
   "metadata": {
    "colab": {
     "base_uri": "https://localhost:8080/"
    },
    "executionInfo": {
     "elapsed": 17,
     "status": "ok",
     "timestamp": 1730269756797,
     "user": {
      "displayName": "koeyhi",
      "userId": "08049178071858703986"
     },
     "user_tz": -540
    },
    "id": "xfksFVguRFuZ",
    "outputId": "39f354f5-84bc-4b11-db93-0973c2627455"
   },
   "outputs": [
    {
     "data": {
      "text/plain": [
       "((14940, 2304), (12225, 2304))"
      ]
     },
     "execution_count": 175,
     "metadata": {},
     "output_type": "execute_result"
    }
   ],
   "source": [
    "train_ft = train_ft.iloc[:,1:]\n",
    "test_ft = test_ft.iloc[:,1:]\n",
    "train_ft.shape, test_ft.shape"
   ]
  },
  {
   "cell_type": "markdown",
   "metadata": {
    "id": "jjuSj8URRa_q"
   },
   "source": [
    "- 추가 피처 만들어 보기"
   ]
  },
  {
   "cell_type": "code",
   "execution_count": 176,
   "metadata": {},
   "outputs": [
    {
     "data": {
      "text/plain": [
       "((14940, 2307), (12225, 2307))"
      ]
     },
     "execution_count": 176,
     "metadata": {},
     "output_type": "execute_result"
    }
   ],
   "source": [
    "cols = [ col for col in train_ft.columns if col.startswith(\"pivot_지점코드_\") ]\n",
    "\n",
    "train_ft[\"지점코드별_구매횟수_std\"] = train_ft[cols].std(axis=1)\n",
    "train_ft[\"지점코드별_구매횟수_skew\"] = train_ft[cols].skew(axis=1)\n",
    "train_ft[\"지점코드별_구매횟수_kurt\"] = train_ft[cols].kurt(axis=1)\n",
    "\n",
    "test_ft[\"지점코드별_구매횟수_std\"] = test_ft[cols].std(axis=1)\n",
    "test_ft[\"지점코드별_구매횟수_skew\"] = test_ft[cols].skew(axis=1)\n",
    "test_ft[\"지점코드별_구매횟수_kurt\"] = test_ft[cols].kurt(axis=1)\n",
    "\n",
    "train_ft.shape, test_ft.shape"
   ]
  },
  {
   "cell_type": "code",
   "execution_count": 177,
   "metadata": {
    "colab": {
     "base_uri": "https://localhost:8080/"
    },
    "executionInfo": {
     "elapsed": 713,
     "status": "ok",
     "timestamp": 1730269757495,
     "user": {
      "displayName": "koeyhi",
      "userId": "08049178071858703986"
     },
     "user_tz": -540
    },
    "id": "EQaqdQSARFr4",
    "outputId": "3ed4d721-1bb8-4e8c-bfab-60c4c0a204d6"
   },
   "outputs": [
    {
     "data": {
      "text/plain": [
       "((14940, 2310), (12225, 2310))"
      ]
     },
     "execution_count": 177,
     "metadata": {},
     "output_type": "execute_result"
    }
   ],
   "source": [
    "cols = [ col for col in train_ft.columns if col.startswith(\"pivot_중분류_\") ]\n",
    "\n",
    "train_ft[\"중분류별_구매횟수_std\"] = train_ft[cols].std(axis=1)\n",
    "train_ft[\"중분류별_구매횟수_skew\"] = train_ft[cols].skew(axis=1)\n",
    "train_ft[\"중분류별_구매횟수_kurt\"] = train_ft[cols].kurt(axis=1)\n",
    "\n",
    "test_ft[\"중분류별_구매횟수_std\"] = test_ft[cols].std(axis=1)\n",
    "test_ft[\"중분류별_구매횟수_skew\"] = test_ft[cols].skew(axis=1)\n",
    "test_ft[\"중분류별_구매횟수_kurt\"] = test_ft[cols].kurt(axis=1)\n",
    "\n",
    "train_ft.shape, test_ft.shape"
   ]
  },
  {
   "cell_type": "code",
   "execution_count": 178,
   "metadata": {},
   "outputs": [
    {
     "data": {
      "text/plain": [
       "((14940, 2313), (12225, 2313))"
      ]
     },
     "execution_count": 178,
     "metadata": {},
     "output_type": "execute_result"
    }
   ],
   "source": [
    "cols = [ col for col in train_ft.columns if col.startswith(\"pivot_대분류_\") ]\n",
    "\n",
    "train_ft[\"대분류별_구매횟수_std\"] = train_ft[cols].std(axis=1)\n",
    "train_ft[\"대분류별_구매횟수_skew\"] = train_ft[cols].skew(axis=1)\n",
    "train_ft[\"대분류별_구매횟수_kurt\"] = train_ft[cols].kurt(axis=1)\n",
    "\n",
    "test_ft[\"대분류별_구매횟수_std\"] = test_ft[cols].std(axis=1)\n",
    "test_ft[\"대분류별_구매횟수_skew\"] = test_ft[cols].skew(axis=1)\n",
    "test_ft[\"대분류별_구매횟수_kurt\"] = test_ft[cols].kurt(axis=1)\n",
    "\n",
    "train_ft.shape, test_ft.shape"
   ]
  },
  {
   "cell_type": "code",
   "execution_count": 179,
   "metadata": {},
   "outputs": [
    {
     "data": {
      "text/plain": [
       "((14940, 2316), (12225, 2316))"
      ]
     },
     "execution_count": 179,
     "metadata": {},
     "output_type": "execute_result"
    }
   ],
   "source": [
    "cols = [ col for col in train_ft.columns if col.startswith(\"pivot_브랜드코드_\") ]\n",
    "\n",
    "train_ft[\"브랜드코드별_구매횟수_std\"] = train_ft[cols].std(axis=1)\n",
    "train_ft[\"브랜드코드별_구매횟수_skew\"] = train_ft[cols].skew(axis=1)\n",
    "train_ft[\"브랜드코드별_구매횟수_kurt\"] = train_ft[cols].kurt(axis=1)\n",
    "\n",
    "test_ft[\"브랜드코드별_구매횟수_std\"] = test_ft[cols].std(axis=1)\n",
    "test_ft[\"브랜드코드별_구매횟수_skew\"] = test_ft[cols].skew(axis=1)\n",
    "test_ft[\"브랜드코드별_구매횟수_kurt\"] = test_ft[cols].kurt(axis=1)\n",
    "\n",
    "train_ft.shape, test_ft.shape"
   ]
  },
  {
   "cell_type": "code",
   "execution_count": 180,
   "metadata": {},
   "outputs": [
    {
     "data": {
      "text/plain": [
       "((14940, 2319), (12225, 2319))"
      ]
     },
     "execution_count": 180,
     "metadata": {},
     "output_type": "execute_result"
    }
   ],
   "source": [
    "cols = [ col for col in train_ft.columns if col.endswith(\"요일_구매비율\") ]\n",
    "\n",
    "train_ft[\"요일별_구매비율_std\"] = train_ft[cols].std(axis=1)\n",
    "train_ft[\"요일별_구매비율_skew\"] = train_ft[cols].skew(axis=1)\n",
    "train_ft[\"요일별_구매비율_kurt\"] = train_ft[cols].kurt(axis=1)\n",
    "\n",
    "test_ft[\"요일별_구매비율_std\"] = test_ft[cols].std(axis=1)\n",
    "test_ft[\"요일별_구매비율_skew\"] = test_ft[cols].skew(axis=1)\n",
    "test_ft[\"요일별_구매비율_kurt\"] = test_ft[cols].kurt(axis=1)\n",
    "\n",
    "train_ft.shape, test_ft.shape"
   ]
  },
  {
   "cell_type": "code",
   "execution_count": 181,
   "metadata": {},
   "outputs": [
    {
     "data": {
      "text/plain": [
       "((14940, 2322), (12225, 2322))"
      ]
     },
     "execution_count": 181,
     "metadata": {},
     "output_type": "execute_result"
    }
   ],
   "source": [
    "cols = [ col for col in train_ft.columns if col.endswith(\"월_구매비율\") ]\n",
    "\n",
    "train_ft[\"월별_구매비율_std\"] = train_ft[cols].std(axis=1)\n",
    "train_ft[\"월별_구매비율_skew\"] = train_ft[cols].skew(axis=1)\n",
    "train_ft[\"월별_구매비율_kurt\"] = train_ft[cols].kurt(axis=1)\n",
    "\n",
    "test_ft[\"월별_구매비율_std\"] = test_ft[cols].std(axis=1)\n",
    "test_ft[\"월별_구매비율_skew\"] = test_ft[cols].skew(axis=1)\n",
    "test_ft[\"월별_구매비율_kurt\"] = test_ft[cols].kurt(axis=1)\n",
    "\n",
    "train_ft.shape, test_ft.shape"
   ]
  },
  {
   "cell_type": "code",
   "execution_count": 182,
   "metadata": {},
   "outputs": [
    {
     "data": {
      "text/plain": [
       "((14940, 2325), (12225, 2325))"
      ]
     },
     "execution_count": 182,
     "metadata": {},
     "output_type": "execute_result"
    }
   ],
   "source": [
    "cols = [\"봄_구매비율\",\"여름_구매비율\",\"가을_구매비율\",\"겨울_구매비율\"]\n",
    "\n",
    "train_ft[\"계절별_구매비율_std\"] = train_ft[cols].std(axis=1)\n",
    "train_ft[\"계절별_구매비율_skew\"] = train_ft[cols].skew(axis=1)\n",
    "train_ft[\"계절별_구매비율_kurt\"] = train_ft[cols].kurt(axis=1)\n",
    "\n",
    "test_ft[\"계절별_구매비율_std\"] = test_ft[cols].std(axis=1)\n",
    "test_ft[\"계절별_구매비율_skew\"] = test_ft[cols].skew(axis=1)\n",
    "test_ft[\"계절별_구매비율_kurt\"] = test_ft[cols].kurt(axis=1)\n",
    "\n",
    "train_ft.shape, test_ft.shape"
   ]
  },
  {
   "cell_type": "code",
   "execution_count": 183,
   "metadata": {},
   "outputs": [
    {
     "data": {
      "text/plain": [
       "((14940, 2328), (12225, 2328))"
      ]
     },
     "execution_count": 183,
     "metadata": {},
     "output_type": "execute_result"
    }
   ],
   "source": [
    "cols = [ col for col in train_ft.columns if col.endswith(\"분기_구매비율\") ]\n",
    "\n",
    "train_ft[\"분기별_구매비율_std\"] = train_ft[cols].std(axis=1)\n",
    "train_ft[\"분기별_구매비율_skew\"] = train_ft[cols].skew(axis=1)\n",
    "train_ft[\"분기별_구매비율_kurt\"] = train_ft[cols].kurt(axis=1)\n",
    "\n",
    "test_ft[\"분기별_구매비율_std\"] = test_ft[cols].std(axis=1)\n",
    "test_ft[\"분기별_구매비율_skew\"] = test_ft[cols].skew(axis=1)\n",
    "test_ft[\"분기별_구매비율_kurt\"] = test_ft[cols].kurt(axis=1)\n",
    "\n",
    "train_ft.shape, test_ft.shape"
   ]
  },
  {
   "cell_type": "code",
   "execution_count": 184,
   "metadata": {},
   "outputs": [
    {
     "data": {
      "text/plain": [
       "((14940, 2329), (12225, 2329))"
      ]
     },
     "execution_count": 184,
     "metadata": {},
     "output_type": "execute_result"
    }
   ],
   "source": [
    "cols = [ col for col in train_ft.columns if col.endswith(\"년_구매비율\") ]\n",
    "\n",
    "train_ft[\"년도별_구매비율_std\"] = train_ft[cols].std(axis=1)\n",
    "test_ft[\"년도별_구매비율_std\"] = test_ft[cols].std(axis=1)\n",
    "\n",
    "train_ft.shape, test_ft.shape"
   ]
  },
  {
   "cell_type": "markdown",
   "metadata": {
    "id": "gXvdNLMtSVlW"
   },
   "source": [
    "## Feature Encoding"
   ]
  },
  {
   "cell_type": "code",
   "execution_count": 185,
   "metadata": {},
   "outputs": [
    {
     "data": {
      "text/plain": [
       "((14940, 2333), (12225, 2333))"
      ]
     },
     "execution_count": 185,
     "metadata": {},
     "output_type": "execute_result"
    }
   ],
   "source": [
    "train_ft[\"첫구매날짜\"] = pd.to_datetime(train_ft[\"첫구매날짜\"])\n",
    "train_ft[\"마지막구매날짜\"] = pd.to_datetime(train_ft[\"마지막구매날짜\"])\n",
    "test_ft[\"첫구매날짜\"] = pd.to_datetime(test_ft[\"첫구매날짜\"])\n",
    "test_ft[\"마지막구매날짜\"] = pd.to_datetime(test_ft[\"마지막구매날짜\"])\n",
    "\n",
    "train_ft[\"첫구매년도\"] = train_ft[\"첫구매날짜\"].dt.year\n",
    "train_ft[\"첫구매월\"] = train_ft[\"첫구매날짜\"].dt.month\n",
    "train_ft[\"마지막구매년도\"] = train_ft[\"마지막구매날짜\"].dt.year\n",
    "train_ft[\"마지막구매월\"] = train_ft[\"마지막구매날짜\"].dt.month\n",
    "\n",
    "test_ft[\"첫구매년도\"] = test_ft[\"첫구매날짜\"].dt.year\n",
    "test_ft[\"첫구매월\"] = test_ft[\"첫구매날짜\"].dt.month\n",
    "test_ft[\"마지막구매년도\"] = test_ft[\"마지막구매날짜\"].dt.year\n",
    "test_ft[\"마지막구매월\"] = test_ft[\"마지막구매날짜\"].dt.month\n",
    "\n",
    "train_ft.shape, test_ft.shape"
   ]
  },
  {
   "cell_type": "markdown",
   "metadata": {},
   "source": [
    "- 범주형 피처\n",
    "    - 주구매지점, 주구매_중분류, 주구매_대분류, 주구매시간대, 선호브랜드코드, 고객등급"
   ]
  },
  {
   "cell_type": "code",
   "execution_count": 186,
   "metadata": {
    "colab": {
     "base_uri": "https://localhost:8080/"
    },
    "executionInfo": {
     "elapsed": 5372,
     "status": "ok",
     "timestamp": 1730269762864,
     "user": {
      "displayName": "koeyhi",
      "userId": "08049178071858703986"
     },
     "user_tz": -540
    },
    "id": "RICJpfu2SRWd",
    "outputId": "771c1229-c8cd-4c73-c977-c1ca65987549"
   },
   "outputs": [],
   "source": [
    "# %pip install category_encoders"
   ]
  },
  {
   "cell_type": "code",
   "execution_count": 187,
   "metadata": {
    "colab": {
     "base_uri": "https://localhost:8080/"
    },
    "executionInfo": {
     "elapsed": 298,
     "status": "ok",
     "timestamp": 1730269770905,
     "user": {
      "displayName": "koeyhi",
      "userId": "08049178071858703986"
     },
     "user_tz": -540
    },
    "id": "3d6B3II8T25p",
    "outputId": "f5d9eb08-ac39-4dd0-cd4e-8eb35ecf752f"
   },
   "outputs": [
    {
     "data": {
      "text/plain": [
       "((14940, 2374), (12225, 2374))"
      ]
     },
     "execution_count": 187,
     "metadata": {},
     "output_type": "execute_result"
    }
   ],
   "source": [
    "import category_encoders as ce\n",
    "from sklearn.preprocessing import OneHotEncoder, OrdinalEncoder\n",
    "\n",
    "oh_enc = OneHotEncoder(handle_unknown=\"ignore\")\n",
    "oh_enc_cols = [\"주구매지점\",\"주구매_대분류\", \"주구매시간대\"]\n",
    "oh_enc_data = pd.concat([train_ft[oh_enc_cols], test_ft[oh_enc_cols]])\n",
    "oh_enc.fit(oh_enc_data)\n",
    "\n",
    "train_ft[oh_enc.get_feature_names_out()] = oh_enc.transform(train_ft[oh_enc_cols]).toarray()\n",
    "test_ft[oh_enc.get_feature_names_out()] = oh_enc.transform(test_ft[oh_enc_cols]).toarray()\n",
    "\n",
    "train_ft.shape, test_ft.shape"
   ]
  },
  {
   "cell_type": "code",
   "execution_count": 188,
   "metadata": {},
   "outputs": [
    {
     "data": {
      "text/plain": [
       "((14940, 2374), (12225, 2374))"
      ]
     },
     "execution_count": 188,
     "metadata": {},
     "output_type": "execute_result"
    }
   ],
   "source": [
    "ord_enc = OrdinalEncoder(categories=[['Normal', 'Black', 'Gold', 'Platinum', 'Diamond']])\n",
    "train_ft[\"고객등급\"] = ord_enc.fit_transform(train_ft[[\"고객등급\"]])\n",
    "test_ft[\"고객등급\"] = ord_enc.transform(test_ft[[\"고객등급\"]])\n",
    "\n",
    "train_ft.shape, test_ft.shape"
   ]
  },
  {
   "cell_type": "code",
   "execution_count": 189,
   "metadata": {},
   "outputs": [
    {
     "data": {
      "text/plain": [
       "((14940, 2375), (12225, 2375))"
      ]
     },
     "execution_count": 189,
     "metadata": {},
     "output_type": "execute_result"
    }
   ],
   "source": [
    "train_ft['선호브랜드코드'] = train_ft['선호브랜드코드'].astype('category')\n",
    "test_ft['선호브랜드코드'] = test_ft['선호브랜드코드'].astype('category')\n",
    "\n",
    "combined_brands = pd.concat([train_ft['선호브랜드코드'], test_ft['선호브랜드코드']])\n",
    "\n",
    "enc = ce.CountEncoder()\n",
    "train_ft[\"선호브랜드코드_cnt\"] = enc.fit_transform(train_ft[['선호브랜드코드']])\n",
    "test_ft[\"선호브랜드코드_cnt\"] = enc.transform(test_ft[['선호브랜드코드']])\n",
    "\n",
    "train_ft.shape, test_ft.shape"
   ]
  },
  {
   "cell_type": "code",
   "execution_count": 190,
   "metadata": {
    "colab": {
     "base_uri": "https://localhost:8080/"
    },
    "executionInfo": {
     "elapsed": 316,
     "status": "ok",
     "timestamp": 1730269771219,
     "user": {
      "displayName": "koeyhi",
      "userId": "08049178071858703986"
     },
     "user_tz": -540
    },
    "id": "q0ztgmEMRFpN",
    "outputId": "c5eab720-275c-475d-f092-c26f41b71cc5"
   },
   "outputs": [
    {
     "data": {
      "text/plain": [
       "((14940, 2376), (12225, 2376))"
      ]
     },
     "execution_count": 190,
     "metadata": {},
     "output_type": "execute_result"
    }
   ],
   "source": [
    "combined_categories = pd.concat([train_ft['주구매_중분류'], test_ft['주구매_중분류']])\n",
    "\n",
    "enc = ce.count.CountEncoder()\n",
    "train_ft[\"주구매_중분류_cnt\"] = enc.fit_transform(train_ft[[\"주구매_중분류\"]])\n",
    "test_ft[\"주구매_중분류_cnt\"] = enc.transform(test_ft[[\"주구매_중분류\"]])\n",
    "\n",
    "train_ft.shape, test_ft.shape"
   ]
  },
  {
   "cell_type": "markdown",
   "metadata": {
    "id": "lPURwRnPUj-B"
   },
   "source": [
    "- 문자열 피처 삭제"
   ]
  },
  {
   "cell_type": "code",
   "execution_count": 191,
   "metadata": {},
   "outputs": [
    {
     "data": {
      "text/plain": [
       "['첫구매날짜', '마지막구매날짜', '주구매지점', '주구매_중분류', '주구매_대분류']"
      ]
     },
     "execution_count": 191,
     "metadata": {},
     "output_type": "execute_result"
    }
   ],
   "source": [
    "cols = train_ft.select_dtypes([\"object\", \"datetime\"]).columns.tolist()\n",
    "cols"
   ]
  },
  {
   "cell_type": "code",
   "execution_count": 192,
   "metadata": {
    "colab": {
     "base_uri": "https://localhost:8080/"
    },
    "executionInfo": {
     "elapsed": 338,
     "status": "ok",
     "timestamp": 1730269771556,
     "user": {
      "displayName": "koeyhi",
      "userId": "08049178071858703986"
     },
     "user_tz": -540
    },
    "id": "zZlZoAMZUbGp",
    "outputId": "2dc6b54d-eacb-450d-8fc1-b2b19198435c"
   },
   "outputs": [
    {
     "data": {
      "text/plain": [
       "((14940, 2371), (12225, 2371))"
      ]
     },
     "execution_count": 192,
     "metadata": {},
     "output_type": "execute_result"
    }
   ],
   "source": [
    "train_ft = train_ft.drop(columns=cols)\n",
    "test_ft = test_ft.drop(columns=cols)\n",
    "train_ft.shape, test_ft.shape"
   ]
  },
  {
   "cell_type": "code",
   "execution_count": 193,
   "metadata": {
    "colab": {
     "base_uri": "https://localhost:8080/"
    },
    "executionInfo": {
     "elapsed": 3,
     "status": "ok",
     "timestamp": 1730269771557,
     "user": {
      "displayName": "koeyhi",
      "userId": "08049178071858703986"
     },
     "user_tz": -540
    },
    "id": "1-y4-kmTUmso",
    "outputId": "7e3d9700-ac05-48e8-81e1-d6b1eb972cea"
   },
   "outputs": [
    {
     "data": {
      "text/plain": [
       "(Index([], dtype='object'), Index([], dtype='object'))"
      ]
     },
     "execution_count": 193,
     "metadata": {},
     "output_type": "execute_result"
    }
   ],
   "source": [
    "train_ft.select_dtypes(\"object\").columns , test_ft.select_dtypes(\"object\").columns"
   ]
  },
  {
   "cell_type": "code",
   "execution_count": 194,
   "metadata": {},
   "outputs": [
    {
     "data": {
      "text/plain": [
       "(Index([], dtype='object'), Index([], dtype='object'))"
      ]
     },
     "execution_count": 194,
     "metadata": {},
     "output_type": "execute_result"
    }
   ],
   "source": [
    "train_ft.select_dtypes(\"datetime\").columns, test_ft.select_dtypes(\"datetime\").columns"
   ]
  },
  {
   "cell_type": "markdown",
   "metadata": {
    "id": "KAQ-3TU5U0Pk"
   },
   "source": [
    "## Feature Scaling"
   ]
  },
  {
   "cell_type": "code",
   "execution_count": 195,
   "metadata": {},
   "outputs": [
    {
     "data": {
      "text/plain": [
       "(0, 0)"
      ]
     },
     "execution_count": 195,
     "metadata": {},
     "output_type": "execute_result"
    }
   ],
   "source": [
    "train_ft.isin([np.inf, -np.inf]).any().sum(), test_ft.isin([np.inf, -np.inf]).any().sum()"
   ]
  },
  {
   "cell_type": "code",
   "execution_count": 196,
   "metadata": {},
   "outputs": [
    {
     "data": {
      "text/plain": [
       "(0, 0)"
      ]
     },
     "execution_count": 196,
     "metadata": {},
     "output_type": "execute_result"
    }
   ],
   "source": [
    "train_ft.isna().sum().sum(), test_ft.isna().sum().sum()"
   ]
  },
  {
   "cell_type": "code",
   "execution_count": 197,
   "metadata": {},
   "outputs": [
    {
     "data": {
      "text/html": [
       "<div>\n",
       "<style scoped>\n",
       "    .dataframe tbody tr th:only-of-type {\n",
       "        vertical-align: middle;\n",
       "    }\n",
       "\n",
       "    .dataframe tbody tr th {\n",
       "        vertical-align: top;\n",
       "    }\n",
       "\n",
       "    .dataframe thead th {\n",
       "        text-align: right;\n",
       "    }\n",
       "</style>\n",
       "<table border=\"1\" class=\"dataframe\">\n",
       "  <thead>\n",
       "    <tr style=\"text-align: right;\">\n",
       "      <th></th>\n",
       "      <th>총방문일수</th>\n",
       "      <th>백화점이용기간</th>\n",
       "      <th>구매주기</th>\n",
       "      <th>주말방문일수</th>\n",
       "      <th>일별평균구매건수</th>\n",
       "      <th>구매간격_표준편차</th>\n",
       "      <th>평균구매요일</th>\n",
       "      <th>주구매요일</th>\n",
       "      <th>월요일_구매비율</th>\n",
       "      <th>화요일_구매비율</th>\n",
       "      <th>...</th>\n",
       "      <th>주구매시간대_13</th>\n",
       "      <th>주구매시간대_14</th>\n",
       "      <th>주구매시간대_15</th>\n",
       "      <th>주구매시간대_16</th>\n",
       "      <th>주구매시간대_17</th>\n",
       "      <th>주구매시간대_18</th>\n",
       "      <th>주구매시간대_19</th>\n",
       "      <th>주구매시간대_20</th>\n",
       "      <th>선호브랜드코드_cnt</th>\n",
       "      <th>주구매_중분류_cnt</th>\n",
       "    </tr>\n",
       "  </thead>\n",
       "  <tbody>\n",
       "    <tr>\n",
       "      <th>0</th>\n",
       "      <td>0.000002</td>\n",
       "      <td>0.000044</td>\n",
       "      <td>4.882933e-06</td>\n",
       "      <td>3.487809e-07</td>\n",
       "      <td>2.712741e-07</td>\n",
       "      <td>3.966474e-06</td>\n",
       "      <td>5.231714e-07</td>\n",
       "      <td>3.487809e-07</td>\n",
       "      <td>1.245646e-08</td>\n",
       "      <td>0.000000e+00</td>\n",
       "      <td>...</td>\n",
       "      <td>0.0</td>\n",
       "      <td>0.0</td>\n",
       "      <td>0.000000e+00</td>\n",
       "      <td>0.000000e+00</td>\n",
       "      <td>0.0</td>\n",
       "      <td>0.000000e+00</td>\n",
       "      <td>0.0</td>\n",
       "      <td>0.0</td>\n",
       "      <td>1.743905e-07</td>\n",
       "      <td>4.115615e-05</td>\n",
       "    </tr>\n",
       "    <tr>\n",
       "      <th>1</th>\n",
       "      <td>0.000004</td>\n",
       "      <td>0.000062</td>\n",
       "      <td>2.808654e-06</td>\n",
       "      <td>1.755409e-07</td>\n",
       "      <td>3.510817e-07</td>\n",
       "      <td>2.060698e-06</td>\n",
       "      <td>4.054158e-07</td>\n",
       "      <td>5.266226e-07</td>\n",
       "      <td>8.359088e-09</td>\n",
       "      <td>4.597499e-08</td>\n",
       "      <td>...</td>\n",
       "      <td>0.0</td>\n",
       "      <td>0.0</td>\n",
       "      <td>0.000000e+00</td>\n",
       "      <td>0.000000e+00</td>\n",
       "      <td>0.0</td>\n",
       "      <td>1.755409e-07</td>\n",
       "      <td>0.0</td>\n",
       "      <td>0.0</td>\n",
       "      <td>1.237739e-03</td>\n",
       "      <td>9.145679e-05</td>\n",
       "    </tr>\n",
       "    <tr>\n",
       "      <th>2</th>\n",
       "      <td>0.000002</td>\n",
       "      <td>0.000014</td>\n",
       "      <td>2.406774e-07</td>\n",
       "      <td>4.412419e-07</td>\n",
       "      <td>7.439119e-08</td>\n",
       "      <td>2.013662e-07</td>\n",
       "      <td>9.359676e-08</td>\n",
       "      <td>0.000000e+00</td>\n",
       "      <td>1.022486e-08</td>\n",
       "      <td>7.472010e-09</td>\n",
       "      <td>...</td>\n",
       "      <td>0.0</td>\n",
       "      <td>0.0</td>\n",
       "      <td>4.011290e-08</td>\n",
       "      <td>0.000000e+00</td>\n",
       "      <td>0.0</td>\n",
       "      <td>0.000000e+00</td>\n",
       "      <td>0.0</td>\n",
       "      <td>0.0</td>\n",
       "      <td>3.209032e-07</td>\n",
       "      <td>5.615805e-07</td>\n",
       "    </tr>\n",
       "    <tr>\n",
       "      <th>3</th>\n",
       "      <td>0.000002</td>\n",
       "      <td>0.000008</td>\n",
       "      <td>7.147265e-08</td>\n",
       "      <td>4.526601e-07</td>\n",
       "      <td>4.897200e-08</td>\n",
       "      <td>7.474003e-08</td>\n",
       "      <td>7.340434e-08</td>\n",
       "      <td>9.529686e-08</td>\n",
       "      <td>1.802914e-09</td>\n",
       "      <td>2.704370e-09</td>\n",
       "      <td>...</td>\n",
       "      <td>0.0</td>\n",
       "      <td>0.0</td>\n",
       "      <td>2.382422e-08</td>\n",
       "      <td>0.000000e+00</td>\n",
       "      <td>0.0</td>\n",
       "      <td>0.000000e+00</td>\n",
       "      <td>0.0</td>\n",
       "      <td>0.0</td>\n",
       "      <td>5.122206e-06</td>\n",
       "      <td>1.112353e-04</td>\n",
       "    </tr>\n",
       "    <tr>\n",
       "      <th>4</th>\n",
       "      <td>0.000003</td>\n",
       "      <td>0.000037</td>\n",
       "      <td>1.527952e-06</td>\n",
       "      <td>7.052085e-07</td>\n",
       "      <td>1.763021e-07</td>\n",
       "      <td>1.406037e-06</td>\n",
       "      <td>4.538147e-07</td>\n",
       "      <td>4.701390e-07</td>\n",
       "      <td>9.794563e-09</td>\n",
       "      <td>6.529708e-09</td>\n",
       "      <td>...</td>\n",
       "      <td>0.0</td>\n",
       "      <td>0.0</td>\n",
       "      <td>0.000000e+00</td>\n",
       "      <td>1.175348e-07</td>\n",
       "      <td>0.0</td>\n",
       "      <td>0.000000e+00</td>\n",
       "      <td>0.0</td>\n",
       "      <td>0.0</td>\n",
       "      <td>8.287375e-04</td>\n",
       "      <td>2.408287e-04</td>\n",
       "    </tr>\n",
       "  </tbody>\n",
       "</table>\n",
       "<p>5 rows × 2371 columns</p>\n",
       "</div>"
      ],
      "text/plain": [
       "      총방문일수   백화점이용기간          구매주기        주말방문일수      일별평균구매건수     구매간격_표준편차  \\\n",
       "0  0.000002  0.000044  4.882933e-06  3.487809e-07  2.712741e-07  3.966474e-06   \n",
       "1  0.000004  0.000062  2.808654e-06  1.755409e-07  3.510817e-07  2.060698e-06   \n",
       "2  0.000002  0.000014  2.406774e-07  4.412419e-07  7.439119e-08  2.013662e-07   \n",
       "3  0.000002  0.000008  7.147265e-08  4.526601e-07  4.897200e-08  7.474003e-08   \n",
       "4  0.000003  0.000037  1.527952e-06  7.052085e-07  1.763021e-07  1.406037e-06   \n",
       "\n",
       "         평균구매요일         주구매요일      월요일_구매비율      화요일_구매비율  ...  주구매시간대_13  \\\n",
       "0  5.231714e-07  3.487809e-07  1.245646e-08  0.000000e+00  ...        0.0   \n",
       "1  4.054158e-07  5.266226e-07  8.359088e-09  4.597499e-08  ...        0.0   \n",
       "2  9.359676e-08  0.000000e+00  1.022486e-08  7.472010e-09  ...        0.0   \n",
       "3  7.340434e-08  9.529686e-08  1.802914e-09  2.704370e-09  ...        0.0   \n",
       "4  4.538147e-07  4.701390e-07  9.794563e-09  6.529708e-09  ...        0.0   \n",
       "\n",
       "   주구매시간대_14     주구매시간대_15     주구매시간대_16  주구매시간대_17     주구매시간대_18  주구매시간대_19  \\\n",
       "0        0.0  0.000000e+00  0.000000e+00        0.0  0.000000e+00        0.0   \n",
       "1        0.0  0.000000e+00  0.000000e+00        0.0  1.755409e-07        0.0   \n",
       "2        0.0  4.011290e-08  0.000000e+00        0.0  0.000000e+00        0.0   \n",
       "3        0.0  2.382422e-08  0.000000e+00        0.0  0.000000e+00        0.0   \n",
       "4        0.0  0.000000e+00  1.175348e-07        0.0  0.000000e+00        0.0   \n",
       "\n",
       "   주구매시간대_20   선호브랜드코드_cnt   주구매_중분류_cnt  \n",
       "0        0.0  1.743905e-07  4.115615e-05  \n",
       "1        0.0  1.237739e-03  9.145679e-05  \n",
       "2        0.0  3.209032e-07  5.615805e-07  \n",
       "3        0.0  5.122206e-06  1.112353e-04  \n",
       "4        0.0  8.287375e-04  2.408287e-04  \n",
       "\n",
       "[5 rows x 2371 columns]"
      ]
     },
     "execution_count": 197,
     "metadata": {},
     "output_type": "execute_result"
    }
   ],
   "source": [
    "from sklearn.preprocessing import StandardScaler, MinMaxScaler, RobustScaler, PowerTransformer, Normalizer\n",
    "scaler = Normalizer()\n",
    "\n",
    "train_ft[train_ft.columns] = scaler.fit_transform(train_ft)\n",
    "test_ft[test_ft.columns] = scaler.transform(test_ft)\n",
    "train_ft.head()"
   ]
  },
  {
   "cell_type": "markdown",
   "metadata": {},
   "source": [
    "# 차원축소"
   ]
  },
  {
   "cell_type": "code",
   "execution_count": 201,
   "metadata": {},
   "outputs": [
    {
     "name": "stdout",
     "output_type": "stream",
     "text": [
      "[LightGBM] [Info] Number of positive: 5874, number of negative: 9066\n",
      "[LightGBM] [Info] Auto-choosing col-wise multi-threading, the overhead of testing was 0.042789 seconds.\n",
      "You can set `force_col_wise=true` to remove the overhead.\n",
      "[LightGBM] [Info] Total Bins 168140\n",
      "[LightGBM] [Info] Number of data points in the train set: 14940, number of used features: 1684\n",
      "[LightGBM] [Info] [binary:BoostFromScore]: pavg=0.393173 -> initscore=-0.433995\n",
      "[LightGBM] [Info] Start training from score -0.433995\n"
     ]
    },
    {
     "data": {
      "text/plain": [
       "0.7162760112264671"
      ]
     },
     "execution_count": 201,
     "metadata": {},
     "output_type": "execute_result"
    }
   ],
   "source": [
    "from sklearn.ensemble import RandomForestClassifier\n",
    "from sklearn.model_selection import StratifiedKFold, cross_val_score\n",
    "from xgboost import XGBClassifier\n",
    "from lightgbm import LGBMClassifier\n",
    "\n",
    "cv = StratifiedKFold(n_splits=5, shuffle=True, random_state=SEED)\n",
    "\n",
    "model = LGBMClassifier(random_state=SEED)\n",
    "model.fit(train_ft, target)\n",
    "\n",
    "scores = cross_val_score(model, train_ft, target, cv=cv, scoring=\"f1_macro\", n_jobs=-1)\n",
    "np.mean(scores)"
   ]
  },
  {
   "cell_type": "markdown",
   "metadata": {},
   "source": [
    "- XAI 활용"
   ]
  },
  {
   "cell_type": "code",
   "execution_count": 202,
   "metadata": {},
   "outputs": [
    {
     "data": {
      "image/png": "[encoded data removed]",
      "text/plain": [
       "<Figure size 800x950 with 2 Axes>"
      ]
     },
     "metadata": {},
     "output_type": "display_data"
    }
   ],
   "source": [
    "import shap\n",
    "\n",
    "explainer = shap.Explainer(model)\n",
    "shap_values = explainer(train_ft)\n",
    "shap.summary_plot(shap_values, train_ft)"
   ]
  },
  {
   "cell_type": "markdown",
   "metadata": {},
   "source": [
    "- SelectFromModel"
   ]
  },
  {
   "cell_type": "code",
   "execution_count": 211,
   "metadata": {},
   "outputs": [
    {
     "name": "stdout",
     "output_type": "stream",
     "text": [
      "threshold=2.5*median, 성능=0.7177587462783523, 특성 수=757\n",
      "threshold=3.5*median, 성능=0.7189605934955099, 특성 수=619\n",
      "threshold=0.5*mean, 성능=0.7184513549106644, 특성 수=691\n"
     ]
    }
   ],
   "source": [
    "from sklearn.feature_selection import SelectFromModel\n",
    "\n",
    "rf = RandomForestClassifier(random_state=SEED)\n",
    "\n",
    "# thresholds = [\n",
    "#     'mean', 'median',\n",
    "#     '0.5*mean', '0.8*mean', '1.2*mean', '1.5*mean', '1.8*mean', '2*mean',\n",
    "#     '0.5*median', '0.8*median', '1.2*median', '1.5*median', '1.8*median', '2*median'\n",
    "# ]\n",
    "\n",
    "# thresholds = [f\"{i}*mean\" for i in np.arange(0.1, 1.1, 0.1)] # 0.5*mean 일 때 성능이 가장 높음\n",
    "# thresholds = [f\"{i}*median\" for i in np.arange(1.5, 3.6, 0.1)] # 2.5*median\n",
    "# thresholds = [f\"{i}*median\" for i in np.arange(3.5, 4.0, 0.1)] # 3.5*median\n",
    "thresholds = ['2.5*median', '3.5*median', '0.5*mean']\n",
    "\n",
    "for threshold in thresholds:\n",
    "    sfm = SelectFromModel(rf, threshold=threshold)\n",
    "    train_sfm = sfm.fit_transform(train_ft, target)\n",
    "\n",
    "    scores = cross_val_score(model, train_sfm, target, cv=cv, scoring=\"f1_macro\", n_jobs=-1)\n",
    "    print(f\"threshold={threshold}, 성능={np.mean(scores)}, 특성 수={train_sfm.shape[1]}\")"
   ]
  },
  {
   "cell_type": "code",
   "execution_count": 212,
   "metadata": {},
   "outputs": [
    {
     "data": {
      "text/plain": [
       "(0.7189605934955099, (14940, 619))"
      ]
     },
     "execution_count": 212,
     "metadata": {},
     "output_type": "execute_result"
    }
   ],
   "source": [
    "sfm = SelectFromModel(rf, threshold='3.5*median')\n",
    "train_sfm = sfm.fit_transform(train_ft, target)\n",
    "\n",
    "scores = cross_val_score(model, train_sfm, target, cv=cv, scoring=\"f1_macro\", n_jobs=-1)\n",
    "np.mean(scores), train_sfm.shape"
   ]
  },
  {
   "cell_type": "markdown",
   "metadata": {},
   "source": [
    "- SelectKBest"
   ]
  },
  {
   "cell_type": "code",
   "execution_count": 162,
   "metadata": {},
   "outputs": [],
   "source": [
    "from sklearn.feature_selection import SelectKBest, VarianceThreshold\n",
    "\n",
    "vt = VarianceThreshold(threshold=0)\n",
    "train_vt = vt.fit_transform(train_ft)\n",
    "test_vt = vt.transform(test_ft)"
   ]
  },
  {
   "cell_type": "code",
   "execution_count": 166,
   "metadata": {},
   "outputs": [
    {
     "name": "stdout",
     "output_type": "stream",
     "text": [
      "특성수=450, 정확도=0.719368499209644\n",
      "특성수=500, 정확도=0.7195779838956156\n",
      "특성수=550, 정확도=0.7199861338503422\n",
      "특성수=600, 정확도=0.7181389775840055\n",
      "특성수=650, 정확도=0.7197710633704231\n",
      "특성수=700, 정확도=0.7214393560290582\n",
      "특성수=750, 정확도=0.7208649568795129\n",
      "특성수=800, 정확도=0.7199818639172902\n",
      "특성수=850, 정확도=0.7192051542991476\n",
      "특성수=900, 정확도=0.7196016722426354\n",
      "특성수=950, 정확도=0.7175789371569644\n",
      "특성수=1000, 정확도=0.7174593190118972\n"
     ]
    }
   ],
   "source": [
    "for k in range(450, 1001, 50):\n",
    "    skb = SelectKBest(k=k)\n",
    "    train_skb = skb.fit_transform(train_vt, target)\n",
    "\n",
    "    scores = cross_val_score(model, train_skb, target, cv=cv, scoring=\"f1_macro\", n_jobs=-1)\n",
    "    print(f\"특성수={k}, 정확도={np.mean(scores)}\")"
   ]
  },
  {
   "cell_type": "code",
   "execution_count": 168,
   "metadata": {},
   "outputs": [
    {
     "name": "stdout",
     "output_type": "stream",
     "text": [
      "특성수=725, 정확도=0.7216526728496501\n",
      "특성수=726, 정확도=0.7226223655612163\n",
      "특성수=727, 정확도=0.7222296098955899\n",
      "특성수=728, 정확도=0.7222296098955899\n",
      "특성수=729, 정확도=0.7215964443888796\n",
      "특성수=730, 정확도=0.7220882177912878\n",
      "특성수=731, 정확도=0.721800763116265\n",
      "특성수=732, 정확도=0.7221709951460635\n",
      "특성수=733, 정확도=0.7221304285324186\n",
      "특성수=734, 정확도=0.7213272868614163\n",
      "특성수=735, 정확도=0.7218517055924929\n"
     ]
    }
   ],
   "source": [
    "for k in range(725, 736):\n",
    "    skb = SelectKBest(k=k)\n",
    "    train_skb = skb.fit_transform(train_vt, target)\n",
    "\n",
    "    scores = cross_val_score(model, train_skb, target, cv=cv, scoring=\"f1_macro\", n_jobs=-1)\n",
    "    print(f\"특성수={k}, 정확도={np.mean(scores)}\")"
   ]
  },
  {
   "cell_type": "code",
   "execution_count": 351,
   "metadata": {},
   "outputs": [
    {
     "data": {
      "text/plain": [
       "(0.7226223655612163, (14940, 726))"
      ]
     },
     "execution_count": 351,
     "metadata": {},
     "output_type": "execute_result"
    }
   ],
   "source": [
    "skb = SelectKBest(k=726)\n",
    "train_skb = skb.fit_transform(train_vt, target)\n",
    "\n",
    "scores = cross_val_score(model, train_skb, target, cv=cv, scoring=\"f1_macro\", n_jobs=-1)\n",
    "np.mean(scores), train_skb.shape"
   ]
  },
  {
   "cell_type": "markdown",
   "metadata": {},
   "source": [
    "- SelectPercentile"
   ]
  },
  {
   "cell_type": "code",
   "execution_count": 199,
   "metadata": {},
   "outputs": [
    {
     "name": "stdout",
     "output_type": "stream",
     "text": [
      "percentile=56, 성능=0.7199288611361622, 특성 수=1330\n",
      "percentile=57, 성능=0.7189857625796632, 특성 수=1354\n",
      "percentile=58, 성능=0.7216170608158514, 특성 수=1377\n",
      "percentile=59, 성능=0.7201152524367597, 특성 수=1401\n",
      "percentile=60, 성능=0.7198328823063976, 특성 수=1425\n",
      "percentile=61, 성능=0.7221499801163975, 특성 수=1449\n",
      "percentile=62, 성능=0.718888382910864, 특성 수=1472\n",
      "percentile=63, 성능=0.7183910527751847, 특성 수=1496\n",
      "percentile=64, 성능=0.7177962916306152, 특성 수=1520\n",
      "percentile=65, 성능=0.7196660051420846, 특성 수=1544\n",
      "percentile=66, 성능=0.717581167483486, 특성 수=1567\n"
     ]
    }
   ],
   "source": [
    "from sklearn.feature_selection import SelectPercentile\n",
    "\n",
    "# percentiles = [i for i in range(1, 100, 5)] # 16 ~ 26 / 26 ~ 41 / 56 ~ 66 / 86 이상에서 성능점수 높게나옴\n",
    "percentiles = [i for i in range(56, 67)] # 24일 때 성능점수 가장 높음\n",
    "\n",
    "for percentile in percentiles:\n",
    "    sp = SelectPercentile(percentile=percentile)\n",
    "    train_sp = sp.fit_transform(train_vt, target)\n",
    "\n",
    "    scores = cross_val_score(model, train_sp, target, cv=cv, scoring=\"f1_macro\", n_jobs=-1)\n",
    "    print(f\"percentile={percentile}, 성능={np.mean(scores)}, 특성 수={train_sp.shape[1]}\")"
   ]
  },
  {
   "cell_type": "code",
   "execution_count": 352,
   "metadata": {},
   "outputs": [
    {
     "data": {
      "text/plain": [
       "(0.7227419655358533, (14940, 570))"
      ]
     },
     "execution_count": 352,
     "metadata": {},
     "output_type": "execute_result"
    }
   ],
   "source": [
    "sp = SelectPercentile(percentile=24)\n",
    "train_sp = sp.fit_transform(train_vt, target)\n",
    "\n",
    "scores = cross_val_score(model, train_sp, target, cv=cv, scoring=\"f1_macro\", n_jobs=-1)\n",
    "np.mean(scores), train_sp.shape"
   ]
  },
  {
   "cell_type": "markdown",
   "metadata": {},
   "source": [
    "- SelectPercentile 에서 구한 값 근처의 피처 개수에 대해 SelectKBest"
   ]
  },
  {
   "cell_type": "code",
   "execution_count": 203,
   "metadata": {},
   "outputs": [
    {
     "name": "stdout",
     "output_type": "stream",
     "text": [
      "특성수=550, 정확도=0.7199861338503422\n",
      "특성수=551, 정확도=0.7184443539334369\n",
      "특성수=552, 정확도=0.7186315159630591\n",
      "특성수=553, 정확도=0.7224512827286883\n",
      "특성수=554, 정확도=0.7193913443410557\n",
      "특성수=555, 정확도=0.7219382983605932\n",
      "특성수=556, 정확도=0.7212435657224019\n",
      "특성수=557, 정확도=0.7202676603434577\n",
      "특성수=558, 정확도=0.7217585207368021\n",
      "특성수=559, 정확도=0.7218867348250179\n",
      "특성수=560, 정확도=0.7227082207619155\n"
     ]
    }
   ],
   "source": [
    "for k in range(550, 561):\n",
    "    skb = SelectKBest(k=k)\n",
    "    train_skb = skb.fit_transform(train_sp, target)\n",
    "\n",
    "    scores = cross_val_score(model, train_skb, target, cv=cv, scoring=\"f1_macro\", n_jobs=-1)\n",
    "    print(f\"특성수={k}, 정확도={np.mean(scores)}\") # 특성수 569 일 때 최고성능점수"
   ]
  },
  {
   "cell_type": "code",
   "execution_count": 361,
   "metadata": {},
   "outputs": [
    {
     "name": "stderr",
     "output_type": "stream",
     "text": [
      "c:\\Users\\kwon3\\AppData\\Local\\Programs\\Python\\Python310\\lib\\site-packages\\sklearn\\feature_selection\\_univariate_selection.py:112: UserWarning: Features [69] are constant.\n",
      "  warnings.warn(\"Features %s are constant.\" % constant_features_idx, UserWarning)\n",
      "c:\\Users\\kwon3\\AppData\\Local\\Programs\\Python\\Python310\\lib\\site-packages\\sklearn\\feature_selection\\_univariate_selection.py:113: RuntimeWarning: invalid value encountered in divide\n",
      "  f = msb / msw\n"
     ]
    },
    {
     "data": {
      "text/plain": [
       "(0.7227419655358533, (14940, 569))"
      ]
     },
     "execution_count": 361,
     "metadata": {},
     "output_type": "execute_result"
    }
   ],
   "source": [
    "skb = SelectKBest(k=569)\n",
    "train_skb = skb.fit_transform(train_vt, target)\n",
    "\n",
    "scores = cross_val_score(model, train_skb, target, cv=cv, scoring=\"f1_macro\", n_jobs=-1)\n",
    "np.mean(scores), train_skb.shape"
   ]
  },
  {
   "cell_type": "markdown",
   "metadata": {},
   "source": [
    "- PCA"
   ]
  },
  {
   "cell_type": "code",
   "execution_count": 313,
   "metadata": {},
   "outputs": [
    {
     "data": {
      "text/plain": [
       "(0.6969979525460819, (14940, 2376))"
      ]
     },
     "execution_count": 313,
     "metadata": {},
     "output_type": "execute_result"
    }
   ],
   "source": [
    "from sklearn.decomposition import PCA\n",
    "\n",
    "pca = PCA(train_ft.shape[1], random_state=SEED)\n",
    "pca_train = pca.fit_transform(train_ft)\n",
    "\n",
    "scores = cross_val_score(model, pca_train, target, cv=cv, scoring=\"f1_macro\", n_jobs=-1)\n",
    "np.mean(scores), pca_train.shape"
   ]
  },
  {
   "cell_type": "code",
   "execution_count": 308,
   "metadata": {},
   "outputs": [
    {
     "data": {
      "text/plain": [
       "862"
      ]
     },
     "execution_count": 308,
     "metadata": {},
     "output_type": "execute_result"
    }
   ],
   "source": [
    "cumsum = np.cumsum(pca.explained_variance_ratio_)\n",
    "n_components = np.argmax(cumsum >= 0.7) + 1\n",
    "n_components"
   ]
  },
  {
   "cell_type": "code",
   "execution_count": 309,
   "metadata": {},
   "outputs": [
    {
     "data": {
      "text/plain": [
       "(0.6972223512134963, (14940, 862))"
      ]
     },
     "execution_count": 309,
     "metadata": {},
     "output_type": "execute_result"
    }
   ],
   "source": [
    "pca = PCA(n_components, random_state=SEED)\n",
    "x_train = pca.fit_transform(train_ft)\n",
    "\n",
    "scores = cross_val_score(model, x_train, target, cv=cv, scoring=\"f1_macro\", n_jobs=-1)\n",
    "np.mean(scores), x_train.shape"
   ]
  },
  {
   "cell_type": "markdown",
   "metadata": {},
   "source": [
    "- LDA"
   ]
  },
  {
   "cell_type": "code",
   "execution_count": 145,
   "metadata": {},
   "outputs": [
    {
     "data": {
      "text/plain": [
       "(0.7782207613543717, (11952, 1))"
      ]
     },
     "execution_count": 145,
     "metadata": {},
     "output_type": "execute_result"
    }
   ],
   "source": [
    "from sklearn.discriminant_analysis import LinearDiscriminantAnalysis as LDA\n",
    "from sklearn.model_selection import train_test_split\n",
    "\n",
    "X_train, X_val, y_train, y_val = train_test_split(\n",
    "    train_ft, target, test_size=0.2, random_state=SEED\n",
    ")\n",
    "\n",
    "lda = LDA(n_components=1)\n",
    "X_train_lda = lda.fit_transform(X_train, y_train)\n",
    "X_val_lda = lda.transform(X_val)\n",
    "\n",
    "scores = cross_val_score(model, X_train_lda, y_train, cv=cv, scoring=\"f1_macro\", n_jobs=-1)\n",
    "np.mean(scores), X_train_lda.shape"
   ]
  },
  {
   "cell_type": "code",
   "execution_count": 146,
   "metadata": {},
   "outputs": [
    {
     "data": {
      "text/plain": [
       "0.6636680503203349"
      ]
     },
     "execution_count": 146,
     "metadata": {},
     "output_type": "execute_result"
    }
   ],
   "source": [
    "scores = cross_val_score(model, X_val_lda, y_val, cv=cv, scoring='f1_macro', n_jobs=-1)\n",
    "np.mean(scores)"
   ]
  },
  {
   "cell_type": "markdown",
   "metadata": {},
   "source": [
    "- RFE"
   ]
  },
  {
   "cell_type": "code",
   "execution_count": 140,
   "metadata": {},
   "outputs": [
    {
     "name": "stdout",
     "output_type": "stream",
     "text": [
      "[LightGBM] [Info] Number of positive: 5874, number of negative: 9066\n",
      "[LightGBM] [Info] Auto-choosing col-wise multi-threading, the overhead of testing was 0.048130 seconds.\n",
      "You can set `force_col_wise=true` to remove the overhead.\n",
      "[LightGBM] [Info] Total Bins 169415\n",
      "[LightGBM] [Info] Number of data points in the train set: 14940, number of used features: 1689\n",
      "[LightGBM] [Info] [binary:BoostFromScore]: pavg=0.393173 -> initscore=-0.433995\n",
      "[LightGBM] [Info] Start training from score -0.433995\n",
      "[LightGBM] [Info] Number of positive: 5874, number of negative: 9066\n",
      "[LightGBM] [Info] Auto-choosing col-wise multi-threading, the overhead of testing was 0.045243 seconds.\n",
      "You can set `force_col_wise=true` to remove the overhead.\n",
      "[LightGBM] [Info] Total Bins 168811\n",
      "[LightGBM] [Info] Number of data points in the train set: 14940, number of used features: 1661\n",
      "[LightGBM] [Info] [binary:BoostFromScore]: pavg=0.393173 -> initscore=-0.433995\n",
      "[LightGBM] [Info] Start training from score -0.433995\n",
      "[LightGBM] [Info] Number of positive: 5874, number of negative: 9066\n",
      "[LightGBM] [Info] Auto-choosing col-wise multi-threading, the overhead of testing was 0.052365 seconds.\n",
      "You can set `force_col_wise=true` to remove the overhead.\n",
      "[LightGBM] [Info] Total Bins 167921\n",
      "[LightGBM] [Info] Number of data points in the train set: 14940, number of used features: 1624\n",
      "[LightGBM] [Info] [binary:BoostFromScore]: pavg=0.393173 -> initscore=-0.433995\n",
      "[LightGBM] [Info] Start training from score -0.433995\n",
      "[LightGBM] [Info] Number of positive: 5874, number of negative: 9066\n",
      "[LightGBM] [Info] Auto-choosing col-wise multi-threading, the overhead of testing was 0.047269 seconds.\n",
      "You can set `force_col_wise=true` to remove the overhead.\n",
      "[LightGBM] [Info] Total Bins 167518\n",
      "[LightGBM] [Info] Number of data points in the train set: 14940, number of used features: 1602\n",
      "[LightGBM] [Info] [binary:BoostFromScore]: pavg=0.393173 -> initscore=-0.433995\n",
      "[LightGBM] [Info] Start training from score -0.433995\n",
      "[LightGBM] [Info] Number of positive: 5874, number of negative: 9066\n",
      "[LightGBM] [Info] Auto-choosing col-wise multi-threading, the overhead of testing was 0.043583 seconds.\n",
      "You can set `force_col_wise=true` to remove the overhead.\n",
      "[LightGBM] [Info] Total Bins 166778\n",
      "[LightGBM] [Info] Number of data points in the train set: 14940, number of used features: 1573\n",
      "[LightGBM] [Info] [binary:BoostFromScore]: pavg=0.393173 -> initscore=-0.433995\n",
      "[LightGBM] [Info] Start training from score -0.433995\n",
      "[LightGBM] [Info] Number of positive: 5874, number of negative: 9066\n",
      "[LightGBM] [Info] Auto-choosing col-wise multi-threading, the overhead of testing was 0.046877 seconds.\n",
      "You can set `force_col_wise=true` to remove the overhead.\n",
      "[LightGBM] [Info] Total Bins 165337\n",
      "[LightGBM] [Info] Number of data points in the train set: 14940, number of used features: 1541\n",
      "[LightGBM] [Info] [binary:BoostFromScore]: pavg=0.393173 -> initscore=-0.433995\n",
      "[LightGBM] [Info] Start training from score -0.433995\n",
      "[LightGBM] [Info] Number of positive: 5874, number of negative: 9066\n",
      "[LightGBM] [Info] Auto-choosing col-wise multi-threading, the overhead of testing was 0.047789 seconds.\n",
      "You can set `force_col_wise=true` to remove the overhead.\n",
      "[LightGBM] [Info] Total Bins 164042\n",
      "[LightGBM] [Info] Number of data points in the train set: 14940, number of used features: 1499\n",
      "[LightGBM] [Info] [binary:BoostFromScore]: pavg=0.393173 -> initscore=-0.433995\n",
      "[LightGBM] [Info] Start training from score -0.433995\n",
      "[LightGBM] [Info] Number of positive: 5874, number of negative: 9066\n",
      "[LightGBM] [Info] Auto-choosing col-wise multi-threading, the overhead of testing was 0.041417 seconds.\n",
      "You can set `force_col_wise=true` to remove the overhead.\n",
      "[LightGBM] [Info] Total Bins 163007\n",
      "[LightGBM] [Info] Number of data points in the train set: 14940, number of used features: 1463\n",
      "[LightGBM] [Info] [binary:BoostFromScore]: pavg=0.393173 -> initscore=-0.433995\n",
      "[LightGBM] [Info] Start training from score -0.433995\n",
      "[LightGBM] [Info] Number of positive: 5874, number of negative: 9066\n",
      "[LightGBM] [Info] Auto-choosing col-wise multi-threading, the overhead of testing was 0.043979 seconds.\n",
      "You can set `force_col_wise=true` to remove the overhead.\n",
      "[LightGBM] [Info] Total Bins 162281\n",
      "[LightGBM] [Info] Number of data points in the train set: 14940, number of used features: 1438\n",
      "[LightGBM] [Info] [binary:BoostFromScore]: pavg=0.393173 -> initscore=-0.433995\n",
      "[LightGBM] [Info] Start training from score -0.433995\n",
      "[LightGBM] [Info] Number of positive: 5874, number of negative: 9066\n",
      "[LightGBM] [Info] Auto-choosing col-wise multi-threading, the overhead of testing was 0.040411 seconds.\n",
      "You can set `force_col_wise=true` to remove the overhead.\n",
      "[LightGBM] [Info] Total Bins 161214\n",
      "[LightGBM] [Info] Number of data points in the train set: 14940, number of used features: 1406\n",
      "[LightGBM] [Info] [binary:BoostFromScore]: pavg=0.393173 -> initscore=-0.433995\n",
      "[LightGBM] [Info] Start training from score -0.433995\n",
      "[LightGBM] [Info] Number of positive: 5874, number of negative: 9066\n",
      "[LightGBM] [Info] Auto-choosing col-wise multi-threading, the overhead of testing was 0.042237 seconds.\n",
      "You can set `force_col_wise=true` to remove the overhead.\n",
      "[LightGBM] [Info] Total Bins 160832\n",
      "[LightGBM] [Info] Number of data points in the train set: 14940, number of used features: 1389\n",
      "[LightGBM] [Info] [binary:BoostFromScore]: pavg=0.393173 -> initscore=-0.433995\n",
      "[LightGBM] [Info] Start training from score -0.433995\n",
      "[LightGBM] [Info] Number of positive: 5874, number of negative: 9066\n",
      "[LightGBM] [Info] Auto-choosing col-wise multi-threading, the overhead of testing was 0.042714 seconds.\n",
      "You can set `force_col_wise=true` to remove the overhead.\n",
      "[LightGBM] [Info] Total Bins 159600\n",
      "[LightGBM] [Info] Number of data points in the train set: 14940, number of used features: 1350\n",
      "[LightGBM] [Info] [binary:BoostFromScore]: pavg=0.393173 -> initscore=-0.433995\n",
      "[LightGBM] [Info] Start training from score -0.433995\n",
      "[LightGBM] [Info] Number of positive: 5874, number of negative: 9066\n",
      "[LightGBM] [Info] Auto-choosing col-wise multi-threading, the overhead of testing was 0.043605 seconds.\n",
      "You can set `force_col_wise=true` to remove the overhead.\n",
      "[LightGBM] [Info] Total Bins 158144\n",
      "[LightGBM] [Info] Number of data points in the train set: 14940, number of used features: 1312\n",
      "[LightGBM] [Info] [binary:BoostFromScore]: pavg=0.393173 -> initscore=-0.433995\n",
      "[LightGBM] [Info] Start training from score -0.433995\n",
      "[LightGBM] [Info] Number of positive: 5874, number of negative: 9066\n",
      "[LightGBM] [Info] Auto-choosing col-wise multi-threading, the overhead of testing was 0.046899 seconds.\n",
      "You can set `force_col_wise=true` to remove the overhead.\n",
      "[LightGBM] [Info] Total Bins 157438\n",
      "[LightGBM] [Info] Number of data points in the train set: 14940, number of used features: 1290\n",
      "[LightGBM] [Info] [binary:BoostFromScore]: pavg=0.393173 -> initscore=-0.433995\n",
      "[LightGBM] [Info] Start training from score -0.433995\n",
      "[LightGBM] [Info] Number of positive: 5874, number of negative: 9066\n",
      "[LightGBM] [Info] Auto-choosing col-wise multi-threading, the overhead of testing was 0.042042 seconds.\n",
      "You can set `force_col_wise=true` to remove the overhead.\n",
      "[LightGBM] [Info] Total Bins 156147\n",
      "[LightGBM] [Info] Number of data points in the train set: 14940, number of used features: 1253\n",
      "[LightGBM] [Info] [binary:BoostFromScore]: pavg=0.393173 -> initscore=-0.433995\n",
      "[LightGBM] [Info] Start training from score -0.433995\n",
      "[LightGBM] [Info] Number of positive: 5874, number of negative: 9066\n",
      "[LightGBM] [Info] Auto-choosing col-wise multi-threading, the overhead of testing was 0.039229 seconds.\n",
      "You can set `force_col_wise=true` to remove the overhead.\n",
      "[LightGBM] [Info] Total Bins 153246\n",
      "[LightGBM] [Info] Number of data points in the train set: 14940, number of used features: 1212\n",
      "[LightGBM] [Info] [binary:BoostFromScore]: pavg=0.393173 -> initscore=-0.433995\n",
      "[LightGBM] [Info] Start training from score -0.433995\n",
      "[LightGBM] [Info] Number of positive: 5874, number of negative: 9066\n",
      "[LightGBM] [Info] Auto-choosing col-wise multi-threading, the overhead of testing was 0.041020 seconds.\n",
      "You can set `force_col_wise=true` to remove the overhead.\n",
      "[LightGBM] [Info] Total Bins 152207\n",
      "[LightGBM] [Info] Number of data points in the train set: 14940, number of used features: 1184\n",
      "[LightGBM] [Info] [binary:BoostFromScore]: pavg=0.393173 -> initscore=-0.433995\n",
      "[LightGBM] [Info] Start training from score -0.433995\n",
      "[LightGBM] [Info] Number of positive: 5874, number of negative: 9066\n",
      "[LightGBM] [Info] Auto-choosing col-wise multi-threading, the overhead of testing was 0.042842 seconds.\n",
      "You can set `force_col_wise=true` to remove the overhead.\n",
      "[LightGBM] [Info] Total Bins 150853\n",
      "[LightGBM] [Info] Number of data points in the train set: 14940, number of used features: 1153\n",
      "[LightGBM] [Info] [binary:BoostFromScore]: pavg=0.393173 -> initscore=-0.433995\n",
      "[LightGBM] [Info] Start training from score -0.433995\n",
      "[LightGBM] [Info] Number of positive: 5874, number of negative: 9066\n",
      "[LightGBM] [Info] Auto-choosing col-wise multi-threading, the overhead of testing was 0.037957 seconds.\n",
      "You can set `force_col_wise=true` to remove the overhead.\n",
      "[LightGBM] [Info] Total Bins 148265\n",
      "[LightGBM] [Info] Number of data points in the train set: 14940, number of used features: 1113\n",
      "[LightGBM] [Info] [binary:BoostFromScore]: pavg=0.393173 -> initscore=-0.433995\n",
      "[LightGBM] [Info] Start training from score -0.433995\n",
      "[LightGBM] [Info] Number of positive: 5874, number of negative: 9066\n",
      "[LightGBM] [Info] Auto-choosing col-wise multi-threading, the overhead of testing was 0.036545 seconds.\n",
      "You can set `force_col_wise=true` to remove the overhead.\n",
      "[LightGBM] [Info] Total Bins 145421\n",
      "[LightGBM] [Info] Number of data points in the train set: 14940, number of used features: 1077\n",
      "[LightGBM] [Info] [binary:BoostFromScore]: pavg=0.393173 -> initscore=-0.433995\n",
      "[LightGBM] [Info] Start training from score -0.433995\n",
      "[LightGBM] [Info] Number of positive: 5874, number of negative: 9066\n",
      "[LightGBM] [Info] Auto-choosing col-wise multi-threading, the overhead of testing was 0.037191 seconds.\n",
      "You can set `force_col_wise=true` to remove the overhead.\n",
      "[LightGBM] [Info] Total Bins 143451\n",
      "[LightGBM] [Info] Number of data points in the train set: 14940, number of used features: 1045\n",
      "[LightGBM] [Info] [binary:BoostFromScore]: pavg=0.393173 -> initscore=-0.433995\n",
      "[LightGBM] [Info] Start training from score -0.433995\n",
      "[LightGBM] [Info] Number of positive: 5874, number of negative: 9066\n",
      "[LightGBM] [Info] Auto-choosing col-wise multi-threading, the overhead of testing was 0.034025 seconds.\n",
      "You can set `force_col_wise=true` to remove the overhead.\n",
      "[LightGBM] [Info] Total Bins 141374\n",
      "[LightGBM] [Info] Number of data points in the train set: 14940, number of used features: 1012\n",
      "[LightGBM] [Info] [binary:BoostFromScore]: pavg=0.393173 -> initscore=-0.433995\n",
      "[LightGBM] [Info] Start training from score -0.433995\n",
      "[LightGBM] [Info] Number of positive: 5874, number of negative: 9066\n",
      "[LightGBM] [Info] Auto-choosing col-wise multi-threading, the overhead of testing was 0.033820 seconds.\n",
      "You can set `force_col_wise=true` to remove the overhead.\n",
      "[LightGBM] [Info] Total Bins 139385\n",
      "[LightGBM] [Info] Number of data points in the train set: 14940, number of used features: 967\n",
      "[LightGBM] [Info] [binary:BoostFromScore]: pavg=0.393173 -> initscore=-0.433995\n",
      "[LightGBM] [Info] Start training from score -0.433995\n",
      "[LightGBM] [Info] Number of positive: 5874, number of negative: 9066\n",
      "[LightGBM] [Info] Auto-choosing col-wise multi-threading, the overhead of testing was 0.037356 seconds.\n",
      "You can set `force_col_wise=true` to remove the overhead.\n",
      "[LightGBM] [Info] Total Bins 137606\n",
      "[LightGBM] [Info] Number of data points in the train set: 14940, number of used features: 946\n",
      "[LightGBM] [Info] [binary:BoostFromScore]: pavg=0.393173 -> initscore=-0.433995\n",
      "[LightGBM] [Info] Start training from score -0.433995\n",
      "[LightGBM] [Info] Number of positive: 5874, number of negative: 9066\n",
      "[LightGBM] [Info] Auto-choosing col-wise multi-threading, the overhead of testing was 0.031830 seconds.\n",
      "You can set `force_col_wise=true` to remove the overhead.\n",
      "[LightGBM] [Info] Total Bins 133622\n",
      "[LightGBM] [Info] Number of data points in the train set: 14940, number of used features: 908\n",
      "[LightGBM] [Info] [binary:BoostFromScore]: pavg=0.393173 -> initscore=-0.433995\n",
      "[LightGBM] [Info] Start training from score -0.433995\n",
      "[LightGBM] [Info] Number of positive: 5874, number of negative: 9066\n",
      "[LightGBM] [Info] Auto-choosing col-wise multi-threading, the overhead of testing was 0.035858 seconds.\n",
      "You can set `force_col_wise=true` to remove the overhead.\n",
      "[LightGBM] [Info] Total Bins 131415\n",
      "[LightGBM] [Info] Number of data points in the train set: 14940, number of used features: 882\n",
      "[LightGBM] [Info] [binary:BoostFromScore]: pavg=0.393173 -> initscore=-0.433995\n",
      "[LightGBM] [Info] Start training from score -0.433995\n",
      "[LightGBM] [Info] Number of positive: 5874, number of negative: 9066\n",
      "[LightGBM] [Info] Auto-choosing col-wise multi-threading, the overhead of testing was 0.032214 seconds.\n",
      "You can set `force_col_wise=true` to remove the overhead.\n",
      "[LightGBM] [Info] Total Bins 129100\n",
      "[LightGBM] [Info] Number of data points in the train set: 14940, number of used features: 854\n",
      "[LightGBM] [Info] [binary:BoostFromScore]: pavg=0.393173 -> initscore=-0.433995\n",
      "[LightGBM] [Info] Start training from score -0.433995\n",
      "[LightGBM] [Info] Number of positive: 5874, number of negative: 9066\n",
      "[LightGBM] [Info] Auto-choosing col-wise multi-threading, the overhead of testing was 0.033555 seconds.\n",
      "You can set `force_col_wise=true` to remove the overhead.\n",
      "[LightGBM] [Info] Total Bins 127394\n",
      "[LightGBM] [Info] Number of data points in the train set: 14940, number of used features: 831\n",
      "[LightGBM] [Info] [binary:BoostFromScore]: pavg=0.393173 -> initscore=-0.433995\n",
      "[LightGBM] [Info] Start training from score -0.433995\n",
      "[LightGBM] [Info] Number of positive: 5874, number of negative: 9066\n",
      "[LightGBM] [Info] Auto-choosing col-wise multi-threading, the overhead of testing was 0.029365 seconds.\n",
      "You can set `force_col_wise=true` to remove the overhead.\n",
      "[LightGBM] [Info] Total Bins 125025\n",
      "[LightGBM] [Info] Number of data points in the train set: 14940, number of used features: 802\n",
      "[LightGBM] [Info] [binary:BoostFromScore]: pavg=0.393173 -> initscore=-0.433995\n",
      "[LightGBM] [Info] Start training from score -0.433995\n",
      "[LightGBM] [Info] Number of positive: 5874, number of negative: 9066\n",
      "[LightGBM] [Info] Auto-choosing col-wise multi-threading, the overhead of testing was 0.033325 seconds.\n",
      "You can set `force_col_wise=true` to remove the overhead.\n",
      "[LightGBM] [Info] Total Bins 123116\n",
      "[LightGBM] [Info] Number of data points in the train set: 14940, number of used features: 770\n",
      "[LightGBM] [Info] [binary:BoostFromScore]: pavg=0.393173 -> initscore=-0.433995\n",
      "[LightGBM] [Info] Start training from score -0.433995\n",
      "[LightGBM] [Info] Number of positive: 5874, number of negative: 9066\n",
      "[LightGBM] [Info] Auto-choosing col-wise multi-threading, the overhead of testing was 0.026974 seconds.\n",
      "You can set `force_col_wise=true` to remove the overhead.\n",
      "[LightGBM] [Info] Total Bins 121109\n",
      "[LightGBM] [Info] Number of data points in the train set: 14940, number of used features: 745\n",
      "[LightGBM] [Info] [binary:BoostFromScore]: pavg=0.393173 -> initscore=-0.433995\n",
      "[LightGBM] [Info] Start training from score -0.433995\n",
      "[LightGBM] [Info] Number of positive: 5874, number of negative: 9066\n",
      "[LightGBM] [Info] Auto-choosing col-wise multi-threading, the overhead of testing was 0.036951 seconds.\n",
      "You can set `force_col_wise=true` to remove the overhead.\n",
      "[LightGBM] [Info] Total Bins 118281\n",
      "[LightGBM] [Info] Number of data points in the train set: 14940, number of used features: 710\n",
      "[LightGBM] [Info] [binary:BoostFromScore]: pavg=0.393173 -> initscore=-0.433995\n",
      "[LightGBM] [Info] Start training from score -0.433995\n",
      "[LightGBM] [Info] Number of positive: 5874, number of negative: 9066\n",
      "[LightGBM] [Info] Auto-choosing col-wise multi-threading, the overhead of testing was 0.030451 seconds.\n",
      "You can set `force_col_wise=true` to remove the overhead.\n",
      "[LightGBM] [Info] Total Bins 115951\n",
      "[LightGBM] [Info] Number of data points in the train set: 14940, number of used features: 679\n",
      "[LightGBM] [Info] [binary:BoostFromScore]: pavg=0.393173 -> initscore=-0.433995\n",
      "[LightGBM] [Info] Start training from score -0.433995\n",
      "[LightGBM] [Info] Number of positive: 5874, number of negative: 9066\n",
      "[LightGBM] [Info] Auto-choosing col-wise multi-threading, the overhead of testing was 0.032369 seconds.\n",
      "You can set `force_col_wise=true` to remove the overhead.\n",
      "[LightGBM] [Info] Total Bins 112959\n",
      "[LightGBM] [Info] Number of data points in the train set: 14940, number of used features: 644\n",
      "[LightGBM] [Info] [binary:BoostFromScore]: pavg=0.393173 -> initscore=-0.433995\n",
      "[LightGBM] [Info] Start training from score -0.433995\n",
      "[LightGBM] [Info] Number of positive: 5874, number of negative: 9066\n",
      "[LightGBM] [Info] Auto-choosing col-wise multi-threading, the overhead of testing was 0.033653 seconds.\n",
      "You can set `force_col_wise=true` to remove the overhead.\n",
      "[LightGBM] [Info] Total Bins 112725\n",
      "[LightGBM] [Info] Number of data points in the train set: 14940, number of used features: 630\n",
      "[LightGBM] [Info] [binary:BoostFromScore]: pavg=0.393173 -> initscore=-0.433995\n",
      "[LightGBM] [Info] Start training from score -0.433995\n",
      "[LightGBM] [Info] Number of positive: 5874, number of negative: 9066\n",
      "[LightGBM] [Info] Auto-choosing row-wise multi-threading, the overhead of testing was 0.032864 seconds.\n",
      "You can set `force_row_wise=true` to remove the overhead.\n",
      "And if memory is not enough, you can set `force_col_wise=true`.\n",
      "[LightGBM] [Info] Total Bins 110926\n",
      "[LightGBM] [Info] Number of data points in the train set: 14940, number of used features: 607\n",
      "[LightGBM] [Info] [binary:BoostFromScore]: pavg=0.393173 -> initscore=-0.433995\n",
      "[LightGBM] [Info] Start training from score -0.433995\n",
      "[LightGBM] [Info] Number of positive: 5874, number of negative: 9066\n",
      "[LightGBM] [Info] Auto-choosing col-wise multi-threading, the overhead of testing was 0.032006 seconds.\n",
      "You can set `force_col_wise=true` to remove the overhead.\n",
      "[LightGBM] [Info] Total Bins 106978\n",
      "[LightGBM] [Info] Number of data points in the train set: 14940, number of used features: 574\n",
      "[LightGBM] [Info] [binary:BoostFromScore]: pavg=0.393173 -> initscore=-0.433995\n",
      "[LightGBM] [Info] Start training from score -0.433995\n",
      "[LightGBM] [Info] Number of positive: 5874, number of negative: 9066\n",
      "[LightGBM] [Info] Auto-choosing col-wise multi-threading, the overhead of testing was 0.029095 seconds.\n",
      "You can set `force_col_wise=true` to remove the overhead.\n",
      "[LightGBM] [Info] Total Bins 101020\n",
      "[LightGBM] [Info] Number of data points in the train set: 14940, number of used features: 526\n",
      "[LightGBM] [Info] [binary:BoostFromScore]: pavg=0.393173 -> initscore=-0.433995\n",
      "[LightGBM] [Info] Start training from score -0.433995\n",
      "[LightGBM] [Info] Number of positive: 5874, number of negative: 9066\n",
      "[LightGBM] [Info] Auto-choosing col-wise multi-threading, the overhead of testing was 0.028911 seconds.\n",
      "You can set `force_col_wise=true` to remove the overhead.\n",
      "[LightGBM] [Info] Total Bins 97322\n",
      "[LightGBM] [Info] Number of data points in the train set: 14940, number of used features: 500\n",
      "[LightGBM] [Info] [binary:BoostFromScore]: pavg=0.393173 -> initscore=-0.433995\n",
      "[LightGBM] [Info] Start training from score -0.433995\n"
     ]
    },
    {
     "data": {
      "text/plain": [
       "(0.7211363407247131, (14940, 500))"
      ]
     },
     "execution_count": 140,
     "metadata": {},
     "output_type": "execute_result"
    }
   ],
   "source": [
    "from sklearn.feature_selection import RFE\n",
    "\n",
    "rfe = RFE(estimator=model, n_features_to_select=500, step=50)\n",
    "x_train_rfe = rfe.fit_transform(train_ft, target)\n",
    "\n",
    "scores = cross_val_score(model, x_train_rfe, target, cv=cv, scoring=\"f1_macro\", n_jobs=-1)\n",
    "np.mean(scores), x_train_rfe.shape"
   ]
  },
  {
   "cell_type": "markdown",
   "metadata": {},
   "source": [
    "- 최종적으로 모델에 넣을 학습데이터"
   ]
  },
  {
   "cell_type": "code",
   "execution_count": 119,
   "metadata": {},
   "outputs": [
    {
     "data": {
      "text/plain": [
       "((14940, 569), (12225, 569))"
      ]
     },
     "execution_count": 119,
     "metadata": {},
     "output_type": "execute_result"
    }
   ],
   "source": [
    "skb = SelectKBest(k=569) # or 726\n",
    "train_ft = skb.fit_transform(train_vt, target)\n",
    "test_ft = skb.transform(test_vt)\n",
    "train_ft.shape, test_ft.shape"
   ]
  },
  {
   "cell_type": "markdown",
   "metadata": {},
   "source": [
    "# 모델 선택"
   ]
  },
  {
   "cell_type": "code",
   "execution_count": 402,
   "metadata": {},
   "outputs": [
    {
     "name": "stdout",
     "output_type": "stream",
     "text": [
      "[LightGBM] [Info] Number of positive: 5874, number of negative: 9066\n",
      "[LightGBM] [Info] Auto-choosing col-wise multi-threading, the overhead of testing was 0.025826 seconds.\n",
      "You can set `force_col_wise=true` to remove the overhead.\n",
      "[LightGBM] [Info] Total Bins 95122\n",
      "[LightGBM] [Info] Number of data points in the train set: 14940, number of used features: 569\n",
      "[LightGBM] [Info] [binary:BoostFromScore]: pavg=0.393173 -> initscore=-0.433995\n",
      "[LightGBM] [Info] Start training from score -0.433995\n"
     ]
    },
    {
     "data": {
      "text/html": [
       "<style>#sk-container-id-2 {\n",
       "  /* Definition of color scheme common for light and dark mode */\n",
       "  --sklearn-color-text: black;\n",
       "  --sklearn-color-line: gray;\n",
       "  /* Definition of color scheme for unfitted estimators */\n",
       "  --sklearn-color-unfitted-level-0: #fff5e6;\n",
       "  --sklearn-color-unfitted-level-1: #f6e4d2;\n",
       "  --sklearn-color-unfitted-level-2: #ffe0b3;\n",
       "  --sklearn-color-unfitted-level-3: chocolate;\n",
       "  /* Definition of color scheme for fitted estimators */\n",
       "  --sklearn-color-fitted-level-0: #f0f8ff;\n",
       "  --sklearn-color-fitted-level-1: #d4ebff;\n",
       "  --sklearn-color-fitted-level-2: #b3dbfd;\n",
       "  --sklearn-color-fitted-level-3: cornflowerblue;\n",
       "\n",
       "  /* Specific color for light theme */\n",
       "  --sklearn-color-text-on-default-background: var(--sg-text-color, var(--theme-code-foreground, var(--jp-content-font-color1, black)));\n",
       "  --sklearn-color-background: var(--sg-background-color, var(--theme-background, var(--jp-layout-color0, white)));\n",
       "  --sklearn-color-border-box: var(--sg-text-color, var(--theme-code-foreground, var(--jp-content-font-color1, black)));\n",
       "  --sklearn-color-icon: #696969;\n",
       "\n",
       "  @media (prefers-color-scheme: dark) {\n",
       "    /* Redefinition of color scheme for dark theme */\n",
       "    --sklearn-color-text-on-default-background: var(--sg-text-color, var(--theme-code-foreground, var(--jp-content-font-color1, white)));\n",
       "    --sklearn-color-background: var(--sg-background-color, var(--theme-background, var(--jp-layout-color0, #111)));\n",
       "    --sklearn-color-border-box: var(--sg-text-color, var(--theme-code-foreground, var(--jp-content-font-color1, white)));\n",
       "    --sklearn-color-icon: #878787;\n",
       "  }\n",
       "}\n",
       "\n",
       "#sk-container-id-2 {\n",
       "  color: var(--sklearn-color-text);\n",
       "}\n",
       "\n",
       "#sk-container-id-2 pre {\n",
       "  padding: 0;\n",
       "}\n",
       "\n",
       "#sk-container-id-2 input.sk-hidden--visually {\n",
       "  border: 0;\n",
       "  clip: rect(1px 1px 1px 1px);\n",
       "  clip: rect(1px, 1px, 1px, 1px);\n",
       "  height: 1px;\n",
       "  margin: -1px;\n",
       "  overflow: hidden;\n",
       "  padding: 0;\n",
       "  position: absolute;\n",
       "  width: 1px;\n",
       "}\n",
       "\n",
       "#sk-container-id-2 div.sk-dashed-wrapped {\n",
       "  border: 1px dashed var(--sklearn-color-line);\n",
       "  margin: 0 0.4em 0.5em 0.4em;\n",
       "  box-sizing: border-box;\n",
       "  padding-bottom: 0.4em;\n",
       "  background-color: var(--sklearn-color-background);\n",
       "}\n",
       "\n",
       "#sk-container-id-2 div.sk-container {\n",
       "  /* jupyter's `normalize.less` sets `[hidden] { display: none; }`\n",
       "     but bootstrap.min.css set `[hidden] { display: none !important; }`\n",
       "     so we also need the `!important` here to be able to override the\n",
       "     default hidden behavior on the sphinx rendered scikit-learn.org.\n",
       "     See: https://github.com/scikit-learn/scikit-learn/issues/21755 */\n",
       "  display: inline-block !important;\n",
       "  position: relative;\n",
       "}\n",
       "\n",
       "#sk-container-id-2 div.sk-text-repr-fallback {\n",
       "  display: none;\n",
       "}\n",
       "\n",
       "div.sk-parallel-item,\n",
       "div.sk-serial,\n",
       "div.sk-item {\n",
       "  /* draw centered vertical line to link estimators */\n",
       "  background-image: linear-gradient(var(--sklearn-color-text-on-default-background), var(--sklearn-color-text-on-default-background));\n",
       "  background-size: 2px 100%;\n",
       "  background-repeat: no-repeat;\n",
       "  background-position: center center;\n",
       "}\n",
       "\n",
       "/* Parallel-specific style estimator block */\n",
       "\n",
       "#sk-container-id-2 div.sk-parallel-item::after {\n",
       "  content: \"\";\n",
       "  width: 100%;\n",
       "  border-bottom: 2px solid var(--sklearn-color-text-on-default-background);\n",
       "  flex-grow: 1;\n",
       "}\n",
       "\n",
       "#sk-container-id-2 div.sk-parallel {\n",
       "  display: flex;\n",
       "  align-items: stretch;\n",
       "  justify-content: center;\n",
       "  background-color: var(--sklearn-color-background);\n",
       "  position: relative;\n",
       "}\n",
       "\n",
       "#sk-container-id-2 div.sk-parallel-item {\n",
       "  display: flex;\n",
       "  flex-direction: column;\n",
       "}\n",
       "\n",
       "#sk-container-id-2 div.sk-parallel-item:first-child::after {\n",
       "  align-self: flex-end;\n",
       "  width: 50%;\n",
       "}\n",
       "\n",
       "#sk-container-id-2 div.sk-parallel-item:last-child::after {\n",
       "  align-self: flex-start;\n",
       "  width: 50%;\n",
       "}\n",
       "\n",
       "#sk-container-id-2 div.sk-parallel-item:only-child::after {\n",
       "  width: 0;\n",
       "}\n",
       "\n",
       "/* Serial-specific style estimator block */\n",
       "\n",
       "#sk-container-id-2 div.sk-serial {\n",
       "  display: flex;\n",
       "  flex-direction: column;\n",
       "  align-items: center;\n",
       "  background-color: var(--sklearn-color-background);\n",
       "  padding-right: 1em;\n",
       "  padding-left: 1em;\n",
       "}\n",
       "\n",
       "\n",
       "/* Toggleable style: style used for estimator/Pipeline/ColumnTransformer box that is\n",
       "clickable and can be expanded/collapsed.\n",
       "- Pipeline and ColumnTransformer use this feature and define the default style\n",
       "- Estimators will overwrite some part of the style using the `sk-estimator` class\n",
       "*/\n",
       "\n",
       "/* Pipeline and ColumnTransformer style (default) */\n",
       "\n",
       "#sk-container-id-2 div.sk-toggleable {\n",
       "  /* Default theme specific background. It is overwritten whether we have a\n",
       "  specific estimator or a Pipeline/ColumnTransformer */\n",
       "  background-color: var(--sklearn-color-background);\n",
       "}\n",
       "\n",
       "/* Toggleable label */\n",
       "#sk-container-id-2 label.sk-toggleable__label {\n",
       "  cursor: pointer;\n",
       "  display: block;\n",
       "  width: 100%;\n",
       "  margin-bottom: 0;\n",
       "  padding: 0.5em;\n",
       "  box-sizing: border-box;\n",
       "  text-align: center;\n",
       "}\n",
       "\n",
       "#sk-container-id-2 label.sk-toggleable__label-arrow:before {\n",
       "  /* Arrow on the left of the label */\n",
       "  content: \"▸\";\n",
       "  float: left;\n",
       "  margin-right: 0.25em;\n",
       "  color: var(--sklearn-color-icon);\n",
       "}\n",
       "\n",
       "#sk-container-id-2 label.sk-toggleable__label-arrow:hover:before {\n",
       "  color: var(--sklearn-color-text);\n",
       "}\n",
       "\n",
       "/* Toggleable content - dropdown */\n",
       "\n",
       "#sk-container-id-2 div.sk-toggleable__content {\n",
       "  max-height: 0;\n",
       "  max-width: 0;\n",
       "  overflow: hidden;\n",
       "  text-align: left;\n",
       "  /* unfitted */\n",
       "  background-color: var(--sklearn-color-unfitted-level-0);\n",
       "}\n",
       "\n",
       "#sk-container-id-2 div.sk-toggleable__content.fitted {\n",
       "  /* fitted */\n",
       "  background-color: var(--sklearn-color-fitted-level-0);\n",
       "}\n",
       "\n",
       "#sk-container-id-2 div.sk-toggleable__content pre {\n",
       "  margin: 0.2em;\n",
       "  border-radius: 0.25em;\n",
       "  color: var(--sklearn-color-text);\n",
       "  /* unfitted */\n",
       "  background-color: var(--sklearn-color-unfitted-level-0);\n",
       "}\n",
       "\n",
       "#sk-container-id-2 div.sk-toggleable__content.fitted pre {\n",
       "  /* unfitted */\n",
       "  background-color: var(--sklearn-color-fitted-level-0);\n",
       "}\n",
       "\n",
       "#sk-container-id-2 input.sk-toggleable__control:checked~div.sk-toggleable__content {\n",
       "  /* Expand drop-down */\n",
       "  max-height: 200px;\n",
       "  max-width: 100%;\n",
       "  overflow: auto;\n",
       "}\n",
       "\n",
       "#sk-container-id-2 input.sk-toggleable__control:checked~label.sk-toggleable__label-arrow:before {\n",
       "  content: \"▾\";\n",
       "}\n",
       "\n",
       "/* Pipeline/ColumnTransformer-specific style */\n",
       "\n",
       "#sk-container-id-2 div.sk-label input.sk-toggleable__control:checked~label.sk-toggleable__label {\n",
       "  color: var(--sklearn-color-text);\n",
       "  background-color: var(--sklearn-color-unfitted-level-2);\n",
       "}\n",
       "\n",
       "#sk-container-id-2 div.sk-label.fitted input.sk-toggleable__control:checked~label.sk-toggleable__label {\n",
       "  background-color: var(--sklearn-color-fitted-level-2);\n",
       "}\n",
       "\n",
       "/* Estimator-specific style */\n",
       "\n",
       "/* Colorize estimator box */\n",
       "#sk-container-id-2 div.sk-estimator input.sk-toggleable__control:checked~label.sk-toggleable__label {\n",
       "  /* unfitted */\n",
       "  background-color: var(--sklearn-color-unfitted-level-2);\n",
       "}\n",
       "\n",
       "#sk-container-id-2 div.sk-estimator.fitted input.sk-toggleable__control:checked~label.sk-toggleable__label {\n",
       "  /* fitted */\n",
       "  background-color: var(--sklearn-color-fitted-level-2);\n",
       "}\n",
       "\n",
       "#sk-container-id-2 div.sk-label label.sk-toggleable__label,\n",
       "#sk-container-id-2 div.sk-label label {\n",
       "  /* The background is the default theme color */\n",
       "  color: var(--sklearn-color-text-on-default-background);\n",
       "}\n",
       "\n",
       "/* On hover, darken the color of the background */\n",
       "#sk-container-id-2 div.sk-label:hover label.sk-toggleable__label {\n",
       "  color: var(--sklearn-color-text);\n",
       "  background-color: var(--sklearn-color-unfitted-level-2);\n",
       "}\n",
       "\n",
       "/* Label box, darken color on hover, fitted */\n",
       "#sk-container-id-2 div.sk-label.fitted:hover label.sk-toggleable__label.fitted {\n",
       "  color: var(--sklearn-color-text);\n",
       "  background-color: var(--sklearn-color-fitted-level-2);\n",
       "}\n",
       "\n",
       "/* Estimator label */\n",
       "\n",
       "#sk-container-id-2 div.sk-label label {\n",
       "  font-family: monospace;\n",
       "  font-weight: bold;\n",
       "  display: inline-block;\n",
       "  line-height: 1.2em;\n",
       "}\n",
       "\n",
       "#sk-container-id-2 div.sk-label-container {\n",
       "  text-align: center;\n",
       "}\n",
       "\n",
       "/* Estimator-specific */\n",
       "#sk-container-id-2 div.sk-estimator {\n",
       "  font-family: monospace;\n",
       "  border: 1px dotted var(--sklearn-color-border-box);\n",
       "  border-radius: 0.25em;\n",
       "  box-sizing: border-box;\n",
       "  margin-bottom: 0.5em;\n",
       "  /* unfitted */\n",
       "  background-color: var(--sklearn-color-unfitted-level-0);\n",
       "}\n",
       "\n",
       "#sk-container-id-2 div.sk-estimator.fitted {\n",
       "  /* fitted */\n",
       "  background-color: var(--sklearn-color-fitted-level-0);\n",
       "}\n",
       "\n",
       "/* on hover */\n",
       "#sk-container-id-2 div.sk-estimator:hover {\n",
       "  /* unfitted */\n",
       "  background-color: var(--sklearn-color-unfitted-level-2);\n",
       "}\n",
       "\n",
       "#sk-container-id-2 div.sk-estimator.fitted:hover {\n",
       "  /* fitted */\n",
       "  background-color: var(--sklearn-color-fitted-level-2);\n",
       "}\n",
       "\n",
       "/* Specification for estimator info (e.g. \"i\" and \"?\") */\n",
       "\n",
       "/* Common style for \"i\" and \"?\" */\n",
       "\n",
       ".sk-estimator-doc-link,\n",
       "a:link.sk-estimator-doc-link,\n",
       "a:visited.sk-estimator-doc-link {\n",
       "  float: right;\n",
       "  font-size: smaller;\n",
       "  line-height: 1em;\n",
       "  font-family: monospace;\n",
       "  background-color: var(--sklearn-color-background);\n",
       "  border-radius: 1em;\n",
       "  height: 1em;\n",
       "  width: 1em;\n",
       "  text-decoration: none !important;\n",
       "  margin-left: 1ex;\n",
       "  /* unfitted */\n",
       "  border: var(--sklearn-color-unfitted-level-1) 1pt solid;\n",
       "  color: var(--sklearn-color-unfitted-level-1);\n",
       "}\n",
       "\n",
       ".sk-estimator-doc-link.fitted,\n",
       "a:link.sk-estimator-doc-link.fitted,\n",
       "a:visited.sk-estimator-doc-link.fitted {\n",
       "  /* fitted */\n",
       "  border: var(--sklearn-color-fitted-level-1) 1pt solid;\n",
       "  color: var(--sklearn-color-fitted-level-1);\n",
       "}\n",
       "\n",
       "/* On hover */\n",
       "div.sk-estimator:hover .sk-estimator-doc-link:hover,\n",
       ".sk-estimator-doc-link:hover,\n",
       "div.sk-label-container:hover .sk-estimator-doc-link:hover,\n",
       ".sk-estimator-doc-link:hover {\n",
       "  /* unfitted */\n",
       "  background-color: var(--sklearn-color-unfitted-level-3);\n",
       "  color: var(--sklearn-color-background);\n",
       "  text-decoration: none;\n",
       "}\n",
       "\n",
       "div.sk-estimator.fitted:hover .sk-estimator-doc-link.fitted:hover,\n",
       ".sk-estimator-doc-link.fitted:hover,\n",
       "div.sk-label-container:hover .sk-estimator-doc-link.fitted:hover,\n",
       ".sk-estimator-doc-link.fitted:hover {\n",
       "  /* fitted */\n",
       "  background-color: var(--sklearn-color-fitted-level-3);\n",
       "  color: var(--sklearn-color-background);\n",
       "  text-decoration: none;\n",
       "}\n",
       "\n",
       "/* Span, style for the box shown on hovering the info icon */\n",
       ".sk-estimator-doc-link span {\n",
       "  display: none;\n",
       "  z-index: 9999;\n",
       "  position: relative;\n",
       "  font-weight: normal;\n",
       "  right: .2ex;\n",
       "  padding: .5ex;\n",
       "  margin: .5ex;\n",
       "  width: min-content;\n",
       "  min-width: 20ex;\n",
       "  max-width: 50ex;\n",
       "  color: var(--sklearn-color-text);\n",
       "  box-shadow: 2pt 2pt 4pt #999;\n",
       "  /* unfitted */\n",
       "  background: var(--sklearn-color-unfitted-level-0);\n",
       "  border: .5pt solid var(--sklearn-color-unfitted-level-3);\n",
       "}\n",
       "\n",
       ".sk-estimator-doc-link.fitted span {\n",
       "  /* fitted */\n",
       "  background: var(--sklearn-color-fitted-level-0);\n",
       "  border: var(--sklearn-color-fitted-level-3);\n",
       "}\n",
       "\n",
       ".sk-estimator-doc-link:hover span {\n",
       "  display: block;\n",
       "}\n",
       "\n",
       "/* \"?\"-specific style due to the `<a>` HTML tag */\n",
       "\n",
       "#sk-container-id-2 a.estimator_doc_link {\n",
       "  float: right;\n",
       "  font-size: 1rem;\n",
       "  line-height: 1em;\n",
       "  font-family: monospace;\n",
       "  background-color: var(--sklearn-color-background);\n",
       "  border-radius: 1rem;\n",
       "  height: 1rem;\n",
       "  width: 1rem;\n",
       "  text-decoration: none;\n",
       "  /* unfitted */\n",
       "  color: var(--sklearn-color-unfitted-level-1);\n",
       "  border: var(--sklearn-color-unfitted-level-1) 1pt solid;\n",
       "}\n",
       "\n",
       "#sk-container-id-2 a.estimator_doc_link.fitted {\n",
       "  /* fitted */\n",
       "  border: var(--sklearn-color-fitted-level-1) 1pt solid;\n",
       "  color: var(--sklearn-color-fitted-level-1);\n",
       "}\n",
       "\n",
       "/* On hover */\n",
       "#sk-container-id-2 a.estimator_doc_link:hover {\n",
       "  /* unfitted */\n",
       "  background-color: var(--sklearn-color-unfitted-level-3);\n",
       "  color: var(--sklearn-color-background);\n",
       "  text-decoration: none;\n",
       "}\n",
       "\n",
       "#sk-container-id-2 a.estimator_doc_link.fitted:hover {\n",
       "  /* fitted */\n",
       "  background-color: var(--sklearn-color-fitted-level-3);\n",
       "}\n",
       "</style><div id=\"sk-container-id-2\" class=\"sk-top-container\"><div class=\"sk-text-repr-fallback\"><pre>LGBMClassifier(random_state=42)</pre><b>In a Jupyter environment, please rerun this cell to show the HTML representation or trust the notebook. <br />On GitHub, the HTML representation is unable to render, please try loading this page with nbviewer.org.</b></div><div class=\"sk-container\" hidden><div class=\"sk-item\"><div class=\"sk-estimator fitted sk-toggleable\"><input class=\"sk-toggleable__control sk-hidden--visually\" id=\"sk-estimator-id-2\" type=\"checkbox\" checked><label for=\"sk-estimator-id-2\" class=\"sk-toggleable__label fitted sk-toggleable__label-arrow fitted\">&nbsp;LGBMClassifier<span class=\"sk-estimator-doc-link fitted\">i<span>Fitted</span></span></label><div class=\"sk-toggleable__content fitted\"><pre>LGBMClassifier(random_state=42)</pre></div> </div></div></div></div>"
      ],
      "text/plain": [
       "LGBMClassifier(random_state=42)"
      ]
     },
     "execution_count": 402,
     "metadata": {},
     "output_type": "execute_result"
    }
   ],
   "source": [
    "from lightgbm import LGBMClassifier\n",
    "\n",
    "model = LGBMClassifier(random_state=SEED)\n",
    "model.fit(train_ft, target)"
   ]
  },
  {
   "cell_type": "markdown",
   "metadata": {
    "id": "rXinfWehVH4-"
   },
   "source": [
    "# cv 점수 확인해보기"
   ]
  },
  {
   "cell_type": "code",
   "execution_count": 559,
   "metadata": {
    "executionInfo": {
     "elapsed": 300,
     "status": "ok",
     "timestamp": 1730269772663,
     "user": {
      "displayName": "koeyhi",
      "userId": "08049178071858703986"
     },
     "user_tz": -540
    },
    "id": "9zdzXYwOVSgV"
   },
   "outputs": [],
   "source": [
    "from sklearn.model_selection import cross_val_score\n",
    "from sklearn.model_selection import StratifiedKFold\n",
    "\n",
    "cv = StratifiedKFold(n_splits=5, shuffle=True, random_state=SEED)"
   ]
  },
  {
   "cell_type": "code",
   "execution_count": 403,
   "metadata": {
    "colab": {
     "base_uri": "https://localhost:8080/"
    },
    "executionInfo": {
     "elapsed": 26039,
     "status": "ok",
     "timestamp": 1730269798701,
     "user": {
      "displayName": "koeyhi",
      "userId": "08049178071858703986"
     },
     "user_tz": -540
    },
    "id": "rY6xQ68PVGwP",
    "outputId": "e9425557-4602-4f8c-d99a-88cede732259"
   },
   "outputs": [
    {
     "data": {
      "text/plain": [
       "0.7227419655358533"
      ]
     },
     "execution_count": 403,
     "metadata": {},
     "output_type": "execute_result"
    }
   ],
   "source": [
    "from lightgbm import LGBMClassifier\n",
    "\n",
    "model = LGBMClassifier(random_state=SEED)\n",
    "scores = cross_val_score(model, train_ft, target, cv=cv, scoring=\"f1_macro\", n_jobs=-1)\n",
    "np.mean(scores)"
   ]
  },
  {
   "cell_type": "markdown",
   "metadata": {
    "id": "tUfajgtxVdte"
   },
   "source": [
    "# 모델 학습"
   ]
  },
  {
   "cell_type": "code",
   "execution_count": 120,
   "metadata": {
    "colab": {
     "base_uri": "https://localhost:8080/",
     "height": 218
    },
    "executionInfo": {
     "elapsed": 4442,
     "status": "ok",
     "timestamp": 1730269803135,
     "user": {
      "displayName": "koeyhi",
      "userId": "08049178071858703986"
     },
     "user_tz": -540
    },
    "id": "16GsDHp0VGtd",
    "outputId": "e60fea51-bc60-4385-c762-bdb1ee1408d9"
   },
   "outputs": [
    {
     "name": "stdout",
     "output_type": "stream",
     "text": [
      "[LightGBM] [Info] Number of positive: 5874, number of negative: 9066\n",
      "[LightGBM] [Info] Auto-choosing col-wise multi-threading, the overhead of testing was 0.034294 seconds.\n",
      "You can set `force_col_wise=true` to remove the overhead.\n",
      "[LightGBM] [Info] Total Bins 95122\n",
      "[LightGBM] [Info] Number of data points in the train set: 14940, number of used features: 569\n",
      "[LightGBM] [Info] [binary:BoostFromScore]: pavg=0.393173 -> initscore=-0.433995\n",
      "[LightGBM] [Info] Start training from score -0.433995\n"
     ]
    },
    {
     "data": {
      "text/html": [
       "<style>#sk-container-id-1 {\n",
       "  /* Definition of color scheme common for light and dark mode */\n",
       "  --sklearn-color-text: black;\n",
       "  --sklearn-color-line: gray;\n",
       "  /* Definition of color scheme for unfitted estimators */\n",
       "  --sklearn-color-unfitted-level-0: #fff5e6;\n",
       "  --sklearn-color-unfitted-level-1: #f6e4d2;\n",
       "  --sklearn-color-unfitted-level-2: #ffe0b3;\n",
       "  --sklearn-color-unfitted-level-3: chocolate;\n",
       "  /* Definition of color scheme for fitted estimators */\n",
       "  --sklearn-color-fitted-level-0: #f0f8ff;\n",
       "  --sklearn-color-fitted-level-1: #d4ebff;\n",
       "  --sklearn-color-fitted-level-2: #b3dbfd;\n",
       "  --sklearn-color-fitted-level-3: cornflowerblue;\n",
       "\n",
       "  /* Specific color for light theme */\n",
       "  --sklearn-color-text-on-default-background: var(--sg-text-color, var(--theme-code-foreground, var(--jp-content-font-color1, black)));\n",
       "  --sklearn-color-background: var(--sg-background-color, var(--theme-background, var(--jp-layout-color0, white)));\n",
       "  --sklearn-color-border-box: var(--sg-text-color, var(--theme-code-foreground, var(--jp-content-font-color1, black)));\n",
       "  --sklearn-color-icon: #696969;\n",
       "\n",
       "  @media (prefers-color-scheme: dark) {\n",
       "    /* Redefinition of color scheme for dark theme */\n",
       "    --sklearn-color-text-on-default-background: var(--sg-text-color, var(--theme-code-foreground, var(--jp-content-font-color1, white)));\n",
       "    --sklearn-color-background: var(--sg-background-color, var(--theme-background, var(--jp-layout-color0, #111)));\n",
       "    --sklearn-color-border-box: var(--sg-text-color, var(--theme-code-foreground, var(--jp-content-font-color1, white)));\n",
       "    --sklearn-color-icon: #878787;\n",
       "  }\n",
       "}\n",
       "\n",
       "#sk-container-id-1 {\n",
       "  color: var(--sklearn-color-text);\n",
       "}\n",
       "\n",
       "#sk-container-id-1 pre {\n",
       "  padding: 0;\n",
       "}\n",
       "\n",
       "#sk-container-id-1 input.sk-hidden--visually {\n",
       "  border: 0;\n",
       "  clip: rect(1px 1px 1px 1px);\n",
       "  clip: rect(1px, 1px, 1px, 1px);\n",
       "  height: 1px;\n",
       "  margin: -1px;\n",
       "  overflow: hidden;\n",
       "  padding: 0;\n",
       "  position: absolute;\n",
       "  width: 1px;\n",
       "}\n",
       "\n",
       "#sk-container-id-1 div.sk-dashed-wrapped {\n",
       "  border: 1px dashed var(--sklearn-color-line);\n",
       "  margin: 0 0.4em 0.5em 0.4em;\n",
       "  box-sizing: border-box;\n",
       "  padding-bottom: 0.4em;\n",
       "  background-color: var(--sklearn-color-background);\n",
       "}\n",
       "\n",
       "#sk-container-id-1 div.sk-container {\n",
       "  /* jupyter's `normalize.less` sets `[hidden] { display: none; }`\n",
       "     but bootstrap.min.css set `[hidden] { display: none !important; }`\n",
       "     so we also need the `!important` here to be able to override the\n",
       "     default hidden behavior on the sphinx rendered scikit-learn.org.\n",
       "     See: https://github.com/scikit-learn/scikit-learn/issues/21755 */\n",
       "  display: inline-block !important;\n",
       "  position: relative;\n",
       "}\n",
       "\n",
       "#sk-container-id-1 div.sk-text-repr-fallback {\n",
       "  display: none;\n",
       "}\n",
       "\n",
       "div.sk-parallel-item,\n",
       "div.sk-serial,\n",
       "div.sk-item {\n",
       "  /* draw centered vertical line to link estimators */\n",
       "  background-image: linear-gradient(var(--sklearn-color-text-on-default-background), var(--sklearn-color-text-on-default-background));\n",
       "  background-size: 2px 100%;\n",
       "  background-repeat: no-repeat;\n",
       "  background-position: center center;\n",
       "}\n",
       "\n",
       "/* Parallel-specific style estimator block */\n",
       "\n",
       "#sk-container-id-1 div.sk-parallel-item::after {\n",
       "  content: \"\";\n",
       "  width: 100%;\n",
       "  border-bottom: 2px solid var(--sklearn-color-text-on-default-background);\n",
       "  flex-grow: 1;\n",
       "}\n",
       "\n",
       "#sk-container-id-1 div.sk-parallel {\n",
       "  display: flex;\n",
       "  align-items: stretch;\n",
       "  justify-content: center;\n",
       "  background-color: var(--sklearn-color-background);\n",
       "  position: relative;\n",
       "}\n",
       "\n",
       "#sk-container-id-1 div.sk-parallel-item {\n",
       "  display: flex;\n",
       "  flex-direction: column;\n",
       "}\n",
       "\n",
       "#sk-container-id-1 div.sk-parallel-item:first-child::after {\n",
       "  align-self: flex-end;\n",
       "  width: 50%;\n",
       "}\n",
       "\n",
       "#sk-container-id-1 div.sk-parallel-item:last-child::after {\n",
       "  align-self: flex-start;\n",
       "  width: 50%;\n",
       "}\n",
       "\n",
       "#sk-container-id-1 div.sk-parallel-item:only-child::after {\n",
       "  width: 0;\n",
       "}\n",
       "\n",
       "/* Serial-specific style estimator block */\n",
       "\n",
       "#sk-container-id-1 div.sk-serial {\n",
       "  display: flex;\n",
       "  flex-direction: column;\n",
       "  align-items: center;\n",
       "  background-color: var(--sklearn-color-background);\n",
       "  padding-right: 1em;\n",
       "  padding-left: 1em;\n",
       "}\n",
       "\n",
       "\n",
       "/* Toggleable style: style used for estimator/Pipeline/ColumnTransformer box that is\n",
       "clickable and can be expanded/collapsed.\n",
       "- Pipeline and ColumnTransformer use this feature and define the default style\n",
       "- Estimators will overwrite some part of the style using the `sk-estimator` class\n",
       "*/\n",
       "\n",
       "/* Pipeline and ColumnTransformer style (default) */\n",
       "\n",
       "#sk-container-id-1 div.sk-toggleable {\n",
       "  /* Default theme specific background. It is overwritten whether we have a\n",
       "  specific estimator or a Pipeline/ColumnTransformer */\n",
       "  background-color: var(--sklearn-color-background);\n",
       "}\n",
       "\n",
       "/* Toggleable label */\n",
       "#sk-container-id-1 label.sk-toggleable__label {\n",
       "  cursor: pointer;\n",
       "  display: block;\n",
       "  width: 100%;\n",
       "  margin-bottom: 0;\n",
       "  padding: 0.5em;\n",
       "  box-sizing: border-box;\n",
       "  text-align: center;\n",
       "}\n",
       "\n",
       "#sk-container-id-1 label.sk-toggleable__label-arrow:before {\n",
       "  /* Arrow on the left of the label */\n",
       "  content: \"▸\";\n",
       "  float: left;\n",
       "  margin-right: 0.25em;\n",
       "  color: var(--sklearn-color-icon);\n",
       "}\n",
       "\n",
       "#sk-container-id-1 label.sk-toggleable__label-arrow:hover:before {\n",
       "  color: var(--sklearn-color-text);\n",
       "}\n",
       "\n",
       "/* Toggleable content - dropdown */\n",
       "\n",
       "#sk-container-id-1 div.sk-toggleable__content {\n",
       "  max-height: 0;\n",
       "  max-width: 0;\n",
       "  overflow: hidden;\n",
       "  text-align: left;\n",
       "  /* unfitted */\n",
       "  background-color: var(--sklearn-color-unfitted-level-0);\n",
       "}\n",
       "\n",
       "#sk-container-id-1 div.sk-toggleable__content.fitted {\n",
       "  /* fitted */\n",
       "  background-color: var(--sklearn-color-fitted-level-0);\n",
       "}\n",
       "\n",
       "#sk-container-id-1 div.sk-toggleable__content pre {\n",
       "  margin: 0.2em;\n",
       "  border-radius: 0.25em;\n",
       "  color: var(--sklearn-color-text);\n",
       "  /* unfitted */\n",
       "  background-color: var(--sklearn-color-unfitted-level-0);\n",
       "}\n",
       "\n",
       "#sk-container-id-1 div.sk-toggleable__content.fitted pre {\n",
       "  /* unfitted */\n",
       "  background-color: var(--sklearn-color-fitted-level-0);\n",
       "}\n",
       "\n",
       "#sk-container-id-1 input.sk-toggleable__control:checked~div.sk-toggleable__content {\n",
       "  /* Expand drop-down */\n",
       "  max-height: 200px;\n",
       "  max-width: 100%;\n",
       "  overflow: auto;\n",
       "}\n",
       "\n",
       "#sk-container-id-1 input.sk-toggleable__control:checked~label.sk-toggleable__label-arrow:before {\n",
       "  content: \"▾\";\n",
       "}\n",
       "\n",
       "/* Pipeline/ColumnTransformer-specific style */\n",
       "\n",
       "#sk-container-id-1 div.sk-label input.sk-toggleable__control:checked~label.sk-toggleable__label {\n",
       "  color: var(--sklearn-color-text);\n",
       "  background-color: var(--sklearn-color-unfitted-level-2);\n",
       "}\n",
       "\n",
       "#sk-container-id-1 div.sk-label.fitted input.sk-toggleable__control:checked~label.sk-toggleable__label {\n",
       "  background-color: var(--sklearn-color-fitted-level-2);\n",
       "}\n",
       "\n",
       "/* Estimator-specific style */\n",
       "\n",
       "/* Colorize estimator box */\n",
       "#sk-container-id-1 div.sk-estimator input.sk-toggleable__control:checked~label.sk-toggleable__label {\n",
       "  /* unfitted */\n",
       "  background-color: var(--sklearn-color-unfitted-level-2);\n",
       "}\n",
       "\n",
       "#sk-container-id-1 div.sk-estimator.fitted input.sk-toggleable__control:checked~label.sk-toggleable__label {\n",
       "  /* fitted */\n",
       "  background-color: var(--sklearn-color-fitted-level-2);\n",
       "}\n",
       "\n",
       "#sk-container-id-1 div.sk-label label.sk-toggleable__label,\n",
       "#sk-container-id-1 div.sk-label label {\n",
       "  /* The background is the default theme color */\n",
       "  color: var(--sklearn-color-text-on-default-background);\n",
       "}\n",
       "\n",
       "/* On hover, darken the color of the background */\n",
       "#sk-container-id-1 div.sk-label:hover label.sk-toggleable__label {\n",
       "  color: var(--sklearn-color-text);\n",
       "  background-color: var(--sklearn-color-unfitted-level-2);\n",
       "}\n",
       "\n",
       "/* Label box, darken color on hover, fitted */\n",
       "#sk-container-id-1 div.sk-label.fitted:hover label.sk-toggleable__label.fitted {\n",
       "  color: var(--sklearn-color-text);\n",
       "  background-color: var(--sklearn-color-fitted-level-2);\n",
       "}\n",
       "\n",
       "/* Estimator label */\n",
       "\n",
       "#sk-container-id-1 div.sk-label label {\n",
       "  font-family: monospace;\n",
       "  font-weight: bold;\n",
       "  display: inline-block;\n",
       "  line-height: 1.2em;\n",
       "}\n",
       "\n",
       "#sk-container-id-1 div.sk-label-container {\n",
       "  text-align: center;\n",
       "}\n",
       "\n",
       "/* Estimator-specific */\n",
       "#sk-container-id-1 div.sk-estimator {\n",
       "  font-family: monospace;\n",
       "  border: 1px dotted var(--sklearn-color-border-box);\n",
       "  border-radius: 0.25em;\n",
       "  box-sizing: border-box;\n",
       "  margin-bottom: 0.5em;\n",
       "  /* unfitted */\n",
       "  background-color: var(--sklearn-color-unfitted-level-0);\n",
       "}\n",
       "\n",
       "#sk-container-id-1 div.sk-estimator.fitted {\n",
       "  /* fitted */\n",
       "  background-color: var(--sklearn-color-fitted-level-0);\n",
       "}\n",
       "\n",
       "/* on hover */\n",
       "#sk-container-id-1 div.sk-estimator:hover {\n",
       "  /* unfitted */\n",
       "  background-color: var(--sklearn-color-unfitted-level-2);\n",
       "}\n",
       "\n",
       "#sk-container-id-1 div.sk-estimator.fitted:hover {\n",
       "  /* fitted */\n",
       "  background-color: var(--sklearn-color-fitted-level-2);\n",
       "}\n",
       "\n",
       "/* Specification for estimator info (e.g. \"i\" and \"?\") */\n",
       "\n",
       "/* Common style for \"i\" and \"?\" */\n",
       "\n",
       ".sk-estimator-doc-link,\n",
       "a:link.sk-estimator-doc-link,\n",
       "a:visited.sk-estimator-doc-link {\n",
       "  float: right;\n",
       "  font-size: smaller;\n",
       "  line-height: 1em;\n",
       "  font-family: monospace;\n",
       "  background-color: var(--sklearn-color-background);\n",
       "  border-radius: 1em;\n",
       "  height: 1em;\n",
       "  width: 1em;\n",
       "  text-decoration: none !important;\n",
       "  margin-left: 1ex;\n",
       "  /* unfitted */\n",
       "  border: var(--sklearn-color-unfitted-level-1) 1pt solid;\n",
       "  color: var(--sklearn-color-unfitted-level-1);\n",
       "}\n",
       "\n",
       ".sk-estimator-doc-link.fitted,\n",
       "a:link.sk-estimator-doc-link.fitted,\n",
       "a:visited.sk-estimator-doc-link.fitted {\n",
       "  /* fitted */\n",
       "  border: var(--sklearn-color-fitted-level-1) 1pt solid;\n",
       "  color: var(--sklearn-color-fitted-level-1);\n",
       "}\n",
       "\n",
       "/* On hover */\n",
       "div.sk-estimator:hover .sk-estimator-doc-link:hover,\n",
       ".sk-estimator-doc-link:hover,\n",
       "div.sk-label-container:hover .sk-estimator-doc-link:hover,\n",
       ".sk-estimator-doc-link:hover {\n",
       "  /* unfitted */\n",
       "  background-color: var(--sklearn-color-unfitted-level-3);\n",
       "  color: var(--sklearn-color-background);\n",
       "  text-decoration: none;\n",
       "}\n",
       "\n",
       "div.sk-estimator.fitted:hover .sk-estimator-doc-link.fitted:hover,\n",
       ".sk-estimator-doc-link.fitted:hover,\n",
       "div.sk-label-container:hover .sk-estimator-doc-link.fitted:hover,\n",
       ".sk-estimator-doc-link.fitted:hover {\n",
       "  /* fitted */\n",
       "  background-color: var(--sklearn-color-fitted-level-3);\n",
       "  color: var(--sklearn-color-background);\n",
       "  text-decoration: none;\n",
       "}\n",
       "\n",
       "/* Span, style for the box shown on hovering the info icon */\n",
       ".sk-estimator-doc-link span {\n",
       "  display: none;\n",
       "  z-index: 9999;\n",
       "  position: relative;\n",
       "  font-weight: normal;\n",
       "  right: .2ex;\n",
       "  padding: .5ex;\n",
       "  margin: .5ex;\n",
       "  width: min-content;\n",
       "  min-width: 20ex;\n",
       "  max-width: 50ex;\n",
       "  color: var(--sklearn-color-text);\n",
       "  box-shadow: 2pt 2pt 4pt #999;\n",
       "  /* unfitted */\n",
       "  background: var(--sklearn-color-unfitted-level-0);\n",
       "  border: .5pt solid var(--sklearn-color-unfitted-level-3);\n",
       "}\n",
       "\n",
       ".sk-estimator-doc-link.fitted span {\n",
       "  /* fitted */\n",
       "  background: var(--sklearn-color-fitted-level-0);\n",
       "  border: var(--sklearn-color-fitted-level-3);\n",
       "}\n",
       "\n",
       ".sk-estimator-doc-link:hover span {\n",
       "  display: block;\n",
       "}\n",
       "\n",
       "/* \"?\"-specific style due to the `<a>` HTML tag */\n",
       "\n",
       "#sk-container-id-1 a.estimator_doc_link {\n",
       "  float: right;\n",
       "  font-size: 1rem;\n",
       "  line-height: 1em;\n",
       "  font-family: monospace;\n",
       "  background-color: var(--sklearn-color-background);\n",
       "  border-radius: 1rem;\n",
       "  height: 1rem;\n",
       "  width: 1rem;\n",
       "  text-decoration: none;\n",
       "  /* unfitted */\n",
       "  color: var(--sklearn-color-unfitted-level-1);\n",
       "  border: var(--sklearn-color-unfitted-level-1) 1pt solid;\n",
       "}\n",
       "\n",
       "#sk-container-id-1 a.estimator_doc_link.fitted {\n",
       "  /* fitted */\n",
       "  border: var(--sklearn-color-fitted-level-1) 1pt solid;\n",
       "  color: var(--sklearn-color-fitted-level-1);\n",
       "}\n",
       "\n",
       "/* On hover */\n",
       "#sk-container-id-1 a.estimator_doc_link:hover {\n",
       "  /* unfitted */\n",
       "  background-color: var(--sklearn-color-unfitted-level-3);\n",
       "  color: var(--sklearn-color-background);\n",
       "  text-decoration: none;\n",
       "}\n",
       "\n",
       "#sk-container-id-1 a.estimator_doc_link.fitted:hover {\n",
       "  /* fitted */\n",
       "  background-color: var(--sklearn-color-fitted-level-3);\n",
       "}\n",
       "</style><div id=\"sk-container-id-1\" class=\"sk-top-container\"><div class=\"sk-text-repr-fallback\"><pre>LGBMClassifier(random_state=42)</pre><b>In a Jupyter environment, please rerun this cell to show the HTML representation or trust the notebook. <br />On GitHub, the HTML representation is unable to render, please try loading this page with nbviewer.org.</b></div><div class=\"sk-container\" hidden><div class=\"sk-item\"><div class=\"sk-estimator fitted sk-toggleable\"><input class=\"sk-toggleable__control sk-hidden--visually\" id=\"sk-estimator-id-1\" type=\"checkbox\" checked><label for=\"sk-estimator-id-1\" class=\"sk-toggleable__label fitted sk-toggleable__label-arrow fitted\">&nbsp;LGBMClassifier<span class=\"sk-estimator-doc-link fitted\">i<span>Fitted</span></span></label><div class=\"sk-toggleable__content fitted\"><pre>LGBMClassifier(random_state=42)</pre></div> </div></div></div></div>"
      ],
      "text/plain": [
       "LGBMClassifier(random_state=42)"
      ]
     },
     "execution_count": 120,
     "metadata": {},
     "output_type": "execute_result"
    }
   ],
   "source": [
    "model = LGBMClassifier(random_state=SEED)\n",
    "model.fit(train_ft,target)"
   ]
  },
  {
   "cell_type": "markdown",
   "metadata": {
    "id": "q-we55wPVkWP"
   },
   "source": [
    "# 테스트 데이터 예측"
   ]
  },
  {
   "cell_type": "code",
   "execution_count": 121,
   "metadata": {
    "colab": {
     "base_uri": "https://localhost:8080/"
    },
    "executionInfo": {
     "elapsed": 649,
     "status": "ok",
     "timestamp": 1730269803782,
     "user": {
      "displayName": "koeyhi",
      "userId": "08049178071858703986"
     },
     "user_tz": -540
    },
    "id": "Umn-CJl7VGqv",
    "outputId": "df6143ac-c67b-454b-c8a0-6509629fdbd6"
   },
   "outputs": [
    {
     "data": {
      "text/plain": [
       "array([0., 0., 0., ..., 0., 0., 0.])"
      ]
     },
     "execution_count": 121,
     "metadata": {},
     "output_type": "execute_result"
    }
   ],
   "source": [
    "pred = model.predict(test_ft)\n",
    "pred"
   ]
  },
  {
   "cell_type": "code",
   "execution_count": 563,
   "metadata": {
    "colab": {
     "base_uri": "https://localhost:8080/"
    },
    "executionInfo": {
     "elapsed": 661,
     "status": "ok",
     "timestamp": 1730270079154,
     "user": {
      "displayName": "koeyhi",
      "userId": "08049178071858703986"
     },
     "user_tz": -540
    },
    "id": "cGKD_ONhIfL_",
    "outputId": "4ab0c760-b63e-452b-c760-cfeaed1278aa"
   },
   "outputs": [],
   "source": [
    "# pred = model.predict_proba(test_ft)[:,1]\n",
    "# pred"
   ]
  },
  {
   "cell_type": "markdown",
   "metadata": {
    "id": "CcnCtcWPVrKn"
   },
   "source": [
    "# 평가를 위한 제출 파일 생성\n",
    "- 예측 결과를 target 컬럼에 넣어 csv 파일로 저장후에 제출한다."
   ]
  },
  {
   "cell_type": "code",
   "execution_count": 122,
   "metadata": {
    "colab": {
     "base_uri": "https://localhost:8080/",
     "height": 423
    },
    "executionInfo": {
     "elapsed": 349,
     "status": "ok",
     "timestamp": 1730270088012,
     "user": {
      "displayName": "koeyhi",
      "userId": "08049178071858703986"
     },
     "user_tz": -540
    },
    "id": "LLHqOugmVq_v",
    "outputId": "8f33a188-902f-4bce-c940-1ca59acb8f10"
   },
   "outputs": [
    {
     "data": {
      "text/html": [
       "<div>\n",
       "<style scoped>\n",
       "    .dataframe tbody tr th:only-of-type {\n",
       "        vertical-align: middle;\n",
       "    }\n",
       "\n",
       "    .dataframe tbody tr th {\n",
       "        vertical-align: top;\n",
       "    }\n",
       "\n",
       "    .dataframe thead th {\n",
       "        text-align: right;\n",
       "    }\n",
       "</style>\n",
       "<table border=\"1\" class=\"dataframe\">\n",
       "  <thead>\n",
       "    <tr style=\"text-align: right;\">\n",
       "      <th></th>\n",
       "      <th>ID</th>\n",
       "      <th>target</th>\n",
       "    </tr>\n",
       "  </thead>\n",
       "  <tbody>\n",
       "    <tr>\n",
       "      <th>0</th>\n",
       "      <td>test_0</td>\n",
       "      <td>0.0</td>\n",
       "    </tr>\n",
       "    <tr>\n",
       "      <th>1</th>\n",
       "      <td>test_1</td>\n",
       "      <td>0.0</td>\n",
       "    </tr>\n",
       "    <tr>\n",
       "      <th>2</th>\n",
       "      <td>test_2</td>\n",
       "      <td>0.0</td>\n",
       "    </tr>\n",
       "    <tr>\n",
       "      <th>3</th>\n",
       "      <td>test_3</td>\n",
       "      <td>1.0</td>\n",
       "    </tr>\n",
       "    <tr>\n",
       "      <th>4</th>\n",
       "      <td>test_4</td>\n",
       "      <td>1.0</td>\n",
       "    </tr>\n",
       "    <tr>\n",
       "      <th>...</th>\n",
       "      <td>...</td>\n",
       "      <td>...</td>\n",
       "    </tr>\n",
       "    <tr>\n",
       "      <th>12220</th>\n",
       "      <td>test_12220</td>\n",
       "      <td>1.0</td>\n",
       "    </tr>\n",
       "    <tr>\n",
       "      <th>12221</th>\n",
       "      <td>test_12221</td>\n",
       "      <td>0.0</td>\n",
       "    </tr>\n",
       "    <tr>\n",
       "      <th>12222</th>\n",
       "      <td>test_12222</td>\n",
       "      <td>0.0</td>\n",
       "    </tr>\n",
       "    <tr>\n",
       "      <th>12223</th>\n",
       "      <td>test_12223</td>\n",
       "      <td>0.0</td>\n",
       "    </tr>\n",
       "    <tr>\n",
       "      <th>12224</th>\n",
       "      <td>test_12224</td>\n",
       "      <td>0.0</td>\n",
       "    </tr>\n",
       "  </tbody>\n",
       "</table>\n",
       "<p>12225 rows × 2 columns</p>\n",
       "</div>"
      ],
      "text/plain": [
       "               ID  target\n",
       "0          test_0     0.0\n",
       "1          test_1     0.0\n",
       "2          test_2     0.0\n",
       "3          test_3     1.0\n",
       "4          test_4     1.0\n",
       "...           ...     ...\n",
       "12220  test_12220     1.0\n",
       "12221  test_12221     0.0\n",
       "12222  test_12222     0.0\n",
       "12223  test_12223     0.0\n",
       "12224  test_12224     0.0\n",
       "\n",
       "[12225 rows x 2 columns]"
      ]
     },
     "execution_count": 122,
     "metadata": {},
     "output_type": "execute_result"
    }
   ],
   "source": [
    "submit[\"target\"] = pred\n",
    "submit"
   ]
  },
  {
   "cell_type": "markdown",
   "metadata": {
    "id": "bjw87GeIV-BP"
   },
   "source": [
    "- 예측 결과를 csv 파일로 저장하여 제출"
   ]
  },
  {
   "cell_type": "code",
   "execution_count": 359,
   "metadata": {
    "executionInfo": {
     "elapsed": 16,
     "status": "ok",
     "timestamp": 1730269803783,
     "user": {
      "displayName": "koeyhi",
      "userId": "08049178071858703986"
     },
     "user_tz": -540
    },
    "id": "SsLTeJeoWBc_"
   },
   "outputs": [],
   "source": [
    "submit.to_csv(f\"{DATA_PATH}submit.csv\",index=False)"
   ]
  }
 ],
 "metadata": {
  "colab": {
   "provenance": []
  },
  "kernelspec": {
   "display_name": "Python 3",
   "name": "python3"
  },
  "language_info": {
   "codemirror_mode": {
    "name": "ipython",
    "version": 3
   },
   "file_extension": ".py",
   "mimetype": "text/x-python",
   "name": "python",
   "nbconvert_exporter": "python",
   "pygments_lexer": "ipython3",
   "version": "3.10.8"
  }
 },
 "nbformat": 4,
 "nbformat_minor": 0
}
